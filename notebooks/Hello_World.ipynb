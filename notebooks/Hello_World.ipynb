{
 "cells": [
  {
   "cell_type": "markdown",
   "metadata": {
    "slideshow": {
     "slide_type": "slide"
    }
   },
   "source": [
    "# Hello World\n",
    "\n",
    "In this tutorial we will: \n",
    "* Edit a notebook in the `jupyterlab` environment\n",
    "* Commit and push those changes back to a development branch, learning the DM Stack Club `git`/GitHub workflow."
   ]
  },
  {
   "cell_type": "markdown",
   "metadata": {
    "slideshow": {
     "slide_type": "subslide"
    }
   },
   "source": [
    "## Requirements\n",
    "You need to be looking at this notebook from within a `jupyterlab` environment. If you are, that means you have successfully started a terminal via the Launcher, and cloned the DMStackClub repo via `git clone git@github.com:LSSTScienceCollaborations/DMStackClub.git` (in this case, after adding your public SSH key to your GitHub profile)."
   ]
  },
  {
   "cell_type": "markdown",
   "metadata": {
    "slideshow": {
     "slide_type": "slide"
    }
   },
   "source": [
    "## Editing this Notebook\n",
    "Add a single code or markdown cell below, with a suitable message for the ages, including some sort of signature. This will make you famous."
   ]
  },
  {
   "cell_type": "code",
   "execution_count": null,
   "metadata": {
    "collapsed": true,
    "slideshow": {
     "slide_type": "-"
    }
   },
   "outputs": [],
   "source": [
    "# PJM: I like to write python code:\n",
    "print(\"Hello World\")"
   ]
  },
  {
   "cell_type": "markdown",
   "metadata": {
    "slideshow": {
     "slide_type": "slide"
    }
   },
   "source": [
    "## Contributing Your Work\n",
    "Now that you have improved this Notebook, you need to ask for your work to be included into the DM Stack Club library of community tutorials. Here's the recommended workflow:\n",
    "\n",
    "1. Check that this notebook runs without errors and clean out the outputs\n",
    "2. Commit your changes to a development branch\n",
    "3. Push your commits to a branch of the same name at GitHub.com\n",
    "4. Submit a Pull Request to the `master` branch"
   ]
  },
  {
   "cell_type": "markdown",
   "metadata": {
    "slideshow": {
     "slide_type": "slide"
    }
   },
   "source": [
    "### 1. Checking the Notebook\n",
    "\n",
    "From the menu bar, do:\n",
    "```\n",
    "Kernel -> Restart and Run All Cells\n",
    "```\n",
    "Then, if that worked OK, clean up the Notebook with\n",
    "```\n",
    "Kernel -> Restart and Clear All Outputs\n",
    "```\n",
    "The Notebook is now ready to commit."
   ]
  },
  {
   "cell_type": "markdown",
   "metadata": {
    "slideshow": {
     "slide_type": "slide"
    }
   },
   "source": [
    "### 2. Committing Your Changes\n",
    "\n",
    "First, make sure you are on a development branch with a `git status` in the terminal tab. If not, make one with something like this:\n",
    "```bash\n",
    "git checkout -b issue/11/hello-world-pjm\n",
    "```\n",
    "You may not be responding to an issue, so might want to name your branch differently. Here's an example history:\n",
    "```bash\n",
    "[drphilmarshall@jld-lab-drphilmarshall-r150 DMStackClub]$ git checkout -b issue/11/hello-world-pjm\n",
    "M       notebooks/Hello_World.ipynb\n",
    "Switched to a new branch 'issue/11/hello-world-pjm'\n",
    "[drphilmarshall@jld-lab-drphilmarshall-r150 DMStackClub]$ git status\n",
    "On branch issue/11/hello-world-pjm\n",
    "Changes not staged for commit:\n",
    "  (use \"git add <file>...\" to update what will be committed)\n",
    "  (use \"git checkout -- <file>...\" to discard changes in working directory)\n",
    "\n",
    "        modified:   notebooks/Hello_World.ipynb\n",
    "\n",
    "no changes added to commit (use \"git add\" and/or \"git commit -a\")\n",
    "```\n",
    "Now you are ready to commit, like this:\n",
    "```bash\n",
    "[drphilmarshall@jld-lab-drphilmarshall-r150 DMStackClub]$ git commit -am \"Notes on how to edit the Notebook\"\n",
    "[issue/11/hello-world-pjm 140240c] Notes on how to edit the Notebook\n",
    " 1 file changed, 193 insertions(+), 250 deletions(-)\n",
    " rewrite notebooks/Hello_World.ipynb (63%)\n",
    "```"
   ]
  },
  {
   "cell_type": "markdown",
   "metadata": {
    "slideshow": {
     "slide_type": "slide"
    }
   },
   "source": [
    "### 3. Pushing Your Commits\n",
    "Push to a corresponding branch on GitHub. DM Stack Club members have Write access to the base repo, so can push there. Others, you'll need to first fork the DMStackClub repo, and then push to your fork. Here's an example history:\n",
    "```bash\n",
    "[drphilmarshall@jld-lab-drphilmarshall-r150 DMStackClub]$ git push origin issue/11/hello-world-pjm\n",
    "Counting objects: 4, done.\n",
    "Delta compression using up to 2 threads.\n",
    "Compressing objects: 100% (3/3), done.\n",
    "Writing objects: 100% (4/4), 2.03 KiB | 0 bytes/s, done.\n",
    "Total 4 (delta 1), reused 0 (delta 0)\n",
    "remote: Resolving deltas: 100% (1/1), completed with 1 local object.\n",
    "To github.com:LSSTScienceCollaborations/DMStackClub.git\n",
    " * [new branch]      issue/11/hello-world-pjm -> issue/11/hello-world-pjm\n",
    "```"
   ]
  },
  {
   "cell_type": "markdown",
   "metadata": {
    "slideshow": {
     "slide_type": "slide"
    }
   },
   "source": [
    "### 4. Submitting a Pull Request\n",
    "The `master` branch is protected, to a) make sure we review our code and b) enable continuous integration and testing via travis-ci."
   ]
  },
  {
   "cell_type": "markdown",
   "metadata": {},
   "source": [
    "## Further Edits to this Notebook\n",
    "\n",
    "Here's where you should make your mark. Have fun!"
   ]
  },
  {
   "cell_type": "code",
   "execution_count": null,
   "metadata": {},
   "outputs": [],
   "source": [
    "! echo \"Phil was here!\""
   ]
  },
  {
   "cell_type": "code",
   "execution_count": 1,
   "metadata": {},
   "outputs": [
    {
     "name": "stdout",
     "output_type": "stream",
     "text": [
      "Alex was here\n"
     ]
    }
   ],
   "source": [
    "! echo \"Alex was here\""
   ]
  }
 ],
 "metadata": {
  "celltoolbar": "Slideshow",
  "kernelspec": {
   "display_name": "LSST_Stack (Python 3)",
   "language": "python",
   "name": "lsst_stack"
  },
  "language_info": {
   "codemirror_mode": {
    "name": "ipython",
    "version": 3
   },
   "file_extension": ".py",
   "mimetype": "text/x-python",
   "name": "python",
   "nbconvert_exporter": "python",
   "pygments_lexer": "ipython3",
   "version": "3.6.2"
  },
  "livereveal": {
   "scroll": true,
   "start_slideshow_at": "selected"
  }
 },
 "nbformat": 4,
 "nbformat_minor": 2
}
