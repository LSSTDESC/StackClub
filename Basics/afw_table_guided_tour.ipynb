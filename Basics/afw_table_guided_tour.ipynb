{
 "cells": [
  {
   "cell_type": "markdown",
   "metadata": {
    "slideshow": {
     "slide_type": "slide"
    }
   },
   "source": [
    "# afwTables: A Guided Tour\n",
    "<br>Owner(s): **Imran Hasan** ([@ih64](https://github.com/LSSTScienceCollaborations/StackClub/issues/new?body=@ih64))\n",
    "<br>Last Verified to Run: **2018-10-19**\n",
    "<br>Verified Stack Release: **16.0**\n",
    "\n",
    "Catalogs of astronomical objects and their many  measurements will be a primary data product that LSST provides. Queries of those catalogs will be the starting point for almost all LSST science analyses. On the way to filling the LSST database with these catalogs, the science pipelines will generate and manipulate a lot of internal tables; the python class that the Stack defines and uses for these tables is called an \"afwTable\". \n",
    "\n",
    "### Learning Objectives:\n",
    "\n",
    "After working through this tutorial you should be able to: \n",
    "1. Make a bare bones afw schema and table;\n",
    "2. Set and get values in a schema and table;\n",
    "3. Navigate large schemas;\n",
    "4. Read and write a source detection catalog table;\n",
    "5. Learn to use source detection catalog methods, and to avoid common pitfalls;\n",
    "6. Learn to use source match vectors.\n",
    "\n",
    "### Logistics\n",
    "This notebook is intended to be runnable on `lsst-lspdev.ncsa.illinois.edu` from a local git clone of https://github.com/LSSTScienceCollaborations/StackClub.\n",
    "\n",
    "## Set-up"
   ]
  },
  {
   "cell_type": "markdown",
   "metadata": {},
   "source": [
    "The next few cells give you some options for your \"Set-up\" section - you may not need them all."
   ]
  },
  {
   "cell_type": "markdown",
   "metadata": {},
   "source": [
    "We'll need the `stackclub` package to be installed. If you are not developing this package, you can install it using `pip`, like this:\n",
    "```\n",
    "pip install git+git://github.com/LSSTScienceCollaborations/StackClub.git#egg=stackclub\n",
    "```\n",
    "If you are developing the `stackclub` package (eg by adding modules to it to support the Stack Club tutorial that you are writing, you'll need to make a local, editable installation. In the top level folder of the `StackClub` repo, do:"
   ]
  },
  {
   "cell_type": "code",
   "execution_count": 1,
   "metadata": {},
   "outputs": [
    {
     "name": "stdout",
     "output_type": "stream",
     "text": [
      "/home/ishasan/lsst/StackClub/Basics\n"
     ]
    }
   ],
   "source": [
    "! cd .. && python setup.py -q develop --user && cd -"
   ]
  },
  {
   "cell_type": "markdown",
   "metadata": {},
   "source": [
    "When editing the `stackclub` package files, we want the latest version to be imported when we re-run the import command. To enable this, we need the %autoreload magic command."
   ]
  },
  {
   "cell_type": "code",
   "execution_count": 2,
   "metadata": {},
   "outputs": [],
   "source": [
    "%load_ext autoreload\n",
    "%autoreload 2"
   ]
  },
  {
   "cell_type": "markdown",
   "metadata": {
    "slideshow": {
     "slide_type": "slide"
    }
   },
   "source": [
    "You can find the Stack version that this notebook is running by using eups list -s on the terminal command line:"
   ]
  },
  {
   "cell_type": "code",
   "execution_count": 3,
   "metadata": {},
   "outputs": [
    {
     "name": "stdout",
     "output_type": "stream",
     "text": [
      "jld-lab-ishasan-r160\n",
      "lsst_distrib          16.0+1     \tcurrent v16_0 setup\n"
     ]
    }
   ],
   "source": [
    "# What version of the Stack am I using?\n",
    "! echo $HOSTNAME\n",
    "! eups list -s | grep lsst_distrib"
   ]
  },
  {
   "cell_type": "markdown",
   "metadata": {
    "slideshow": {
     "slide_type": "subslide"
    }
   },
   "source": [
    "For this tutorial we'll need the following modules:"
   ]
  },
  {
   "cell_type": "code",
   "execution_count": 4,
   "metadata": {},
   "outputs": [],
   "source": [
    "%matplotlib inline\n",
    "#%matplotlib ipympl\n",
    "\n",
    "import os\n",
    "import warnings\n",
    "import numpy as np\n",
    "import matplotlib as mpl\n",
    "import matplotlib.pyplot as plt\n",
    "plt.style.use('seaborn-poster')\n",
    "from IPython.display import IFrame, display, Markdown\n",
    "plt.style.use('seaborn-talk')"
   ]
  },
  {
   "cell_type": "code",
   "execution_count": 5,
   "metadata": {},
   "outputs": [],
   "source": [
    "plt.style.use('seaborn-talk')\n",
    "import lsst.daf.persistence as dafPersist\n",
    "import lsst.daf.base as dafBase\n",
    "import lsst.afw.geom as afwGeom\n",
    "import lsst.afw.table as afwTable\n",
    "from astropy.io import ascii"
   ]
  },
  {
   "cell_type": "code",
   "execution_count": 6,
   "metadata": {},
   "outputs": [],
   "source": [
    "# Filter some warnings printed by v16.0 of the stack\n",
    "# Courtesy of ADW\n",
    "warnings.simplefilter(\"ignore\", category=FutureWarning)\n",
    "warnings.simplefilter(\"ignore\", category=UserWarning)"
   ]
  },
  {
   "cell_type": "markdown",
   "metadata": {
    "slideshow": {
     "slide_type": "slide"
    }
   },
   "source": [
    "## Your first table\n",
    "\n",
    "To begin, we will make a bare-bones afw table so that we can clearly showcase some important concepts. First we will make the simplest possible table, by hand. While creating tables by hand will not likely be the standard use case, it is useful from a tutorial standpoint, as it will allow us to excercise some concepts one at a time"
   ]
  },
  {
   "cell_type": "code",
   "execution_count": 7,
   "metadata": {
    "slideshow": {
     "slide_type": "-"
    }
   },
   "outputs": [],
   "source": [
    "# afw tables need a schema to tell the table how its data are organized\n",
    "# Lets have a look at a simple schema:\n",
    "min_schema = afwTable.SourceTable.makeMinimalSchema()"
   ]
  },
  {
   "cell_type": "code",
   "execution_count": 8,
   "metadata": {},
   "outputs": [
    {
     "name": "stdout",
     "output_type": "stream",
     "text": [
      "Schema(\n",
      "    (Field['L'](name=\"id\", doc=\"unique ID\"), Key<L>(offset=0, nElements=1)),\n",
      "    (Field['Angle'](name=\"coord_ra\", doc=\"position in ra/dec\"), Key<Angle>(offset=8, nElements=1)),\n",
      "    (Field['Angle'](name=\"coord_dec\", doc=\"position in ra/dec\"), Key<Angle>(offset=16, nElements=1)),\n",
      "    (Field['L'](name=\"parent\", doc=\"unique ID of parent source\"), Key<L>(offset=24, nElements=1)),\n",
      ")\n",
      "\n"
     ]
    }
   ],
   "source": [
    "# But what is the schema exactly? Printing it out can be informative\n",
    "print(min_schema)"
   ]
  },
  {
   "cell_type": "markdown",
   "metadata": {},
   "source": [
    "Our schema contains 4 Fields: one for each celestial coordinate, an id that uniquely defines it, and a 'parent', which lists the id of the source this source was deblended from. We will deal with the parent column in more detail in a few cells, but for now you can ignore it.\n",
    "\n",
    "Each field has some accompanying information to go along with it. In addition to its name, we get a helpful docstring describing it. We also get the units that values for this field must have. For example, any value associated with the id key has to be a long integer, and all entries for celestial coordniates have to be instances of an Angle class. We will showcase the Angle class shortly.\n",
    "\n",
    "If printing out the schema gives you more information that you want, you can get the names. If the names are informative enough, this might be all you need."
   ]
  },
  {
   "cell_type": "code",
   "execution_count": 9,
   "metadata": {},
   "outputs": [
    {
     "data": {
      "text/plain": [
       "{'coord_dec', 'coord_ra', 'id', 'parent'}"
      ]
     },
     "execution_count": 9,
     "metadata": {},
     "output_type": "execute_result"
    }
   ],
   "source": [
    "min_schema.getNames()"
   ]
  },
  {
   "cell_type": "code",
   "execution_count": 10,
   "metadata": {},
   "outputs": [
    {
     "name": "stdout",
     "output_type": "stream",
     "text": [
      "Schema(\n",
      "    (Field['L'](name=\"id\", doc=\"unique ID\"), Key<L>(offset=0, nElements=1)),\n",
      "    (Field['Angle'](name=\"coord_ra\", doc=\"position in ra/dec\"), Key<Angle>(offset=8, nElements=1)),\n",
      "    (Field['Angle'](name=\"coord_dec\", doc=\"position in ra/dec\"), Key<Angle>(offset=16, nElements=1)),\n",
      "    (Field['L'](name=\"parent\", doc=\"unique ID of parent source\"), Key<L>(offset=24, nElements=1)),\n",
      "    (Field['F'](name=\"r_mag\", doc=\"r band flux\", units=\"mag\"), Key<F>(offset=32, nElements=1)),\n",
      ")\n",
      "\n"
     ]
    }
   ],
   "source": [
    "# We can also add another field to the schema, using a call pattern like this:\n",
    "min_schema.addField(\"r_mag\", type=np.float32, doc=\"r band flux\", units=\"mag\")\n",
    "# Lets make sure the field was added by printing out the schema once more:\n",
    "print(min_schema)"
   ]
  },
  {
   "cell_type": "markdown",
   "metadata": {},
   "source": [
    "Alternatively to getting the field names using the `getNames` method, you can also ask for a ordered list of names. In this case where our schema contains only 4 names, there is not a clear advantage. However, we will soon encounter schemas that contain many dozens of names. Sifting through a ordered list of these may be preferable. The ordering here is not alphabetical, but instead mirrors the ordering of these fields in the schema. You can check that is the case by comparing the ordering of output in the next cell to the one above"
   ]
  },
  {
   "cell_type": "code",
   "execution_count": 11,
   "metadata": {},
   "outputs": [
    {
     "data": {
      "text/plain": [
       "['id', 'coord_ra', 'coord_dec', 'parent', 'r_mag']"
      ]
     },
     "execution_count": 11,
     "metadata": {},
     "output_type": "execute_result"
    }
   ],
   "source": [
    "min_schema.getOrderedNames()"
   ]
  },
  {
   "cell_type": "markdown",
   "metadata": {},
   "source": [
    "> We pause here to point out some caveats. \n",
    "1. Schemas are append only. You can add new fields, but you cannot remove them. \n",
    "2. The units you use have to be understood by astropy. You can find a list of acceptable units at the bottom of this page http://docs.astropy.org/en/stable/units/index.html#module-astropy.units\n",
    "3. Specific types are allowed. The short and long of it is you may use floats, ints, longs, strings, Angle objects, and arrays. For more details you can go to the bottom of this page http://doxygen.lsst.codes/stack/doxygen/x_masterDoxyDoc/afw_table.html"
   ]
  },
  {
   "cell_type": "markdown",
   "metadata": {},
   "source": [
    "Now that we have a schema, we can use it to make a table.\n"
   ]
  },
  {
   "cell_type": "code",
   "execution_count": 12,
   "metadata": {},
   "outputs": [
    {
     "name": "stdout",
     "output_type": "stream",
     "text": [
      "our minimal table has 0 rows\n"
     ]
    }
   ],
   "source": [
    "min_table = afwTable.BaseCatalog(min_schema)\n",
    "# our table is empty, and we can check this by looking at its length\n",
    "print('our minimal table has {} rows'.format(len(min_table)))"
   ]
  },
  {
   "cell_type": "markdown",
   "metadata": {},
   "source": [
    "Now we will add some data to our minimal catalog. Catalogs are collections of 'records', which themselves contain data. Therefore, we must first create records, and hand those records over in turn to our Table. Records must adhere to the schema that the Table has, and so we must add data in field by field."
   ]
  },
  {
   "cell_type": "code",
   "execution_count": 13,
   "metadata": {},
   "outputs": [],
   "source": [
    "# make a new record.\n",
    "rec = min_table.addNew()"
   ]
  },
  {
   "cell_type": "code",
   "execution_count": 14,
   "metadata": {},
   "outputs": [
    {
     "data": {
      "text/plain": [
       "dict_keys(['id', 'coord_ra', 'coord_dec', 'parent', 'r_mag'])"
      ]
     },
     "execution_count": 14,
     "metadata": {},
     "output_type": "execute_result"
    }
   ],
   "source": [
    "# grab a hold of the keys for the record. We will use these to add data \n",
    "field_dict = min_schema.extract('*') #this returns a dictionary of all the fields\n",
    "field_dict.keys()"
   ]
  },
  {
   "cell_type": "code",
   "execution_count": 15,
   "metadata": {},
   "outputs": [],
   "source": [
    "# access the dictionary one field at a time, and grab each field's key. \n",
    "# note these are instances of a Key object, and not to be confused with python dictionary keys.\n",
    "id_key = field_dict['id'].key\n",
    "ra_key = field_dict['coord_ra'].key\n",
    "dec_key = field_dict['coord_dec'].key\n",
    "parent_key = field_dict['parent'].key\n",
    "r_mag_key = field_dict['r_mag'].key\n",
    "\n",
    "#use the keys to add data in our record\n",
    "rec.set(id_key, 1)\n",
    "rec.set(r_mag_key, 19.0)\n",
    "rec.set(ra_key, afwGeom.Angle(33.89, units=afwGeom.degrees))\n",
    "rec.set(dec_key, afwGeom.Angle(-42.1, units=afwGeom.degrees))\n",
    "rec.set(parent_key, 0)"
   ]
  },
  {
   "cell_type": "markdown",
   "metadata": {},
   "source": [
    "Notice to set the ra and dec, we needed to create `afwGeom.Angle` objects for them. _These are in units of radians by default._ To explicitly tell the object we want it to be in units of degrees, we passed the `afwGeom.dgrees` object in as a keyword argument. You can find more information on `afwGeom.Angle`s [here]( http://doxygen.lsst.codes/stack/doxygen/x_masterDoxyDoc/classlsst_1_1geom_1_1_angle.html)\n",
    "\n",
    "Additionally, we set the parent to zero. This means this record refers to the object before any deblending occoured. Lets look at our table now to see how it stands."
   ]
  },
  {
   "cell_type": "code",
   "execution_count": 16,
   "metadata": {},
   "outputs": [
    {
     "data": {
      "text/plain": [
       "<class 'lsst.afw.table.base.base.BaseCatalog'>\n",
       " id      coord_ra           coord_dec      parent r_mag\n",
       "           rad                 rad                 mag \n",
       "--- ------------------ ------------------- ------ -----\n",
       "  1 0.5914920835008783 -0.7347836150896128      0  19.0"
      ]
     },
     "execution_count": 16,
     "metadata": {},
     "output_type": "execute_result"
    }
   ],
   "source": [
    "min_table"
   ]
  },
  {
   "cell_type": "markdown",
   "metadata": {},
   "source": [
    "We will flesh out the parent column a bit more by adding our next record. Notice we can keep using the keys we defined above. Also notice our second record's parent is listed as 1. This means the object 2 was the result of being deblended from object 1, i.e. object 2 is a child object of object 1."
   ]
  },
  {
   "cell_type": "code",
   "execution_count": 17,
   "metadata": {},
   "outputs": [
    {
     "data": {
      "text/plain": [
       "<class 'lsst.afw.table.base.base.BaseCatalog'>\n",
       " id      coord_ra           coord_dec      parent r_mag\n",
       "           rad                 rad                 mag \n",
       "--- ------------------ ------------------- ------ -----\n",
       "  1 0.5914920835008783 -0.7347836150896128      0  19.0\n",
       "  2 0.5586798935633849  0.7417649320975901      1  18.5"
      ]
     },
     "execution_count": 17,
     "metadata": {},
     "output_type": "execute_result"
    }
   ],
   "source": [
    "rec = min_table.addNew()\n",
    "rec.set(id_key, 2)\n",
    "rec.set(r_mag_key, 18.5)\n",
    "rec.set(ra_key, afwGeom.Angle(32.01, units=afwGeom.degrees))\n",
    "rec.set(dec_key, afwGeom.Angle(42.5, units=afwGeom.degrees))\n",
    "rec.set(parent_key, 1)\n",
    "min_table"
   ]
  },
  {
   "cell_type": "markdown",
   "metadata": {},
   "source": [
    "One more caveat to note: in the output in the cell above, the table prints coordinates in radians by default"
   ]
  },
  {
   "cell_type": "code",
   "execution_count": 18,
   "metadata": {},
   "outputs": [],
   "source": [
    "# your turn. add one more record to our table\n",
    "\n"
   ]
  },
  {
   "cell_type": "code",
   "execution_count": 19,
   "metadata": {},
   "outputs": [
    {
     "data": {
      "text/plain": [
       "<class 'lsst.afw.table.base.base.BaseRecord'>\n",
       "id: 2\n",
       "coord_ra: 0.55868 rad\n",
       "coord_dec: 0.741765 rad\n",
       "parent: 1\n",
       "r_mag: 18.5"
      ]
     },
     "execution_count": 19,
     "metadata": {},
     "output_type": "execute_result"
    }
   ],
   "source": [
    "# now that we have multiple records in our table, we can select particular ones\n",
    "# tables support indexing\n",
    "min_table[1]"
   ]
  },
  {
   "cell_type": "code",
   "execution_count": 20,
   "metadata": {},
   "outputs": [
    {
     "name": "stdout",
     "output_type": "stream",
     "text": [
      "1\n",
      "2\n"
     ]
    }
   ],
   "source": [
    "# you may iterate over them too\n",
    "for rec in min_table:\n",
    "    print(rec.get(id_key))"
   ]
  },
  {
   "cell_type": "code",
   "execution_count": 21,
   "metadata": {},
   "outputs": [
    {
     "data": {
      "text/plain": [
       "2"
      ]
     },
     "execution_count": 21,
     "metadata": {},
     "output_type": "execute_result"
    }
   ],
   "source": [
    "# you can grab values from particular records by using our schema keys\n",
    "min_table[1].get(id_key)"
   ]
  },
  {
   "cell_type": "markdown",
   "metadata": {},
   "source": [
    "## Using source catalogs produced by DM\n",
    "\n",
    "A more typical use case will be to read in a catalog that is produced by a DM process. We will show how to read in and work with a source catalog from the Twinkles data in the following section. "
   ]
  },
  {
   "cell_type": "markdown",
   "metadata": {},
   "source": [
    "### Data access\n",
    "If you know the path to your source catalog, there is a quick way to read it in. However, it is often more powerful to use the 'data butler' to fetch data for you. The butler knows about camera geometry, sensor characteristics, where data are located, and so forth. Having this anciliary information on hand is often very useful. For completeness we will demonstrate both ways of reading in a source catalog, with the note that it is largely considered better practice to use the data butler. \n",
    "\n",
    "The data butler deserves a tutorial in its own right, and so we will defer further details on it until later. For now, you may think of it as an abstraction that allows you to quickly fetch catalogs for you. The user just needs to point the butler to where to look and what to look for."
   ]
  },
  {
   "cell_type": "code",
   "execution_count": 22,
   "metadata": {},
   "outputs": [],
   "source": [
    "# here's the quick and dirty way:\n",
    "file_path = '/project/shared/data/Twinkles_subset/output_data_v2/src/v235-fr/R22/S11.fits'\n",
    "source_cat = afwTable.SourceCatalog.readFits(file_path)"
   ]
  },
  {
   "cell_type": "code",
   "execution_count": 23,
   "metadata": {},
   "outputs": [],
   "source": [
    "# here's the way to get the same catalog with a butler:\n",
    "\n",
    "# first set up our butler by telling it to look at this twinkles directory\n",
    "butler = dafPersist.Butler('/project/shared/data/Twinkles_subset/output_data_v2')\n",
    "# now we put together a dataId that uniquely specifies a datum\n",
    "dataId = {'filter': 'r', 'raft': '2,2', 'sensor': '1,1', 'visit': 235}\n",
    "\n",
    "# use the dataId and the 'src' to get the source catalog. \n",
    "source_cat = butler.get('src', **dataId)"
   ]
  },
  {
   "cell_type": "markdown",
   "metadata": {},
   "source": [
    "A few comments are in order on questions you may be having about the butler, and the previous cell. First, there is no good way to know which `dataId`s exist. That means you have to know ahead of time which `dataId`s it makes sense to use. DM is working hard on fixing this. Second, the string `'src'` refers to a very specific data product in the DM philosophy, which is a catalog that contains _the results of different measurement algorithms on detected sources on an individual CCD image_. We will meet some other catalogs later in the tutorial. For now, lets get to know this `src` catalog."
   ]
  },
  {
   "cell_type": "markdown",
   "metadata": {},
   "source": [
    "### afw source catalog schemas"
   ]
  },
  {
   "cell_type": "code",
   "execution_count": 24,
   "metadata": {},
   "outputs": [
    {
     "data": {
      "text/plain": [
       "Schema(\n",
       "    (Field['L'](name=\"id\", doc=\"unique ID\"), Key<L>(offset=0, nElements=1)),\n",
       "    (Field['Angle'](name=\"coord_ra\", doc=\"position in ra/dec\"), Key<Angle>(offset=8, nElements=1)),\n",
       "    (Field['Angle'](name=\"coord_dec\", doc=\"position in ra/dec\"), Key<Angle>(offset=16, nElements=1)),\n",
       "    (Field['L'](name=\"parent\", doc=\"unique ID of parent source\"), Key<L>(offset=24, nElements=1)),\n",
       "    (Field['Flag'](name=\"calib_detected\", doc=\"Source was detected as an icSource\"), Key['Flag'](offset=32, bit=0)),\n",
       "    (Field['Flag'](name=\"calib_psfCandidate\", doc=\"Flag set if the source was a candidate for PSF determination, as determined by the star selector.\"), Key['Flag'](offset=32, bit=1)),\n",
       "    (Field['Flag'](name=\"calib_psfUsed\", doc=\"Flag set if the source was actually used for PSF determination, as determined by the\"), Key['Flag'](offset=32, bit=2)),\n",
       "    (Field['Flag'](name=\"calib_psf_reserved\", doc=\"set if source was reserved from PSF determination\"), Key['Flag'](offset=32, bit=3)),\n",
       "    (Field['I'](name=\"deblend_nChild\", doc=\"Number of children this object has (defaults to 0)\"), Key<I>(offset=40, nElements=1)),\n",
       "    (Field['Flag'](name=\"deblend_deblendedAsPsf\", doc=\"Deblender thought this source looked like a PSF\"), Key['Flag'](offset=32, bit=4)),\n",
       "    (Field['D'](name=\"deblend_psfCenter_x\", doc=\"If deblended-as-psf, the PSF centroid\", units=\"pixel\"), Key<D>(offset=48, nElements=1)),\n",
       "    (Field['D'](name=\"deblend_psfCenter_y\", doc=\"If deblended-as-psf, the PSF centroid\", units=\"pixel\"), Key<D>(offset=56, nElements=1)),\n",
       "    (Field['D'](name=\"deblend_psfFlux\", doc=\"If deblended-as-psf, the PSF flux\"), Key<D>(offset=64, nElements=1)),\n",
       "    (Field['Flag'](name=\"deblend_tooManyPeaks\", doc=\"Source had too many peaks; only the brightest were included\"), Key['Flag'](offset=32, bit=5)),\n",
       "    (Field['Flag'](name=\"deblend_parentTooBig\", doc=\"Parent footprint covered too many pixels\"), Key['Flag'](offset=32, bit=6)),\n",
       "    (Field['Flag'](name=\"deblend_masked\", doc=\"Parent footprint was predominantly masked\"), Key['Flag'](offset=32, bit=7)),\n",
       "    (Field['Flag'](name=\"deblend_skipped\", doc=\"Deblender skipped this source\"), Key['Flag'](offset=32, bit=8)),\n",
       "    (Field['Flag'](name=\"deblend_rampedTemplate\", doc=\"This source was near an image edge and the deblender used \"ramp\" edge-handling.\"), Key['Flag'](offset=32, bit=9)),\n",
       "    (Field['Flag'](name=\"deblend_patchedTemplate\", doc=\"This source was near an image edge and the deblender used \"patched\" edge-handling.\"), Key['Flag'](offset=32, bit=10)),\n",
       "    (Field['Flag'](name=\"deblend_hasStrayFlux\", doc=\"This source was assigned some stray flux\"), Key['Flag'](offset=32, bit=11)),\n",
       "    (Field['D'](name=\"base_GaussianCentroid_x\", doc=\"centroid from Gaussian Centroid algorithm\", units=\"pixel\"), Key<D>(offset=72, nElements=1)),\n",
       "    (Field['D'](name=\"base_GaussianCentroid_y\", doc=\"centroid from Gaussian Centroid algorithm\", units=\"pixel\"), Key<D>(offset=80, nElements=1)),\n",
       "    (Field['Flag'](name=\"base_GaussianCentroid_flag\", doc=\"General Failure Flag\"), Key['Flag'](offset=32, bit=12)),\n",
       "    (Field['Flag'](name=\"base_GaussianCentroid_flag_noPeak\", doc=\"Fitted Centroid has a negative peak\"), Key['Flag'](offset=32, bit=13)),\n",
       "    (Field['Flag'](name=\"base_GaussianCentroid_flag_resetToPeak\", doc=\"set if CentroidChecker reset the centroid\"), Key['Flag'](offset=32, bit=14)),\n",
       "    (Field['D'](name=\"base_NaiveCentroid_x\", doc=\"centroid from Naive Centroid algorithm\", units=\"pixel\"), Key<D>(offset=88, nElements=1)),\n",
       "    (Field['D'](name=\"base_NaiveCentroid_y\", doc=\"centroid from Naive Centroid algorithm\", units=\"pixel\"), Key<D>(offset=96, nElements=1)),\n",
       "    (Field['Flag'](name=\"base_NaiveCentroid_flag\", doc=\"General Failure Flag\"), Key['Flag'](offset=32, bit=15)),\n",
       "    (Field['Flag'](name=\"base_NaiveCentroid_flag_noCounts\", doc=\"Object to be centroided has no counts\"), Key['Flag'](offset=32, bit=16)),\n",
       "    (Field['Flag'](name=\"base_NaiveCentroid_flag_edge\", doc=\"Object too close to edge\"), Key['Flag'](offset=32, bit=17)),\n",
       "    (Field['Flag'](name=\"base_NaiveCentroid_flag_resetToPeak\", doc=\"set if CentroidChecker reset the centroid\"), Key['Flag'](offset=32, bit=18)),\n",
       "    (Field['D'](name=\"base_SdssCentroid_x\", doc=\"centroid from Sdss Centroid algorithm\", units=\"pixel\"), Key<D>(offset=104, nElements=1)),\n",
       "    (Field['D'](name=\"base_SdssCentroid_y\", doc=\"centroid from Sdss Centroid algorithm\", units=\"pixel\"), Key<D>(offset=112, nElements=1)),\n",
       "    (Field['F'](name=\"base_SdssCentroid_xSigma\", doc=\"1-sigma uncertainty on x position\", units=\"pixel\"), Key<F>(offset=120, nElements=1)),\n",
       "    (Field['F'](name=\"base_SdssCentroid_ySigma\", doc=\"1-sigma uncertainty on y position\", units=\"pixel\"), Key<F>(offset=124, nElements=1)),\n",
       "    (Field['Flag'](name=\"base_SdssCentroid_flag\", doc=\"General Failure Flag\"), Key['Flag'](offset=32, bit=19)),\n",
       "    (Field['Flag'](name=\"base_SdssCentroid_flag_edge\", doc=\"Object too close to edge\"), Key['Flag'](offset=32, bit=20)),\n",
       "    (Field['Flag'](name=\"base_SdssCentroid_flag_noSecondDerivative\", doc=\"Vanishing second derivative\"), Key['Flag'](offset=32, bit=21)),\n",
       "    (Field['Flag'](name=\"base_SdssCentroid_flag_almostNoSecondDerivative\", doc=\"Almost vanishing second derivative\"), Key['Flag'](offset=32, bit=22)),\n",
       "    (Field['Flag'](name=\"base_SdssCentroid_flag_notAtMaximum\", doc=\"Object is not at a maximum\"), Key['Flag'](offset=32, bit=23)),\n",
       "    (Field['Flag'](name=\"base_SdssCentroid_flag_resetToPeak\", doc=\"set if CentroidChecker reset the centroid\"), Key['Flag'](offset=32, bit=24)),\n",
       "    (Field['D'](name=\"base_Blendedness_old\", doc=\"blendedness from dot products: (child.dot(parent)/child.dot(child) - 1)\"), Key<D>(offset=128, nElements=1)),\n",
       "    (Field['D'](name=\"base_Blendedness_raw_flux\", doc=\"measure of how flux is affected by neighbors: (1 - flux.child/flux.parent)\"), Key<D>(offset=136, nElements=1)),\n",
       "    (Field['D'](name=\"base_Blendedness_raw_flux_child\", doc=\"flux of the child, measured with a Gaussian weight matched to the child\", units=\"count\"), Key<D>(offset=144, nElements=1)),\n",
       "    (Field['D'](name=\"base_Blendedness_raw_flux_parent\", doc=\"flux of the parent, measured with a Gaussian weight matched to the child\", units=\"count\"), Key<D>(offset=152, nElements=1)),\n",
       "    (Field['D'](name=\"base_Blendedness_abs_flux\", doc=\"measure of how flux is affected by neighbors: (1 - flux.child/flux.parent)\"), Key<D>(offset=160, nElements=1)),\n",
       "    (Field['D'](name=\"base_Blendedness_abs_flux_child\", doc=\"flux of the child, measured with a Gaussian weight matched to the child\", units=\"count\"), Key<D>(offset=168, nElements=1)),\n",
       "    (Field['D'](name=\"base_Blendedness_abs_flux_parent\", doc=\"flux of the parent, measured with a Gaussian weight matched to the child\", units=\"count\"), Key<D>(offset=176, nElements=1)),\n",
       "    (Field['D'](name=\"base_Blendedness_raw_child_xx\", doc=\"shape of the child, measured with a Gaussian weight matched to the child\", units=\"pixel^2\"), Key<D>(offset=184, nElements=1)),\n",
       "    (Field['D'](name=\"base_Blendedness_raw_child_yy\", doc=\"shape of the child, measured with a Gaussian weight matched to the child\", units=\"pixel^2\"), Key<D>(offset=192, nElements=1)),\n",
       "    (Field['D'](name=\"base_Blendedness_raw_child_xy\", doc=\"shape of the child, measured with a Gaussian weight matched to the child\", units=\"pixel^2\"), Key<D>(offset=200, nElements=1)),\n",
       "    (Field['D'](name=\"base_Blendedness_raw_parent_xx\", doc=\"shape of the parent, measured with a Gaussian weight matched to the child\", units=\"pixel^2\"), Key<D>(offset=208, nElements=1)),\n",
       "    (Field['D'](name=\"base_Blendedness_raw_parent_yy\", doc=\"shape of the parent, measured with a Gaussian weight matched to the child\", units=\"pixel^2\"), Key<D>(offset=216, nElements=1)),\n",
       "    (Field['D'](name=\"base_Blendedness_raw_parent_xy\", doc=\"shape of the parent, measured with a Gaussian weight matched to the child\", units=\"pixel^2\"), Key<D>(offset=224, nElements=1)),\n",
       "    (Field['D'](name=\"base_Blendedness_abs_child_xx\", doc=\"shape of the child, measured with a Gaussian weight matched to the child\", units=\"pixel^2\"), Key<D>(offset=232, nElements=1)),\n",
       "    (Field['D'](name=\"base_Blendedness_abs_child_yy\", doc=\"shape of the child, measured with a Gaussian weight matched to the child\", units=\"pixel^2\"), Key<D>(offset=240, nElements=1)),\n",
       "    (Field['D'](name=\"base_Blendedness_abs_child_xy\", doc=\"shape of the child, measured with a Gaussian weight matched to the child\", units=\"pixel^2\"), Key<D>(offset=248, nElements=1)),\n",
       "    (Field['D'](name=\"base_Blendedness_abs_parent_xx\", doc=\"shape of the parent, measured with a Gaussian weight matched to the child\", units=\"pixel^2\"), Key<D>(offset=256, nElements=1)),\n",
       "    (Field['D'](name=\"base_Blendedness_abs_parent_yy\", doc=\"shape of the parent, measured with a Gaussian weight matched to the child\", units=\"pixel^2\"), Key<D>(offset=264, nElements=1)),\n",
       "    (Field['D'](name=\"base_Blendedness_abs_parent_xy\", doc=\"shape of the parent, measured with a Gaussian weight matched to the child\", units=\"pixel^2\"), Key<D>(offset=272, nElements=1)),\n",
       "    (Field['Flag'](name=\"base_Blendedness_flag\", doc=\"General Failure Flag\"), Key['Flag'](offset=32, bit=25)),\n",
       "    (Field['Flag'](name=\"base_Blendedness_flag_noCentroid\", doc=\"Object has no centroid\"), Key['Flag'](offset=32, bit=26)),\n",
       "    (Field['Flag'](name=\"base_Blendedness_flag_noShape\", doc=\"Object has no shape\"), Key['Flag'](offset=32, bit=27)),\n",
       "    (Field['D'](name=\"base_SdssShape_xx\", doc=\"elliptical Gaussian adaptive moments\", units=\"pixel^2\"), Key<D>(offset=280, nElements=1)),\n",
       "    (Field['D'](name=\"base_SdssShape_yy\", doc=\"elliptical Gaussian adaptive moments\", units=\"pixel^2\"), Key<D>(offset=288, nElements=1)),\n",
       "    (Field['D'](name=\"base_SdssShape_xy\", doc=\"elliptical Gaussian adaptive moments\", units=\"pixel^2\"), Key<D>(offset=296, nElements=1)),\n",
       "    (Field['F'](name=\"base_SdssShape_xxSigma\", doc=\"1-sigma uncertainty on xx moment\", units=\"pixel^2\"), Key<F>(offset=304, nElements=1)),\n",
       "    (Field['F'](name=\"base_SdssShape_yySigma\", doc=\"1-sigma uncertainty on yy moment\", units=\"pixel^2\"), Key<F>(offset=308, nElements=1)),\n",
       "    (Field['F'](name=\"base_SdssShape_xySigma\", doc=\"1-sigma uncertainty on xy moment\", units=\"pixel^2\"), Key<F>(offset=312, nElements=1)),\n",
       "    (Field['D'](name=\"base_SdssShape_x\", doc=\"elliptical Gaussian adaptive moments\", units=\"pixel\"), Key<D>(offset=320, nElements=1)),\n",
       "    (Field['D'](name=\"base_SdssShape_y\", doc=\"elliptical Gaussian adaptive moments\", units=\"pixel\"), Key<D>(offset=328, nElements=1)),\n",
       "    (Field['D'](name=\"base_SdssShape_flux\", doc=\"elliptical Gaussian adaptive moments\", units=\"count\"), Key<D>(offset=336, nElements=1)),\n",
       "    (Field['D'](name=\"base_SdssShape_fluxSigma\", doc=\"1-sigma flux uncertainty\", units=\"count\"), Key<D>(offset=344, nElements=1)),\n",
       "    (Field['D'](name=\"base_SdssShape_psf_xx\", doc=\"adaptive moments of the PSF model at the object position\", units=\"pixel^2\"), Key<D>(offset=352, nElements=1)),\n",
       "    (Field['D'](name=\"base_SdssShape_psf_yy\", doc=\"adaptive moments of the PSF model at the object position\", units=\"pixel^2\"), Key<D>(offset=360, nElements=1)),\n",
       "    (Field['D'](name=\"base_SdssShape_psf_xy\", doc=\"adaptive moments of the PSF model at the object position\", units=\"pixel^2\"), Key<D>(offset=368, nElements=1)),\n",
       "    (Field['F'](name=\"base_SdssShape_flux_xx_Cov\", doc=\"uncertainty covariance between base_SdssShape_flux and base_SdssShape_xx\", units=\"count*pixel^2\"), Key<F>(offset=376, nElements=1)),\n",
       "    (Field['F'](name=\"base_SdssShape_flux_yy_Cov\", doc=\"uncertainty covariance between base_SdssShape_flux and base_SdssShape_yy\", units=\"count*pixel^2\"), Key<F>(offset=380, nElements=1)),\n",
       "    (Field['F'](name=\"base_SdssShape_flux_xy_Cov\", doc=\"uncertainty covariance between base_SdssShape_flux and base_SdssShape_xy\", units=\"count*pixel^2\"), Key<F>(offset=384, nElements=1)),\n",
       "    (Field['Flag'](name=\"base_SdssShape_flag\", doc=\"General Failure Flag\"), Key['Flag'](offset=32, bit=28)),\n",
       "    (Field['Flag'](name=\"base_SdssShape_flag_unweightedBad\", doc=\"Both weighted and unweighted moments were invalid\"), Key['Flag'](offset=32, bit=29)),\n",
       "    (Field['Flag'](name=\"base_SdssShape_flag_unweighted\", doc=\"Weighted moments converged to an invalid value; using unweighted moments\"), Key['Flag'](offset=32, bit=30)),\n",
       "    (Field['Flag'](name=\"base_SdssShape_flag_shift\", doc=\"centroid shifted by more than the maximum allowed amount\"), Key['Flag'](offset=32, bit=31)),\n",
       "    (Field['Flag'](name=\"base_SdssShape_flag_maxIter\", doc=\"Too many iterations in adaptive moments\"), Key['Flag'](offset=32, bit=32)),\n",
       "    (Field['Flag'](name=\"base_SdssShape_flag_psf\", doc=\"Failure in measuring PSF model shape\"), Key['Flag'](offset=32, bit=33)),\n",
       "    (Field['D'](name=\"ext_shapeHSM_HsmPsfMoments_x\", doc=\"HSM Centroid\", units=\"pixel\"), Key<D>(offset=392, nElements=1)),\n",
       "    (Field['D'](name=\"ext_shapeHSM_HsmPsfMoments_y\", doc=\"HSM Centroid\", units=\"pixel\"), Key<D>(offset=400, nElements=1)),\n",
       "    (Field['D'](name=\"ext_shapeHSM_HsmPsfMoments_xx\", doc=\"HSM moments\", units=\"pixel^2\"), Key<D>(offset=408, nElements=1)),\n",
       "    (Field['D'](name=\"ext_shapeHSM_HsmPsfMoments_yy\", doc=\"HSM moments\", units=\"pixel^2\"), Key<D>(offset=416, nElements=1)),\n",
       "    (Field['D'](name=\"ext_shapeHSM_HsmPsfMoments_xy\", doc=\"HSM moments\", units=\"pixel^2\"), Key<D>(offset=424, nElements=1)),\n",
       "    (Field['Flag'](name=\"ext_shapeHSM_HsmPsfMoments_flag\", doc=\"general failure flag, set if anything went wrong\"), Key['Flag'](offset=32, bit=34)),\n",
       "    (Field['Flag'](name=\"ext_shapeHSM_HsmPsfMoments_flag_no_pixels\", doc=\"no pixels to measure\"), Key['Flag'](offset=32, bit=35)),\n",
       "    (Field['Flag'](name=\"ext_shapeHSM_HsmPsfMoments_flag_not_contained\", doc=\"center not contained in footprint bounding box\"), Key['Flag'](offset=32, bit=36)),\n",
       "    (Field['Flag'](name=\"ext_shapeHSM_HsmPsfMoments_flag_parent_source\", doc=\"parent source, ignored\"), Key['Flag'](offset=32, bit=37)),\n",
       "    (Field['D'](name=\"ext_shapeHSM_HsmShapeRegauss_e1\", doc=\"PSF-corrected shear using Hirata & Seljak (2003) ''regaussianization\"), Key<D>(offset=432, nElements=1)),\n",
       "    (Field['D'](name=\"ext_shapeHSM_HsmShapeRegauss_e2\", doc=\"PSF-corrected shear using Hirata & Seljak (2003) ''regaussianization\"), Key<D>(offset=440, nElements=1)),\n",
       "    (Field['D'](name=\"ext_shapeHSM_HsmShapeRegauss_sigma\", doc=\"PSF-corrected shear using Hirata & Seljak (2003) ''regaussianization\"), Key<D>(offset=448, nElements=1)),\n",
       "    (Field['D'](name=\"ext_shapeHSM_HsmShapeRegauss_resolution\", doc=\"resolution factor (0=unresolved, 1=resolved)\"), Key<D>(offset=456, nElements=1)),\n",
       "    (Field['Flag'](name=\"ext_shapeHSM_HsmShapeRegauss_flag\", doc=\"general failure flag, set if anything went wrong\"), Key['Flag'](offset=32, bit=38)),\n",
       "    (Field['Flag'](name=\"ext_shapeHSM_HsmShapeRegauss_flag_no_pixels\", doc=\"no pixels to measure\"), Key['Flag'](offset=32, bit=39)),\n",
       "    (Field['Flag'](name=\"ext_shapeHSM_HsmShapeRegauss_flag_not_contained\", doc=\"center not contained in footprint bounding box\"), Key['Flag'](offset=32, bit=40)),\n",
       "    (Field['Flag'](name=\"ext_shapeHSM_HsmShapeRegauss_flag_parent_source\", doc=\"parent source, ignored\"), Key['Flag'](offset=32, bit=41)),\n",
       "    (Field['Flag'](name=\"ext_shapeHSM_HsmShapeRegauss_flag_galsim\", doc=\"GalSim failure\"), Key['Flag'](offset=32, bit=42)),\n",
       "    (Field['D'](name=\"ext_shapeHSM_HsmSourceMoments_x\", doc=\"HSM Centroid\", units=\"pixel\"), Key<D>(offset=464, nElements=1)),\n",
       "    (Field['D'](name=\"ext_shapeHSM_HsmSourceMoments_y\", doc=\"HSM Centroid\", units=\"pixel\"), Key<D>(offset=472, nElements=1)),\n",
       "    (Field['D'](name=\"ext_shapeHSM_HsmSourceMoments_xx\", doc=\"HSM moments\", units=\"pixel^2\"), Key<D>(offset=480, nElements=1)),\n",
       "    (Field['D'](name=\"ext_shapeHSM_HsmSourceMoments_yy\", doc=\"HSM moments\", units=\"pixel^2\"), Key<D>(offset=488, nElements=1)),\n",
       "    (Field['D'](name=\"ext_shapeHSM_HsmSourceMoments_xy\", doc=\"HSM moments\", units=\"pixel^2\"), Key<D>(offset=496, nElements=1)),\n",
       "    (Field['Flag'](name=\"ext_shapeHSM_HsmSourceMoments_flag\", doc=\"general failure flag, set if anything went wrong\"), Key['Flag'](offset=32, bit=43)),\n",
       "    (Field['Flag'](name=\"ext_shapeHSM_HsmSourceMoments_flag_no_pixels\", doc=\"no pixels to measure\"), Key['Flag'](offset=32, bit=44)),\n",
       "    (Field['Flag'](name=\"ext_shapeHSM_HsmSourceMoments_flag_not_contained\", doc=\"center not contained in footprint bounding box\"), Key['Flag'](offset=32, bit=45)),\n",
       "    (Field['Flag'](name=\"ext_shapeHSM_HsmSourceMoments_flag_parent_source\", doc=\"parent source, ignored\"), Key['Flag'](offset=32, bit=46)),\n",
       "    (Field['D'](name=\"ext_shapeHSM_HsmSourceMomentsRound_x\", doc=\"HSM Centroid\", units=\"pixel\"), Key<D>(offset=504, nElements=1)),\n",
       "    (Field['D'](name=\"ext_shapeHSM_HsmSourceMomentsRound_y\", doc=\"HSM Centroid\", units=\"pixel\"), Key<D>(offset=512, nElements=1)),\n",
       "    (Field['D'](name=\"ext_shapeHSM_HsmSourceMomentsRound_xx\", doc=\"HSM moments\", units=\"pixel^2\"), Key<D>(offset=520, nElements=1)),\n",
       "    (Field['D'](name=\"ext_shapeHSM_HsmSourceMomentsRound_yy\", doc=\"HSM moments\", units=\"pixel^2\"), Key<D>(offset=528, nElements=1)),\n",
       "    (Field['D'](name=\"ext_shapeHSM_HsmSourceMomentsRound_xy\", doc=\"HSM moments\", units=\"pixel^2\"), Key<D>(offset=536, nElements=1)),\n",
       "    (Field['Flag'](name=\"ext_shapeHSM_HsmSourceMomentsRound_flag\", doc=\"general failure flag, set if anything went wrong\"), Key['Flag'](offset=32, bit=47)),\n",
       "    (Field['Flag'](name=\"ext_shapeHSM_HsmSourceMomentsRound_flag_no_pixels\", doc=\"no pixels to measure\"), Key['Flag'](offset=32, bit=48)),\n",
       "    (Field['Flag'](name=\"ext_shapeHSM_HsmSourceMomentsRound_flag_not_contained\", doc=\"center not contained in footprint bounding box\"), Key['Flag'](offset=32, bit=49)),\n",
       "    (Field['Flag'](name=\"ext_shapeHSM_HsmSourceMomentsRound_flag_parent_source\", doc=\"parent source, ignored\"), Key['Flag'](offset=32, bit=50)),\n",
       "    (Field['F'](name=\"ext_shapeHSM_HsmSourceMomentsRound_Flux\", doc=\"HSM flux\"), Key<F>(offset=544, nElements=1)),\n",
       "    (Field['D'](name=\"base_CircularApertureFlux_3_0_flux\", doc=\"flux within 3.000000-pixel aperture\", units=\"count\"), Key<D>(offset=552, nElements=1)),\n",
       "    (Field['D'](name=\"base_CircularApertureFlux_3_0_fluxSigma\", doc=\"1-sigma flux uncertainty\", units=\"count\"), Key<D>(offset=560, nElements=1)),\n",
       "    (Field['Flag'](name=\"base_CircularApertureFlux_3_0_flag\", doc=\"General Failure Flag\"), Key['Flag'](offset=32, bit=51)),\n",
       "    (Field['Flag'](name=\"base_CircularApertureFlux_3_0_flag_apertureTruncated\", doc=\"aperture did not fit within measurement image\"), Key['Flag'](offset=32, bit=52)),\n",
       "    (Field['Flag'](name=\"base_CircularApertureFlux_3_0_flag_sincCoeffsTruncated\", doc=\"full sinc coefficient image did not fit within measurement image\"), Key['Flag'](offset=32, bit=53)),\n",
       "    (Field['D'](name=\"base_CircularApertureFlux_4_5_flux\", doc=\"flux within 4.500000-pixel aperture\", units=\"count\"), Key<D>(offset=568, nElements=1)),\n",
       "    (Field['D'](name=\"base_CircularApertureFlux_4_5_fluxSigma\", doc=\"1-sigma flux uncertainty\", units=\"count\"), Key<D>(offset=576, nElements=1)),\n",
       "    (Field['Flag'](name=\"base_CircularApertureFlux_4_5_flag\", doc=\"General Failure Flag\"), Key['Flag'](offset=32, bit=54)),\n",
       "    (Field['Flag'](name=\"base_CircularApertureFlux_4_5_flag_apertureTruncated\", doc=\"aperture did not fit within measurement image\"), Key['Flag'](offset=32, bit=55)),\n",
       "    (Field['Flag'](name=\"base_CircularApertureFlux_4_5_flag_sincCoeffsTruncated\", doc=\"full sinc coefficient image did not fit within measurement image\"), Key['Flag'](offset=32, bit=56)),\n",
       "    (Field['D'](name=\"base_CircularApertureFlux_6_0_flux\", doc=\"flux within 6.000000-pixel aperture\", units=\"count\"), Key<D>(offset=584, nElements=1)),\n",
       "    (Field['D'](name=\"base_CircularApertureFlux_6_0_fluxSigma\", doc=\"1-sigma flux uncertainty\", units=\"count\"), Key<D>(offset=592, nElements=1)),\n",
       "    (Field['Flag'](name=\"base_CircularApertureFlux_6_0_flag\", doc=\"General Failure Flag\"), Key['Flag'](offset=32, bit=57)),\n",
       "    (Field['Flag'](name=\"base_CircularApertureFlux_6_0_flag_apertureTruncated\", doc=\"aperture did not fit within measurement image\"), Key['Flag'](offset=32, bit=58)),\n",
       "    (Field['Flag'](name=\"base_CircularApertureFlux_6_0_flag_sincCoeffsTruncated\", doc=\"full sinc coefficient image did not fit within measurement image\"), Key['Flag'](offset=32, bit=59)),\n",
       "    (Field['D'](name=\"base_CircularApertureFlux_9_0_flux\", doc=\"flux within 9.000000-pixel aperture\", units=\"count\"), Key<D>(offset=600, nElements=1)),\n",
       "    (Field['D'](name=\"base_CircularApertureFlux_9_0_fluxSigma\", doc=\"1-sigma flux uncertainty\", units=\"count\"), Key<D>(offset=608, nElements=1)),\n",
       "    (Field['Flag'](name=\"base_CircularApertureFlux_9_0_flag\", doc=\"General Failure Flag\"), Key['Flag'](offset=32, bit=60)),\n",
       "    (Field['Flag'](name=\"base_CircularApertureFlux_9_0_flag_apertureTruncated\", doc=\"aperture did not fit within measurement image\"), Key['Flag'](offset=32, bit=61)),\n",
       "    (Field['Flag'](name=\"base_CircularApertureFlux_9_0_flag_sincCoeffsTruncated\", doc=\"full sinc coefficient image did not fit within measurement image\"), Key['Flag'](offset=32, bit=62)),\n",
       "    (Field['D'](name=\"base_CircularApertureFlux_12_0_flux\", doc=\"flux within 12.000000-pixel aperture\", units=\"count\"), Key<D>(offset=616, nElements=1)),\n",
       "    (Field['D'](name=\"base_CircularApertureFlux_12_0_fluxSigma\", doc=\"1-sigma flux uncertainty\", units=\"count\"), Key<D>(offset=624, nElements=1)),\n",
       "    (Field['Flag'](name=\"base_CircularApertureFlux_12_0_flag\", doc=\"General Failure Flag\"), Key['Flag'](offset=32, bit=63)),\n",
       "    (Field['Flag'](name=\"base_CircularApertureFlux_12_0_flag_apertureTruncated\", doc=\"aperture did not fit within measurement image\"), Key['Flag'](offset=632, bit=0)),\n",
       "    (Field['Flag'](name=\"base_CircularApertureFlux_12_0_flag_sincCoeffsTruncated\", doc=\"full sinc coefficient image did not fit within measurement image\"), Key['Flag'](offset=632, bit=1)),\n",
       "    (Field['D'](name=\"base_CircularApertureFlux_17_0_flux\", doc=\"flux within 17.000000-pixel aperture\", units=\"count\"), Key<D>(offset=640, nElements=1)),\n",
       "    (Field['D'](name=\"base_CircularApertureFlux_17_0_fluxSigma\", doc=\"1-sigma flux uncertainty\", units=\"count\"), Key<D>(offset=648, nElements=1)),\n",
       "    (Field['Flag'](name=\"base_CircularApertureFlux_17_0_flag\", doc=\"General Failure Flag\"), Key['Flag'](offset=632, bit=2)),\n",
       "    (Field['Flag'](name=\"base_CircularApertureFlux_17_0_flag_apertureTruncated\", doc=\"aperture did not fit within measurement image\"), Key['Flag'](offset=632, bit=3)),\n",
       "    (Field['D'](name=\"base_CircularApertureFlux_25_0_flux\", doc=\"flux within 25.000000-pixel aperture\", units=\"count\"), Key<D>(offset=656, nElements=1)),\n",
       "    (Field['D'](name=\"base_CircularApertureFlux_25_0_fluxSigma\", doc=\"1-sigma flux uncertainty\", units=\"count\"), Key<D>(offset=664, nElements=1)),\n",
       "    (Field['Flag'](name=\"base_CircularApertureFlux_25_0_flag\", doc=\"General Failure Flag\"), Key['Flag'](offset=632, bit=4)),\n",
       "    (Field['Flag'](name=\"base_CircularApertureFlux_25_0_flag_apertureTruncated\", doc=\"aperture did not fit within measurement image\"), Key['Flag'](offset=632, bit=5)),\n",
       "    (Field['D'](name=\"base_CircularApertureFlux_35_0_flux\", doc=\"flux within 35.000000-pixel aperture\", units=\"count\"), Key<D>(offset=672, nElements=1)),\n",
       "    (Field['D'](name=\"base_CircularApertureFlux_35_0_fluxSigma\", doc=\"1-sigma flux uncertainty\", units=\"count\"), Key<D>(offset=680, nElements=1)),\n",
       "    (Field['Flag'](name=\"base_CircularApertureFlux_35_0_flag\", doc=\"General Failure Flag\"), Key['Flag'](offset=632, bit=6)),\n",
       "    (Field['Flag'](name=\"base_CircularApertureFlux_35_0_flag_apertureTruncated\", doc=\"aperture did not fit within measurement image\"), Key['Flag'](offset=632, bit=7)),\n",
       "    (Field['D'](name=\"base_CircularApertureFlux_50_0_flux\", doc=\"flux within 50.000000-pixel aperture\", units=\"count\"), Key<D>(offset=688, nElements=1)),\n",
       "    (Field['D'](name=\"base_CircularApertureFlux_50_0_fluxSigma\", doc=\"1-sigma flux uncertainty\", units=\"count\"), Key<D>(offset=696, nElements=1)),\n",
       "    (Field['Flag'](name=\"base_CircularApertureFlux_50_0_flag\", doc=\"General Failure Flag\"), Key['Flag'](offset=632, bit=8)),\n",
       "    (Field['Flag'](name=\"base_CircularApertureFlux_50_0_flag_apertureTruncated\", doc=\"aperture did not fit within measurement image\"), Key['Flag'](offset=632, bit=9)),\n",
       "    (Field['D'](name=\"base_CircularApertureFlux_70_0_flux\", doc=\"flux within 70.000000-pixel aperture\", units=\"count\"), Key<D>(offset=704, nElements=1)),\n",
       "    (Field['D'](name=\"base_CircularApertureFlux_70_0_fluxSigma\", doc=\"1-sigma flux uncertainty\", units=\"count\"), Key<D>(offset=712, nElements=1)),\n",
       "    (Field['Flag'](name=\"base_CircularApertureFlux_70_0_flag\", doc=\"General Failure Flag\"), Key['Flag'](offset=632, bit=10)),\n",
       "    (Field['Flag'](name=\"base_CircularApertureFlux_70_0_flag_apertureTruncated\", doc=\"aperture did not fit within measurement image\"), Key['Flag'](offset=632, bit=11)),\n",
       "    (Field['D'](name=\"base_GaussianFlux_flux\", doc=\"flux from Gaussian Flux algorithm\", units=\"count\"), Key<D>(offset=720, nElements=1)),\n",
       "    (Field['D'](name=\"base_GaussianFlux_fluxSigma\", doc=\"1-sigma flux uncertainty\", units=\"count\"), Key<D>(offset=728, nElements=1)),\n",
       "    (Field['Flag'](name=\"base_GaussianFlux_flag\", doc=\"General Failure Flag\"), Key['Flag'](offset=632, bit=12)),\n",
       "    (Field['Flag'](name=\"base_PixelFlags_flag\", doc=\"general failure flag, set if anything went wring\"), Key['Flag'](offset=632, bit=13)),\n",
       "    (Field['Flag'](name=\"base_PixelFlags_flag_offimage\", doc=\"Source center is off image\"), Key['Flag'](offset=632, bit=14)),\n",
       "    (Field['Flag'](name=\"base_PixelFlags_flag_edge\", doc=\"Source is outside usable exposure region (masked EDGE or NO_DATA)\"), Key['Flag'](offset=632, bit=15)),\n",
       "    (Field['Flag'](name=\"base_PixelFlags_flag_interpolated\", doc=\"Interpolated pixel in the Source footprint\"), Key['Flag'](offset=632, bit=16)),\n",
       "    (Field['Flag'](name=\"base_PixelFlags_flag_saturated\", doc=\"Saturated pixel in the Source footprint\"), Key['Flag'](offset=632, bit=17)),\n",
       "    (Field['Flag'](name=\"base_PixelFlags_flag_cr\", doc=\"Cosmic ray in the Source footprint\"), Key['Flag'](offset=632, bit=18)),\n",
       "    (Field['Flag'](name=\"base_PixelFlags_flag_bad\", doc=\"Bad pixel in the Source footprint\"), Key['Flag'](offset=632, bit=19)),\n",
       "    (Field['Flag'](name=\"base_PixelFlags_flag_suspect\", doc=\"Source''s footprint includes suspect pixels\"), Key['Flag'](offset=632, bit=20)),\n",
       "    (Field['Flag'](name=\"base_PixelFlags_flag_interpolatedCenter\", doc=\"Interpolated pixel in the Source center\"), Key['Flag'](offset=632, bit=21)),\n",
       "    (Field['Flag'](name=\"base_PixelFlags_flag_saturatedCenter\", doc=\"Saturated pixel in the Source center\"), Key['Flag'](offset=632, bit=22)),\n",
       "    (Field['Flag'](name=\"base_PixelFlags_flag_crCenter\", doc=\"Cosmic ray in the Source center\"), Key['Flag'](offset=632, bit=23)),\n",
       "    (Field['Flag'](name=\"base_PixelFlags_flag_suspectCenter\", doc=\"Source''s center is close to suspect pixels\"), Key['Flag'](offset=632, bit=24)),\n",
       "    (Field['D'](name=\"base_PsfFlux_flux\", doc=\"flux derived from linear least-squares fit of PSF model\", units=\"count\"), Key<D>(offset=736, nElements=1)),\n",
       "    (Field['D'](name=\"base_PsfFlux_fluxSigma\", doc=\"1-sigma flux uncertainty\", units=\"count\"), Key<D>(offset=744, nElements=1)),\n",
       "    (Field['Flag'](name=\"base_PsfFlux_flag\", doc=\"General Failure Flag\"), Key['Flag'](offset=632, bit=25)),\n",
       "    (Field['Flag'](name=\"base_PsfFlux_flag_noGoodPixels\", doc=\"not enough non-rejected pixels in data to attempt the fit\"), Key['Flag'](offset=632, bit=26)),\n",
       "    (Field['Flag'](name=\"base_PsfFlux_flag_edge\", doc=\"object was too close to the edge of the image to use the full PSF model\"), Key['Flag'](offset=632, bit=27)),\n",
       "    (Field['Flag'](name=\"base_Variance_flag\", doc=\"Set for any fatal failure\"), Key['Flag'](offset=632, bit=28)),\n",
       "    (Field['D'](name=\"base_Variance_value\", doc=\"Variance at object position\"), Key<D>(offset=752, nElements=1)),\n",
       "    (Field['Flag'](name=\"base_Variance_flag_emptyFootprint\", doc=\"Set to True when the footprint has no usable pixels\"), Key['Flag'](offset=632, bit=29)),\n",
       "    (Field['D'](name=\"ext_photometryKron_KronFlux_flux\", doc=\"flux from Kron Flux algorithm\", units=\"count\"), Key<D>(offset=760, nElements=1)),\n",
       "    (Field['D'](name=\"ext_photometryKron_KronFlux_fluxSigma\", doc=\"1-sigma flux uncertainty\", units=\"count\"), Key<D>(offset=768, nElements=1)),\n",
       "    (Field['F'](name=\"ext_photometryKron_KronFlux_radius\", doc=\"Kron radius (sqrt(a*b))\"), Key<F>(offset=776, nElements=1)),\n",
       "    (Field['F'](name=\"ext_photometryKron_KronFlux_radius_for_radius\", doc=\"radius used to estimate <radius> (sqrt(a*b))\"), Key<F>(offset=780, nElements=1)),\n",
       "    (Field['F'](name=\"ext_photometryKron_KronFlux_psf_radius\", doc=\"Radius of PSF\"), Key<F>(offset=784, nElements=1)),\n",
       "    (Field['Flag'](name=\"ext_photometryKron_KronFlux_flag\", doc=\"general failure flag, set if anything went wrong\"), Key['Flag'](offset=632, bit=30)),\n",
       "    (Field['Flag'](name=\"ext_photometryKron_KronFlux_flag_edge\", doc=\"bad measurement due to image edge\"), Key['Flag'](offset=632, bit=31)),\n",
       "    (Field['Flag'](name=\"ext_photometryKron_KronFlux_flag_bad_shape_no_psf\", doc=\"bad shape and no PSF\"), Key['Flag'](offset=632, bit=32)),\n",
       "    (Field['Flag'](name=\"ext_photometryKron_KronFlux_flag_no_minimum_radius\", doc=\"minimum radius could not enforced: no minimum value or PSF\"), Key['Flag'](offset=632, bit=33)),\n",
       "    (Field['Flag'](name=\"ext_photometryKron_KronFlux_flag_no_fallback_radius\", doc=\"no minimum radius and no PSF provided\"), Key['Flag'](offset=632, bit=34)),\n",
       "    (Field['Flag'](name=\"ext_photometryKron_KronFlux_flag_bad_radius\", doc=\"bad Kron radius\"), Key['Flag'](offset=632, bit=35)),\n",
       "    (Field['Flag'](name=\"ext_photometryKron_KronFlux_flag_used_minimum_radius\", doc=\"used the minimum radius for the Kron aperture\"), Key['Flag'](offset=632, bit=36)),\n",
       "    (Field['Flag'](name=\"ext_photometryKron_KronFlux_flag_used_psf_radius\", doc=\"used the PSF Kron radius for the Kron aperture\"), Key['Flag'](offset=632, bit=37)),\n",
       "    (Field['Flag'](name=\"ext_photometryKron_KronFlux_flag_small_radius\", doc=\"measured Kron radius was smaller than that of the PSF\"), Key['Flag'](offset=632, bit=38)),\n",
       "    (Field['Flag'](name=\"ext_photometryKron_KronFlux_flag_bad_shape\", doc=\"shape for measuring Kron radius is bad; used PSF shape\"), Key['Flag'](offset=632, bit=39)),\n",
       "    (Field['D'](name=\"base_GaussianFlux_apCorr\", doc=\"aperture correction applied to base_GaussianFlux\"), Key<D>(offset=792, nElements=1)),\n",
       "    (Field['D'](name=\"base_GaussianFlux_apCorrSigma\", doc=\"aperture correction applied to base_GaussianFlux\"), Key<D>(offset=800, nElements=1)),\n",
       "    (Field['Flag'](name=\"base_GaussianFlux_flag_apCorr\", doc=\"set if unable to aperture correct base_GaussianFlux\"), Key['Flag'](offset=632, bit=40)),\n",
       "    (Field['D'](name=\"ext_photometryKron_KronFlux_apCorr\", doc=\"aperture correction applied to ext_photometryKron_KronFlux\"), Key<D>(offset=808, nElements=1)),\n",
       "    (Field['D'](name=\"ext_photometryKron_KronFlux_apCorrSigma\", doc=\"aperture correction applied to ext_photometryKron_KronFlux\"), Key<D>(offset=816, nElements=1)),\n",
       "    (Field['Flag'](name=\"ext_photometryKron_KronFlux_flag_apCorr\", doc=\"set if unable to aperture correct ext_photometryKron_KronFlux\"), Key['Flag'](offset=632, bit=41)),\n",
       "    (Field['D'](name=\"base_PsfFlux_apCorr\", doc=\"aperture correction applied to base_PsfFlux\"), Key<D>(offset=824, nElements=1)),\n",
       "    (Field['D'](name=\"base_PsfFlux_apCorrSigma\", doc=\"aperture correction applied to base_PsfFlux\"), Key<D>(offset=832, nElements=1)),\n",
       "    (Field['Flag'](name=\"base_PsfFlux_flag_apCorr\", doc=\"set if unable to aperture correct base_PsfFlux\"), Key['Flag'](offset=632, bit=42)),\n",
       "    (Field['D'](name=\"base_ClassificationExtendedness_value\", doc=\"Set to 1 for extended sources, 0 for point sources.\"), Key<D>(offset=840, nElements=1)),\n",
       "    (Field['Flag'](name=\"base_ClassificationExtendedness_flag\", doc=\"Set to 1 for any fatal failure.\"), Key['Flag'](offset=632, bit=43)),\n",
       "    (Field['I'](name=\"base_FootprintArea_value\", doc=\"Number of pixels in the source''s detection footprint.\", units=\"pixel\"), Key<I>(offset=848, nElements=1)),\n",
       "    (Field['Flag'](name=\"calib_astrometryUsed\", doc=\"set if source was used in astrometric calibration\"), Key['Flag'](offset=632, bit=44)),\n",
       "    (Field['Flag'](name=\"calib_photometry_used\", doc=\"set if source was used in photometric calibration\"), Key['Flag'](offset=632, bit=45)),\n",
       "    (Field['Flag'](name=\"calib_photometry_reserved\", doc=\"set if source was reserved from photometric calibration\"), Key['Flag'](offset=632, bit=46)),\n",
       "    'base_CircularApertureFlux_flag_badCentroid'->'base_SdssCentroid_flag'\n",
       "    'base_GaussianCentroid_flag_badInitialCentroid'->'base_SdssCentroid_flag'\n",
       "    'base_GaussianFlux_flag_badCentroid'->'base_SdssCentroid_flag'\n",
       "    'base_GaussianFlux_flag_badShape'->'ext_shapeHSM_HsmSourceMoments_flag'\n",
       "    'base_NaiveCentroid_flag_badInitialCentroid'->'base_SdssCentroid_flag'\n",
       "    'base_PsfFlux_flag_badCentroid'->'base_SdssCentroid_flag'\n",
       "    'base_SdssShape_flag_badCentroid'->'base_SdssCentroid_flag'\n",
       "    'base_Variance_flag_badCentroid'->'base_SdssCentroid_flag'\n",
       "    'ext_photometryKron_KronFlux_flag_badInitialCentroid'->'base_SdssCentroid_flag'\n",
       "    'ext_shapeHSM_HsmPsfMoments_flag_badCentroid'->'base_SdssCentroid_flag'\n",
       "    'ext_shapeHSM_HsmShapeRegauss_flag_badCentroid'->'base_SdssCentroid_flag'\n",
       "    'ext_shapeHSM_HsmSourceMomentsRound_flag_badCentroid'->'base_SdssCentroid_flag'\n",
       "    'ext_shapeHSM_HsmSourceMoments_flag_badCentroid'->'base_SdssCentroid_flag'\n",
       "    'slot_ApFlux'->'base_CircularApertureFlux_12_0'\n",
       "    'slot_CalibFlux'->'base_CircularApertureFlux_12_0'\n",
       "    'slot_Centroid'->'base_SdssCentroid'\n",
       "    'slot_InstFlux'->'base_GaussianFlux'\n",
       "    'slot_ModelFlux'->'base_GaussianFlux'\n",
       "    'slot_PsfFlux'->'base_PsfFlux'\n",
       "    'slot_PsfShape'->'ext_shapeHSM_HsmPsfMoments'\n",
       "    'slot_Shape'->'ext_shapeHSM_HsmSourceMoments'\n",
       ")"
      ]
     },
     "execution_count": 24,
     "metadata": {},
     "output_type": "execute_result"
    }
   ],
   "source": [
    "#check its schema. Heads up, the schema is pretty big\n",
    "source_cat.getSchema()"
   ]
  },
  {
   "cell_type": "markdown",
   "metadata": {},
   "source": [
    "These schemas tend to be large if many measurement algorithms used. Several algorithms are a part of the base measurement process, like aperature photometry, SDSS shape and centrioid measurements. Other measurements are associated with previous calibration steps, like identifying sources to be candidates for PSF modeling. If deblending was run, several outputs from the process are stored in the table as well. Other measurement processess, like shape measurement processes, are considered extensions. All of these measurements often have many fields and analagous flag fields associated with them. To get a list of names of these high level processes only, we can provide the `topOnly=True` keyword arguement to the `getNames` method we met earlier in the tutorial."
   ]
  },
  {
   "cell_type": "code",
   "execution_count": 25,
   "metadata": {},
   "outputs": [
    {
     "data": {
      "text/plain": [
       "{'base', 'calib', 'coord', 'deblend', 'ext', 'id', 'parent'}"
      ]
     },
     "execution_count": 25,
     "metadata": {},
     "output_type": "execute_result"
    }
   ],
   "source": [
    "source_cat.getSchema().getNames(topOnly=True)"
   ]
  },
  {
   "cell_type": "markdown",
   "metadata": {},
   "source": [
    "However, this may be too vague. For example, if you ran KSB and HSM shape measurement, both will be lumped into the 'ext' catagory in the output above, but you may wish to search the schema for one in particular. We can use unix-like pattern matching with the `extract()` method to search the schema. This returns a dictionary where the keys are the schema fields whose names match the pattern you specified, and the values are the fields themselves. "
   ]
  },
  {
   "cell_type": "code",
   "execution_count": 26,
   "metadata": {},
   "outputs": [
    {
     "data": {
      "text/plain": [
       "{'ext_shapeHSM_HsmPsfMoments_flag_badCentroid': SchemaItem(key=Key['Flag'](offset=32, bit=19), field=Field['Flag'](name=\"base_SdssCentroid_flag\", doc=\"General Failure Flag\")),\n",
       " 'ext_shapeHSM_HsmPsfMoments_flag_badCentroid_edge': SchemaItem(key=Key['Flag'](offset=32, bit=20), field=Field['Flag'](name=\"base_SdssCentroid_flag_edge\", doc=\"Object too close to edge\")),\n",
       " 'ext_shapeHSM_HsmPsfMoments_flag_badCentroid_noSecondDerivative': SchemaItem(key=Key['Flag'](offset=32, bit=21), field=Field['Flag'](name=\"base_SdssCentroid_flag_noSecondDerivative\", doc=\"Vanishing second derivative\")),\n",
       " 'ext_shapeHSM_HsmPsfMoments_flag_badCentroid_almostNoSecondDerivative': SchemaItem(key=Key['Flag'](offset=32, bit=22), field=Field['Flag'](name=\"base_SdssCentroid_flag_almostNoSecondDerivative\", doc=\"Almost vanishing second derivative\")),\n",
       " 'ext_shapeHSM_HsmPsfMoments_flag_badCentroid_notAtMaximum': SchemaItem(key=Key['Flag'](offset=32, bit=23), field=Field['Flag'](name=\"base_SdssCentroid_flag_notAtMaximum\", doc=\"Object is not at a maximum\")),\n",
       " 'ext_shapeHSM_HsmPsfMoments_flag_badCentroid_resetToPeak': SchemaItem(key=Key['Flag'](offset=32, bit=24), field=Field['Flag'](name=\"base_SdssCentroid_flag_resetToPeak\", doc=\"set if CentroidChecker reset the centroid\")),\n",
       " 'ext_shapeHSM_HsmPsfMoments_x': SchemaItem(key=Key<D>(offset=392, nElements=1), field=Field['D'](name=\"ext_shapeHSM_HsmPsfMoments_x\", doc=\"HSM Centroid\", units=\"pixel\")),\n",
       " 'ext_shapeHSM_HsmPsfMoments_y': SchemaItem(key=Key<D>(offset=400, nElements=1), field=Field['D'](name=\"ext_shapeHSM_HsmPsfMoments_y\", doc=\"HSM Centroid\", units=\"pixel\")),\n",
       " 'ext_shapeHSM_HsmPsfMoments_xx': SchemaItem(key=Key<D>(offset=408, nElements=1), field=Field['D'](name=\"ext_shapeHSM_HsmPsfMoments_xx\", doc=\"HSM moments\", units=\"pixel^2\")),\n",
       " 'ext_shapeHSM_HsmPsfMoments_yy': SchemaItem(key=Key<D>(offset=416, nElements=1), field=Field['D'](name=\"ext_shapeHSM_HsmPsfMoments_yy\", doc=\"HSM moments\", units=\"pixel^2\")),\n",
       " 'ext_shapeHSM_HsmPsfMoments_xy': SchemaItem(key=Key<D>(offset=424, nElements=1), field=Field['D'](name=\"ext_shapeHSM_HsmPsfMoments_xy\", doc=\"HSM moments\", units=\"pixel^2\")),\n",
       " 'ext_shapeHSM_HsmPsfMoments_flag': SchemaItem(key=Key['Flag'](offset=32, bit=34), field=Field['Flag'](name=\"ext_shapeHSM_HsmPsfMoments_flag\", doc=\"general failure flag, set if anything went wrong\")),\n",
       " 'ext_shapeHSM_HsmPsfMoments_flag_no_pixels': SchemaItem(key=Key['Flag'](offset=32, bit=35), field=Field['Flag'](name=\"ext_shapeHSM_HsmPsfMoments_flag_no_pixels\", doc=\"no pixels to measure\")),\n",
       " 'ext_shapeHSM_HsmPsfMoments_flag_not_contained': SchemaItem(key=Key['Flag'](offset=32, bit=36), field=Field['Flag'](name=\"ext_shapeHSM_HsmPsfMoments_flag_not_contained\", doc=\"center not contained in footprint bounding box\")),\n",
       " 'ext_shapeHSM_HsmPsfMoments_flag_parent_source': SchemaItem(key=Key['Flag'](offset=32, bit=37), field=Field['Flag'](name=\"ext_shapeHSM_HsmPsfMoments_flag_parent_source\", doc=\"parent source, ignored\"))}"
      ]
     },
     "execution_count": 26,
     "metadata": {},
     "output_type": "execute_result"
    }
   ],
   "source": [
    "source_cat.getSchema().extract('*HSM*Psf*')"
   ]
  },
  {
   "cell_type": "markdown",
   "metadata": {},
   "source": [
    "Schemas in source catalogs include fields for measurements, and the associated flag fields for those measurements.  To tally how many fields, flag fields, and non flag fields are contained, we can use several count methods."
   ]
  },
  {
   "cell_type": "code",
   "execution_count": 71,
   "metadata": {},
   "outputs": [
    {
     "name": "stdout",
     "output_type": "stream",
     "text": [
      "the schema contains 220 fields, 111 flags fields and 109 non-flag fields\n"
     ]
    }
   ],
   "source": [
    "nFields = source_cat.schema.getFieldCount()\n",
    "nFlagFields = source_cat.schema.getFlagFieldCount()\n",
    "nNonFlagFields = source_cat.schema.getNonFlagFieldCount()\n",
    "print('the schema contains {} fields, \\\n",
    "{} flags fields and {} non-flag fields'.format(nFields, nFlagFields, nNonFlagFields ))"
   ]
  },
  {
   "cell_type": "markdown",
   "metadata": {},
   "source": [
    "If we are just intested in the field names, we can use the `extract()` method, which supports regex pattern matching. `extract()` returns a python dictionary of key-value pairs, where the keys are the names of the schema fields, and the values are the schema items themselves. We are going to tack on the `keys` method to this dictionary so we just get the ids back."
   ]
  },
  {
   "cell_type": "code",
   "execution_count": 74,
   "metadata": {},
   "outputs": [
    {
     "name": "stdout",
     "output_type": "stream",
     "text": [
      "ext_shapeHSM_HsmPsfMoments_flag_badCentroid\n",
      "ext_shapeHSM_HsmPsfMoments_flag_badCentroid_edge\n",
      "ext_shapeHSM_HsmPsfMoments_flag_badCentroid_noSecondDerivative\n",
      "ext_shapeHSM_HsmPsfMoments_flag_badCentroid_almostNoSecondDerivative\n",
      "ext_shapeHSM_HsmPsfMoments_flag_badCentroid_notAtMaximum\n",
      "ext_shapeHSM_HsmPsfMoments_flag_badCentroid_resetToPeak\n",
      "ext_shapeHSM_HsmPsfMoments_x\n",
      "ext_shapeHSM_HsmPsfMoments_y\n",
      "ext_shapeHSM_HsmPsfMoments_xx\n",
      "ext_shapeHSM_HsmPsfMoments_yy\n",
      "ext_shapeHSM_HsmPsfMoments_xy\n",
      "ext_shapeHSM_HsmPsfMoments_flag\n",
      "ext_shapeHSM_HsmPsfMoments_flag_no_pixels\n",
      "ext_shapeHSM_HsmPsfMoments_flag_not_contained\n",
      "ext_shapeHSM_HsmPsfMoments_flag_parent_source\n"
     ]
    }
   ],
   "source": [
    "for k in source_cat.getSchema().extract('*HSM*Psf*').keys():\n",
    "    print(k)"
   ]
  },
  {
   "cell_type": "markdown",
   "metadata": {},
   "source": [
    "If you already know the id of the field you are interested in, schema's have a `find` method that will return the field in question. For example, it is a safe bet that a schema will contain an id field"
   ]
  },
  {
   "cell_type": "code",
   "execution_count": 28,
   "metadata": {},
   "outputs": [
    {
     "data": {
      "text/plain": [
       "SchemaItem(key=Key<L>(offset=0, nElements=1), field=Field['L'](name=\"id\", doc=\"unique ID\"))"
      ]
     },
     "execution_count": 28,
     "metadata": {},
     "output_type": "execute_result"
    }
   ],
   "source": [
    "source_cat.getSchema().find('id')"
   ]
  },
  {
   "cell_type": "markdown",
   "metadata": {},
   "source": [
    "When we dumped the entire schema, the very bottom of the schema contained fields  are named 'slot_'. These are called aliases in the schema, and can help you deal with any ambiguity in the table. For example, there are several algorithms used to measure the centroid, and many fileds with 'centroid' in their name as a result. If you want to have quick access to one algorithms measurement result, you can set up a slot alias for it. Lets do a working example on the first record in our table."
   ]
  },
  {
   "cell_type": "code",
   "execution_count": 29,
   "metadata": {},
   "outputs": [
    {
     "name": "stdout",
     "output_type": "stream",
     "text": [
      "gaussian centroid is 1980.019868931552, 7.642499448278578\n",
      "sloan centroid is 1980.0, 8.0\n",
      "slot centroid is (1980, 8)\n"
     ]
    }
   ],
   "source": [
    "slot_centroid = source_cat[0].getCentroid()\n",
    "gauss_cent_x, gauss_cent_y = (source_cat['base_GaussianCentroid_x'][0], source_cat['base_GaussianCentroid_y'][0])\n",
    "sdss_cent_x, sdss_cent_y = (source_cat['base_SdssCentroid_x'][0], source_cat['base_SdssCentroid_y'][0])\n",
    "\n",
    "print('gaussian centroid is {}, {}'.format(gauss_cent_x, gauss_cent_y))\n",
    "print('sloan centroid is {}, {}'.format(sdss_cent_x, sdss_cent_y))\n",
    "print('slot centroid is {}'.format(slot_centroid))"
   ]
  },
  {
   "cell_type": "code",
   "execution_count": 30,
   "metadata": {},
   "outputs": [],
   "source": [
    "# aliasing works with other methods\n",
    "psf_flux_key = source_cat.getPsfFluxKey()\n",
    "id_key = source_cat.getIdKey()"
   ]
  },
  {
   "cell_type": "markdown",
   "metadata": {},
   "source": [
    "As advertised, the slot centroid and SDSS centroid are the same. We also used some syntactic sugar to access the `gaussian` centroids and `sdss` centroids, which will be familiar to you if you are an astropy tables user. \n",
    "\n",
    "> Speaking of astropy tables, you can make an astropy table version of a source catalog:"
   ]
  },
  {
   "cell_type": "code",
   "execution_count": 31,
   "metadata": {},
   "outputs": [
    {
     "data": {
      "text/html": [
       "<i>Table length=2662</i>\n",
       "<table id=\"table139915583121616\" class=\"table-striped table-bordered table-condensed\">\n",
       "<thead><tr><th>id</th><th>coord_ra</th><th>coord_dec</th><th>parent</th><th>calib_detected</th><th>calib_psfCandidate</th><th>calib_psfUsed</th><th>calib_psf_reserved</th><th>deblend_nChild</th><th>deblend_deblendedAsPsf</th><th>deblend_psfCenter_x</th><th>deblend_psfCenter_y</th><th>deblend_psfFlux</th><th>deblend_tooManyPeaks</th><th>deblend_parentTooBig</th><th>deblend_masked</th><th>deblend_skipped</th><th>deblend_rampedTemplate</th><th>deblend_patchedTemplate</th><th>deblend_hasStrayFlux</th><th>base_GaussianCentroid_x</th><th>base_GaussianCentroid_y</th><th>base_GaussianCentroid_flag</th><th>base_GaussianCentroid_flag_noPeak</th><th>base_GaussianCentroid_flag_resetToPeak</th><th>base_NaiveCentroid_x</th><th>base_NaiveCentroid_y</th><th>base_NaiveCentroid_flag</th><th>base_NaiveCentroid_flag_noCounts</th><th>base_NaiveCentroid_flag_edge</th><th>base_NaiveCentroid_flag_resetToPeak</th><th>base_SdssCentroid_x</th><th>slot_Centroid_x</th><th>base_SdssCentroid_y</th><th>slot_Centroid_y</th><th>base_SdssCentroid_xSigma</th><th>slot_Centroid_xSigma</th><th>base_SdssCentroid_ySigma</th><th>slot_Centroid_ySigma</th><th>base_SdssCentroid_flag</th><th>base_CircularApertureFlux_flag_badCentroid</th><th>base_GaussianCentroid_flag_badInitialCentroid</th><th>base_GaussianFlux_flag_badCentroid</th><th>base_NaiveCentroid_flag_badInitialCentroid</th><th>base_PsfFlux_flag_badCentroid</th><th>base_SdssShape_flag_badCentroid</th><th>base_Variance_flag_badCentroid</th><th>ext_photometryKron_KronFlux_flag_badInitialCentroid</th><th>ext_shapeHSM_HsmPsfMoments_flag_badCentroid</th><th>ext_shapeHSM_HsmShapeRegauss_flag_badCentroid</th><th>ext_shapeHSM_HsmSourceMomentsRound_flag_badCentroid</th><th>ext_shapeHSM_HsmSourceMoments_flag_badCentroid</th><th>slot_Centroid_flag</th><th>base_SdssCentroid_flag_edge</th><th>base_CircularApertureFlux_flag_badCentroid_edge</th><th>base_GaussianCentroid_flag_badInitialCentroid_edge</th><th>base_GaussianFlux_flag_badCentroid_edge</th><th>base_NaiveCentroid_flag_badInitialCentroid_edge</th><th>base_PsfFlux_flag_badCentroid_edge</th><th>base_SdssShape_flag_badCentroid_edge</th><th>base_Variance_flag_badCentroid_edge</th><th>ext_photometryKron_KronFlux_flag_badInitialCentroid_edge</th><th>ext_shapeHSM_HsmPsfMoments_flag_badCentroid_edge</th><th>ext_shapeHSM_HsmShapeRegauss_flag_badCentroid_edge</th><th>ext_shapeHSM_HsmSourceMomentsRound_flag_badCentroid_edge</th><th>ext_shapeHSM_HsmSourceMoments_flag_badCentroid_edge</th><th>slot_Centroid_flag_edge</th><th>base_SdssCentroid_flag_noSecondDerivative</th><th>base_CircularApertureFlux_flag_badCentroid_noSecondDerivative</th><th>base_GaussianCentroid_flag_badInitialCentroid_noSecondDerivative</th><th>base_GaussianFlux_flag_badCentroid_noSecondDerivative</th><th>base_NaiveCentroid_flag_badInitialCentroid_noSecondDerivative</th><th>base_PsfFlux_flag_badCentroid_noSecondDerivative</th><th>base_SdssShape_flag_badCentroid_noSecondDerivative</th><th>base_Variance_flag_badCentroid_noSecondDerivative</th><th>ext_photometryKron_KronFlux_flag_badInitialCentroid_noSecondDerivative</th><th>ext_shapeHSM_HsmPsfMoments_flag_badCentroid_noSecondDerivative</th><th>ext_shapeHSM_HsmShapeRegauss_flag_badCentroid_noSecondDerivative</th><th>ext_shapeHSM_HsmSourceMomentsRound_flag_badCentroid_noSecondDerivative</th><th>ext_shapeHSM_HsmSourceMoments_flag_badCentroid_noSecondDerivative</th><th>slot_Centroid_flag_noSecondDerivative</th><th>base_SdssCentroid_flag_almostNoSecondDerivative</th><th>base_CircularApertureFlux_flag_badCentroid_almostNoSecondDerivative</th><th>base_GaussianCentroid_flag_badInitialCentroid_almostNoSecondDerivative</th><th>base_GaussianFlux_flag_badCentroid_almostNoSecondDerivative</th><th>base_NaiveCentroid_flag_badInitialCentroid_almostNoSecondDerivative</th><th>base_PsfFlux_flag_badCentroid_almostNoSecondDerivative</th><th>base_SdssShape_flag_badCentroid_almostNoSecondDerivative</th><th>base_Variance_flag_badCentroid_almostNoSecondDerivative</th><th>ext_photometryKron_KronFlux_flag_badInitialCentroid_almostNoSecondDerivative</th><th>ext_shapeHSM_HsmPsfMoments_flag_badCentroid_almostNoSecondDerivative</th><th>ext_shapeHSM_HsmShapeRegauss_flag_badCentroid_almostNoSecondDerivative</th><th>ext_shapeHSM_HsmSourceMomentsRound_flag_badCentroid_almostNoSecondDerivative</th><th>ext_shapeHSM_HsmSourceMoments_flag_badCentroid_almostNoSecondDerivative</th><th>slot_Centroid_flag_almostNoSecondDerivative</th><th>base_SdssCentroid_flag_notAtMaximum</th><th>base_CircularApertureFlux_flag_badCentroid_notAtMaximum</th><th>base_GaussianCentroid_flag_badInitialCentroid_notAtMaximum</th><th>base_GaussianFlux_flag_badCentroid_notAtMaximum</th><th>base_NaiveCentroid_flag_badInitialCentroid_notAtMaximum</th><th>base_PsfFlux_flag_badCentroid_notAtMaximum</th><th>base_SdssShape_flag_badCentroid_notAtMaximum</th><th>base_Variance_flag_badCentroid_notAtMaximum</th><th>ext_photometryKron_KronFlux_flag_badInitialCentroid_notAtMaximum</th><th>ext_shapeHSM_HsmPsfMoments_flag_badCentroid_notAtMaximum</th><th>ext_shapeHSM_HsmShapeRegauss_flag_badCentroid_notAtMaximum</th><th>ext_shapeHSM_HsmSourceMomentsRound_flag_badCentroid_notAtMaximum</th><th>ext_shapeHSM_HsmSourceMoments_flag_badCentroid_notAtMaximum</th><th>slot_Centroid_flag_notAtMaximum</th><th>base_SdssCentroid_flag_resetToPeak</th><th>base_CircularApertureFlux_flag_badCentroid_resetToPeak</th><th>base_GaussianCentroid_flag_badInitialCentroid_resetToPeak</th><th>base_GaussianFlux_flag_badCentroid_resetToPeak</th><th>base_NaiveCentroid_flag_badInitialCentroid_resetToPeak</th><th>base_PsfFlux_flag_badCentroid_resetToPeak</th><th>base_SdssShape_flag_badCentroid_resetToPeak</th><th>base_Variance_flag_badCentroid_resetToPeak</th><th>ext_photometryKron_KronFlux_flag_badInitialCentroid_resetToPeak</th><th>ext_shapeHSM_HsmPsfMoments_flag_badCentroid_resetToPeak</th><th>ext_shapeHSM_HsmShapeRegauss_flag_badCentroid_resetToPeak</th><th>ext_shapeHSM_HsmSourceMomentsRound_flag_badCentroid_resetToPeak</th><th>ext_shapeHSM_HsmSourceMoments_flag_badCentroid_resetToPeak</th><th>slot_Centroid_flag_resetToPeak</th><th>base_Blendedness_old</th><th>base_Blendedness_raw_flux</th><th>base_Blendedness_raw_flux_child</th><th>base_Blendedness_raw_flux_parent</th><th>base_Blendedness_abs_flux</th><th>base_Blendedness_abs_flux_child</th><th>base_Blendedness_abs_flux_parent</th><th>base_Blendedness_raw_child_xx</th><th>base_Blendedness_raw_child_yy</th><th>base_Blendedness_raw_child_xy</th><th>base_Blendedness_raw_parent_xx</th><th>base_Blendedness_raw_parent_yy</th><th>base_Blendedness_raw_parent_xy</th><th>base_Blendedness_abs_child_xx</th><th>base_Blendedness_abs_child_yy</th><th>base_Blendedness_abs_child_xy</th><th>base_Blendedness_abs_parent_xx</th><th>base_Blendedness_abs_parent_yy</th><th>base_Blendedness_abs_parent_xy</th><th>base_Blendedness_flag</th><th>base_Blendedness_flag_noCentroid</th><th>base_Blendedness_flag_noShape</th><th>base_SdssShape_xx</th><th>base_SdssShape_yy</th><th>base_SdssShape_xy</th><th>base_SdssShape_xxSigma</th><th>base_SdssShape_yySigma</th><th>base_SdssShape_xySigma</th><th>base_SdssShape_x</th><th>base_SdssShape_y</th><th>base_SdssShape_flux</th><th>base_SdssShape_fluxSigma</th><th>base_SdssShape_psf_xx</th><th>base_SdssShape_psf_yy</th><th>base_SdssShape_psf_xy</th><th>base_SdssShape_flux_xx_Cov</th><th>base_SdssShape_flux_yy_Cov</th><th>base_SdssShape_flux_xy_Cov</th><th>base_SdssShape_flag</th><th>base_SdssShape_flag_unweightedBad</th><th>base_SdssShape_flag_unweighted</th><th>base_SdssShape_flag_shift</th><th>base_SdssShape_flag_maxIter</th><th>base_SdssShape_flag_psf</th><th>ext_shapeHSM_HsmPsfMoments_x</th><th>slot_PsfShape_x</th><th>ext_shapeHSM_HsmPsfMoments_y</th><th>slot_PsfShape_y</th><th>ext_shapeHSM_HsmPsfMoments_xx</th><th>slot_PsfShape_xx</th><th>ext_shapeHSM_HsmPsfMoments_yy</th><th>slot_PsfShape_yy</th><th>ext_shapeHSM_HsmPsfMoments_xy</th><th>slot_PsfShape_xy</th><th>ext_shapeHSM_HsmPsfMoments_flag</th><th>slot_PsfShape_flag</th><th>ext_shapeHSM_HsmPsfMoments_flag_no_pixels</th><th>slot_PsfShape_flag_no_pixels</th><th>ext_shapeHSM_HsmPsfMoments_flag_not_contained</th><th>slot_PsfShape_flag_not_contained</th><th>ext_shapeHSM_HsmPsfMoments_flag_parent_source</th><th>slot_PsfShape_flag_parent_source</th><th>ext_shapeHSM_HsmShapeRegauss_e1</th><th>ext_shapeHSM_HsmShapeRegauss_e2</th><th>ext_shapeHSM_HsmShapeRegauss_sigma</th><th>ext_shapeHSM_HsmShapeRegauss_resolution</th><th>ext_shapeHSM_HsmShapeRegauss_flag</th><th>ext_shapeHSM_HsmShapeRegauss_flag_no_pixels</th><th>ext_shapeHSM_HsmShapeRegauss_flag_not_contained</th><th>ext_shapeHSM_HsmShapeRegauss_flag_parent_source</th><th>ext_shapeHSM_HsmShapeRegauss_flag_galsim</th><th>ext_shapeHSM_HsmSourceMoments_x</th><th>slot_Shape_x</th><th>ext_shapeHSM_HsmSourceMoments_y</th><th>slot_Shape_y</th><th>ext_shapeHSM_HsmSourceMoments_xx</th><th>slot_Shape_xx</th><th>ext_shapeHSM_HsmSourceMoments_yy</th><th>slot_Shape_yy</th><th>ext_shapeHSM_HsmSourceMoments_xy</th><th>slot_Shape_xy</th><th>ext_shapeHSM_HsmSourceMoments_flag</th><th>base_GaussianFlux_flag_badShape</th><th>slot_Shape_flag</th><th>ext_shapeHSM_HsmSourceMoments_flag_no_pixels</th><th>base_GaussianFlux_flag_badShape_no_pixels</th><th>slot_Shape_flag_no_pixels</th><th>ext_shapeHSM_HsmSourceMoments_flag_not_contained</th><th>base_GaussianFlux_flag_badShape_not_contained</th><th>slot_Shape_flag_not_contained</th><th>ext_shapeHSM_HsmSourceMoments_flag_parent_source</th><th>base_GaussianFlux_flag_badShape_parent_source</th><th>slot_Shape_flag_parent_source</th><th>ext_shapeHSM_HsmSourceMomentsRound_x</th><th>slot_ShapeRound_x</th><th>ext_shapeHSM_HsmSourceMomentsRound_y</th><th>slot_ShapeRound_y</th><th>ext_shapeHSM_HsmSourceMomentsRound_xx</th><th>slot_ShapeRound_xx</th><th>ext_shapeHSM_HsmSourceMomentsRound_yy</th><th>slot_ShapeRound_yy</th><th>ext_shapeHSM_HsmSourceMomentsRound_xy</th><th>slot_ShapeRound_xy</th><th>ext_shapeHSM_HsmSourceMomentsRound_flag</th><th>slot_ShapeRound_flag</th><th>ext_shapeHSM_HsmSourceMomentsRound_flag_no_pixels</th><th>slot_ShapeRound_flag_no_pixels</th><th>ext_shapeHSM_HsmSourceMomentsRound_flag_not_contained</th><th>slot_ShapeRound_flag_not_contained</th><th>ext_shapeHSM_HsmSourceMomentsRound_flag_parent_source</th><th>slot_ShapeRound_flag_parent_source</th><th>ext_shapeHSM_HsmSourceMomentsRound_Flux</th><th>slot_ShapeRound_Flux</th><th>base_CircularApertureFlux_3_0_flux</th><th>base_CircularApertureFlux_3_0_fluxSigma</th><th>base_CircularApertureFlux_3_0_flag</th><th>base_CircularApertureFlux_3_0_flag_apertureTruncated</th><th>base_CircularApertureFlux_3_0_flag_sincCoeffsTruncated</th><th>base_CircularApertureFlux_4_5_flux</th><th>base_CircularApertureFlux_4_5_fluxSigma</th><th>base_CircularApertureFlux_4_5_flag</th><th>base_CircularApertureFlux_4_5_flag_apertureTruncated</th><th>base_CircularApertureFlux_4_5_flag_sincCoeffsTruncated</th><th>base_CircularApertureFlux_6_0_flux</th><th>base_CircularApertureFlux_6_0_fluxSigma</th><th>base_CircularApertureFlux_6_0_flag</th><th>base_CircularApertureFlux_6_0_flag_apertureTruncated</th><th>base_CircularApertureFlux_6_0_flag_sincCoeffsTruncated</th><th>base_CircularApertureFlux_9_0_flux</th><th>base_CircularApertureFlux_9_0_fluxSigma</th><th>base_CircularApertureFlux_9_0_flag</th><th>base_CircularApertureFlux_9_0_flag_apertureTruncated</th><th>base_CircularApertureFlux_9_0_flag_sincCoeffsTruncated</th><th>base_CircularApertureFlux_12_0_flux</th><th>slot_ApFlux_flux</th><th>slot_CalibFlux_flux</th><th>base_CircularApertureFlux_12_0_fluxSigma</th><th>slot_ApFlux_fluxSigma</th><th>slot_CalibFlux_fluxSigma</th><th>base_CircularApertureFlux_12_0_flag</th><th>slot_ApFlux_flag</th><th>slot_CalibFlux_flag</th><th>base_CircularApertureFlux_12_0_flag_apertureTruncated</th><th>slot_ApFlux_flag_apertureTruncated</th><th>slot_CalibFlux_flag_apertureTruncated</th><th>base_CircularApertureFlux_12_0_flag_sincCoeffsTruncated</th><th>slot_ApFlux_flag_sincCoeffsTruncated</th><th>slot_CalibFlux_flag_sincCoeffsTruncated</th><th>base_CircularApertureFlux_17_0_flux</th><th>base_CircularApertureFlux_17_0_fluxSigma</th><th>base_CircularApertureFlux_17_0_flag</th><th>base_CircularApertureFlux_17_0_flag_apertureTruncated</th><th>base_CircularApertureFlux_25_0_flux</th><th>base_CircularApertureFlux_25_0_fluxSigma</th><th>base_CircularApertureFlux_25_0_flag</th><th>base_CircularApertureFlux_25_0_flag_apertureTruncated</th><th>base_CircularApertureFlux_35_0_flux</th><th>base_CircularApertureFlux_35_0_fluxSigma</th><th>base_CircularApertureFlux_35_0_flag</th><th>base_CircularApertureFlux_35_0_flag_apertureTruncated</th><th>base_CircularApertureFlux_50_0_flux</th><th>base_CircularApertureFlux_50_0_fluxSigma</th><th>base_CircularApertureFlux_50_0_flag</th><th>base_CircularApertureFlux_50_0_flag_apertureTruncated</th><th>base_CircularApertureFlux_70_0_flux</th><th>base_CircularApertureFlux_70_0_fluxSigma</th><th>base_CircularApertureFlux_70_0_flag</th><th>base_CircularApertureFlux_70_0_flag_apertureTruncated</th><th>base_GaussianFlux_flux</th><th>slot_InstFlux_flux</th><th>slot_ModelFlux_flux</th><th>base_GaussianFlux_fluxSigma</th><th>slot_InstFlux_fluxSigma</th><th>slot_ModelFlux_fluxSigma</th><th>base_GaussianFlux_flag</th><th>slot_InstFlux_flag</th><th>slot_ModelFlux_flag</th><th>base_PixelFlags_flag</th><th>base_PixelFlags_flag_offimage</th><th>base_PixelFlags_flag_edge</th><th>base_PixelFlags_flag_interpolated</th><th>base_PixelFlags_flag_saturated</th><th>base_PixelFlags_flag_cr</th><th>base_PixelFlags_flag_bad</th><th>base_PixelFlags_flag_suspect</th><th>base_PixelFlags_flag_interpolatedCenter</th><th>base_PixelFlags_flag_saturatedCenter</th><th>base_PixelFlags_flag_crCenter</th><th>base_PixelFlags_flag_suspectCenter</th><th>base_PsfFlux_flux</th><th>slot_PsfFlux_flux</th><th>base_PsfFlux_fluxSigma</th><th>slot_PsfFlux_fluxSigma</th><th>base_PsfFlux_flag</th><th>slot_PsfFlux_flag</th><th>base_PsfFlux_flag_noGoodPixels</th><th>slot_PsfFlux_flag_noGoodPixels</th><th>base_PsfFlux_flag_edge</th><th>slot_PsfFlux_flag_edge</th><th>base_Variance_flag</th><th>base_Variance_value</th><th>base_Variance_flag_emptyFootprint</th><th>ext_photometryKron_KronFlux_flux</th><th>ext_photometryKron_KronFlux_fluxSigma</th><th>ext_photometryKron_KronFlux_radius</th><th>ext_photometryKron_KronFlux_radius_for_radius</th><th>ext_photometryKron_KronFlux_psf_radius</th><th>ext_photometryKron_KronFlux_flag</th><th>ext_photometryKron_KronFlux_flag_edge</th><th>ext_photometryKron_KronFlux_flag_bad_shape_no_psf</th><th>ext_photometryKron_KronFlux_flag_no_minimum_radius</th><th>ext_photometryKron_KronFlux_flag_no_fallback_radius</th><th>ext_photometryKron_KronFlux_flag_bad_radius</th><th>ext_photometryKron_KronFlux_flag_used_minimum_radius</th><th>ext_photometryKron_KronFlux_flag_used_psf_radius</th><th>ext_photometryKron_KronFlux_flag_small_radius</th><th>ext_photometryKron_KronFlux_flag_bad_shape</th><th>base_GaussianFlux_apCorr</th><th>slot_InstFlux_apCorr</th><th>slot_ModelFlux_apCorr</th><th>base_GaussianFlux_apCorrSigma</th><th>slot_InstFlux_apCorrSigma</th><th>slot_ModelFlux_apCorrSigma</th><th>base_GaussianFlux_flag_apCorr</th><th>slot_InstFlux_flag_apCorr</th><th>slot_ModelFlux_flag_apCorr</th><th>ext_photometryKron_KronFlux_apCorr</th><th>ext_photometryKron_KronFlux_apCorrSigma</th><th>ext_photometryKron_KronFlux_flag_apCorr</th><th>base_PsfFlux_apCorr</th><th>slot_PsfFlux_apCorr</th><th>base_PsfFlux_apCorrSigma</th><th>slot_PsfFlux_apCorrSigma</th><th>base_PsfFlux_flag_apCorr</th><th>slot_PsfFlux_flag_apCorr</th><th>base_ClassificationExtendedness_value</th><th>base_ClassificationExtendedness_flag</th><th>base_FootprintArea_value</th><th>calib_astrometryUsed</th><th>calib_photometry_used</th><th>calib_photometry_reserved</th></tr></thead>\n",
       "<thead><tr><th></th><th>rad</th><th>rad</th><th></th><th></th><th></th><th></th><th></th><th></th><th></th><th>pix</th><th>pix</th><th></th><th></th><th></th><th></th><th></th><th></th><th></th><th></th><th>pix</th><th>pix</th><th></th><th></th><th></th><th>pix</th><th>pix</th><th></th><th></th><th></th><th></th><th>pix</th><th>pix</th><th>pix</th><th>pix</th><th>pix</th><th>pix</th><th>pix</th><th>pix</th><th></th><th></th><th></th><th></th><th></th><th></th><th></th><th></th><th></th><th></th><th></th><th></th><th></th><th></th><th></th><th></th><th></th><th></th><th></th><th></th><th></th><th></th><th></th><th></th><th></th><th></th><th></th><th></th><th></th><th></th><th></th><th></th><th></th><th></th><th></th><th></th><th></th><th></th><th></th><th></th><th></th><th></th><th></th><th></th><th></th><th></th><th></th><th></th><th></th><th></th><th></th><th></th><th></th><th></th><th></th><th></th><th></th><th></th><th></th><th></th><th></th><th></th><th></th><th></th><th></th><th></th><th></th><th></th><th></th><th></th><th></th><th></th><th></th><th></th><th></th><th></th><th></th><th></th><th></th><th></th><th></th><th></th><th></th><th></th><th></th><th></th><th>ct</th><th>ct</th><th></th><th>ct</th><th>ct</th><th>pix2</th><th>pix2</th><th>pix2</th><th>pix2</th><th>pix2</th><th>pix2</th><th>pix2</th><th>pix2</th><th>pix2</th><th>pix2</th><th>pix2</th><th>pix2</th><th></th><th></th><th></th><th>pix2</th><th>pix2</th><th>pix2</th><th>pix2</th><th>pix2</th><th>pix2</th><th>pix</th><th>pix</th><th>ct</th><th>ct</th><th>pix2</th><th>pix2</th><th>pix2</th><th>ct pix2</th><th>ct pix2</th><th>ct pix2</th><th></th><th></th><th></th><th></th><th></th><th></th><th>pix</th><th>pix</th><th>pix</th><th>pix</th><th>pix2</th><th>pix2</th><th>pix2</th><th>pix2</th><th>pix2</th><th>pix2</th><th></th><th></th><th></th><th></th><th></th><th></th><th></th><th></th><th></th><th></th><th></th><th></th><th></th><th></th><th></th><th></th><th></th><th>pix</th><th>pix</th><th>pix</th><th>pix</th><th>pix2</th><th>pix2</th><th>pix2</th><th>pix2</th><th>pix2</th><th>pix2</th><th></th><th></th><th></th><th></th><th></th><th></th><th></th><th></th><th></th><th></th><th></th><th></th><th>pix</th><th>pix</th><th>pix</th><th>pix</th><th>pix2</th><th>pix2</th><th>pix2</th><th>pix2</th><th>pix2</th><th>pix2</th><th></th><th></th><th></th><th></th><th></th><th></th><th></th><th></th><th></th><th></th><th>ct</th><th>ct</th><th></th><th></th><th></th><th>ct</th><th>ct</th><th></th><th></th><th></th><th>ct</th><th>ct</th><th></th><th></th><th></th><th>ct</th><th>ct</th><th></th><th></th><th></th><th>ct</th><th>ct</th><th>ct</th><th>ct</th><th>ct</th><th>ct</th><th></th><th></th><th></th><th></th><th></th><th></th><th></th><th></th><th></th><th>ct</th><th>ct</th><th></th><th></th><th>ct</th><th>ct</th><th></th><th></th><th>ct</th><th>ct</th><th></th><th></th><th>ct</th><th>ct</th><th></th><th></th><th>ct</th><th>ct</th><th></th><th></th><th>ct</th><th>ct</th><th>ct</th><th>ct</th><th>ct</th><th>ct</th><th></th><th></th><th></th><th></th><th></th><th></th><th></th><th></th><th></th><th></th><th></th><th></th><th></th><th></th><th></th><th>ct</th><th>ct</th><th>ct</th><th>ct</th><th></th><th></th><th></th><th></th><th></th><th></th><th></th><th></th><th></th><th>ct</th><th>ct</th><th></th><th></th><th></th><th></th><th></th><th></th><th></th><th></th><th></th><th></th><th></th><th></th><th></th><th></th><th></th><th></th><th></th><th></th><th></th><th></th><th></th><th></th><th></th><th></th><th></th><th></th><th></th><th></th><th></th><th></th><th></th><th></th><th></th><th>pix</th><th></th><th></th><th></th></tr></thead>\n",
       "<thead><tr><th>int64</th><th>float64</th><th>float64</th><th>int64</th><th>bool</th><th>bool</th><th>bool</th><th>bool</th><th>int32</th><th>bool</th><th>float64</th><th>float64</th><th>float64</th><th>bool</th><th>bool</th><th>bool</th><th>bool</th><th>bool</th><th>bool</th><th>bool</th><th>float64</th><th>float64</th><th>bool</th><th>bool</th><th>bool</th><th>float64</th><th>float64</th><th>bool</th><th>bool</th><th>bool</th><th>bool</th><th>float64</th><th>float64</th><th>float64</th><th>float64</th><th>float32</th><th>float32</th><th>float32</th><th>float32</th><th>bool</th><th>bool</th><th>bool</th><th>bool</th><th>bool</th><th>bool</th><th>bool</th><th>bool</th><th>bool</th><th>bool</th><th>bool</th><th>bool</th><th>bool</th><th>bool</th><th>bool</th><th>bool</th><th>bool</th><th>bool</th><th>bool</th><th>bool</th><th>bool</th><th>bool</th><th>bool</th><th>bool</th><th>bool</th><th>bool</th><th>bool</th><th>bool</th><th>bool</th><th>bool</th><th>bool</th><th>bool</th><th>bool</th><th>bool</th><th>bool</th><th>bool</th><th>bool</th><th>bool</th><th>bool</th><th>bool</th><th>bool</th><th>bool</th><th>bool</th><th>bool</th><th>bool</th><th>bool</th><th>bool</th><th>bool</th><th>bool</th><th>bool</th><th>bool</th><th>bool</th><th>bool</th><th>bool</th><th>bool</th><th>bool</th><th>bool</th><th>bool</th><th>bool</th><th>bool</th><th>bool</th><th>bool</th><th>bool</th><th>bool</th><th>bool</th><th>bool</th><th>bool</th><th>bool</th><th>bool</th><th>bool</th><th>bool</th><th>bool</th><th>bool</th><th>bool</th><th>bool</th><th>bool</th><th>bool</th><th>bool</th><th>bool</th><th>bool</th><th>bool</th><th>bool</th><th>bool</th><th>bool</th><th>float64</th><th>float64</th><th>float64</th><th>float64</th><th>float64</th><th>float64</th><th>float64</th><th>float64</th><th>float64</th><th>float64</th><th>float64</th><th>float64</th><th>float64</th><th>float64</th><th>float64</th><th>float64</th><th>float64</th><th>float64</th><th>float64</th><th>bool</th><th>bool</th><th>bool</th><th>float64</th><th>float64</th><th>float64</th><th>float32</th><th>float32</th><th>float32</th><th>float64</th><th>float64</th><th>float64</th><th>float64</th><th>float64</th><th>float64</th><th>float64</th><th>float32</th><th>float32</th><th>float32</th><th>bool</th><th>bool</th><th>bool</th><th>bool</th><th>bool</th><th>bool</th><th>float64</th><th>float64</th><th>float64</th><th>float64</th><th>float64</th><th>float64</th><th>float64</th><th>float64</th><th>float64</th><th>float64</th><th>bool</th><th>bool</th><th>bool</th><th>bool</th><th>bool</th><th>bool</th><th>bool</th><th>bool</th><th>float64</th><th>float64</th><th>float64</th><th>float64</th><th>bool</th><th>bool</th><th>bool</th><th>bool</th><th>bool</th><th>float64</th><th>float64</th><th>float64</th><th>float64</th><th>float64</th><th>float64</th><th>float64</th><th>float64</th><th>float64</th><th>float64</th><th>bool</th><th>bool</th><th>bool</th><th>bool</th><th>bool</th><th>bool</th><th>bool</th><th>bool</th><th>bool</th><th>bool</th><th>bool</th><th>bool</th><th>float64</th><th>float64</th><th>float64</th><th>float64</th><th>float64</th><th>float64</th><th>float64</th><th>float64</th><th>float64</th><th>float64</th><th>bool</th><th>bool</th><th>bool</th><th>bool</th><th>bool</th><th>bool</th><th>bool</th><th>bool</th><th>float32</th><th>float32</th><th>float64</th><th>float64</th><th>bool</th><th>bool</th><th>bool</th><th>float64</th><th>float64</th><th>bool</th><th>bool</th><th>bool</th><th>float64</th><th>float64</th><th>bool</th><th>bool</th><th>bool</th><th>float64</th><th>float64</th><th>bool</th><th>bool</th><th>bool</th><th>float64</th><th>float64</th><th>float64</th><th>float64</th><th>float64</th><th>float64</th><th>bool</th><th>bool</th><th>bool</th><th>bool</th><th>bool</th><th>bool</th><th>bool</th><th>bool</th><th>bool</th><th>float64</th><th>float64</th><th>bool</th><th>bool</th><th>float64</th><th>float64</th><th>bool</th><th>bool</th><th>float64</th><th>float64</th><th>bool</th><th>bool</th><th>float64</th><th>float64</th><th>bool</th><th>bool</th><th>float64</th><th>float64</th><th>bool</th><th>bool</th><th>float64</th><th>float64</th><th>float64</th><th>float64</th><th>float64</th><th>float64</th><th>bool</th><th>bool</th><th>bool</th><th>bool</th><th>bool</th><th>bool</th><th>bool</th><th>bool</th><th>bool</th><th>bool</th><th>bool</th><th>bool</th><th>bool</th><th>bool</th><th>bool</th><th>float64</th><th>float64</th><th>float64</th><th>float64</th><th>bool</th><th>bool</th><th>bool</th><th>bool</th><th>bool</th><th>bool</th><th>bool</th><th>float64</th><th>bool</th><th>float64</th><th>float64</th><th>float32</th><th>float32</th><th>float32</th><th>bool</th><th>bool</th><th>bool</th><th>bool</th><th>bool</th><th>bool</th><th>bool</th><th>bool</th><th>bool</th><th>bool</th><th>float64</th><th>float64</th><th>float64</th><th>float64</th><th>float64</th><th>float64</th><th>bool</th><th>bool</th><th>bool</th><th>float64</th><th>float64</th><th>bool</th><th>float64</th><th>float64</th><th>float64</th><th>float64</th><th>bool</th><th>bool</th><th>float64</th><th>bool</th><th>int32</th><th>bool</th><th>bool</th><th>bool</th></tr></thead>\n",
       "<tr><td>1010357501953</td><td>0.923033029229361</td><td>-0.4793723336088661</td><td>0</td><td>False</td><td>False</td><td>False</td><td>False</td><td>0</td><td>False</td><td>nan</td><td>nan</td><td>nan</td><td>False</td><td>False</td><td>False</td><td>False</td><td>False</td><td>False</td><td>False</td><td>1980.019868931552</td><td>7.642499448278578</td><td>False</td><td>False</td><td>False</td><td>1980.0453256720882</td><td>7.943966875047312</td><td>False</td><td>False</td><td>False</td><td>False</td><td>1980.0</td><td>1980.0</td><td>8.0</td><td>8.0</td><td>nan</td><td>nan</td><td>nan</td><td>nan</td><td>True</td><td>True</td><td>True</td><td>True</td><td>True</td><td>True</td><td>True</td><td>True</td><td>True</td><td>True</td><td>True</td><td>True</td><td>True</td><td>True</td><td>True</td><td>True</td><td>True</td><td>True</td><td>True</td><td>True</td><td>True</td><td>True</td><td>True</td><td>True</td><td>True</td><td>True</td><td>True</td><td>True</td><td>False</td><td>False</td><td>False</td><td>False</td><td>False</td><td>False</td><td>False</td><td>False</td><td>False</td><td>False</td><td>False</td><td>False</td><td>False</td><td>False</td><td>False</td><td>False</td><td>False</td><td>False</td><td>False</td><td>False</td><td>False</td><td>False</td><td>False</td><td>False</td><td>False</td><td>False</td><td>False</td><td>False</td><td>False</td><td>False</td><td>False</td><td>False</td><td>False</td><td>False</td><td>False</td><td>False</td><td>False</td><td>False</td><td>False</td><td>False</td><td>False</td><td>False</td><td>False</td><td>False</td><td>False</td><td>False</td><td>False</td><td>False</td><td>False</td><td>False</td><td>False</td><td>False</td><td>False</td><td>False</td><td>False</td><td>False</td><td>0.0</td><td>0.0</td><td>5096.54728820666</td><td>5096.54728820666</td><td>0.0</td><td>5098.721211862966</td><td>5098.721211862966</td><td>4.041121102495505</td><td>4.494217271276707</td><td>-0.3367538197030731</td><td>4.041121102495505</td><td>4.494217271276707</td><td>-0.3367538197030731</td><td>4.081307052165051</td><td>4.593879812379573</td><td>-0.3505340861513449</td><td>4.081307052165051</td><td>4.593879812379573</td><td>-0.3505340861513449</td><td>True</td><td>True</td><td>True</td><td>4.033203557887515</td><td>4.620004443579578</td><td>-0.2948944651416235</td><td>0.50965065</td><td>0.3866026</td><td>0.583801</td><td>1980.01179804876</td><td>7.804458001407865</td><td>5204.457512306397</td><td>328.8273332063399</td><td>4.494544764128309</td><td>5.212304374560799</td><td>-0.1371336289244042</td><td>-83.79353</td><td>6.1267056</td><td>-95.98486</td><td>False</td><td>False</td><td>False</td><td>False</td><td>False</td><td>False</td><td>-0.0004632858349975</td><td>-0.0004632858349975</td><td>0.0017496107488251841</td><td>0.0017496107488251841</td><td>4.498141007165044</td><td>4.498141007165044</td><td>5.215121218023793</td><td>5.215121218023793</td><td>-0.1371611722138221</td><td>-0.1371611722138221</td><td>True</td><td>True</td><td>False</td><td>False</td><td>False</td><td>False</td><td>False</td><td>False</td><td>nan</td><td>nan</td><td>nan</td><td>nan</td><td>True</td><td>False</td><td>False</td><td>False</td><td>True</td><td>1980.0220472746714</td><td>1980.0220472746714</td><td>7.616673274566461</td><td>7.616673274566461</td><td>4.046703357874882</td><td>4.046703357874882</td><td>4.413891445445761</td><td>4.413891445445761</td><td>-0.3371103277975421</td><td>-0.3371103277975421</td><td>True</td><td>True</td><td>True</td><td>False</td><td>False</td><td>False</td><td>False</td><td>False</td><td>False</td><td>False</td><td>False</td><td>False</td><td>1980.0160443472944</td><td>1980.0160443472944</td><td>7.622242088225723</td><td>7.622242088225723</td><td>4.116252025546935</td><td>4.116252025546935</td><td>4.295061277190894</td><td>4.295061277190894</td><td>-0.16487429218976926</td><td>-0.16487429218976926</td><td>True</td><td>True</td><td>False</td><td>False</td><td>False</td><td>False</td><td>False</td><td>False</td><td>5177.1675</td><td>5177.1675</td><td>3287.5244140625</td><td>158.10244750976562</td><td>True</td><td>False</td><td>False</td><td>4587.88232421875</td><td>233.74769592285156</td><td>True</td><td>False</td><td>True</td><td>5432.3828125</td><td>308.88043212890625</td><td>True</td><td>False</td><td>True</td><td>nan</td><td>nan</td><td>True</td><td>True</td><td>True</td><td>nan</td><td>nan</td><td>nan</td><td>nan</td><td>nan</td><td>nan</td><td>True</td><td>True</td><td>True</td><td>True</td><td>True</td><td>True</td><td>True</td><td>True</td><td>True</td><td>nan</td><td>nan</td><td>True</td><td>True</td><td>nan</td><td>nan</td><td>True</td><td>True</td><td>nan</td><td>nan</td><td>True</td><td>True</td><td>nan</td><td>nan</td><td>True</td><td>True</td><td>nan</td><td>nan</td><td>True</td><td>True</td><td>5685.499181921204</td><td>5685.499181921204</td><td>5685.499181921204</td><td>254.03851366006722</td><td>254.03851366006722</td><td>254.03851366006722</td><td>False</td><td>False</td><td>False</td><td>False</td><td>False</td><td>True</td><td>False</td><td>False</td><td>False</td><td>False</td><td>False</td><td>False</td><td>False</td><td>False</td><td>False</td><td>6136.804745021554</td><td>6136.804745021554</td><td>267.14045510788</td><td>267.14045510788</td><td>True</td><td>True</td><td>False</td><td>False</td><td>True</td><td>True</td><td>False</td><td>816.5</td><td>False</td><td>nan</td><td>nan</td><td>nan</td><td>nan</td><td>nan</td><td>True</td><td>True</td><td>False</td><td>False</td><td>False</td><td>False</td><td>False</td><td>False</td><td>False</td><td>True</td><td>1.1046485541028341</td><td>1.1046485541028341</td><td>1.1046485541028341</td><td>0.0</td><td>0.0</td><td>0.0</td><td>False</td><td>False</td><td>False</td><td>1.035658891796663</td><td>0.0</td><td>False</td><td>0.9880637531939365</td><td>0.9880637531939365</td><td>0.0</td><td>0.0</td><td>False</td><td>False</td><td>nan</td><td>True</td><td>219</td><td>False</td><td>False</td><td>False</td></tr>\n",
       "<tr><td>1010357501954</td><td>0.9231694833170864</td><td>-0.47984291442194804</td><td>0</td><td>False</td><td>False</td><td>False</td><td>False</td><td>0</td><td>False</td><td>nan</td><td>nan</td><td>nan</td><td>False</td><td>False</td><td>False</td><td>False</td><td>False</td><td>False</td><td>False</td><td>2481.0</td><td>7.0</td><td>True</td><td>False</td><td>True</td><td>2481.081254985273</td><td>6.656761002707083</td><td>False</td><td>False</td><td>False</td><td>False</td><td>2481.0</td><td>2481.0</td><td>7.0</td><td>7.0</td><td>nan</td><td>nan</td><td>nan</td><td>nan</td><td>True</td><td>True</td><td>True</td><td>True</td><td>True</td><td>True</td><td>True</td><td>True</td><td>True</td><td>True</td><td>True</td><td>True</td><td>True</td><td>True</td><td>True</td><td>True</td><td>True</td><td>True</td><td>True</td><td>True</td><td>True</td><td>True</td><td>True</td><td>True</td><td>True</td><td>True</td><td>True</td><td>True</td><td>False</td><td>False</td><td>False</td><td>False</td><td>False</td><td>False</td><td>False</td><td>False</td><td>False</td><td>False</td><td>False</td><td>False</td><td>False</td><td>False</td><td>False</td><td>False</td><td>False</td><td>False</td><td>False</td><td>False</td><td>False</td><td>False</td><td>False</td><td>False</td><td>False</td><td>False</td><td>False</td><td>False</td><td>False</td><td>False</td><td>False</td><td>False</td><td>False</td><td>False</td><td>False</td><td>False</td><td>False</td><td>False</td><td>False</td><td>False</td><td>False</td><td>False</td><td>False</td><td>False</td><td>False</td><td>False</td><td>False</td><td>False</td><td>False</td><td>False</td><td>False</td><td>False</td><td>False</td><td>False</td><td>False</td><td>False</td><td>0.0</td><td>0.0</td><td>4861.64280109757</td><td>4861.64280109757</td><td>0.0</td><td>4858.882106687269</td><td>4858.882106687269</td><td>5.619704489943014</td><td>2.2569570908999137</td><td>-0.22942789697451613</td><td>5.619704489943014</td><td>2.2569570908999137</td><td>-0.22942789697451613</td><td>5.62124833527127</td><td>2.2581591329912056</td><td>-0.23290560582537576</td><td>5.62124833527127</td><td>2.2581591329912056</td><td>-0.23290560582537576</td><td>True</td><td>True</td><td>True</td><td>4.735260032481499</td><td>15.521460739535787</td><td>-0.6623779549931184</td><td>nan</td><td>nan</td><td>nan</td><td>2481.058729312579</td><td>6.0844143602473935</td><td>nan</td><td>nan</td><td>4.479208026343726</td><td>5.245688032035276</td><td>-0.12282306095729793</td><td>nan</td><td>nan</td><td>nan</td><td>True</td><td>False</td><td>True</td><td>False</td><td>False</td><td>False</td><td>-0.0012468354818022888</td><td>-0.0012468354818022888</td><td>0.0013916262282589402</td><td>0.0013916262282589402</td><td>4.482713763726027</td><td>4.482713763726027</td><td>5.248247574185301</td><td>5.248247574185301</td><td>-0.12262686082019596</td><td>-0.12262686082019596</td><td>True</td><td>True</td><td>False</td><td>False</td><td>False</td><td>False</td><td>False</td><td>False</td><td>nan</td><td>nan</td><td>nan</td><td>nan</td><td>True</td><td>False</td><td>False</td><td>False</td><td>True</td><td>2481.213842319571</td><td>2481.213842319571</td><td>2.6348222824329186</td><td>2.6348222824329186</td><td>4.498275901378852</td><td>4.498275901378852</td><td>0.9498700924730561</td><td>0.9498700924730561</td><td>-0.07294986290213222</td><td>-0.07294986290213222</td><td>True</td><td>True</td><td>True</td><td>False</td><td>False</td><td>False</td><td>False</td><td>False</td><td>False</td><td>False</td><td>False</td><td>False</td><td>2481.2065662802465</td><td>2481.2065662802465</td><td>2.8401171114565984</td><td>2.8401171114565984</td><td>3.1635837065221204</td><td>3.1635837065221204</td><td>1.6496305625620136</td><td>1.6496305625620136</td><td>-0.03608684390821266</td><td>-0.03608684390821266</td><td>True</td><td>True</td><td>False</td><td>False</td><td>False</td><td>False</td><td>False</td><td>False</td><td>44684.812</td><td>44684.812</td><td>7869.00927734375</td><td>170.34689331054688</td><td>True</td><td>False</td><td>False</td><td>25126.294921875</td><td>271.5418701171875</td><td>True</td><td>False</td><td>True</td><td>54097.8515625</td><td>376.9418029785156</td><td>True</td><td>False</td><td>True</td><td>nan</td><td>nan</td><td>True</td><td>True</td><td>True</td><td>nan</td><td>nan</td><td>nan</td><td>nan</td><td>nan</td><td>nan</td><td>True</td><td>True</td><td>True</td><td>True</td><td>True</td><td>True</td><td>True</td><td>True</td><td>True</td><td>nan</td><td>nan</td><td>True</td><td>True</td><td>nan</td><td>nan</td><td>True</td><td>True</td><td>nan</td><td>nan</td><td>True</td><td>True</td><td>nan</td><td>nan</td><td>True</td><td>True</td><td>nan</td><td>nan</td><td>True</td><td>True</td><td>5565.411568579142</td><td>5565.411568579142</td><td>5565.411568579142</td><td>180.7610900871693</td><td>180.7610900871693</td><td>180.7610900871693</td><td>False</td><td>False</td><td>False</td><td>False</td><td>False</td><td>True</td><td>False</td><td>False</td><td>False</td><td>False</td><td>False</td><td>False</td><td>False</td><td>False</td><td>False</td><td>28075.820659722463</td><td>28075.820659722463</td><td>290.8160733166533</td><td>290.8160733166533</td><td>True</td><td>True</td><td>False</td><td>False</td><td>True</td><td>True</td><td>True</td><td>nan</td><td>True</td><td>nan</td><td>nan</td><td>nan</td><td>nan</td><td>nan</td><td>True</td><td>True</td><td>False</td><td>False</td><td>False</td><td>False</td><td>False</td><td>False</td><td>False</td><td>True</td><td>1.103309825226218</td><td>1.103309825226218</td><td>1.103309825226218</td><td>0.0</td><td>0.0</td><td>0.0</td><td>False</td><td>False</td><td>False</td><td>1.0345385600790717</td><td>0.0</td><td>False</td><td>0.9866718800595933</td><td>0.9866718800595933</td><td>0.0</td><td>0.0</td><td>False</td><td>False</td><td>nan</td><td>True</td><td>290</td><td>False</td><td>False</td><td>False</td></tr>\n",
       "<tr><td>1010357501955</td><td>0.9232606263113138</td><td>-0.48015064707521005</td><td>0</td><td>False</td><td>False</td><td>False</td><td>False</td><td>0</td><td>False</td><td>nan</td><td>nan</td><td>nan</td><td>False</td><td>False</td><td>False</td><td>False</td><td>False</td><td>False</td><td>False</td><td>2808.550895997372</td><td>7.6145450937927555</td><td>False</td><td>False</td><td>False</td><td>2809.115913749368</td><td>7.985498569930726</td><td>False</td><td>False</td><td>False</td><td>False</td><td>2809.0</td><td>2809.0</td><td>8.0</td><td>8.0</td><td>nan</td><td>nan</td><td>nan</td><td>nan</td><td>True</td><td>True</td><td>True</td><td>True</td><td>True</td><td>True</td><td>True</td><td>True</td><td>True</td><td>True</td><td>True</td><td>True</td><td>True</td><td>True</td><td>True</td><td>True</td><td>True</td><td>True</td><td>True</td><td>True</td><td>True</td><td>True</td><td>True</td><td>True</td><td>True</td><td>True</td><td>True</td><td>True</td><td>False</td><td>False</td><td>False</td><td>False</td><td>False</td><td>False</td><td>False</td><td>False</td><td>False</td><td>False</td><td>False</td><td>False</td><td>False</td><td>False</td><td>False</td><td>False</td><td>False</td><td>False</td><td>False</td><td>False</td><td>False</td><td>False</td><td>False</td><td>False</td><td>False</td><td>False</td><td>False</td><td>False</td><td>False</td><td>False</td><td>False</td><td>False</td><td>False</td><td>False</td><td>False</td><td>False</td><td>False</td><td>False</td><td>False</td><td>False</td><td>False</td><td>False</td><td>False</td><td>False</td><td>False</td><td>False</td><td>False</td><td>False</td><td>False</td><td>False</td><td>False</td><td>False</td><td>False</td><td>False</td><td>False</td><td>False</td><td>0.0</td><td>0.0</td><td>4152.705157544043</td><td>4152.705157544043</td><td>0.0</td><td>4597.866309210161</td><td>4597.866309210161</td><td>11.180487762070285</td><td>11.604203740722133</td><td>-2.1544720730017453</td><td>11.180487762070285</td><td>11.604203740722133</td><td>-2.1544720730017453</td><td>14.421814199880618</td><td>14.396975879584325</td><td>-2.7770722301517736</td><td>14.421814199880618</td><td>14.396975879584325</td><td>-2.7770722301517736</td><td>True</td><td>True</td><td>True</td><td>11.832755898566637</td><td>13.743198572702662</td><td>-1.721126454527646</td><td>2.8073237</td><td>2.1587303</td><td>3.2605765</td><td>2808.831014679393</td><td>7.93151141303625</td><td>4556.534787611454</td><td>540.519376769358</td><td>4.471196771601749</td><td>5.276198781057862</td><td>-0.10904303539699525</td><td>-758.70636</td><td>110.357185</td><td>-881.2024</td><td>False</td><td>False</td><td>False</td><td>False</td><td>False</td><td>False</td><td>-0.0017805092566785287</td><td>-0.0017805092566785287</td><td>0.0013532790120992047</td><td>0.0013532790120992047</td><td>4.474656641174518</td><td>4.474656641174518</td><td>5.27879171109894</td><td>5.27879171109894</td><td>-0.10879957969112511</td><td>-0.10879957969112511</td><td>True</td><td>True</td><td>False</td><td>False</td><td>False</td><td>False</td><td>False</td><td>False</td><td>0.0904681533575058</td><td>-0.4606698751449585</td><td>0.263982892036438</td><td>0.5253836512565613</td><td>False</td><td>False</td><td>False</td><td>False</td><td>False</td><td>2808.696367100513</td><td>2808.696367100513</td><td>7.756796933711694</td><td>7.756796933711694</td><td>11.166304978832367</td><td>11.166304978832367</td><td>11.081948351281211</td><td>11.081948351281211</td><td>-2.271744083254492</td><td>-2.271744083254492</td><td>True</td><td>True</td><td>True</td><td>False</td><td>False</td><td>False</td><td>False</td><td>False</td><td>False</td><td>False</td><td>False</td><td>False</td><td>2808.7218782689406</td><td>2808.7218782689406</td><td>7.8475261860635</td><td>7.8475261860635</td><td>10.587703676517556</td><td>10.587703676517556</td><td>11.148292141704792</td><td>11.148292141704792</td><td>-0.918265658858922</td><td>-0.918265658858922</td><td>True</td><td>True</td><td>False</td><td>False</td><td>False</td><td>False</td><td>False</td><td>False</td><td>4195.833</td><td>4195.833</td><td>1497.6934814453125</td><td>152.51393127441406</td><td>True</td><td>False</td><td>False</td><td>2329.03759765625</td><td>228.65591430664062</td><td>True</td><td>False</td><td>True</td><td>3290.886474609375</td><td>305.20635986328125</td><td>True</td><td>False</td><td>True</td><td>nan</td><td>nan</td><td>True</td><td>True</td><td>True</td><td>nan</td><td>nan</td><td>nan</td><td>nan</td><td>nan</td><td>nan</td><td>True</td><td>True</td><td>True</td><td>True</td><td>True</td><td>True</td><td>True</td><td>True</td><td>True</td><td>nan</td><td>nan</td><td>True</td><td>True</td><td>nan</td><td>nan</td><td>True</td><td>True</td><td>nan</td><td>nan</td><td>True</td><td>True</td><td>nan</td><td>nan</td><td>True</td><td>True</td><td>nan</td><td>nan</td><td>True</td><td>True</td><td>4649.395270923253</td><td>4649.395270923253</td><td>4649.395270923253</td><td>391.00847572921134</td><td>391.00847572921134</td><td>391.00847572921134</td><td>False</td><td>False</td><td>False</td><td>False</td><td>False</td><td>True</td><td>False</td><td>False</td><td>False</td><td>False</td><td>False</td><td>False</td><td>False</td><td>False</td><td>False</td><td>3004.149612937568</td><td>3004.149612937568</td><td>256.65130041700127</td><td>256.65130041700127</td><td>True</td><td>True</td><td>False</td><td>False</td><td>True</td><td>True</td><td>False</td><td>824.0</td><td>False</td><td>nan</td><td>nan</td><td>nan</td><td>nan</td><td>nan</td><td>True</td><td>True</td><td>False</td><td>False</td><td>False</td><td>False</td><td>False</td><td>False</td><td>False</td><td>True</td><td>1.101998932411275</td><td>1.101998932411275</td><td>1.101998932411275</td><td>0.0</td><td>0.0</td><td>0.0</td><td>False</td><td>False</td><td>False</td><td>1.0336966044210236</td><td>0.0</td><td>False</td><td>0.985560006332403</td><td>0.985560006332403</td><td>0.0</td><td>0.0</td><td>False</td><td>False</td><td>nan</td><td>True</td><td>184</td><td>False</td><td>False</td><td>False</td></tr>\n",
       "<tr><td>1010357501956</td><td>0.9235299085068365</td><td>-0.48107097907657753</td><td>0</td><td>False</td><td>False</td><td>False</td><td>False</td><td>0</td><td>False</td><td>nan</td><td>nan</td><td>nan</td><td>False</td><td>False</td><td>False</td><td>False</td><td>False</td><td>False</td><td>False</td><td>3788.9342783281404</td><td>8.539387758264214</td><td>False</td><td>False</td><td>False</td><td>3789.0628974423266</td><td>7.925577176117846</td><td>False</td><td>False</td><td>False</td><td>False</td><td>3789.0</td><td>3789.0</td><td>8.0</td><td>8.0</td><td>nan</td><td>nan</td><td>nan</td><td>nan</td><td>True</td><td>True</td><td>True</td><td>True</td><td>True</td><td>True</td><td>True</td><td>True</td><td>True</td><td>True</td><td>True</td><td>True</td><td>True</td><td>True</td><td>True</td><td>True</td><td>True</td><td>True</td><td>True</td><td>True</td><td>True</td><td>True</td><td>True</td><td>True</td><td>True</td><td>True</td><td>True</td><td>True</td><td>False</td><td>False</td><td>False</td><td>False</td><td>False</td><td>False</td><td>False</td><td>False</td><td>False</td><td>False</td><td>False</td><td>False</td><td>False</td><td>False</td><td>False</td><td>False</td><td>False</td><td>False</td><td>False</td><td>False</td><td>False</td><td>False</td><td>False</td><td>False</td><td>False</td><td>False</td><td>False</td><td>False</td><td>False</td><td>False</td><td>False</td><td>False</td><td>False</td><td>False</td><td>False</td><td>False</td><td>False</td><td>False</td><td>False</td><td>False</td><td>False</td><td>False</td><td>False</td><td>False</td><td>False</td><td>False</td><td>False</td><td>False</td><td>False</td><td>False</td><td>False</td><td>False</td><td>False</td><td>False</td><td>False</td><td>False</td><td>0.0</td><td>0.0</td><td>15616.712100698851</td><td>15616.712100698851</td><td>0.0</td><td>15771.866305486508</td><td>15771.866305486508</td><td>22.317295135316595</td><td>17.628625474634067</td><td>1.3426715090655863</td><td>22.317295135316595</td><td>17.628625474634067</td><td>1.3426715090655863</td><td>24.105732643582808</td><td>18.157726471369575</td><td>1.0269614325000223</td><td>24.105732643582808</td><td>18.157726471369575</td><td>1.0269614325000223</td><td>True</td><td>True</td><td>True</td><td>22.62074281731808</td><td>18.843142576207818</td><td>1.7203644272460576</td><td>1.9011251</td><td>1.2311798</td><td>1.5836426</td><td>3788.931227369696</td><td>8.301989418010033</td><td>16546.66312700411</td><td>695.3192644118585</td><td>4.456390567853385</td><td>5.410120931755419</td><td>-0.046786939633374346</td><td>-660.94446</td><td>-50.26648</td><td>-550.5686</td><td>False</td><td>False</td><td>False</td><td>False</td><td>False</td><td>False</td><td>-0.0034748336809761107</td><td>-0.0034748336809761107</td><td>0.0022033385874969127</td><td>0.0022033385874969127</td><td>4.4599063231791645</td><td>4.4599063231791645</td><td>5.4126875616759555</td><td>5.4126875616759555</td><td>-0.04652427369480204</td><td>-0.04652427369480204</td><td>True</td><td>True</td><td>False</td><td>False</td><td>False</td><td>False</td><td>False</td><td>False</td><td>0.22757840156555176</td><td>0.07707726955413818</td><td>0.0739312693476677</td><td>0.7287380695343018</td><td>False</td><td>False</td><td>False</td><td>False</td><td>False</td><td>3788.8968688524865</td><td>3788.8968688524865</td><td>8.732921522395436</td><td>8.732921522395436</td><td>22.401641563943727</td><td>22.401641563943727</td><td>16.699578079693666</td><td>16.699578079693666</td><td>1.0620240869265756</td><td>1.0620240869265756</td><td>True</td><td>True</td><td>True</td><td>False</td><td>False</td><td>False</td><td>False</td><td>False</td><td>False</td><td>False</td><td>False</td><td>False</td><td>3788.9432678657017</td><td>3788.9432678657017</td><td>8.755193833344547</td><td>8.755193833344547</td><td>20.51962031977017</td><td>20.51962031977017</td><td>17.820076085364924</td><td>17.820076085364924</td><td>0.5032968735027773</td><td>0.5032968735027773</td><td>True</td><td>True</td><td>False</td><td>False</td><td>False</td><td>False</td><td>False</td><td>False</td><td>15818.458</td><td>15818.458</td><td>3348.310791015625</td><td>157.84092712402344</td><td>True</td><td>False</td><td>False</td><td>6507.99462890625</td><td>237.44920349121094</td><td>True</td><td>False</td><td>True</td><td>9759.1240234375</td><td>315.2978515625</td><td>True</td><td>False</td><td>True</td><td>nan</td><td>nan</td><td>True</td><td>True</td><td>True</td><td>nan</td><td>nan</td><td>nan</td><td>nan</td><td>nan</td><td>nan</td><td>True</td><td>True</td><td>True</td><td>True</td><td>True</td><td>True</td><td>True</td><td>True</td><td>True</td><td>nan</td><td>nan</td><td>True</td><td>True</td><td>nan</td><td>nan</td><td>True</td><td>True</td><td>nan</td><td>nan</td><td>True</td><td>True</td><td>nan</td><td>nan</td><td>True</td><td>True</td><td>nan</td><td>nan</td><td>True</td><td>True</td><td>17555.006575893243</td><td>17555.006575893243</td><td>17555.006575893243</td><td>522.100111164956</td><td>522.100111164956</td><td>522.100111164956</td><td>False</td><td>False</td><td>False</td><td>False</td><td>False</td><td>True</td><td>False</td><td>False</td><td>False</td><td>False</td><td>False</td><td>False</td><td>False</td><td>False</td><td>False</td><td>7323.285472136086</td><td>7323.285472136086</td><td>264.8928158585222</td><td>264.8928158585222</td><td>True</td><td>True</td><td>False</td><td>False</td><td>True</td><td>True</td><td>False</td><td>825.0</td><td>False</td><td>nan</td><td>nan</td><td>nan</td><td>nan</td><td>nan</td><td>True</td><td>True</td><td>False</td><td>False</td><td>False</td><td>False</td><td>False</td><td>False</td><td>False</td><td>True</td><td>1.096035329844537</td><td>1.096035329844537</td><td>1.096035329844537</td><td>0.0</td><td>0.0</td><td>0.0</td><td>False</td><td>False</td><td>False</td><td>1.030656877067036</td><td>0.0</td><td>False</td><td>0.9813535262603783</td><td>0.9813535262603783</td><td>0.0</td><td>0.0</td><td>False</td><td>False</td><td>nan</td><td>True</td><td>437</td><td>False</td><td>False</td><td>False</td></tr>\n",
       "<tr><td>1010357501957</td><td>0.9227888992171793</td><td>-0.4785170024901623</td><td>0</td><td>False</td><td>False</td><td>False</td><td>False</td><td>0</td><td>False</td><td>nan</td><td>nan</td><td>nan</td><td>False</td><td>False</td><td>False</td><td>False</td><td>False</td><td>False</td><td>False</td><td>1070.43384176351</td><td>12.834787065506172</td><td>False</td><td>False</td><td>False</td><td>1070.0450882626653</td><td>12.947012125580347</td><td>False</td><td>False</td><td>False</td><td>False</td><td>1070.0</td><td>1070.0</td><td>13.0</td><td>13.0</td><td>nan</td><td>nan</td><td>nan</td><td>nan</td><td>True</td><td>True</td><td>True</td><td>True</td><td>True</td><td>True</td><td>True</td><td>True</td><td>True</td><td>True</td><td>True</td><td>True</td><td>True</td><td>True</td><td>True</td><td>True</td><td>True</td><td>True</td><td>True</td><td>True</td><td>True</td><td>True</td><td>True</td><td>True</td><td>True</td><td>True</td><td>True</td><td>True</td><td>False</td><td>False</td><td>False</td><td>False</td><td>False</td><td>False</td><td>False</td><td>False</td><td>False</td><td>False</td><td>False</td><td>False</td><td>False</td><td>False</td><td>False</td><td>False</td><td>False</td><td>False</td><td>False</td><td>False</td><td>False</td><td>False</td><td>False</td><td>False</td><td>False</td><td>False</td><td>False</td><td>False</td><td>False</td><td>False</td><td>False</td><td>False</td><td>False</td><td>False</td><td>False</td><td>False</td><td>False</td><td>False</td><td>False</td><td>False</td><td>False</td><td>False</td><td>False</td><td>False</td><td>False</td><td>False</td><td>False</td><td>False</td><td>False</td><td>False</td><td>False</td><td>False</td><td>False</td><td>False</td><td>False</td><td>False</td><td>0.0</td><td>0.0</td><td>4895.88020847544</td><td>4895.88020847544</td><td>0.0</td><td>5043.820513783563</td><td>5043.820513783563</td><td>8.55331912840827</td><td>7.950985544281625</td><td>3.394492519172994</td><td>8.55331912840827</td><td>7.950985544281625</td><td>3.394492519172994</td><td>9.679942575995605</td><td>9.284586822467999</td><td>3.942529115981543</td><td>9.679942575995605</td><td>9.284586822467999</td><td>3.942529115981543</td><td>True</td><td>True</td><td>True</td><td>8.319025357400449</td><td>7.920644108981018</td><td>3.1895964271505</td><td>1.3703208</td><td>1.0158484</td><td>1.3046991</td><td>1070.2819457146793</td><td>12.9097334031074</td><td>4899.5911883445215</td><td>403.53357446840096</td><td>4.532004446087842</td><td>5.192914673220645</td><td>-0.14360192452696993</td><td>-276.48523</td><td>-106.00717</td><td>-263.24493</td><td>False</td><td>False</td><td>False</td><td>False</td><td>False</td><td>False</td><td>0.0008790571276006704</td><td>0.0008790571276006704</td><td>0.0033906163707768</td><td>0.0033906163707768</td><td>4.535859761470915</td><td>4.535859761470915</td><td>5.195654005187468</td><td>5.195654005187468</td><td>-0.14370658234868955</td><td>-0.14370658234868955</td><td>True</td><td>True</td><td>False</td><td>False</td><td>False</td><td>False</td><td>False</td><td>False</td><td>0.24639376997947693</td><td>1.1743088960647583</td><td>0.2635611295700073</td><td>0.39405590295791626</td><td>False</td><td>False</td><td>False</td><td>False</td><td>False</td><td>1070.5779304392079</td><td>1070.5779304392079</td><td>12.832948902775113</td><td>12.832948902775113</td><td>8.850790868247172</td><td>8.850790868247172</td><td>8.031166276113169</td><td>8.031166276113169</td><td>3.5925352553620296</td><td>3.5925352553620296</td><td>True</td><td>True</td><td>True</td><td>False</td><td>False</td><td>False</td><td>False</td><td>False</td><td>False</td><td>False</td><td>False</td><td>False</td><td>1070.5322150016302</td><td>1070.5322150016302</td><td>12.83109063652391</td><td>12.83109063652391</td><td>7.792642362040445</td><td>7.792642362040445</td><td>7.554334942159042</td><td>7.554334942159042</td><td>1.552697768660967</td><td>1.552697768660967</td><td>True</td><td>True</td><td>False</td><td>False</td><td>False</td><td>False</td><td>False</td><td>False</td><td>4875.4854</td><td>4875.4854</td><td>2229.049560546875</td><td>154.75946044921875</td><td>True</td><td>False</td><td>False</td><td>3396.251708984375</td><td>231.010986328125</td><td>True</td><td>False</td><td>True</td><td>4309.892578125</td><td>306.8758544921875</td><td>True</td><td>False</td><td>True</td><td>4929.19775390625</td><td>457.35845947265625</td><td>True</td><td>False</td><td>True</td><td>5370.736328125</td><td>5370.736328125</td><td>5370.736328125</td><td>608.64453125</td><td>608.64453125</td><td>608.64453125</td><td>True</td><td>True</td><td>True</td><td>False</td><td>False</td><td>False</td><td>True</td><td>True</td><td>True</td><td>nan</td><td>nan</td><td>True</td><td>True</td><td>nan</td><td>nan</td><td>True</td><td>True</td><td>nan</td><td>nan</td><td>True</td><td>True</td><td>nan</td><td>nan</td><td>True</td><td>True</td><td>nan</td><td>nan</td><td>True</td><td>True</td><td>5471.25201237689</td><td>5471.25201237689</td><td>5471.25201237689</td><td>318.7288177992751</td><td>318.7288177992751</td><td>318.7288177992751</td><td>False</td><td>False</td><td>False</td><td>False</td><td>False</td><td>True</td><td>False</td><td>False</td><td>False</td><td>False</td><td>False</td><td>False</td><td>False</td><td>False</td><td>False</td><td>4261.457688666958</td><td>4261.457688666958</td><td>261.34967757376387</td><td>261.34967757376387</td><td>True</td><td>True</td><td>False</td><td>False</td><td>True</td><td>True</td><td>False</td><td>819.0</td><td>False</td><td>nan</td><td>nan</td><td>nan</td><td>nan</td><td>nan</td><td>True</td><td>True</td><td>False</td><td>False</td><td>False</td><td>False</td><td>False</td><td>False</td><td>False</td><td>True</td><td>1.1050217533878912</td><td>1.1050217533878912</td><td>1.1050217533878912</td><td>0.0</td><td>0.0</td><td>0.0</td><td>False</td><td>False</td><td>False</td><td>1.0371701276611676</td><td>0.0</td><td>False</td><td>0.9896647528582565</td><td>0.9896647528582565</td><td>0.0</td><td>0.0</td><td>False</td><td>False</td><td>nan</td><td>True</td><td>264</td><td>False</td><td>False</td><td>False</td></tr>\n",
       "<tr><td>1010357501958</td><td>0.9235455709036104</td><td>-0.4811245115137658</td><td>0</td><td>False</td><td>False</td><td>False</td><td>False</td><td>0</td><td>False</td><td>nan</td><td>nan</td><td>nan</td><td>False</td><td>False</td><td>False</td><td>False</td><td>False</td><td>False</td><td>False</td><td>3846.6328669684503</td><td>8.328366228862016</td><td>False</td><td>False</td><td>False</td><td>3845.7674439794187</td><td>8.027652131924878</td><td>False</td><td>False</td><td>False</td><td>False</td><td>3846.0</td><td>3846.0</td><td>8.0</td><td>8.0</td><td>nan</td><td>nan</td><td>nan</td><td>nan</td><td>True</td><td>True</td><td>True</td><td>True</td><td>True</td><td>True</td><td>True</td><td>True</td><td>True</td><td>True</td><td>True</td><td>True</td><td>True</td><td>True</td><td>True</td><td>True</td><td>True</td><td>True</td><td>True</td><td>True</td><td>True</td><td>True</td><td>True</td><td>True</td><td>True</td><td>True</td><td>True</td><td>True</td><td>False</td><td>False</td><td>False</td><td>False</td><td>False</td><td>False</td><td>False</td><td>False</td><td>False</td><td>False</td><td>False</td><td>False</td><td>False</td><td>False</td><td>False</td><td>False</td><td>False</td><td>False</td><td>False</td><td>False</td><td>False</td><td>False</td><td>False</td><td>False</td><td>False</td><td>False</td><td>False</td><td>False</td><td>False</td><td>False</td><td>False</td><td>False</td><td>False</td><td>False</td><td>False</td><td>False</td><td>False</td><td>False</td><td>False</td><td>False</td><td>False</td><td>False</td><td>False</td><td>False</td><td>False</td><td>False</td><td>False</td><td>False</td><td>False</td><td>False</td><td>False</td><td>False</td><td>False</td><td>False</td><td>False</td><td>False</td><td>0.0</td><td>0.0</td><td>1364.2393669278968</td><td>1364.2393669278968</td><td>0.0</td><td>1377.542701830948</td><td>1377.542701830948</td><td>2.5451970129649815</td><td>5.096527888353331</td><td>0.4912298903955977</td><td>2.5451970129649815</td><td>5.096527888353331</td><td>0.4912298903955977</td><td>3.0231098863452033</td><td>6.84270948651371</td><td>0.8295598498560329</td><td>3.0231098863452033</td><td>6.84270948651371</td><td>0.8295598498560329</td><td>True</td><td>True</td><td>True</td><td>2.8289308824940296</td><td>4.81431613196908</td><td>0.4291439849462061</td><td>1.1352086</td><td>1.0542253</td><td>1.9319147</td><td>3845.9003759792645</td><td>8.161936680268289</td><td>1412.5891763623806</td><td>283.4257061255881</td><td>4.45595370048626</td><td>5.419915069643288</td><td>-0.04216920873724718</td><td>-160.87366</td><td>-24.404263</td><td>-273.77713</td><td>False</td><td>False</td><td>False</td><td>False</td><td>False</td><td>False</td><td>-0.0035780671004772874</td><td>-0.0035780671004772874</td><td>0.002297688640459703</td><td>0.002297688640459703</td><td>4.459488731588551</td><td>4.459488731588551</td><td>5.422519551215909</td><td>5.422519551215909</td><td>-0.041891861600586056</td><td>-0.041891861600586056</td><td>True</td><td>True</td><td>False</td><td>False</td><td>False</td><td>False</td><td>False</td><td>False</td><td>nan</td><td>nan</td><td>nan</td><td>nan</td><td>True</td><td>False</td><td>False</td><td>False</td><td>True</td><td>3845.7969326867383</td><td>3845.7969326867383</td><td>8.3761067389345</td><td>8.3761067389345</td><td>2.452884373997101</td><td>2.452884373997101</td><td>5.206898978531645</td><td>5.206898978531645</td><td>0.6745791254557246</td><td>0.6745791254557246</td><td>True</td><td>True</td><td>True</td><td>False</td><td>False</td><td>False</td><td>False</td><td>False</td><td>False</td><td>False</td><td>False</td><td>False</td><td>3845.8043797163955</td><td>3845.8043797163955</td><td>8.234756335201851</td><td>8.234756335201851</td><td>3.3063567862705865</td><td>3.3063567862705865</td><td>4.302101969662946</td><td>4.302101969662946</td><td>0.31721971276785227</td><td>0.31721971276785227</td><td>True</td><td>True</td><td>False</td><td>False</td><td>False</td><td>False</td><td>False</td><td>False</td><td>1425.155</td><td>1425.155</td><td>961.1591796875</td><td>150.7469940185547</td><td>True</td><td>False</td><td>False</td><td>1407.4061279296875</td><td>226.62985229492188</td><td>True</td><td>False</td><td>True</td><td>1390.6527099609375</td><td>301.9486083984375</td><td>True</td><td>False</td><td>True</td><td>nan</td><td>nan</td><td>True</td><td>True</td><td>True</td><td>nan</td><td>nan</td><td>nan</td><td>nan</td><td>nan</td><td>nan</td><td>True</td><td>True</td><td>True</td><td>True</td><td>True</td><td>True</td><td>True</td><td>True</td><td>True</td><td>nan</td><td>nan</td><td>True</td><td>True</td><td>nan</td><td>nan</td><td>True</td><td>True</td><td>nan</td><td>nan</td><td>True</td><td>True</td><td>nan</td><td>nan</td><td>True</td><td>True</td><td>nan</td><td>nan</td><td>True</td><td>True</td><td>1510.3855413390997</td><td>1510.3855413390997</td><td>1510.3855413390997</td><td>214.85124917444455</td><td>214.85124917444455</td><td>214.85124917444455</td><td>False</td><td>False</td><td>False</td><td>False</td><td>False</td><td>True</td><td>False</td><td>False</td><td>False</td><td>False</td><td>False</td><td>False</td><td>False</td><td>False</td><td>False</td><td>1811.4729356227947</td><td>1811.4729356227947</td><td>253.32039498736083</td><td>253.32039498736083</td><td>True</td><td>True</td><td>False</td><td>False</td><td>True</td><td>True</td><td>False</td><td>825.0</td><td>False</td><td>nan</td><td>nan</td><td>nan</td><td>nan</td><td>nan</td><td>True</td><td>True</td><td>False</td><td>False</td><td>False</td><td>False</td><td>False</td><td>False</td><td>False</td><td>True</td><td>1.0955940646300257</td><td>1.0955940646300257</td><td>1.0955940646300257</td><td>0.0</td><td>0.0</td><td>0.0</td><td>False</td><td>False</td><td>False</td><td>1.0304560700098575</td><td>0.0</td><td>False</td><td>0.9810672970017367</td><td>0.9810672970017367</td><td>0.0</td><td>0.0</td><td>False</td><td>False</td><td>nan</td><td>True</td><td>72</td><td>False</td><td>False</td><td>False</td></tr>\n",
       "<tr><td>1010357501959</td><td>0.9233171043552312</td><td>-0.4801738056732285</td><td>0</td><td>True</td><td>False</td><td>False</td><td>False</td><td>0</td><td>False</td><td>nan</td><td>nan</td><td>nan</td><td>False</td><td>False</td><td>False</td><td>False</td><td>False</td><td>False</td><td>False</td><td>2844.9975436461973</td><td>52.36198743810862</td><td>False</td><td>False</td><td>False</td><td>2845.017159546837</td><td>51.99697697623359</td><td>False</td><td>False</td><td>False</td><td>False</td><td>2845.0</td><td>2845.0</td><td>52.0</td><td>52.0</td><td>nan</td><td>nan</td><td>nan</td><td>nan</td><td>True</td><td>True</td><td>True</td><td>True</td><td>True</td><td>True</td><td>True</td><td>True</td><td>True</td><td>True</td><td>True</td><td>True</td><td>True</td><td>True</td><td>True</td><td>True</td><td>True</td><td>True</td><td>True</td><td>True</td><td>True</td><td>True</td><td>True</td><td>True</td><td>True</td><td>True</td><td>True</td><td>True</td><td>False</td><td>False</td><td>False</td><td>False</td><td>False</td><td>False</td><td>False</td><td>False</td><td>False</td><td>False</td><td>False</td><td>False</td><td>False</td><td>False</td><td>False</td><td>False</td><td>False</td><td>False</td><td>False</td><td>False</td><td>False</td><td>False</td><td>False</td><td>False</td><td>False</td><td>False</td><td>False</td><td>False</td><td>False</td><td>False</td><td>False</td><td>False</td><td>False</td><td>False</td><td>False</td><td>False</td><td>False</td><td>False</td><td>False</td><td>False</td><td>False</td><td>False</td><td>False</td><td>False</td><td>False</td><td>False</td><td>False</td><td>False</td><td>False</td><td>False</td><td>False</td><td>False</td><td>False</td><td>False</td><td>False</td><td>False</td><td>0.0</td><td>0.0</td><td>259907.7045650681</td><td>259907.7045650681</td><td>0.0</td><td>259888.83875385614</td><td>259888.83875385614</td><td>34.01200554361662</td><td>86.36644327660231</td><td>19.679175551984386</td><td>34.01200554361662</td><td>86.36644327660231</td><td>19.679175551984386</td><td>33.99628865318451</td><td>86.33322190906966</td><td>19.67042783605019</td><td>33.99628865318451</td><td>86.33322190906966</td><td>19.67042783605019</td><td>True</td><td>True</td><td>True</td><td>34.27504570550563</td><td>87.25918862789547</td><td>19.83889343716129</td><td>0.42362645</td><td>0.5084292</td><td>1.07849</td><td>2845.008053915802</td><td>52.21995109610489</td><td>263103.97320313187</td><td>1625.9321652394765</td><td>4.471805666833198</td><td>5.282644707347525</td><td>-0.10630454837659148</td><td>-344.39392</td><td>-199.3402</td><td>-876.7759</td><td>False</td><td>False</td><td>False</td><td>False</td><td>False</td><td>False</td><td>-0.0018524889783862715</td><td>-0.0018524889783862715</td><td>0.0011852733809287297</td><td>0.0011852733809287297</td><td>4.475275148217715</td><td>4.475275148217715</td><td>5.285240709684953</td><td>5.285240709684953</td><td>-0.10606831302537593</td><td>-0.10606831302537593</td><td>True</td><td>True</td><td>False</td><td>False</td><td>False</td><td>False</td><td>False</td><td>False</td><td>-0.5073670744895935</td><td>0.3899464011192322</td><td>0.004871758632361889</td><td>0.9123671650886536</td><td>False</td><td>False</td><td>False</td><td>False</td><td>False</td><td>2845.01590576561</td><td>2845.01590576561</td><td>52.43963073972623</td><td>52.43963073972623</td><td>34.329356262597365</td><td>34.329356262597365</td><td>87.09779662171638</td><td>87.09779662171638</td><td>19.888220739643376</td><td>19.888220739643376</td><td>True</td><td>True</td><td>True</td><td>False</td><td>False</td><td>False</td><td>False</td><td>False</td><td>False</td><td>False</td><td>False</td><td>False</td><td>2845.001512172509</td><td>2845.001512172509</td><td>52.40280235551328</td><td>52.40280235551328</td><td>40.10823495612491</td><td>40.10823495612491</td><td>58.4094179519878</td><td>58.4094179519878</td><td>6.545121741241067</td><td>6.545121741241067</td><td>True</td><td>True</td><td>False</td><td>False</td><td>False</td><td>False</td><td>False</td><td>False</td><td>246525.53</td><td>246525.53</td><td>28808.5625</td><td>221.85679626464844</td><td>True</td><td>False</td><td>False</td><td>55015.73828125</td><td>321.6400451660156</td><td>True</td><td>False</td><td>False</td><td>82856.625</td><td>413.9692687988281</td><td>True</td><td>False</td><td>False</td><td>135166.375</td><td>581.524169921875</td><td>True</td><td>False</td><td>False</td><td>180920.15625</td><td>180920.15625</td><td>180920.15625</td><td>738.4222412109375</td><td>738.4222412109375</td><td>738.4222412109375</td><td>True</td><td>True</td><td>True</td><td>False</td><td>False</td><td>False</td><td>False</td><td>False</td><td>False</td><td>237391.1485939026</td><td>988.2418732273998</td><td>True</td><td>False</td><td>293457.36923256516</td><td>1379.2646591571902</td><td>True</td><td>False</td><td>324003.1976800561</td><td>1866.8735897215965</td><td>True</td><td>False</td><td>341125.44868323207</td><td>2603.52261369092</td><td>True</td><td>False</td><td>nan</td><td>nan</td><td>True</td><td>True</td><td>289823.2214307699</td><td>289823.2214307699</td><td>289823.2214307699</td><td>1266.466169498709</td><td>1266.466169498709</td><td>1266.466169498709</td><td>False</td><td>False</td><td>False</td><td>False</td><td>False</td><td>False</td><td>False</td><td>False</td><td>False</td><td>False</td><td>False</td><td>False</td><td>False</td><td>False</td><td>False</td><td>64110.75937327527</td><td>64110.75937327527</td><td>372.22047331133246</td><td>372.22047331133246</td><td>True</td><td>True</td><td>False</td><td>False</td><td>False</td><td>False</td><td>False</td><td>827.0</td><td>False</td><td>251719.50511767366</td><td>1046.7178916519324</td><td>6.965939</td><td>13.271595</td><td>2.762747</td><td>True</td><td>False</td><td>False</td><td>False</td><td>False</td><td>False</td><td>False</td><td>False</td><td>False</td><td>True</td><td>1.101847911476791</td><td>1.101847911476791</td><td>1.101847911476791</td><td>0.0</td><td>0.0</td><td>0.0</td><td>False</td><td>False</td><td>False</td><td>1.0336645039454309</td><td>0.0</td><td>False</td><td>0.9851963572054241</td><td>0.9851963572054241</td><td>0.0</td><td>0.0</td><td>False</td><td>False</td><td>nan</td><td>True</td><td>3087</td><td>False</td><td>False</td><td>False</td></tr>\n",
       "<tr><td>1010357501960</td><td>0.9234794124400545</td><td>-0.4808250184487304</td><td>0</td><td>False</td><td>False</td><td>False</td><td>False</td><td>0</td><td>False</td><td>nan</td><td>nan</td><td>nan</td><td>False</td><td>False</td><td>False</td><td>False</td><td>False</td><td>False</td><td>False</td><td>3532.104168063881</td><td>26.984826867962663</td><td>False</td><td>False</td><td>False</td><td>3531.886252302298</td><td>27.141299683319943</td><td>False</td><td>False</td><td>False</td><td>False</td><td>3532.0</td><td>3532.0</td><td>27.0</td><td>27.0</td><td>nan</td><td>nan</td><td>nan</td><td>nan</td><td>True</td><td>True</td><td>True</td><td>True</td><td>True</td><td>True</td><td>True</td><td>True</td><td>True</td><td>True</td><td>True</td><td>True</td><td>True</td><td>True</td><td>True</td><td>True</td><td>True</td><td>True</td><td>True</td><td>True</td><td>True</td><td>True</td><td>True</td><td>True</td><td>True</td><td>True</td><td>True</td><td>True</td><td>False</td><td>False</td><td>False</td><td>False</td><td>False</td><td>False</td><td>False</td><td>False</td><td>False</td><td>False</td><td>False</td><td>False</td><td>False</td><td>False</td><td>False</td><td>False</td><td>False</td><td>False</td><td>False</td><td>False</td><td>False</td><td>False</td><td>False</td><td>False</td><td>False</td><td>False</td><td>False</td><td>False</td><td>False</td><td>False</td><td>False</td><td>False</td><td>False</td><td>False</td><td>False</td><td>False</td><td>False</td><td>False</td><td>False</td><td>False</td><td>False</td><td>False</td><td>False</td><td>False</td><td>False</td><td>False</td><td>False</td><td>False</td><td>False</td><td>False</td><td>False</td><td>False</td><td>False</td><td>False</td><td>False</td><td>False</td><td>0.0</td><td>0.0</td><td>3278.0569658860018</td><td>3278.0569658860018</td><td>0.0</td><td>3376.1019497161415</td><td>3376.1019497161415</td><td>6.059877939319027</td><td>11.599883035985778</td><td>3.692816741306472</td><td>6.059877939319027</td><td>11.599883035985778</td><td>3.692816741306472</td><td>7.677432041947949</td><td>12.671549953988304</td><td>4.304946995292243</td><td>7.677432041947949</td><td>12.671549953988304</td><td>4.304946995292243</td><td>True</td><td>True</td><td>True</td><td>6.152925023970626</td><td>12.024558351983448</td><td>3.8319590258252685</td><td>1.4851438</td><td>1.6071652</td><td>2.9023917</td><td>3532.0144909665532</td><td>27.04447171642244</td><td>3409.847433284362</td><td>411.5208426390032</td><td>4.459522399886257</td><td>5.369500902473593</td><td>-0.06577093322153546</td><td>-305.58383</td><td>-190.3135</td><td>-597.1973</td><td>False</td><td>False</td><td>False</td><td>False</td><td>False</td><td>False</td><td>-0.003014795309737453</td><td>-0.003014795309737453</td><td>0.0017691414694371577</td><td>0.0017691414694371577</td><td>4.463043576996827</td><td>4.463043576996827</td><td>5.372297243405319</td><td>5.372297243405319</td><td>-0.06541670326897168</td><td>-0.06541670326897168</td><td>True</td><td>True</td><td>False</td><td>False</td><td>False</td><td>False</td><td>False</td><td>False</td><td>-0.5117935538291931</td><td>0.8766505718231201</td><td>0.4310040771961212</td><td>0.39622387290000916</td><td>False</td><td>False</td><td>False</td><td>False</td><td>False</td><td>3531.955738234825</td><td>3531.955738234825</td><td>26.921138036989927</td><td>26.921138036989927</td><td>5.975332436883461</td><td>5.975332436883461</td><td>10.760242830286282</td><td>10.760242830286282</td><td>3.353301460683635</td><td>3.353301460683635</td><td>True</td><td>True</td><td>True</td><td>False</td><td>False</td><td>False</td><td>False</td><td>False</td><td>False</td><td>False</td><td>False</td><td>False</td><td>3532.0009308146814</td><td>3532.0009308146814</td><td>26.91109693845541</td><td>26.91109693845541</td><td>7.6242937405178655</td><td>7.6242937405178655</td><td>9.832465196523078</td><td>9.832465196523078</td><td>1.4321822349282982</td><td>1.4321822349282982</td><td>True</td><td>True</td><td>False</td><td>False</td><td>False</td><td>False</td><td>False</td><td>False</td><td>3461.2732</td><td>3461.2732</td><td>1404.349853515625</td><td>152.13653564453125</td><td>True</td><td>False</td><td>False</td><td>2415.909423828125</td><td>228.9794921875</td><td>True</td><td>False</td><td>False</td><td>2931.16552734375</td><td>304.7228088378906</td><td>True</td><td>False</td><td>False</td><td>3770.107421875</td><td>456.302978515625</td><td>True</td><td>False</td><td>True</td><td>3380.7734375</td><td>3380.7734375</td><td>3380.7734375</td><td>607.1520385742188</td><td>607.1520385742188</td><td>607.1520385742188</td><td>True</td><td>True</td><td>True</td><td>False</td><td>False</td><td>False</td><td>True</td><td>True</td><td>True</td><td>3892.829331703484</td><td>861.7406802513156</td><td>True</td><td>False</td><td>6639.911682702601</td><td>1270.592775046356</td><td>True</td><td>False</td><td>nan</td><td>nan</td><td>True</td><td>True</td><td>nan</td><td>nan</td><td>True</td><td>True</td><td>nan</td><td>nan</td><td>True</td><td>True</td><td>3637.9286839714596</td><td>3637.9286839714596</td><td>3637.9286839714596</td><td>310.7077094982714</td><td>310.7077094982714</td><td>310.7077094982714</td><td>False</td><td>False</td><td>False</td><td>False</td><td>False</td><td>False</td><td>False</td><td>False</td><td>False</td><td>False</td><td>False</td><td>False</td><td>False</td><td>False</td><td>False</td><td>2841.0089730089535</td><td>2841.0089730089535</td><td>255.73505677142194</td><td>255.73505677142194</td><td>True</td><td>True</td><td>False</td><td>False</td><td>False</td><td>False</td><td>False</td><td>821.0</td><td>False</td><td>3899.0801290395116</td><td>424.86819191259383</td><td>3.2464912</td><td>13.271595</td><td>2.772335</td><td>True</td><td>False</td><td>False</td><td>False</td><td>False</td><td>False</td><td>False</td><td>False</td><td>False</td><td>True</td><td>1.097915367809483</td><td>1.097915367809483</td><td>1.097915367809483</td><td>0.0</td><td>0.0</td><td>0.0</td><td>False</td><td>False</td><td>False</td><td>1.031568839673474</td><td>0.0</td><td>False</td><td>0.9824972772833114</td><td>0.9824972772833114</td><td>0.0</td><td>0.0</td><td>False</td><td>False</td><td>nan</td><td>True</td><td>192</td><td>False</td><td>False</td><td>False</td></tr>\n",
       "<tr><td>1010357501961</td><td>0.9230547505458153</td><td>-0.4793634360532654</td><td>0</td><td>False</td><td>False</td><td>False</td><td>False</td><td>0</td><td>False</td><td>nan</td><td>nan</td><td>nan</td><td>False</td><td>False</td><td>False</td><td>False</td><td>False</td><td>False</td><td>False</td><td>1976.6004633153384</td><td>28.9329083178396</td><td>False</td><td>False</td><td>False</td><td>1975.940298641583</td><td>29.195915514247517</td><td>False</td><td>False</td><td>False</td><td>False</td><td>1976.0843354785293</td><td>1976.0843354785293</td><td>29.547757726001183</td><td>29.547757726001183</td><td>0.3025885</td><td>0.3025885</td><td>0.31561026</td><td>0.31561026</td><td>False</td><td>False</td><td>False</td><td>False</td><td>False</td><td>False</td><td>False</td><td>False</td><td>False</td><td>False</td><td>False</td><td>False</td><td>False</td><td>False</td><td>False</td><td>False</td><td>False</td><td>False</td><td>False</td><td>False</td><td>False</td><td>False</td><td>False</td><td>False</td><td>False</td><td>False</td><td>False</td><td>False</td><td>False</td><td>False</td><td>False</td><td>False</td><td>False</td><td>False</td><td>False</td><td>False</td><td>False</td><td>False</td><td>False</td><td>False</td><td>False</td><td>False</td><td>False</td><td>False</td><td>False</td><td>False</td><td>False</td><td>False</td><td>False</td><td>False</td><td>False</td><td>False</td><td>False</td><td>False</td><td>False</td><td>False</td><td>False</td><td>False</td><td>False</td><td>False</td><td>False</td><td>False</td><td>False</td><td>False</td><td>False</td><td>False</td><td>False</td><td>False</td><td>False</td><td>False</td><td>False</td><td>False</td><td>False</td><td>False</td><td>False</td><td>False</td><td>False</td><td>False</td><td>False</td><td>False</td><td>False</td><td>False</td><td>False</td><td>False</td><td>0.0</td><td>0.0</td><td>3562.421460118412</td><td>3562.421460118412</td><td>0.0</td><td>3642.1636227018166</td><td>3642.1636227018166</td><td>7.109204575978781</td><td>6.067559339816632</td><td>-0.2901603404214077</td><td>7.109204575978781</td><td>6.067559339816632</td><td>-0.2901603404214077</td><td>8.056683990675541</td><td>6.576248964607329</td><td>-0.5363933323995018</td><td>8.056683990675541</td><td>6.576248964607329</td><td>-0.5363933323995018</td><td>False</td><td>False</td><td>False</td><td>6.892017967959051</td><td>5.928448967643259</td><td>-0.22413355455190243</td><td>1.5052897</td><td>0.9878005</td><td>1.294836</td><td>1976.1250819147567</td><td>29.48654302383056</td><td>3532.681065721204</td><td>385.78744538079724</td><td>4.495328269537821</td><td>5.213532958496303</td><td>-0.13691294423250328</td><td>-290.36093</td><td>9.442753</td><td>-249.76575</td><td>False</td><td>False</td><td>False</td><td>False</td><td>False</td><td>False</td><td>-0.00047205806828473965</td><td>-0.00047205806828473965</td><td>0.0016622562159682487</td><td>0.0016622562159682487</td><td>4.498928944625901</td><td>4.498928944625901</td><td>5.2163536924343745</td><td>5.2163536924343745</td><td>-0.13694317899239136</td><td>-0.13694317899239136</td><td>False</td><td>False</td><td>False</td><td>False</td><td>False</td><td>False</td><td>False</td><td>False</td><td>0.771817147731781</td><td>-0.12952359020709991</td><td>0.564723789691925</td><td>0.23256565630435944</td><td>False</td><td>False</td><td>False</td><td>False</td><td>False</td><td>1976.1904867136257</td><td>1976.1904867136257</td><td>29.40124353592906</td><td>29.40124353592906</td><td>7.222951868032937</td><td>7.222951868032937</td><td>6.137360529174744</td><td>6.137360529174744</td><td>-0.33439722354113866</td><td>-0.33439722354113866</td><td>False</td><td>False</td><td>False</td><td>False</td><td>False</td><td>False</td><td>False</td><td>False</td><td>False</td><td>False</td><td>False</td><td>False</td><td>1976.1468636911457</td><td>1976.1468636911457</td><td>29.396151200595686</td><td>29.396151200595686</td><td>6.754847642101563</td><td>6.754847642101563</td><td>6.4089200484472135</td><td>6.4089200484472135</td><td>-0.21271008390407886</td><td>-0.21271008390407886</td><td>False</td><td>False</td><td>False</td><td>False</td><td>False</td><td>False</td><td>False</td><td>False</td><td>3584.5479</td><td>3584.5479</td><td>1781.56005859375</td><td>154.48526000976562</td><td>False</td><td>False</td><td>False</td><td>2822.815185546875</td><td>229.62521362304688</td><td>False</td><td>False</td><td>False</td><td>3232.01171875</td><td>304.92437744140625</td><td>False</td><td>False</td><td>False</td><td>3860.5830078125</td><td>456.303955078125</td><td>False</td><td>False</td><td>True</td><td>4357.1982421875</td><td>4357.1982421875</td><td>4357.1982421875</td><td>607.8915405273438</td><td>607.8915405273438</td><td>607.8915405273438</td><td>False</td><td>False</td><td>False</td><td>False</td><td>False</td><td>False</td><td>True</td><td>True</td><td>True</td><td>5381.20047223568</td><td>866.5483252537044</td><td>False</td><td>False</td><td>5475.087080538273</td><td>1271.8065890692658</td><td>False</td><td>False</td><td>nan</td><td>nan</td><td>True</td><td>True</td><td>nan</td><td>nan</td><td>True</td><td>True</td><td>nan</td><td>nan</td><td>True</td><td>True</td><td>3980.515532787258</td><td>3980.515532787258</td><td>3980.515532787258</td><td>304.277250513915</td><td>304.277250513915</td><td>304.277250513915</td><td>False</td><td>False</td><td>False</td><td>False</td><td>False</td><td>False</td><td>False</td><td>False</td><td>False</td><td>False</td><td>False</td><td>False</td><td>False</td><td>False</td><td>False</td><td>3415.4682457327917</td><td>3415.4682457327917</td><td>258.4556172698553</td><td>258.4556172698553</td><td>False</td><td>False</td><td>False</td><td>False</td><td>False</td><td>False</td><td>False</td><td>823.0</td><td>False</td><td>4183.613532767399</td><td>562.828742058922</td><td>4.2708745</td><td>15.472166</td><td>2.7570622</td><td>False</td><td>False</td><td>False</td><td>False</td><td>False</td><td>False</td><td>False</td><td>False</td><td>False</td><td>False</td><td>1.1046425282785517</td><td>1.1046425282785517</td><td>1.1046425282785517</td><td>0.0</td><td>0.0</td><td>0.0</td><td>False</td><td>False</td><td>False</td><td>1.0356831163887248</td><td>0.0</td><td>False</td><td>0.9879420337883604</td><td>0.9879420337883604</td><td>0.0</td><td>0.0</td><td>False</td><td>False</td><td>1.0</td><td>False</td><td>203</td><td>False</td><td>False</td><td>False</td></tr>\n",
       "<tr><td>...</td><td>...</td><td>...</td><td>...</td><td>...</td><td>...</td><td>...</td><td>...</td><td>...</td><td>...</td><td>...</td><td>...</td><td>...</td><td>...</td><td>...</td><td>...</td><td>...</td><td>...</td><td>...</td><td>...</td><td>...</td><td>...</td><td>...</td><td>...</td><td>...</td><td>...</td><td>...</td><td>...</td><td>...</td><td>...</td><td>...</td><td>...</td><td>...</td><td>...</td><td>...</td><td>...</td><td>...</td><td>...</td><td>...</td><td>...</td><td>...</td><td>...</td><td>...</td><td>...</td><td>...</td><td>...</td><td>...</td><td>...</td><td>...</td><td>...</td><td>...</td><td>...</td><td>...</td><td>...</td><td>...</td><td>...</td><td>...</td><td>...</td><td>...</td><td>...</td><td>...</td><td>...</td><td>...</td><td>...</td><td>...</td><td>...</td><td>...</td><td>...</td><td>...</td><td>...</td><td>...</td><td>...</td><td>...</td><td>...</td><td>...</td><td>...</td><td>...</td><td>...</td><td>...</td><td>...</td><td>...</td><td>...</td><td>...</td><td>...</td><td>...</td><td>...</td><td>...</td><td>...</td><td>...</td><td>...</td><td>...</td><td>...</td><td>...</td><td>...</td><td>...</td><td>...</td><td>...</td><td>...</td><td>...</td><td>...</td><td>...</td><td>...</td><td>...</td><td>...</td><td>...</td><td>...</td><td>...</td><td>...</td><td>...</td><td>...</td><td>...</td><td>...</td><td>...</td><td>...</td><td>...</td><td>...</td><td>...</td><td>...</td><td>...</td><td>...</td><td>...</td><td>...</td><td>...</td><td>...</td><td>...</td><td>...</td><td>...</td><td>...</td><td>...</td><td>...</td><td>...</td><td>...</td><td>...</td><td>...</td><td>...</td><td>...</td><td>...</td><td>...</td><td>...</td><td>...</td><td>...</td><td>...</td><td>...</td><td>...</td><td>...</td><td>...</td><td>...</td><td>...</td><td>...</td><td>...</td><td>...</td><td>...</td><td>...</td><td>...</td><td>...</td><td>...</td><td>...</td><td>...</td><td>...</td><td>...</td><td>...</td><td>...</td><td>...</td><td>...</td><td>...</td><td>...</td><td>...</td><td>...</td><td>...</td><td>...</td><td>...</td><td>...</td><td>...</td><td>...</td><td>...</td><td>...</td><td>...</td><td>...</td><td>...</td><td>...</td><td>...</td><td>...</td><td>...</td><td>...</td><td>...</td><td>...</td><td>...</td><td>...</td><td>...</td><td>...</td><td>...</td><td>...</td><td>...</td><td>...</td><td>...</td><td>...</td><td>...</td><td>...</td><td>...</td><td>...</td><td>...</td><td>...</td><td>...</td><td>...</td><td>...</td><td>...</td><td>...</td><td>...</td><td>...</td><td>...</td><td>...</td><td>...</td><td>...</td><td>...</td><td>...</td><td>...</td><td>...</td><td>...</td><td>...</td><td>...</td><td>...</td><td>...</td><td>...</td><td>...</td><td>...</td><td>...</td><td>...</td><td>...</td><td>...</td><td>...</td><td>...</td><td>...</td><td>...</td><td>...</td><td>...</td><td>...</td><td>...</td><td>...</td><td>...</td><td>...</td><td>...</td><td>...</td><td>...</td><td>...</td><td>...</td><td>...</td><td>...</td><td>...</td><td>...</td><td>...</td><td>...</td><td>...</td><td>...</td><td>...</td><td>...</td><td>...</td><td>...</td><td>...</td><td>...</td><td>...</td><td>...</td><td>...</td><td>...</td><td>...</td><td>...</td><td>...</td><td>...</td><td>...</td><td>...</td><td>...</td><td>...</td><td>...</td><td>...</td><td>...</td><td>...</td><td>...</td><td>...</td><td>...</td><td>...</td><td>...</td><td>...</td><td>...</td><td>...</td><td>...</td><td>...</td><td>...</td><td>...</td><td>...</td><td>...</td><td>...</td><td>...</td><td>...</td><td>...</td><td>...</td><td>...</td><td>...</td><td>...</td><td>...</td><td>...</td><td>...</td><td>...</td><td>...</td><td>...</td><td>...</td><td>...</td><td>...</td><td>...</td><td>...</td><td>...</td><td>...</td><td>...</td><td>...</td><td>...</td><td>...</td><td>...</td><td>...</td><td>...</td><td>...</td><td>...</td><td>...</td><td>...</td><td>...</td><td>...</td><td>...</td><td>...</td><td>...</td><td>...</td><td>...</td><td>...</td><td>...</td><td>...</td><td>...</td><td>...</td><td>...</td><td>...</td><td>...</td><td>...</td><td>...</td><td>...</td><td>...</td><td>...</td><td>...</td><td>...</td><td>...</td><td>...</td><td>...</td><td>...</td><td>...</td><td>...</td><td>...</td><td>...</td><td>...</td><td>...</td><td>...</td><td>...</td><td>...</td><td>...</td><td>...</td><td>...</td><td>...</td><td>...</td><td>...</td><td>...</td><td>...</td></tr>\n",
       "<tr><td>1010357504605</td><td>0.9276100366033875</td><td>-0.47974764020979843</td><td>1010357503918</td><td>False</td><td>False</td><td>False</td><td>False</td><td>0</td><td>True</td><td>3408.0</td><td>3961.0</td><td>3212.4007116615426</td><td>False</td><td>False</td><td>False</td><td>False</td><td>False</td><td>False</td><td>False</td><td>3408.4857612123355</td><td>3960.7484770219494</td><td>False</td><td>False</td><td>False</td><td>3408.0767583455854</td><td>3960.0192416778045</td><td>False</td><td>False</td><td>False</td><td>False</td><td>3408.353315608187</td><td>3408.353315608187</td><td>3960.8001745251736</td><td>3960.8001745251736</td><td>0.47849658</td><td>0.47849658</td><td>0.55320275</td><td>0.55320275</td><td>False</td><td>False</td><td>False</td><td>False</td><td>False</td><td>False</td><td>False</td><td>False</td><td>False</td><td>False</td><td>False</td><td>False</td><td>False</td><td>False</td><td>False</td><td>False</td><td>False</td><td>False</td><td>False</td><td>False</td><td>False</td><td>False</td><td>False</td><td>False</td><td>False</td><td>False</td><td>False</td><td>False</td><td>False</td><td>False</td><td>False</td><td>False</td><td>False</td><td>False</td><td>False</td><td>False</td><td>False</td><td>False</td><td>False</td><td>False</td><td>False</td><td>False</td><td>False</td><td>False</td><td>False</td><td>False</td><td>False</td><td>False</td><td>False</td><td>False</td><td>False</td><td>False</td><td>False</td><td>False</td><td>False</td><td>False</td><td>False</td><td>False</td><td>False</td><td>False</td><td>False</td><td>False</td><td>False</td><td>False</td><td>False</td><td>False</td><td>False</td><td>False</td><td>False</td><td>False</td><td>False</td><td>False</td><td>False</td><td>False</td><td>False</td><td>False</td><td>False</td><td>False</td><td>False</td><td>False</td><td>False</td><td>False</td><td>False</td><td>False</td><td>0.03274587265855691</td><td>0.010871871513959519</td><td>5111.023627837509</td><td>5167.200770703429</td><td>0.015567372359058584</td><td>5161.962036055452</td><td>5243.590969171136</td><td>9.013015655940976</td><td>8.705878947209724</td><td>-0.6847496099401957</td><td>9.472967485644535</td><td>8.73015413453301</td><td>-0.7683588951579308</td><td>9.868185289620147</td><td>9.336571216987062</td><td>-0.6126752673229536</td><td>10.669410154507663</td><td>9.445667454574455</td><td>-0.7365825928146694</td><td>False</td><td>False</td><td>False</td><td>9.060428049678874</td><td>8.891411507832181</td><td>-0.7381330627669397</td><td>1.6047739</td><td>1.1279076</td><td>1.5748379</td><td>3408.396983964378</td><td>3960.7862032735898</td><td>5193.6497473183135</td><td>459.9470160680715</td><td>4.481798873705635</td><td>5.351930242484749</td><td>-0.04678096228317851</td><td>-369.05548</td><td>30.066137</td><td>-362.17102</td><td>False</td><td>False</td><td>False</td><td>False</td><td>False</td><td>False</td><td>0.0023406878748349507</td><td>0.0023406878748349507</td><td>0.002351170095753148</td><td>0.002351170095753148</td><td>4.485595992741525</td><td>4.485595992741525</td><td>5.354918873434943</td><td>5.354918873434943</td><td>-0.0466720913405956</td><td>-0.0466720913405956</td><td>False</td><td>False</td><td>False</td><td>False</td><td>False</td><td>False</td><td>False</td><td>False</td><td>0.17984411120414734</td><td>-0.1819973587989807</td><td>0.26836106181144714</td><td>0.41146934032440186</td><td>False</td><td>False</td><td>False</td><td>False</td><td>False</td><td>3408.4435925137436</td><td>3408.4435925137436</td><td>3960.7682442582745</td><td>3960.7682442582745</td><td>9.108342974317658</td><td>9.108342974317658</td><td>8.701980144938275</td><td>8.701980144938275</td><td>-0.7208186160120865</td><td>-0.7208186160120865</td><td>False</td><td>False</td><td>False</td><td>False</td><td>False</td><td>False</td><td>False</td><td>False</td><td>False</td><td>False</td><td>False</td><td>False</td><td>3408.4304435549516</td><td>3408.4304435549516</td><td>3960.7549733391966</td><td>3960.7549733391966</td><td>8.98304910666012</td><td>8.98304910666012</td><td>8.739083195624133</td><td>8.739083195624133</td><td>-0.3437568908354098</td><td>-0.3437568908354098</td><td>False</td><td>False</td><td>False</td><td>False</td><td>False</td><td>False</td><td>False</td><td>False</td><td>5162.0493</td><td>5162.0493</td><td>2160.450927734375</td><td>155.73193359375</td><td>False</td><td>False</td><td>False</td><td>3418.4697265625</td><td>230.8243865966797</td><td>False</td><td>False</td><td>False</td><td>4426.9921875</td><td>306.9766845703125</td><td>False</td><td>False</td><td>False</td><td>5006.96875</td><td>457.759033203125</td><td>False</td><td>False</td><td>False</td><td>5816.96484375</td><td>5816.96484375</td><td>5816.96484375</td><td>609.7875366210938</td><td>609.7875366210938</td><td>609.7875366210938</td><td>False</td><td>False</td><td>False</td><td>False</td><td>False</td><td>False</td><td>False</td><td>False</td><td>False</td><td>6467.3769488844555</td><td>867.6347157646471</td><td>False</td><td>False</td><td>6802.79075946752</td><td>1272.0821514351971</td><td>False</td><td>False</td><td>6521.690817886032</td><td>1779.9587073862135</td><td>False</td><td>False</td><td>3421.497946047224</td><td>2540.1102338284454</td><td>False</td><td>False</td><td>5031.973380350508</td><td>3556.8173976182698</td><td>False</td><td>False</td><td>5759.533527653398</td><td>5759.533527653398</td><td>5759.533527653398</td><td>363.18213855423164</td><td>363.18213855423164</td><td>363.18213855423164</td><td>False</td><td>False</td><td>False</td><td>False</td><td>False</td><td>False</td><td>False</td><td>False</td><td>False</td><td>False</td><td>False</td><td>False</td><td>False</td><td>False</td><td>False</td><td>4131.372233676289</td><td>4131.372233676289</td><td>261.78043923300083</td><td>261.78043923300083</td><td>False</td><td>False</td><td>False</td><td>False</td><td>False</td><td>False</td><td>False</td><td>823.0</td><td>False</td><td>6007.003747397248</td><td>691.9535733683796</td><td>5.1918283</td><td>17.873169</td><td>2.7735794</td><td>False</td><td>False</td><td>False</td><td>False</td><td>False</td><td>False</td><td>False</td><td>False</td><td>False</td><td>False</td><td>1.1135124450834344</td><td>1.1135124450834344</td><td>1.1135124450834344</td><td>0.0</td><td>0.0</td><td>0.0</td><td>False</td><td>False</td><td>False</td><td>1.0426487255412287</td><td>0.0</td><td>False</td><td>0.9901213428525031</td><td>0.9901213428525031</td><td>0.0</td><td>0.0</td><td>False</td><td>False</td><td>1.0</td><td>False</td><td>345</td><td>False</td><td>False</td><td>False</td></tr>\n",
       "<tr><td>1010357504606</td><td>0.9276113859032618</td><td>-0.47975972035782605</td><td>1010357503918</td><td>False</td><td>False</td><td>False</td><td>False</td><td>0</td><td>True</td><td>3421.0</td><td>3959.0</td><td>1697.9538702280338</td><td>False</td><td>False</td><td>False</td><td>False</td><td>False</td><td>False</td><td>False</td><td>3420.9005827468004</td><td>3959.2635521902885</td><td>False</td><td>False</td><td>False</td><td>3420.032232424463</td><td>3958.082060341563</td><td>False</td><td>False</td><td>False</td><td>False</td><td>3420.7109141867613</td><td>3420.7109141867613</td><td>3958.855427277746</td><td>3958.855427277746</td><td>0.8853145</td><td>0.8853145</td><td>1.1506785</td><td>1.1506785</td><td>False</td><td>False</td><td>False</td><td>False</td><td>False</td><td>False</td><td>False</td><td>False</td><td>False</td><td>False</td><td>False</td><td>False</td><td>False</td><td>False</td><td>False</td><td>False</td><td>False</td><td>False</td><td>False</td><td>False</td><td>False</td><td>False</td><td>False</td><td>False</td><td>False</td><td>False</td><td>False</td><td>False</td><td>False</td><td>False</td><td>False</td><td>False</td><td>False</td><td>False</td><td>False</td><td>False</td><td>False</td><td>False</td><td>False</td><td>False</td><td>False</td><td>False</td><td>False</td><td>False</td><td>False</td><td>False</td><td>False</td><td>False</td><td>False</td><td>False</td><td>False</td><td>False</td><td>False</td><td>False</td><td>False</td><td>False</td><td>False</td><td>False</td><td>False</td><td>False</td><td>False</td><td>False</td><td>False</td><td>False</td><td>False</td><td>False</td><td>False</td><td>False</td><td>False</td><td>False</td><td>False</td><td>False</td><td>False</td><td>False</td><td>False</td><td>False</td><td>False</td><td>False</td><td>False</td><td>False</td><td>False</td><td>False</td><td>False</td><td>False</td><td>0.1115389310659179</td><td>0.021384928171136353</td><td>2043.0502236758223</td><td>2087.6954407188027</td><td>0.03156303740496613</td><td>2296.2094888577976</td><td>2371.046931856928</td><td>5.816566158322456</td><td>8.652533244554137</td><td>-1.5066196350821495</td><td>6.464723712546717</td><td>8.717164609079484</td><td>-1.675793699195726</td><td>7.502368830627692</td><td>11.488630628424154</td><td>-1.8082800654760816</td><td>8.423269859524353</td><td>11.600272525151253</td><td>-2.1355605723601223</td><td>False</td><td>False</td><td>False</td><td>6.5981398665085935</td><td>9.47380899730706</td><td>-1.866313517689764</td><td>2.4982135</td><td>2.1749077</td><td>3.5870106</td><td>3420.7901588232567</td><td>3959.005841391682</td><td>2184.8433244058983</td><td>413.61697074321773</td><td>4.4818066180770515</td><td>5.353430612989533</td><td>-0.045430341127437816</td><td>-516.65173</td><td>146.13728</td><td>-741.8243</td><td>False</td><td>False</td><td>False</td><td>False</td><td>False</td><td>False</td><td>0.0023421871521985835</td><td>0.0023421871521985835</td><td>0.002382689784999624</td><td>0.002382689784999624</td><td>4.4856116768878875</td><td>4.4856116768878875</td><td>5.356427245873529</td><td>5.356427245873529</td><td>-0.04531924269584925</td><td>-0.04531924269584925</td><td>False</td><td>False</td><td>False</td><td>False</td><td>False</td><td>False</td><td>False</td><td>False</td><td>-0.7841657996177673</td><td>-1.4175764322280884</td><td>0.8015578389167786</td><td>0.27552369236946106</td><td>False</td><td>False</td><td>False</td><td>False</td><td>False</td><td>3420.831895537424</td><td>3420.831895537424</td><td>3959.1906466428554</td><td>3959.1906466428554</td><td>5.934609098968508</td><td>5.934609098968508</td><td>8.41204860552988</td><td>8.41204860552988</td><td>-1.4286222855636772</td><td>-1.4286222855636772</td><td>False</td><td>False</td><td>False</td><td>False</td><td>False</td><td>False</td><td>False</td><td>False</td><td>False</td><td>False</td><td>False</td><td>False</td><td>3420.88347540782</td><td>3420.88347540782</td><td>3959.25932240209</td><td>3959.25932240209</td><td>6.408630902426325</td><td>6.408630902426325</td><td>7.4640504706200375</td><td>7.4640504706200375</td><td>-0.5111695718426064</td><td>-0.5111695718426064</td><td>False</td><td>False</td><td>False</td><td>False</td><td>False</td><td>False</td><td>False</td><td>False</td><td>2060.357</td><td>2060.357</td><td>1027.536376953125</td><td>152.36181640625</td><td>False</td><td>False</td><td>False</td><td>1540.265380859375</td><td>226.88035583496094</td><td>False</td><td>False</td><td>False</td><td>1801.6658935546875</td><td>302.99066162109375</td><td>False</td><td>False</td><td>False</td><td>2675.472900390625</td><td>455.60577392578125</td><td>False</td><td>False</td><td>False</td><td>3616.7451171875</td><td>3616.7451171875</td><td>3616.7451171875</td><td>608.9865112304688</td><td>608.9865112304688</td><td>608.9865112304688</td><td>False</td><td>False</td><td>False</td><td>False</td><td>False</td><td>False</td><td>False</td><td>False</td><td>False</td><td>4510.08859562967</td><td>869.186401182163</td><td>False</td><td>False</td><td>3480.3089467009995</td><td>1272.6928144685976</td><td>False</td><td>False</td><td>1932.9748429080937</td><td>1778.6534232390525</td><td>False</td><td>False</td><td>415.57319835037924</td><td>2540.7933800291594</td><td>False</td><td>False</td><td>-1857.5692175903823</td><td>3556.273611520913</td><td>False</td><td>False</td><td>2306.53262554789</td><td>2306.53262554789</td><td>2306.53262554789</td><td>309.4082003127604</td><td>309.4082003127604</td><td>309.4082003127604</td><td>False</td><td>False</td><td>False</td><td>False</td><td>False</td><td>False</td><td>False</td><td>False</td><td>False</td><td>False</td><td>False</td><td>False</td><td>False</td><td>False</td><td>False</td><td>1950.642738359449</td><td>1950.642738359449</td><td>256.27895519921685</td><td>256.27895519921685</td><td>False</td><td>False</td><td>False</td><td>False</td><td>False</td><td>False</td><td>False</td><td>826.0</td><td>False</td><td>4378.3351788762975</td><td>903.2088019561178</td><td>6.7827578</td><td>15.783112</td><td>2.7737799</td><td>False</td><td>False</td><td>False</td><td>False</td><td>False</td><td>False</td><td>False</td><td>False</td><td>False</td><td>False</td><td>1.1134712692802424</td><td>1.1134712692802424</td><td>1.1134712692802424</td><td>0.0</td><td>0.0</td><td>0.0</td><td>False</td><td>False</td><td>False</td><td>1.0426437904864683</td><td>0.0</td><td>False</td><td>0.9900925107145317</td><td>0.9900925107145317</td><td>0.0</td><td>0.0</td><td>False</td><td>False</td><td>1.0</td><td>False</td><td>334</td><td>False</td><td>False</td><td>False</td></tr>\n",
       "<tr><td>1010357504607</td><td>0.9277188763009131</td><td>-0.48007338029707797</td><td>1010357503921</td><td>False</td><td>False</td><td>False</td><td>False</td><td>0</td><td>True</td><td>3758.0</td><td>3972.0</td><td>8043.02552951514</td><td>False</td><td>False</td><td>False</td><td>False</td><td>False</td><td>False</td><td>False</td><td>3758.341005891</td><td>3972.419299220144</td><td>False</td><td>False</td><td>False</td><td>3758.007179509344</td><td>3972.005907797692</td><td>False</td><td>False</td><td>False</td><td>False</td><td>3758.246116257953</td><td>3758.246116257953</td><td>3972.434518220215</td><td>3972.434518220215</td><td>0.13624193</td><td>0.13624193</td><td>0.14361782</td><td>0.14361782</td><td>False</td><td>False</td><td>False</td><td>False</td><td>False</td><td>False</td><td>False</td><td>False</td><td>False</td><td>False</td><td>False</td><td>False</td><td>False</td><td>False</td><td>False</td><td>False</td><td>False</td><td>False</td><td>False</td><td>False</td><td>False</td><td>False</td><td>False</td><td>False</td><td>False</td><td>False</td><td>False</td><td>False</td><td>False</td><td>False</td><td>False</td><td>False</td><td>False</td><td>False</td><td>False</td><td>False</td><td>False</td><td>False</td><td>False</td><td>False</td><td>False</td><td>False</td><td>False</td><td>False</td><td>False</td><td>False</td><td>False</td><td>False</td><td>False</td><td>False</td><td>False</td><td>False</td><td>False</td><td>False</td><td>False</td><td>False</td><td>False</td><td>False</td><td>False</td><td>False</td><td>False</td><td>False</td><td>False</td><td>False</td><td>False</td><td>False</td><td>False</td><td>False</td><td>False</td><td>False</td><td>False</td><td>False</td><td>False</td><td>False</td><td>False</td><td>False</td><td>False</td><td>False</td><td>False</td><td>False</td><td>False</td><td>False</td><td>False</td><td>False</td><td>0.009925104818501021</td><td>0.0009729028650647953</td><td>11558.071944032614</td><td>11569.327776172926</td><td>0.0013632564478929243</td><td>11604.750015781015</td><td>11620.59186256599</td><td>8.414168207469478</td><td>8.247047534538712</td><td>-0.10080182643638569</td><td>8.443724100209918</td><td>8.256290811991493</td><td>-0.0936438806529598</td><td>8.54746354003207</td><td>8.568178885256486</td><td>-0.14605371132411601</td><td>8.598873810203436</td><td>8.589248249331584</td><td>-0.12780991181771645</td><td>False</td><td>False</td><td>False</td><td>8.444976714719918</td><td>8.281474626839573</td><td>-0.12551904254534077</td><td>0.6884613</td><td>0.48213434</td><td>0.67513216</td><td>3758.297715341083</td><td>3972.4372214099167</td><td>11671.55607954596</td><td>475.7511433459297</td><td>4.482023739318111</td><td>5.395199631939961</td><td>-0.007135377440383706</td><td>-163.76813</td><td>2.4341116</td><td>-160.59744</td><td>False</td><td>False</td><td>False</td><td>False</td><td>False</td><td>False</td><td>0.0025738634158750363</td><td>0.0025738634158750363</td><td>0.00362951315284474</td><td>0.00362951315284474</td><td>4.485464116818234</td><td>4.485464116818234</td><td>5.397750080394251</td><td>5.397750080394251</td><td>-0.007274487049382675</td><td>-0.007274487049382675</td><td>False</td><td>False</td><td>False</td><td>False</td><td>False</td><td>False</td><td>False</td><td>False</td><td>0.18851682543754578</td><td>-0.04772099107503891</td><td>0.12361542135477066</td><td>0.37102121114730835</td><td>False</td><td>False</td><td>False</td><td>False</td><td>False</td><td>3758.349554119607</td><td>3758.349554119607</td><td>3972.4409878705474</td><td>3972.4409878705474</td><td>8.465502370940287</td><td>8.465502370940287</td><td>8.31308345847708</td><td>8.31308345847708</td><td>-0.10438754579644638</td><td>-0.10438754579644638</td><td>False</td><td>False</td><td>False</td><td>False</td><td>False</td><td>False</td><td>False</td><td>False</td><td>False</td><td>False</td><td>False</td><td>False</td><td>3758.350422293022</td><td>3758.350422293022</td><td>3972.4430527625245</td><td>3972.4430527625245</td><td>8.432727523000572</td><td>8.432727523000572</td><td>8.366617392640764</td><td>8.366617392640764</td><td>-0.04909429439661242</td><td>-0.04909429439661242</td><td>False</td><td>False</td><td>False</td><td>False</td><td>False</td><td>False</td><td>False</td><td>False</td><td>11700.972</td><td>11700.972</td><td>5106.86328125</td><td>164.53384399414062</td><td>False</td><td>False</td><td>False</td><td>8110.1845703125</td><td>240.5877685546875</td><td>False</td><td>False</td><td>False</td><td>10131.5556640625</td><td>315.8812255859375</td><td>False</td><td>False</td><td>False</td><td>12171.0908203125</td><td>465.2237243652344</td><td>False</td><td>False</td><td>False</td><td>12596.0283203125</td><td>12596.0283203125</td><td>12596.0283203125</td><td>614.7662353515625</td><td>614.7662353515625</td><td>614.7662353515625</td><td>False</td><td>False</td><td>False</td><td>False</td><td>False</td><td>False</td><td>False</td><td>False</td><td>False</td><td>12102.444542870391</td><td>872.1066448548595</td><td>False</td><td>False</td><td>12067.36334660498</td><td>1275.879696523148</td><td>False</td><td>False</td><td>13358.9852862939</td><td>1785.633221017127</td><td>False</td><td>False</td><td>15641.952543644584</td><td>2544.873670734954</td><td>False</td><td>False</td><td>11714.718954204</td><td>3559.623575604589</td><td>False</td><td>False</td><td>13006.290734269405</td><td>13006.290734269405</td><td>13006.290734269405</td><td>374.8783041613484</td><td>374.8783041613484</td><td>374.8783041613484</td><td>False</td><td>False</td><td>False</td><td>False</td><td>False</td><td>False</td><td>False</td><td>False</td><td>False</td><td>False</td><td>False</td><td>False</td><td>False</td><td>False</td><td>False</td><td>9711.622946161824</td><td>9711.622946161824</td><td>276.2989101191402</td><td>276.2989101191402</td><td>False</td><td>False</td><td>False</td><td>False</td><td>False</td><td>False</td><td>False</td><td>820.0</td><td>False</td><td>12437.726413719358</td><td>468.76361279594215</td><td>3.4759429</td><td>17.377535</td><td>2.7792652</td><td>False</td><td>False</td><td>False</td><td>False</td><td>False</td><td>False</td><td>False</td><td>False</td><td>False</td><td>False</td><td>1.1126039993748003</td><td>1.1126039993748003</td><td>1.1126039993748003</td><td>0.0</td><td>0.0</td><td>0.0</td><td>False</td><td>False</td><td>False</td><td>1.04269587054176</td><td>0.0</td><td>False</td><td>0.989786872472824</td><td>0.989786872472824</td><td>0.0</td><td>0.0</td><td>False</td><td>False</td><td>1.0</td><td>False</td><td>507</td><td>False</td><td>False</td><td>False</td></tr>\n",
       "<tr><td>1010357504608</td><td>0.9277065384888925</td><td>-0.4800630264035985</td><td>1010357503921</td><td>False</td><td>False</td><td>False</td><td>False</td><td>0</td><td>True</td><td>3745.0</td><td>3966.0</td><td>1867.692301516086</td><td>False</td><td>False</td><td>False</td><td>False</td><td>False</td><td>False</td><td>False</td><td>3745.2443500622026</td><td>3964.866360915234</td><td>False</td><td>False</td><td>False</td><td>3745.0525229192785</td><td>3964.318841850098</td><td>False</td><td>False</td><td>False</td><td>False</td><td>3745.0859058892074</td><td>3745.0859058892074</td><td>3964.222537025647</td><td>3964.222537025647</td><td>0.4713857</td><td>0.4713857</td><td>1.3875289</td><td>1.3875289</td><td>False</td><td>False</td><td>False</td><td>False</td><td>False</td><td>False</td><td>False</td><td>False</td><td>False</td><td>False</td><td>False</td><td>False</td><td>False</td><td>False</td><td>False</td><td>False</td><td>False</td><td>False</td><td>False</td><td>False</td><td>False</td><td>False</td><td>False</td><td>False</td><td>False</td><td>False</td><td>False</td><td>False</td><td>False</td><td>False</td><td>False</td><td>False</td><td>False</td><td>False</td><td>False</td><td>False</td><td>False</td><td>False</td><td>False</td><td>False</td><td>False</td><td>False</td><td>False</td><td>False</td><td>False</td><td>False</td><td>False</td><td>False</td><td>False</td><td>False</td><td>False</td><td>False</td><td>False</td><td>False</td><td>False</td><td>False</td><td>False</td><td>False</td><td>False</td><td>False</td><td>False</td><td>False</td><td>False</td><td>False</td><td>False</td><td>False</td><td>False</td><td>False</td><td>False</td><td>False</td><td>False</td><td>False</td><td>False</td><td>False</td><td>False</td><td>False</td><td>False</td><td>False</td><td>False</td><td>False</td><td>False</td><td>False</td><td>False</td><td>False</td><td>0.10409233078432294</td><td>0.012307446284125056</td><td>2175.875232275684</td><td>2202.988393594398</td><td>0.018586053128506475</td><td>2370.1668574815603</td><td>2415.053163893859</td><td>3.072086547714145</td><td>15.008793649020296</td><td>1.1033368897007165</td><td>3.109756126500212</td><td>15.059043110660019</td><td>1.154603113143194</td><td>4.192041852228598</td><td>17.979535577861014</td><td>1.0295450049356525</td><td>4.291869670946467</td><td>18.32565360033328</td><td>1.175638089450075</td><td>False</td><td>False</td><td>False</td><td>355.8548948812654</td><td>240.87655717402257</td><td>228.8986858556811</td><td>nan</td><td>nan</td><td>nan</td><td>3745.0314262557663</td><td>3964.230991000583</td><td>nan</td><td>nan</td><td>4.482113661654144</td><td>5.393851006035526</td><td>-0.008610663323247388</td><td>nan</td><td>nan</td><td>nan</td><td>True</td><td>False</td><td>True</td><td>False</td><td>False</td><td>False</td><td>0.0025430846347767795</td><td>0.0025430846347767795</td><td>0.0035432836822864326</td><td>0.0035432836822864326</td><td>4.485609561001332</td><td>4.485609561001332</td><td>5.396466502975054</td><td>5.396466502975054</td><td>-0.008738354419686704</td><td>-0.008738354419686704</td><td>False</td><td>False</td><td>False</td><td>False</td><td>False</td><td>False</td><td>False</td><td>False</td><td>-1.0780526399612427</td><td>0.21823395788669586</td><td>0.7491937279701233</td><td>0.3549407422542572</td><td>False</td><td>False</td><td>False</td><td>False</td><td>False</td><td>3745.062649190578</td><td>3745.062649190578</td><td>3964.925776940892</td><td>3964.925776940892</td><td>3.062794306372253</td><td>3.062794306372253</td><td>12.434539817204753</td><td>12.434539817204753</td><td>0.8564964563393189</td><td>0.8564964563393189</td><td>False</td><td>False</td><td>False</td><td>False</td><td>False</td><td>False</td><td>False</td><td>False</td><td>False</td><td>False</td><td>False</td><td>False</td><td>3745.1193133742227</td><td>3745.1193133742227</td><td>3965.370199390088</td><td>3965.370199390088</td><td>4.593659059300788</td><td>4.593659059300788</td><td>9.811972414255465</td><td>9.811972414255465</td><td>1.1622601612308476</td><td>1.1622601612308476</td><td>False</td><td>False</td><td>False</td><td>False</td><td>False</td><td>False</td><td>False</td><td>False</td><td>2114.0747</td><td>2114.0747</td><td>1013.7000122070312</td><td>152.03372192382812</td><td>False</td><td>False</td><td>False</td><td>1575.212158203125</td><td>227.1309814453125</td><td>False</td><td>False</td><td>False</td><td>2071.24267578125</td><td>303.4251403808594</td><td>False</td><td>False</td><td>False</td><td>2319.564453125</td><td>454.901123046875</td><td>False</td><td>False</td><td>False</td><td>2588.23388671875</td><td>2588.23388671875</td><td>2588.23388671875</td><td>607.4537963867188</td><td>607.4537963867188</td><td>607.4537963867188</td><td>False</td><td>False</td><td>False</td><td>False</td><td>False</td><td>False</td><td>False</td><td>False</td><td>False</td><td>2242.824238797417</td><td>868.1186554843756</td><td>False</td><td>False</td><td>385.15074106313114</td><td>1274.6058214208815</td><td>False</td><td>False</td><td>2655.531210415138</td><td>1781.6186460631804</td><td>False</td><td>False</td><td>-1135.3656687214243</td><td>2543.4765577846397</td><td>False</td><td>False</td><td>-2194.1808134987223</td><td>3556.8613973558204</td><td>False</td><td>False</td><td>2448.6559843918485</td><td>2448.6559843918485</td><td>2448.6559843918485</td><td>292.01943854435626</td><td>292.01943854435626</td><td>292.01943854435626</td><td>False</td><td>False</td><td>False</td><td>False</td><td>False</td><td>False</td><td>False</td><td>False</td><td>False</td><td>False</td><td>False</td><td>False</td><td>False</td><td>False</td><td>False</td><td>1979.6976828528568</td><td>1979.6976828528568</td><td>256.5233918350809</td><td>256.5233918350809</td><td>False</td><td>False</td><td>False</td><td>False</td><td>False</td><td>False</td><td>False</td><td>824.0</td><td>False</td><td>2357.4402351054327</td><td>371.10022589309085</td><td>2.8199015</td><td>14.832911</td><td>2.7791066</td><td>False</td><td>False</td><td>False</td><td>False</td><td>False</td><td>False</td><td>False</td><td>False</td><td>False</td><td>False</td><td>1.112590842718992</td><td>1.112590842718992</td><td>1.112590842718992</td><td>0.0</td><td>0.0</td><td>0.0</td><td>False</td><td>False</td><td>False</td><td>1.0426666318601123</td><td>0.0</td><td>False</td><td>0.989734598023305</td><td>0.989734598023305</td><td>0.0</td><td>0.0</td><td>False</td><td>False</td><td>1.0</td><td>False</td><td>454</td><td>False</td><td>False</td><td>False</td></tr>\n",
       "<tr><td>1010357504609</td><td>0.9277465529622956</td><td>-0.48007969433106706</td><td>1010357503932</td><td>False</td><td>False</td><td>False</td><td>False</td><td>0</td><td>True</td><td>3771.0</td><td>3996.0</td><td>2056.0471691451585</td><td>False</td><td>False</td><td>False</td><td>False</td><td>False</td><td>False</td><td>False</td><td>3770.8331627037396</td><td>3995.420959919661</td><td>False</td><td>False</td><td>False</td><td>3770.023248534076</td><td>3994.8833651321434</td><td>False</td><td>False</td><td>False</td><td>False</td><td>3770.8968086216514</td><td>3770.8968086216514</td><td>3995.234898319623</td><td>3995.234898319623</td><td>1.2263323</td><td>1.2263323</td><td>0.91106904</td><td>0.91106904</td><td>False</td><td>False</td><td>False</td><td>False</td><td>False</td><td>False</td><td>False</td><td>False</td><td>False</td><td>False</td><td>False</td><td>False</td><td>False</td><td>False</td><td>False</td><td>False</td><td>False</td><td>False</td><td>False</td><td>False</td><td>False</td><td>False</td><td>False</td><td>False</td><td>False</td><td>False</td><td>False</td><td>False</td><td>False</td><td>False</td><td>False</td><td>False</td><td>False</td><td>False</td><td>False</td><td>False</td><td>False</td><td>False</td><td>False</td><td>False</td><td>False</td><td>False</td><td>False</td><td>False</td><td>False</td><td>False</td><td>False</td><td>False</td><td>False</td><td>False</td><td>False</td><td>False</td><td>False</td><td>False</td><td>False</td><td>False</td><td>False</td><td>False</td><td>False</td><td>False</td><td>False</td><td>False</td><td>False</td><td>False</td><td>False</td><td>False</td><td>False</td><td>False</td><td>False</td><td>False</td><td>False</td><td>False</td><td>False</td><td>False</td><td>False</td><td>False</td><td>False</td><td>False</td><td>False</td><td>False</td><td>False</td><td>False</td><td>False</td><td>False</td><td>0.06975676935506002</td><td>0.04941246102532493</td><td>7095.065721485419</td><td>7463.874110045998</td><td>0.06369640674022448</td><td>7540.04130287003</td><td>8052.987681718809</td><td>24.34470226043205</td><td>13.089662655887134</td><td>2.4698878561105544</td><td>27.356240452987176</td><td>14.284752221233221</td><td>0.7620941371018191</td><td>28.360764895154798</td><td>15.328845584800696</td><td>3.966108293391538</td><td>32.639323484440546</td><td>16.657367944627463</td><td>2.1705181898150068</td><td>False</td><td>False</td><td>False</td><td>8.95717310768143</td><td>6.58433351019612</td><td>1.0325695741030263</td><td>nan</td><td>nan</td><td>nan</td><td>3771.043209851558</td><td>3995.269995169916</td><td>nan</td><td>nan</td><td>4.481543657466763</td><td>5.395534384306248</td><td>-0.005901159790652673</td><td>nan</td><td>nan</td><td>nan</td><td>True</td><td>False</td><td>True</td><td>False</td><td>False</td><td>False</td><td>0.002644440017513982</td><td>0.002644440017513982</td><td>0.0037788166065795365</td><td>0.0037788166065795365</td><td>4.484983190056939</td><td>4.484983190056939</td><td>5.398065310356025</td><td>5.398065310356025</td><td>-0.006049665421406922</td><td>-0.006049665421406922</td><td>False</td><td>False</td><td>False</td><td>False</td><td>False</td><td>False</td><td>False</td><td>False</td><td>0.5446466207504272</td><td>0.20236340165138245</td><td>0.14619167149066925</td><td>0.7076708674430847</td><td>False</td><td>False</td><td>False</td><td>False</td><td>False</td><td>3770.91294819316</td><td>3770.91294819316</td><td>3995.44347212235</td><td>3995.44347212235</td><td>24.086240657411093</td><td>24.086240657411093</td><td>12.971914697520688</td><td>12.971914697520688</td><td>2.3312365363606578</td><td>2.3312365363606578</td><td>False</td><td>False</td><td>False</td><td>False</td><td>False</td><td>False</td><td>False</td><td>False</td><td>False</td><td>False</td><td>False</td><td>False</td><td>3770.889162311308</td><td>3770.889162311308</td><td>3995.3484748613537</td><td>3995.3484748613537</td><td>22.3511130505126</td><td>22.3511130505126</td><td>16.759099014945892</td><td>16.759099014945892</td><td>1.2485033436034694</td><td>1.2485033436034694</td><td>False</td><td>False</td><td>False</td><td>False</td><td>False</td><td>False</td><td>False</td><td>False</td><td>7435.853</td><td>7435.853</td><td>1614.2213134765625</td><td>153.8631591796875</td><td>False</td><td>False</td><td>False</td><td>3202.833984375</td><td>230.5242462158203</td><td>False</td><td>False</td><td>False</td><td>4382.42529296875</td><td>307.26055908203125</td><td>False</td><td>False</td><td>False</td><td>6447.1708984375</td><td>459.9137268066406</td><td>False</td><td>False</td><td>False</td><td>7546.10009765625</td><td>7546.10009765625</td><td>7546.10009765625</td><td>612.267578125</td><td>612.267578125</td><td>612.267578125</td><td>False</td><td>False</td><td>False</td><td>False</td><td>False</td><td>False</td><td>False</td><td>False</td><td>False</td><td>8062.100552755452</td><td>870.9678524492164</td><td>False</td><td>False</td><td>8524.194310225124</td><td>1277.5104696244175</td><td>False</td><td>False</td><td>8152.679828323002</td><td>1784.9907562785866</td><td>False</td><td>False</td><td>3400.5726974080753</td><td>2544.283199645826</td><td>False</td><td>False</td><td>6545.559347576971</td><td>3559.0161561869877</td><td>False</td><td>False</td><td>7987.592128686064</td><td>7987.592128686064</td><td>7987.592128686064</td><td>481.38096459581493</td><td>481.38096459581493</td><td>481.38096459581493</td><td>False</td><td>False</td><td>False</td><td>False</td><td>False</td><td>False</td><td>False</td><td>False</td><td>False</td><td>False</td><td>False</td><td>False</td><td>False</td><td>False</td><td>False</td><td>3496.79410287387</td><td>3496.79410287387</td><td>259.4558783854039</td><td>259.4558783854039</td><td>False</td><td>False</td><td>False</td><td>False</td><td>False</td><td>False</td><td>False</td><td>824.0</td><td>False</td><td>9311.434486225364</td><td>974.5846563550894</td><td>7.29516</td><td>25.115358</td><td>2.779233</td><td>False</td><td>False</td><td>False</td><td>False</td><td>False</td><td>False</td><td>False</td><td>False</td><td>False</td><td>False</td><td>1.1127212684103491</td><td>1.1127212684103491</td><td>1.1127212684103491</td><td>0.0</td><td>0.0</td><td>0.0</td><td>False</td><td>False</td><td>False</td><td>1.0427803489371112</td><td>0.0</td><td>False</td><td>0.989968668641729</td><td>0.989968668641729</td><td>0.0</td><td>0.0</td><td>False</td><td>False</td><td>1.0</td><td>False</td><td>520</td><td>False</td><td>False</td><td>False</td></tr>\n",
       "<tr><td>1010357504610</td><td>0.9277538247212633</td><td>-0.4800684306693974</td><td>1010357503932</td><td>False</td><td>False</td><td>False</td><td>False</td><td>0</td><td>True</td><td>3761.0</td><td>4005.0</td><td>2447.559099689495</td><td>False</td><td>False</td><td>False</td><td>False</td><td>False</td><td>False</td><td>False</td><td>3761.3247050206564</td><td>4004.7231443606265</td><td>False</td><td>False</td><td>False</td><td>3761.03589910929</td><td>4004.0955291897503</td><td>False</td><td>False</td><td>False</td><td>False</td><td>3761.330858863648</td><td>3761.330858863648</td><td>4004.5715477397075</td><td>4004.5715477397075</td><td>0.486141</td><td>0.486141</td><td>0.636341</td><td>0.636341</td><td>False</td><td>False</td><td>False</td><td>False</td><td>False</td><td>False</td><td>False</td><td>False</td><td>False</td><td>False</td><td>False</td><td>False</td><td>False</td><td>False</td><td>False</td><td>False</td><td>False</td><td>False</td><td>False</td><td>False</td><td>False</td><td>False</td><td>False</td><td>False</td><td>False</td><td>False</td><td>False</td><td>False</td><td>False</td><td>False</td><td>False</td><td>False</td><td>False</td><td>False</td><td>False</td><td>False</td><td>False</td><td>False</td><td>False</td><td>False</td><td>False</td><td>False</td><td>False</td><td>False</td><td>False</td><td>False</td><td>False</td><td>False</td><td>False</td><td>False</td><td>False</td><td>False</td><td>False</td><td>False</td><td>False</td><td>False</td><td>False</td><td>False</td><td>False</td><td>False</td><td>False</td><td>False</td><td>False</td><td>False</td><td>False</td><td>False</td><td>False</td><td>False</td><td>False</td><td>False</td><td>False</td><td>False</td><td>False</td><td>False</td><td>False</td><td>False</td><td>False</td><td>False</td><td>False</td><td>False</td><td>False</td><td>False</td><td>False</td><td>False</td><td>0.08241134464992288</td><td>0.041636554396715986</td><td>5253.955442004774</td><td>5482.216027863459</td><td>0.05017818999452528</td><td>5422.016431062968</td><td>5708.456443037158</td><td>9.92275752313996</td><td>13.893461676066222</td><td>-0.6489027734847082</td><td>11.093395995611253</td><td>15.805712175336208</td><td>-2.0286248105627265</td><td>11.843675784086985</td><td>16.30574809939161</td><td>-0.5628456062555454</td><td>13.281420005017177</td><td>18.586756956547987</td><td>-2.1517690642825387</td><td>False</td><td>False</td><td>False</td><td>9.880182320810057</td><td>13.701374625870338</td><td>-0.5201101947413576</td><td>1.8911378</td><td>1.5763087</td><td>2.6225417</td><td>3761.3768870511844</td><td>4004.592205841072</td><td>5255.520563784317</td><td>502.97217044856853</td><td>4.481295975549609</td><td>5.393636143066219</td><td>-0.007178043015308446</td><td>-475.59485</td><td>25.036148</td><td>-659.53265</td><td>False</td><td>False</td><td>False</td><td>False</td><td>False</td><td>False</td><td>0.002663649951775561</td><td>0.002663649951775561</td><td>0.0037831400420409505</td><td>0.0037831400420409505</td><td>4.48473106442734</td><td>4.48473106442734</td><td>5.396174973281082</td><td>5.396174973281082</td><td>-0.007317177212722565</td><td>-0.007317177212722565</td><td>False</td><td>False</td><td>False</td><td>False</td><td>False</td><td>False</td><td>False</td><td>False</td><td>-0.2627652883529663</td><td>-0.1380542516708374</td><td>0.22876717150211334</td><td>0.5586349964141846</td><td>False</td><td>False</td><td>False</td><td>False</td><td>False</td><td>3761.4182788620237</td><td>3761.4182788620237</td><td>4004.6401124231397</td><td>4004.6401124231397</td><td>9.906429861189347</td><td>9.906429861189347</td><td>14.284319484876074</td><td>14.284319484876074</td><td>-0.7257793734023735</td><td>-0.7257793734023735</td><td>False</td><td>False</td><td>False</td><td>False</td><td>False</td><td>False</td><td>False</td><td>False</td><td>False</td><td>False</td><td>False</td><td>False</td><td>3761.3918785377887</td><td>3761.3918785377887</td><td>4004.647692328628</td><td>4004.647692328628</td><td>11.076896380536182</td><td>11.076896380536182</td><td>13.313991346790447</td><td>13.313991346790447</td><td>-0.333477845576668</td><td>-0.333477845576668</td><td>False</td><td>False</td><td>False</td><td>False</td><td>False</td><td>False</td><td>False</td><td>False</td><td>5362.6924</td><td>5362.6924</td><td>1692.944580078125</td><td>154.53829956054688</td><td>False</td><td>False</td><td>False</td><td>2910.349609375</td><td>229.55551147460938</td><td>False</td><td>False</td><td>False</td><td>4194.373046875</td><td>306.5992126464844</td><td>False</td><td>False</td><td>False</td><td>5218.15771484375</td><td>458.3401794433594</td><td>False</td><td>False</td><td>False</td><td>4736.734375</td><td>4736.734375</td><td>4736.734375</td><td>609.8260498046875</td><td>609.8260498046875</td><td>609.8260498046875</td><td>False</td><td>False</td><td>False</td><td>False</td><td>False</td><td>False</td><td>False</td><td>False</td><td>False</td><td>5033.59344449884</td><td>870.7347472106532</td><td>False</td><td>False</td><td>5503.792876422291</td><td>1276.1825888171331</td><td>False</td><td>False</td><td>5121.795719444637</td><td>1785.5116913646912</td><td>False</td><td>False</td><td>-1586.8212465943052</td><td>2544.03360826857</td><td>False</td><td>False</td><td>nan</td><td>nan</td><td>True</td><td>True</td><td>5910.002385563962</td><td>5910.002385563962</td><td>5910.002385563962</td><td>413.6417233616912</td><td>413.6417233616912</td><td>413.6417233616912</td><td>False</td><td>False</td><td>False</td><td>False</td><td>False</td><td>False</td><td>False</td><td>False</td><td>False</td><td>False</td><td>False</td><td>False</td><td>False</td><td>False</td><td>False</td><td>3510.862001250354</td><td>3510.862001250354</td><td>260.2236129812605</td><td>260.2236129812605</td><td>False</td><td>False</td><td>False</td><td>False</td><td>False</td><td>False</td><td>False</td><td>821.0</td><td>False</td><td>5062.477997613962</td><td>841.163977047934</td><td>6.315334</td><td>20.67476</td><td>2.7789366</td><td>False</td><td>False</td><td>False</td><td>False</td><td>False</td><td>False</td><td>False</td><td>False</td><td>False</td><td>False</td><td>1.1128193017922565</td><td>1.1128193017922565</td><td>1.1128193017922565</td><td>0.0</td><td>0.0</td><td>0.0</td><td>False</td><td>False</td><td>False</td><td>1.0428166336618965</td><td>0.0</td><td>False</td><td>0.9900653581866556</td><td>0.9900653581866556</td><td>0.0</td><td>0.0</td><td>False</td><td>False</td><td>1.0</td><td>False</td><td>518</td><td>False</td><td>False</td><td>False</td></tr>\n",
       "<tr><td>1010357504611</td><td>0.9276504842721082</td><td>-0.47964789567477756</td><td>1010357503941</td><td>False</td><td>False</td><td>False</td><td>False</td><td>0</td><td>True</td><td>3318.0</td><td>4022.0</td><td>3114.21563721493</td><td>False</td><td>False</td><td>False</td><td>False</td><td>False</td><td>False</td><td>False</td><td>3318.1946271543975</td><td>4022.364489283985</td><td>False</td><td>False</td><td>False</td><td>3317.982265342379</td><td>4022.0538177688536</td><td>False</td><td>False</td><td>False</td><td>False</td><td>3318.1927917016665</td><td>3318.1927917016665</td><td>4022.4192715396434</td><td>4022.4192715396434</td><td>0.2774874</td><td>0.2774874</td><td>0.34971115</td><td>0.34971115</td><td>False</td><td>False</td><td>False</td><td>False</td><td>False</td><td>False</td><td>False</td><td>False</td><td>False</td><td>False</td><td>False</td><td>False</td><td>False</td><td>False</td><td>False</td><td>False</td><td>False</td><td>False</td><td>False</td><td>False</td><td>False</td><td>False</td><td>False</td><td>False</td><td>False</td><td>False</td><td>False</td><td>False</td><td>False</td><td>False</td><td>False</td><td>False</td><td>False</td><td>False</td><td>False</td><td>False</td><td>False</td><td>False</td><td>False</td><td>False</td><td>False</td><td>False</td><td>False</td><td>False</td><td>False</td><td>False</td><td>False</td><td>False</td><td>False</td><td>False</td><td>False</td><td>False</td><td>False</td><td>False</td><td>False</td><td>False</td><td>False</td><td>False</td><td>False</td><td>False</td><td>False</td><td>False</td><td>False</td><td>False</td><td>False</td><td>False</td><td>False</td><td>False</td><td>False</td><td>False</td><td>False</td><td>False</td><td>False</td><td>False</td><td>False</td><td>False</td><td>False</td><td>False</td><td>False</td><td>False</td><td>False</td><td>False</td><td>False</td><td>False</td><td>0.05489235483660059</td><td>0.0019209785319580508</td><td>3046.36211857355</td><td>3052.2253779993844</td><td>0.003674804637057827</td><td>3271.0178138751166</td><td>3283.0825006724313</td><td>4.581018249203655</td><td>6.860508292981602</td><td>1.5471155999886894</td><td>4.600923217746578</td><td>6.863027858192424</td><td>1.5612972242295091</td><td>5.473998713878355</td><td>7.306223343600836</td><td>1.600902573403653</td><td>5.525201740821925</td><td>7.404643615373392</td><td>1.6645873900360026</td><td>False</td><td>False</td><td>False</td><td>4.600102187490629</td><td>6.8713409074297</td><td>1.5610393418748498</td><td>1.0496517</td><td>0.94144285</td><td>1.5679032</td><td>3318.157290910939</td><td>4022.4552973691016</td><td>3075.512264988414</td><td>350.88533429977656</td><td>4.480639043451574</td><td>5.338544709913181</td><td>-0.05727487369817446</td><td>-184.1537</td><td>-62.492336</td><td>-275.0771</td><td>False</td><td>False</td><td>False</td><td>False</td><td>False</td><td>False</td><td>0.002447565251309032</td><td>0.002447565251309032</td><td>0.0023241834224326783</td><td>0.0023241834224326783</td><td>4.4844033070725375</td><td>4.4844033070725375</td><td>5.341501506673385</td><td>5.341501506673385</td><td>-0.057184021461530135</td><td>-0.057184021461530135</td><td>False</td><td>False</td><td>False</td><td>False</td><td>False</td><td>False</td><td>False</td><td>False</td><td>-2.553530693054199</td><td>6.2269392013549805</td><td>1.0420664548873901</td><td>0.13451442122459412</td><td>False</td><td>False</td><td>False</td><td>False</td><td>False</td><td>3318.1184906385824</td><td>3318.1184906385824</td><td>4022.49087838277</td><td>4022.49087838277</td><td>4.628950214049903</td><td>4.628950214049903</td><td>6.959015249088398</td><td>6.959015249088398</td><td>1.6628564700055695</td><td>1.6628564700055695</td><td>False</td><td>False</td><td>False</td><td>False</td><td>False</td><td>False</td><td>False</td><td>False</td><td>False</td><td>False</td><td>False</td><td>False</td><td>3318.1648248949846</td><td>3318.1648248949846</td><td>4022.398509847949</td><td>4022.398509847949</td><td>4.636165079932964</td><td>4.636165079932964</td><td>5.541416452875192</td><td>5.541416452875192</td><td>0.661160066951925</td><td>0.661160066951925</td><td>False</td><td>False</td><td>False</td><td>False</td><td>False</td><td>False</td><td>False</td><td>False</td><td>2925.716</td><td>2925.716</td><td>1769.234619140625</td><td>154.67242431640625</td><td>False</td><td>False</td><td>False</td><td>2473.67822265625</td><td>228.84710693359375</td><td>False</td><td>False</td><td>False</td><td>2857.62451171875</td><td>304.2252197265625</td><td>False</td><td>False</td><td>False</td><td>3439.818359375</td><td>456.016845703125</td><td>False</td><td>False</td><td>False</td><td>3918.028076171875</td><td>3918.028076171875</td><td>3918.028076171875</td><td>608.0740966796875</td><td>608.0740966796875</td><td>608.0740966796875</td><td>False</td><td>False</td><td>False</td><td>False</td><td>False</td><td>False</td><td>False</td><td>False</td><td>False</td><td>4554.875184066652</td><td>867.2352621982111</td><td>False</td><td>False</td><td>4393.744878822763</td><td>1272.2397572784778</td><td>False</td><td>False</td><td>4551.46115478297</td><td>1781.0654114883034</td><td>False</td><td>False</td><td>nan</td><td>nan</td><td>True</td><td>True</td><td>nan</td><td>nan</td><td>True</td><td>True</td><td>3434.4459922220053</td><td>3434.4459922220053</td><td>3434.4459922220053</td><td>277.0763218984791</td><td>277.0763218984791</td><td>277.0763218984791</td><td>False</td><td>False</td><td>False</td><td>False</td><td>False</td><td>False</td><td>False</td><td>False</td><td>False</td><td>False</td><td>False</td><td>False</td><td>False</td><td>False</td><td>False</td><td>3247.891663153802</td><td>3247.891663153802</td><td>260.24371054642256</td><td>260.24371054642256</td><td>False</td><td>False</td><td>False</td><td>False</td><td>False</td><td>False</td><td>False</td><td>820.0</td><td>False</td><td>4082.970990441375</td><td>628.1329075966704</td><td>4.7490106</td><td>13.977021</td><td>2.7716343</td><td>False</td><td>False</td><td>False</td><td>False</td><td>False</td><td>False</td><td>False</td><td>False</td><td>False</td><td>False</td><td>1.1141084400499586</td><td>1.1141084400499586</td><td>1.1141084400499586</td><td>0.0</td><td>0.0</td><td>0.0</td><td>False</td><td>False</td><td>False</td><td>1.042840996420229</td><td>0.0</td><td>False</td><td>0.9907253894335173</td><td>0.9907253894335173</td><td>0.0</td><td>0.0</td><td>False</td><td>False</td><td>0.0</td><td>False</td><td>410</td><td>False</td><td>False</td><td>False</td></tr>\n",
       "<tr><td>1010357504612</td><td>0.9276339235895114</td><td>-0.47964371912140674</td><td>1010357503941</td><td>False</td><td>False</td><td>False</td><td>False</td><td>0</td><td>True</td><td>3310.0</td><td>4009.0</td><td>2603.040157469476</td><td>False</td><td>False</td><td>False</td><td>False</td><td>False</td><td>False</td><td>False</td><td>3310.216126815284</td><td>4009.272272145882</td><td>False</td><td>False</td><td>False</td><td>3310.0539208288938</td><td>4008.121183066228</td><td>False</td><td>False</td><td>False</td><td>False</td><td>3310.2174753914437</td><td>3310.2174753914437</td><td>4008.8822726967132</td><td>4008.8822726967132</td><td>0.32620713</td><td>0.32620713</td><td>0.78263336</td><td>0.78263336</td><td>False</td><td>False</td><td>False</td><td>False</td><td>False</td><td>False</td><td>False</td><td>False</td><td>False</td><td>False</td><td>False</td><td>False</td><td>False</td><td>False</td><td>False</td><td>False</td><td>False</td><td>False</td><td>False</td><td>False</td><td>False</td><td>False</td><td>False</td><td>False</td><td>False</td><td>False</td><td>False</td><td>False</td><td>False</td><td>False</td><td>False</td><td>False</td><td>False</td><td>False</td><td>False</td><td>False</td><td>False</td><td>False</td><td>False</td><td>False</td><td>False</td><td>False</td><td>False</td><td>False</td><td>False</td><td>False</td><td>False</td><td>False</td><td>False</td><td>False</td><td>False</td><td>False</td><td>False</td><td>False</td><td>False</td><td>False</td><td>False</td><td>False</td><td>False</td><td>False</td><td>False</td><td>False</td><td>False</td><td>False</td><td>False</td><td>False</td><td>False</td><td>False</td><td>False</td><td>False</td><td>False</td><td>False</td><td>False</td><td>False</td><td>False</td><td>False</td><td>False</td><td>False</td><td>False</td><td>False</td><td>False</td><td>False</td><td>False</td><td>False</td><td>0.05034489186436386</td><td>0.021292419860816092</td><td>3859.066327971685</td><td>3943.02282549286</td><td>0.028779165872770074</td><td>4043.6303141550834</td><td>4163.450959934173</td><td>3.656050033270665</td><td>18.16132859109976</td><td>0.5077007164119848</td><td>3.699100053376752</td><td>20.079798385146187</td><td>0.768111636628164</td><td>4.399050076777776</td><td>20.115177595415794</td><td>0.3747608434475911</td><td>4.508742772191247</td><td>22.6282232661975</td><td>0.8412949224672491</td><td>False</td><td>False</td><td>False</td><td>3.688182472589169</td><td>18.110228917194046</td><td>0.575279177422067</td><td>0.80098003</td><td>1.2581595</td><td>3.9330842</td><td>3310.2017064915003</td><td>4008.899264781786</td><td>3912.6714369255938</td><td>424.86668393958143</td><td>4.481003683259035</td><td>5.33848613634502</td><td>-0.0578726029773183</td><td>-170.15486</td><td>-26.540594</td><td>-835.5182</td><td>False</td><td>False</td><td>False</td><td>False</td><td>False</td><td>False</td><td>0.0024098484148644154</td><td>0.0024098484148644154</td><td>0.002243636631284323</td><td>0.002243636631284323</td><td>4.484767862114068</td><td>4.484767862114068</td><td>5.341446473728441</td><td>5.341446473728441</td><td>-0.057785063995373365</td><td>-0.057785063995373365</td><td>False</td><td>False</td><td>False</td><td>False</td><td>False</td><td>False</td><td>False</td><td>False</td><td>-1.2706749439239502</td><td>0.09118109196424484</td><td>0.2557850182056427</td><td>0.5287228226661682</td><td>False</td><td>False</td><td>False</td><td>False</td><td>False</td><td>3310.191561011642</td><td>3310.191561011642</td><td>4008.925243481583</td><td>4008.925243481583</td><td>3.6767164907967955</td><td>3.6767164907967955</td><td>17.970440232504128</td><td>17.970440232504128</td><td>0.47658190739130485</td><td>0.47658190739130485</td><td>False</td><td>False</td><td>False</td><td>False</td><td>False</td><td>False</td><td>False</td><td>False</td><td>False</td><td>False</td><td>False</td><td>False</td><td>3310.700937548095</td><td>3310.700937548095</td><td>4008.9486419430373</td><td>4008.9486419430373</td><td>7.607608750746887</td><td>7.607608750746887</td><td>12.638171449063607</td><td>12.638171449063607</td><td>-0.2323393258724401</td><td>-0.2323393258724401</td><td>False</td><td>False</td><td>False</td><td>False</td><td>False</td><td>False</td><td>False</td><td>False</td><td>4078.9646</td><td>4078.9646</td><td>1587.6236572265625</td><td>153.9607696533203</td><td>False</td><td>False</td><td>False</td><td>2346.549560546875</td><td>228.83824157714844</td><td>False</td><td>False</td><td>False</td><td>3373.294677734375</td><td>305.4089050292969</td><td>False</td><td>False</td><td>False</td><td>4291.17333984375</td><td>457.1722717285156</td><td>False</td><td>False</td><td>False</td><td>4458.2802734375</td><td>4458.2802734375</td><td>4458.2802734375</td><td>608.7979125976562</td><td>608.7979125976562</td><td>608.7979125976562</td><td>False</td><td>False</td><td>False</td><td>False</td><td>False</td><td>False</td><td>False</td><td>False</td><td>False</td><td>4754.149877850767</td><td>867.015570794435</td><td>False</td><td>False</td><td>4689.279803068828</td><td>1273.5603637048382</td><td>False</td><td>False</td><td>4276.101513595771</td><td>1780.323846944707</td><td>False</td><td>False</td><td>8085.627072082352</td><td>2542.3640573293196</td><td>False</td><td>False</td><td>nan</td><td>nan</td><td>True</td><td>True</td><td>4348.5701148451135</td><td>4348.5701148451135</td><td>4348.5701148451135</td><td>347.09860119871837</td><td>347.09860119871837</td><td>347.09860119871837</td><td>False</td><td>False</td><td>False</td><td>False</td><td>False</td><td>False</td><td>False</td><td>False</td><td>False</td><td>False</td><td>False</td><td>False</td><td>False</td><td>False</td><td>False</td><td>3200.217703850848</td><td>3200.217703850848</td><td>259.8823069492012</td><td>259.8823069492012</td><td>False</td><td>False</td><td>False</td><td>False</td><td>False</td><td>False</td><td>False</td><td>820.0</td><td>False</td><td>nan</td><td>nan</td><td>nan</td><td>nan</td><td>nan</td><td>True</td><td>True</td><td>False</td><td>False</td><td>False</td><td>False</td><td>False</td><td>False</td><td>False</td><td>False</td><td>1.114034444489642</td><td>1.114034444489642</td><td>1.114034444489642</td><td>0.0</td><td>0.0</td><td>0.0</td><td>False</td><td>False</td><td>False</td><td>1.0427927547461173</td><td>0.0</td><td>False</td><td>0.990616735843656</td><td>0.990616735843656</td><td>0.0</td><td>0.0</td><td>False</td><td>False</td><td>1.0</td><td>False</td><td>416</td><td>False</td><td>False</td><td>False</td></tr>\n",
       "<tr><td>1010357504613</td><td>0.9275224846731133</td><td>-0.47923190660697845</td><td>1010357503945</td><td>False</td><td>False</td><td>False</td><td>False</td><td>0</td><td>True</td><td>2874.0</td><td>4018.0</td><td>3356.2270217677687</td><td>False</td><td>False</td><td>False</td><td>False</td><td>False</td><td>False</td><td>False</td><td>2873.934854153103</td><td>4017.61966027659</td><td>False</td><td>False</td><td>False</td><td>2873.037392279676</td><td>4017.064410319622</td><td>False</td><td>False</td><td>False</td><td>False</td><td>2873.927046638512</td><td>2873.927046638512</td><td>4017.5908534015957</td><td>4017.5908534015957</td><td>0.33050928</td><td>0.33050928</td><td>0.2812921</td><td>0.2812921</td><td>False</td><td>False</td><td>False</td><td>False</td><td>False</td><td>False</td><td>False</td><td>False</td><td>False</td><td>False</td><td>False</td><td>False</td><td>False</td><td>False</td><td>False</td><td>False</td><td>False</td><td>False</td><td>False</td><td>False</td><td>False</td><td>False</td><td>False</td><td>False</td><td>False</td><td>False</td><td>False</td><td>False</td><td>False</td><td>False</td><td>False</td><td>False</td><td>False</td><td>False</td><td>False</td><td>False</td><td>False</td><td>False</td><td>False</td><td>False</td><td>False</td><td>False</td><td>False</td><td>False</td><td>False</td><td>False</td><td>False</td><td>False</td><td>False</td><td>False</td><td>False</td><td>False</td><td>False</td><td>False</td><td>False</td><td>False</td><td>False</td><td>False</td><td>False</td><td>False</td><td>False</td><td>False</td><td>False</td><td>False</td><td>False</td><td>False</td><td>False</td><td>False</td><td>False</td><td>False</td><td>False</td><td>False</td><td>False</td><td>False</td><td>False</td><td>False</td><td>False</td><td>False</td><td>False</td><td>False</td><td>False</td><td>False</td><td>False</td><td>False</td><td>0.06285882510269003</td><td>0.021857020594023724</td><td>3561.6039551704553</td><td>3641.1895092611185</td><td>0.028589476076186005</td><td>3606.993692212309</td><td>3713.1507260623407</td><td>6.7433524113261685</td><td>4.9252636834127</td><td>-0.24858674906498288</td><td>7.37447592404875</td><td>5.016816880496866</td><td>-0.4481256988160153</td><td>7.2141637379492485</td><td>5.345764025165738</td><td>-0.13563785539955445</td><td>8.088670333340175</td><td>5.50801320606529</td><td>-0.42618116315503307</td><td>False</td><td>False</td><td>False</td><td>6.778132972297409</td><td>4.961561895196438</td><td>-0.21762738581810817</td><td>1.356603</td><td>0.8212919</td><td>0.9930271</td><td>2873.9275995228086</td><td>4017.6101654126664</td><td>3599.773285228468</td><td>360.23666501041606</td><td>4.4842080547877865</td><td>5.298396909824647</td><td>-0.10002755027369373</td><td>-244.34909</td><td>7.8453856</td><td>-178.86238</td><td>False</td><td>False</td><td>False</td><td>False</td><td>False</td><td>False</td><td>0.002229296512407108</td><td>0.002229296512407108</td><td>0.0011159647547799242</td><td>0.0011159647547799242</td><td>4.48790788738503</td><td>4.48790788738503</td><td>5.301337175047634</td><td>5.301337175047634</td><td>-0.10004142175608458</td><td>-0.10004142175608458</td><td>False</td><td>False</td><td>False</td><td>False</td><td>False</td><td>False</td><td>False</td><td>False</td><td>1.2095670700073242</td><td>-0.07585665583610535</td><td>0.8798463344573975</td><td>0.14959576725959778</td><td>False</td><td>False</td><td>False</td><td>False</td><td>False</td><td>2873.930754087193</td><td>2873.930754087193</td><td>4017.6296645268785</td><td>4017.6296645268785</td><td>6.784799388804263</td><td>6.784799388804263</td><td>4.9815569583965145</td><td>4.9815569583965145</td><td>-0.1888659716027619</td><td>-0.1888659716027619</td><td>False</td><td>False</td><td>False</td><td>False</td><td>False</td><td>False</td><td>False</td><td>False</td><td>False</td><td>False</td><td>False</td><td>False</td><td>2873.943840464194</td><td>2873.943840464194</td><td>4017.6334363655556</td><td>4017.6334363655556</td><td>6.393391951256643</td><td>6.393391951256643</td><td>5.390867680208291</td><td>5.390867680208291</td><td>-0.0016886010613951592</td><td>-0.0016886010613951592</td><td>False</td><td>False</td><td>False</td><td>False</td><td>False</td><td>False</td><td>False</td><td>False</td><td>3611.449</td><td>3611.449</td><td>1994.705078125</td><td>154.9298095703125</td><td>False</td><td>False</td><td>False</td><td>2880.355224609375</td><td>229.916259765625</td><td>False</td><td>False</td><td>False</td><td>3433.96533203125</td><td>305.6745910644531</td><td>False</td><td>False</td><td>False</td><td>3974.500732421875</td><td>457.4093017578125</td><td>False</td><td>False</td><td>False</td><td>3964.4287109375</td><td>3964.4287109375</td><td>3964.4287109375</td><td>609.2817993164062</td><td>609.2817993164062</td><td>609.2817993164062</td><td>False</td><td>False</td><td>False</td><td>False</td><td>False</td><td>False</td><td>False</td><td>False</td><td>False</td><td>3441.4820769736543</td><td>866.5633271723423</td><td>False</td><td>False</td><td>3269.2506235549226</td><td>1271.2497787610428</td><td>False</td><td>False</td><td>1788.5739581594244</td><td>1777.5505618687757</td><td>False</td><td>False</td><td>1621.7179654398933</td><td>2540.4971954324214</td><td>False</td><td>False</td><td>nan</td><td>nan</td><td>True</td><td>True</td><td>4017.6827413905726</td><td>4017.6827413905726</td><td>4017.6827413905726</td><td>285.7340882061717</td><td>285.7340882061717</td><td>285.7340882061717</td><td>False</td><td>False</td><td>False</td><td>False</td><td>False</td><td>False</td><td>False</td><td>False</td><td>False</td><td>False</td><td>False</td><td>False</td><td>False</td><td>False</td><td>False</td><td>3647.753238447088</td><td>3647.753238447088</td><td>260.9834992246833</td><td>260.9834992246833</td><td>False</td><td>False</td><td>False</td><td>False</td><td>False</td><td>False</td><td>False</td><td>821.0</td><td>False</td><td>3713.3470362983494</td><td>563.9956862602271</td><td>4.2632475</td><td>14.463125</td><td>2.766762</td><td>False</td><td>False</td><td>False</td><td>False</td><td>False</td><td>False</td><td>False</td><td>False</td><td>False</td><td>False</td><td>1.1146152646415333</td><td>1.1146152646415333</td><td>1.1146152646415333</td><td>0.0</td><td>0.0</td><td>0.0</td><td>False</td><td>False</td><td>False</td><td>1.0426230469023334</td><td>0.0</td><td>False</td><td>0.9909114489238808</td><td>0.9909114489238808</td><td>0.0</td><td>0.0</td><td>False</td><td>False</td><td>1.0</td><td>False</td><td>293</td><td>False</td><td>False</td><td>False</td></tr>\n",
       "<tr><td>1010357504614</td><td>0.9275184726569182</td><td>-0.47924090336748926</td><td>1010357503945</td><td>False</td><td>False</td><td>False</td><td>False</td><td>0</td><td>True</td><td>2882.0</td><td>4014.0</td><td>1272.9455951824368</td><td>False</td><td>False</td><td>False</td><td>False</td><td>False</td><td>False</td><td>False</td><td>2881.0383010479723</td><td>4011.221303117771</td><td>False</td><td>False</td><td>False</td><td>2880.8682899211944</td><td>4010.905577916985</td><td>False</td><td>False</td><td>False</td><td>False</td><td>2881.9717498392447</td><td>2881.9717498392447</td><td>4011.7048656563293</td><td>4011.7048656563293</td><td>0.7905694</td><td>0.7905694</td><td>2.341867</td><td>2.341867</td><td>False</td><td>False</td><td>False</td><td>False</td><td>False</td><td>False</td><td>False</td><td>False</td><td>False</td><td>False</td><td>False</td><td>False</td><td>False</td><td>False</td><td>False</td><td>False</td><td>False</td><td>False</td><td>False</td><td>False</td><td>False</td><td>False</td><td>False</td><td>False</td><td>False</td><td>False</td><td>False</td><td>False</td><td>False</td><td>False</td><td>False</td><td>False</td><td>False</td><td>False</td><td>False</td><td>False</td><td>False</td><td>False</td><td>False</td><td>False</td><td>False</td><td>False</td><td>False</td><td>False</td><td>False</td><td>False</td><td>False</td><td>False</td><td>False</td><td>False</td><td>False</td><td>False</td><td>False</td><td>False</td><td>False</td><td>False</td><td>False</td><td>False</td><td>False</td><td>False</td><td>False</td><td>False</td><td>False</td><td>False</td><td>False</td><td>False</td><td>False</td><td>False</td><td>False</td><td>False</td><td>False</td><td>False</td><td>False</td><td>False</td><td>False</td><td>False</td><td>False</td><td>False</td><td>False</td><td>False</td><td>False</td><td>False</td><td>False</td><td>False</td><td>0.19397237673767082</td><td>0.09613961083201994</td><td>2011.7162069910007</td><td>2225.6935153921527</td><td>0.1145696890776573</td><td>2207.036958617873</td><td>2492.6150950477713</td><td>5.707244257802917</td><td>14.552733807501276</td><td>-0.36909165370933805</td><td>7.289010805501579</td><td>15.50157342537748</td><td>-1.393035079521524</td><td>7.6920363338624504</td><td>16.31195969528011</td><td>0.07287044862153244</td><td>9.42761110637729</td><td>17.360424671832252</td><td>-1.2430590524318474</td><td>False</td><td>False</td><td>False</td><td>3.629575093084178</td><td>7.254154866990005</td><td>-0.6118455152492972</td><td>nan</td><td>nan</td><td>nan</td><td>2882.0869462706755</td><td>4012.061579376166</td><td>nan</td><td>nan</td><td>4.484257519857582</td><td>5.299317650455579</td><td>-0.0991858821550719</td><td>nan</td><td>nan</td><td>nan</td><td>True</td><td>False</td><td>True</td><td>False</td><td>False</td><td>False</td><td>0.0022194084093989886</td><td>0.0022194084093989886</td><td>0.0011116546828884707</td><td>0.0011116546828884707</td><td>4.487969078085281</td><td>4.487969078085281</td><td>5.302271178919892</td><td>5.302271178919892</td><td>-0.09920098591388689</td><td>-0.09920098591388689</td><td>False</td><td>False</td><td>False</td><td>False</td><td>False</td><td>False</td><td>False</td><td>False</td><td>-0.48229360580444336</td><td>-0.09557855874300003</td><td>0.7658263444900513</td><td>0.37288880348205566</td><td>False</td><td>False</td><td>False</td><td>False</td><td>False</td><td>2882.1485447918994</td><td>2882.1485447918994</td><td>4013.077905088187</td><td>4013.077905088187</td><td>5.974801344528834</td><td>5.974801344528834</td><td>10.233456312079962</td><td>10.233456312079962</td><td>-0.4177984311468803</td><td>-0.4177984311468803</td><td>False</td><td>False</td><td>False</td><td>False</td><td>False</td><td>False</td><td>False</td><td>False</td><td>False</td><td>False</td><td>False</td><td>False</td><td>2882.156313103395</td><td>2882.156313103395</td><td>4013.1195678219224</td><td>4013.1195678219224</td><td>6.714426135292036</td><td>6.714426135292036</td><td>8.952826504163802</td><td>8.952826504163802</td><td>-0.15770892593000868</td><td>-0.15770892593000868</td><td>False</td><td>False</td><td>False</td><td>False</td><td>False</td><td>False</td><td>False</td><td>False</td><td>2040.917</td><td>2040.917</td><td>809.4622192382812</td><td>151.2576904296875</td><td>False</td><td>False</td><td>False</td><td>1494.027587890625</td><td>227.06768798828125</td><td>False</td><td>False</td><td>False</td><td>1863.7652587890625</td><td>303.50848388671875</td><td>False</td><td>False</td><td>False</td><td>2125.309814453125</td><td>455.9118957519531</td><td>False</td><td>False</td><td>False</td><td>2272.010009765625</td><td>2272.010009765625</td><td>2272.010009765625</td><td>609.0165405273438</td><td>609.0165405273438</td><td>609.0165405273438</td><td>False</td><td>False</td><td>False</td><td>False</td><td>False</td><td>False</td><td>False</td><td>False</td><td>False</td><td>1344.5725321097998</td><td>866.0121246264396</td><td>False</td><td>False</td><td>2599.5883552450396</td><td>1271.3988359283644</td><td>False</td><td>False</td><td>-172.4932652246498</td><td>1777.2906346458926</td><td>False</td><td>False</td><td>-2922.058202384069</td><td>2538.8322118643446</td><td>False</td><td>False</td><td>nan</td><td>nan</td><td>True</td><td>True</td><td>2269.7351997863752</td><td>2269.7351997863752</td><td>2269.7351997863752</td><td>312.07836668489</td><td>312.07836668489</td><td>312.07836668489</td><td>False</td><td>False</td><td>False</td><td>False</td><td>False</td><td>False</td><td>False</td><td>False</td><td>False</td><td>False</td><td>False</td><td>False</td><td>False</td><td>False</td><td>False</td><td>1632.148496707649</td><td>1632.148496707649</td><td>254.97047306928545</td><td>254.97047306928545</td><td>False</td><td>False</td><td>False</td><td>False</td><td>False</td><td>False</td><td>False</td><td>821.0</td><td>False</td><td>2190.592864588474</td><td>364.93538321997397</td><td>2.7668974</td><td>nan</td><td>2.7668974</td><td>False</td><td>False</td><td>False</td><td>False</td><td>False</td><td>True</td><td>False</td><td>True</td><td>False</td><td>False</td><td>1.1145750014285125</td><td>1.1145750014285125</td><td>1.1145750014285125</td><td>0.0</td><td>0.0</td><td>0.0</td><td>False</td><td>False</td><td>False</td><td>1.0426102512320394</td><td>0.0</td><td>False</td><td>0.9908619528348621</td><td>0.9908619528348621</td><td>0.0</td><td>0.0</td><td>False</td><td>False</td><td>1.0</td><td>False</td><td>293</td><td>False</td><td>False</td><td>False</td></tr>\n",
       "</table>"
      ],
      "text/plain": [
       "<Table length=2662>\n",
       "      id           coord_ra      ... calib_photometry_reserved\n",
       "                     rad         ...                          \n",
       "    int64          float64       ...            bool          \n",
       "------------- ------------------ ... -------------------------\n",
       "1010357501953  0.923033029229361 ...                     False\n",
       "1010357501954 0.9231694833170864 ...                     False\n",
       "1010357501955 0.9232606263113138 ...                     False\n",
       "1010357501956 0.9235299085068365 ...                     False\n",
       "1010357501957 0.9227888992171793 ...                     False\n",
       "1010357501958 0.9235455709036104 ...                     False\n",
       "1010357501959 0.9233171043552312 ...                     False\n",
       "1010357501960 0.9234794124400545 ...                     False\n",
       "1010357501961 0.9230547505458153 ...                     False\n",
       "          ...                ... ...                       ...\n",
       "1010357504605 0.9276100366033875 ...                     False\n",
       "1010357504606 0.9276113859032618 ...                     False\n",
       "1010357504607 0.9277188763009131 ...                     False\n",
       "1010357504608 0.9277065384888925 ...                     False\n",
       "1010357504609 0.9277465529622956 ...                     False\n",
       "1010357504610 0.9277538247212633 ...                     False\n",
       "1010357504611 0.9276504842721082 ...                     False\n",
       "1010357504612 0.9276339235895114 ...                     False\n",
       "1010357504613 0.9275224846731133 ...                     False\n",
       "1010357504614 0.9275184726569182 ...                     False"
      ]
     },
     "execution_count": 31,
     "metadata": {},
     "output_type": "execute_result"
    }
   ],
   "source": [
    "source_cat.asAstropy()"
   ]
  },
  {
   "cell_type": "markdown",
   "metadata": {},
   "source": [
    "Now we will set aside the schema for this table, and look at the table itself so we can examine its methods.\n",
    "\n",
    "### afw source catalogs\n",
    "\n",
    "Source catalogs support a lot of fast operations for common use cases which we will now discuss. "
   ]
  },
  {
   "cell_type": "code",
   "execution_count": 32,
   "metadata": {},
   "outputs": [
    {
     "data": {
      "text/plain": [
       "True"
      ]
     },
     "execution_count": 32,
     "metadata": {},
     "output_type": "execute_result"
    }
   ],
   "source": [
    "# Sorting is supported. by default catalogs are sorted by id\n",
    "source_cat.isSorted(id_key)"
   ]
  },
  {
   "cell_type": "code",
   "execution_count": 33,
   "metadata": {},
   "outputs": [
    {
     "data": {
      "text/plain": [
       "True"
      ]
     },
     "execution_count": 33,
     "metadata": {},
     "output_type": "execute_result"
    }
   ],
   "source": [
    "# You can cut on the catalog.\n",
    "# e.g. Make a boolean array to only keep sources with positive psf flux:\n",
    "psf_mask = source_cat.getPsfFlux() > 0\n",
    "psf_mask &= np.isfinite(source_cat['slot_ApFlux_flux'])\n",
    "psf_mask &= np.isfinite(source_cat['slot_ApFlux_fluxSigma'])\n",
    "psf_mask &= np.isfinite(source_cat['base_ClassificationExtendedness_value'])\n",
    "pos_flux = source_cat.subset(psf_mask)\n",
    "\n",
    "# You can sort on other keys too:\n",
    "flux_key = pos_flux.getPsfFluxKey()\n",
    "pos_flux.sort(flux_key)\n",
    "pos_flux.isSorted(flux_key)"
   ]
  },
  {
   "cell_type": "code",
   "execution_count": 34,
   "metadata": {},
   "outputs": [
    {
     "data": {
      "text/plain": [
       "<class 'lsst.afw.table.source.source.SourceCatalog'>\n",
       "      id           coord_ra      ... calib_photometry_reserved\n",
       "                     rad         ...                          \n",
       "------------- ------------------ ... -------------------------\n",
       "1010357504605 0.9276100366033875 ...                     False\n",
       "1010357504606 0.9276113859032618 ...                     False"
      ]
     },
     "execution_count": 34,
     "metadata": {},
     "output_type": "execute_result"
    }
   ],
   "source": [
    "# You can get the children of particular objects.\n",
    "# This is useful if you want to understand how one object was deblended, for example:\n",
    "source_cat.getChildren(1010357503918) #the argument is the id of the parent object\n",
    "\n",
    "# Note that this will only work if the source catalog is sorted on id or parent"
   ]
  },
  {
   "cell_type": "markdown",
   "metadata": {},
   "source": [
    "You can check if catalogs are contiguous in memory."
   ]
  },
  {
   "cell_type": "code",
   "execution_count": 35,
   "metadata": {},
   "outputs": [
    {
     "data": {
      "text/plain": [
       "True"
      ]
     },
     "execution_count": 35,
     "metadata": {},
     "output_type": "execute_result"
    }
   ],
   "source": [
    "source_cat.isContiguous()"
   ]
  },
  {
   "cell_type": "code",
   "execution_count": 36,
   "metadata": {},
   "outputs": [
    {
     "data": {
      "text/plain": [
       "False"
      ]
     },
     "execution_count": 36,
     "metadata": {},
     "output_type": "execute_result"
    }
   ],
   "source": [
    "pos_flux.isContiguous()"
   ]
  },
  {
   "cell_type": "markdown",
   "metadata": {},
   "source": [
    "Some operations are quicker if catalogs are contiguous in memory, like using numpy-like syntax to create masks. Eli Rykoff performed some benchmark tests showing this is the case for a catalog with about half a million enteries. You can find the full details in a Slack thread [here](https://lsstc.slack.com/archives/C2JPL2DGD/p1525799998000344). Additionally, certain operations will not work on non-contiguous tables."
   ]
  },
  {
   "cell_type": "code",
   "execution_count": 37,
   "metadata": {},
   "outputs": [],
   "source": [
    "# uncomment the last line if you are curious and want to prove it wont work\n",
    "# this will not work and give you an error message complaining pos_flux is not contiguous\n",
    "# pos_flux.asAstropy()"
   ]
  },
  {
   "cell_type": "markdown",
   "metadata": {},
   "source": [
    "You can always force a table to be contiguous by making a deep copy of it. "
   ]
  },
  {
   "cell_type": "code",
   "execution_count": 38,
   "metadata": {},
   "outputs": [
    {
     "data": {
      "text/plain": [
       "True"
      ]
     },
     "execution_count": 38,
     "metadata": {},
     "output_type": "execute_result"
    }
   ],
   "source": [
    "pos_flux = pos_flux.copy(deep=True)\n",
    "pos_flux.isContiguous()"
   ]
  },
  {
   "cell_type": "markdown",
   "metadata": {},
   "source": [
    "In the next few cells, we show a few methods that can be used to search through tables"
   ]
  },
  {
   "cell_type": "code",
   "execution_count": 39,
   "metadata": {},
   "outputs": [
    {
     "data": {
      "text/plain": [
       "slice(1850, 2390, 1)"
      ]
     },
     "execution_count": 39,
     "metadata": {},
     "output_type": "execute_result"
    }
   ],
   "source": [
    "# Use the between method to get the indices of values within a range:\n",
    "pos_flux.between(1e4,1e6,psf_flux_key)"
   ]
  },
  {
   "cell_type": "code",
   "execution_count": 40,
   "metadata": {},
   "outputs": [
    {
     "data": {
      "text/plain": [
       "1095968.2558799293"
      ]
     },
     "execution_count": 40,
     "metadata": {},
     "output_type": "execute_result"
    }
   ],
   "source": [
    "# The slice object tells you the (start, stop, stride) for values that fit our query.\n",
    "# You can check to see that the first record outside the slice is above the flux threshold\n",
    "pos_flux[2390].getPsfFlux()"
   ]
  },
  {
   "cell_type": "code",
   "execution_count": 41,
   "metadata": {},
   "outputs": [
    {
     "data": {
      "text/plain": [
       "910716.5910917423"
      ]
     },
     "execution_count": 41,
     "metadata": {},
     "output_type": "execute_result"
    }
   ],
   "source": [
    "# and that the last element in the slice is inside the threshold\n",
    "pos_flux[2389].getPsfFlux()"
   ]
  },
  {
   "cell_type": "code",
   "execution_count": 42,
   "metadata": {},
   "outputs": [],
   "source": [
    "# your turn. confirm the lower limits of the between query\n",
    "# pos_flux[...].getPsfFlux\n"
   ]
  },
  {
   "cell_type": "code",
   "execution_count": 43,
   "metadata": {},
   "outputs": [
    {
     "data": {
      "text/plain": [
       "1850"
      ]
     },
     "execution_count": 43,
     "metadata": {},
     "output_type": "execute_result"
    }
   ],
   "source": [
    "#the upper and lower bound methods work similarly\n",
    "pos_flux.upper_bound(1e4, psf_flux_key)"
   ]
  },
  {
   "cell_type": "code",
   "execution_count": 44,
   "metadata": {},
   "outputs": [
    {
     "data": {
      "text/plain": [
       "2390"
      ]
     },
     "execution_count": 44,
     "metadata": {},
     "output_type": "execute_result"
    }
   ],
   "source": [
    "pos_flux.lower_bound(1e6, psf_flux_key)"
   ]
  },
  {
   "cell_type": "markdown",
   "metadata": {},
   "source": [
    "## Example: Star-Galaxy Separation\n",
    "\n",
    "Now that we have introduced the functionality of the source catalog and its schema, we will do a toy example of star-galaxy separation. This small demo will also flags and fields that users are use, and ultimately make a plot."
   ]
  },
  {
   "cell_type": "code",
   "execution_count": 45,
   "metadata": {},
   "outputs": [],
   "source": [
    "# let's select sources that were not deblended\n",
    "select_mask = source_cat['deblend_nChild'] == 0\n",
    "select_mask &= source_cat['parent'] == 0\n",
    "\n",
    "# use the extendedness column for a mock star/galaxy seperation\n",
    "# we only want to use columns where this algorithm worked\n",
    "# the flag is set true if there was a failure, so we invert the flag values here\n",
    "select_mask &= ~source_cat['base_ClassificationExtendedness_flag']\n",
    "\n",
    "# we will also use the sloan shapes to measure size\n",
    "select_mask &= ~source_cat['base_SdssShape_flag']\n",
    "\n",
    "# and a simple aperture flux for the brightness\n",
    "select_mask &= ~source_cat['base_CircularApertureFlux_12_0_flag']\n",
    "\n",
    "# only consider sources with positive flux\n",
    "select_mask &= source_cat['base_CircularApertureFlux_12_0_flux'] > 0\n",
    "\n",
    "size_bright_cat = source_cat.subset(select_mask)"
   ]
  },
  {
   "cell_type": "markdown",
   "metadata": {},
   "source": [
    "Now we make a crude size magnitude diagram, color coding the data by their 'extendedness value'. The extendedness will be 1 for extended sources-like galaxies-and 0 for point sources-like stars. One hopes the stars will all live on the stellar locus..."
   ]
  },
  {
   "cell_type": "code",
   "execution_count": 46,
   "metadata": {},
   "outputs": [
    {
     "data": {
      "text/plain": [
       "(5, 15)"
      ]
     },
     "execution_count": 46,
     "metadata": {},
     "output_type": "execute_result"
    },
    {
     "data": {
      "image/png": "[encoded data removed]",
      "text/plain": [
       "<Figure size 748.8x514.8 with 1 Axes>"
      ]
     },
     "metadata": {
      "needs_background": "light"
     },
     "output_type": "display_data"
    }
   ],
   "source": [
    "plt.scatter(np.log(size_bright_cat['base_CircularApertureFlux_12_0_flux']), \n",
    "           size_bright_cat['base_SdssShape_xx'] + size_bright_cat['base_SdssShape_yy'],\n",
    "           c=size_bright_cat['base_ClassificationExtendedness_value'],\n",
    "            cmap='bwr',\n",
    "           s=4)\n",
    "plt.xlabel('log flux')\n",
    "plt.ylabel('size px^2')\n",
    "plt.ylim([0,60]) #zoom in to make the stellar locus clearer\n",
    "plt.xlim([5,15])"
   ]
  },
  {
   "cell_type": "markdown",
   "metadata": {},
   "source": [
    "Our plot shows some star galaxy separation, but also has other interesting features. Some detected sources appear to be smaller than the PSF, some of the point sources have a (crudely) calculated size that occupy the same parameter space as extended sources, and there are a few extremely faint detected point sources. We will leave it to you to delve into this mystery further as a homework assignment since we are primarily focused on understanding tables in this tutorial. By making this plot we exercised some of the methods of the catalog and its schema, to do a minimal analysis example."
   ]
  },
  {
   "cell_type": "markdown",
   "metadata": {},
   "source": [
    "### Operations with multiple tables/catalogs\n",
    "\n",
    "In the next section we will show operations which involve two or more catalogs.\n",
    "\n",
    "#### Table concatenation"
   ]
  },
  {
   "cell_type": "code",
   "execution_count": 47,
   "metadata": {},
   "outputs": [],
   "source": [
    "# Grab a second catalog using the butler:\n",
    "dataId2 = {'filter': 'r', 'raft': '2,2', 'sensor': '1,1', 'visit': 236}\n",
    "source_cat2 = butler.get('src', dataId2)\n",
    "\n",
    "# Put our catalogs in a list:\n",
    "catalogList = [source_cat, source_cat2]\n",
    "\n",
    "# The following concatenation function is courtesy of Jim Bosch:\n",
    "def concatenate(catalogList):\n",
    "    from functools import reduce\n",
    "    \"\"\"Concatenate multiple catalogs (FITS tables from lsst.afw.table)\"\"\"\n",
    "    schema = catalogList[0].schema\n",
    "    for i, c in enumerate(catalogList[1:]):\n",
    "        #check that the schema in the tables are the same\n",
    "        #we can only cat them if this is true\n",
    "        if c.schema != schema:\n",
    "            raise RuntimeError(\"Schema for catalog %d not consistent\" % (i+1))\n",
    "\n",
    "    # prepare the master catalog\n",
    "    out = afwTable.BaseCatalog(schema)\n",
    "    num = reduce(lambda n, c: n + len(c), catalogList, 0)\n",
    "    # set aside enough space for all the records and their pointers\n",
    "    out.reserve(num)\n",
    "\n",
    "    # stick in all the records from all catalogs into the master catalog\n",
    "    for catalog in catalogList:\n",
    "        for record in catalog:\n",
    "            out.append(out.table.copyRecord(record))\n",
    "\n",
    "    return out\n",
    "\n",
    "cat_source = concatenate(catalogList)"
   ]
  },
  {
   "cell_type": "markdown",
   "metadata": {},
   "source": [
    "#### Catalog matching\n",
    "\n",
    "Quick positional matching is supported by the stack, and offers some useful functionality. In the next example, we will match one of the Twinkles truth catalogs against our stack-produced detection catalog. To be as DM like as possible, we will read in the truth catalog, make an `afwTable.BaseTable` version of the truth catalog to match against the src catalog produced by DM. As we do this, you'll see us re-use the code we showed above.\n",
    "\n",
    "First order of business is to grab and reformat the truth table."
   ]
  },
  {
   "cell_type": "code",
   "execution_count": 48,
   "metadata": {},
   "outputs": [
    {
     "data": {
      "text/html": [
       "<i>Table length=198</i>\n",
       "<table id=\"table139916372918456\" class=\"table-striped table-bordered table-condensed\">\n",
       "<thead><tr><th>galid</th><th>ra</th><th>dec</th><th>mag</th><th>z</th><th>majorAxis</th><th>minorAxis</th><th>positionAngle</th></tr></thead>\n",
       "<thead><tr><th>int64</th><th>float64</th><th>float64</th><th>float64</th><th>float64</th><th>float64</th><th>float64</th><th>float64</th></tr></thead>\n",
       "<tr><td>21393434</td><td>53.0535953</td><td>-27.7028124</td><td>17.8301052</td><td>0.184</td><td>7.81818154e-06</td><td>5.59113188e-06</td><td>0.992164702</td></tr>\n",
       "<tr><td>23359514</td><td>53.0846493</td><td>-27.7071324</td><td>19.9346871</td><td>0.302</td><td>4.44570945e-06</td><td>4.36949799e-06</td><td>-1.21265895</td></tr>\n",
       "<tr><td>48583706</td><td>52.7853574</td><td>-27.3048094</td><td>20.5389923</td><td>0.566</td><td>8.2242278e-06</td><td>5.31142754e-06</td><td>-2.46634746</td></tr>\n",
       "<tr><td>55131162</td><td>52.9697904</td><td>-27.421952</td><td>19.4890999</td><td>0.362</td><td>9.51343736e-06</td><td>6.13822961e-06</td><td>0.828110908</td></tr>\n",
       "<tr><td>78559258</td><td>52.8999025</td><td>-27.2820862</td><td>20.0683712</td><td>0.378</td><td>3.08441025e-06</td><td>2.96757368e-06</td><td>1.9059711</td></tr>\n",
       "<tr><td>79490074</td><td>53.1286144</td><td>-27.501171</td><td>20.0683712</td><td>0.378</td><td>3.08441025e-06</td><td>2.96757368e-06</td><td>1.9059711</td></tr>\n",
       "<tr><td>95752218</td><td>52.8530026</td><td>-27.2307548</td><td>19.9346871</td><td>0.302</td><td>4.44570945e-06</td><td>4.36949799e-06</td><td>-1.21265895</td></tr>\n",
       "<tr><td>107250714</td><td>53.2554386</td><td>-27.5914636</td><td>17.8301052</td><td>0.184</td><td>7.81818154e-06</td><td>5.59113188e-06</td><td>0.992164702</td></tr>\n",
       "<tr><td>125760538</td><td>53.1416896</td><td>-27.6878607</td><td>17.7945542</td><td>0.202</td><td>1.20964562e-05</td><td>8.07357888e-06</td><td>2.37624658</td></tr>\n",
       "<tr><td>130236442</td><td>53.017919</td><td>-27.5840095</td><td>20.0683712</td><td>0.378</td><td>3.08441025e-06</td><td>2.96757368e-06</td><td>1.9059711</td></tr>\n",
       "<tr><td>...</td><td>...</td><td>...</td><td>...</td><td>...</td><td>...</td><td>...</td><td>...</td></tr>\n",
       "<tr><td>17823339546</td><td>53.2923551</td><td>-27.5605252</td><td>20.1416573</td><td>0.548</td><td>1.04636249e-05</td><td>8.22776902e-06</td><td>-1.94355502</td></tr>\n",
       "<tr><td>17823342618</td><td>52.7222801</td><td>-27.2960321</td><td>18.2376923</td><td>0.25</td><td>1.13429971e-05</td><td>8.60986675e-06</td><td>2.73626437</td></tr>\n",
       "<tr><td>17829176346</td><td>52.9356843</td><td>-27.4287735</td><td>18.2376923</td><td>0.25</td><td>1.13429971e-05</td><td>8.60986675e-06</td><td>2.73626437</td></tr>\n",
       "<tr><td>17832086554</td><td>52.728121</td><td>-27.3354752</td><td>23.5223431</td><td>1.254</td><td>5.82919192e-06</td><td>5.50749124e-06</td><td>3.10116559</td></tr>\n",
       "<tr><td>17834571802</td><td>53.0120069</td><td>-27.5607637</td><td>21.2305912</td><td>0.54</td><td>3.30508194e-06</td><td>2.36375197e-06</td><td>-1.08657864</td></tr>\n",
       "<tr><td>17835368474</td><td>53.0149475</td><td>-27.364128</td><td>21.5276131</td><td>0.64</td><td>5.43181585e-06</td><td>4.82479304e-06</td><td>1.64603538</td></tr>\n",
       "<tr><td>17837303834</td><td>53.3127547</td><td>-27.390544</td><td>20.1416573</td><td>0.548</td><td>1.04636249e-05</td><td>8.22776902e-06</td><td>-1.94355502</td></tr>\n",
       "<tr><td>17840952346</td><td>53.0445717</td><td>-27.6207652</td><td>21.5223736</td><td>0.6</td><td>6.80299898e-06</td><td>5.91806828e-06</td><td>0.689697746</td></tr>\n",
       "<tr><td>17844662298</td><td>52.7584999</td><td>-27.3694243</td><td>19.4069828</td><td>0.364</td><td>9.36534908e-06</td><td>6.65472018e-06</td><td>3.10316748</td></tr>\n",
       "<tr><td>17844666394</td><td>53.1694826</td><td>-27.3920566</td><td>21.858664</td><td>0.732</td><td>1.48828097e-05</td><td>7.13085419e-06</td><td>-2.79608378</td></tr>\n",
       "</table>"
      ],
      "text/plain": [
       "<Table length=198>\n",
       "   galid        ra         dec     ...   minorAxis    positionAngle\n",
       "   int64     float64     float64   ...    float64        float64   \n",
       "----------- ---------- ----------- ... -------------- -------------\n",
       "   21393434 53.0535953 -27.7028124 ... 5.59113188e-06   0.992164702\n",
       "   23359514 53.0846493 -27.7071324 ... 4.36949799e-06   -1.21265895\n",
       "   48583706 52.7853574 -27.3048094 ... 5.31142754e-06   -2.46634746\n",
       "   55131162 52.9697904  -27.421952 ... 6.13822961e-06   0.828110908\n",
       "   78559258 52.8999025 -27.2820862 ... 2.96757368e-06     1.9059711\n",
       "   79490074 53.1286144  -27.501171 ... 2.96757368e-06     1.9059711\n",
       "   95752218 52.8530026 -27.2307548 ... 4.36949799e-06   -1.21265895\n",
       "  107250714 53.2554386 -27.5914636 ... 5.59113188e-06   0.992164702\n",
       "  125760538 53.1416896 -27.6878607 ... 8.07357888e-06    2.37624658\n",
       "  130236442  53.017919 -27.5840095 ... 2.96757368e-06     1.9059711\n",
       "        ...        ...         ... ...            ...           ...\n",
       "17823339546 53.2923551 -27.5605252 ... 8.22776902e-06   -1.94355502\n",
       "17823342618 52.7222801 -27.2960321 ... 8.60986675e-06    2.73626437\n",
       "17829176346 52.9356843 -27.4287735 ... 8.60986675e-06    2.73626437\n",
       "17832086554  52.728121 -27.3354752 ... 5.50749124e-06    3.10116559\n",
       "17834571802 53.0120069 -27.5607637 ... 2.36375197e-06   -1.08657864\n",
       "17835368474 53.0149475  -27.364128 ... 4.82479304e-06    1.64603538\n",
       "17837303834 53.3127547  -27.390544 ... 8.22776902e-06   -1.94355502\n",
       "17840952346 53.0445717 -27.6207652 ... 5.91806828e-06   0.689697746\n",
       "17844662298 52.7584999 -27.3694243 ... 6.65472018e-06    3.10316748\n",
       "17844666394 53.1694826 -27.3920566 ... 7.13085419e-06   -2.79608378"
      ]
     },
     "execution_count": 48,
     "metadata": {},
     "output_type": "execute_result"
    }
   ],
   "source": [
    "truth_table = ascii.read('/project/shared/data/Twinkles_subset/truth/sprinkled_lens_230_J2000.txt')\n",
    "truth_table"
   ]
  },
  {
   "cell_type": "code",
   "execution_count": 49,
   "metadata": {},
   "outputs": [],
   "source": [
    "min_schema =  afwTable.SourceTable.makeMinimalSchema()\n",
    "min_schema.addField(\"r_mag\", type=np.float32, doc=\"r band mag\", units=\"mag\")\n",
    "truth_dm = afwTable.SourceCatalog(min_schema)\n",
    "\n",
    "# grab the keys to the schema\n",
    "# grab a hold of the keys for the record. We will use these to add data \n",
    "keys = min_schema.extract('*') #this returns a dictionary of all the fields\n",
    "\n",
    "# access the dictionary one field at a time, and grab each field's key\n",
    "id_key = keys['id'].key\n",
    "ra_key = keys['coord_ra'].key\n",
    "dec_key = keys['coord_dec'].key\n",
    "parent_key = keys['parent'].key\n",
    "r_mag_key = keys['r_mag'].key\n",
    "\n",
    "# loop over the astropy table version of the truth catalog\n",
    "# making new records in our DM catalog as we go along\n",
    "for record in truth_table:\n",
    "    newRec = truth_dm.addNew()\n",
    "    newRec.set(id_key, record['galid'])\n",
    "    newRec.set(r_mag_key, record['mag'])\n",
    "    newRec.set(ra_key, afwGeom.Angle(record['ra'], afwGeom.degrees))\n",
    "    newRec.set(dec_key, afwGeom.Angle(record['dec'], afwGeom.degrees))\n",
    "#    newRec.set(ra_key, afwGeom.Angle(record['ra']*(np.pi/180.)))\n",
    "#    newRec.set(dec_key, afwGeom.Angle(record['dec']*(np.pi/180.)))\n",
    "\n",
    "# this makes the table contiguous \n",
    "truth_dm = truth_dm.copy(deep=True)"
   ]
  },
  {
   "cell_type": "markdown",
   "metadata": {},
   "source": [
    "Now we grab a src catalog that overlaps with the truth catalog. The README.txt file in the directory with the truth catalog tells us we need to use visit 230:"
   ]
  },
  {
   "cell_type": "code",
   "execution_count": 50,
   "metadata": {},
   "outputs": [],
   "source": [
    "dataId = {'filter': 'r', 'raft': '2,2', 'sensor': '1,1', 'visit': 230}\n",
    "src_twinkles = butler.get('src',dataId)"
   ]
  },
  {
   "cell_type": "markdown",
   "metadata": {},
   "source": [
    "We will want to compare the magnitude of matched sources in both catalogs. As we saw from examining the `src` catalog schemas above, flux measurements from different photometry alogrithms are avaliable for every source, but the magnitudes are not explicitly given. We can get calibrated magnitudes from flux measurements by using the `calexp_calib` data product."
   ]
  },
  {
   "cell_type": "code",
   "execution_count": 51,
   "metadata": {},
   "outputs": [],
   "source": [
    "calexp_calib_twinkles = butler.get('calexp_calib', dataId)"
   ]
  },
  {
   "cell_type": "markdown",
   "metadata": {},
   "source": [
    "Here's how to use the `calexp_calib` object to return magnitudes along with errors, given flux and flux errors:"
   ]
  },
  {
   "cell_type": "code",
   "execution_count": 52,
   "metadata": {},
   "outputs": [],
   "source": [
    "src_tw_mags, src_tw_magErr = calexp_calib_twinkles.getMagnitude(src_twinkles['base_GaussianFlux_flux'],\n",
    "                                   src_twinkles['base_GaussianFlux_fluxSigma'])"
   ]
  },
  {
   "cell_type": "code",
   "execution_count": 53,
   "metadata": {},
   "outputs": [
    {
     "name": "stderr",
     "output_type": "stream",
     "text": [
      "/opt/lsst/software/stack/python/miniconda3-4.3.21/lib/python3.6/site-packages/ipykernel/__main__.py:5: RuntimeWarning: invalid value encountered in less\n",
      "/opt/lsst/software/stack/python/miniconda3-4.3.21/lib/python3.6/site-packages/ipykernel/__main__.py:6: RuntimeWarning: invalid value encountered in greater\n"
     ]
    }
   ],
   "source": [
    "# remove sources with bag magnitudes and prune catalog\n",
    "truth_mag_max = truth_dm['r_mag'].max()\n",
    "truth_mag_min = truth_dm['r_mag'].min()\n",
    "mask = np.isfinite(src_tw_mags)\n",
    "mask &= (src_tw_mags < truth_mag_max)\n",
    "mask &= (src_tw_mags > truth_mag_min)\n",
    "src_twinkles = src_twinkles.subset(mask)"
   ]
  },
  {
   "cell_type": "markdown",
   "metadata": {},
   "source": [
    "Before we do the matching, let's get a sense of the overlap of these catalogs by plotting them both in RA-DEC space:"
   ]
  },
  {
   "cell_type": "code",
   "execution_count": 54,
   "metadata": {},
   "outputs": [
    {
     "data": {
      "image/png": "[encoded data removed]",
      "text/plain": [
       "<Figure size 748.8x514.8 with 1 Axes>"
      ]
     },
     "metadata": {
      "needs_background": "light"
     },
     "output_type": "display_data"
    }
   ],
   "source": [
    "plt.scatter(src_twinkles['coord_ra'], src_twinkles['coord_dec'], s=5, label='DM')\n",
    "plt.scatter(truth_dm['coord_ra'],truth_dm['coord_dec'], s=20, label='Truth')\n",
    "plt.legend();"
   ]
  },
  {
   "cell_type": "markdown",
   "metadata": {},
   "source": [
    "We may expect to find about 30 matches or so. In order to match catalogs, we must provide a `MatchControl` instance. The `MatchControl` provides configurations for catalog matching. It has three 'switches' in the form of class attributes. They are defined as follows:\n",
    "\n",
    "1. `findOnlyClosest`: True by default. If False, all other sources within a search radius are also matched \n",
    "2. `includeMismatches`: False by default. If False, sources with no match are not reported in the match catalog. If True, sources with no match are included in the match catalog with Null as their match\n",
    "3. `symmetricMatch`: False by default. If False, the match between source a from catalog a with source b from catalog b is reported alone. If True, the symmetric match between source b and a is also reported."
   ]
  },
  {
   "cell_type": "code",
   "execution_count": 55,
   "metadata": {},
   "outputs": [],
   "source": [
    "# get a match control, we will keep the default configuration\n",
    "mc = afwTable.MatchControl()\n",
    "\n",
    "# match our two catalogs, setting the match threshold to be one arcsecond\n",
    "matches = afwTable.matchRaDec(truth_dm, src_twinkles, afwGeom.Angle(1,afwGeom.arcseconds), mc)"
   ]
  },
  {
   "cell_type": "markdown",
   "metadata": {},
   "source": [
    "`afwTable.matchRaDec` returns a list, where each element is an instance of a `Match` class. The `Match` class has three attributes, which gives us information about the matched sources. Let us unpack this a bit before moving on to some analysis"
   ]
  },
  {
   "cell_type": "code",
   "execution_count": 56,
   "metadata": {},
   "outputs": [
    {
     "data": {
      "text/plain": [
       "28"
      ]
     },
     "execution_count": 56,
     "metadata": {},
     "output_type": "execute_result"
    }
   ],
   "source": [
    "# how many sources were actually matched?\n",
    "len(matches)"
   ]
  },
  {
   "cell_type": "code",
   "execution_count": 57,
   "metadata": {},
   "outputs": [
    {
     "data": {
      "text/plain": [
       "<class 'lsst.afw.table.source.source.SourceRecord'>\n",
       "id: 3324600346\n",
       "coord_ra: 0.926751 rad\n",
       "coord_dec: -0.481134 rad\n",
       "parent: 0\n",
       "r_mag: 22.3777"
      ]
     },
     "execution_count": 57,
     "metadata": {},
     "output_type": "execute_result"
    }
   ],
   "source": [
    "# lets examine the first element in the matches list\n",
    "# we can grab the record corresponding to this source in the truth_dm catalog\n",
    "# using the first attribute\n",
    "matches[0].first"
   ]
  },
  {
   "cell_type": "code",
   "execution_count": 58,
   "metadata": {},
   "outputs": [
    {
     "data": {
      "text/plain": [
       "<class 'lsst.afw.table.source.source.SourceRecord'>\n",
       "id: 988882667474\n",
       "coord_ra: 0.92675 rad\n",
       "coord_dec: -0.481135 rad\n",
       "parent: 0\n",
       "calib_detected: 0\n",
       "calib_psfCandidate: 0\n",
       "calib_psfUsed: 0\n",
       "calib_psf_reserved: 0\n",
       "deblend_nChild: 0\n",
       "deblend_deblendedAsPsf: 0\n",
       "deblend_psfCenter_x: nan\n",
       "deblend_psfCenter_y: nan\n",
       "deblend_psfFlux: nan\n",
       "deblend_tooManyPeaks: 0\n",
       "deblend_parentTooBig: 0\n",
       "deblend_masked: 0\n",
       "deblend_skipped: 0\n",
       "deblend_rampedTemplate: 0\n",
       "deblend_patchedTemplate: 0\n",
       "deblend_hasStrayFlux: 0\n",
       "base_GaussianCentroid_x: 3926.67\n",
       "base_GaussianCentroid_y: 3947.9\n",
       "base_GaussianCentroid_flag: 0\n",
       "base_GaussianCentroid_flag_noPeak: 0\n",
       "base_GaussianCentroid_flag_resetToPeak: 0\n",
       "base_NaiveCentroid_x: 3926.04\n",
       "base_NaiveCentroid_y: 3947.06\n",
       "base_NaiveCentroid_flag: 0\n",
       "base_NaiveCentroid_flag_noCounts: 0\n",
       "base_NaiveCentroid_flag_edge: 0\n",
       "base_NaiveCentroid_flag_resetToPeak: 0\n",
       "base_SdssCentroid_x: 3926.68\n",
       "base_SdssCentroid_y: 3947.89\n",
       "base_SdssCentroid_xSigma: 0.303535\n",
       "base_SdssCentroid_ySigma: 0.349386\n",
       "base_SdssCentroid_flag: 0\n",
       "base_SdssCentroid_flag_edge: 0\n",
       "base_SdssCentroid_flag_noSecondDerivative: 0\n",
       "base_SdssCentroid_flag_almostNoSecondDerivative: 0\n",
       "base_SdssCentroid_flag_notAtMaximum: 0\n",
       "base_SdssCentroid_flag_resetToPeak: 0\n",
       "base_Blendedness_old: 0\n",
       "base_Blendedness_raw_flux: 0\n",
       "base_Blendedness_raw_flux_child: 11926.3\n",
       "base_Blendedness_raw_flux_parent: 11926.3\n",
       "base_Blendedness_abs_flux: 0\n",
       "base_Blendedness_abs_flux_child: 12048.3\n",
       "base_Blendedness_abs_flux_parent: 12048.3\n",
       "base_Blendedness_raw_child_xx: 10.3132\n",
       "base_Blendedness_raw_child_yy: 9.82833\n",
       "base_Blendedness_raw_child_xy: 1.47084\n",
       "base_Blendedness_raw_parent_xx: 10.3132\n",
       "base_Blendedness_raw_parent_yy: 9.82833\n",
       "base_Blendedness_raw_parent_xy: 1.47084\n",
       "base_Blendedness_abs_child_xx: 10.8958\n",
       "base_Blendedness_abs_child_yy: 10.273\n",
       "base_Blendedness_abs_child_xy: 1.59664\n",
       "base_Blendedness_abs_parent_xx: 10.8958\n",
       "base_Blendedness_abs_parent_yy: 10.273\n",
       "base_Blendedness_abs_parent_xy: 1.59664\n",
       "base_Blendedness_flag: 0\n",
       "base_Blendedness_flag_noCentroid: 0\n",
       "base_Blendedness_flag_noShape: 0\n",
       "base_SdssShape_xx: 10.3301\n",
       "base_SdssShape_yy: 9.94725\n",
       "base_SdssShape_xy: 1.4788\n",
       "base_SdssShape_xxSigma: 0.875681\n",
       "base_SdssShape_yySigma: 0.614048\n",
       "base_SdssShape_xySigma: 0.843225\n",
       "base_SdssShape_x: 3926.67\n",
       "base_SdssShape_y: 3947.89\n",
       "base_SdssShape_flux: 12061.9\n",
       "base_SdssShape_fluxSigma: 511.241\n",
       "base_SdssShape_psf_xx: 4.11812\n",
       "base_SdssShape_psf_yy: 4.69935\n",
       "base_SdssShape_psf_xy: -0.0747134\n",
       "base_SdssShape_flux_xx_Cov: -223.842\n",
       "base_SdssShape_flux_yy_Cov: -32.0439\n",
       "base_SdssShape_flux_xy_Cov: -215.546\n",
       "base_SdssShape_flag: 0\n",
       "base_SdssShape_flag_unweightedBad: 0\n",
       "base_SdssShape_flag_unweighted: 0\n",
       "base_SdssShape_flag_shift: 0\n",
       "base_SdssShape_flag_maxIter: 0\n",
       "base_SdssShape_flag_psf: 0\n",
       "ext_shapeHSM_HsmPsfMoments_x: -0.000309594\n",
       "ext_shapeHSM_HsmPsfMoments_y: -0.000440408\n",
       "ext_shapeHSM_HsmPsfMoments_xx: 4.12071\n",
       "ext_shapeHSM_HsmPsfMoments_yy: 4.7021\n",
       "ext_shapeHSM_HsmPsfMoments_xy: -0.0746185\n",
       "ext_shapeHSM_HsmPsfMoments_flag: 0\n",
       "ext_shapeHSM_HsmPsfMoments_flag_no_pixels: 0\n",
       "ext_shapeHSM_HsmPsfMoments_flag_not_contained: 0\n",
       "ext_shapeHSM_HsmPsfMoments_flag_parent_source: 0\n",
       "ext_shapeHSM_HsmShapeRegauss_e1: 0.0937412\n",
       "ext_shapeHSM_HsmShapeRegauss_e2: 0.296165\n",
       "ext_shapeHSM_HsmShapeRegauss_sigma: 0.0958597\n",
       "ext_shapeHSM_HsmShapeRegauss_resolution: 0.53286\n",
       "ext_shapeHSM_HsmShapeRegauss_flag: 0\n",
       "ext_shapeHSM_HsmShapeRegauss_flag_no_pixels: 0\n",
       "ext_shapeHSM_HsmShapeRegauss_flag_not_contained: 0\n",
       "ext_shapeHSM_HsmShapeRegauss_flag_parent_source: 0\n",
       "ext_shapeHSM_HsmShapeRegauss_flag_galsim: 0\n",
       "ext_shapeHSM_HsmSourceMoments_x: 3926.66\n",
       "ext_shapeHSM_HsmSourceMoments_y: 3947.9\n",
       "ext_shapeHSM_HsmSourceMoments_xx: 10.3631\n",
       "ext_shapeHSM_HsmSourceMoments_yy: 9.94736\n",
       "ext_shapeHSM_HsmSourceMoments_xy: 1.4957\n",
       "ext_shapeHSM_HsmSourceMoments_flag: 0\n",
       "ext_shapeHSM_HsmSourceMoments_flag_no_pixels: 0\n",
       "ext_shapeHSM_HsmSourceMoments_flag_not_contained: 0\n",
       "ext_shapeHSM_HsmSourceMoments_flag_parent_source: 0\n",
       "ext_shapeHSM_HsmSourceMomentsRound_x: 3926.69\n",
       "ext_shapeHSM_HsmSourceMomentsRound_y: 3947.9\n",
       "ext_shapeHSM_HsmSourceMomentsRound_xx: 10.3312\n",
       "ext_shapeHSM_HsmSourceMomentsRound_yy: 10.1512\n",
       "ext_shapeHSM_HsmSourceMomentsRound_xy: 0.719963\n",
       "ext_shapeHSM_HsmSourceMomentsRound_flag: 0\n",
       "ext_shapeHSM_HsmSourceMomentsRound_flag_no_pixels: 0\n",
       "ext_shapeHSM_HsmSourceMomentsRound_flag_not_contained: 0\n",
       "ext_shapeHSM_HsmSourceMomentsRound_flag_parent_source: 0\n",
       "ext_shapeHSM_HsmSourceMomentsRound_Flux: 12142.2\n",
       "base_CircularApertureFlux_3_0_flux: 4527.83\n",
       "base_CircularApertureFlux_3_0_fluxSigma: 163.136\n",
       "base_CircularApertureFlux_3_0_flag: 0\n",
       "base_CircularApertureFlux_3_0_flag_apertureTruncated: 0\n",
       "base_CircularApertureFlux_3_0_flag_sincCoeffsTruncated: 0\n",
       "base_CircularApertureFlux_4_5_flux: 7701.59\n",
       "base_CircularApertureFlux_4_5_fluxSigma: 240.778\n",
       "base_CircularApertureFlux_4_5_flag: 0\n",
       "base_CircularApertureFlux_4_5_flag_apertureTruncated: 0\n",
       "base_CircularApertureFlux_4_5_flag_sincCoeffsTruncated: 0\n",
       "base_CircularApertureFlux_6_0_flux: 10040.6\n",
       "base_CircularApertureFlux_6_0_fluxSigma: 317.022\n",
       "base_CircularApertureFlux_6_0_flag: 0\n",
       "base_CircularApertureFlux_6_0_flag_apertureTruncated: 0\n",
       "base_CircularApertureFlux_6_0_flag_sincCoeffsTruncated: 0\n",
       "base_CircularApertureFlux_9_0_flux: 11699.8\n",
       "base_CircularApertureFlux_9_0_fluxSigma: 466.629\n",
       "base_CircularApertureFlux_9_0_flag: 0\n",
       "base_CircularApertureFlux_9_0_flag_apertureTruncated: 0\n",
       "base_CircularApertureFlux_9_0_flag_sincCoeffsTruncated: 0\n",
       "base_CircularApertureFlux_12_0_flux: 13044.9\n",
       "base_CircularApertureFlux_12_0_fluxSigma: 617.595\n",
       "base_CircularApertureFlux_12_0_flag: 0\n",
       "base_CircularApertureFlux_12_0_flag_apertureTruncated: 0\n",
       "base_CircularApertureFlux_12_0_flag_sincCoeffsTruncated: 0\n",
       "base_CircularApertureFlux_17_0_flux: 14677.8\n",
       "base_CircularApertureFlux_17_0_fluxSigma: 875.659\n",
       "base_CircularApertureFlux_17_0_flag: 0\n",
       "base_CircularApertureFlux_17_0_flag_apertureTruncated: 0\n",
       "base_CircularApertureFlux_25_0_flux: 15405.8\n",
       "base_CircularApertureFlux_25_0_fluxSigma: 1280.14\n",
       "base_CircularApertureFlux_25_0_flag: 0\n",
       "base_CircularApertureFlux_25_0_flag_apertureTruncated: 0\n",
       "base_CircularApertureFlux_35_0_flux: 12979.4\n",
       "base_CircularApertureFlux_35_0_fluxSigma: 1787.49\n",
       "base_CircularApertureFlux_35_0_flag: 0\n",
       "base_CircularApertureFlux_35_0_flag_apertureTruncated: 0\n",
       "base_CircularApertureFlux_50_0_flux: 10663.2\n",
       "base_CircularApertureFlux_50_0_fluxSigma: 2552.25\n",
       "base_CircularApertureFlux_50_0_flag: 0\n",
       "base_CircularApertureFlux_50_0_flag_apertureTruncated: 0\n",
       "base_CircularApertureFlux_70_0_flux: 8744.43\n",
       "base_CircularApertureFlux_70_0_fluxSigma: 3570.21\n",
       "base_CircularApertureFlux_70_0_flag: 0\n",
       "base_CircularApertureFlux_70_0_flag_apertureTruncated: 0\n",
       "base_GaussianFlux_flux: 13390.2\n",
       "base_GaussianFlux_fluxSigma: 383.909\n",
       "base_GaussianFlux_flag: 0\n",
       "base_PixelFlags_flag: 0\n",
       "base_PixelFlags_flag_offimage: 0\n",
       "base_PixelFlags_flag_edge: 0\n",
       "base_PixelFlags_flag_interpolated: 0\n",
       "base_PixelFlags_flag_saturated: 0\n",
       "base_PixelFlags_flag_cr: 0\n",
       "base_PixelFlags_flag_bad: 0\n",
       "base_PixelFlags_flag_suspect: 0\n",
       "base_PixelFlags_flag_interpolatedCenter: 0\n",
       "base_PixelFlags_flag_saturatedCenter: 0\n",
       "base_PixelFlags_flag_crCenter: 0\n",
       "base_PixelFlags_flag_suspectCenter: 0\n",
       "base_PsfFlux_flux: 8156.01\n",
       "base_PsfFlux_fluxSigma: 258.532\n",
       "base_PsfFlux_flag: 0\n",
       "base_PsfFlux_flag_noGoodPixels: 0\n",
       "base_PsfFlux_flag_edge: 0\n",
       "base_Variance_flag: 0\n",
       "base_Variance_value: 831\n",
       "base_Variance_flag_emptyFootprint: 0\n",
       "ext_photometryKron_KronFlux_flux: 15270.8\n",
       "ext_photometryKron_KronFlux_fluxSigma: 871.875\n",
       "ext_photometryKron_KronFlux_radius: 6.51239\n",
       "ext_photometryKron_KronFlux_radius_for_radius: 19.0138\n",
       "ext_photometryKron_KronFlux_psf_radius: 2.62853\n",
       "ext_photometryKron_KronFlux_flag: 0\n",
       "ext_photometryKron_KronFlux_flag_edge: 0\n",
       "ext_photometryKron_KronFlux_flag_bad_shape_no_psf: 0\n",
       "ext_photometryKron_KronFlux_flag_no_minimum_radius: 0\n",
       "ext_photometryKron_KronFlux_flag_no_fallback_radius: 0\n",
       "ext_photometryKron_KronFlux_flag_bad_radius: 0\n",
       "ext_photometryKron_KronFlux_flag_used_minimum_radius: 0\n",
       "ext_photometryKron_KronFlux_flag_used_psf_radius: 0\n",
       "ext_photometryKron_KronFlux_flag_small_radius: 0\n",
       "ext_photometryKron_KronFlux_flag_bad_shape: 0\n",
       "base_PsfFlux_apCorr: 0.975203\n",
       "base_PsfFlux_apCorrSigma: 0\n",
       "base_PsfFlux_flag_apCorr: 0\n",
       "ext_photometryKron_KronFlux_apCorr: 1.03857\n",
       "ext_photometryKron_KronFlux_apCorrSigma: 0\n",
       "ext_photometryKron_KronFlux_flag_apCorr: 0\n",
       "base_GaussianFlux_apCorr: 1.10936\n",
       "base_GaussianFlux_apCorrSigma: 0\n",
       "base_GaussianFlux_flag_apCorr: 0\n",
       "base_ClassificationExtendedness_value: 1\n",
       "base_ClassificationExtendedness_flag: 0\n",
       "base_FootprintArea_value: 390\n",
       "calib_astrometryUsed: 0\n",
       "calib_photometry_used: 0\n",
       "calib_photometry_reserved: 0"
      ]
     },
     "execution_count": 58,
     "metadata": {},
     "output_type": "execute_result"
    }
   ],
   "source": [
    "# likewise the second attribute gives us the record from the src_twinkles catalog\n",
    "\n",
    "matches[0].second"
   ]
  },
  {
   "cell_type": "code",
   "execution_count": 59,
   "metadata": {},
   "outputs": [
    {
     "data": {
      "text/plain": [
       "6.261576011526087e-07"
      ]
     },
     "execution_count": 59,
     "metadata": {},
     "output_type": "execute_result"
    }
   ],
   "source": [
    "#finally the angular seperation is given in radians in the distance attribute\n",
    "matches[0].distance"
   ]
  },
  {
   "cell_type": "markdown",
   "metadata": {},
   "source": [
    "Now lets put this all together. We make a plot showing the angular separation between matched sources as a function of the truth catalog's magnitude:"
   ]
  },
  {
   "cell_type": "code",
   "execution_count": 60,
   "metadata": {},
   "outputs": [
    {
     "data": {
      "image/png": "[encoded data removed]",
      "text/plain": [
       "<Figure size 748.8x514.8 with 1 Axes>"
      ]
     },
     "metadata": {
      "needs_background": "light"
     },
     "output_type": "display_data"
    }
   ],
   "source": [
    "mag_truth = [m.first['r_mag'] for m in matches]\n",
    "dist_resid = [m.distance for m in matches]\n",
    "dist_resid = np.array(dist_resid)* 360*60*60/ (2*np.pi) #convert rad to arcseconds\n",
    "\n",
    "plt.scatter(mag_truth, dist_resid)\n",
    "plt.ylabel('angular sep arcseconds');\n",
    "plt.xlabel('r truth');"
   ]
  },
  {
   "cell_type": "markdown",
   "metadata": {},
   "source": [
    "In the previous example we only kept the nearest neighbor matches. Now we will show how you can collect *all* matches within the search radius, by overwriting the `findOnlyClosest` attribute of the match control."
   ]
  },
  {
   "cell_type": "code",
   "execution_count": 61,
   "metadata": {},
   "outputs": [],
   "source": [
    "#get a match control, we will keep the default configuration\n",
    "mc = afwTable.MatchControl()\n",
    "mc.findOnlyClosest = False\n",
    "#match our two catalogs\n",
    "matches_all = afwTable.matchRaDec(truth_dm, src_twinkles, afwGeom.Angle(1,afwGeom.arcseconds), mc)"
   ]
  },
  {
   "cell_type": "markdown",
   "metadata": {},
   "source": [
    "Let's see if we get a few more matches! "
   ]
  },
  {
   "cell_type": "code",
   "execution_count": 62,
   "metadata": {},
   "outputs": [
    {
     "data": {
      "text/plain": [
       "37"
      ]
     },
     "execution_count": 62,
     "metadata": {},
     "output_type": "execute_result"
    }
   ],
   "source": [
    "len(matches_all)"
   ]
  },
  {
   "cell_type": "markdown",
   "metadata": {},
   "source": [
    "To try to understand where these extra matches come from, we print out the id's from the truth catalog and their matched sources in the DM catalog, along with their angular separation and magnitude residual. "
   ]
  },
  {
   "cell_type": "code",
   "execution_count": 63,
   "metadata": {},
   "outputs": [
    {
     "name": "stdout",
     "output_type": "stream",
     "text": [
      "id 1: 3324600346 id 2: 988882667474 distance 0.12915427628188947 mag 0.6733784276304746\n",
      "id 1: 1272978458 id 2: 988882665975 distance 0.3728702971014753 mag -0.060554111068931604\n",
      "id 1: 2948839450 id 2: 988882666157 distance 0.675168198865515 mag -0.02606811392209707\n",
      "id 1: 2948839450 id 2: 988882667700 distance 0.7165734142062119 mag -0.16604280892006074\n",
      "id 1: 3565874202 id 2: 988882666741 distance 0.7059504136528532 mag 1.143961944582216\n",
      "id 1: 17811740698 id 2: 988882666956 distance 0.384732174953608 mag 1.6461228364037979\n",
      "id 1: 1321480218 id 2: 988882667905 distance 0.8274010275769531 mag 1.3906952495078109\n",
      "id 1: 1321480218 id 2: 988882666751 distance 0.8267975543517133 mag 1.3956991928977942\n",
      "id 1: 17168862234 id 2: 988882667428 distance 0.0732419690101887 mag 2.673311797702251\n",
      "id 1: 6400305178 id 2: 988882666171 distance 0.38655273189799183 mag 0.3193040062394701\n",
      "id 1: 4007873562 id 2: 988882666108 distance 0.3040709882490942 mag 1.1586500389996601\n",
      "id 1: 4413205530 id 2: 988882667042 distance 0.6451144163564603 mag -0.14835284114358416\n",
      "id 1: 732322842 id 2: 988882667006 distance 0.23710257474690552 mag -0.12012816646997848\n",
      "id 1: 732322842 id 2: 988882667948 distance 0.23632041921308747 mag -0.1205618506899171\n",
      "id 1: 446211098 id 2: 988882665806 distance 0.39056841557679495 mag 1.5605225294417409\n",
      "id 1: 5200988186 id 2: 988882667102 distance 0.16136801248003385 mag -0.3695173794219535\n",
      "id 1: 5200988186 id 2: 988882667960 distance 0.16136838614895443 mag -0.369517379430512\n",
      "id 1: 3293258778 id 2: 988882665846 distance 0.8721685705855499 mag 2.3200725610766035\n",
      "id 1: 5877047322 id 2: 988882665637 distance 0.4798329740739198 mag 0.9235796689416524\n",
      "id 1: 10357601306 id 2: 988882667711 distance 0.15475816911457924 mag -0.6588115675192228\n",
      "id 1: 10357601306 id 2: 988882666240 distance 0.15476460508454667 mag -0.6588114538108236\n",
      "id 1: 17811828762 id 2: 988882667061 distance 0.290857346891924 mag 5.856852300487837\n",
      "id 1: 17829176346 id 2: 988882667619 distance 0.2233446823237624 mag -0.4347037070003701\n",
      "id 1: 17829176346 id 2: 988882665875 distance 0.22347123243330796 mag -0.4346847300025658\n",
      "id 1: 2175853594 id 2: 988882667592 distance 0.3145980246442068 mag -0.8750712939323009\n",
      "id 1: 2835515418 id 2: 988882665845 distance 0.8132155293351478 mag -0.10786821914092215\n",
      "id 1: 2835515418 id 2: 988882667614 distance 0.869514848666066 mag -1.2285546594255194\n",
      "id 1: 2965141530 id 2: 988882667709 distance 0.10002449682736451 mag -1.5001907128302534\n",
      "id 1: 4459341850 id 2: 988882667951 distance 0.8510314831325445 mag -0.5830552749377311\n",
      "id 1: 4459341850 id 2: 988882667008 distance 0.17196284686268445 mag 0.012930999940230947\n",
      "id 1: 12453613594 id 2: 988882666381 distance 0.11207613587015824 mag -0.07320115644732539\n",
      "id 1: 279852058 id 2: 988882667634 distance 0.1571098610746062 mag -0.3084721056101962\n",
      "id 1: 279852058 id 2: 988882665917 distance 0.15712272456292592 mag -0.30847215544412876\n",
      "id 1: 16094503962 id 2: 988882666825 distance 0.29146726176765586 mag 1.2341343228019284\n",
      "id 1: 1139907610 id 2: 988882667827 distance 0.4280968566425214 mag 1.2520957502359806\n",
      "id 1: 2730710042 id 2: 988882666625 distance 0.540249548084366 mag 2.48383530094387\n",
      "id 1: 3599055898 id 2: 988882665955 distance 0.6541456315609929 mag 1.548459201481208\n"
     ]
    }
   ],
   "source": [
    "for m in matches_all:\n",
    "    obj_id_1 = m.first.getId()\n",
    "    obj_id_2 = m.second.getId()\n",
    "    dist = m.distance* 360*60*60/ (2*np.pi)\n",
    "    mag_resid = m.first['r_mag'] - calexp_calib_twinkles.getMagnitude(m.second.getModelFlux())\n",
    "    print('id 1: {} id 2: {} distance {} mag {}'.format(obj_id_1, obj_id_2, dist, mag_resid))"
   ]
  },
  {
   "cell_type": "markdown",
   "metadata": {},
   "source": [
    "We can see that some of the matches have very similar magnitude residuals. Look at the 6th and 7th to last row, for example:\n",
    "```\n",
    "id 1: 279852058 id 2: 988882667634 distance 0.1571098610746062 mag -0.3084721056101962\n",
    "\n",
    "id 1: 279852058 id 2: 988882665917 distance 0.15712272456292592 mag -0.30847215544412876\n",
    "```"
   ]
  },
  {
   "cell_type": "markdown",
   "metadata": {},
   "source": [
    "As it happens, the extra matches are due to deblending."
   ]
  },
  {
   "cell_type": "code",
   "execution_count": 64,
   "metadata": {},
   "outputs": [
    {
     "data": {
      "text/plain": [
       "<class 'lsst.afw.table.source.source.SourceCatalog'>\n",
       "     id           coord_ra      ... calib_photometry_reserved\n",
       "                    rad         ...                          \n",
       "------------ ------------------ ... -------------------------\n",
       "988882667634 0.9242979811541958 ...                     False\n",
       "988882667635 0.9242661130685366 ...                     False"
      ]
     },
     "execution_count": 64,
     "metadata": {},
     "output_type": "execute_result"
    }
   ],
   "source": [
    "src_twinkles.getChildren(988882665917)"
   ]
  },
  {
   "cell_type": "markdown",
   "metadata": {},
   "source": [
    "If you are only interested in the ids and the angular separation, you can pack the matches into a table."
   ]
  },
  {
   "cell_type": "code",
   "execution_count": 65,
   "metadata": {},
   "outputs": [
    {
     "data": {
      "text/plain": [
       "<class 'lsst.afw.table.base.base.BaseCatalog'>\n",
       "   first       second           distance       \n",
       "----------- ------------ ----------------------\n",
       " 3324600346 988882667474  6.261576011526087e-07\n",
       " 1272978458 988882665975 1.8077262131417257e-06\n",
       " 2948839450 988882666157  3.273307798600856e-06\n",
       " 3565874202 988882666741 3.4225441872383933e-06\n",
       "17811740698 988882666956 1.8652342198053673e-06\n",
       " 1321480218 988882666751 4.0084276585761575e-06\n",
       "17168862234 988882667428  3.550870860754014e-07\n",
       " 6400305178 988882666171 1.8740605289441298e-06\n",
       " 4007873562 988882666108 1.4741777513165782e-06\n",
       " 4413205530 988882667042 3.1276029493060533e-06\n",
       "        ...          ...                    ...\n",
       "17829176346 988882667619 1.0828055759362317e-06\n",
       " 2175853594 988882667592 1.5252142639754639e-06\n",
       " 2835515418 988882665845  3.942580143124128e-06\n",
       " 2965141530 988882667709   4.84932445080037e-07\n",
       " 4459341850 988882667008  8.336994080157347e-07\n",
       "12453613594 988882666381  5.433604399574393e-07\n",
       "  279852058 988882667634  7.616901008618764e-07\n",
       "16094503962 988882666825 1.4130731610049397e-06\n",
       " 1139907610 988882667827 2.0754721294028212e-06\n",
       " 2730710042 988882666625  2.619203721245447e-06\n",
       " 3599055898 988882665955 3.1713875161880725e-06\n",
       "Length = 28 rows"
      ]
     },
     "execution_count": 65,
     "metadata": {},
     "output_type": "execute_result"
    }
   ],
   "source": [
    "matches_table = afwTable.packMatches(matches)\n",
    "matches_table"
   ]
  },
  {
   "cell_type": "markdown",
   "metadata": {},
   "source": [
    "You can unpack the matches too:"
   ]
  },
  {
   "cell_type": "code",
   "execution_count": 66,
   "metadata": {},
   "outputs": [],
   "source": [
    "unpack_matches = afwTable.unpackMatches(matches_table, truth_dm, src_twinkles)"
   ]
  },
  {
   "cell_type": "markdown",
   "metadata": {},
   "source": [
    "Hopefully this gives you some idea of the power of `afwTable`s in matching catalogs together, and understanding the deblending that has been carried out."
   ]
  },
  {
   "cell_type": "markdown",
   "metadata": {},
   "source": [
    "## Summary\n",
    "\n",
    "In this tutorial we introduced afw tables. We introduced schemas, how to navigate them, add to them, and how to create tables based off of them. We covered data access to catalogs produced by DM using the data butler. We went over a some typical use cases for source catalogs, like catalog matching, and understanding bread and butter measurement algorithms."
   ]
  }
 ],
 "metadata": {
  "celltoolbar": "Slideshow",
  "kernelspec": {
   "display_name": "LSST",
   "language": "python",
   "name": "lsst"
  },
  "language_info": {
   "codemirror_mode": {
    "name": "ipython",
    "version": 3
   },
   "file_extension": ".py",
   "mimetype": "text/x-python",
   "name": "python",
   "nbconvert_exporter": "python",
   "pygments_lexer": "ipython3",
   "version": "3.6.2"
  },
  "livereveal": {
   "scroll": true,
   "start_slideshow_at": "selected"
  }
 },
 "nbformat": 4,
 "nbformat_minor": 2
}
