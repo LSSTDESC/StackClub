{
 "cells": [
  {
   "cell_type": "markdown",
   "metadata": {},
   "source": [
    "# Data Access with the Gen-2 Butler\n",
    "\n",
    "<br>Owner: **Daniel Perrefort** ([@djperrefort](https://github.com/LSSTScienceCollaborations/StackClub/issues/new?body=@djperrefort))\n",
    "<br>Last Verified to Run: **2020-07-17**\n",
    "<br>Verified Stack Release: **v20.0.0**\n",
    "\n",
    "## Core Concepts\n",
    "\n",
    "This notebook provides a hands-on overview of how to interact with the Gen-2 `Butler` (it should be updated for Gen-3, once available). The `Butler` provides a way to access information using a uniform interface without needing to keep track of how the information is internally stored or organized. Data access with `Butler` has three levels you need to be aware of:\n",
    "\n",
    "1. Each instantiated `Butler` object provides access to a collection of datasets called a **repository**. Each repository is defined by Butler using the local file directory where the data is stored.\n",
    "2. Each data set in a **repository** is assigned a unique name called a **type**. These types are strings that describe the data set and should not be confused with an \"object type\" as defined by Python.\n",
    "3. Individual entries in a data set are identified using a unique **data identifier**, which is a dictionary who's allowed keys and values depend on the data set you are working with.\n",
    "\n",
    "## Learning Objectives:\n",
    "\n",
    "This notebook demonstrates how to use the Gen-2 `Butler` object from the DM stack to access and manipulate data. After finishing this notebook, users will know how to:\n",
    "\n",
    "1. Load and access a data repository using `Butler`\n",
    "2. Select subsets of data and convert data into familiar data structures\n",
    "3. Use `Butler` to access coordinate information and cutout postage stamps\n",
    "4. Use `Butler` to access a skymap"
   ]
  },
  {
   "cell_type": "code",
   "execution_count": 1,
   "metadata": {},
   "outputs": [],
   "source": [
    "import matplotlib.pyplot as plt\n",
    "import numpy as np\n",
    "import matplotlib.pyplot as plt\n",
    "\n",
    "import lsst.afw.display as afwDisplay\n",
    "from lsst.daf.persistence import Butler\n",
    "import lsst.geom\n",
    "from lsst.geom import SpherePoint, Angle\n",
    "\n",
    "%matplotlib inline"
   ]
  },
  {
   "cell_type": "markdown",
   "metadata": {},
   "source": [
    "## Loading Data\n",
    "\n",
    "To start we instantiate a `Butler` object by providing it with the directory of the **repository** we want to access. Next, we load a **type** of dataset and select data from a single **data identifier**. For this demonstration we consider the `deepCoadd_ref` dataset, which contains tables of information concerning coadded images used in the differencing image pipeline. The id values for this data set include two required values: `tract` and `patch` which denote sections of the sky.\n"
   ]
  },
  {
   "cell_type": "code",
   "execution_count": 2,
   "metadata": {},
   "outputs": [],
   "source": [
    "#at CC\n",
    "repo = '/sps/lssttest/dataproducts/desc/DC2/Run2.2i/v19.0.0-v1/rerun/run2.2i-coadd-wfd-dr6-v1/'\n",
    "#at NERSC\n",
    "#repo = ''/global/cfs/cdirs/lsst/production/DC2_ImSim/Run2.2i/desc_dm_drp/v19.0.0-v1/rerun/run2.2i-coadd-wfd-dr6-v1''\n",
    "butler = Butler(repo)"
   ]
  },
  {
   "cell_type": "code",
   "execution_count": 21,
   "metadata": {},
   "outputs": [
    {
     "name": "stdout",
     "output_type": "stream",
     "text": [
      "Data exists for ID: True\n"
     ]
    },
    {
     "data": {
      "text/plain": [
       "<class 'lsst.afw.table.SourceCatalog'>\n",
       "        id             coord_ra      ... merge_measurement_g merge_measurement_u\n",
       "                         rad         ...                                        \n",
       "----------------- ------------------ ... ------------------- -------------------\n",
       "17698168657412097 0.9400645182194894 ...               False               False\n",
       "17698168657412098 0.9399546695593748 ...               False               False\n",
       "17698168657412099 0.9398896834055974 ...               False               False\n",
       "17698168657412100 0.9395824759022172 ...               False               False\n",
       "17698168657412101 0.9394808587442266 ...               False               False\n",
       "17698168657412102 0.9393426101343095 ...               False               False\n",
       "17698168657412103  0.938885348533501 ...               False               False\n",
       "17698168657412104 0.9388038216542227 ...               False               False\n",
       "17698168657412105 0.9386454911706492 ...               False               False\n",
       "17698168657412106 0.9384623471918163 ...               False               False\n",
       "              ...                ... ...                 ...                 ...\n",
       "17698168657458411 0.9382054570077536 ...                True               False\n",
       "17698168657458412 0.9382030327877638 ...                True               False\n",
       "17698168657458413 0.9385641916295163 ...                True               False\n",
       "17698168657458414 0.9385538532405941 ...                True               False\n",
       "17698168657458415 0.9401407370150339 ...                True               False\n",
       "17698168657458416 0.9401502450087766 ...                True               False\n",
       "17698168657458417  0.937686515142262 ...                True               False\n",
       "17698168657458418 0.9377024503728819 ...                True               False\n",
       "17698168657458419 0.9371069372421515 ...                True               False\n",
       "17698168657458420 0.9371127979157292 ...               False               False\n",
       "Length = 32143 rows"
      ]
     },
     "execution_count": 21,
     "metadata": {},
     "output_type": "execute_result"
    }
   ],
   "source": [
    "# We choose an \"arbitrary\" tract and patch. \n",
    "# Want to figure out how we found this tract and patch? Check out the notebook on Exploring_A_Data_Repo.ipynb\n",
    "# should contain a cluster at z=0.66 M=1.5e15\n",
    "tract_id=4024\n",
    "patch_id='3,4'\n",
    "data_id = {'tract': tract_id, 'patch': patch_id}\n",
    "dataset_type = 'deepCoadd_ref'\n",
    "\n",
    "# We can check that the data exists before we try to read it\n",
    "data_exists = butler.datasetExists(datasetType=dataset_type, dataId=data_id)\n",
    "print('Data exists for ID:', data_exists)\n",
    "\n",
    "data_entry = butler.get(dataset_type, dataId=data_id)\n",
    "data_entry\n"
   ]
  },
  {
   "cell_type": "markdown",
   "metadata": {},
   "source": [
    "The data table returned above is formatted as a `SourceCatalog` object, which is essentially a collection of `numpy` arrays. We can see this when we index a particular column. "
   ]
  },
  {
   "cell_type": "code",
   "execution_count": 22,
   "metadata": {},
   "outputs": [
    {
     "name": "stdout",
     "output_type": "stream",
     "text": [
      "<class 'numpy.ndarray'>\n"
     ]
    }
   ],
   "source": [
    "print(type(data_entry['merge_measurement_i']))\n"
   ]
  },
  {
   "cell_type": "markdown",
   "metadata": {},
   "source": [
    "`SourceCatalog` objects have their own set of methods for table manipulations (sorting, appending rows, etc.). However, we can also work with the data in a more familiar format, such as an astropy `Table` or a pandas `DataFrame`. "
   ]
  },
  {
   "cell_type": "code",
   "execution_count": 23,
   "metadata": {},
   "outputs": [
    {
     "data": {
      "text/html": [
       "<div>\n",
       "<style scoped>\n",
       "    .dataframe tbody tr th:only-of-type {\n",
       "        vertical-align: middle;\n",
       "    }\n",
       "\n",
       "    .dataframe tbody tr th {\n",
       "        vertical-align: top;\n",
       "    }\n",
       "\n",
       "    .dataframe thead th {\n",
       "        text-align: right;\n",
       "    }\n",
       "</style>\n",
       "<table border=\"1\" class=\"dataframe\">\n",
       "  <thead>\n",
       "    <tr style=\"text-align: right;\">\n",
       "      <th></th>\n",
       "      <th>id</th>\n",
       "      <th>coord_ra</th>\n",
       "      <th>coord_dec</th>\n",
       "      <th>parent</th>\n",
       "      <th>merge_footprint_i</th>\n",
       "      <th>merge_footprint_r</th>\n",
       "      <th>merge_footprint_z</th>\n",
       "      <th>merge_footprint_y</th>\n",
       "      <th>merge_footprint_g</th>\n",
       "      <th>merge_footprint_u</th>\n",
       "      <th>...</th>\n",
       "      <th>slot_ModelFlux_initial_flag_apCorr</th>\n",
       "      <th>base_ClassificationExtendedness_value</th>\n",
       "      <th>base_ClassificationExtendedness_flag</th>\n",
       "      <th>base_FootprintArea_value</th>\n",
       "      <th>merge_measurement_i</th>\n",
       "      <th>merge_measurement_r</th>\n",
       "      <th>merge_measurement_z</th>\n",
       "      <th>merge_measurement_y</th>\n",
       "      <th>merge_measurement_g</th>\n",
       "      <th>merge_measurement_u</th>\n",
       "    </tr>\n",
       "  </thead>\n",
       "  <tbody>\n",
       "    <tr>\n",
       "      <th>0</th>\n",
       "      <td>17698168657412097</td>\n",
       "      <td>0.940065</td>\n",
       "      <td>-0.608270</td>\n",
       "      <td>0</td>\n",
       "      <td>True</td>\n",
       "      <td>True</td>\n",
       "      <td>True</td>\n",
       "      <td>True</td>\n",
       "      <td>True</td>\n",
       "      <td>True</td>\n",
       "      <td>...</td>\n",
       "      <td>False</td>\n",
       "      <td>NaN</td>\n",
       "      <td>True</td>\n",
       "      <td>2955</td>\n",
       "      <td>True</td>\n",
       "      <td>False</td>\n",
       "      <td>False</td>\n",
       "      <td>False</td>\n",
       "      <td>False</td>\n",
       "      <td>False</td>\n",
       "    </tr>\n",
       "    <tr>\n",
       "      <th>1</th>\n",
       "      <td>17698168657412098</td>\n",
       "      <td>0.939955</td>\n",
       "      <td>-0.608294</td>\n",
       "      <td>0</td>\n",
       "      <td>True</td>\n",
       "      <td>True</td>\n",
       "      <td>False</td>\n",
       "      <td>False</td>\n",
       "      <td>False</td>\n",
       "      <td>False</td>\n",
       "      <td>...</td>\n",
       "      <td>False</td>\n",
       "      <td>NaN</td>\n",
       "      <td>True</td>\n",
       "      <td>100</td>\n",
       "      <td>True</td>\n",
       "      <td>False</td>\n",
       "      <td>False</td>\n",
       "      <td>False</td>\n",
       "      <td>False</td>\n",
       "      <td>False</td>\n",
       "    </tr>\n",
       "    <tr>\n",
       "      <th>2</th>\n",
       "      <td>17698168657412099</td>\n",
       "      <td>0.939890</td>\n",
       "      <td>-0.608294</td>\n",
       "      <td>0</td>\n",
       "      <td>True</td>\n",
       "      <td>True</td>\n",
       "      <td>True</td>\n",
       "      <td>False</td>\n",
       "      <td>True</td>\n",
       "      <td>False</td>\n",
       "      <td>...</td>\n",
       "      <td>False</td>\n",
       "      <td>NaN</td>\n",
       "      <td>True</td>\n",
       "      <td>179</td>\n",
       "      <td>True</td>\n",
       "      <td>False</td>\n",
       "      <td>False</td>\n",
       "      <td>False</td>\n",
       "      <td>False</td>\n",
       "      <td>False</td>\n",
       "    </tr>\n",
       "    <tr>\n",
       "      <th>3</th>\n",
       "      <td>17698168657412100</td>\n",
       "      <td>0.939582</td>\n",
       "      <td>-0.608294</td>\n",
       "      <td>0</td>\n",
       "      <td>True</td>\n",
       "      <td>True</td>\n",
       "      <td>True</td>\n",
       "      <td>True</td>\n",
       "      <td>True</td>\n",
       "      <td>True</td>\n",
       "      <td>...</td>\n",
       "      <td>False</td>\n",
       "      <td>NaN</td>\n",
       "      <td>True</td>\n",
       "      <td>698</td>\n",
       "      <td>True</td>\n",
       "      <td>False</td>\n",
       "      <td>False</td>\n",
       "      <td>False</td>\n",
       "      <td>False</td>\n",
       "      <td>False</td>\n",
       "    </tr>\n",
       "    <tr>\n",
       "      <th>4</th>\n",
       "      <td>17698168657412101</td>\n",
       "      <td>0.939481</td>\n",
       "      <td>-0.608292</td>\n",
       "      <td>0</td>\n",
       "      <td>True</td>\n",
       "      <td>True</td>\n",
       "      <td>True</td>\n",
       "      <td>True</td>\n",
       "      <td>True</td>\n",
       "      <td>True</td>\n",
       "      <td>...</td>\n",
       "      <td>False</td>\n",
       "      <td>NaN</td>\n",
       "      <td>True</td>\n",
       "      <td>486</td>\n",
       "      <td>True</td>\n",
       "      <td>False</td>\n",
       "      <td>False</td>\n",
       "      <td>False</td>\n",
       "      <td>False</td>\n",
       "      <td>False</td>\n",
       "    </tr>\n",
       "  </tbody>\n",
       "</table>\n",
       "<p>5 rows × 787 columns</p>\n",
       "</div>"
      ],
      "text/plain": [
       "                  id  coord_ra  coord_dec  parent  merge_footprint_i  \\\n",
       "0  17698168657412097  0.940065  -0.608270       0               True   \n",
       "1  17698168657412098  0.939955  -0.608294       0               True   \n",
       "2  17698168657412099  0.939890  -0.608294       0               True   \n",
       "3  17698168657412100  0.939582  -0.608294       0               True   \n",
       "4  17698168657412101  0.939481  -0.608292       0               True   \n",
       "\n",
       "   merge_footprint_r  merge_footprint_z  merge_footprint_y  merge_footprint_g  \\\n",
       "0               True               True               True               True   \n",
       "1               True              False              False              False   \n",
       "2               True               True              False               True   \n",
       "3               True               True               True               True   \n",
       "4               True               True               True               True   \n",
       "\n",
       "   merge_footprint_u  ...  slot_ModelFlux_initial_flag_apCorr  \\\n",
       "0               True  ...                               False   \n",
       "1              False  ...                               False   \n",
       "2              False  ...                               False   \n",
       "3               True  ...                               False   \n",
       "4               True  ...                               False   \n",
       "\n",
       "   base_ClassificationExtendedness_value  \\\n",
       "0                                    NaN   \n",
       "1                                    NaN   \n",
       "2                                    NaN   \n",
       "3                                    NaN   \n",
       "4                                    NaN   \n",
       "\n",
       "   base_ClassificationExtendedness_flag  base_FootprintArea_value  \\\n",
       "0                                  True                      2955   \n",
       "1                                  True                       100   \n",
       "2                                  True                       179   \n",
       "3                                  True                       698   \n",
       "4                                  True                       486   \n",
       "\n",
       "   merge_measurement_i  merge_measurement_r  merge_measurement_z  \\\n",
       "0                 True                False                False   \n",
       "1                 True                False                False   \n",
       "2                 True                False                False   \n",
       "3                 True                False                False   \n",
       "4                 True                False                False   \n",
       "\n",
       "   merge_measurement_y  merge_measurement_g  merge_measurement_u  \n",
       "0                False                False                False  \n",
       "1                False                False                False  \n",
       "2                False                False                False  \n",
       "3                False                False                False  \n",
       "4                False                False                False  \n",
       "\n",
       "[5 rows x 787 columns]"
      ]
     },
     "execution_count": 23,
     "metadata": {},
     "output_type": "execute_result"
    }
   ],
   "source": [
    "data_frame = data_entry.asAstropy().to_pandas()\n",
    "data_frame.head()\n"
   ]
  },
  {
   "cell_type": "markdown",
   "metadata": {},
   "source": [
    "It is important to note that `Butler` objects do not always return tabular data. We will see an example of this later when we load and parse image data."
   ]
  },
  {
   "cell_type": "markdown",
   "metadata": {},
   "source": [
    "## Selecting Subsets of Data\n",
    "\n",
    "In practice, you may not know the format of the data identifier for a given data set. In this case, the `getKeys()` method can be used to determine the key values expected in a **data identifier**. "
   ]
  },
  {
   "cell_type": "code",
   "execution_count": 24,
   "metadata": {},
   "outputs": [
    {
     "name": "stdout",
     "output_type": "stream",
     "text": [
      "Expected data id format: {'tract': <class 'int'>, 'patch': <class 'str'>}\n"
     ]
    }
   ],
   "source": [
    "data_id_format = butler.getKeys(dataset_type)\n",
    "print('Expected data id format:', data_id_format)\n"
   ]
  },
  {
   "cell_type": "markdown",
   "metadata": {},
   "source": [
    "It is important to note that if you specify a key that is not part of the data **type**, the `Butler` will silently ignore it. This can be misleading. For example, in the previous example we read in a table that has a column of booleans named `merge_footprint_i`. If you specify `merge_footprint_i: True` in the dataID and rerun the example, `Butler` will ignore the extra key silently. As a result, you might expect the returned table to only include values where `merge_footprint_i` is `True`, but that isn't what happens. \n",
    "\n",
    "Here is an example of the correct way to select data from the returned table:\n"
   ]
  },
  {
   "cell_type": "code",
   "execution_count": 27,
   "metadata": {},
   "outputs": [
    {
     "name": "stdout",
     "output_type": "stream",
     "text": [
      "True\n"
     ]
    }
   ],
   "source": [
    "# An example of what not to do!!\n",
    "#\n",
    "# new_data_id = {'tract': 0, 'patch': '1,1', 'merge_footprint_i': True}\n",
    "# merged_i_data = butler.get(dataset_type, dataId=new_data_id)\n",
    "# assert merged_i_data['merge_measurement_i'].all()\n",
    "\n",
    "# Do this instead...\n",
    "new_data_id = {'tract': tract_id, 'patch': patch_id}\n",
    "merged_i_data = butler.get(dataset_type, dataId=new_data_id)\n",
    "merged_i_data = merged_i_data[merged_i_data['merge_measurement_i']].copy(True)\n",
    "\n",
    "# Check that the returned table does in fact have only entries where\n",
    "# merge_footprint_i is True\n",
    "print(merged_i_data['merge_measurement_i'].all())\n"
   ]
  },
  {
   "cell_type": "markdown",
   "metadata": {},
   "source": [
    "**Important:**  Note the use of `copy` above which is required to create an array that is contiguous in memory (yay!)\n",
    "\n",
    "You can also select all complete dataIds for a dataset type that match a partial (or empty) dataId. For example, the below cell iterates over all possible ids and checks if the corresponding file exists.\n"
   ]
  },
  {
   "cell_type": "code",
   "execution_count": 28,
   "metadata": {},
   "outputs": [
    {
     "name": "stdout",
     "output_type": "stream",
     "text": [
      "Available Ids:\n",
      " [DataId(initialdata={'tract': 4024, 'patch': '3,4'}, tag=set())]\n"
     ]
    }
   ],
   "source": [
    "subset = butler.subset(dataset_type, dataId=data_id)\n",
    "id_list = [dr.dataId for dr in subset if dr.datasetExists()]\n",
    "print(f'Available Ids:\\n {id_list}')\n"
   ]
  },
  {
   "cell_type": "markdown",
   "metadata": {},
   "source": [
    "## Creating Postage Stamps\n",
    "\n",
    "When dealing with image data, we can use `Butler` to generate postage stamps at a given set of coordinates. For this example, we consider the `deepCoadd` data set, which has one extra key value than the previous example."
   ]
  },
  {
   "cell_type": "code",
   "execution_count": 29,
   "metadata": {},
   "outputs": [
    {
     "data": {
      "text/plain": [
       "{'filter': str, 'tract': int, 'patch': str}"
      ]
     },
     "execution_count": 29,
     "metadata": {},
     "output_type": "execute_result"
    }
   ],
   "source": [
    "coadd_type = 'deepCoadd'\n",
    "butler.getKeys(coadd_type)\n"
   ]
  },
  {
   "cell_type": "markdown",
   "metadata": {},
   "source": [
    "In order to generate a postage stamp, we need to define the center and size of the cutout. First, we pick an RA and Dec from our previous example."
   ]
  },
  {
   "cell_type": "code",
   "execution_count": 30,
   "metadata": {},
   "outputs": [],
   "source": [
    "# Find indices of all targets with a flux between 100 and 500 as follows\n",
    "# np.where((merged_i_data['base_PsfFlux_flux'] > 100) & (merged_i_data['base_PsfFlux_flux'] < 500))\n",
    "\n",
    "# Pick an RA and Dec\n",
    "i = 1000\n",
    "ra =  np.degrees(merged_i_data['coord_ra'][i])\n",
    "dec = np.degrees(merged_i_data['coord_dec'][i])\n"
   ]
  },
  {
   "cell_type": "markdown",
   "metadata": {},
   "source": [
    "Next we plot our cutout."
   ]
  },
  {
   "cell_type": "code",
   "execution_count": 32,
   "metadata": {},
   "outputs": [],
   "source": [
    "# Retrieve the image using butler\n",
    "coadd_id = {'tract': tract_id, 'patch': patch_id, 'filter': 'i'}\n",
    "image = butler.get(coadd_type, dataId=coadd_id)\n",
    "\n",
    "# Define the center and size of our cutout\n",
    "radec = SpherePoint(ra, dec, lsst.geom.degrees)\n",
    "cutout_size = 150\n",
    "cutout_extent = lsst.geom.ExtentI(cutout_size, cutout_size)\n",
    "\n",
    "# Cutout and optionally save the postage stamp to file\n",
    "postage_stamp = image.getCutout(radec, cutout_extent)\n",
    "# postage_stamp.writeFits(<output_filename>)\n"
   ]
  },
  {
   "cell_type": "markdown",
   "metadata": {},
   "source": [
    "Since the postage stamp was generated using `Butler`, it is represented as an `afwImage` object. This is a data type from the DM stack that is used to represent images. Since it is a DM object, we choose to plot it using the DM `afwDisplay` module."
   ]
  },
  {
   "cell_type": "code",
   "execution_count": 33,
   "metadata": {},
   "outputs": [
    {
     "data": {
      "image/png": "[encoded data removed]",
      "text/plain": [
       "<Figure size 432x288 with 2 Axes>"
      ]
     },
     "metadata": {
      "needs_background": "light"
     },
     "output_type": "display_data"
    }
   ],
   "source": [
    "xy = postage_stamp.getWcs().skyToPixel(radec)\n",
    "\n",
    "display = afwDisplay.Display(frame=1, backend='matplotlib')\n",
    "display.mtv(postage_stamp)\n",
    "display.scale(\"linear\", \"zscale\")\n",
    "display.dot('o', xy.getX(), xy.getY(), ctype='red')\n",
    "display.show_colorbar()\n",
    "\n",
    "plt.xlabel('x')\n",
    "plt.ylabel('y')\n",
    "plt.show()\n"
   ]
  },
  {
   "cell_type": "markdown",
   "metadata": {},
   "source": [
    "Note that the cutout image is aware of the masks and pixel values of the original image. This is why the axis labels in the above cutout are so large. We also note that the orientation of the postage stamp is in the x, y orientation of the original coadded image.\n"
   ]
  },
  {
   "cell_type": "markdown",
   "metadata": {},
   "source": [
    "## Selecting an Area on the Sky with a Sky Map\n",
    "\n",
    "As a final example, we consider a third type of data that can be accessed via `Butler` called a `skyMap`. Sky maps allow you to look up information for a given `tract` and `patch`. You may notice from the below example that data set **types** tend to follow the naming convention of having a base name (e.g. `'deepCoadd'`) followed by a descriptor (e.g. `'_skyMap'`)."
   ]
  },
  {
   "cell_type": "code",
   "execution_count": 34,
   "metadata": {},
   "outputs": [
    {
     "data": {
      "text/plain": [
       "TractInfo(id=0, ctrCoord=[6.123233995736766e-17, 0.0, -1.0])"
      ]
     },
     "execution_count": 34,
     "metadata": {},
     "output_type": "execute_result"
    }
   ],
   "source": [
    "skymap = butler.get('deepCoadd_skyMap')\n",
    "tract_info = skymap[0]\n",
    "tract_info\n"
   ]
  },
  {
   "cell_type": "code",
   "execution_count": 35,
   "metadata": {},
   "outputs": [
    {
     "data": {
      "text/plain": [
       "PatchInfo(index=(1, 1), innerBBox=(minimum=(4000, 4000), maximum=(7999, 7999)), outerBBox=(minimum=(3900, 3900), maximum=(8099, 8099)))"
      ]
     },
     "execution_count": 35,
     "metadata": {},
     "output_type": "execute_result"
    }
   ],
   "source": [
    "patch_info = tract_info.getPatchInfo((1,1))\n",
    "patch_info\n"
   ]
  },
  {
   "cell_type": "code",
   "execution_count": 36,
   "metadata": {},
   "outputs": [
    {
     "name": "stdout",
     "output_type": "stream",
     "text": [
      "Tract corners in pixels:\n",
      " [Point2D(-0.5, -0.5), Point2D(27999.5, -0.5), Point2D(27999.5, 27999.5), Point2D(-0.5, 27999.5)]\n",
      "\n",
      "Tract corners in degrees:\n",
      " [[135.0, -88.90023048543114], [225.0020462778707, -88.90019121549136], [315.0, -88.9001519469551], [44.99795372212926, -88.90019121549136]]\n"
     ]
    }
   ],
   "source": [
    "tract_bbox = tract_info.getBBox()\n",
    "tract_pix_corners = lsst.geom.Box2D(tract_bbox).getCorners()\n",
    "print('Tract corners in pixels:\\n', tract_pix_corners)\n",
    "\n",
    "wcs = tract_info.getWcs()\n",
    "tract_deg_corners = wcs.pixelToSky(tract_pix_corners)\n",
    "tract_deg_corners = [[c.getRa().asDegrees(), c.getDec().asDegrees()] for c in tract_deg_corners]\n",
    "print('\\nTract corners in degrees:\\n', tract_deg_corners)\n"
   ]
  },
  {
   "cell_type": "code",
   "execution_count": 37,
   "metadata": {},
   "outputs": [
    {
     "name": "stdout",
     "output_type": "stream",
     "text": [
      "TractInfo(id=9443)\n",
      "(PatchInfo(index=(6, 5), innerBBox=(minimum=(24000, 20000), maximum=(27999, 23999)), outerBBox=(minimum=(23900, 19900), maximum=(27999, 24099))),)\n"
     ]
    }
   ],
   "source": [
    "#You can also go in reverse to find the tract, patch that contains a coordinate (320.8,-0.4)\n",
    "coordList = [SpherePoint(Angle(np.radians(320.8)),Angle(np.radians(-0.4)))]\n",
    "tractInfo = skymap.findClosestTractPatchList(coordList)\n",
    "print(tractInfo[0][0])\n",
    "print(tractInfo[0][1])"
   ]
  }
 ],
 "metadata": {
  "kernelspec": {
   "display_name": "lsst_distrib",
   "language": "python",
   "name": "lsst_distrib"
  },
  "language_info": {
   "codemirror_mode": {
    "name": "ipython",
    "version": 3
   },
   "file_extension": ".py",
   "mimetype": "text/x-python",
   "name": "python",
   "nbconvert_exporter": "python",
   "pygments_lexer": "ipython3",
   "version": "3.7.8"
  }
 },
 "nbformat": 4,
 "nbformat_minor": 4
}
