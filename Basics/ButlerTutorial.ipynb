{
 "cells": [
  {
   "cell_type": "markdown",
   "metadata": {},
   "source": [
    "# Data Access with Butler\n",
    "\n",
    "\n",
    "This notebook demonstrates how to use `Butler` objects from the DM stack to parse and manipulate data. After finishing this notebook, users will know how to:\n",
    "\n",
    " - Load and access a data repository using `Butler`\n",
    " - Select subsets of data and convert data into familiar data structures\n",
    " - Use `Butler` to access coordinate information and cutout postage stamps\n",
    " - Use `Butler` to access a skymap\n",
    " \n",
    "\n",
    "## Core Concepts\n",
    "\n",
    "`Butler` provides a way to access information using a uniform interface without needing to keep track of how the information is internally stored or organized. Data access with `Butler` has three levels you need to be aware of:\n",
    "\n",
    "1. Each instantiated `Butler` object provides access to a collection of datasets called a **repository**. Each repository is defined by Butler using the local file directory where the data is stored.\n",
    "1. Each data set in a **repository** is assigned a unique name called a **type**. These types are strings that describe the data set and should not be confused with an \"object type\" as defined by Python.\n",
    "1. Individual entries in a data set are identified using a unique **data identifier**, which is a dictionary who's allowed keys and values depend on the data set you are working with.\n"
   ]
  },
  {
   "cell_type": "code",
   "execution_count": 1,
   "metadata": {},
   "outputs": [],
   "source": [
    "import matplotlib.pyplot as plt\n",
    "\n",
    "import lsst.afw.display as afwDisplay\n",
    "import lsst.afw.geom as afwGeom\n",
    "import matplotlib.pyplot as plt\n",
    "from lsst.daf.persistence import Butler\n",
    "from lsst.geom import SpherePoint\n",
    "\n",
    "%matplotlib inline\n"
   ]
  },
  {
   "cell_type": "markdown",
   "metadata": {},
   "source": [
    "## Loading Data\n",
    "\n",
    "To start we instantialize a `Butler` object by providing it with the directory of the **repository** we want to access. Next we load a **type** of dataset and select data from a single **data identifier**. For this demonstration we consider the `deepCoadd_ref` dataset which contains tables of information concerning coadded images used in the differencing image pipeline. The id values for this data set include two required values: `tract` and `patch` which denote sections of the sky.\n"
   ]
  },
  {
   "cell_type": "code",
   "execution_count": 2,
   "metadata": {},
   "outputs": [],
   "source": [
    "repo = '/global/cscratch1/sd/rearmstr/new_templates/diffim_template'\n",
    "butler = Butler(repo)\n"
   ]
  },
  {
   "cell_type": "code",
   "execution_count": 3,
   "metadata": {},
   "outputs": [
    {
     "name": "stdout",
     "output_type": "stream",
     "text": [
      "Data exists for ID: True\n"
     ]
    },
    {
     "data": {
      "text/plain": [
       "<class 'lsst.afw.table.source.source.SourceCatalog'>\n",
       "        id             coord_ra      ... merge_measurement_g merge_measurement_u\n",
       "                         rad         ...                                        \n",
       "----------------- ------------------ ... ------------------- -------------------\n",
       "21326977935867905 0.9283615729464572 ...               False               False\n",
       "21326977935867906 0.9283009242109512 ...               False               False\n",
       "21326977935867907 0.9281642074368622 ...               False               False\n",
       "21326977935867908 0.9280969306485073 ...               False               False\n",
       "21326977935867909 0.9278675638613414 ...               False               False\n",
       "21326977935867910 0.9275036833090777 ...               False               False\n",
       "21326977935867911 0.9272544712516174 ...               False               False\n",
       "21326977935867912 0.9271651545630288 ...               False               False\n",
       "21326977935867913 0.9267406273478027 ...               False               False\n",
       "21326977935867914 0.9260205957155333 ...               False               False\n",
       "              ...                ... ...                 ...                 ...\n",
       "21326977935882647  0.925465695851765 ...               False               False\n",
       "21326977935882648 0.9254304725866678 ...               False               False\n",
       "21326977935882649 0.9259829527455911 ...               False               False\n",
       "21326977935882650 0.9259631557397447 ...               False               False\n",
       "21326977935882651 0.9259741508549196 ...               False               False\n",
       "21326977935882652 0.9255495069486754 ...               False               False\n",
       "21326977935882653 0.9255516402060293 ...               False               False\n",
       "21326977935882654 0.9255604718484421 ...               False               False\n",
       "21326977935882655 0.9285554248277555 ...               False               False\n",
       "21326977935882656  0.928546593074381 ...               False               False\n",
       "Length = 9152 rows"
      ]
     },
     "execution_count": 3,
     "metadata": {},
     "output_type": "execute_result"
    }
   ],
   "source": [
    "# We choose an arbitrary tract and patch. \n",
    "data_id = {'tract': 4849, 'patch': '6,6'}\n",
    "dataset_type = 'deepCoadd_ref'\n",
    "\n",
    "# We can check that the data exists before we try to read it\n",
    "data_exists = butler.datasetExists(datasetType=dataset_type, dataId=data_id)\n",
    "print('Data exists for ID:', data_exists)\n",
    "\n",
    "data_entry = butler.get(dataset_type, dataId=data_id)\n",
    "data_entry\n"
   ]
  },
  {
   "cell_type": "markdown",
   "metadata": {},
   "source": [
    "The data table returned above is formatted as a `SourceCatalog` object, which is essentially a collection of `numpy` arrays. We can see this when we index a particular column. "
   ]
  },
  {
   "cell_type": "code",
   "execution_count": 4,
   "metadata": {},
   "outputs": [
    {
     "name": "stdout",
     "output_type": "stream",
     "text": [
      "<class 'numpy.ndarray'>\n"
     ]
    }
   ],
   "source": [
    "print(type(data_entry['merge_measurement_i']))\n"
   ]
  },
  {
   "cell_type": "markdown",
   "metadata": {},
   "source": [
    "`SourceCatalog` objects have their own set of methods for table manipulations (sorting, appending rows, et.). However, we can also work with the data in a more familiar format, such as an astropy `Table` or a pandas `DataFrame`. "
   ]
  },
  {
   "cell_type": "code",
   "execution_count": 5,
   "metadata": {},
   "outputs": [
    {
     "data": {
      "text/html": [
       "<div>\n",
       "<style scoped>\n",
       "    .dataframe tbody tr th:only-of-type {\n",
       "        vertical-align: middle;\n",
       "    }\n",
       "\n",
       "    .dataframe tbody tr th {\n",
       "        vertical-align: top;\n",
       "    }\n",
       "\n",
       "    .dataframe thead th {\n",
       "        text-align: right;\n",
       "    }\n",
       "</style>\n",
       "<table border=\"1\" class=\"dataframe\">\n",
       "  <thead>\n",
       "    <tr style=\"text-align: right;\">\n",
       "      <th></th>\n",
       "      <th>id</th>\n",
       "      <th>coord_ra</th>\n",
       "      <th>coord_dec</th>\n",
       "      <th>parent</th>\n",
       "      <th>merge_footprint_i</th>\n",
       "      <th>merge_footprint_r</th>\n",
       "      <th>merge_footprint_z</th>\n",
       "      <th>merge_footprint_y</th>\n",
       "      <th>merge_footprint_g</th>\n",
       "      <th>merge_footprint_u</th>\n",
       "      <th>...</th>\n",
       "      <th>slot_ModelFlux_initial_flag_apCorr</th>\n",
       "      <th>base_ClassificationExtendedness_value</th>\n",
       "      <th>base_ClassificationExtendedness_flag</th>\n",
       "      <th>base_FootprintArea_value</th>\n",
       "      <th>merge_measurement_i</th>\n",
       "      <th>merge_measurement_r</th>\n",
       "      <th>merge_measurement_z</th>\n",
       "      <th>merge_measurement_y</th>\n",
       "      <th>merge_measurement_g</th>\n",
       "      <th>merge_measurement_u</th>\n",
       "    </tr>\n",
       "  </thead>\n",
       "  <tbody>\n",
       "    <tr>\n",
       "      <th>0</th>\n",
       "      <td>21326977935867905</td>\n",
       "      <td>0.928362</td>\n",
       "      <td>-0.496660</td>\n",
       "      <td>0</td>\n",
       "      <td>True</td>\n",
       "      <td>False</td>\n",
       "      <td>False</td>\n",
       "      <td>False</td>\n",
       "      <td>False</td>\n",
       "      <td>False</td>\n",
       "      <td>...</td>\n",
       "      <td>False</td>\n",
       "      <td>NaN</td>\n",
       "      <td>True</td>\n",
       "      <td>295</td>\n",
       "      <td>True</td>\n",
       "      <td>False</td>\n",
       "      <td>False</td>\n",
       "      <td>False</td>\n",
       "      <td>False</td>\n",
       "      <td>False</td>\n",
       "    </tr>\n",
       "    <tr>\n",
       "      <th>1</th>\n",
       "      <td>21326977935867906</td>\n",
       "      <td>0.928301</td>\n",
       "      <td>-0.496659</td>\n",
       "      <td>0</td>\n",
       "      <td>True</td>\n",
       "      <td>False</td>\n",
       "      <td>False</td>\n",
       "      <td>False</td>\n",
       "      <td>False</td>\n",
       "      <td>False</td>\n",
       "      <td>...</td>\n",
       "      <td>False</td>\n",
       "      <td>NaN</td>\n",
       "      <td>True</td>\n",
       "      <td>29</td>\n",
       "      <td>True</td>\n",
       "      <td>False</td>\n",
       "      <td>False</td>\n",
       "      <td>False</td>\n",
       "      <td>False</td>\n",
       "      <td>False</td>\n",
       "    </tr>\n",
       "    <tr>\n",
       "      <th>2</th>\n",
       "      <td>21326977935867907</td>\n",
       "      <td>0.928164</td>\n",
       "      <td>-0.496656</td>\n",
       "      <td>0</td>\n",
       "      <td>True</td>\n",
       "      <td>False</td>\n",
       "      <td>False</td>\n",
       "      <td>False</td>\n",
       "      <td>False</td>\n",
       "      <td>False</td>\n",
       "      <td>...</td>\n",
       "      <td>False</td>\n",
       "      <td>NaN</td>\n",
       "      <td>True</td>\n",
       "      <td>498</td>\n",
       "      <td>True</td>\n",
       "      <td>False</td>\n",
       "      <td>False</td>\n",
       "      <td>False</td>\n",
       "      <td>False</td>\n",
       "      <td>False</td>\n",
       "    </tr>\n",
       "    <tr>\n",
       "      <th>3</th>\n",
       "      <td>21326977935867908</td>\n",
       "      <td>0.928097</td>\n",
       "      <td>-0.496657</td>\n",
       "      <td>0</td>\n",
       "      <td>True</td>\n",
       "      <td>False</td>\n",
       "      <td>False</td>\n",
       "      <td>False</td>\n",
       "      <td>False</td>\n",
       "      <td>False</td>\n",
       "      <td>...</td>\n",
       "      <td>False</td>\n",
       "      <td>NaN</td>\n",
       "      <td>True</td>\n",
       "      <td>44</td>\n",
       "      <td>True</td>\n",
       "      <td>False</td>\n",
       "      <td>False</td>\n",
       "      <td>False</td>\n",
       "      <td>False</td>\n",
       "      <td>False</td>\n",
       "    </tr>\n",
       "    <tr>\n",
       "      <th>4</th>\n",
       "      <td>21326977935867909</td>\n",
       "      <td>0.927868</td>\n",
       "      <td>-0.496657</td>\n",
       "      <td>0</td>\n",
       "      <td>True</td>\n",
       "      <td>False</td>\n",
       "      <td>False</td>\n",
       "      <td>False</td>\n",
       "      <td>False</td>\n",
       "      <td>False</td>\n",
       "      <td>...</td>\n",
       "      <td>False</td>\n",
       "      <td>NaN</td>\n",
       "      <td>True</td>\n",
       "      <td>262</td>\n",
       "      <td>True</td>\n",
       "      <td>False</td>\n",
       "      <td>False</td>\n",
       "      <td>False</td>\n",
       "      <td>False</td>\n",
       "      <td>False</td>\n",
       "    </tr>\n",
       "  </tbody>\n",
       "</table>\n",
       "<p>5 rows × 766 columns</p>\n",
       "</div>"
      ],
      "text/plain": [
       "                  id  coord_ra  coord_dec  parent  merge_footprint_i  \\\n",
       "0  21326977935867905  0.928362  -0.496660       0               True   \n",
       "1  21326977935867906  0.928301  -0.496659       0               True   \n",
       "2  21326977935867907  0.928164  -0.496656       0               True   \n",
       "3  21326977935867908  0.928097  -0.496657       0               True   \n",
       "4  21326977935867909  0.927868  -0.496657       0               True   \n",
       "\n",
       "   merge_footprint_r  merge_footprint_z  merge_footprint_y  merge_footprint_g  \\\n",
       "0              False              False              False              False   \n",
       "1              False              False              False              False   \n",
       "2              False              False              False              False   \n",
       "3              False              False              False              False   \n",
       "4              False              False              False              False   \n",
       "\n",
       "   merge_footprint_u  ...  slot_ModelFlux_initial_flag_apCorr  \\\n",
       "0              False  ...                               False   \n",
       "1              False  ...                               False   \n",
       "2              False  ...                               False   \n",
       "3              False  ...                               False   \n",
       "4              False  ...                               False   \n",
       "\n",
       "   base_ClassificationExtendedness_value  \\\n",
       "0                                    NaN   \n",
       "1                                    NaN   \n",
       "2                                    NaN   \n",
       "3                                    NaN   \n",
       "4                                    NaN   \n",
       "\n",
       "   base_ClassificationExtendedness_flag  base_FootprintArea_value  \\\n",
       "0                                  True                       295   \n",
       "1                                  True                        29   \n",
       "2                                  True                       498   \n",
       "3                                  True                        44   \n",
       "4                                  True                       262   \n",
       "\n",
       "   merge_measurement_i  merge_measurement_r  merge_measurement_z  \\\n",
       "0                 True                False                False   \n",
       "1                 True                False                False   \n",
       "2                 True                False                False   \n",
       "3                 True                False                False   \n",
       "4                 True                False                False   \n",
       "\n",
       "   merge_measurement_y  merge_measurement_g  merge_measurement_u  \n",
       "0                False                False                False  \n",
       "1                False                False                False  \n",
       "2                False                False                False  \n",
       "3                False                False                False  \n",
       "4                False                False                False  \n",
       "\n",
       "[5 rows x 766 columns]"
      ]
     },
     "execution_count": 5,
     "metadata": {},
     "output_type": "execute_result"
    }
   ],
   "source": [
    "data_frame = data_entry.asAstropy().to_pandas()\n",
    "data_frame.head()\n"
   ]
  },
  {
   "cell_type": "markdown",
   "metadata": {},
   "source": [
    "It is important to note that `Butler` objects are not required to return tabular data. We will see an example of this later when we load and parse image data."
   ]
  },
  {
   "cell_type": "markdown",
   "metadata": {},
   "source": [
    "## Selecting Subsets of Data"
   ]
  },
  {
   "cell_type": "markdown",
   "metadata": {},
   "source": [
    "In practice you may not know the format of the data identifier for a given data set. In this case the `getKeys()` method can be used to determine the key values expected in a **data identifier**. \n"
   ]
  },
  {
   "cell_type": "code",
   "execution_count": 6,
   "metadata": {},
   "outputs": [
    {
     "name": "stdout",
     "output_type": "stream",
     "text": [
      "Expected data id format: {'tract': <class 'int'>, 'patch': <class 'str'>}\n"
     ]
    }
   ],
   "source": [
    "data_id_format = butler.getKeys(dataset_type)\n",
    "print('Expected data id format:', data_id_format)\n"
   ]
  },
  {
   "cell_type": "markdown",
   "metadata": {},
   "source": [
    "It is import to note that the `getKeys` method will only specify key values that are required by the data set. We can also include optional key values to further select a subset of the data. Lets say we only wanted table entries where `merge_footprint_i` has a value of `True`. We could retrieve the data and subselect the values of the returned table, or we can do simply specify the condition in the data id."
   ]
  },
  {
   "cell_type": "code",
   "execution_count": 7,
   "metadata": {},
   "outputs": [
    {
     "data": {
      "text/plain": [
       "True"
      ]
     },
     "execution_count": 7,
     "metadata": {},
     "output_type": "execute_result"
    }
   ],
   "source": [
    "new_data_id = {'tract': 4849, 'patch': '6,6', 'merge_footprint_i': True}\n",
    "merged_i_data = butler.get(dataset_type, dataId=new_data_id)\n",
    "\n",
    "# Check that the returned table does in fact have only entries where\n",
    "# merge_footprint_i is True\n",
    "merged_i_data['merge_measurement_i'].all()\n"
   ]
  },
  {
   "cell_type": "markdown",
   "metadata": {},
   "source": [
    "Although you can't specify complex conditionals in a data id, you can use it so perform simple selections. You can also can also select a select all complete dataIds for a dataset type that match a partial (or empty) dataId. For example, the below cell iterates over all possible ids and checks if the corresponding file exists.\n"
   ]
  },
  {
   "cell_type": "code",
   "execution_count": 8,
   "metadata": {},
   "outputs": [
    {
     "name": "stdout",
     "output_type": "stream",
     "text": [
      "fAvailable Ids:\n",
      " [DataId(initialdata={'tract': 4849, 'patch': '6,6'}, tag=set())]\n"
     ]
    }
   ],
   "source": [
    "subset = butler.subset(dataset_type, dataId=data_id)\n",
    "id_list = [dr.dataId for dr in subset if dr.datasetExists()]\n",
    "print(f'fAvailable Ids:\\n {id_list}')\n"
   ]
  },
  {
   "cell_type": "markdown",
   "metadata": {},
   "source": [
    "## Creating Postage Stamps\n",
    "\n",
    "When dealing with image data, we can use `Butler` to generate postage stamps at a given set of coordinates. For this example we consider the `deepCoadd` data set, which has one extra key value than the previous example."
   ]
  },
  {
   "cell_type": "code",
   "execution_count": 9,
   "metadata": {},
   "outputs": [
    {
     "data": {
      "text/plain": [
       "{'filter': str, 'tract': int, 'patch': str}"
      ]
     },
     "execution_count": 9,
     "metadata": {},
     "output_type": "execute_result"
    }
   ],
   "source": [
    "coadd_type = 'deepCoadd'\n",
    "butler.getKeys(coadd_type)\n"
   ]
  },
  {
   "cell_type": "markdown",
   "metadata": {},
   "source": [
    "In order to generate a postage stamp, we define the center an size of the cutout using "
   ]
  },
  {
   "cell_type": "code",
   "execution_count": 10,
   "metadata": {},
   "outputs": [],
   "source": [
    "# Retrieve the image using butler\n",
    "coadd_id = {'tract': 4849, 'patch': '6,6', 'filter': 'z'}\n",
    "image = butler.get(coadd_type, dataId=coadd_id)\n",
    "\n",
    "# Define the center and size of our cutout\n",
    "ra, dec = 53.135801, -28.426165\n",
    "radec = SpherePoint(ra, dec, afwGeom.degrees)\n",
    "cutout_size = 75\n",
    "cutout_extent = afwGeom.ExtentI(cutout_size, cutout_size)\n",
    "\n",
    "# Cutout and optionally save the postage stamp to file\n",
    "postage_stamp = image.getCutout(radec, cutout_extent)\n",
    "# postage_stamp.writeFits(<output_filename>)\n"
   ]
  },
  {
   "cell_type": "markdown",
   "metadata": {},
   "source": [
    "Since the postage stamp was generated using `Butler`, we can plot it using the DM `afwDisplay` module."
   ]
  },
  {
   "cell_type": "code",
   "execution_count": 11,
   "metadata": {},
   "outputs": [
    {
     "data": {
      "image/png": "[encoded data removed]",
      "text/plain": [
       "<Figure size 432x288 with 2 Axes>"
      ]
     },
     "metadata": {
      "needs_background": "light"
     },
     "output_type": "display_data"
    }
   ],
   "source": [
    "xy = postage_stamp.getWcs().skyToPixel(radec)\n",
    "\n",
    "display = afwDisplay.Display(frame=1, backend='matplotlib')\n",
    "display.mtv(postage_stamp)\n",
    "display.scale(\"linear\", \"zscale\")\n",
    "display.dot('o', xy.getX(), xy.getY(), ctype='red')\n",
    "display.show_colorbar()\n",
    "\n",
    "plt.xlabel('x')\n",
    "plt.ylabel('y')\n",
    "plt.show()\n"
   ]
  },
  {
   "cell_type": "markdown",
   "metadata": {},
   "source": [
    "It is important to note that the cutout image is aware of what the pixel values were in the original image. This is why the axis labels in the above cutout are so large. We also note that the orientation of the postage stamp is in the x, y orientation of the original coadded image.\n"
   ]
  },
  {
   "cell_type": "markdown",
   "metadata": {},
   "source": [
    "## Selecting an Area on the Sky with a Sky Map\n",
    "\n",
    "As a final example, we consider a third type of data that can be accessed via `Butler` called `skymap`. Sky maps allow you to look up information for a given `tract` and `patch`. You may notice from the below example that data set **types** tend to follow the convertion of having a base name (e.g. `'deepCoadd'`) followed by a descriptor (e.g. `'_skyMap'`)."
   ]
  },
  {
   "cell_type": "code",
   "execution_count": 12,
   "metadata": {},
   "outputs": [
    {
     "data": {
      "text/plain": [
       "TractInfo(id=4849, ctrCoord=[0.5161225807000198, 0.7060132991362492, -0.4849357721743165])"
      ]
     },
     "execution_count": 12,
     "metadata": {},
     "output_type": "execute_result"
    }
   ],
   "source": [
    "skymap = butler.get('deepCoadd_skyMap')\n",
    "tract_info = skymap[4849]\n",
    "tract_info\n"
   ]
  },
  {
   "cell_type": "code",
   "execution_count": 13,
   "metadata": {},
   "outputs": [
    {
     "data": {
      "text/plain": [
       "PatchInfo(index=(6, 6), innerBBox=(minimum=(24000, 24000), maximum=(27999, 27999)), outerBBox=(minimum=(23900, 23900), maximum=(27999, 27999)))"
      ]
     },
     "execution_count": 13,
     "metadata": {},
     "output_type": "execute_result"
    }
   ],
   "source": [
    "patch_info = tract_info.getPatchInfo((6,6))\n",
    "patch_info\n"
   ]
  },
  {
   "cell_type": "code",
   "execution_count": 14,
   "metadata": {},
   "outputs": [
    {
     "name": "stdout",
     "output_type": "stream",
     "text": [
      "Tract corners in pixels:\n",
      " [Point2D(-0.5, -0.5), Point2D(27999.5, -0.5), Point2D(27999.5, 27999.5), Point2D(-0.5, 27999.5)]\n",
      "\n",
      "Tract corners in degrees:\n",
      " [[54.72776196140405, -29.78294629153197], [52.93572544959448, -29.78294586008059], [52.9491120046228, -28.2276731919467], [54.71437636206343, -28.2276735966408]]\n"
     ]
    }
   ],
   "source": [
    "tract_bbox = tract_info.getBBox()\n",
    "tract_pix_corners = afwGeom.Box2D(tract_bbox).getCorners()\n",
    "print('Tract corners in pixels:\\n', tract_pix_corners)\n",
    "\n",
    "wcs = tract_info.getWcs()\n",
    "tract_deg_corners = wcs.pixelToSky(tract_pix_corners)\n",
    "tract_deg_corners = [[c.getRa().asDegrees(), c.getDec().asDegrees()] for c in tract_deg_corners]\n",
    "print('\\nTract corners in degrees:\\n', tract_deg_corners)\n"
   ]
  },
  {
   "cell_type": "code",
   "execution_count": null,
   "metadata": {},
   "outputs": [],
   "source": []
  }
 ],
 "metadata": {
  "kernelspec": {
   "display_name": "desc-stack",
   "language": "python",
   "name": "desc-stack"
  },
  "language_info": {
   "codemirror_mode": {
    "name": "ipython",
    "version": 3
   },
   "file_extension": ".py",
   "mimetype": "text/x-python",
   "name": "python",
   "nbconvert_exporter": "python",
   "pygments_lexer": "ipython3",
   "version": "3.7.3"
  }
 },
 "nbformat": 4,
 "nbformat_minor": 4
}
