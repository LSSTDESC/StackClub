{
 "cells": [
  {
   "cell_type": "markdown",
   "metadata": {},
   "source": [
    "# Exploring a Data Repository\n",
    "\n",
    "<br>Owner: **Rob Morgan** ([@rmorgan10](https://github.com/LSSTScienceCollaborations/StackClub/issues/new?body=@rmorgan10)), **Phil Marshall** ([@drphilmarshall](https://github.com/LSSTScienceCollaborations/StackClub/issues/new?body=@drphilmarshall))\n",
    "<br>Last Verified to Run: **2018-12-07**\n",
    "<br>Verified Stack Release: **16.0**\n",
    "\n",
    "This notebook shows how to find out what's in a data repository, and how to find out which inputs went into each component of it.  \n",
    "\n",
    "### Learning Objectives:\n",
    "After working through and studying this notebook you should be able to understand how to use the Butler to figure out: \n",
    "   1. Which data types are present in a data repository;\n",
    "   2. If coadds have been made, what the available tracts are;\n",
    "   3. Which parts of the sky those tracts cover.\n",
    "   \n",
    "### Logistics\n",
    "This notebook is intended to be runnable on `lsst-lspdev.ncsa.illinois.edu` from a local git clone of https://github.com/LSSTScienceCollaborations/StackClub.\n",
    "\n",
    "\n",
    "## Set Up"
   ]
  },
  {
   "cell_type": "code",
   "execution_count": 1,
   "metadata": {},
   "outputs": [],
   "source": [
    "import os\n",
    "import sys\n",
    "import warnings\n",
    "import matplotlib.pyplot as plt\n",
    "%matplotlib inline\n",
    "\n",
    "# Filter some warnings printed by v16.0 of the stack\n",
    "warnings.simplefilter(\"ignore\", category=FutureWarning)\n",
    "warnings.simplefilter(\"ignore\", category=UserWarning)"
   ]
  },
  {
   "cell_type": "markdown",
   "metadata": {},
   "source": [
    "## The HSC Data Repo: What's in there?\n",
    "We'll use the `hsc` data repositories as our testing ground, and start by figuring out what they contain.\n",
    "\n",
    "We'll need a butler to interrogate the `hsc` data repository."
   ]
  },
  {
   "cell_type": "code",
   "execution_count": 2,
   "metadata": {},
   "outputs": [
    {
     "name": "stdout",
     "output_type": "stream",
     "text": [
      "/datasets/hsc/repo/rerun/DM-13666/WIDE/\n"
     ]
    }
   ],
   "source": [
    "from lsst.daf.persistence import Butler\n",
    "\n",
    "# Instantiate the butler to bring us some HSC data.\n",
    "\n",
    "depth = 'WIDE' # WIDE, DEEP, UDEEP\n",
    "field = 'SSP_WIDE' # SSP_WIDE, SSP_DEEP, SSP_UDEEP\n",
    "\n",
    "repo = '/datasets/hsc/repo/rerun/DM-13666/%s/'%(depth)\n",
    "butler = Butler(repo)\n",
    "\n",
    "print(repo)"
   ]
  },
  {
   "cell_type": "code",
   "execution_count": 4,
   "metadata": {},
   "outputs": [
    {
     "name": "stdout",
     "output_type": "stream",
     "text": [
      "10333 133 112 60 13\n"
     ]
    }
   ],
   "source": [
    "visits = butler.queryMetadata('calexp', ['visit'])\n",
    "pointings = butler.queryMetadata('calexp', ['pointing'])\n",
    "ccds = butler.queryMetadata('calexp', ['ccd'])\n",
    "fields = butler.queryMetadata('calexp', ['field'])\n",
    "filters = butler.queryMetadata('calexp', ['filter'])\n",
    "\n",
    "print(len(visits), len(pointings), len(ccds), len(fields), len(filters))"
   ]
  },
  {
   "cell_type": "code",
   "execution_count": 15,
   "metadata": {},
   "outputs": [
    {
     "name": "stdout",
     "output_type": "stream",
     "text": [
      "10333 133 112 60 13\n"
     ]
    }
   ],
   "source": [
    "visits = butler.queryMetadata('forced_src', ['visit'])\n",
    "pointings = butler.queryMetadata('forced_src', ['pointing'])\n",
    "ccds = butler.queryMetadata('forced_src', ['ccd'])\n",
    "fields = butler.queryMetadata('forced_src', ['field'])\n",
    "filters = butler.queryMetadata('forced_src', ['filter'])\n",
    "\n",
    "print(len(visits), len(pointings), len(ccds), len(fields), len(filters))"
   ]
  },
  {
   "cell_type": "code",
   "execution_count": 14,
   "metadata": {},
   "outputs": [
    {
     "name": "stdout",
     "output_type": "stream",
     "text": [
      "calexp {'pointing': <class 'int'>, 'filter': <class 'str'>, 'visit': <class 'int'>, 'ccd': <class 'int'>, 'field': <class 'str'>, 'dateObs': <class 'str'>, 'taiObs': <class 'str'>, 'expTime': <class 'float'>}\n",
      "calexpBackground {'pointing': <class 'int'>, 'filter': <class 'str'>, 'visit': <class 'int'>, 'ccd': <class 'int'>}\n",
      "calexpThumb {'pointing': <class 'int'>, 'filter': <class 'str'>, 'visit': <class 'int'>, 'ccd': <class 'int'>, 'field': <class 'str'>, 'dateObs': <class 'str'>, 'taiObs': <class 'str'>, 'expTime': <class 'float'>}\n",
      "calexp_camera {'pointing': <class 'int'>, 'filter': <class 'str'>, 'visit': <class 'int'>}\n",
      "calibrated_exp {'pointing': <class 'int'>, 'filter': <class 'str'>, 'tract': <class 'int'>, 'visit': <class 'int'>, 'ccd': <class 'int'>}\n",
      "calibrated_src {'pointing': <class 'int'>, 'filter': <class 'str'>, 'tract': <class 'int'>, 'visit': <class 'int'>, 'ccd': <class 'int'>}\n",
      "dcor {'pointing': <class 'int'>, 'filter': <class 'str'>, 'tract': <class 'int'>, 'visit': <class 'int'>, 'ccd': <class 'int'>}\n",
      "detj {'pointing': <class 'int'>, 'filter': <class 'str'>, 'tract': <class 'int'>, 'visit': <class 'int'>, 'ccd': <class 'int'>}\n",
      "donutSrc {'pointing': <class 'int'>, 'filter': <class 'str'>, 'visit': <class 'int'>, 'ccd': <class 'int'>}\n",
      "expMetadata {'pointing': <class 'int'>, 'filter': <class 'str'>, 'visit': <class 'int'>}\n",
      "fcr {'tract': <class 'int'>, 'visit': <class 'int'>, 'ccd': <class 'int'>, 'field': <class 'str'>, 'filter': <class 'str'>, 'dateObs': <class 'str'>, 'taiObs': <class 'str'>, 'expTime': <class 'float'>, 'pointing': <class 'int'>}\n",
      "fcr_hsc {'pointing': <class 'int'>, 'filter': <class 'str'>, 'tract': <class 'int'>, 'visit': <class 'int'>, 'ccd': <class 'int'>}\n",
      "fitsEllPaGrid {'pointing': <class 'int'>, 'filter': <class 'str'>, 'visit': <class 'int'>, 'ccd': <class 'int'>, 'field': <class 'str'>, 'dateObs': <class 'str'>, 'taiObs': <class 'str'>, 'expTime': <class 'float'>}\n",
      "fitsEllipticityGrid {'pointing': <class 'int'>, 'filter': <class 'str'>, 'visit': <class 'int'>, 'ccd': <class 'int'>, 'field': <class 'str'>, 'dateObs': <class 'str'>, 'taiObs': <class 'str'>, 'expTime': <class 'float'>}\n",
      "fitsFwhmGrid {'pointing': <class 'int'>, 'filter': <class 'str'>, 'visit': <class 'int'>, 'ccd': <class 'int'>, 'field': <class 'str'>, 'dateObs': <class 'str'>, 'taiObs': <class 'str'>, 'expTime': <class 'float'>}\n",
      "fitsPsfModelGrid {'pointing': <class 'int'>, 'filter': <class 'str'>, 'visit': <class 'int'>, 'ccd': <class 'int'>, 'field': <class 'str'>, 'dateObs': <class 'str'>, 'taiObs': <class 'str'>, 'expTime': <class 'float'>}\n",
      "fitsPsfSrcGrid {'pointing': <class 'int'>, 'filter': <class 'str'>, 'visit': <class 'int'>, 'ccd': <class 'int'>, 'field': <class 'str'>, 'dateObs': <class 'str'>, 'taiObs': <class 'str'>, 'expTime': <class 'float'>}\n",
      "flattenedImage {'pointing': <class 'int'>, 'filter': <class 'str'>, 'visit': <class 'int'>, 'ccd': <class 'int'>}\n",
      "flattenedThumb {'pointing': <class 'int'>, 'filter': <class 'str'>, 'visit': <class 'int'>, 'ccd': <class 'int'>, 'field': <class 'str'>, 'dateObs': <class 'str'>, 'taiObs': <class 'str'>, 'expTime': <class 'float'>}\n",
      "focusPlot {'pointing': <class 'int'>, 'filter': <class 'str'>, 'visit': <class 'int'>}\n",
      "focusSweepPlot {'pointing': <class 'int'>, 'filter': <class 'str'>, 'visit': <class 'int'>}\n",
      "forced_src {'pointing': <class 'int'>, 'filter': <class 'str'>, 'tract': <class 'int'>, 'visit': <class 'int'>, 'ccd': <class 'int'>, 'field': <class 'str'>, 'dateObs': <class 'str'>, 'taiObs': <class 'str'>, 'expTime': <class 'float'>}\n",
      "icExp {'pointing': <class 'int'>, 'filter': <class 'str'>, 'visit': <class 'int'>, 'ccd': <class 'int'>}\n",
      "icExpBackground {'pointing': <class 'int'>, 'filter': <class 'str'>, 'visit': <class 'int'>, 'ccd': <class 'int'>}\n",
      "icMatch {'pointing': <class 'int'>, 'filter': <class 'str'>, 'visit': <class 'int'>, 'ccd': <class 'int'>, 'field': <class 'str'>, 'dateObs': <class 'str'>, 'taiObs': <class 'str'>, 'expTime': <class 'float'>}\n",
      "icSrc {'pointing': <class 'int'>, 'filter': <class 'str'>, 'visit': <class 'int'>, 'ccd': <class 'int'>, 'field': <class 'str'>, 'dateObs': <class 'str'>, 'taiObs': <class 'str'>, 'expTime': <class 'float'>}\n",
      "log {'pointing': <class 'int'>, 'filter': <class 'str'>}\n",
      "logDir {'pointing': <class 'int'>, 'filter': <class 'str'>}\n",
      "mosaicCalib {'pointing': <class 'int'>, 'filter': <class 'str'>, 'visit': <class 'int'>, 'ccd': <class 'int'>, 'tract': <class 'int'>}\n",
      "ossImage {'pointing': <class 'int'>, 'filter': <class 'str'>, 'visit': <class 'int'>, 'ccd': <class 'int'>}\n",
      "ossThumb {'pointing': <class 'int'>, 'filter': <class 'str'>, 'visit': <class 'int'>, 'ccd': <class 'int'>, 'field': <class 'str'>, 'dateObs': <class 'str'>, 'taiObs': <class 'str'>, 'expTime': <class 'float'>}\n",
      "plotEllipseGrid {'pointing': <class 'int'>, 'filter': <class 'str'>, 'visit': <class 'int'>, 'ccd': <class 'int'>, 'field': <class 'str'>, 'dateObs': <class 'str'>, 'taiObs': <class 'str'>, 'expTime': <class 'float'>}\n",
      "plotEllipseMap {'pointing': <class 'int'>, 'filter': <class 'str'>, 'visit': <class 'int'>, 'ccd': <class 'int'>, 'field': <class 'str'>, 'dateObs': <class 'str'>, 'taiObs': <class 'str'>, 'expTime': <class 'float'>}\n",
      "plotEllipticityGrid {'pointing': <class 'int'>, 'filter': <class 'str'>, 'visit': <class 'int'>, 'ccd': <class 'int'>, 'field': <class 'str'>, 'dateObs': <class 'str'>, 'taiObs': <class 'str'>, 'expTime': <class 'float'>}\n",
      "plotEllipticityMap {'pointing': <class 'int'>, 'filter': <class 'str'>, 'visit': <class 'int'>, 'ccd': <class 'int'>, 'field': <class 'str'>, 'dateObs': <class 'str'>, 'taiObs': <class 'str'>, 'expTime': <class 'float'>}\n",
      "plotFwhmGrid {'pointing': <class 'int'>, 'filter': <class 'str'>, 'visit': <class 'int'>, 'ccd': <class 'int'>, 'field': <class 'str'>, 'dateObs': <class 'str'>, 'taiObs': <class 'str'>, 'expTime': <class 'float'>}\n",
      "plotMagHist {'pointing': <class 'int'>, 'filter': <class 'str'>, 'visit': <class 'int'>, 'ccd': <class 'int'>, 'field': <class 'str'>, 'dateObs': <class 'str'>, 'taiObs': <class 'str'>, 'expTime': <class 'float'>}\n",
      "plotPsfModelGrid {'pointing': <class 'int'>, 'filter': <class 'str'>, 'visit': <class 'int'>, 'ccd': <class 'int'>, 'field': <class 'str'>, 'dateObs': <class 'str'>, 'taiObs': <class 'str'>, 'expTime': <class 'float'>}\n",
      "plotPsfSrcGrid {'pointing': <class 'int'>, 'filter': <class 'str'>, 'visit': <class 'int'>, 'ccd': <class 'int'>, 'field': <class 'str'>, 'dateObs': <class 'str'>, 'taiObs': <class 'str'>, 'expTime': <class 'float'>}\n",
      "plotSeeingMap {'pointing': <class 'int'>, 'filter': <class 'str'>, 'visit': <class 'int'>, 'ccd': <class 'int'>, 'field': <class 'str'>, 'dateObs': <class 'str'>, 'taiObs': <class 'str'>, 'expTime': <class 'float'>}\n",
      "plotSeeingRobust {'pointing': <class 'int'>, 'filter': <class 'str'>, 'visit': <class 'int'>, 'ccd': <class 'int'>, 'field': <class 'str'>, 'dateObs': <class 'str'>, 'taiObs': <class 'str'>, 'expTime': <class 'float'>}\n",
      "plotSeeingRough {'pointing': <class 'int'>, 'filter': <class 'str'>, 'visit': <class 'int'>, 'ccd': <class 'int'>, 'field': <class 'str'>, 'dateObs': <class 'str'>, 'taiObs': <class 'str'>, 'expTime': <class 'float'>}\n",
      "postISRCCD {'visit': <class 'int'>, 'filter': <class 'str'>, 'ccd': <class 'int'>, 'field': <class 'str'>, 'dateObs': <class 'str'>, 'taiObs': <class 'str'>, 'expTime': <class 'float'>, 'pointing': <class 'int'>}\n",
      "raw {'field': <class 'str'>, 'dateObs': <class 'str'>, 'pointing': <class 'int'>, 'filter': <class 'str'>, 'visit': <class 'int'>, 'ccd': <class 'int'>, 'taiObs': <class 'str'>, 'expTime': <class 'float'>}\n",
      "revexp {'pointing': <class 'int'>, 'filter': <class 'str'>, 'visit': <class 'int'>, 'ccd': <class 'int'>}\n",
      "skyCorr {'pointing': <class 'int'>, 'filter': <class 'str'>, 'visit': <class 'int'>, 'ccd': <class 'int'>}\n",
      "src {'pointing': <class 'int'>, 'filter': <class 'str'>, 'visit': <class 'int'>, 'ccd': <class 'int'>, 'field': <class 'str'>, 'dateObs': <class 'str'>, 'taiObs': <class 'str'>, 'expTime': <class 'float'>}\n",
      "srcMatch {'pointing': <class 'int'>, 'filter': <class 'str'>, 'visit': <class 'int'>, 'ccd': <class 'int'>, 'field': <class 'str'>, 'dateObs': <class 'str'>, 'taiObs': <class 'str'>, 'expTime': <class 'float'>}\n",
      "srcMatchFull {'pointing': <class 'int'>, 'filter': <class 'str'>, 'visit': <class 'int'>, 'ccd': <class 'int'>}\n",
      "tableSeeingGrid {'pointing': <class 'int'>, 'filter': <class 'str'>, 'visit': <class 'int'>, 'ccd': <class 'int'>, 'field': <class 'str'>, 'dateObs': <class 'str'>, 'taiObs': <class 'str'>, 'expTime': <class 'float'>}\n",
      "tableSeeingMap {'pointing': <class 'int'>, 'filter': <class 'str'>, 'visit': <class 'int'>, 'ccd': <class 'int'>, 'field': <class 'str'>, 'dateObs': <class 'str'>, 'taiObs': <class 'str'>, 'expTime': <class 'float'>}\n",
      "transformed_src {'pointing': <class 'int'>, 'filter': <class 'str'>, 'visit': <class 'int'>, 'ccd': <class 'int'>}\n",
      "warppsf {'pointing': <class 'int'>, 'filter': <class 'str'>, 'visit': <class 'int'>, 'ccd': <class 'int'>}\n",
      "wcs {'tract': <class 'int'>, 'visit': <class 'int'>, 'ccd': <class 'int'>, 'field': <class 'str'>, 'filter': <class 'str'>, 'dateObs': <class 'str'>, 'taiObs': <class 'str'>, 'expTime': <class 'float'>, 'pointing': <class 'int'>}\n",
      "wcs_hsc {'pointing': <class 'int'>, 'filter': <class 'str'>, 'tract': <class 'int'>, 'visit': <class 'int'>, 'ccd': <class 'int'>}\n"
     ]
    }
   ],
   "source": [
    "for item in shortlist:\n",
    "    try:\n",
    "        keys = butler.getKeys(item)\n",
    "        if 'pointing' in keys.keys():\n",
    "            print(item, keys)\n",
    "    except:\n",
    "        pass"
   ]
  },
  {
   "cell_type": "code",
   "execution_count": 5,
   "metadata": {},
   "outputs": [
    {
     "ename": "TypeError",
     "evalue": "sequence item 0: expected str instance, NoneType found",
     "output_type": "error",
     "traceback": [
      "\u001b[0;31m---------------------------------------------------------------------------\u001b[0m",
      "\u001b[0;31mTypeError\u001b[0m                                 Traceback (most recent call last)",
      "\u001b[0;32m<ipython-input-5-0cdf2a9b1a18>\u001b[0m in \u001b[0;36m<module>\u001b[0;34m\u001b[0m\n\u001b[0;32m----> 1\u001b[0;31m \u001b[0mvisits\u001b[0m \u001b[0;34m=\u001b[0m \u001b[0mbutler\u001b[0m\u001b[0;34m.\u001b[0m\u001b[0mqueryMetadata\u001b[0m\u001b[0;34m(\u001b[0m\u001b[0;34m'deepCoadd_mergeDet'\u001b[0m\u001b[0;34m,\u001b[0m \u001b[0;34m[\u001b[0m\u001b[0;34m'visit'\u001b[0m\u001b[0;34m]\u001b[0m\u001b[0;34m)\u001b[0m\u001b[0;34m\u001b[0m\u001b[0m\n\u001b[0m\u001b[1;32m      2\u001b[0m \u001b[0mpointings\u001b[0m \u001b[0;34m=\u001b[0m \u001b[0mbutler\u001b[0m\u001b[0;34m.\u001b[0m\u001b[0mqueryMetadata\u001b[0m\u001b[0;34m(\u001b[0m\u001b[0;34m'deepCoadd_mergeDet'\u001b[0m\u001b[0;34m,\u001b[0m \u001b[0;34m[\u001b[0m\u001b[0;34m'pointing'\u001b[0m\u001b[0;34m]\u001b[0m\u001b[0;34m)\u001b[0m\u001b[0;34m\u001b[0m\u001b[0m\n\u001b[1;32m      3\u001b[0m \u001b[0mccds\u001b[0m \u001b[0;34m=\u001b[0m \u001b[0mbutler\u001b[0m\u001b[0;34m.\u001b[0m\u001b[0mqueryMetadata\u001b[0m\u001b[0;34m(\u001b[0m\u001b[0;34m'deepCoadd_mergeDet'\u001b[0m\u001b[0;34m,\u001b[0m \u001b[0;34m[\u001b[0m\u001b[0;34m'ccd'\u001b[0m\u001b[0;34m]\u001b[0m\u001b[0;34m)\u001b[0m\u001b[0;34m\u001b[0m\u001b[0m\n\u001b[1;32m      4\u001b[0m \u001b[0mfields\u001b[0m \u001b[0;34m=\u001b[0m \u001b[0mbutler\u001b[0m\u001b[0;34m.\u001b[0m\u001b[0mqueryMetadata\u001b[0m\u001b[0;34m(\u001b[0m\u001b[0;34m'deepCoadd_mergeDet'\u001b[0m\u001b[0;34m,\u001b[0m \u001b[0;34m[\u001b[0m\u001b[0;34m'field'\u001b[0m\u001b[0;34m]\u001b[0m\u001b[0;34m)\u001b[0m\u001b[0;34m\u001b[0m\u001b[0m\n\u001b[1;32m      5\u001b[0m \u001b[0mfilters\u001b[0m \u001b[0;34m=\u001b[0m \u001b[0mbutler\u001b[0m\u001b[0;34m.\u001b[0m\u001b[0mqueryMetadata\u001b[0m\u001b[0;34m(\u001b[0m\u001b[0;34m'deepCoadd_mergeDet'\u001b[0m\u001b[0;34m,\u001b[0m \u001b[0;34m[\u001b[0m\u001b[0;34m'filter'\u001b[0m\u001b[0;34m]\u001b[0m\u001b[0;34m)\u001b[0m\u001b[0;34m\u001b[0m\u001b[0m\n",
      "\u001b[0;32m/opt/lsst/software/stack/stack/miniconda3-4.3.21-10a4fa6/Linux64/daf_persistence/16.0/python/lsst/daf/persistence/butler.py\u001b[0m in \u001b[0;36mqueryMetadata\u001b[0;34m(self, datasetType, format, dataId, **rest)\u001b[0m\n\u001b[1;32m   1230\u001b[0m         \u001b[0;32mfor\u001b[0m \u001b[0mrepoData\u001b[0m \u001b[0;32min\u001b[0m \u001b[0mself\u001b[0m\u001b[0;34m.\u001b[0m\u001b[0m_repos\u001b[0m\u001b[0;34m.\u001b[0m\u001b[0minputs\u001b[0m\u001b[0;34m(\u001b[0m\u001b[0;34m)\u001b[0m\u001b[0;34m:\u001b[0m\u001b[0;34m\u001b[0m\u001b[0m\n\u001b[1;32m   1231\u001b[0m             \u001b[0;32mif\u001b[0m \u001b[0;32mnot\u001b[0m \u001b[0mdataId\u001b[0m\u001b[0;34m.\u001b[0m\u001b[0mtag\u001b[0m \u001b[0;32mor\u001b[0m \u001b[0mlen\u001b[0m\u001b[0;34m(\u001b[0m\u001b[0mdataId\u001b[0m\u001b[0;34m.\u001b[0m\u001b[0mtag\u001b[0m\u001b[0;34m.\u001b[0m\u001b[0mintersection\u001b[0m\u001b[0;34m(\u001b[0m\u001b[0mrepoData\u001b[0m\u001b[0;34m.\u001b[0m\u001b[0mtags\u001b[0m\u001b[0;34m)\u001b[0m\u001b[0;34m)\u001b[0m \u001b[0;34m>\u001b[0m \u001b[0;36m0\u001b[0m\u001b[0;34m:\u001b[0m\u001b[0;34m\u001b[0m\u001b[0m\n\u001b[0;32m-> 1232\u001b[0;31m                 \u001b[0mtuples\u001b[0m \u001b[0;34m=\u001b[0m \u001b[0mrepoData\u001b[0m\u001b[0;34m.\u001b[0m\u001b[0mrepo\u001b[0m\u001b[0;34m.\u001b[0m\u001b[0mqueryMetadata\u001b[0m\u001b[0;34m(\u001b[0m\u001b[0mdatasetType\u001b[0m\u001b[0;34m,\u001b[0m \u001b[0mformat\u001b[0m\u001b[0;34m,\u001b[0m \u001b[0mdataId\u001b[0m\u001b[0;34m)\u001b[0m\u001b[0;34m\u001b[0m\u001b[0m\n\u001b[0m\u001b[1;32m   1233\u001b[0m                 \u001b[0;32mif\u001b[0m \u001b[0mtuples\u001b[0m\u001b[0;34m:\u001b[0m\u001b[0;34m\u001b[0m\u001b[0m\n\u001b[1;32m   1234\u001b[0m                     \u001b[0;32mbreak\u001b[0m\u001b[0;34m\u001b[0m\u001b[0m\n",
      "\u001b[0;32m/opt/lsst/software/stack/stack/miniconda3-4.3.21-10a4fa6/Linux64/daf_persistence/16.0/python/lsst/daf/persistence/repository.py\u001b[0m in \u001b[0;36mqueryMetadata\u001b[0;34m(self, *args, **kwargs)\u001b[0m\n\u001b[1;32m    262\u001b[0m         \u001b[0;32mif\u001b[0m \u001b[0mself\u001b[0m\u001b[0;34m.\u001b[0m\u001b[0m_mapper\u001b[0m \u001b[0;32mis\u001b[0m \u001b[0;32mNone\u001b[0m\u001b[0;34m:\u001b[0m\u001b[0;34m\u001b[0m\u001b[0m\n\u001b[1;32m    263\u001b[0m             \u001b[0;32mreturn\u001b[0m \u001b[0;32mNone\u001b[0m\u001b[0;34m\u001b[0m\u001b[0m\n\u001b[0;32m--> 264\u001b[0;31m         \u001b[0mret\u001b[0m \u001b[0;34m=\u001b[0m \u001b[0mself\u001b[0m\u001b[0;34m.\u001b[0m\u001b[0m_mapper\u001b[0m\u001b[0;34m.\u001b[0m\u001b[0mqueryMetadata\u001b[0m\u001b[0;34m(\u001b[0m\u001b[0;34m*\u001b[0m\u001b[0margs\u001b[0m\u001b[0;34m,\u001b[0m \u001b[0;34m**\u001b[0m\u001b[0mkwargs\u001b[0m\u001b[0;34m)\u001b[0m\u001b[0;34m\u001b[0m\u001b[0m\n\u001b[0m\u001b[1;32m    265\u001b[0m         \u001b[0;32mreturn\u001b[0m \u001b[0mret\u001b[0m\u001b[0;34m\u001b[0m\u001b[0m\n\u001b[1;32m    266\u001b[0m \u001b[0;34m\u001b[0m\u001b[0m\n",
      "\u001b[0;32m/opt/lsst/software/stack/stack/miniconda3-4.3.21-10a4fa6/Linux64/daf_persistence/16.0/python/lsst/daf/persistence/mapper.py\u001b[0m in \u001b[0;36mqueryMetadata\u001b[0;34m(self, datasetType, format, dataId)\u001b[0m\n\u001b[1;32m    124\u001b[0m         \u001b[0mfunc\u001b[0m \u001b[0;34m=\u001b[0m \u001b[0mgetattr\u001b[0m\u001b[0;34m(\u001b[0m\u001b[0mself\u001b[0m\u001b[0;34m,\u001b[0m \u001b[0;34m'query_'\u001b[0m \u001b[0;34m+\u001b[0m \u001b[0mdatasetType\u001b[0m\u001b[0;34m)\u001b[0m\u001b[0;34m\u001b[0m\u001b[0m\n\u001b[1;32m    125\u001b[0m \u001b[0;34m\u001b[0m\u001b[0m\n\u001b[0;32m--> 126\u001b[0;31m         \u001b[0mval\u001b[0m \u001b[0;34m=\u001b[0m \u001b[0mfunc\u001b[0m\u001b[0;34m(\u001b[0m\u001b[0mformat\u001b[0m\u001b[0;34m,\u001b[0m \u001b[0mself\u001b[0m\u001b[0;34m.\u001b[0m\u001b[0mvalidate\u001b[0m\u001b[0;34m(\u001b[0m\u001b[0mdataId\u001b[0m\u001b[0;34m)\u001b[0m\u001b[0;34m)\u001b[0m\u001b[0;34m\u001b[0m\u001b[0m\n\u001b[0m\u001b[1;32m    127\u001b[0m         \u001b[0;32mreturn\u001b[0m \u001b[0mval\u001b[0m\u001b[0;34m\u001b[0m\u001b[0m\n\u001b[1;32m    128\u001b[0m \u001b[0;34m\u001b[0m\u001b[0m\n",
      "\u001b[0;32m/opt/lsst/software/stack/stack/miniconda3-4.3.21-10a4fa6/Linux64/obs_base/16.0+1/python/lsst/obs/base/cameraMapper.py\u001b[0m in \u001b[0;36mqueryClosure\u001b[0;34m(format, dataId, mapping)\u001b[0m\n\u001b[1;32m    391\u001b[0m                     \u001b[0;32mif\u001b[0m \u001b[0;32mnot\u001b[0m \u001b[0mhasattr\u001b[0m\u001b[0;34m(\u001b[0m\u001b[0mself\u001b[0m\u001b[0;34m,\u001b[0m \u001b[0;34m\"query_\"\u001b[0m \u001b[0;34m+\u001b[0m \u001b[0mdatasetType\u001b[0m\u001b[0;34m)\u001b[0m\u001b[0;34m:\u001b[0m\u001b[0;34m\u001b[0m\u001b[0m\n\u001b[1;32m    392\u001b[0m                         \u001b[0;32mdef\u001b[0m \u001b[0mqueryClosure\u001b[0m\u001b[0;34m(\u001b[0m\u001b[0mformat\u001b[0m\u001b[0;34m,\u001b[0m \u001b[0mdataId\u001b[0m\u001b[0;34m,\u001b[0m \u001b[0mmapping\u001b[0m\u001b[0;34m=\u001b[0m\u001b[0mmapping\u001b[0m\u001b[0;34m)\u001b[0m\u001b[0;34m:\u001b[0m\u001b[0;34m\u001b[0m\u001b[0m\n\u001b[0;32m--> 393\u001b[0;31m                             \u001b[0;32mreturn\u001b[0m \u001b[0mmapping\u001b[0m\u001b[0;34m.\u001b[0m\u001b[0mlookup\u001b[0m\u001b[0;34m(\u001b[0m\u001b[0mformat\u001b[0m\u001b[0;34m,\u001b[0m \u001b[0mdataId\u001b[0m\u001b[0;34m)\u001b[0m\u001b[0;34m\u001b[0m\u001b[0m\n\u001b[0m\u001b[1;32m    394\u001b[0m                         \u001b[0msetattr\u001b[0m\u001b[0;34m(\u001b[0m\u001b[0mself\u001b[0m\u001b[0;34m,\u001b[0m \u001b[0;34m\"query_\"\u001b[0m \u001b[0;34m+\u001b[0m \u001b[0mdatasetType\u001b[0m\u001b[0;34m,\u001b[0m \u001b[0mqueryClosure\u001b[0m\u001b[0;34m)\u001b[0m\u001b[0;34m\u001b[0m\u001b[0m\n\u001b[1;32m    395\u001b[0m                     \u001b[0;32mif\u001b[0m \u001b[0mhasattr\u001b[0m\u001b[0;34m(\u001b[0m\u001b[0mmapping\u001b[0m\u001b[0;34m,\u001b[0m \u001b[0;34m\"standardize\"\u001b[0m\u001b[0;34m)\u001b[0m \u001b[0;32mand\u001b[0m \u001b[0;32mnot\u001b[0m \u001b[0mhasattr\u001b[0m\u001b[0;34m(\u001b[0m\u001b[0mself\u001b[0m\u001b[0;34m,\u001b[0m \u001b[0;34m\"std_\"\u001b[0m \u001b[0;34m+\u001b[0m \u001b[0mdatasetType\u001b[0m\u001b[0;34m)\u001b[0m\u001b[0;34m:\u001b[0m\u001b[0;34m\u001b[0m\u001b[0m\n",
      "\u001b[0;32m/opt/lsst/software/stack/stack/miniconda3-4.3.21-10a4fa6/Linux64/obs_base/16.0+1/python/lsst/obs/base/mapping.py\u001b[0m in \u001b[0;36mlookup\u001b[0;34m(self, properties, dataId)\u001b[0m\n\u001b[1;32m    265\u001b[0m                 \u001b[0;31m# here we transform that to {(lowKey, highKey): value}\u001b[0m\u001b[0;34m\u001b[0m\u001b[0;34m\u001b[0m\u001b[0m\n\u001b[1;32m    266\u001b[0m                 \u001b[0mlookupDataId\u001b[0m\u001b[0;34m[\u001b[0m\u001b[0;34m(\u001b[0m\u001b[0mself\u001b[0m\u001b[0;34m.\u001b[0m\u001b[0mrange\u001b[0m\u001b[0;34m[\u001b[0m\u001b[0;36m1\u001b[0m\u001b[0;34m]\u001b[0m\u001b[0;34m,\u001b[0m \u001b[0mself\u001b[0m\u001b[0;34m.\u001b[0m\u001b[0mrange\u001b[0m\u001b[0;34m[\u001b[0m\u001b[0;36m2\u001b[0m\u001b[0;34m]\u001b[0m\u001b[0;34m)\u001b[0m\u001b[0;34m]\u001b[0m \u001b[0;34m=\u001b[0m \u001b[0mdataId\u001b[0m\u001b[0;34m[\u001b[0m\u001b[0mself\u001b[0m\u001b[0;34m.\u001b[0m\u001b[0mobsTimeName\u001b[0m\u001b[0;34m]\u001b[0m\u001b[0;34m\u001b[0m\u001b[0m\n\u001b[0;32m--> 267\u001b[0;31m             \u001b[0mresult\u001b[0m \u001b[0;34m=\u001b[0m \u001b[0mself\u001b[0m\u001b[0;34m.\u001b[0m\u001b[0mregistry\u001b[0m\u001b[0;34m.\u001b[0m\u001b[0mlookup\u001b[0m\u001b[0;34m(\u001b[0m\u001b[0mproperties\u001b[0m\u001b[0;34m,\u001b[0m \u001b[0mself\u001b[0m\u001b[0;34m.\u001b[0m\u001b[0mtables\u001b[0m\u001b[0;34m,\u001b[0m \u001b[0mlookupDataId\u001b[0m\u001b[0;34m,\u001b[0m \u001b[0mtemplate\u001b[0m\u001b[0;34m=\u001b[0m\u001b[0mself\u001b[0m\u001b[0;34m.\u001b[0m\u001b[0mtemplate\u001b[0m\u001b[0;34m)\u001b[0m\u001b[0;34m\u001b[0m\u001b[0m\n\u001b[0m\u001b[1;32m    268\u001b[0m         \u001b[0;32mif\u001b[0m \u001b[0;32mnot\u001b[0m \u001b[0mremoved\u001b[0m\u001b[0;34m:\u001b[0m\u001b[0;34m\u001b[0m\u001b[0m\n\u001b[1;32m    269\u001b[0m             \u001b[0;32mreturn\u001b[0m \u001b[0mresult\u001b[0m\u001b[0;34m\u001b[0m\u001b[0m\n",
      "\u001b[0;32m/opt/lsst/software/stack/stack/miniconda3-4.3.21-10a4fa6/Linux64/daf_persistence/16.0/python/lsst/daf/persistence/registries.py\u001b[0m in \u001b[0;36mlookup\u001b[0;34m(self, lookupProperties, reference, dataId, **kwargs)\u001b[0m\n\u001b[1;32m    352\u001b[0m         \u001b[0mcmd\u001b[0m \u001b[0;34m=\u001b[0m \u001b[0;34m\"SELECT DISTINCT \"\u001b[0m\u001b[0;34m\u001b[0m\u001b[0m\n\u001b[1;32m    353\u001b[0m         \u001b[0mcmd\u001b[0m \u001b[0;34m+=\u001b[0m \u001b[0;34m\", \"\u001b[0m\u001b[0;34m.\u001b[0m\u001b[0mjoin\u001b[0m\u001b[0;34m(\u001b[0m\u001b[0mlookupProperties\u001b[0m\u001b[0;34m)\u001b[0m\u001b[0;34m\u001b[0m\u001b[0m\n\u001b[0;32m--> 354\u001b[0;31m         \u001b[0mcmd\u001b[0m \u001b[0;34m+=\u001b[0m \u001b[0;34m\" FROM \"\u001b[0m \u001b[0;34m+\u001b[0m \u001b[0;34m\" NATURAL JOIN \"\u001b[0m\u001b[0;34m.\u001b[0m\u001b[0mjoin\u001b[0m\u001b[0;34m(\u001b[0m\u001b[0mreference\u001b[0m\u001b[0;34m)\u001b[0m\u001b[0;34m\u001b[0m\u001b[0m\n\u001b[0m\u001b[1;32m    355\u001b[0m         \u001b[0mvalueList\u001b[0m \u001b[0;34m=\u001b[0m \u001b[0;34m[\u001b[0m\u001b[0;34m]\u001b[0m\u001b[0;34m\u001b[0m\u001b[0m\n\u001b[1;32m    356\u001b[0m         \u001b[0;32mif\u001b[0m \u001b[0mdataId\u001b[0m \u001b[0;32mis\u001b[0m \u001b[0;32mnot\u001b[0m \u001b[0;32mNone\u001b[0m \u001b[0;32mand\u001b[0m \u001b[0mlen\u001b[0m\u001b[0;34m(\u001b[0m\u001b[0mdataId\u001b[0m\u001b[0;34m)\u001b[0m \u001b[0;34m>\u001b[0m \u001b[0;36m0\u001b[0m\u001b[0;34m:\u001b[0m\u001b[0;34m\u001b[0m\u001b[0m\n",
      "\u001b[0;31mTypeError\u001b[0m: sequence item 0: expected str instance, NoneType found"
     ]
    }
   ],
   "source": [
    "visits = butler.queryMetadata('deepCoadd_mergeDet', ['visit'])\n",
    "pointings = butler.queryMetadata('deepCoadd_mergeDet', ['pointing'])\n",
    "ccds = butler.queryMetadata('deepCoadd_mergeDet', ['ccd'])\n",
    "fields = butler.queryMetadata('deepCoadd_mergeDet', ['field'])\n",
    "filters = butler.queryMetadata('deepCoadd_mergeDet', ['filter'])\n",
    "\n",
    "print(visits, pointings, ccds, fields, filters)"
   ]
  },
  {
   "cell_type": "markdown",
   "metadata": {},
   "source": [
    "Data repositories contain either a `_mapper` file or a `repositoryCfg.yml` file, to record which \"obs package\" was used to organize the data. In the `hsc` case, the `_mapper` file is in the top level folder, while the data repo for each field is a few levels down."
   ]
  },
  {
   "cell_type": "code",
   "execution_count": null,
   "metadata": {},
   "outputs": [],
   "source": [
    "! more /datasets/hsc/repo/_mapper"
   ]
  },
  {
   "cell_type": "markdown",
   "metadata": {},
   "source": [
    "The `HscMapper` mapper class is defined in [HscMapper.py](https://github.com/lsst/obs_subaru/blob/master/python/lsst/obs/hsc/hscMapper.py). Let's read about it."
   ]
  },
  {
   "cell_type": "code",
   "execution_count": 9,
   "metadata": {},
   "outputs": [],
   "source": [
    "from lsst.obs.hsc import HscMapper"
   ]
  },
  {
   "cell_type": "code",
   "execution_count": null,
   "metadata": {},
   "outputs": [],
   "source": [
    "# help(HscMapper)"
   ]
  },
  {
   "cell_type": "markdown",
   "metadata": {},
   "source": [
    "The mapper defines a (large) number of different \"dataset types\". Some of these are specific to this particular data repo, others are more general. Even filtering out some intermediate dataset types, we are still left with a long list. But, once we figure out which dataset types we are interested in, we can start querying for information about those datasets."
   ]
  },
  {
   "cell_type": "code",
   "execution_count": 10,
   "metadata": {},
   "outputs": [
    {
     "name": "stdout",
     "output_type": "stream",
     "text": [
      "['bfKernel', 'bias', 'bias_camera', 'brightObjectMask', 'calexp', 'calexpBackground', 'calexpThumb', 'calexp_bbox', 'calexp_calib', 'calexp_camera', 'calexp_detector', 'calexp_filter', 'calexp_visitInfo', 'calexp_wcs', 'calibrated_exp', 'calibrated_exp_bbox', 'calibrated_exp_calib', 'calibrated_exp_detector', 'calibrated_exp_filter', 'calibrated_exp_visitInfo', 'calibrated_exp_wcs', 'calibrated_src', 'camera', 'ccdExposureId', 'ccdExposureId_bits', 'coaddTempExp', 'coaddTempExp_bbox', 'coaddTempExp_calib', 'coaddTempExp_detector', 'coaddTempExp_filter', 'coaddTempExp_visitInfo', 'coaddTempExp_wcs', 'dark', 'dark_camera', 'dcor', 'dcor_bbox', 'dcor_calib', 'dcor_detector', 'dcor_filter', 'dcor_visitInfo', 'dcor_wcs', 'dcrCoadd', 'dcrCoaddId', 'dcrCoaddId_bits', 'dcrCoadd_bbox', 'dcrCoadd_calexp', 'dcrCoadd_calexp_background', 'dcrCoadd_calexp_bbox', 'dcrCoadd_calexp_calib', 'dcrCoadd_calexp_detector', 'dcrCoadd_calexp_filter', 'dcrCoadd_calexp_visitInfo', 'dcrCoadd_calexp_wcs', 'dcrCoadd_calib', 'dcrCoadd_det', 'dcrCoadd_detector', 'dcrCoadd_directWarp', 'dcrCoadd_directWarp_bbox', 'dcrCoadd_directWarp_calib', 'dcrCoadd_directWarp_detector', 'dcrCoadd_directWarp_filter', 'dcrCoadd_directWarp_visitInfo', 'dcrCoadd_directWarp_wcs', 'dcrCoadd_filter', 'dcrCoadd_forced_src', 'dcrCoadd_meas', 'dcrCoadd_measMatch', 'dcrCoadd_measMatchFull', 'dcrCoadd_mergeDet', 'dcrCoadd_ref', 'dcrCoadd_skyMap', 'dcrCoadd_visitInfo', 'dcrCoadd_wcs', 'dcrMergedCoaddId', 'dcrMergedCoaddId_bits', 'deepCoadd', 'deepCoaddId', 'deepCoaddId_bits', 'deepCoaddPsfMatched', 'deepCoaddPsfMatched_bbox', 'deepCoaddPsfMatched_calib', 'deepCoaddPsfMatched_detector', 'deepCoaddPsfMatched_filter', 'deepCoaddPsfMatched_visitInfo', 'deepCoaddPsfMatched_wcs', 'deepCoadd_bbox', 'deepCoadd_calexp', 'deepCoadd_calexp_background', 'deepCoadd_calexp_bbox', 'deepCoadd_calexp_calib', 'deepCoadd_calexp_detector', 'deepCoadd_calexp_filter', 'deepCoadd_calexp_hsc', 'deepCoadd_calexp_visitInfo', 'deepCoadd_calexp_wcs', 'deepCoadd_calib', 'deepCoadd_det', 'deepCoadd_detector', 'deepCoadd_diff', 'deepCoadd_diff_bbox', 'deepCoadd_diff_calib', 'deepCoadd_diff_detector', 'deepCoadd_diff_filter', 'deepCoadd_diff_visitInfo', 'deepCoadd_diff_wcs', 'deepCoadd_diffsrc', 'deepCoadd_directWarp', 'deepCoadd_directWarp_bbox', 'deepCoadd_directWarp_calib', 'deepCoadd_directWarp_detector', 'deepCoadd_directWarp_filter', 'deepCoadd_directWarp_visitInfo', 'deepCoadd_directWarp_wcs', 'deepCoadd_filter', 'deepCoadd_forced_src', 'deepCoadd_meas', 'deepCoadd_measMatch', 'deepCoadd_measMatchFull', 'deepCoadd_mergeDet', 'deepCoadd_nImage', 'deepCoadd_nImage_bbox', 'deepCoadd_nImage_calib', 'deepCoadd_nImage_detector', 'deepCoadd_nImage_filter', 'deepCoadd_nImage_visitInfo', 'deepCoadd_nImage_wcs', 'deepCoadd_obj', 'deepCoadd_psfMatchedWarp', 'deepCoadd_psfMatchedWarp_bbox', 'deepCoadd_psfMatchedWarp_calib', 'deepCoadd_psfMatchedWarp_detector', 'deepCoadd_psfMatchedWarp_filter', 'deepCoadd_psfMatchedWarp_visitInfo', 'deepCoadd_psfMatchedWarp_wcs', 'deepCoadd_qa', 'deepCoadd_qa_tract', 'deepCoadd_ref', 'deepCoadd_skyMap', 'deepCoadd_tempExp_diff', 'deepCoadd_tempExp_diff_bbox', 'deepCoadd_tempExp_diff_calib', 'deepCoadd_tempExp_diff_detector', 'deepCoadd_tempExp_diff_filter', 'deepCoadd_tempExp_diff_visitInfo', 'deepCoadd_tempExp_diff_wcs', 'deepCoadd_tempExp_diffsrc', 'deepCoadd_visitInfo', 'deepCoadd_wcs', 'deepDiff_diaSrc', 'deepDiff_differenceExp', 'deepDiff_differenceExp_bbox', 'deepDiff_differenceExp_calib', 'deepDiff_differenceExp_detector', 'deepDiff_differenceExp_filter', 'deepDiff_differenceExp_visitInfo', 'deepDiff_differenceExp_wcs', 'deepDiff_kernelSrc', 'deepDiff_matchedExp', 'deepDiff_matchedExp_bbox', 'deepDiff_matchedExp_calib', 'deepDiff_matchedExp_detector', 'deepDiff_matchedExp_filter', 'deepDiff_matchedExp_visitInfo', 'deepDiff_matchedExp_wcs', 'deepMergedCoaddId', 'deepMergedCoaddId_bits', 'defects', 'detj', 'detj_bbox', 'detj_calib', 'detj_detector', 'detj_filter', 'detj_visitInfo', 'detj_wcs', 'donutSrc', 'expIdInfo', 'expMetadata', 'expMetadata_bbox', 'expMetadata_calib', 'expMetadata_detector', 'expMetadata_filter', 'expMetadata_visitInfo', 'expMetadata_wcs', 'fcr', 'fcr_bbox', 'fcr_calib', 'fcr_detector', 'fcr_filter', 'fcr_hsc', 'fcr_hsc_bbox', 'fcr_hsc_calib', 'fcr_hsc_detector', 'fcr_hsc_filter', 'fcr_hsc_visitInfo', 'fcr_hsc_wcs', 'fcr_visitInfo', 'fcr_wcs', 'fgcmAtmosphereParameters', 'fgcmFitParameters', 'fgcmFlaggedStars', 'fgcmLookUpTable', 'fgcmStandardStars', 'fgcmStarIds', 'fgcmStarIndices', 'fgcmStarObservations', 'fgcmVisitCatalog', 'fgcmZeropoints', 'fitsEllPaGrid', 'fitsEllipticityGrid', 'fitsFwhmGrid', 'fitsPsfModelGrid', 'fitsPsfSrcGrid', 'flat', 'flat_camera', 'flattenedImage', 'flattenedImage_bbox', 'flattenedImage_calib', 'flattenedImage_detector', 'flattenedImage_filter', 'flattenedImage_visitInfo', 'flattenedImage_wcs', 'flattenedThumb', 'focusPlot', 'focusSweepPlot', 'forced_src', 'fringe', 'fringe_camera', 'icExp', 'icExpBackground', 'icExp_bbox', 'icExp_calib', 'icExp_detector', 'icExp_filter', 'icExp_visitInfo', 'icExp_wcs', 'icMatch', 'icSrc', 'jointcal_photoCalib', 'jointcal_wcs', 'linearizer', 'log', 'logDir', 'mosaicCalib', 'mosaicCalib_bbox', 'mosaicCalib_calib', 'mosaicCalib_detector', 'mosaicCalib_filter', 'mosaicCalib_visitInfo', 'mosaicCalib_wcs', 'ossImage', 'ossImage_bbox', 'ossImage_calib', 'ossImage_detector', 'ossImage_filter', 'ossImage_visitInfo', 'ossImage_wcs', 'ossThumb', 'packages', 'photoCalib', 'plotCoadd', 'plotColor', 'plotCompareCoadd', 'plotCompareVisit', 'plotEllipseGrid', 'plotEllipseMap', 'plotEllipticityGrid', 'plotEllipticityMap', 'plotFwhmGrid', 'plotMagHist', 'plotPsfModelGrid', 'plotPsfSrcGrid', 'plotSeeingMap', 'plotSeeingRobust', 'plotSeeingRough', 'plotSky', 'plotVisit', 'postISRCCD', 'postISRCCD_bbox', 'postISRCCD_calib', 'postISRCCD_detector', 'postISRCCD_filter', 'postISRCCD_visitInfo', 'postISRCCD_wcs', 'psf', 'qaTableCoadd', 'qaTableColor', 'qaTableVisit', 'raw', 'raw_bbox', 'raw_calib', 'raw_detector', 'raw_filter', 'raw_visitInfo', 'raw_wcs', 'ref_cat', 'revexp', 'revexp_bbox', 'revexp_calib', 'revexp_detector', 'revexp_filter', 'revexp_visitInfo', 'revexp_wcs', 'sky', 'skyCorr', 'sky_camera', 'skypolicy', 'src', 'srcMatch', 'srcMatchFull', 'tableSeeingGrid', 'tableSeeingMap', 'transformed_src', 'transmission_atmosphere', 'transmission_atmosphere_fgcm', 'transmission_filter', 'transmission_optics', 'transmission_sensor', 'verify_job', 'warppsf', 'wcs', 'wcs_bbox', 'wcs_calib', 'wcs_detector', 'wcs_filter', 'wcs_hsc', 'wcs_hsc_bbox', 'wcs_hsc_calib', 'wcs_hsc_detector', 'wcs_hsc_filter', 'wcs_hsc_visitInfo', 'wcs_hsc_wcs', 'wcs_visitInfo', 'wcs_wcs', 'yBackground']\n"
     ]
    }
   ],
   "source": [
    "mapper = HscMapper(root=repo)\n",
    "all_dataset_types = mapper.getDatasetTypes()\n",
    "\n",
    "remove = ['_config', '_filename', '_md', '_sub', '_len', '_schema', '_metadata']\n",
    "\n",
    "shortlist = []\n",
    "for dataset_type in all_dataset_types:\n",
    "    keep = True\n",
    "    for word in remove:\n",
    "        if word in dataset_type:\n",
    "            keep = False\n",
    "    if keep:\n",
    "        shortlist.append(dataset_type)\n",
    "\n",
    "print(shortlist)"
   ]
  },
  {
   "cell_type": "markdown",
   "metadata": {},
   "source": [
    "The `butler` purports to be able to check whether a dataset actually exists or not, but it needs a specific dataset ID to check whether that specific dataset exists. Here's what you get when you pass in a null dataset ID:"
   ]
  },
  {
   "cell_type": "code",
   "execution_count": null,
   "metadata": {},
   "outputs": [],
   "source": [
    "butler.datasetExists('calexp', dataId={})"
   ]
  },
  {
   "cell_type": "markdown",
   "metadata": {},
   "source": [
    "Instead, one can try querying the metadata and checking for an error."
   ]
  },
  {
   "cell_type": "code",
   "execution_count": null,
   "metadata": {},
   "outputs": [],
   "source": [
    "datasettype = 'calexp'\n",
    "\n",
    "try:\n",
    "    datasetkeys = butler.getKeys(datasettype)\n",
    "    onekey = list(datasetkeys.keys())[0]\n",
    "    metadata = butler.queryMetadata(datasettype, [onekey])\n",
    "    print(\"{} dataset exists.\".format(datasettype))\n",
    "except:\n",
    "    print(\"{} dataset doesn't exist.\".format(datasettype))"
   ]
  },
  {
   "cell_type": "markdown",
   "metadata": {},
   "source": [
    "### Basic dataset properties\n",
    "For this dataset, we can look at the filters used, number of visits, number of pointings, etc. by examining the Butler's keys and metadata:"
   ]
  },
  {
   "cell_type": "code",
   "execution_count": null,
   "metadata": {},
   "outputs": [],
   "source": [
    "# Interesting dataset types for the HSC_mapper dataset. \n",
    "datasettypes = ['calexp', 'calexpBackground', 'icSrc', \n",
    "                'src', 'srcMatch', 'srcMatchFull', 'ossImage', \n",
    "                'flattenedImage', 'wcs', 'fcr', 'photoCalib',\n",
    "                'jointcal_wcs', 'jointcal_photoCalib', 'skyCorr',\n",
    "                'calexp_camera', 'brightObjectMask', 'deepCoadd_calexp', \n",
    "                'deepCoadd_det', 'deepCoadd_meas', 'deepCoadd_measMatch', \n",
    "                'deepCoadd_mergeDet', 'deepCoadd_ref', 'deepCoadd_forced_src', \n",
    "                'forced_src' ]"
   ]
  },
  {
   "cell_type": "markdown",
   "metadata": {},
   "source": [
    "For these basic properties, we will look at the `calexp` and `src` tables."
   ]
  },
  {
   "cell_type": "code",
   "execution_count": null,
   "metadata": {},
   "outputs": [],
   "source": [
    "# This would be faster if only one query were issued\n",
    "visits = butler.queryMetadata('calexp', ['visit'])\n",
    "pointings = butler.queryMetadata('calexp', ['pointing'])\n",
    "ccds = butler.queryMetadata('calexp', ['ccd'])\n",
    "fields = butler.queryMetadata('calexp', ['field'])\n",
    "filters = butler.queryMetadata('calexp', ['filter'])\n",
    "\n",
    "# Collect number of objects from Source Catalog\n",
    "sources = butler.queryMetadata('src', ['id'])"
   ]
  },
  {
   "cell_type": "code",
   "execution_count": null,
   "metadata": {},
   "outputs": [],
   "source": [
    "num_visits = len(visits)\n",
    "num_pointings = len(pointings)\n",
    "num_ccds = len(ccds)\n",
    "num_fields = len(fields)\n",
    "num_filters = len(filters)\n",
    "\n",
    "num_sources = len(sources)"
   ]
  },
  {
   "cell_type": "code",
   "execution_count": null,
   "metadata": {},
   "outputs": [],
   "source": [
    "from IPython.display import display, Markdown\n",
    "import numpy as np"
   ]
  },
  {
   "cell_type": "markdown",
   "metadata": {},
   "source": [
    "One key quantity for astronomers is the total sky area imaged. We can estimate this from the coadd tract info."
   ]
  },
  {
   "cell_type": "code",
   "execution_count": null,
   "metadata": {},
   "outputs": [],
   "source": [
    "# Collect tracts from files\n",
    "import os, glob\n",
    "tracts = sorted([int(os.path.basename(x)) for x in\n",
    "                 glob.glob(os.path.join(repo, 'deepCoadd-results', 'merged', '*'))])\n",
    "num_tracts = len(tracts)\n",
    "\n",
    "#Note: I'd like to do this with the butler, but it appears 'tracts' have to be\n",
    "#      specified in the dataId to be queried, so the queryMetadata method fails"
   ]
  },
  {
   "cell_type": "code",
   "execution_count": null,
   "metadata": {},
   "outputs": [],
   "source": [
    "# Calculate area from all tracts\n",
    "skyMap = butler.get('deepCoadd_skyMap')\n",
    "total_area = 0.0  #deg^2\n",
    "plotting_vertices = []\n",
    "for test_tract in tracts:\n",
    "    # Get inner vertices for tract\n",
    "    tractInfo = skyMap[test_tract]\n",
    "    vertices = tractInfo._vertexCoordList\n",
    "    plotting_vertices.append(vertices)\n",
    "    \n",
    "    #calculate area of box\n",
    "    av_dec = 0.5 * (vertices[2][1] + vertices[0][1])\n",
    "    av_dec = av_dec.asRadians()\n",
    "    delta_ra_raw = vertices[0][0] - vertices[1][0] \n",
    "    delta_ra = delta_ra_raw.asDegrees() * np.cos(av_dec)\n",
    "    delta_dec= vertices[2][1] - vertices[0][1]\n",
    "    area = delta_ra * delta_dec.asDegrees()\n",
    "    \n",
    "    #combine areas\n",
    "    total_area += area\n",
    "    \n",
    "print(\"Total area imaged (sq deg): \",total_area)\n",
    "\n",
    "#round total area for table purposes\n",
    "rounded_total_area = round(total_area, 2)\n"
   ]
  },
  {
   "cell_type": "markdown",
   "metadata": {},
   "source": [
    "It might also be interesting to plot the sky coverage while we have the tractInfo...\n",
    "\n",
    "Note that Objects (in the LSST data products definition document sense of the word) can be thought of as being the `coadd_sources` contained in the `deepCoadd_mergeDet` dataset."
   ]
  },
  {
   "cell_type": "code",
   "execution_count": null,
   "metadata": {},
   "outputs": [],
   "source": [
    "# Print out a report of the metadata\n",
    "\n",
    "# dataset_name = 'HSC'\n",
    "# display(Markdown('# Dataset: %s' %dataset_name))\n",
    "\n",
    "# A more automated version of the table title:\n",
    "dataset_name = 'HSC'\n",
    "display(Markdown('### %s' % repo))\n",
    "\n",
    "\n",
    "# Make a table of the collected metadata\n",
    "collected_data = [num_visits, num_pointings, num_ccds, num_fields, num_filters, num_sources, \n",
    "                  num_tracts, rounded_total_area]\n",
    "data_names = (\"Number of Visits\", \"Number of Pointings\", \"Number of CCDs\", \"Number of Fields\", \n",
    "              \"Number of Filters\", \"Number of Sources\", \"Number of Tracts\", \"Total Sky Area (deg$^2$)\")\n",
    "\n",
    "output_table = \"|   Metadata Characteristic  | Value | \\n  | ---: | ---: | \\n \"\n",
    "counter = 0\n",
    "while counter < len(collected_data):\n",
    "    output_table += \"| %s |  %s | \\n\" %(data_names[counter], collected_data[counter])\n",
    "    counter += 1\n",
    "display(Markdown(output_table))\n",
    "\n",
    "# Show which fields and filters we're talking about:\n",
    "display(Markdown('Fields: (%i total)' %num_fields))\n",
    "print(fields)\n",
    "display(Markdown('Filters: (%i total)' %num_filters))\n",
    "print(filters)\n"
   ]
  },
  {
   "cell_type": "markdown",
   "metadata": {},
   "source": [
    "### Plotting the sky coverage\n",
    "\n",
    "For this we will need our list of `tracts` from above, and also the `skyMap` object. We can then extract the sky coordinates of the corners of each tract, and use them to draw a set of rectangles to illustrate the sky coverage, following Jim Chiang's LSST DESC tutorial [dm_butler_skymap.ipynb](https://github.com/LSSTDESC/DC2-analysis/blob/master/tutorials/dm_butler_skymap.ipynb).\n",
    "\n",
    "In the future, we could imagine overlaying the focal plane and color the individual visits, using more of the code from Jim's notebook. Let's see what functionality the Gen3 Butler provides first, and then return to visualization."
   ]
  },
  {
   "cell_type": "code",
   "execution_count": null,
   "metadata": {},
   "outputs": [],
   "source": [
    "# How many tracts do we have?\n",
    "print(\"Found {} tracts\".format(len(tracts)))"
   ]
  },
  {
   "cell_type": "code",
   "execution_count": null,
   "metadata": {},
   "outputs": [],
   "source": [
    "%matplotlib inline\n",
    "import matplotlib.pyplot as plt"
   ]
  },
  {
   "cell_type": "code",
   "execution_count": null,
   "metadata": {},
   "outputs": [],
   "source": [
    "plt.figure()\n",
    "\n",
    "for tract in tracts:\n",
    "    tractInfo = skyMap[tract]\n",
    "        \n",
    "    corners = [(x[0].asDegrees(), x[1].asDegrees()) for x in tractInfo.getVertexList()]\n",
    "    x = [k[0] for k in corners] + [corners[0][0]]\n",
    "    y = [k[1] for k in corners] + [corners[0][1]]\n",
    "    \n",
    "       \n",
    "    plt.plot(x,y, color='b')\n",
    "    \n",
    "plt.xlabel('RA (deg)')\n",
    "plt.ylabel('Dec (deg)')\n",
    "plt.title('2D Projection of Sky Coverage')\n",
    "\n",
    "plt.show()"
   ]
  },
  {
   "cell_type": "markdown",
   "metadata": {},
   "source": [
    "We could imagine plotting the patches as well, to show which tracts were incomplete - but this gives us a rough idea of where our data is on the sky."
   ]
  }
 ],
 "metadata": {
  "kernelspec": {
   "display_name": "LSST",
   "language": "python",
   "name": "lsst"
  },
  "language_info": {
   "codemirror_mode": {
    "name": "ipython",
    "version": 3
   },
   "file_extension": ".py",
   "mimetype": "text/x-python",
   "name": "python",
   "nbconvert_exporter": "python",
   "pygments_lexer": "ipython3",
   "version": "3.6.2"
  }
 },
 "nbformat": 4,
 "nbformat_minor": 2
}
