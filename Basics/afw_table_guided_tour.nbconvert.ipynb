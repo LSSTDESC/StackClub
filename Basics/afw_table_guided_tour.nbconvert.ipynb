{
 "cells": [
  {
   "cell_type": "markdown",
   "metadata": {
    "slideshow": {
     "slide_type": "slide"
    }
   },
   "source": [
    "# afwTables: A Guided Tour\n",
    "<br>Owner(s): **Imran Hasan** ([@ih64](https://github.com/LSSTScienceCollaborations/StackClub/issues/new?body=@ih64))\n",
    "<br>Last Verified to Run: **2020-08-10**\n",
    "<br>Verified Stack Release: **20.0.0**\n",
    "\n",
    "Catalogs of astronomical objects and their many  measurements will be a primary data product that LSST provides. Queries of those catalogs will be the starting point for almost all LSST science analyses. On the way to filling the LSST database with these catalogs, the science pipelines will generate and manipulate a lot of internal tables; the python class that the Stack defines and uses for these tables is called an \"afwTable\". \n",
    "\n",
    "### Learning Objectives:\n",
    "\n",
    "After working through this tutorial you should be able to: \n",
    "1. Make a bare bones afw schema and table;\n",
    "2. Set and get values in a schema and table;\n",
    "3. Navigate large schemas;\n",
    "4. Read and write a source detection catalog table;\n",
    "5. Learn to use source detection catalog methods, and to avoid common pitfalls;\n",
    "6. Learn to use source match vectors.\n",
    "\n",
    "### Logistics\n",
    "This notebook is intended to be runnable on `lsst-lsp-stable.ncsa.illinois.edu` from a local git clone of https://github.com/LSSTScienceCollaborations/StackClub.\n",
    "\n",
    "## Set-up"
   ]
  },
  {
   "cell_type": "markdown",
   "metadata": {},
   "source": [
    "The next few cells give you some options for your \"Set-up\" section - you may not need them all."
   ]
  },
  {
   "cell_type": "markdown",
   "metadata": {},
   "source": [
    "We'll need the `stackclub` package to be installed. If you are not developing this package, you can install it using `pip`, like this:\n",
    "```\n",
    "pip install git+git://github.com/LSSTScienceCollaborations/StackClub.git#egg=stackclub\n",
    "```\n",
    "If you are developing the `stackclub` package (eg by adding modules to it to support the Stack Club tutorial that you are writing, you'll need to make a local, editable installation. In the top level folder of the `StackClub` repo, do:"
   ]
  },
  {
   "cell_type": "code",
   "execution_count": 1,
   "metadata": {},
   "outputs": [
    {
     "name": "stdout",
     "output_type": "stream",
     "text": [
      "/home/kadrlica/notebooks/.beavis/StackClub/Basics\r\n"
     ]
    }
   ],
   "source": [
    "! cd .. && python setup.py -q develop --user && cd -"
   ]
  },
  {
   "cell_type": "markdown",
   "metadata": {},
   "source": [
    "When editing the `stackclub` package files, we want the latest version to be imported when we re-run the import command. To enable this, we need the %autoreload magic command."
   ]
  },
  {
   "cell_type": "code",
   "execution_count": 2,
   "metadata": {},
   "outputs": [],
   "source": [
    "%load_ext autoreload\n",
    "%autoreload 2"
   ]
  },
  {
   "cell_type": "markdown",
   "metadata": {
    "slideshow": {
     "slide_type": "slide"
    }
   },
   "source": [
    "You can find the Stack version that this notebook is running by using eups list -s on the terminal command line:"
   ]
  },
  {
   "cell_type": "code",
   "execution_count": 3,
   "metadata": {},
   "outputs": [
    {
     "name": "stdout",
     "output_type": "stream",
     "text": [
      "nb-kadrlica-r20-0-0\r\n",
      "lsst_distrib          20.0.0     \tcurrent v20_0_0 setup\r\n"
     ]
    }
   ],
   "source": [
    "# What version of the Stack am I using?\n",
    "! echo $HOSTNAME\n",
    "! eups list -s | grep lsst_distrib"
   ]
  },
  {
   "cell_type": "markdown",
   "metadata": {
    "slideshow": {
     "slide_type": "subslide"
    }
   },
   "source": [
    "For this tutorial we'll need the following modules:"
   ]
  },
  {
   "cell_type": "code",
   "execution_count": 4,
   "metadata": {},
   "outputs": [],
   "source": [
    "%matplotlib inline\n",
    "#%matplotlib ipympl\n",
    "\n",
    "import os\n",
    "import warnings\n",
    "import numpy as np\n",
    "import matplotlib as mpl\n",
    "import matplotlib.pyplot as plt\n",
    "plt.style.use('seaborn-poster')\n",
    "from IPython.display import IFrame, display, Markdown\n",
    "plt.style.use('seaborn-talk')"
   ]
  },
  {
   "cell_type": "code",
   "execution_count": 5,
   "metadata": {},
   "outputs": [],
   "source": [
    "plt.style.use('seaborn-talk')\n",
    "import lsst.daf.persistence as dafPersist\n",
    "import lsst.daf.base as dafBase\n",
    "import lsst.geom\n",
    "import lsst.afw.table as afwTable\n",
    "from astropy.io import ascii"
   ]
  },
  {
   "cell_type": "markdown",
   "metadata": {
    "slideshow": {
     "slide_type": "slide"
    }
   },
   "source": [
    "## Your first table\n",
    "\n",
    "To begin, we will make a bare-bones afw table so that we can clearly showcase some important concepts. First we will make the simplest possible table, by hand. While creating tables by hand will not likely be the standard use case, it is useful from a tutorial standpoint, as it will allow us to excercise some concepts one at a time"
   ]
  },
  {
   "cell_type": "code",
   "execution_count": 6,
   "metadata": {
    "slideshow": {
     "slide_type": "-"
    }
   },
   "outputs": [],
   "source": [
    "# afw tables need a schema to tell the table how its data are organized\n",
    "# Lets have a look at a simple schema:\n",
    "min_schema = afwTable.SourceTable.makeMinimalSchema()"
   ]
  },
  {
   "cell_type": "code",
   "execution_count": 7,
   "metadata": {},
   "outputs": [
    {
     "name": "stdout",
     "output_type": "stream",
     "text": [
      "Schema(\n",
      "    (Field['L'](name=\"id\", doc=\"unique ID\"), Key<L>(offset=0, nElements=1)),\n",
      "    (Field['Angle'](name=\"coord_ra\", doc=\"position in ra/dec\"), Key<Angle>(offset=8, nElements=1)),\n",
      "    (Field['Angle'](name=\"coord_dec\", doc=\"position in ra/dec\"), Key<Angle>(offset=16, nElements=1)),\n",
      "    (Field['L'](name=\"parent\", doc=\"unique ID of parent source\"), Key<L>(offset=24, nElements=1)),\n",
      ")\n",
      "\n"
     ]
    }
   ],
   "source": [
    "# But what is the schema exactly? Printing it out can be informative\n",
    "print(min_schema)"
   ]
  },
  {
   "cell_type": "markdown",
   "metadata": {},
   "source": [
    "Our schema contains 4 Fields: one for each celestial coordinate, an id that uniquely defines it, and a 'parent', which lists the id of the source this source was deblended from. We will deal with the parent column in more detail in a few cells, but for now you can ignore it.\n",
    "\n",
    "Each field has some accompanying information to go along with it. In addition to its name, we get a helpful docstring describing it. We also get the units that values for this field must have. For example, any value associated with the id key has to be a long integer, and all entries for celestial coordniates have to be instances of an Angle class. We will showcase the Angle class shortly.\n",
    "\n",
    "If printing out the schema gives you more information that you want, you can get the names. If the names are informative enough, this might be all you need."
   ]
  },
  {
   "cell_type": "code",
   "execution_count": 8,
   "metadata": {},
   "outputs": [
    {
     "data": {
      "text/plain": [
       "{'coord_dec', 'coord_ra', 'id', 'parent'}"
      ]
     },
     "execution_count": 8,
     "metadata": {},
     "output_type": "execute_result"
    }
   ],
   "source": [
    "min_schema.getNames()"
   ]
  },
  {
   "cell_type": "code",
   "execution_count": 9,
   "metadata": {},
   "outputs": [
    {
     "name": "stdout",
     "output_type": "stream",
     "text": [
      "Schema(\n",
      "    (Field['L'](name=\"id\", doc=\"unique ID\"), Key<L>(offset=0, nElements=1)),\n",
      "    (Field['Angle'](name=\"coord_ra\", doc=\"position in ra/dec\"), Key<Angle>(offset=8, nElements=1)),\n",
      "    (Field['Angle'](name=\"coord_dec\", doc=\"position in ra/dec\"), Key<Angle>(offset=16, nElements=1)),\n",
      "    (Field['L'](name=\"parent\", doc=\"unique ID of parent source\"), Key<L>(offset=24, nElements=1)),\n",
      "    (Field['F'](name=\"r_mag\", doc=\"r band flux\", units=\"mag\"), Key<F>(offset=32, nElements=1)),\n",
      ")\n",
      "\n"
     ]
    }
   ],
   "source": [
    "# We can also add another field to the schema, using a call pattern like this:\n",
    "min_schema.addField(\"r_mag\", type=np.float32, doc=\"r band flux\", units=\"mag\")\n",
    "# Lets make sure the field was added by printing out the schema once more:\n",
    "print(min_schema)"
   ]
  },
  {
   "cell_type": "markdown",
   "metadata": {},
   "source": [
    "You can also ask for a ordered list of names. In this case where our schema contains only 4 names, there is not a clear advantage. However, we will soon encounter schemas that contain many dozens of names. Sifting through a ordered list of these may be preferable. The ordering here is not alphabetical, but instead mirrors the ordering of these fields in the schema. You can check that is the case by comparing the ordering of output in the next cell to the one above"
   ]
  },
  {
   "cell_type": "code",
   "execution_count": 10,
   "metadata": {},
   "outputs": [
    {
     "data": {
      "text/plain": [
       "['id', 'coord_ra', 'coord_dec', 'parent', 'r_mag']"
      ]
     },
     "execution_count": 10,
     "metadata": {},
     "output_type": "execute_result"
    }
   ],
   "source": [
    "min_schema.getOrderedNames()"
   ]
  },
  {
   "cell_type": "markdown",
   "metadata": {},
   "source": [
    "> We pause here to point out some caveats. \n",
    "1. Schemas are append only. You can add new fields, but you cannot remove them. \n",
    "2. The units you use have to be understood by astropy. You can find a list of acceptable units at the bottom of this page http://docs.astropy.org/en/stable/units/index.html#module-astropy.units\n",
    "3. Specific types are allowed. The short and long of it is you may use floats, ints, longs, strings, Angle objects, and arrays. For more details you can go to the bottom of this page http://doxygen.lsst.codes/stack/doxygen/x_masterDoxyDoc/afw_table.html"
   ]
  },
  {
   "cell_type": "markdown",
   "metadata": {},
   "source": [
    "Now that we have a schema, we can use it to make a table.\n"
   ]
  },
  {
   "cell_type": "code",
   "execution_count": 11,
   "metadata": {},
   "outputs": [
    {
     "name": "stdout",
     "output_type": "stream",
     "text": [
      "our minimal table has 0 rows\n"
     ]
    }
   ],
   "source": [
    "min_table = afwTable.BaseCatalog(min_schema)\n",
    "# our table is empty, and we can check this by looking at its length\n",
    "print('our minimal table has {} rows'.format(len(min_table)))"
   ]
  },
  {
   "cell_type": "markdown",
   "metadata": {},
   "source": [
    "Now we will add some data to our minimal catalog. Catalogs are collections of 'records', which themselves contain data. Therefore, we must first create records, and hand those records over in turn to our Table. Records must adhere to the schema that the Table has, and so we must add data in field by field."
   ]
  },
  {
   "cell_type": "code",
   "execution_count": 12,
   "metadata": {},
   "outputs": [],
   "source": [
    "# make a new record.\n",
    "rec = min_table.addNew()"
   ]
  },
  {
   "cell_type": "code",
   "execution_count": 13,
   "metadata": {},
   "outputs": [
    {
     "data": {
      "text/plain": [
       "dict_keys(['id', 'coord_ra', 'coord_dec', 'parent', 'r_mag'])"
      ]
     },
     "execution_count": 13,
     "metadata": {},
     "output_type": "execute_result"
    }
   ],
   "source": [
    "# grab a hold of the keys for the record. We will use these to add data \n",
    "field_dict = min_schema.extract('*') #this returns a dictionary of all the fields\n",
    "field_dict.keys()"
   ]
  },
  {
   "cell_type": "code",
   "execution_count": 14,
   "metadata": {},
   "outputs": [],
   "source": [
    "# access the dictionary one field at a time, and grab each field's key. \n",
    "# note these are instances of a Key object, and not to be confused with python dictionary keys.\n",
    "id_key = field_dict['id'].key\n",
    "ra_key = field_dict['coord_ra'].key\n",
    "dec_key = field_dict['coord_dec'].key\n",
    "parent_key = field_dict['parent'].key\n",
    "r_mag_key = field_dict['r_mag'].key\n",
    "\n",
    "#use the keys to add data in our record\n",
    "rec.set(id_key, 1)\n",
    "rec.set(r_mag_key, 19.0)\n",
    "rec.set(ra_key, lsst.geom.Angle(.2, units=lsst.geom.radians))\n",
    "rec.set(dec_key, lsst.geom.Angle(-3.14, units=lsst.geom.radians))\n",
    "rec.set(parent_key, 0)"
   ]
  },
  {
   "cell_type": "markdown",
   "metadata": {},
   "source": [
    "Notice to set the ra and dec, we needed to create `geom.Angle` objects for them. The object contains both the value of the angle, and the units the angle is in. The units keyword is set to radians by default, and all the DM code works on radians internally. To keep consistency with this, it is largely considered good pratice to work in radians too, setting the keyword for clarity. \n",
    "\n",
    "If you insisted that the angle be in other units, you can set them using the the units keyword. Other typical choices are degrees, arcminutes, arcseconds. You can learn more about `lsst.geom.Angle` objects [here]( http://doxygen.lsst.codes/stack/doxygen/x_masterDoxyDoc/classlsst_1_1geom_1_1_angle.html)\n",
    "\n",
    "Additionally, we set the parent to zero. This means this record refers to the object before any deblending occoured. Lets look at our table now to see how it stands."
   ]
  },
  {
   "cell_type": "code",
   "execution_count": 15,
   "metadata": {},
   "outputs": [
    {
     "data": {
      "text/plain": [
       "<class 'lsst.afw.table.BaseCatalog'>\n",
       " id coord_ra coord_dec parent r_mag\n",
       "      rad       rad            mag \n",
       "--- -------- --------- ------ -----\n",
       "  1      0.2     -3.14      0  19.0"
      ]
     },
     "execution_count": 15,
     "metadata": {},
     "output_type": "execute_result"
    }
   ],
   "source": [
    "min_table"
   ]
  },
  {
   "cell_type": "markdown",
   "metadata": {},
   "source": [
    "We will flesh out the parent column a bit more by adding our next record. Notice we can keep using the keys we defined above. Also notice our second record's parent is listed as 1. This means the object 2 was the result of being deblended from object 1, i.e. object 2 is a child object of object 1."
   ]
  },
  {
   "cell_type": "code",
   "execution_count": 16,
   "metadata": {},
   "outputs": [
    {
     "data": {
      "text/plain": [
       "<class 'lsst.afw.table.BaseCatalog'>\n",
       " id coord_ra coord_dec parent r_mag\n",
       "      rad       rad            mag \n",
       "--- -------- --------- ------ -----\n",
       "  1      0.2     -3.14      0  19.0\n",
       "  2     3.14       2.0      1  18.5"
      ]
     },
     "execution_count": 16,
     "metadata": {},
     "output_type": "execute_result"
    }
   ],
   "source": [
    "rec = min_table.addNew()\n",
    "rec.set(id_key, 2)\n",
    "rec.set(r_mag_key, 18.5)\n",
    "rec.set(ra_key, lsst.geom.Angle(3.14, units=lsst.geom.radians))\n",
    "rec.set(dec_key, lsst.geom.Angle(2.0, units=lsst.geom.radians))\n",
    "rec.set(parent_key, 1)\n",
    "min_table"
   ]
  },
  {
   "cell_type": "markdown",
   "metadata": {},
   "source": [
    "One more caveat to note: in the output in the cell above, the table prints coordinates in radians by default"
   ]
  },
  {
   "cell_type": "code",
   "execution_count": 17,
   "metadata": {},
   "outputs": [],
   "source": [
    "# your turn. add one more record to our table\n",
    "\n"
   ]
  },
  {
   "cell_type": "code",
   "execution_count": 18,
   "metadata": {},
   "outputs": [
    {
     "data": {
      "text/plain": [
       "<class 'lsst.afw.table.BaseRecord'>\n",
       "id: 2\n",
       "coord_ra: 3.14 rad\n",
       "coord_dec: 2 rad\n",
       "parent: 1\n",
       "r_mag: 18.5"
      ]
     },
     "execution_count": 18,
     "metadata": {},
     "output_type": "execute_result"
    }
   ],
   "source": [
    "# now that we have multiple records in our table, we can select particular ones\n",
    "# tables support indexing\n",
    "min_table[1]"
   ]
  },
  {
   "cell_type": "code",
   "execution_count": 19,
   "metadata": {},
   "outputs": [
    {
     "name": "stdout",
     "output_type": "stream",
     "text": [
      "1\n",
      "2\n"
     ]
    }
   ],
   "source": [
    "# you may iterate over them too\n",
    "for rec in min_table:\n",
    "    print(rec.get(id_key))"
   ]
  },
  {
   "cell_type": "code",
   "execution_count": 20,
   "metadata": {},
   "outputs": [
    {
     "data": {
      "text/plain": [
       "2"
      ]
     },
     "execution_count": 20,
     "metadata": {},
     "output_type": "execute_result"
    }
   ],
   "source": [
    "# you can grab values from particular records by using our schema keys\n",
    "min_table[1].get(id_key)"
   ]
  },
  {
   "cell_type": "markdown",
   "metadata": {},
   "source": [
    "## Using source catalogs produced by DM\n",
    "\n",
    "A more typical use case will be to read in a catalog that is produced by a DM process. We will show how to read in and work with a source catalog from the Twinkles data in the following section. "
   ]
  },
  {
   "cell_type": "markdown",
   "metadata": {},
   "source": [
    "### Data access\n",
    "If you know the path to your source catalog, there is a quick way to read it in. However, it is often more powerful to use the 'data butler' to fetch data for you. The butler knows about camera geometry, sensor characteristics, where data are located, and so forth. Having this anciliary information on hand is often very useful. For completeness we will demonstrate both ways of reading in a source catalog, with the note that it is largely considered better practice to use the data butler. \n",
    "\n",
    "The data butler has its own tutorial(s), and so we will defer further details on it until later. For now, you may think of it as an abstraction that allows you to quickly fetch catalogs for you. The user just needs to point the butler to where to look and what to look for."
   ]
  },
  {
   "cell_type": "code",
   "execution_count": 21,
   "metadata": {},
   "outputs": [],
   "source": [
    "#our data directory containing some HSC data organized as Butler expects\n",
    "file_path = '/datasets/hsc/repo/rerun/RC/v20_0_0_rc1/DM-25349-sfm/01327/HSC-Z/output/SRC-0038938-032.fits'\n",
    "source_cat = afwTable.SourceCatalog.readFits(file_path)"
   ]
  },
  {
   "cell_type": "code",
   "execution_count": 22,
   "metadata": {},
   "outputs": [],
   "source": [
    "# here's the way to get the same catalog with a butler:\n",
    "datadir = \"/datasets/hsc/repo/rerun/RC/v20_0_0_rc1/DM-25349/\"   \n",
    "butler = dafPersist.Butler(datadir)\n",
    "#Define a dictionary with the filter, ccd, and visit we wish to view\n",
    "dataId = {'filter': 'HSC-Z', 'ccd': 32, 'visit': 38938} \n",
    "# use the dataId and the 'src' to get the source catalog. \n",
    "source_cat = butler.get('src', **dataId)"
   ]
  },
  {
   "cell_type": "markdown",
   "metadata": {},
   "source": [
    "You can find the path to the file again with the `butler.getURI` function"
   ]
  },
  {
   "cell_type": "code",
   "execution_count": 23,
   "metadata": {},
   "outputs": [
    {
     "data": {
      "text/plain": [
       "'/datasets/hsc/repo/rerun/RC/v20_0_0_rc1/DM-25349-sfm/01327/HSC-Z/output/SRC-0038938-032.fits'"
      ]
     },
     "execution_count": 23,
     "metadata": {},
     "output_type": "execute_result"
    }
   ],
   "source": [
    "butler.getUri('src', **dataId)"
   ]
  },
  {
   "cell_type": "markdown",
   "metadata": {},
   "source": [
    "A few comments are in order on questions you may be having about the butler, and the previous cell. First, there is no good way to know which `dataId`s exist. That means you have to know ahead of time which `dataId`s it makes sense to use. DM is working hard on fixing this. Second, the string `'src'` refers to a very specific data product in the DM philosophy, which is a catalog that contains _the results of different measurement algorithms on detected sources on an individual CCD image_. We will meet some other catalogs later in the tutorial. For now, lets get to know this `src` catalog."
   ]
  },
  {
   "cell_type": "markdown",
   "metadata": {},
   "source": [
    "### afw source catalog schemas"
   ]
  },
  {
   "cell_type": "code",
   "execution_count": 24,
   "metadata": {},
   "outputs": [
    {
     "data": {
      "text/plain": [
       "Schema(\n",
       "    (Field['L'](name=\"id\", doc=\"unique ID\"), Key<L>(offset=0, nElements=1)),\n",
       "    (Field['Angle'](name=\"coord_ra\", doc=\"position in ra/dec\"), Key<Angle>(offset=8, nElements=1)),\n",
       "    (Field['Angle'](name=\"coord_dec\", doc=\"position in ra/dec\"), Key<Angle>(offset=16, nElements=1)),\n",
       "    (Field['L'](name=\"parent\", doc=\"unique ID of parent source\"), Key<L>(offset=24, nElements=1)),\n",
       "    (Field['Flag'](name=\"calib_detected\", doc=\"Source was detected as an icSource\"), Key['Flag'](offset=32, bit=0)),\n",
       "    (Field['Flag'](name=\"calib_psf_candidate\", doc=\"Flag set if the source was a candidate for PSF determination, as determined by the star selector.\"), Key['Flag'](offset=32, bit=1)),\n",
       "    (Field['Flag'](name=\"calib_psf_used\", doc=\"Flag set if the source was actually used for PSF determination, as determined by the\"), Key['Flag'](offset=32, bit=2)),\n",
       "    (Field['Flag'](name=\"calib_psf_reserved\", doc=\"set if source was reserved from PSF determination\"), Key['Flag'](offset=32, bit=3)),\n",
       "    (Field['I'](name=\"deblend_nChild\", doc=\"Number of children this object has (defaults to 0)\"), Key<I>(offset=40, nElements=1)),\n",
       "    (Field['Flag'](name=\"deblend_deblendedAsPsf\", doc=\"Deblender thought this source looked like a PSF\"), Key['Flag'](offset=32, bit=4)),\n",
       "    (Field['D'](name=\"deblend_psfCenter_x\", doc=\"If deblended-as-psf, the PSF centroid\", units=\"pixel\"), Key<D>(offset=48, nElements=1)),\n",
       "    (Field['D'](name=\"deblend_psfCenter_y\", doc=\"If deblended-as-psf, the PSF centroid\", units=\"pixel\"), Key<D>(offset=56, nElements=1)),\n",
       "    (Field['D'](name=\"deblend_psf_instFlux\", doc=\"If deblended-as-psf, the instrumental PSF flux\", units=\"count\"), Key<D>(offset=64, nElements=1)),\n",
       "    (Field['Flag'](name=\"deblend_tooManyPeaks\", doc=\"Source had too many peaks; only the brightest were included\"), Key['Flag'](offset=32, bit=5)),\n",
       "    (Field['Flag'](name=\"deblend_parentTooBig\", doc=\"Parent footprint covered too many pixels\"), Key['Flag'](offset=32, bit=6)),\n",
       "    (Field['Flag'](name=\"deblend_masked\", doc=\"Parent footprint was predominantly masked\"), Key['Flag'](offset=32, bit=7)),\n",
       "    (Field['Flag'](name=\"deblend_skipped\", doc=\"Deblender skipped this source\"), Key['Flag'](offset=32, bit=8)),\n",
       "    (Field['Flag'](name=\"deblend_rampedTemplate\", doc=\"This source was near an image edge and the deblender used \"ramp\" edge-handling.\"), Key['Flag'](offset=32, bit=9)),\n",
       "    (Field['Flag'](name=\"deblend_patchedTemplate\", doc=\"This source was near an image edge and the deblender used \"patched\" edge-handling.\"), Key['Flag'](offset=32, bit=10)),\n",
       "    (Field['Flag'](name=\"deblend_hasStrayFlux\", doc=\"This source was assigned some stray flux\"), Key['Flag'](offset=32, bit=11)),\n",
       "    (Field['Flag'](name=\"sky_source\", doc=\"Sky objects.\"), Key['Flag'](offset=32, bit=12)),\n",
       "    (Field['D'](name=\"base_NaiveCentroid_x\", doc=\"centroid from Naive Centroid algorithm\", units=\"pixel\"), Key<D>(offset=72, nElements=1)),\n",
       "    (Field['D'](name=\"base_NaiveCentroid_y\", doc=\"centroid from Naive Centroid algorithm\", units=\"pixel\"), Key<D>(offset=80, nElements=1)),\n",
       "    (Field['Flag'](name=\"base_NaiveCentroid_flag\", doc=\"General Failure Flag\"), Key['Flag'](offset=32, bit=13)),\n",
       "    (Field['Flag'](name=\"base_NaiveCentroid_flag_noCounts\", doc=\"Object to be centroided has no counts\"), Key['Flag'](offset=32, bit=14)),\n",
       "    (Field['Flag'](name=\"base_NaiveCentroid_flag_edge\", doc=\"Object too close to edge\"), Key['Flag'](offset=32, bit=15)),\n",
       "    (Field['Flag'](name=\"base_NaiveCentroid_flag_resetToPeak\", doc=\"set if CentroidChecker reset the centroid\"), Key['Flag'](offset=32, bit=16)),\n",
       "    (Field['D'](name=\"base_SdssCentroid_x\", doc=\"centroid from Sdss Centroid algorithm\", units=\"pixel\"), Key<D>(offset=88, nElements=1)),\n",
       "    (Field['D'](name=\"base_SdssCentroid_y\", doc=\"centroid from Sdss Centroid algorithm\", units=\"pixel\"), Key<D>(offset=96, nElements=1)),\n",
       "    (Field['F'](name=\"base_SdssCentroid_xErr\", doc=\"1-sigma uncertainty on x position\", units=\"pixel\"), Key<F>(offset=104, nElements=1)),\n",
       "    (Field['F'](name=\"base_SdssCentroid_yErr\", doc=\"1-sigma uncertainty on y position\", units=\"pixel\"), Key<F>(offset=108, nElements=1)),\n",
       "    (Field['Flag'](name=\"base_SdssCentroid_flag\", doc=\"General Failure Flag\"), Key['Flag'](offset=32, bit=17)),\n",
       "    (Field['Flag'](name=\"base_SdssCentroid_flag_edge\", doc=\"Object too close to edge\"), Key['Flag'](offset=32, bit=18)),\n",
       "    (Field['Flag'](name=\"base_SdssCentroid_flag_noSecondDerivative\", doc=\"Vanishing second derivative\"), Key['Flag'](offset=32, bit=19)),\n",
       "    (Field['Flag'](name=\"base_SdssCentroid_flag_almostNoSecondDerivative\", doc=\"Almost vanishing second derivative\"), Key['Flag'](offset=32, bit=20)),\n",
       "    (Field['Flag'](name=\"base_SdssCentroid_flag_notAtMaximum\", doc=\"Object is not at a maximum\"), Key['Flag'](offset=32, bit=21)),\n",
       "    (Field['Flag'](name=\"base_SdssCentroid_flag_resetToPeak\", doc=\"set if CentroidChecker reset the centroid\"), Key['Flag'](offset=32, bit=22)),\n",
       "    (Field['Flag'](name=\"base_SdssCentroid_flag_badError\", doc=\"Error on x and/or y position is NaN\"), Key['Flag'](offset=32, bit=23)),\n",
       "    (Field['D'](name=\"base_Blendedness_old\", doc=\"Blendedness from dot products: (child.dot(parent)/child.dot(child) - 1)\"), Key<D>(offset=112, nElements=1)),\n",
       "    (Field['D'](name=\"base_Blendedness_raw\", doc=\"Measure of how much the flux is affected by neighbors: (1 - child_instFlux/parent_instFlux).  Operates on the \"raw\" pixel values.\"), Key<D>(offset=120, nElements=1)),\n",
       "    (Field['D'](name=\"base_Blendedness_raw_child_instFlux\", doc=\"Instrumental flux of the child, measured with a Gaussian weight matched to the child.  Operates on the \"raw\" pixel values.\", units=\"count\"), Key<D>(offset=128, nElements=1)),\n",
       "    (Field['D'](name=\"base_Blendedness_raw_parent_instFlux\", doc=\"Instrumental flux of the parent, measured with a Gaussian weight matched to the child.  Operates on the \"raw\" pixel values.\", units=\"count\"), Key<D>(offset=136, nElements=1)),\n",
       "    (Field['D'](name=\"base_Blendedness_abs\", doc=\"Measure of how much the flux is affected by neighbors: (1 - child_instFlux/parent_instFlux).  Operates on the absolute value of the pixels to try to obtain a \"de-noised\" value.  See section 4.9.11 of Bosch et al. 2018, PASJ, 70, S5 for details.\"), Key<D>(offset=144, nElements=1)),\n",
       "    (Field['D'](name=\"base_Blendedness_abs_child_instFlux\", doc=\"Instrumental flux of the child, measured with a Gaussian weight matched to the child.  Operates on the absolute value of the pixels to try to obtain a \"de-noised\" value.  See section 4.9.11 of Bosch et al. 2018, PASJ, 70, S5 for details.\", units=\"count\"), Key<D>(offset=152, nElements=1)),\n",
       "    (Field['D'](name=\"base_Blendedness_abs_parent_instFlux\", doc=\"Instrumental flux of the parent, measured with a Gaussian weight matched to the child.  Operates on the absolute value of the pixels to try to obtain a \"de-noised\" value.  See section 4.9.11 of Bosch et al. 2018, PASJ, 70, S5 for details.\", units=\"count\"), Key<D>(offset=160, nElements=1)),\n",
       "    (Field['D'](name=\"base_Blendedness_raw_child_xx\", doc=\"Shape of the child, measured with a Gaussian weight matched to the child.  Operates on the \"raw\" pixel values.\", units=\"pixel^2\"), Key<D>(offset=168, nElements=1)),\n",
       "    (Field['D'](name=\"base_Blendedness_raw_child_yy\", doc=\"Shape of the child, measured with a Gaussian weight matched to the child.  Operates on the \"raw\" pixel values.\", units=\"pixel^2\"), Key<D>(offset=176, nElements=1)),\n",
       "    (Field['D'](name=\"base_Blendedness_raw_child_xy\", doc=\"Shape of the child, measured with a Gaussian weight matched to the child.  Operates on the \"raw\" pixel values.\", units=\"pixel^2\"), Key<D>(offset=184, nElements=1)),\n",
       "    (Field['D'](name=\"base_Blendedness_raw_parent_xx\", doc=\"Shape of the parent, measured with a Gaussian weight matched to the child.  Operates on the \"raw\" pixel values.\", units=\"pixel^2\"), Key<D>(offset=192, nElements=1)),\n",
       "    (Field['D'](name=\"base_Blendedness_raw_parent_yy\", doc=\"Shape of the parent, measured with a Gaussian weight matched to the child.  Operates on the \"raw\" pixel values.\", units=\"pixel^2\"), Key<D>(offset=200, nElements=1)),\n",
       "    (Field['D'](name=\"base_Blendedness_raw_parent_xy\", doc=\"Shape of the parent, measured with a Gaussian weight matched to the child.  Operates on the \"raw\" pixel values.\", units=\"pixel^2\"), Key<D>(offset=208, nElements=1)),\n",
       "    (Field['D'](name=\"base_Blendedness_abs_child_xx\", doc=\"Shape of the child, measured with a Gaussian weight matched to the child.  Operates on the absolute value of the pixels to try to obtain a \"de-noised\" value.  See section 4.9.11 of Bosch et al. 2018, PASJ, 70, S5 for details.\", units=\"pixel^2\"), Key<D>(offset=216, nElements=1)),\n",
       "    (Field['D'](name=\"base_Blendedness_abs_child_yy\", doc=\"Shape of the child, measured with a Gaussian weight matched to the child.  Operates on the absolute value of the pixels to try to obtain a \"de-noised\" value.  See section 4.9.11 of Bosch et al. 2018, PASJ, 70, S5 for details.\", units=\"pixel^2\"), Key<D>(offset=224, nElements=1)),\n",
       "    (Field['D'](name=\"base_Blendedness_abs_child_xy\", doc=\"Shape of the child, measured with a Gaussian weight matched to the child.  Operates on the absolute value of the pixels to try to obtain a \"de-noised\" value.  See section 4.9.11 of Bosch et al. 2018, PASJ, 70, S5 for details.\", units=\"pixel^2\"), Key<D>(offset=232, nElements=1)),\n",
       "    (Field['D'](name=\"base_Blendedness_abs_parent_xx\", doc=\"Shape of the parent, measured with a Gaussian weight matched to the child.  Operates on the absolute value of the pixels to try to obtain a \"de-noised\" value.  See section 4.9.11 of Bosch et al. 2018, PASJ, 70, S5 for details.\", units=\"pixel^2\"), Key<D>(offset=240, nElements=1)),\n",
       "    (Field['D'](name=\"base_Blendedness_abs_parent_yy\", doc=\"Shape of the parent, measured with a Gaussian weight matched to the child.  Operates on the absolute value of the pixels to try to obtain a \"de-noised\" value.  See section 4.9.11 of Bosch et al. 2018, PASJ, 70, S5 for details.\", units=\"pixel^2\"), Key<D>(offset=248, nElements=1)),\n",
       "    (Field['D'](name=\"base_Blendedness_abs_parent_xy\", doc=\"Shape of the parent, measured with a Gaussian weight matched to the child.  Operates on the absolute value of the pixels to try to obtain a \"de-noised\" value.  See section 4.9.11 of Bosch et al. 2018, PASJ, 70, S5 for details.\", units=\"pixel^2\"), Key<D>(offset=256, nElements=1)),\n",
       "    (Field['Flag'](name=\"base_Blendedness_flag\", doc=\"General Failure Flag\"), Key['Flag'](offset=32, bit=24)),\n",
       "    (Field['Flag'](name=\"base_Blendedness_flag_noCentroid\", doc=\"Object has no centroid\"), Key['Flag'](offset=32, bit=25)),\n",
       "    (Field['Flag'](name=\"base_Blendedness_flag_noShape\", doc=\"Object has no shape\"), Key['Flag'](offset=32, bit=26)),\n",
       "    (Field['D'](name=\"base_FPPosition_x\", doc=\"Position on the focal plane\", units=\"mm\"), Key<D>(offset=264, nElements=1)),\n",
       "    (Field['D'](name=\"base_FPPosition_y\", doc=\"Position on the focal plane\", units=\"mm\"), Key<D>(offset=272, nElements=1)),\n",
       "    (Field['Flag'](name=\"base_FPPosition_flag\", doc=\"Set to True for any fatal failure\"), Key['Flag'](offset=32, bit=27)),\n",
       "    (Field['Flag'](name=\"base_FPPosition_missingDetector_flag\", doc=\"Set to True if detector object is missing\"), Key['Flag'](offset=32, bit=28)),\n",
       "    (Field['D'](name=\"base_Jacobian_value\", doc=\"Jacobian correction\"), Key<D>(offset=280, nElements=1)),\n",
       "    (Field['Flag'](name=\"base_Jacobian_flag\", doc=\"Set to 1 for any fatal failure\"), Key['Flag'](offset=32, bit=29)),\n",
       "    (Field['D'](name=\"base_SdssShape_xx\", doc=\"elliptical Gaussian adaptive moments\", units=\"pixel^2\"), Key<D>(offset=288, nElements=1)),\n",
       "    (Field['D'](name=\"base_SdssShape_yy\", doc=\"elliptical Gaussian adaptive moments\", units=\"pixel^2\"), Key<D>(offset=296, nElements=1)),\n",
       "    (Field['D'](name=\"base_SdssShape_xy\", doc=\"elliptical Gaussian adaptive moments\", units=\"pixel^2\"), Key<D>(offset=304, nElements=1)),\n",
       "    (Field['F'](name=\"base_SdssShape_xxErr\", doc=\"Standard deviation of xx moment\", units=\"pixel^2\"), Key<F>(offset=312, nElements=1)),\n",
       "    (Field['F'](name=\"base_SdssShape_yyErr\", doc=\"Standard deviation of yy moment\", units=\"pixel^2\"), Key<F>(offset=316, nElements=1)),\n",
       "    (Field['F'](name=\"base_SdssShape_xyErr\", doc=\"Standard deviation of xy moment\", units=\"pixel^2\"), Key<F>(offset=320, nElements=1)),\n",
       "    (Field['D'](name=\"base_SdssShape_x\", doc=\"elliptical Gaussian adaptive moments\", units=\"pixel\"), Key<D>(offset=328, nElements=1)),\n",
       "    (Field['D'](name=\"base_SdssShape_y\", doc=\"elliptical Gaussian adaptive moments\", units=\"pixel\"), Key<D>(offset=336, nElements=1)),\n",
       "    (Field['D'](name=\"base_SdssShape_instFlux\", doc=\"elliptical Gaussian adaptive moments\", units=\"count\"), Key<D>(offset=344, nElements=1)),\n",
       "    (Field['D'](name=\"base_SdssShape_instFluxErr\", doc=\"1-sigma instFlux uncertainty\", units=\"count\"), Key<D>(offset=352, nElements=1)),\n",
       "    (Field['D'](name=\"base_SdssShape_psf_xx\", doc=\"adaptive moments of the PSF model at the object position\", units=\"pixel^2\"), Key<D>(offset=360, nElements=1)),\n",
       "    (Field['D'](name=\"base_SdssShape_psf_yy\", doc=\"adaptive moments of the PSF model at the object position\", units=\"pixel^2\"), Key<D>(offset=368, nElements=1)),\n",
       "    (Field['D'](name=\"base_SdssShape_psf_xy\", doc=\"adaptive moments of the PSF model at the object position\", units=\"pixel^2\"), Key<D>(offset=376, nElements=1)),\n",
       "    (Field['F'](name=\"base_SdssShape_instFlux_xx_Cov\", doc=\"uncertainty covariance between base_SdssShape_instFlux and base_SdssShape_xx\", units=\"count*pixel^2\"), Key<F>(offset=384, nElements=1)),\n",
       "    (Field['F'](name=\"base_SdssShape_instFlux_yy_Cov\", doc=\"uncertainty covariance between base_SdssShape_instFlux and base_SdssShape_yy\", units=\"count*pixel^2\"), Key<F>(offset=388, nElements=1)),\n",
       "    (Field['F'](name=\"base_SdssShape_instFlux_xy_Cov\", doc=\"uncertainty covariance between base_SdssShape_instFlux and base_SdssShape_xy\", units=\"count*pixel^2\"), Key<F>(offset=392, nElements=1)),\n",
       "    (Field['Flag'](name=\"base_SdssShape_flag\", doc=\"General Failure Flag\"), Key['Flag'](offset=32, bit=30)),\n",
       "    (Field['Flag'](name=\"base_SdssShape_flag_unweightedBad\", doc=\"Both weighted and unweighted moments were invalid\"), Key['Flag'](offset=32, bit=31)),\n",
       "    (Field['Flag'](name=\"base_SdssShape_flag_unweighted\", doc=\"Weighted moments converged to an invalid value; using unweighted moments\"), Key['Flag'](offset=32, bit=32)),\n",
       "    (Field['Flag'](name=\"base_SdssShape_flag_shift\", doc=\"centroid shifted by more than the maximum allowed amount\"), Key['Flag'](offset=32, bit=33)),\n",
       "    (Field['Flag'](name=\"base_SdssShape_flag_maxIter\", doc=\"Too many iterations in adaptive moments\"), Key['Flag'](offset=32, bit=34)),\n",
       "    (Field['Flag'](name=\"base_SdssShape_flag_psf\", doc=\"Failure in measuring PSF model shape\"), Key['Flag'](offset=32, bit=35)),\n",
       "    (Field['D'](name=\"ext_shapeHSM_HsmPsfMoments_x\", doc=\"HSM Centroid\", units=\"pixel\"), Key<D>(offset=400, nElements=1)),\n",
       "    (Field['D'](name=\"ext_shapeHSM_HsmPsfMoments_y\", doc=\"HSM Centroid\", units=\"pixel\"), Key<D>(offset=408, nElements=1)),\n",
       "    (Field['D'](name=\"ext_shapeHSM_HsmPsfMoments_xx\", doc=\"HSM moments\", units=\"pixel^2\"), Key<D>(offset=416, nElements=1)),\n",
       "    (Field['D'](name=\"ext_shapeHSM_HsmPsfMoments_yy\", doc=\"HSM moments\", units=\"pixel^2\"), Key<D>(offset=424, nElements=1)),\n",
       "    (Field['D'](name=\"ext_shapeHSM_HsmPsfMoments_xy\", doc=\"HSM moments\", units=\"pixel^2\"), Key<D>(offset=432, nElements=1)),\n",
       "    (Field['Flag'](name=\"ext_shapeHSM_HsmPsfMoments_flag\", doc=\"general failure flag, set if anything went wrong\"), Key['Flag'](offset=32, bit=36)),\n",
       "    (Field['Flag'](name=\"ext_shapeHSM_HsmPsfMoments_flag_no_pixels\", doc=\"no pixels to measure\"), Key['Flag'](offset=32, bit=37)),\n",
       "    (Field['Flag'](name=\"ext_shapeHSM_HsmPsfMoments_flag_not_contained\", doc=\"center not contained in footprint bounding box\"), Key['Flag'](offset=32, bit=38)),\n",
       "    (Field['Flag'](name=\"ext_shapeHSM_HsmPsfMoments_flag_parent_source\", doc=\"parent source, ignored\"), Key['Flag'](offset=32, bit=39)),\n",
       "    (Field['D'](name=\"ext_shapeHSM_HsmShapeRegauss_e1\", doc=\"PSF-corrected shear using Hirata & Seljak (2003) ''regaussianization\"), Key<D>(offset=440, nElements=1)),\n",
       "    (Field['D'](name=\"ext_shapeHSM_HsmShapeRegauss_e2\", doc=\"PSF-corrected shear using Hirata & Seljak (2003) ''regaussianization\"), Key<D>(offset=448, nElements=1)),\n",
       "    (Field['D'](name=\"ext_shapeHSM_HsmShapeRegauss_sigma\", doc=\"PSF-corrected shear using Hirata & Seljak (2003) ''regaussianization\"), Key<D>(offset=456, nElements=1)),\n",
       "    (Field['D'](name=\"ext_shapeHSM_HsmShapeRegauss_resolution\", doc=\"resolution factor (0=unresolved, 1=resolved)\"), Key<D>(offset=464, nElements=1)),\n",
       "    (Field['Flag'](name=\"ext_shapeHSM_HsmShapeRegauss_flag\", doc=\"general failure flag, set if anything went wrong\"), Key['Flag'](offset=32, bit=40)),\n",
       "    (Field['Flag'](name=\"ext_shapeHSM_HsmShapeRegauss_flag_no_pixels\", doc=\"no pixels to measure\"), Key['Flag'](offset=32, bit=41)),\n",
       "    (Field['Flag'](name=\"ext_shapeHSM_HsmShapeRegauss_flag_not_contained\", doc=\"center not contained in footprint bounding box\"), Key['Flag'](offset=32, bit=42)),\n",
       "    (Field['Flag'](name=\"ext_shapeHSM_HsmShapeRegauss_flag_parent_source\", doc=\"parent source, ignored\"), Key['Flag'](offset=32, bit=43)),\n",
       "    (Field['Flag'](name=\"ext_shapeHSM_HsmShapeRegauss_flag_galsim\", doc=\"GalSim failure\"), Key['Flag'](offset=32, bit=44)),\n",
       "    (Field['D'](name=\"ext_shapeHSM_HsmSourceMoments_x\", doc=\"HSM Centroid\", units=\"pixel\"), Key<D>(offset=472, nElements=1)),\n",
       "    (Field['D'](name=\"ext_shapeHSM_HsmSourceMoments_y\", doc=\"HSM Centroid\", units=\"pixel\"), Key<D>(offset=480, nElements=1)),\n",
       "    (Field['D'](name=\"ext_shapeHSM_HsmSourceMoments_xx\", doc=\"HSM moments\", units=\"pixel^2\"), Key<D>(offset=488, nElements=1)),\n",
       "    (Field['D'](name=\"ext_shapeHSM_HsmSourceMoments_yy\", doc=\"HSM moments\", units=\"pixel^2\"), Key<D>(offset=496, nElements=1)),\n",
       "    (Field['D'](name=\"ext_shapeHSM_HsmSourceMoments_xy\", doc=\"HSM moments\", units=\"pixel^2\"), Key<D>(offset=504, nElements=1)),\n",
       "    (Field['Flag'](name=\"ext_shapeHSM_HsmSourceMoments_flag\", doc=\"general failure flag, set if anything went wrong\"), Key['Flag'](offset=32, bit=45)),\n",
       "    (Field['Flag'](name=\"ext_shapeHSM_HsmSourceMoments_flag_no_pixels\", doc=\"no pixels to measure\"), Key['Flag'](offset=32, bit=46)),\n",
       "    (Field['Flag'](name=\"ext_shapeHSM_HsmSourceMoments_flag_not_contained\", doc=\"center not contained in footprint bounding box\"), Key['Flag'](offset=32, bit=47)),\n",
       "    (Field['Flag'](name=\"ext_shapeHSM_HsmSourceMoments_flag_parent_source\", doc=\"parent source, ignored\"), Key['Flag'](offset=32, bit=48)),\n",
       "    (Field['D'](name=\"ext_shapeHSM_HsmSourceMomentsRound_x\", doc=\"HSM Centroid\", units=\"pixel\"), Key<D>(offset=512, nElements=1)),\n",
       "    (Field['D'](name=\"ext_shapeHSM_HsmSourceMomentsRound_y\", doc=\"HSM Centroid\", units=\"pixel\"), Key<D>(offset=520, nElements=1)),\n",
       "    (Field['D'](name=\"ext_shapeHSM_HsmSourceMomentsRound_xx\", doc=\"HSM moments\", units=\"pixel^2\"), Key<D>(offset=528, nElements=1)),\n",
       "    (Field['D'](name=\"ext_shapeHSM_HsmSourceMomentsRound_yy\", doc=\"HSM moments\", units=\"pixel^2\"), Key<D>(offset=536, nElements=1)),\n",
       "    (Field['D'](name=\"ext_shapeHSM_HsmSourceMomentsRound_xy\", doc=\"HSM moments\", units=\"pixel^2\"), Key<D>(offset=544, nElements=1)),\n",
       "    (Field['Flag'](name=\"ext_shapeHSM_HsmSourceMomentsRound_flag\", doc=\"general failure flag, set if anything went wrong\"), Key['Flag'](offset=32, bit=49)),\n",
       "    (Field['Flag'](name=\"ext_shapeHSM_HsmSourceMomentsRound_flag_no_pixels\", doc=\"no pixels to measure\"), Key['Flag'](offset=32, bit=50)),\n",
       "    (Field['Flag'](name=\"ext_shapeHSM_HsmSourceMomentsRound_flag_not_contained\", doc=\"center not contained in footprint bounding box\"), Key['Flag'](offset=32, bit=51)),\n",
       "    (Field['Flag'](name=\"ext_shapeHSM_HsmSourceMomentsRound_flag_parent_source\", doc=\"parent source, ignored\"), Key['Flag'](offset=32, bit=52)),\n",
       "    (Field['F'](name=\"ext_shapeHSM_HsmSourceMomentsRound_Flux\", doc=\"HSM flux\"), Key<F>(offset=552, nElements=1)),\n",
       "    (Field['D'](name=\"base_CircularApertureFlux_3_0_instFlux\", doc=\"instFlux within 3.000000-pixel aperture\", units=\"count\"), Key<D>(offset=560, nElements=1)),\n",
       "    (Field['D'](name=\"base_CircularApertureFlux_3_0_instFluxErr\", doc=\"1-sigma instFlux uncertainty\", units=\"count\"), Key<D>(offset=568, nElements=1)),\n",
       "    (Field['Flag'](name=\"base_CircularApertureFlux_3_0_flag\", doc=\"General Failure Flag\"), Key['Flag'](offset=32, bit=53)),\n",
       "    (Field['Flag'](name=\"base_CircularApertureFlux_3_0_flag_apertureTruncated\", doc=\"aperture did not fit within measurement image\"), Key['Flag'](offset=32, bit=54)),\n",
       "    (Field['Flag'](name=\"base_CircularApertureFlux_3_0_flag_sincCoeffsTruncated\", doc=\"full sinc coefficient image did not fit within measurement image\"), Key['Flag'](offset=32, bit=55)),\n",
       "    (Field['D'](name=\"base_CircularApertureFlux_4_5_instFlux\", doc=\"instFlux within 4.500000-pixel aperture\", units=\"count\"), Key<D>(offset=576, nElements=1)),\n",
       "    (Field['D'](name=\"base_CircularApertureFlux_4_5_instFluxErr\", doc=\"1-sigma instFlux uncertainty\", units=\"count\"), Key<D>(offset=584, nElements=1)),\n",
       "    (Field['Flag'](name=\"base_CircularApertureFlux_4_5_flag\", doc=\"General Failure Flag\"), Key['Flag'](offset=32, bit=56)),\n",
       "    (Field['Flag'](name=\"base_CircularApertureFlux_4_5_flag_apertureTruncated\", doc=\"aperture did not fit within measurement image\"), Key['Flag'](offset=32, bit=57)),\n",
       "    (Field['Flag'](name=\"base_CircularApertureFlux_4_5_flag_sincCoeffsTruncated\", doc=\"full sinc coefficient image did not fit within measurement image\"), Key['Flag'](offset=32, bit=58)),\n",
       "    (Field['D'](name=\"base_CircularApertureFlux_6_0_instFlux\", doc=\"instFlux within 6.000000-pixel aperture\", units=\"count\"), Key<D>(offset=592, nElements=1)),\n",
       "    (Field['D'](name=\"base_CircularApertureFlux_6_0_instFluxErr\", doc=\"1-sigma instFlux uncertainty\", units=\"count\"), Key<D>(offset=600, nElements=1)),\n",
       "    (Field['Flag'](name=\"base_CircularApertureFlux_6_0_flag\", doc=\"General Failure Flag\"), Key['Flag'](offset=32, bit=59)),\n",
       "    (Field['Flag'](name=\"base_CircularApertureFlux_6_0_flag_apertureTruncated\", doc=\"aperture did not fit within measurement image\"), Key['Flag'](offset=32, bit=60)),\n",
       "    (Field['Flag'](name=\"base_CircularApertureFlux_6_0_flag_sincCoeffsTruncated\", doc=\"full sinc coefficient image did not fit within measurement image\"), Key['Flag'](offset=32, bit=61)),\n",
       "    (Field['D'](name=\"base_CircularApertureFlux_9_0_instFlux\", doc=\"instFlux within 9.000000-pixel aperture\", units=\"count\"), Key<D>(offset=608, nElements=1)),\n",
       "    (Field['D'](name=\"base_CircularApertureFlux_9_0_instFluxErr\", doc=\"1-sigma instFlux uncertainty\", units=\"count\"), Key<D>(offset=616, nElements=1)),\n",
       "    (Field['Flag'](name=\"base_CircularApertureFlux_9_0_flag\", doc=\"General Failure Flag\"), Key['Flag'](offset=32, bit=62)),\n",
       "    (Field['Flag'](name=\"base_CircularApertureFlux_9_0_flag_apertureTruncated\", doc=\"aperture did not fit within measurement image\"), Key['Flag'](offset=32, bit=63)),\n",
       "    (Field['Flag'](name=\"base_CircularApertureFlux_9_0_flag_sincCoeffsTruncated\", doc=\"full sinc coefficient image did not fit within measurement image\"), Key['Flag'](offset=624, bit=0)),\n",
       "    (Field['D'](name=\"base_CircularApertureFlux_12_0_instFlux\", doc=\"instFlux within 12.000000-pixel aperture\", units=\"count\"), Key<D>(offset=632, nElements=1)),\n",
       "    (Field['D'](name=\"base_CircularApertureFlux_12_0_instFluxErr\", doc=\"1-sigma instFlux uncertainty\", units=\"count\"), Key<D>(offset=640, nElements=1)),\n",
       "    (Field['Flag'](name=\"base_CircularApertureFlux_12_0_flag\", doc=\"General Failure Flag\"), Key['Flag'](offset=624, bit=1)),\n",
       "    (Field['Flag'](name=\"base_CircularApertureFlux_12_0_flag_apertureTruncated\", doc=\"aperture did not fit within measurement image\"), Key['Flag'](offset=624, bit=2)),\n",
       "    (Field['Flag'](name=\"base_CircularApertureFlux_12_0_flag_sincCoeffsTruncated\", doc=\"full sinc coefficient image did not fit within measurement image\"), Key['Flag'](offset=624, bit=3)),\n",
       "    (Field['D'](name=\"base_CircularApertureFlux_17_0_instFlux\", doc=\"instFlux within 17.000000-pixel aperture\", units=\"count\"), Key<D>(offset=648, nElements=1)),\n",
       "    (Field['D'](name=\"base_CircularApertureFlux_17_0_instFluxErr\", doc=\"1-sigma instFlux uncertainty\", units=\"count\"), Key<D>(offset=656, nElements=1)),\n",
       "    (Field['Flag'](name=\"base_CircularApertureFlux_17_0_flag\", doc=\"General Failure Flag\"), Key['Flag'](offset=624, bit=4)),\n",
       "    (Field['Flag'](name=\"base_CircularApertureFlux_17_0_flag_apertureTruncated\", doc=\"aperture did not fit within measurement image\"), Key['Flag'](offset=624, bit=5)),\n",
       "    (Field['D'](name=\"base_CircularApertureFlux_25_0_instFlux\", doc=\"instFlux within 25.000000-pixel aperture\", units=\"count\"), Key<D>(offset=664, nElements=1)),\n",
       "    (Field['D'](name=\"base_CircularApertureFlux_25_0_instFluxErr\", doc=\"1-sigma instFlux uncertainty\", units=\"count\"), Key<D>(offset=672, nElements=1)),\n",
       "    (Field['Flag'](name=\"base_CircularApertureFlux_25_0_flag\", doc=\"General Failure Flag\"), Key['Flag'](offset=624, bit=6)),\n",
       "    (Field['Flag'](name=\"base_CircularApertureFlux_25_0_flag_apertureTruncated\", doc=\"aperture did not fit within measurement image\"), Key['Flag'](offset=624, bit=7)),\n",
       "    (Field['D'](name=\"base_CircularApertureFlux_35_0_instFlux\", doc=\"instFlux within 35.000000-pixel aperture\", units=\"count\"), Key<D>(offset=680, nElements=1)),\n",
       "    (Field['D'](name=\"base_CircularApertureFlux_35_0_instFluxErr\", doc=\"1-sigma instFlux uncertainty\", units=\"count\"), Key<D>(offset=688, nElements=1)),\n",
       "    (Field['Flag'](name=\"base_CircularApertureFlux_35_0_flag\", doc=\"General Failure Flag\"), Key['Flag'](offset=624, bit=8)),\n",
       "    (Field['Flag'](name=\"base_CircularApertureFlux_35_0_flag_apertureTruncated\", doc=\"aperture did not fit within measurement image\"), Key['Flag'](offset=624, bit=9)),\n",
       "    (Field['D'](name=\"base_CircularApertureFlux_50_0_instFlux\", doc=\"instFlux within 50.000000-pixel aperture\", units=\"count\"), Key<D>(offset=696, nElements=1)),\n",
       "    (Field['D'](name=\"base_CircularApertureFlux_50_0_instFluxErr\", doc=\"1-sigma instFlux uncertainty\", units=\"count\"), Key<D>(offset=704, nElements=1)),\n",
       "    (Field['Flag'](name=\"base_CircularApertureFlux_50_0_flag\", doc=\"General Failure Flag\"), Key['Flag'](offset=624, bit=10)),\n",
       "    (Field['Flag'](name=\"base_CircularApertureFlux_50_0_flag_apertureTruncated\", doc=\"aperture did not fit within measurement image\"), Key['Flag'](offset=624, bit=11)),\n",
       "    (Field['D'](name=\"base_CircularApertureFlux_70_0_instFlux\", doc=\"instFlux within 70.000000-pixel aperture\", units=\"count\"), Key<D>(offset=712, nElements=1)),\n",
       "    (Field['D'](name=\"base_CircularApertureFlux_70_0_instFluxErr\", doc=\"1-sigma instFlux uncertainty\", units=\"count\"), Key<D>(offset=720, nElements=1)),\n",
       "    (Field['Flag'](name=\"base_CircularApertureFlux_70_0_flag\", doc=\"General Failure Flag\"), Key['Flag'](offset=624, bit=12)),\n",
       "    (Field['Flag'](name=\"base_CircularApertureFlux_70_0_flag_apertureTruncated\", doc=\"aperture did not fit within measurement image\"), Key['Flag'](offset=624, bit=13)),\n",
       "    (Field['D'](name=\"base_GaussianFlux_instFlux\", doc=\"instFlux from Gaussian Flux algorithm\", units=\"count\"), Key<D>(offset=728, nElements=1)),\n",
       "    (Field['D'](name=\"base_GaussianFlux_instFluxErr\", doc=\"1-sigma instFlux uncertainty\", units=\"count\"), Key<D>(offset=736, nElements=1)),\n",
       "    (Field['Flag'](name=\"base_GaussianFlux_flag\", doc=\"General Failure Flag\"), Key['Flag'](offset=624, bit=14)),\n",
       "    (Field['D'](name=\"base_LocalBackground_instFlux\", doc=\"background in annulus around source\", units=\"count\"), Key<D>(offset=744, nElements=1)),\n",
       "    (Field['D'](name=\"base_LocalBackground_instFluxErr\", doc=\"1-sigma instFlux uncertainty\", units=\"count\"), Key<D>(offset=752, nElements=1)),\n",
       "    (Field['Flag'](name=\"base_LocalBackground_flag\", doc=\"General Failure Flag\"), Key['Flag'](offset=624, bit=15)),\n",
       "    (Field['Flag'](name=\"base_LocalBackground_flag_noGoodPixels\", doc=\"no good pixels in the annulus\"), Key['Flag'](offset=624, bit=16)),\n",
       "    (Field['Flag'](name=\"base_LocalBackground_flag_noPsf\", doc=\"no PSF provided\"), Key['Flag'](offset=624, bit=17)),\n",
       "    (Field['Flag'](name=\"base_LocalPhotoCalib_flag\", doc=\"Set for any fatal failure\"), Key['Flag'](offset=624, bit=18)),\n",
       "    (Field['D'](name=\"base_LocalPhotoCalib\", doc=\"Local approximation of the PhotoCalib calibration factor at the location of the src.\"), Key<D>(offset=760, nElements=1)),\n",
       "    (Field['D'](name=\"base_LocalPhotoCalibErr\", doc=\"Error on the local approximation of the PhotoCalib calibration factor at the location of the src.\"), Key<D>(offset=768, nElements=1)),\n",
       "    (Field['Flag'](name=\"base_LocalWcs_flag\", doc=\"Set for any fatal failure\"), Key['Flag'](offset=624, bit=19)),\n",
       "    (Field['D'](name=\"base_LocalWcs_CDMatrix_1_1\", doc=\"(1, 1) element of the CDMatrix for the linear approximation of the WCS at the src location. Gives units in radians.\"), Key<D>(offset=776, nElements=1)),\n",
       "    (Field['D'](name=\"base_LocalWcs_CDMatrix_1_2\", doc=\"(1, 2) element of the CDMatrix for the linear approximation of the WCS at the src location. Gives units in radians.\"), Key<D>(offset=784, nElements=1)),\n",
       "    (Field['D'](name=\"base_LocalWcs_CDMatrix_2_1\", doc=\"(2, 1) element of the CDMatrix for the linear approximation of the WCS at the src location. Gives units in radians.\"), Key<D>(offset=792, nElements=1)),\n",
       "    (Field['D'](name=\"base_LocalWcs_CDMatrix_2_2\", doc=\"(2, 2) element of the CDMatrix for the linear approximation of the WCS at the src location. Gives units in radians.\"), Key<D>(offset=800, nElements=1)),\n",
       "    (Field['Flag'](name=\"base_PixelFlags_flag\", doc=\"General failure flag, set if anything went wrong\"), Key['Flag'](offset=624, bit=20)),\n",
       "    (Field['Flag'](name=\"base_PixelFlags_flag_offimage\", doc=\"Source center is off image\"), Key['Flag'](offset=624, bit=21)),\n",
       "    (Field['Flag'](name=\"base_PixelFlags_flag_edge\", doc=\"Source is outside usable exposure region (masked EDGE or NO_DATA)\"), Key['Flag'](offset=624, bit=22)),\n",
       "    (Field['Flag'](name=\"base_PixelFlags_flag_interpolated\", doc=\"Interpolated pixel in the Source footprint\"), Key['Flag'](offset=624, bit=23)),\n",
       "    (Field['Flag'](name=\"base_PixelFlags_flag_saturated\", doc=\"Saturated pixel in the Source footprint\"), Key['Flag'](offset=624, bit=24)),\n",
       "    (Field['Flag'](name=\"base_PixelFlags_flag_cr\", doc=\"Cosmic ray in the Source footprint\"), Key['Flag'](offset=624, bit=25)),\n",
       "    (Field['Flag'](name=\"base_PixelFlags_flag_bad\", doc=\"Bad pixel in the Source footprint\"), Key['Flag'](offset=624, bit=26)),\n",
       "    (Field['Flag'](name=\"base_PixelFlags_flag_suspect\", doc=\"Source''s footprint includes suspect pixels\"), Key['Flag'](offset=624, bit=27)),\n",
       "    (Field['Flag'](name=\"base_PixelFlags_flag_interpolatedCenter\", doc=\"Interpolated pixel in the Source center\"), Key['Flag'](offset=624, bit=28)),\n",
       "    (Field['Flag'](name=\"base_PixelFlags_flag_saturatedCenter\", doc=\"Saturated pixel in the Source center\"), Key['Flag'](offset=624, bit=29)),\n",
       "    (Field['Flag'](name=\"base_PixelFlags_flag_crCenter\", doc=\"Cosmic ray in the Source center\"), Key['Flag'](offset=624, bit=30)),\n",
       "    (Field['Flag'](name=\"base_PixelFlags_flag_suspectCenter\", doc=\"Source''s center is close to suspect pixels\"), Key['Flag'](offset=624, bit=31)),\n",
       "    (Field['D'](name=\"base_PsfFlux_instFlux\", doc=\"instFlux derived from linear least-squares fit of PSF model\", units=\"count\"), Key<D>(offset=808, nElements=1)),\n",
       "    (Field['D'](name=\"base_PsfFlux_instFluxErr\", doc=\"1-sigma instFlux uncertainty\", units=\"count\"), Key<D>(offset=816, nElements=1)),\n",
       "    (Field['F'](name=\"base_PsfFlux_area\", doc=\"effective area of PSF\", units=\"pixel\"), Key<F>(offset=824, nElements=1)),\n",
       "    (Field['Flag'](name=\"base_PsfFlux_flag\", doc=\"General Failure Flag\"), Key['Flag'](offset=624, bit=32)),\n",
       "    (Field['Flag'](name=\"base_PsfFlux_flag_noGoodPixels\", doc=\"not enough non-rejected pixels in data to attempt the fit\"), Key['Flag'](offset=624, bit=33)),\n",
       "    (Field['Flag'](name=\"base_PsfFlux_flag_edge\", doc=\"object was too close to the edge of the image to use the full PSF model\"), Key['Flag'](offset=624, bit=34)),\n",
       "    (Field['Flag'](name=\"base_Variance_flag\", doc=\"Set for any fatal failure\"), Key['Flag'](offset=624, bit=35)),\n",
       "    (Field['D'](name=\"base_Variance_value\", doc=\"Variance at object position\"), Key<D>(offset=832, nElements=1)),\n",
       "    (Field['Flag'](name=\"base_Variance_flag_emptyFootprint\", doc=\"Set to True when the footprint has no usable pixels\"), Key['Flag'](offset=624, bit=36)),\n",
       "    (Field['D'](name=\"ext_photometryKron_KronFlux_instFlux\", doc=\"flux from Kron Flux algorithm\", units=\"count\"), Key<D>(offset=840, nElements=1)),\n",
       "    (Field['D'](name=\"ext_photometryKron_KronFlux_instFluxErr\", doc=\"1-sigma instFlux uncertainty\", units=\"count\"), Key<D>(offset=848, nElements=1)),\n",
       "    (Field['F'](name=\"ext_photometryKron_KronFlux_radius\", doc=\"Kron radius (sqrt(a*b))\"), Key<F>(offset=856, nElements=1)),\n",
       "    (Field['F'](name=\"ext_photometryKron_KronFlux_radius_for_radius\", doc=\"radius used to estimate <radius> (sqrt(a*b))\"), Key<F>(offset=860, nElements=1)),\n",
       "    (Field['F'](name=\"ext_photometryKron_KronFlux_psf_radius\", doc=\"Radius of PSF\"), Key<F>(offset=864, nElements=1)),\n",
       "    (Field['Flag'](name=\"ext_photometryKron_KronFlux_flag\", doc=\"general failure flag, set if anything went wrong\"), Key['Flag'](offset=624, bit=37)),\n",
       "    (Field['Flag'](name=\"ext_photometryKron_KronFlux_flag_edge\", doc=\"bad measurement due to image edge\"), Key['Flag'](offset=624, bit=38)),\n",
       "    (Field['Flag'](name=\"ext_photometryKron_KronFlux_flag_bad_shape_no_psf\", doc=\"bad shape and no PSF\"), Key['Flag'](offset=624, bit=39)),\n",
       "    (Field['Flag'](name=\"ext_photometryKron_KronFlux_flag_no_minimum_radius\", doc=\"minimum radius could not enforced: no minimum value or PSF\"), Key['Flag'](offset=624, bit=40)),\n",
       "    (Field['Flag'](name=\"ext_photometryKron_KronFlux_flag_no_fallback_radius\", doc=\"no minimum radius and no PSF provided\"), Key['Flag'](offset=624, bit=41)),\n",
       "    (Field['Flag'](name=\"ext_photometryKron_KronFlux_flag_bad_radius\", doc=\"bad Kron radius\"), Key['Flag'](offset=624, bit=42)),\n",
       "    (Field['Flag'](name=\"ext_photometryKron_KronFlux_flag_used_minimum_radius\", doc=\"used the minimum radius for the Kron aperture\"), Key['Flag'](offset=624, bit=43)),\n",
       "    (Field['Flag'](name=\"ext_photometryKron_KronFlux_flag_used_psf_radius\", doc=\"used the PSF Kron radius for the Kron aperture\"), Key['Flag'](offset=624, bit=44)),\n",
       "    (Field['Flag'](name=\"ext_photometryKron_KronFlux_flag_small_radius\", doc=\"measured Kron radius was smaller than that of the PSF\"), Key['Flag'](offset=624, bit=45)),\n",
       "    (Field['Flag'](name=\"ext_photometryKron_KronFlux_flag_bad_shape\", doc=\"shape for measuring Kron radius is bad; used PSF shape\"), Key['Flag'](offset=624, bit=46)),\n",
       "    (Field['D'](name=\"base_GaussianFlux_apCorr\", doc=\"aperture correction applied to base_GaussianFlux\"), Key<D>(offset=872, nElements=1)),\n",
       "    (Field['D'](name=\"base_GaussianFlux_apCorrErr\", doc=\"standard deviation of aperture correction applied to base_GaussianFlux\"), Key<D>(offset=880, nElements=1)),\n",
       "    (Field['Flag'](name=\"base_GaussianFlux_flag_apCorr\", doc=\"set if unable to aperture correct base_GaussianFlux\"), Key['Flag'](offset=624, bit=47)),\n",
       "    (Field['D'](name=\"base_PsfFlux_apCorr\", doc=\"aperture correction applied to base_PsfFlux\"), Key<D>(offset=888, nElements=1)),\n",
       "    (Field['D'](name=\"base_PsfFlux_apCorrErr\", doc=\"standard deviation of aperture correction applied to base_PsfFlux\"), Key<D>(offset=896, nElements=1)),\n",
       "    (Field['Flag'](name=\"base_PsfFlux_flag_apCorr\", doc=\"set if unable to aperture correct base_PsfFlux\"), Key['Flag'](offset=624, bit=48)),\n",
       "    (Field['D'](name=\"ext_photometryKron_KronFlux_apCorr\", doc=\"aperture correction applied to ext_photometryKron_KronFlux\"), Key<D>(offset=904, nElements=1)),\n",
       "    (Field['D'](name=\"ext_photometryKron_KronFlux_apCorrErr\", doc=\"standard deviation of aperture correction applied to ext_photometryKron_KronFlux\"), Key<D>(offset=912, nElements=1)),\n",
       "    (Field['Flag'](name=\"ext_photometryKron_KronFlux_flag_apCorr\", doc=\"set if unable to aperture correct ext_photometryKron_KronFlux\"), Key['Flag'](offset=624, bit=49)),\n",
       "    (Field['D'](name=\"base_ClassificationExtendedness_value\", doc=\"Set to 1 for extended sources, 0 for point sources.\"), Key<D>(offset=920, nElements=1)),\n",
       "    (Field['Flag'](name=\"base_ClassificationExtendedness_flag\", doc=\"Set to 1 for any fatal failure.\"), Key['Flag'](offset=624, bit=50)),\n",
       "    (Field['I'](name=\"base_FootprintArea_value\", doc=\"Number of pixels in the source''s detection footprint.\", units=\"pixel\"), Key<I>(offset=928, nElements=1)),\n",
       "    (Field['Flag'](name=\"calib_astrometry_used\", doc=\"set if source was used in astrometric calibration\"), Key['Flag'](offset=624, bit=51)),\n",
       "    (Field['Flag'](name=\"calib_photometry_used\", doc=\"set if source was used in photometric calibration\"), Key['Flag'](offset=624, bit=52)),\n",
       "    (Field['Flag'](name=\"calib_photometry_reserved\", doc=\"set if source was reserved from photometric calibration\"), Key['Flag'](offset=624, bit=53)),\n",
       "    'base_CircularApertureFlux_flag_badCentroid'->'base_SdssCentroid_flag'\n",
       "    'base_GaussianFlux_flag_badCentroid'->'base_SdssCentroid_flag'\n",
       "    'base_GaussianFlux_flag_badShape'->'ext_shapeHSM_HsmSourceMoments_flag'\n",
       "    'base_LocalBackground_flag_badCentroid'->'base_SdssCentroid_flag'\n",
       "    'base_NaiveCentroid_flag_badInitialCentroid'->'base_SdssCentroid_flag'\n",
       "    'base_PsfFlux_flag_badCentroid'->'base_SdssCentroid_flag'\n",
       "    'base_SdssShape_flag_badCentroid'->'base_SdssCentroid_flag'\n",
       "    'base_Variance_flag_badCentroid'->'base_SdssCentroid_flag'\n",
       "    'ext_photometryKron_KronFlux_flag_badInitialCentroid'->'base_SdssCentroid_flag'\n",
       "    'ext_shapeHSM_HsmPsfMoments_flag_badCentroid'->'base_SdssCentroid_flag'\n",
       "    'ext_shapeHSM_HsmShapeRegauss_flag_badCentroid'->'base_SdssCentroid_flag'\n",
       "    'ext_shapeHSM_HsmSourceMomentsRound_flag_badCentroid'->'base_SdssCentroid_flag'\n",
       "    'ext_shapeHSM_HsmSourceMoments_flag_badCentroid'->'base_SdssCentroid_flag'\n",
       "    'slot_ApFlux'->'base_CircularApertureFlux_12_0'\n",
       "    'slot_CalibFlux'->'base_CircularApertureFlux_12_0'\n",
       "    'slot_Centroid'->'base_SdssCentroid'\n",
       "    'slot_GaussianFlux'->'base_GaussianFlux'\n",
       "    'slot_ModelFlux'->'base_GaussianFlux'\n",
       "    'slot_PsfFlux'->'base_PsfFlux'\n",
       "    'slot_PsfShape'->'ext_shapeHSM_HsmPsfMoments'\n",
       "    'slot_Shape'->'ext_shapeHSM_HsmSourceMoments'\n",
       ")"
      ]
     },
     "execution_count": 24,
     "metadata": {},
     "output_type": "execute_result"
    }
   ],
   "source": [
    "#check its schema. Heads up, the schema is pretty big\n",
    "source_cat.getSchema()"
   ]
  },
  {
   "cell_type": "markdown",
   "metadata": {},
   "source": [
    "These schemas tend to be large if many measurement algorithms used. Several algorithms are a part of the base measurement process, like aperature photometry, SDSS shape and centrioid measurements. Other measurements are associated with previous calibration steps, like identifying sources to be candidates for PSF modeling. If deblending was run, several outputs from the process are stored in the table as well. Other measurement processess, like shape measurement processes, are considered extensions. All of these measurements often have many fields and analagous flag fields associated with them. To get a list of names of these high level processes only, we can provide the `topOnly=True` keyword arguement to the `getNames` method we met earlier in the tutorial."
   ]
  },
  {
   "cell_type": "code",
   "execution_count": 25,
   "metadata": {},
   "outputs": [
    {
     "data": {
      "text/plain": [
       "{'base', 'calib', 'coord', 'deblend', 'ext', 'id', 'parent', 'sky'}"
      ]
     },
     "execution_count": 25,
     "metadata": {},
     "output_type": "execute_result"
    }
   ],
   "source": [
    "source_cat.getSchema().getNames(topOnly=True)"
   ]
  },
  {
   "cell_type": "markdown",
   "metadata": {},
   "source": [
    "However, this may be too vague. For example, if you ran KSB and HSM shape measurement, both will be lumped into the 'ext' catagory in the output above, but you may wish to search the schema for one in particular. We can use unix-like pattern matching with the `extract()` method to search the schema. This returns a dictionary where the keys are the schema fields whose names match the pattern you specified, and the values are the fields themselves. "
   ]
  },
  {
   "cell_type": "code",
   "execution_count": 26,
   "metadata": {},
   "outputs": [
    {
     "data": {
      "text/plain": [
       "{'ext_shapeHSM_HsmPsfMoments_flag_badCentroid': SchemaItem(key=Key['Flag'](offset=32, bit=17), field=Field['Flag'](name=\"base_SdssCentroid_flag\", doc=\"General Failure Flag\")),\n",
       " 'ext_shapeHSM_HsmPsfMoments_flag_badCentroid_edge': SchemaItem(key=Key['Flag'](offset=32, bit=18), field=Field['Flag'](name=\"base_SdssCentroid_flag_edge\", doc=\"Object too close to edge\")),\n",
       " 'ext_shapeHSM_HsmPsfMoments_flag_badCentroid_noSecondDerivative': SchemaItem(key=Key['Flag'](offset=32, bit=19), field=Field['Flag'](name=\"base_SdssCentroid_flag_noSecondDerivative\", doc=\"Vanishing second derivative\")),\n",
       " 'ext_shapeHSM_HsmPsfMoments_flag_badCentroid_almostNoSecondDerivative': SchemaItem(key=Key['Flag'](offset=32, bit=20), field=Field['Flag'](name=\"base_SdssCentroid_flag_almostNoSecondDerivative\", doc=\"Almost vanishing second derivative\")),\n",
       " 'ext_shapeHSM_HsmPsfMoments_flag_badCentroid_notAtMaximum': SchemaItem(key=Key['Flag'](offset=32, bit=21), field=Field['Flag'](name=\"base_SdssCentroid_flag_notAtMaximum\", doc=\"Object is not at a maximum\")),\n",
       " 'ext_shapeHSM_HsmPsfMoments_flag_badCentroid_resetToPeak': SchemaItem(key=Key['Flag'](offset=32, bit=22), field=Field['Flag'](name=\"base_SdssCentroid_flag_resetToPeak\", doc=\"set if CentroidChecker reset the centroid\")),\n",
       " 'ext_shapeHSM_HsmPsfMoments_flag_badCentroid_badError': SchemaItem(key=Key['Flag'](offset=32, bit=23), field=Field['Flag'](name=\"base_SdssCentroid_flag_badError\", doc=\"Error on x and/or y position is NaN\")),\n",
       " 'ext_shapeHSM_HsmPsfMoments_x': SchemaItem(key=Key<D>(offset=400, nElements=1), field=Field['D'](name=\"ext_shapeHSM_HsmPsfMoments_x\", doc=\"HSM Centroid\", units=\"pixel\")),\n",
       " 'ext_shapeHSM_HsmPsfMoments_y': SchemaItem(key=Key<D>(offset=408, nElements=1), field=Field['D'](name=\"ext_shapeHSM_HsmPsfMoments_y\", doc=\"HSM Centroid\", units=\"pixel\")),\n",
       " 'ext_shapeHSM_HsmPsfMoments_xx': SchemaItem(key=Key<D>(offset=416, nElements=1), field=Field['D'](name=\"ext_shapeHSM_HsmPsfMoments_xx\", doc=\"HSM moments\", units=\"pixel^2\")),\n",
       " 'ext_shapeHSM_HsmPsfMoments_yy': SchemaItem(key=Key<D>(offset=424, nElements=1), field=Field['D'](name=\"ext_shapeHSM_HsmPsfMoments_yy\", doc=\"HSM moments\", units=\"pixel^2\")),\n",
       " 'ext_shapeHSM_HsmPsfMoments_xy': SchemaItem(key=Key<D>(offset=432, nElements=1), field=Field['D'](name=\"ext_shapeHSM_HsmPsfMoments_xy\", doc=\"HSM moments\", units=\"pixel^2\")),\n",
       " 'ext_shapeHSM_HsmPsfMoments_flag': SchemaItem(key=Key['Flag'](offset=32, bit=36), field=Field['Flag'](name=\"ext_shapeHSM_HsmPsfMoments_flag\", doc=\"general failure flag, set if anything went wrong\")),\n",
       " 'ext_shapeHSM_HsmPsfMoments_flag_no_pixels': SchemaItem(key=Key['Flag'](offset=32, bit=37), field=Field['Flag'](name=\"ext_shapeHSM_HsmPsfMoments_flag_no_pixels\", doc=\"no pixels to measure\")),\n",
       " 'ext_shapeHSM_HsmPsfMoments_flag_not_contained': SchemaItem(key=Key['Flag'](offset=32, bit=38), field=Field['Flag'](name=\"ext_shapeHSM_HsmPsfMoments_flag_not_contained\", doc=\"center not contained in footprint bounding box\")),\n",
       " 'ext_shapeHSM_HsmPsfMoments_flag_parent_source': SchemaItem(key=Key['Flag'](offset=32, bit=39), field=Field['Flag'](name=\"ext_shapeHSM_HsmPsfMoments_flag_parent_source\", doc=\"parent source, ignored\"))}"
      ]
     },
     "execution_count": 26,
     "metadata": {},
     "output_type": "execute_result"
    }
   ],
   "source": [
    "source_cat.getSchema().extract('*HSM*Psf*')"
   ]
  },
  {
   "cell_type": "markdown",
   "metadata": {},
   "source": [
    "Schemas in source catalogs include fields for measurements, and the associated flag fields for those measurements.  To tally how many fields, flag fields, and non-flag fields are contained, we can use several count methods."
   ]
  },
  {
   "cell_type": "code",
   "execution_count": 27,
   "metadata": {},
   "outputs": [
    {
     "name": "stdout",
     "output_type": "stream",
     "text": [
      "the schema contains 237 fields, 118 flags fields and 119 non-flag fields\n"
     ]
    }
   ],
   "source": [
    "nFields = source_cat.schema.getFieldCount()\n",
    "nFlagFields = source_cat.schema.getFlagFieldCount()\n",
    "nNonFlagFields = source_cat.schema.getNonFlagFieldCount()\n",
    "print('the schema contains {} fields, \\\n",
    "{} flags fields and {} non-flag fields'.format(nFields, nFlagFields, nNonFlagFields ))"
   ]
  },
  {
   "cell_type": "markdown",
   "metadata": {},
   "source": [
    "If we are just intested in the field names, we can use the `extract()` method, which supports regex pattern matching. `extract()` returns a python dictionary of key-value pairs, where the keys are the names of the schema fields, and the values are the schema items themselves. We are going to tack on the `keys` method to this dictionary so we just get the ids back."
   ]
  },
  {
   "cell_type": "code",
   "execution_count": 28,
   "metadata": {},
   "outputs": [
    {
     "name": "stdout",
     "output_type": "stream",
     "text": [
      "ext_shapeHSM_HsmPsfMoments_flag_badCentroid\n",
      "ext_shapeHSM_HsmPsfMoments_flag_badCentroid_edge\n",
      "ext_shapeHSM_HsmPsfMoments_flag_badCentroid_noSecondDerivative\n",
      "ext_shapeHSM_HsmPsfMoments_flag_badCentroid_almostNoSecondDerivative\n",
      "ext_shapeHSM_HsmPsfMoments_flag_badCentroid_notAtMaximum\n",
      "ext_shapeHSM_HsmPsfMoments_flag_badCentroid_resetToPeak\n",
      "ext_shapeHSM_HsmPsfMoments_flag_badCentroid_badError\n",
      "ext_shapeHSM_HsmPsfMoments_x\n",
      "ext_shapeHSM_HsmPsfMoments_y\n",
      "ext_shapeHSM_HsmPsfMoments_xx\n",
      "ext_shapeHSM_HsmPsfMoments_yy\n",
      "ext_shapeHSM_HsmPsfMoments_xy\n",
      "ext_shapeHSM_HsmPsfMoments_flag\n",
      "ext_shapeHSM_HsmPsfMoments_flag_no_pixels\n",
      "ext_shapeHSM_HsmPsfMoments_flag_not_contained\n",
      "ext_shapeHSM_HsmPsfMoments_flag_parent_source\n"
     ]
    }
   ],
   "source": [
    "for k in source_cat.getSchema().extract('*HSM*Psf*').keys():\n",
    "    print(k)"
   ]
  },
  {
   "cell_type": "markdown",
   "metadata": {},
   "source": [
    "If you already know the id of the field you are interested in, schema's have a `find` method that will return the field in question. For example, it is a safe bet that a schema will contain an id field"
   ]
  },
  {
   "cell_type": "code",
   "execution_count": 29,
   "metadata": {},
   "outputs": [
    {
     "data": {
      "text/plain": [
       "SchemaItem(key=Key<L>(offset=0, nElements=1), field=Field['L'](name=\"id\", doc=\"unique ID\"))"
      ]
     },
     "execution_count": 29,
     "metadata": {},
     "output_type": "execute_result"
    }
   ],
   "source": [
    "source_cat.getSchema().find('id')"
   ]
  },
  {
   "cell_type": "markdown",
   "metadata": {},
   "source": [
    "When we dumped the entire schema, the very bottom of the schema contained fields  are named 'slot_'. These are called aliases in the schema, and can help you deal with any ambiguity in the table. For example, there are several algorithms used to measure the centroid, and many fileds with 'centroid' in their name as a result. If you want to have quick access to one algorithms measurement result, you can set up a slot alias for it. Lets do a working example on the first record in our table."
   ]
  },
  {
   "cell_type": "code",
   "execution_count": 30,
   "metadata": {},
   "outputs": [
    {
     "name": "stdout",
     "output_type": "stream",
     "text": [
      "sloan centroid is 44.0, 4.0\n",
      "naive centroid is 43.98388771246896, 3.863818835456476\n",
      "slot centroid is (44, 4)\n"
     ]
    }
   ],
   "source": [
    "slot_centroid = source_cat[0].getCentroid()\n",
    "naive_cent_x, naive_cent_y = (source_cat['base_NaiveCentroid_x'][0], source_cat['base_NaiveCentroid_y'][0])\n",
    "sdss_cent_x, sdss_cent_y = (source_cat['base_SdssCentroid_x'][0], source_cat['base_SdssCentroid_y'][0])\n",
    "\n",
    "print('sloan centroid is {}, {}'.format(sdss_cent_x, sdss_cent_y))\n",
    "print('naive centroid is {}, {}'.format(naive_cent_x, naive_cent_y))\n",
    "print('slot centroid is {}'.format(slot_centroid))"
   ]
  },
  {
   "cell_type": "code",
   "execution_count": 31,
   "metadata": {},
   "outputs": [],
   "source": [
    "# aliasing works with other methods\n",
    "psf_flux_key = source_cat.getPsfFluxSlot().getMeasKey()\n",
    "id_key = source_cat.getIdKey()"
   ]
  },
  {
   "cell_type": "markdown",
   "metadata": {},
   "source": [
    "As advertised, the slot centroid and SDSS centroid are the same. We also used some syntactic sugar to access the `naive` centroids and `sdss` centroids, which will be familiar to you if you are an astropy tables user. \n",
    "\n",
    "Speaking of astropy tables, you can make an astropy table version of a source catalog:"
   ]
  },
  {
   "cell_type": "code",
   "execution_count": 32,
   "metadata": {},
   "outputs": [
    {
     "data": {
      "text/html": [
       "<i>Table length=3141</i>\n",
       "<table id=\"table139619036064208\" class=\"table-striped table-bordered table-condensed\">\n",
       "<thead><tr><th>id</th><th>coord_ra</th><th>coord_dec</th><th>parent</th><th>calib_detected</th><th>calib_psf_candidate</th><th>calib_psf_used</th><th>calib_psf_reserved</th><th>deblend_nChild</th><th>deblend_deblendedAsPsf</th><th>deblend_psfCenter_x</th><th>deblend_psfCenter_y</th><th>deblend_psf_instFlux</th><th>deblend_tooManyPeaks</th><th>deblend_parentTooBig</th><th>deblend_masked</th><th>deblend_skipped</th><th>deblend_rampedTemplate</th><th>deblend_patchedTemplate</th><th>deblend_hasStrayFlux</th><th>sky_source</th><th>base_NaiveCentroid_x</th><th>base_NaiveCentroid_y</th><th>base_NaiveCentroid_flag</th><th>base_NaiveCentroid_flag_noCounts</th><th>base_NaiveCentroid_flag_edge</th><th>base_NaiveCentroid_flag_resetToPeak</th><th>base_SdssCentroid_x</th><th>slot_Centroid_x</th><th>base_SdssCentroid_y</th><th>slot_Centroid_y</th><th>base_SdssCentroid_xErr</th><th>slot_Centroid_xErr</th><th>base_SdssCentroid_yErr</th><th>slot_Centroid_yErr</th><th>base_SdssCentroid_flag</th><th>base_CircularApertureFlux_flag_badCentroid</th><th>base_GaussianFlux_flag_badCentroid</th><th>base_LocalBackground_flag_badCentroid</th><th>base_NaiveCentroid_flag_badInitialCentroid</th><th>base_PsfFlux_flag_badCentroid</th><th>base_SdssShape_flag_badCentroid</th><th>base_Variance_flag_badCentroid</th><th>ext_photometryKron_KronFlux_flag_badInitialCentroid</th><th>ext_shapeHSM_HsmPsfMoments_flag_badCentroid</th><th>ext_shapeHSM_HsmShapeRegauss_flag_badCentroid</th><th>ext_shapeHSM_HsmSourceMomentsRound_flag_badCentroid</th><th>ext_shapeHSM_HsmSourceMoments_flag_badCentroid</th><th>slot_Centroid_flag</th><th>base_SdssCentroid_flag_edge</th><th>base_CircularApertureFlux_flag_badCentroid_edge</th><th>base_GaussianFlux_flag_badCentroid_edge</th><th>base_LocalBackground_flag_badCentroid_edge</th><th>base_NaiveCentroid_flag_badInitialCentroid_edge</th><th>base_PsfFlux_flag_badCentroid_edge</th><th>base_SdssShape_flag_badCentroid_edge</th><th>base_Variance_flag_badCentroid_edge</th><th>ext_photometryKron_KronFlux_flag_badInitialCentroid_edge</th><th>ext_shapeHSM_HsmPsfMoments_flag_badCentroid_edge</th><th>ext_shapeHSM_HsmShapeRegauss_flag_badCentroid_edge</th><th>ext_shapeHSM_HsmSourceMomentsRound_flag_badCentroid_edge</th><th>ext_shapeHSM_HsmSourceMoments_flag_badCentroid_edge</th><th>slot_Centroid_flag_edge</th><th>base_SdssCentroid_flag_noSecondDerivative</th><th>base_CircularApertureFlux_flag_badCentroid_noSecondDerivative</th><th>base_GaussianFlux_flag_badCentroid_noSecondDerivative</th><th>base_LocalBackground_flag_badCentroid_noSecondDerivative</th><th>base_NaiveCentroid_flag_badInitialCentroid_noSecondDerivative</th><th>base_PsfFlux_flag_badCentroid_noSecondDerivative</th><th>base_SdssShape_flag_badCentroid_noSecondDerivative</th><th>base_Variance_flag_badCentroid_noSecondDerivative</th><th>ext_photometryKron_KronFlux_flag_badInitialCentroid_noSecondDerivative</th><th>ext_shapeHSM_HsmPsfMoments_flag_badCentroid_noSecondDerivative</th><th>ext_shapeHSM_HsmShapeRegauss_flag_badCentroid_noSecondDerivative</th><th>ext_shapeHSM_HsmSourceMomentsRound_flag_badCentroid_noSecondDerivative</th><th>ext_shapeHSM_HsmSourceMoments_flag_badCentroid_noSecondDerivative</th><th>slot_Centroid_flag_noSecondDerivative</th><th>base_SdssCentroid_flag_almostNoSecondDerivative</th><th>base_CircularApertureFlux_flag_badCentroid_almostNoSecondDerivative</th><th>base_GaussianFlux_flag_badCentroid_almostNoSecondDerivative</th><th>base_LocalBackground_flag_badCentroid_almostNoSecondDerivative</th><th>base_NaiveCentroid_flag_badInitialCentroid_almostNoSecondDerivative</th><th>base_PsfFlux_flag_badCentroid_almostNoSecondDerivative</th><th>base_SdssShape_flag_badCentroid_almostNoSecondDerivative</th><th>base_Variance_flag_badCentroid_almostNoSecondDerivative</th><th>ext_photometryKron_KronFlux_flag_badInitialCentroid_almostNoSecondDerivative</th><th>ext_shapeHSM_HsmPsfMoments_flag_badCentroid_almostNoSecondDerivative</th><th>ext_shapeHSM_HsmShapeRegauss_flag_badCentroid_almostNoSecondDerivative</th><th>ext_shapeHSM_HsmSourceMomentsRound_flag_badCentroid_almostNoSecondDerivative</th><th>ext_shapeHSM_HsmSourceMoments_flag_badCentroid_almostNoSecondDerivative</th><th>slot_Centroid_flag_almostNoSecondDerivative</th><th>base_SdssCentroid_flag_notAtMaximum</th><th>base_CircularApertureFlux_flag_badCentroid_notAtMaximum</th><th>base_GaussianFlux_flag_badCentroid_notAtMaximum</th><th>base_LocalBackground_flag_badCentroid_notAtMaximum</th><th>base_NaiveCentroid_flag_badInitialCentroid_notAtMaximum</th><th>base_PsfFlux_flag_badCentroid_notAtMaximum</th><th>base_SdssShape_flag_badCentroid_notAtMaximum</th><th>base_Variance_flag_badCentroid_notAtMaximum</th><th>ext_photometryKron_KronFlux_flag_badInitialCentroid_notAtMaximum</th><th>ext_shapeHSM_HsmPsfMoments_flag_badCentroid_notAtMaximum</th><th>ext_shapeHSM_HsmShapeRegauss_flag_badCentroid_notAtMaximum</th><th>ext_shapeHSM_HsmSourceMomentsRound_flag_badCentroid_notAtMaximum</th><th>ext_shapeHSM_HsmSourceMoments_flag_badCentroid_notAtMaximum</th><th>slot_Centroid_flag_notAtMaximum</th><th>base_SdssCentroid_flag_resetToPeak</th><th>base_CircularApertureFlux_flag_badCentroid_resetToPeak</th><th>base_GaussianFlux_flag_badCentroid_resetToPeak</th><th>base_LocalBackground_flag_badCentroid_resetToPeak</th><th>base_NaiveCentroid_flag_badInitialCentroid_resetToPeak</th><th>base_PsfFlux_flag_badCentroid_resetToPeak</th><th>base_SdssShape_flag_badCentroid_resetToPeak</th><th>base_Variance_flag_badCentroid_resetToPeak</th><th>ext_photometryKron_KronFlux_flag_badInitialCentroid_resetToPeak</th><th>ext_shapeHSM_HsmPsfMoments_flag_badCentroid_resetToPeak</th><th>ext_shapeHSM_HsmShapeRegauss_flag_badCentroid_resetToPeak</th><th>ext_shapeHSM_HsmSourceMomentsRound_flag_badCentroid_resetToPeak</th><th>ext_shapeHSM_HsmSourceMoments_flag_badCentroid_resetToPeak</th><th>slot_Centroid_flag_resetToPeak</th><th>base_SdssCentroid_flag_badError</th><th>base_CircularApertureFlux_flag_badCentroid_badError</th><th>base_GaussianFlux_flag_badCentroid_badError</th><th>base_LocalBackground_flag_badCentroid_badError</th><th>base_NaiveCentroid_flag_badInitialCentroid_badError</th><th>base_PsfFlux_flag_badCentroid_badError</th><th>base_SdssShape_flag_badCentroid_badError</th><th>base_Variance_flag_badCentroid_badError</th><th>ext_photometryKron_KronFlux_flag_badInitialCentroid_badError</th><th>ext_shapeHSM_HsmPsfMoments_flag_badCentroid_badError</th><th>ext_shapeHSM_HsmShapeRegauss_flag_badCentroid_badError</th><th>ext_shapeHSM_HsmSourceMomentsRound_flag_badCentroid_badError</th><th>ext_shapeHSM_HsmSourceMoments_flag_badCentroid_badError</th><th>slot_Centroid_flag_badError</th><th>base_Blendedness_old</th><th>base_Blendedness_raw</th><th>base_Blendedness_raw_child_instFlux</th><th>base_Blendedness_raw_parent_instFlux</th><th>base_Blendedness_abs</th><th>base_Blendedness_abs_child_instFlux</th><th>base_Blendedness_abs_parent_instFlux</th><th>base_Blendedness_raw_child_xx</th><th>base_Blendedness_raw_child_yy</th><th>base_Blendedness_raw_child_xy</th><th>base_Blendedness_raw_parent_xx</th><th>base_Blendedness_raw_parent_yy</th><th>base_Blendedness_raw_parent_xy</th><th>base_Blendedness_abs_child_xx</th><th>base_Blendedness_abs_child_yy</th><th>base_Blendedness_abs_child_xy</th><th>base_Blendedness_abs_parent_xx</th><th>base_Blendedness_abs_parent_yy</th><th>base_Blendedness_abs_parent_xy</th><th>base_Blendedness_flag</th><th>base_Blendedness_flag_noCentroid</th><th>base_Blendedness_flag_noShape</th><th>base_FPPosition_x</th><th>base_FPPosition_y</th><th>base_FPPosition_flag</th><th>base_FPPosition_missingDetector_flag</th><th>base_Jacobian_value</th><th>base_Jacobian_flag</th><th>base_SdssShape_xx</th><th>base_SdssShape_yy</th><th>base_SdssShape_xy</th><th>base_SdssShape_xxErr</th><th>base_SdssShape_yyErr</th><th>base_SdssShape_xyErr</th><th>base_SdssShape_x</th><th>base_SdssShape_y</th><th>base_SdssShape_instFlux</th><th>base_SdssShape_instFluxErr</th><th>base_SdssShape_psf_xx</th><th>base_SdssShape_psf_yy</th><th>base_SdssShape_psf_xy</th><th>base_SdssShape_instFlux_xx_Cov</th><th>base_SdssShape_instFlux_yy_Cov</th><th>base_SdssShape_instFlux_xy_Cov</th><th>base_SdssShape_flag</th><th>base_SdssShape_flag_unweightedBad</th><th>base_SdssShape_flag_unweighted</th><th>base_SdssShape_flag_shift</th><th>base_SdssShape_flag_maxIter</th><th>base_SdssShape_flag_psf</th><th>ext_shapeHSM_HsmPsfMoments_x</th><th>slot_PsfShape_x</th><th>ext_shapeHSM_HsmPsfMoments_y</th><th>slot_PsfShape_y</th><th>ext_shapeHSM_HsmPsfMoments_xx</th><th>slot_PsfShape_xx</th><th>ext_shapeHSM_HsmPsfMoments_yy</th><th>slot_PsfShape_yy</th><th>ext_shapeHSM_HsmPsfMoments_xy</th><th>slot_PsfShape_xy</th><th>ext_shapeHSM_HsmPsfMoments_flag</th><th>slot_PsfShape_flag</th><th>ext_shapeHSM_HsmPsfMoments_flag_no_pixels</th><th>slot_PsfShape_flag_no_pixels</th><th>ext_shapeHSM_HsmPsfMoments_flag_not_contained</th><th>slot_PsfShape_flag_not_contained</th><th>ext_shapeHSM_HsmPsfMoments_flag_parent_source</th><th>slot_PsfShape_flag_parent_source</th><th>ext_shapeHSM_HsmShapeRegauss_e1</th><th>ext_shapeHSM_HsmShapeRegauss_e2</th><th>ext_shapeHSM_HsmShapeRegauss_sigma</th><th>ext_shapeHSM_HsmShapeRegauss_resolution</th><th>ext_shapeHSM_HsmShapeRegauss_flag</th><th>ext_shapeHSM_HsmShapeRegauss_flag_no_pixels</th><th>ext_shapeHSM_HsmShapeRegauss_flag_not_contained</th><th>ext_shapeHSM_HsmShapeRegauss_flag_parent_source</th><th>ext_shapeHSM_HsmShapeRegauss_flag_galsim</th><th>ext_shapeHSM_HsmSourceMoments_x</th><th>slot_Shape_x</th><th>ext_shapeHSM_HsmSourceMoments_y</th><th>slot_Shape_y</th><th>ext_shapeHSM_HsmSourceMoments_xx</th><th>slot_Shape_xx</th><th>ext_shapeHSM_HsmSourceMoments_yy</th><th>slot_Shape_yy</th><th>ext_shapeHSM_HsmSourceMoments_xy</th><th>slot_Shape_xy</th><th>ext_shapeHSM_HsmSourceMoments_flag</th><th>base_GaussianFlux_flag_badShape</th><th>slot_Shape_flag</th><th>ext_shapeHSM_HsmSourceMoments_flag_no_pixels</th><th>base_GaussianFlux_flag_badShape_no_pixels</th><th>slot_Shape_flag_no_pixels</th><th>ext_shapeHSM_HsmSourceMoments_flag_not_contained</th><th>base_GaussianFlux_flag_badShape_not_contained</th><th>slot_Shape_flag_not_contained</th><th>ext_shapeHSM_HsmSourceMoments_flag_parent_source</th><th>base_GaussianFlux_flag_badShape_parent_source</th><th>slot_Shape_flag_parent_source</th><th>ext_shapeHSM_HsmSourceMomentsRound_x</th><th>slot_ShapeRound_x</th><th>ext_shapeHSM_HsmSourceMomentsRound_y</th><th>slot_ShapeRound_y</th><th>ext_shapeHSM_HsmSourceMomentsRound_xx</th><th>slot_ShapeRound_xx</th><th>ext_shapeHSM_HsmSourceMomentsRound_yy</th><th>slot_ShapeRound_yy</th><th>ext_shapeHSM_HsmSourceMomentsRound_xy</th><th>slot_ShapeRound_xy</th><th>ext_shapeHSM_HsmSourceMomentsRound_flag</th><th>slot_ShapeRound_flag</th><th>ext_shapeHSM_HsmSourceMomentsRound_flag_no_pixels</th><th>slot_ShapeRound_flag_no_pixels</th><th>ext_shapeHSM_HsmSourceMomentsRound_flag_not_contained</th><th>slot_ShapeRound_flag_not_contained</th><th>ext_shapeHSM_HsmSourceMomentsRound_flag_parent_source</th><th>slot_ShapeRound_flag_parent_source</th><th>ext_shapeHSM_HsmSourceMomentsRound_Flux</th><th>slot_ShapeRound_Flux</th><th>base_CircularApertureFlux_3_0_instFlux</th><th>base_CircularApertureFlux_3_0_instFluxErr</th><th>base_CircularApertureFlux_3_0_flag</th><th>base_CircularApertureFlux_3_0_flag_apertureTruncated</th><th>base_CircularApertureFlux_3_0_flag_sincCoeffsTruncated</th><th>base_CircularApertureFlux_4_5_instFlux</th><th>base_CircularApertureFlux_4_5_instFluxErr</th><th>base_CircularApertureFlux_4_5_flag</th><th>base_CircularApertureFlux_4_5_flag_apertureTruncated</th><th>base_CircularApertureFlux_4_5_flag_sincCoeffsTruncated</th><th>base_CircularApertureFlux_6_0_instFlux</th><th>base_CircularApertureFlux_6_0_instFluxErr</th><th>base_CircularApertureFlux_6_0_flag</th><th>base_CircularApertureFlux_6_0_flag_apertureTruncated</th><th>base_CircularApertureFlux_6_0_flag_sincCoeffsTruncated</th><th>base_CircularApertureFlux_9_0_instFlux</th><th>base_CircularApertureFlux_9_0_instFluxErr</th><th>base_CircularApertureFlux_9_0_flag</th><th>base_CircularApertureFlux_9_0_flag_apertureTruncated</th><th>base_CircularApertureFlux_9_0_flag_sincCoeffsTruncated</th><th>base_CircularApertureFlux_12_0_instFlux</th><th>slot_ApFlux_instFlux</th><th>slot_CalibFlux_instFlux</th><th>base_CircularApertureFlux_12_0_instFluxErr</th><th>slot_ApFlux_instFluxErr</th><th>slot_CalibFlux_instFluxErr</th><th>base_CircularApertureFlux_12_0_flag</th><th>slot_ApFlux_flag</th><th>slot_CalibFlux_flag</th><th>base_CircularApertureFlux_12_0_flag_apertureTruncated</th><th>slot_ApFlux_flag_apertureTruncated</th><th>slot_CalibFlux_flag_apertureTruncated</th><th>base_CircularApertureFlux_12_0_flag_sincCoeffsTruncated</th><th>slot_ApFlux_flag_sincCoeffsTruncated</th><th>slot_CalibFlux_flag_sincCoeffsTruncated</th><th>base_CircularApertureFlux_17_0_instFlux</th><th>base_CircularApertureFlux_17_0_instFluxErr</th><th>base_CircularApertureFlux_17_0_flag</th><th>base_CircularApertureFlux_17_0_flag_apertureTruncated</th><th>base_CircularApertureFlux_25_0_instFlux</th><th>base_CircularApertureFlux_25_0_instFluxErr</th><th>base_CircularApertureFlux_25_0_flag</th><th>base_CircularApertureFlux_25_0_flag_apertureTruncated</th><th>base_CircularApertureFlux_35_0_instFlux</th><th>base_CircularApertureFlux_35_0_instFluxErr</th><th>base_CircularApertureFlux_35_0_flag</th><th>base_CircularApertureFlux_35_0_flag_apertureTruncated</th><th>base_CircularApertureFlux_50_0_instFlux</th><th>base_CircularApertureFlux_50_0_instFluxErr</th><th>base_CircularApertureFlux_50_0_flag</th><th>base_CircularApertureFlux_50_0_flag_apertureTruncated</th><th>base_CircularApertureFlux_70_0_instFlux</th><th>base_CircularApertureFlux_70_0_instFluxErr</th><th>base_CircularApertureFlux_70_0_flag</th><th>base_CircularApertureFlux_70_0_flag_apertureTruncated</th><th>base_GaussianFlux_instFlux</th><th>slot_GaussianFlux_instFlux</th><th>slot_ModelFlux_instFlux</th><th>base_GaussianFlux_instFluxErr</th><th>slot_GaussianFlux_instFluxErr</th><th>slot_ModelFlux_instFluxErr</th><th>base_GaussianFlux_flag</th><th>slot_GaussianFlux_flag</th><th>slot_ModelFlux_flag</th><th>base_LocalBackground_instFlux</th><th>base_LocalBackground_instFluxErr</th><th>base_LocalBackground_flag</th><th>base_LocalBackground_flag_noGoodPixels</th><th>base_LocalBackground_flag_noPsf</th><th>base_LocalPhotoCalib_flag</th><th>base_LocalPhotoCalib</th><th>base_LocalPhotoCalibErr</th><th>base_LocalWcs_flag</th><th>base_LocalWcs_CDMatrix_1_1</th><th>base_LocalWcs_CDMatrix_1_2</th><th>base_LocalWcs_CDMatrix_2_1</th><th>base_LocalWcs_CDMatrix_2_2</th><th>base_PixelFlags_flag</th><th>base_PixelFlags_flag_offimage</th><th>base_PixelFlags_flag_edge</th><th>base_PixelFlags_flag_interpolated</th><th>base_PixelFlags_flag_saturated</th><th>base_PixelFlags_flag_cr</th><th>base_PixelFlags_flag_bad</th><th>base_PixelFlags_flag_suspect</th><th>base_PixelFlags_flag_interpolatedCenter</th><th>base_PixelFlags_flag_saturatedCenter</th><th>base_PixelFlags_flag_crCenter</th><th>base_PixelFlags_flag_suspectCenter</th><th>base_PsfFlux_instFlux</th><th>slot_PsfFlux_instFlux</th><th>base_PsfFlux_instFluxErr</th><th>slot_PsfFlux_instFluxErr</th><th>base_PsfFlux_area</th><th>slot_PsfFlux_area</th><th>base_PsfFlux_flag</th><th>slot_PsfFlux_flag</th><th>base_PsfFlux_flag_noGoodPixels</th><th>slot_PsfFlux_flag_noGoodPixels</th><th>base_PsfFlux_flag_edge</th><th>slot_PsfFlux_flag_edge</th><th>base_Variance_flag</th><th>base_Variance_value</th><th>base_Variance_flag_emptyFootprint</th><th>ext_photometryKron_KronFlux_instFlux</th><th>ext_photometryKron_KronFlux_instFluxErr</th><th>ext_photometryKron_KronFlux_radius</th><th>ext_photometryKron_KronFlux_radius_for_radius</th><th>ext_photometryKron_KronFlux_psf_radius</th><th>ext_photometryKron_KronFlux_flag</th><th>ext_photometryKron_KronFlux_flag_edge</th><th>ext_photometryKron_KronFlux_flag_bad_shape_no_psf</th><th>ext_photometryKron_KronFlux_flag_no_minimum_radius</th><th>ext_photometryKron_KronFlux_flag_no_fallback_radius</th><th>ext_photometryKron_KronFlux_flag_bad_radius</th><th>ext_photometryKron_KronFlux_flag_used_minimum_radius</th><th>ext_photometryKron_KronFlux_flag_used_psf_radius</th><th>ext_photometryKron_KronFlux_flag_small_radius</th><th>ext_photometryKron_KronFlux_flag_bad_shape</th><th>base_GaussianFlux_apCorr</th><th>slot_GaussianFlux_apCorr</th><th>slot_ModelFlux_apCorr</th><th>base_GaussianFlux_apCorrErr</th><th>slot_GaussianFlux_apCorrErr</th><th>slot_ModelFlux_apCorrErr</th><th>base_GaussianFlux_flag_apCorr</th><th>slot_GaussianFlux_flag_apCorr</th><th>slot_ModelFlux_flag_apCorr</th><th>base_PsfFlux_apCorr</th><th>slot_PsfFlux_apCorr</th><th>base_PsfFlux_apCorrErr</th><th>slot_PsfFlux_apCorrErr</th><th>base_PsfFlux_flag_apCorr</th><th>slot_PsfFlux_flag_apCorr</th><th>ext_photometryKron_KronFlux_apCorr</th><th>ext_photometryKron_KronFlux_apCorrErr</th><th>ext_photometryKron_KronFlux_flag_apCorr</th><th>base_ClassificationExtendedness_value</th><th>base_ClassificationExtendedness_flag</th><th>base_FootprintArea_value</th><th>calib_astrometry_used</th><th>calib_photometry_used</th><th>calib_photometry_reserved</th></tr></thead>\n",
       "<thead><tr><th></th><th>rad</th><th>rad</th><th></th><th></th><th></th><th></th><th></th><th></th><th></th><th>pix</th><th>pix</th><th>ct</th><th></th><th></th><th></th><th></th><th></th><th></th><th></th><th></th><th>pix</th><th>pix</th><th></th><th></th><th></th><th></th><th>pix</th><th>pix</th><th>pix</th><th>pix</th><th>pix</th><th>pix</th><th>pix</th><th>pix</th><th></th><th></th><th></th><th></th><th></th><th></th><th></th><th></th><th></th><th></th><th></th><th></th><th></th><th></th><th></th><th></th><th></th><th></th><th></th><th></th><th></th><th></th><th></th><th></th><th></th><th></th><th></th><th></th><th></th><th></th><th></th><th></th><th></th><th></th><th></th><th></th><th></th><th></th><th></th><th></th><th></th><th></th><th></th><th></th><th></th><th></th><th></th><th></th><th></th><th></th><th></th><th></th><th></th><th></th><th></th><th></th><th></th><th></th><th></th><th></th><th></th><th></th><th></th><th></th><th></th><th></th><th></th><th></th><th></th><th></th><th></th><th></th><th></th><th></th><th></th><th></th><th></th><th></th><th></th><th></th><th></th><th></th><th></th><th></th><th></th><th></th><th></th><th></th><th></th><th></th><th></th><th></th><th></th><th></th><th></th><th></th><th></th><th></th><th></th><th></th><th>ct</th><th>ct</th><th></th><th>ct</th><th>ct</th><th>pix2</th><th>pix2</th><th>pix2</th><th>pix2</th><th>pix2</th><th>pix2</th><th>pix2</th><th>pix2</th><th>pix2</th><th>pix2</th><th>pix2</th><th>pix2</th><th></th><th></th><th></th><th>mm</th><th>mm</th><th></th><th></th><th></th><th></th><th>pix2</th><th>pix2</th><th>pix2</th><th>pix2</th><th>pix2</th><th>pix2</th><th>pix</th><th>pix</th><th>ct</th><th>ct</th><th>pix2</th><th>pix2</th><th>pix2</th><th>ct pix2</th><th>ct pix2</th><th>ct pix2</th><th></th><th></th><th></th><th></th><th></th><th></th><th>pix</th><th>pix</th><th>pix</th><th>pix</th><th>pix2</th><th>pix2</th><th>pix2</th><th>pix2</th><th>pix2</th><th>pix2</th><th></th><th></th><th></th><th></th><th></th><th></th><th></th><th></th><th></th><th></th><th></th><th></th><th></th><th></th><th></th><th></th><th></th><th>pix</th><th>pix</th><th>pix</th><th>pix</th><th>pix2</th><th>pix2</th><th>pix2</th><th>pix2</th><th>pix2</th><th>pix2</th><th></th><th></th><th></th><th></th><th></th><th></th><th></th><th></th><th></th><th></th><th></th><th></th><th>pix</th><th>pix</th><th>pix</th><th>pix</th><th>pix2</th><th>pix2</th><th>pix2</th><th>pix2</th><th>pix2</th><th>pix2</th><th></th><th></th><th></th><th></th><th></th><th></th><th></th><th></th><th></th><th></th><th>ct</th><th>ct</th><th></th><th></th><th></th><th>ct</th><th>ct</th><th></th><th></th><th></th><th>ct</th><th>ct</th><th></th><th></th><th></th><th>ct</th><th>ct</th><th></th><th></th><th></th><th>ct</th><th>ct</th><th>ct</th><th>ct</th><th>ct</th><th>ct</th><th></th><th></th><th></th><th></th><th></th><th></th><th></th><th></th><th></th><th>ct</th><th>ct</th><th></th><th></th><th>ct</th><th>ct</th><th></th><th></th><th>ct</th><th>ct</th><th></th><th></th><th>ct</th><th>ct</th><th></th><th></th><th>ct</th><th>ct</th><th></th><th></th><th>ct</th><th>ct</th><th>ct</th><th>ct</th><th>ct</th><th>ct</th><th></th><th></th><th></th><th>ct</th><th>ct</th><th></th><th></th><th></th><th></th><th></th><th></th><th></th><th></th><th></th><th></th><th></th><th></th><th></th><th></th><th></th><th></th><th></th><th></th><th></th><th></th><th></th><th></th><th></th><th>ct</th><th>ct</th><th>ct</th><th>ct</th><th>pix</th><th>pix</th><th></th><th></th><th></th><th></th><th></th><th></th><th></th><th></th><th></th><th>ct</th><th>ct</th><th></th><th></th><th></th><th></th><th></th><th></th><th></th><th></th><th></th><th></th><th></th><th></th><th></th><th></th><th></th><th></th><th></th><th></th><th></th><th></th><th></th><th></th><th></th><th></th><th></th><th></th><th></th><th></th><th></th><th></th><th></th><th></th><th></th><th>pix</th><th></th><th></th><th></th></tr></thead>\n",
       "<thead><tr><th>int64</th><th>float64</th><th>float64</th><th>int64</th><th>bool</th><th>bool</th><th>bool</th><th>bool</th><th>int32</th><th>bool</th><th>float64</th><th>float64</th><th>float64</th><th>bool</th><th>bool</th><th>bool</th><th>bool</th><th>bool</th><th>bool</th><th>bool</th><th>bool</th><th>float64</th><th>float64</th><th>bool</th><th>bool</th><th>bool</th><th>bool</th><th>float64</th><th>float64</th><th>float64</th><th>float64</th><th>float32</th><th>float32</th><th>float32</th><th>float32</th><th>bool</th><th>bool</th><th>bool</th><th>bool</th><th>bool</th><th>bool</th><th>bool</th><th>bool</th><th>bool</th><th>bool</th><th>bool</th><th>bool</th><th>bool</th><th>bool</th><th>bool</th><th>bool</th><th>bool</th><th>bool</th><th>bool</th><th>bool</th><th>bool</th><th>bool</th><th>bool</th><th>bool</th><th>bool</th><th>bool</th><th>bool</th><th>bool</th><th>bool</th><th>bool</th><th>bool</th><th>bool</th><th>bool</th><th>bool</th><th>bool</th><th>bool</th><th>bool</th><th>bool</th><th>bool</th><th>bool</th><th>bool</th><th>bool</th><th>bool</th><th>bool</th><th>bool</th><th>bool</th><th>bool</th><th>bool</th><th>bool</th><th>bool</th><th>bool</th><th>bool</th><th>bool</th><th>bool</th><th>bool</th><th>bool</th><th>bool</th><th>bool</th><th>bool</th><th>bool</th><th>bool</th><th>bool</th><th>bool</th><th>bool</th><th>bool</th><th>bool</th><th>bool</th><th>bool</th><th>bool</th><th>bool</th><th>bool</th><th>bool</th><th>bool</th><th>bool</th><th>bool</th><th>bool</th><th>bool</th><th>bool</th><th>bool</th><th>bool</th><th>bool</th><th>bool</th><th>bool</th><th>bool</th><th>bool</th><th>bool</th><th>bool</th><th>bool</th><th>bool</th><th>bool</th><th>bool</th><th>bool</th><th>bool</th><th>bool</th><th>bool</th><th>bool</th><th>bool</th><th>bool</th><th>float64</th><th>float64</th><th>float64</th><th>float64</th><th>float64</th><th>float64</th><th>float64</th><th>float64</th><th>float64</th><th>float64</th><th>float64</th><th>float64</th><th>float64</th><th>float64</th><th>float64</th><th>float64</th><th>float64</th><th>float64</th><th>float64</th><th>bool</th><th>bool</th><th>bool</th><th>float64</th><th>float64</th><th>bool</th><th>bool</th><th>float64</th><th>bool</th><th>float64</th><th>float64</th><th>float64</th><th>float32</th><th>float32</th><th>float32</th><th>float64</th><th>float64</th><th>float64</th><th>float64</th><th>float64</th><th>float64</th><th>float64</th><th>float32</th><th>float32</th><th>float32</th><th>bool</th><th>bool</th><th>bool</th><th>bool</th><th>bool</th><th>bool</th><th>float64</th><th>float64</th><th>float64</th><th>float64</th><th>float64</th><th>float64</th><th>float64</th><th>float64</th><th>float64</th><th>float64</th><th>bool</th><th>bool</th><th>bool</th><th>bool</th><th>bool</th><th>bool</th><th>bool</th><th>bool</th><th>float64</th><th>float64</th><th>float64</th><th>float64</th><th>bool</th><th>bool</th><th>bool</th><th>bool</th><th>bool</th><th>float64</th><th>float64</th><th>float64</th><th>float64</th><th>float64</th><th>float64</th><th>float64</th><th>float64</th><th>float64</th><th>float64</th><th>bool</th><th>bool</th><th>bool</th><th>bool</th><th>bool</th><th>bool</th><th>bool</th><th>bool</th><th>bool</th><th>bool</th><th>bool</th><th>bool</th><th>float64</th><th>float64</th><th>float64</th><th>float64</th><th>float64</th><th>float64</th><th>float64</th><th>float64</th><th>float64</th><th>float64</th><th>bool</th><th>bool</th><th>bool</th><th>bool</th><th>bool</th><th>bool</th><th>bool</th><th>bool</th><th>float32</th><th>float32</th><th>float64</th><th>float64</th><th>bool</th><th>bool</th><th>bool</th><th>float64</th><th>float64</th><th>bool</th><th>bool</th><th>bool</th><th>float64</th><th>float64</th><th>bool</th><th>bool</th><th>bool</th><th>float64</th><th>float64</th><th>bool</th><th>bool</th><th>bool</th><th>float64</th><th>float64</th><th>float64</th><th>float64</th><th>float64</th><th>float64</th><th>bool</th><th>bool</th><th>bool</th><th>bool</th><th>bool</th><th>bool</th><th>bool</th><th>bool</th><th>bool</th><th>float64</th><th>float64</th><th>bool</th><th>bool</th><th>float64</th><th>float64</th><th>bool</th><th>bool</th><th>float64</th><th>float64</th><th>bool</th><th>bool</th><th>float64</th><th>float64</th><th>bool</th><th>bool</th><th>float64</th><th>float64</th><th>bool</th><th>bool</th><th>float64</th><th>float64</th><th>float64</th><th>float64</th><th>float64</th><th>float64</th><th>bool</th><th>bool</th><th>bool</th><th>float64</th><th>float64</th><th>bool</th><th>bool</th><th>bool</th><th>bool</th><th>float64</th><th>float64</th><th>bool</th><th>float64</th><th>float64</th><th>float64</th><th>float64</th><th>bool</th><th>bool</th><th>bool</th><th>bool</th><th>bool</th><th>bool</th><th>bool</th><th>bool</th><th>bool</th><th>bool</th><th>bool</th><th>bool</th><th>float64</th><th>float64</th><th>float64</th><th>float64</th><th>float32</th><th>float32</th><th>bool</th><th>bool</th><th>bool</th><th>bool</th><th>bool</th><th>bool</th><th>bool</th><th>float64</th><th>bool</th><th>float64</th><th>float64</th><th>float32</th><th>float32</th><th>float32</th><th>bool</th><th>bool</th><th>bool</th><th>bool</th><th>bool</th><th>bool</th><th>bool</th><th>bool</th><th>bool</th><th>bool</th><th>float64</th><th>float64</th><th>float64</th><th>float64</th><th>float64</th><th>float64</th><th>bool</th><th>bool</th><th>bool</th><th>float64</th><th>float64</th><th>float64</th><th>float64</th><th>bool</th><th>bool</th><th>float64</th><th>float64</th><th>bool</th><th>float64</th><th>bool</th><th>int32</th><th>bool</th><th>bool</th><th>bool</th></tr></thead>\n",
       "<tr><td>33447624753283073</td><td>5.927461717310882</td><td>0.020324030581759404</td><td>0</td><td>False</td><td>False</td><td>False</td><td>False</td><td>0</td><td>False</td><td>nan</td><td>nan</td><td>nan</td><td>False</td><td>False</td><td>False</td><td>False</td><td>False</td><td>False</td><td>False</td><td>False</td><td>43.98388771246896</td><td>3.863818835456476</td><td>False</td><td>False</td><td>False</td><td>False</td><td>44.0</td><td>44.0</td><td>4.0</td><td>4.0</td><td>nan</td><td>nan</td><td>nan</td><td>nan</td><td>True</td><td>True</td><td>True</td><td>True</td><td>True</td><td>True</td><td>True</td><td>True</td><td>True</td><td>True</td><td>True</td><td>True</td><td>True</td><td>True</td><td>True</td><td>True</td><td>True</td><td>True</td><td>True</td><td>True</td><td>True</td><td>True</td><td>True</td><td>True</td><td>True</td><td>True</td><td>True</td><td>True</td><td>False</td><td>False</td><td>False</td><td>False</td><td>False</td><td>False</td><td>False</td><td>False</td><td>False</td><td>False</td><td>False</td><td>False</td><td>False</td><td>False</td><td>False</td><td>False</td><td>False</td><td>False</td><td>False</td><td>False</td><td>False</td><td>False</td><td>False</td><td>False</td><td>False</td><td>False</td><td>False</td><td>False</td><td>False</td><td>False</td><td>False</td><td>False</td><td>False</td><td>False</td><td>False</td><td>False</td><td>False</td><td>False</td><td>False</td><td>False</td><td>False</td><td>False</td><td>False</td><td>False</td><td>False</td><td>False</td><td>False</td><td>False</td><td>False</td><td>False</td><td>False</td><td>False</td><td>False</td><td>False</td><td>False</td><td>False</td><td>False</td><td>False</td><td>False</td><td>False</td><td>False</td><td>False</td><td>False</td><td>False</td><td>False</td><td>False</td><td>False</td><td>False</td><td>False</td><td>False</td><td>0.0</td><td>0.0</td><td>1142.7484440082712</td><td>1142.7484440082712</td><td>0.0</td><td>1206.2155124263097</td><td>1206.2155124263097</td><td>2.552522200279496</td><td>4.858522189746464</td><td>-1.0630740493631041</td><td>2.552522200279496</td><td>4.858522189746464</td><td>-1.0630740493631041</td><td>2.8656594222433687</td><td>5.129956650711508</td><td>-0.65963676310079</td><td>2.8656594222433687</td><td>5.129956650711508</td><td>-0.65963676310079</td><td>True</td><td>True</td><td>True</td><td>48.96119488673288</td><td>-127.30104225978371</td><td>False</td><td>False</td><td>0.964247515551457</td><td>False</td><td>1616.587414602588</td><td>194.17075500812555</td><td>179.1373923353609</td><td>291.27658</td><td>74.941</td><td>34.98567</td><td>56.43302901697888</td><td>9.486601915719978</td><td>35202.960383751844</td><td>3171.4334096705797</td><td>1.1488423499066</td><td>1.1170309563050564</td><td>-0.10599926283754268</td><td>-461882.1</td><td>-51182.117</td><td>-55477.36</td><td>True</td><td>False</td><td>False</td><td>True</td><td>False</td><td>False</td><td>0.0020054226614169774</td><td>0.0020054226614169774</td><td>-0.004296363115945694</td><td>-0.004296363115945694</td><td>1.15018532879328</td><td>1.15018532879328</td><td>1.1181828725877365</td><td>1.1181828725877365</td><td>-0.10609049679458768</td><td>-0.10609049679458768</td><td>True</td><td>True</td><td>False</td><td>False</td><td>False</td><td>False</td><td>False</td><td>False</td><td>-0.28158968687057495</td><td>-0.3980499804019928</td><td>0.5060442686080933</td><td>0.6316920518875122</td><td>False</td><td>False</td><td>False</td><td>False</td><td>False</td><td>44.079131232871596</td><td>44.079131232871596</td><td>3.051889264387893</td><td>3.051889264387893</td><td>2.6162972712311237</td><td>2.6162972712311237</td><td>3.8247707317828064</td><td>3.8247707317828064</td><td>-0.9685442709759783</td><td>-0.9685442709759783</td><td>True</td><td>True</td><td>True</td><td>False</td><td>False</td><td>False</td><td>False</td><td>False</td><td>False</td><td>False</td><td>False</td><td>False</td><td>43.99039718208243</td><td>43.99039718208243</td><td>2.9908578547847355</td><td>2.9908578547847355</td><td>2.9579068371407384</td><td>2.9579068371407384</td><td>3.5372013685037786</td><td>3.5372013685037786</td><td>-0.554567407163362</td><td>-0.554567407163362</td><td>True</td><td>True</td><td>False</td><td>False</td><td>False</td><td>False</td><td>False</td><td>False</td><td>1166.2382</td><td>1166.2382</td><td>806.4387817382812</td><td>140.46957397460938</td><td>True</td><td>False</td><td>True</td><td>nan</td><td>nan</td><td>True</td><td>True</td><td>True</td><td>nan</td><td>nan</td><td>True</td><td>True</td><td>True</td><td>nan</td><td>nan</td><td>True</td><td>True</td><td>True</td><td>nan</td><td>nan</td><td>nan</td><td>nan</td><td>nan</td><td>nan</td><td>True</td><td>True</td><td>True</td><td>True</td><td>True</td><td>True</td><td>True</td><td>True</td><td>True</td><td>nan</td><td>nan</td><td>True</td><td>True</td><td>nan</td><td>nan</td><td>True</td><td>True</td><td>nan</td><td>nan</td><td>True</td><td>True</td><td>nan</td><td>nan</td><td>True</td><td>True</td><td>nan</td><td>nan</td><td>True</td><td>True</td><td>1322.4810214112083</td><td>1322.4810214112083</td><td>1322.4810214112083</td><td>191.28964671349283</td><td>191.28964671349283</td><td>191.28964671349283</td><td>False</td><td>False</td><td>False</td><td>12.348211372163899</td><td>29.50181706985674</td><td>True</td><td>False</td><td>False</td><td>False</td><td>0.15099758602010033</td><td>0.0</td><td>False</td><td>-5.158636868755371e-09</td><td>-7.944557331930293e-07</td><td>-8.051976966302796e-07</td><td>-4.623316576821191e-09</td><td>False</td><td>False</td><td>True</td><td>False</td><td>False</td><td>False</td><td>False</td><td>False</td><td>False</td><td>False</td><td>False</td><td>False</td><td>743.4755288650005</td><td>743.4755288650005</td><td>116.16251427680163</td><td>116.16251427680163</td><td>18.452938</td><td>18.452938</td><td>True</td><td>True</td><td>False</td><td>False</td><td>True</td><td>True</td><td>False</td><td>737.822021484375</td><td>False</td><td>nan</td><td>nan</td><td>nan</td><td>nan</td><td>nan</td><td>True</td><td>True</td><td>False</td><td>False</td><td>False</td><td>False</td><td>False</td><td>False</td><td>False</td><td>True</td><td>1.1325354696863479</td><td>1.1325354696863479</td><td>1.1325354696863479</td><td>0.0</td><td>0.0</td><td>0.0</td><td>False</td><td>False</td><td>False</td><td>0.9881267311366841</td><td>0.9881267311366841</td><td>0.0</td><td>0.0</td><td>False</td><td>False</td><td>1.046617345225964</td><td>0.0</td><td>False</td><td>nan</td><td>True</td><td>36</td><td>False</td><td>False</td><td>False</td></tr>\n",
       "<tr><td>33447624753283074</td><td>5.927462375717455</td><td>0.02030058798905319</td><td>0</td><td>False</td><td>False</td><td>False</td><td>False</td><td>0</td><td>False</td><td>nan</td><td>nan</td><td>nan</td><td>False</td><td>False</td><td>False</td><td>False</td><td>False</td><td>False</td><td>False</td><td>False</td><td>73.01824997232292</td><td>2.774105323656955</td><td>False</td><td>False</td><td>False</td><td>False</td><td>73.0</td><td>73.0</td><td>3.0</td><td>3.0</td><td>nan</td><td>nan</td><td>nan</td><td>nan</td><td>True</td><td>True</td><td>True</td><td>True</td><td>True</td><td>True</td><td>True</td><td>True</td><td>True</td><td>True</td><td>True</td><td>True</td><td>True</td><td>True</td><td>True</td><td>True</td><td>True</td><td>True</td><td>True</td><td>True</td><td>True</td><td>True</td><td>True</td><td>True</td><td>True</td><td>True</td><td>True</td><td>True</td><td>False</td><td>False</td><td>False</td><td>False</td><td>False</td><td>False</td><td>False</td><td>False</td><td>False</td><td>False</td><td>False</td><td>False</td><td>False</td><td>False</td><td>False</td><td>False</td><td>False</td><td>False</td><td>False</td><td>False</td><td>False</td><td>False</td><td>False</td><td>False</td><td>False</td><td>False</td><td>False</td><td>False</td><td>False</td><td>False</td><td>False</td><td>False</td><td>False</td><td>False</td><td>False</td><td>False</td><td>False</td><td>False</td><td>False</td><td>False</td><td>False</td><td>False</td><td>False</td><td>False</td><td>False</td><td>False</td><td>False</td><td>False</td><td>False</td><td>False</td><td>False</td><td>False</td><td>False</td><td>False</td><td>False</td><td>False</td><td>False</td><td>False</td><td>False</td><td>False</td><td>False</td><td>False</td><td>False</td><td>False</td><td>False</td><td>False</td><td>False</td><td>False</td><td>False</td><td>False</td><td>0.0</td><td>0.0</td><td>1293.0114374546083</td><td>1293.0114374546083</td><td>0.0</td><td>1288.2723749564186</td><td>1288.2723749564186</td><td>3.1219575902560854</td><td>5.396959105943903</td><td>2.4289819806222686</td><td>3.1219575902560854</td><td>5.396959105943903</td><td>2.4289819806222686</td><td>3.320574214132197</td><td>5.596080405324199</td><td>2.5252756290320364</td><td>3.320574214132197</td><td>5.596080405324199</td><td>2.5252756290320364</td><td>True</td><td>True</td><td>True</td><td>49.39619696783998</td><td>-127.3159817856297</td><td>False</td><td>False</td><td>0.9641571917549622</td><td>False</td><td>6.99599476502904</td><td>7.470503940334874</td><td>1.7076201352249845</td><td>nan</td><td>nan</td><td>nan</td><td>72.94703760296443</td><td>2.791164240054145</td><td>nan</td><td>nan</td><td>1.1487323477018905</td><td>1.116487663578489</td><td>-0.10655348897680869</td><td>nan</td><td>nan</td><td>nan</td><td>True</td><td>False</td><td>True</td><td>False</td><td>False</td><td>False</td><td>0.002017527596433129</td><td>0.002017527596433129</td><td>-0.0043093196972142185</td><td>-0.0043093196972142185</td><td>1.1498079280075624</td><td>1.1498079280075624</td><td>1.1175004954602195</td><td>1.1175004954602195</td><td>-0.10678374011309898</td><td>-0.10678374011309898</td><td>True</td><td>True</td><td>False</td><td>False</td><td>False</td><td>False</td><td>False</td><td>False</td><td>-0.33661457896232605</td><td>1.022668719291687</td><td>0.3593026399612427</td><td>0.5978975296020508</td><td>False</td><td>False</td><td>False</td><td>False</td><td>False</td><td>72.57413568996184</td><td>72.57413568996184</td><td>2.1382359194733134</td><td>2.1382359194733134</td><td>2.511919552217391</td><td>2.511919552217391</td><td>3.5294355593551208</td><td>3.5294355593551208</td><td>1.5940508173357955</td><td>1.5940508173357955</td><td>True</td><td>True</td><td>True</td><td>False</td><td>False</td><td>False</td><td>False</td><td>False</td><td>False</td><td>False</td><td>False</td><td>False</td><td>72.17905999859492</td><td>72.17905999859492</td><td>2.186868532435199</td><td>2.186868532435199</td><td>3.3174825457442774</td><td>3.3174825457442774</td><td>3.4363346954877843</td><td>3.4363346954877843</td><td>0.686919474176397</td><td>0.686919474176397</td><td>True</td><td>True</td><td>False</td><td>False</td><td>False</td><td>False</td><td>False</td><td>False</td><td>1443.7618</td><td>1443.7618</td><td>1080.3818359375</td><td>140.75189208984375</td><td>True</td><td>False</td><td>True</td><td>nan</td><td>nan</td><td>True</td><td>True</td><td>True</td><td>nan</td><td>nan</td><td>True</td><td>True</td><td>True</td><td>nan</td><td>nan</td><td>True</td><td>True</td><td>True</td><td>nan</td><td>nan</td><td>nan</td><td>nan</td><td>nan</td><td>nan</td><td>True</td><td>True</td><td>True</td><td>True</td><td>True</td><td>True</td><td>True</td><td>True</td><td>True</td><td>nan</td><td>nan</td><td>True</td><td>True</td><td>nan</td><td>nan</td><td>True</td><td>True</td><td>nan</td><td>nan</td><td>True</td><td>True</td><td>nan</td><td>nan</td><td>True</td><td>True</td><td>nan</td><td>nan</td><td>True</td><td>True</td><td>1521.3546881286718</td><td>1521.3546881286718</td><td>1521.3546881286718</td><td>175.07690825781773</td><td>175.07690825781773</td><td>175.07690825781773</td><td>False</td><td>False</td><td>False</td><td>12.679292945992458</td><td>28.845145255775623</td><td>True</td><td>False</td><td>False</td><td>False</td><td>0.15099758602010033</td><td>0.0</td><td>False</td><td>-5.204008824201934e-09</td><td>-7.944329069337138e-07</td><td>-8.051459527347149e-07</td><td>-4.66764397522325e-09</td><td>False</td><td>False</td><td>True</td><td>False</td><td>False</td><td>False</td><td>False</td><td>False</td><td>False</td><td>False</td><td>False</td><td>False</td><td>762.4795722039222</td><td>762.4795722039222</td><td>116.41263852593613</td><td>116.41263852593613</td><td>18.30927</td><td>18.30927</td><td>True</td><td>True</td><td>False</td><td>False</td><td>True</td><td>True</td><td>False</td><td>740.744384765625</td><td>False</td><td>nan</td><td>nan</td><td>nan</td><td>nan</td><td>nan</td><td>True</td><td>True</td><td>False</td><td>False</td><td>False</td><td>False</td><td>False</td><td>False</td><td>False</td><td>True</td><td>1.1337276491236714</td><td>1.1337276491236714</td><td>1.1337276491236714</td><td>0.0</td><td>0.0</td><td>0.0</td><td>False</td><td>False</td><td>False</td><td>0.9880315181729316</td><td>0.9880315181729316</td><td>0.0</td><td>0.0</td><td>False</td><td>False</td><td>1.047471276982731</td><td>0.0</td><td>False</td><td>nan</td><td>True</td><td>36</td><td>False</td><td>False</td><td>False</td></tr>\n",
       "<tr><td>33447624753283075</td><td>5.927458484334328</td><td>0.019743869579209136</td><td>0</td><td>False</td><td>False</td><td>False</td><td>False</td><td>0</td><td>False</td><td>nan</td><td>nan</td><td>nan</td><td>False</td><td>False</td><td>False</td><td>False</td><td>False</td><td>False</td><td>False</td><td>False</td><td>761.9552526697868</td><td>2.622366413071898</td><td>False</td><td>False</td><td>False</td><td>False</td><td>762.0</td><td>762.0</td><td>3.0</td><td>3.0</td><td>nan</td><td>nan</td><td>nan</td><td>nan</td><td>True</td><td>True</td><td>True</td><td>True</td><td>True</td><td>True</td><td>True</td><td>True</td><td>True</td><td>True</td><td>True</td><td>True</td><td>True</td><td>True</td><td>True</td><td>True</td><td>True</td><td>True</td><td>True</td><td>True</td><td>True</td><td>True</td><td>True</td><td>True</td><td>True</td><td>True</td><td>True</td><td>True</td><td>False</td><td>False</td><td>False</td><td>False</td><td>False</td><td>False</td><td>False</td><td>False</td><td>False</td><td>False</td><td>False</td><td>False</td><td>False</td><td>False</td><td>False</td><td>False</td><td>False</td><td>False</td><td>False</td><td>False</td><td>False</td><td>False</td><td>False</td><td>False</td><td>False</td><td>False</td><td>False</td><td>False</td><td>False</td><td>False</td><td>False</td><td>False</td><td>False</td><td>False</td><td>False</td><td>False</td><td>False</td><td>False</td><td>False</td><td>False</td><td>False</td><td>False</td><td>False</td><td>False</td><td>False</td><td>False</td><td>False</td><td>False</td><td>False</td><td>False</td><td>False</td><td>False</td><td>False</td><td>False</td><td>False</td><td>False</td><td>False</td><td>False</td><td>False</td><td>False</td><td>False</td><td>False</td><td>False</td><td>False</td><td>False</td><td>False</td><td>False</td><td>False</td><td>False</td><td>False</td><td>0.0</td><td>nan</td><td>nan</td><td>nan</td><td>nan</td><td>nan</td><td>nan</td><td>nan</td><td>nan</td><td>nan</td><td>nan</td><td>nan</td><td>nan</td><td>nan</td><td>nan</td><td>nan</td><td>nan</td><td>nan</td><td>nan</td><td>True</td><td>True</td><td>True</td><td>59.73119686796895</td><td>-127.3145450065871</td><td>False</td><td>False</td><td>0.961967404454377</td><td>False</td><td>3.134423421129492</td><td>6.71656169759812</td><td>-1.1263695286292588</td><td>nan</td><td>nan</td><td>nan</td><td>762.022699534552</td><td>1.8414474044461746</td><td>nan</td><td>nan</td><td>1.1399009337910393</td><td>1.1056967215731492</td><td>-0.11753202714077864</td><td>nan</td><td>nan</td><td>nan</td><td>True</td><td>False</td><td>True</td><td>False</td><td>False</td><td>False</td><td>0.0019293881977002257</td><td>0.0019293881977002257</td><td>-0.004094515597512623</td><td>-0.004094515597512623</td><td>1.1409336953117406</td><td>1.1409336953117406</td><td>1.106523347434019</td><td>1.106523347434019</td><td>-0.1177184075136625</td><td>-0.1177184075136625</td><td>True</td><td>True</td><td>False</td><td>False</td><td>False</td><td>False</td><td>False</td><td>False</td><td>nan</td><td>nan</td><td>nan</td><td>nan</td><td>True</td><td>False</td><td>False</td><td>False</td><td>True</td><td>nan</td><td>nan</td><td>nan</td><td>nan</td><td>nan</td><td>nan</td><td>nan</td><td>nan</td><td>nan</td><td>nan</td><td>True</td><td>True</td><td>True</td><td>False</td><td>False</td><td>False</td><td>False</td><td>False</td><td>False</td><td>False</td><td>False</td><td>False</td><td>762.511913367971</td><td>762.511913367971</td><td>0.09728881738487503</td><td>0.09728881738487503</td><td>0.8341843121549816</td><td>0.8341843121549816</td><td>0.22155726312175733</td><td>0.22155726312175733</td><td>-1.8473229292617913e-05</td><td>-1.8473229292617913e-05</td><td>True</td><td>True</td><td>False</td><td>False</td><td>False</td><td>False</td><td>False</td><td>False</td><td>13131.538</td><td>13131.538</td><td>10281.2939453125</td><td>146.9960479736328</td><td>True</td><td>False</td><td>True</td><td>nan</td><td>nan</td><td>True</td><td>True</td><td>True</td><td>nan</td><td>nan</td><td>True</td><td>True</td><td>True</td><td>nan</td><td>nan</td><td>True</td><td>True</td><td>True</td><td>nan</td><td>nan</td><td>nan</td><td>nan</td><td>nan</td><td>nan</td><td>True</td><td>True</td><td>True</td><td>True</td><td>True</td><td>True</td><td>True</td><td>True</td><td>True</td><td>nan</td><td>nan</td><td>True</td><td>True</td><td>nan</td><td>nan</td><td>True</td><td>True</td><td>nan</td><td>nan</td><td>True</td><td>True</td><td>nan</td><td>nan</td><td>True</td><td>True</td><td>nan</td><td>nan</td><td>True</td><td>True</td><td>nan</td><td>nan</td><td>nan</td><td>nan</td><td>nan</td><td>nan</td><td>True</td><td>True</td><td>True</td><td>6.404164098223593</td><td>30.874488857048</td><td>True</td><td>False</td><td>False</td><td>False</td><td>0.15099758602010033</td><td>0.0</td><td>False</td><td>-6.269366722633333e-09</td><td>-7.939525893944822e-07</td><td>-8.038180804753315e-07</td><td>-5.711508029771171e-09</td><td>False</td><td>False</td><td>True</td><td>False</td><td>False</td><td>False</td><td>False</td><td>False</td><td>False</td><td>False</td><td>False</td><td>False</td><td>4431.909932709413</td><td>4431.909932709413</td><td>120.60911220650442</td><td>120.60911220650442</td><td>18.693375</td><td>18.693375</td><td>True</td><td>True</td><td>False</td><td>False</td><td>True</td><td>True</td><td>True</td><td>nan</td><td>True</td><td>nan</td><td>nan</td><td>nan</td><td>nan</td><td>nan</td><td>True</td><td>True</td><td>False</td><td>False</td><td>False</td><td>False</td><td>False</td><td>False</td><td>False</td><td>True</td><td>1.1514309210502025</td><td>1.1514309210502025</td><td>1.1514309210502025</td><td>0.0</td><td>0.0</td><td>0.0</td><td>False</td><td>False</td><td>False</td><td>0.9872458505797126</td><td>0.9872458505797126</td><td>0.0</td><td>0.0</td><td>False</td><td>False</td><td>1.0598423816330296</td><td>0.0</td><td>False</td><td>nan</td><td>True</td><td>114</td><td>False</td><td>False</td><td>False</td></tr>\n",
       "<tr><td>33447624753283076</td><td>5.92745599304601</td><td>0.019445252114775526</td><td>0</td><td>False</td><td>False</td><td>False</td><td>False</td><td>0</td><td>False</td><td>nan</td><td>nan</td><td>nan</td><td>False</td><td>False</td><td>False</td><td>False</td><td>False</td><td>False</td><td>False</td><td>False</td><td>1131.906932268167</td><td>2.667269328501313</td><td>False</td><td>False</td><td>False</td><td>False</td><td>1132.0</td><td>1132.0</td><td>3.0</td><td>3.0</td><td>nan</td><td>nan</td><td>nan</td><td>nan</td><td>True</td><td>True</td><td>True</td><td>True</td><td>True</td><td>True</td><td>True</td><td>True</td><td>True</td><td>True</td><td>True</td><td>True</td><td>True</td><td>True</td><td>True</td><td>True</td><td>True</td><td>True</td><td>True</td><td>True</td><td>True</td><td>True</td><td>True</td><td>True</td><td>True</td><td>True</td><td>True</td><td>True</td><td>False</td><td>False</td><td>False</td><td>False</td><td>False</td><td>False</td><td>False</td><td>False</td><td>False</td><td>False</td><td>False</td><td>False</td><td>False</td><td>False</td><td>False</td><td>False</td><td>False</td><td>False</td><td>False</td><td>False</td><td>False</td><td>False</td><td>False</td><td>False</td><td>False</td><td>False</td><td>False</td><td>False</td><td>False</td><td>False</td><td>False</td><td>False</td><td>False</td><td>False</td><td>False</td><td>False</td><td>False</td><td>False</td><td>False</td><td>False</td><td>False</td><td>False</td><td>False</td><td>False</td><td>False</td><td>False</td><td>False</td><td>False</td><td>False</td><td>False</td><td>False</td><td>False</td><td>False</td><td>False</td><td>False</td><td>False</td><td>False</td><td>False</td><td>False</td><td>False</td><td>False</td><td>False</td><td>False</td><td>False</td><td>False</td><td>False</td><td>False</td><td>False</td><td>False</td><td>False</td><td>0.0</td><td>0.0</td><td>701.4245082815193</td><td>701.4245082815193</td><td>0.0</td><td>713.2610107800127</td><td>713.2610107800127</td><td>1.3277199299137057</td><td>1.111329731123913</td><td>-0.004587192661771532</td><td>1.3277199299137057</td><td>1.111329731123913</td><td>-0.004587192661771532</td><td>1.5798579213411712</td><td>1.2160196763272046</td><td>-0.056704310772876</td><td>1.5798579213411712</td><td>1.2160196763272046</td><td>-0.056704310772876</td><td>True</td><td>True</td><td>True</td><td>65.28119681433719</td><td>-127.31377344164403</td><td>False</td><td>False</td><td>0.9606157917333393</td><td>False</td><td>1.4402470190436287</td><td>1.1061866664105529</td><td>0.085764413552122</td><td>0.60058177</td><td>0.373038</td><td>0.46127886</td><td>1131.8587009715222</td><td>2.7144911010660575</td><td>748.1228458900007</td><td>155.9832868072106</td><td>1.1356453503675024</td><td>1.1034545547110024</td><td>-0.11950944387756479</td><td>-46.84036</td><td>-2.7892685</td><td>-35.975895</td><td>False</td><td>False</td><td>False</td><td>False</td><td>False</td><td>False</td><td>0.0015967553758801211</td><td>0.0015967553758801211</td><td>-0.0036080339243831304</td><td>-0.0036080339243831304</td><td>1.1366770213616633</td><td>1.1366770213616633</td><td>1.1042416846850325</td><td>1.1042416846850325</td><td>-0.11972136372819345</td><td>-0.11972136372819345</td><td>True</td><td>True</td><td>False</td><td>False</td><td>False</td><td>False</td><td>False</td><td>False</td><td>0.5044006705284119</td><td>-0.13752898573875427</td><td>9.014243125915527</td><td>0.032169993966817856</td><td>False</td><td>False</td><td>False</td><td>False</td><td>False</td><td>1131.7658747885482</td><td>1131.7658747885482</td><td>2.4776456648570786</td><td>2.4776456648570786</td><td>1.3061452678852568</td><td>1.3061452678852568</td><td>1.0163673871521377</td><td>1.0163673871521377</td><td>-0.1360652761089759</td><td>-0.1360652761089759</td><td>True</td><td>True</td><td>True</td><td>False</td><td>False</td><td>False</td><td>False</td><td>False</td><td>False</td><td>False</td><td>False</td><td>False</td><td>1131.784511606781</td><td>1131.784511606781</td><td>2.4748228229311056</td><td>2.4748228229311056</td><td>1.2126361569411843</td><td>1.2126361569411843</td><td>1.0233377382342572</td><td>1.0233377382342572</td><td>-0.06475318506316897</td><td>-0.06475318506316897</td><td>True</td><td>True</td><td>False</td><td>False</td><td>False</td><td>False</td><td>False</td><td>False</td><td>758.9398</td><td>758.9398</td><td>735.6756591796875</td><td>143.66128540039062</td><td>True</td><td>False</td><td>True</td><td>nan</td><td>nan</td><td>True</td><td>True</td><td>True</td><td>nan</td><td>nan</td><td>True</td><td>True</td><td>True</td><td>nan</td><td>nan</td><td>True</td><td>True</td><td>True</td><td>nan</td><td>nan</td><td>nan</td><td>nan</td><td>nan</td><td>nan</td><td>True</td><td>True</td><td>True</td><td>True</td><td>True</td><td>True</td><td>True</td><td>True</td><td>True</td><td>nan</td><td>nan</td><td>True</td><td>True</td><td>nan</td><td>nan</td><td>True</td><td>True</td><td>nan</td><td>nan</td><td>True</td><td>True</td><td>nan</td><td>nan</td><td>True</td><td>True</td><td>nan</td><td>nan</td><td>True</td><td>True</td><td>815.7658172101601</td><td>815.7658172101601</td><td>815.7658172101601</td><td>121.13836797136132</td><td>121.13836797136132</td><td>121.13836797136132</td><td>False</td><td>False</td><td>False</td><td>7.799944266369022</td><td>28.786138694538725</td><td>True</td><td>False</td><td>False</td><td>False</td><td>0.15099758602010033</td><td>0.0</td><td>False</td><td>-6.8433894823663404e-09</td><td>-7.936565452529197e-07</td><td>-8.029972212765293e-07</td><td>-6.276135128006491e-09</td><td>False</td><td>False</td><td>True</td><td>True</td><td>False</td><td>True</td><td>False</td><td>False</td><td>False</td><td>False</td><td>False</td><td>False</td><td>794.7759449597648</td><td>794.7759449597648</td><td>118.7979052316007</td><td>118.7979052316007</td><td>18.670755</td><td>18.670755</td><td>True</td><td>True</td><td>False</td><td>False</td><td>True</td><td>True</td><td>False</td><td>745.3880615234375</td><td>False</td><td>nan</td><td>nan</td><td>nan</td><td>nan</td><td>nan</td><td>True</td><td>True</td><td>False</td><td>False</td><td>False</td><td>False</td><td>False</td><td>False</td><td>False</td><td>True</td><td>1.1522503566043925</td><td>1.1522503566043925</td><td>1.1522503566043925</td><td>0.0</td><td>0.0</td><td>0.0</td><td>False</td><td>False</td><td>False</td><td>0.9878158627678424</td><td>0.9878158627678424</td><td>0.0</td><td>0.0</td><td>False</td><td>False</td><td>1.0599009270810267</td><td>0.0</td><td>False</td><td>nan</td><td>True</td><td>36</td><td>False</td><td>False</td><td>False</td></tr>\n",
       "<tr><td>33447624753283077</td><td>5.927453557019366</td><td>0.01917756293098281</td><td>0</td><td>False</td><td>False</td><td>False</td><td>False</td><td>0</td><td>False</td><td>nan</td><td>nan</td><td>nan</td><td>False</td><td>False</td><td>False</td><td>False</td><td>False</td><td>False</td><td>False</td><td>False</td><td>1464.0506182198</td><td>2.817906804761943</td><td>False</td><td>False</td><td>False</td><td>False</td><td>1464.0</td><td>1464.0</td><td>3.0</td><td>3.0</td><td>nan</td><td>nan</td><td>nan</td><td>nan</td><td>True</td><td>True</td><td>True</td><td>True</td><td>True</td><td>True</td><td>True</td><td>True</td><td>True</td><td>True</td><td>True</td><td>True</td><td>True</td><td>True</td><td>True</td><td>True</td><td>True</td><td>True</td><td>True</td><td>True</td><td>True</td><td>True</td><td>True</td><td>True</td><td>True</td><td>True</td><td>True</td><td>True</td><td>False</td><td>False</td><td>False</td><td>False</td><td>False</td><td>False</td><td>False</td><td>False</td><td>False</td><td>False</td><td>False</td><td>False</td><td>False</td><td>False</td><td>False</td><td>False</td><td>False</td><td>False</td><td>False</td><td>False</td><td>False</td><td>False</td><td>False</td><td>False</td><td>False</td><td>False</td><td>False</td><td>False</td><td>False</td><td>False</td><td>False</td><td>False</td><td>False</td><td>False</td><td>False</td><td>False</td><td>False</td><td>False</td><td>False</td><td>False</td><td>False</td><td>False</td><td>False</td><td>False</td><td>False</td><td>False</td><td>False</td><td>False</td><td>False</td><td>False</td><td>False</td><td>False</td><td>False</td><td>False</td><td>False</td><td>False</td><td>False</td><td>False</td><td>False</td><td>False</td><td>False</td><td>False</td><td>False</td><td>False</td><td>False</td><td>False</td><td>False</td><td>False</td><td>False</td><td>False</td><td>0.0</td><td>0.0</td><td>3949.742978123584</td><td>3949.742978123584</td><td>0.0</td><td>4052.16384991566</td><td>4052.16384991566</td><td>6.185928700465009</td><td>5.1441528160637615</td><td>0.3942938453301698</td><td>6.185928700465009</td><td>5.1441528160637615</td><td>0.3942938453301698</td><td>7.602580792612217</td><td>5.158826077990496</td><td>0.7486564118363797</td><td>7.602580792612217</td><td>5.158826077990496</td><td>0.7486564118363797</td><td>True</td><td>True</td><td>True</td><td>70.26119676621357</td><td>-127.31308111850593</td><td>False</td><td>False</td><td>0.9592971149851546</td><td>False</td><td>6.590574737187371</td><td>7.100905435291826</td><td>0.7404253498436677</td><td>0.95668685</td><td>0.7062834</td><td>1.0307664</td><td>1463.5201686842968</td><td>2.4083670640976207</td><td>5010.63961240882</td><td>363.671834219973</td><td>1.1322025948256405</td><td>1.1034821843815537</td><td>-0.11902405397413834</td><td>-173.96002</td><td>-19.543728</td><td>-187.43034</td><td>False</td><td>False</td><td>False</td><td>False</td><td>False</td><td>False</td><td>0.001130213426614017</td><td>0.001130213426614017</td><td>-0.002957123444554494</td><td>-0.002957123444554494</td><td>1.1332343855169653</td><td>1.1332343855169653</td><td>1.104300609044289</td><td>1.104300609044289</td><td>-0.11924497950034117</td><td>-0.11924497950034117</td><td>True</td><td>True</td><td>False</td><td>False</td><td>False</td><td>False</td><td>False</td><td>False</td><td>0.3789912462234497</td><td>0.16240093111991882</td><td>0.1261928826570511</td><td>0.7627165913581848</td><td>False</td><td>False</td><td>False</td><td>False</td><td>False</td><td>1463.2292585105117</td><td>1463.2292585105117</td><td>1.7511997035304</td><td>1.7511997035304</td><td>6.445483025383157</td><td>6.445483025383157</td><td>3.6973109406540092</td><td>3.6973109406540092</td><td>0.39180613056959174</td><td>0.39180613056959174</td><td>True</td><td>True</td><td>True</td><td>False</td><td>False</td><td>False</td><td>False</td><td>False</td><td>False</td><td>False</td><td>False</td><td>False</td><td>1463.232623052281</td><td>1463.232623052281</td><td>1.8937117446476308</td><td>1.8937117446476308</td><td>5.899231368785398</td><td>5.899231368785398</td><td>4.517057543072948</td><td>4.517057543072948</td><td>0.07062931128052154</td><td>0.07062931128052154</td><td>True</td><td>True</td><td>False</td><td>False</td><td>False</td><td>False</td><td>False</td><td>False</td><td>4696.7183</td><td>4696.7183</td><td>2403.082763671875</td><td>142.79721069335938</td><td>True</td><td>False</td><td>True</td><td>nan</td><td>nan</td><td>True</td><td>True</td><td>True</td><td>nan</td><td>nan</td><td>True</td><td>True</td><td>True</td><td>nan</td><td>nan</td><td>True</td><td>True</td><td>True</td><td>nan</td><td>nan</td><td>nan</td><td>nan</td><td>nan</td><td>nan</td><td>True</td><td>True</td><td>True</td><td>True</td><td>True</td><td>True</td><td>True</td><td>True</td><td>True</td><td>nan</td><td>nan</td><td>True</td><td>True</td><td>nan</td><td>nan</td><td>True</td><td>True</td><td>nan</td><td>nan</td><td>True</td><td>True</td><td>nan</td><td>nan</td><td>True</td><td>True</td><td>nan</td><td>nan</td><td>True</td><td>True</td><td>4709.697822624817</td><td>4709.697822624817</td><td>4709.697822624817</td><td>249.6730466415405</td><td>249.6730466415405</td><td>249.6730466415405</td><td>False</td><td>False</td><td>False</td><td>5.696213843006846</td><td>28.86207690015094</td><td>True</td><td>False</td><td>False</td><td>False</td><td>0.15099758602010033</td><td>0.0</td><td>False</td><td>-7.35956476346953e-09</td><td>-7.933680488321485e-07</td><td>-8.021955000355038e-07</td><td>-6.78560847950751e-09</td><td>False</td><td>False</td><td>True</td><td>False</td><td>False</td><td>False</td><td>False</td><td>False</td><td>False</td><td>False</td><td>False</td><td>False</td><td>1679.164540484376</td><td>1679.164540484376</td><td>119.19718008532001</td><td>119.19718008532001</td><td>18.516314</td><td>18.516314</td><td>True</td><td>True</td><td>False</td><td>False</td><td>True</td><td>True</td><td>False</td><td>749.7860717773438</td><td>False</td><td>nan</td><td>nan</td><td>nan</td><td>nan</td><td>nan</td><td>True</td><td>True</td><td>False</td><td>False</td><td>False</td><td>False</td><td>False</td><td>False</td><td>False</td><td>True</td><td>1.1478182896472513</td><td>1.1478182896472513</td><td>1.1478182896472513</td><td>0.0</td><td>0.0</td><td>0.0</td><td>False</td><td>False</td><td>False</td><td>0.9889173382620915</td><td>0.9889173382620915</td><td>0.0</td><td>0.0</td><td>False</td><td>False</td><td>1.0560367238941322</td><td>0.0</td><td>False</td><td>nan</td><td>True</td><td>92</td><td>False</td><td>False</td><td>False</td></tr>\n",
       "<tr><td>33447624753283078</td><td>5.927446143844187</td><td>0.01890689249301204</td><td>0</td><td>True</td><td>False</td><td>False</td><td>False</td><td>0</td><td>False</td><td>nan</td><td>nan</td><td>nan</td><td>False</td><td>False</td><td>False</td><td>False</td><td>False</td><td>False</td><td>False</td><td>False</td><td>1800.2177076329278</td><td>9.075675050002827</td><td>False</td><td>False</td><td>False</td><td>False</td><td>1800.0</td><td>1800.0</td><td>9.0</td><td>9.0</td><td>nan</td><td>nan</td><td>nan</td><td>nan</td><td>True</td><td>True</td><td>True</td><td>True</td><td>True</td><td>True</td><td>True</td><td>True</td><td>True</td><td>True</td><td>True</td><td>True</td><td>True</td><td>True</td><td>True</td><td>True</td><td>True</td><td>True</td><td>True</td><td>True</td><td>True</td><td>True</td><td>True</td><td>True</td><td>True</td><td>True</td><td>True</td><td>True</td><td>False</td><td>False</td><td>False</td><td>False</td><td>False</td><td>False</td><td>False</td><td>False</td><td>False</td><td>False</td><td>False</td><td>False</td><td>False</td><td>False</td><td>False</td><td>False</td><td>False</td><td>False</td><td>False</td><td>False</td><td>False</td><td>False</td><td>False</td><td>False</td><td>False</td><td>False</td><td>False</td><td>False</td><td>False</td><td>False</td><td>False</td><td>False</td><td>False</td><td>False</td><td>False</td><td>False</td><td>False</td><td>False</td><td>False</td><td>False</td><td>False</td><td>False</td><td>False</td><td>False</td><td>False</td><td>False</td><td>False</td><td>False</td><td>False</td><td>False</td><td>False</td><td>False</td><td>False</td><td>False</td><td>False</td><td>False</td><td>False</td><td>False</td><td>False</td><td>False</td><td>False</td><td>False</td><td>False</td><td>False</td><td>False</td><td>False</td><td>False</td><td>False</td><td>False</td><td>False</td><td>0.0</td><td>0.0</td><td>270344.767855705</td><td>270344.767855705</td><td>0.0</td><td>270344.767855705</td><td>270344.767855705</td><td>1.2379412740594178</td><td>1.1326950458349736</td><td>-0.09916345359610147</td><td>1.2379412740594178</td><td>1.1326950458349736</td><td>-0.09916345359610147</td><td>1.2379412740594178</td><td>1.1326950458349736</td><td>-0.09916345359610147</td><td>1.2379412740594178</td><td>1.1326950458349736</td><td>-0.09916345359610147</td><td>True</td><td>True</td><td>True</td><td>75.3011842056462</td><td>-127.2223804549949</td><td>False</td><td>False</td><td>0.9579044268236608</td><td>False</td><td>1.3804419569189803</td><td>1.1660777344427284</td><td>-0.062085073279228624</td><td>0.0050879885</td><td>0.0033105882</td><td>0.0042978916</td><td>1800.2283566780945</td><td>9.071942981799394</td><td>290426.4114379883</td><td>535.2221267450741</td><td>1.1291433914240747</td><td>1.1055555427552113</td><td>-0.11625743961144246</td><td>-1.361602</td><td>0.061237756</td><td>-1.1501633</td><td>False</td><td>False</td><td>False</td><td>False</td><td>False</td><td>False</td><td>0.0005001896139305782</td><td>0.0005001896139305782</td><td>-0.002095211870087294</td><td>-0.002095211870087294</td><td>1.130167230375141</td><td>1.130167230375141</td><td>1.1063929880764096</td><td>1.1063929880764096</td><td>-0.1165147870317446</td><td>-0.1165147870317446</td><td>True</td><td>True</td><td>False</td><td>False</td><td>False</td><td>False</td><td>False</td><td>False</td><td>-0.02984810061752796</td><td>-0.015856334939599037</td><td>0.04443259537220001</td><td>0.015215002931654453</td><td>False</td><td>False</td><td>False</td><td>False</td><td>False</td><td>1800.418686657242</td><td>1800.418686657242</td><td>9.131320158236106</td><td>9.131320158236106</td><td>1.1455434530791613</td><td>1.1455434530791613</td><td>1.126086711644338</td><td>1.126086711644338</td><td>-0.12683081150625305</td><td>-0.12683081150625305</td><td>True</td><td>True</td><td>True</td><td>False</td><td>False</td><td>False</td><td>False</td><td>False</td><td>False</td><td>False</td><td>False</td><td>False</td><td>1800.4191906441122</td><td>1800.4191906441122</td><td>9.130517265747129</td><td>9.130517265747129</td><td>1.1334484726616734</td><td>1.1334484726616734</td><td>1.1254372982563994</td><td>1.1254372982563994</td><td>-0.0577126557355552</td><td>-0.0577126557355552</td><td>True</td><td>True</td><td>False</td><td>False</td><td>False</td><td>False</td><td>False</td><td>False</td><td>285509.06</td><td>285509.06</td><td>286403.28125</td><td>292.4488220214844</td><td>True</td><td>False</td><td>False</td><td>314020.625</td><td>343.4956359863281</td><td>True</td><td>False</td><td>True</td><td>323494.46875</td><td>396.39495849609375</td><td>True</td><td>False</td><td>True</td><td>332054.125</td><td>514.2406616210938</td><td>True</td><td>False</td><td>True</td><td>nan</td><td>nan</td><td>nan</td><td>nan</td><td>nan</td><td>nan</td><td>True</td><td>True</td><td>True</td><td>True</td><td>True</td><td>True</td><td>True</td><td>True</td><td>True</td><td>nan</td><td>nan</td><td>True</td><td>True</td><td>nan</td><td>nan</td><td>True</td><td>True</td><td>nan</td><td>nan</td><td>True</td><td>True</td><td>nan</td><td>nan</td><td>True</td><td>True</td><td>nan</td><td>nan</td><td>True</td><td>True</td><td>311202.255716389</td><td>311202.255716389</td><td>311202.255716389</td><td>406.64041187652543</td><td>406.64041187652543</td><td>406.64041187652543</td><td>False</td><td>False</td><td>False</td><td>18.46258021571594</td><td>30.36716149356101</td><td>True</td><td>False</td><td>False</td><td>False</td><td>0.15099758602010033</td><td>0.0</td><td>False</td><td>-7.877175758278095e-09</td><td>-7.930817706763754e-07</td><td>-8.013297443517549e-07</td><td>-7.298746597173635e-09</td><td>False</td><td>False</td><td>True</td><td>False</td><td>False</td><td>False</td><td>False</td><td>False</td><td>False</td><td>False</td><td>False</td><td>False</td><td>310110.6302666745</td><td>310110.6302666745</td><td>342.9097572226929</td><td>342.9097572226929</td><td>18.544815</td><td>18.544815</td><td>True</td><td>True</td><td>False</td><td>False</td><td>True</td><td>True</td><td>True</td><td>nan</td><td>True</td><td>327046.7796643547</td><td>353.59689072435566</td><td>1.7245058</td><td>6.339296</td><td>1.3211746</td><td>True</td><td>False</td><td>False</td><td>False</td><td>False</td><td>False</td><td>False</td><td>False</td><td>False</td><td>True</td><td>1.1385029515438505</td><td>1.1385029515438505</td><td>1.1385029515438505</td><td>0.0</td><td>0.0</td><td>0.0</td><td>False</td><td>False</td><td>False</td><td>0.9906349709185951</td><td>0.9906349709185951</td><td>0.0</td><td>0.0</td><td>False</td><td>False</td><td>1.04849969465806</td><td>0.0</td><td>False</td><td>nan</td><td>True</td><td>388</td><td>False</td><td>False</td><td>False</td></tr>\n",
       "<tr><td>33447624753283079</td><td>5.927456564011491</td><td>0.019804416573890177</td><td>0</td><td>False</td><td>False</td><td>False</td><td>False</td><td>0</td><td>False</td><td>nan</td><td>nan</td><td>nan</td><td>False</td><td>False</td><td>False</td><td>False</td><td>False</td><td>False</td><td>False</td><td>False</td><td>686.9578338105438</td><td>6.141921025254036</td><td>False</td><td>False</td><td>False</td><td>False</td><td>687.0</td><td>687.0</td><td>6.0</td><td>6.0</td><td>nan</td><td>nan</td><td>nan</td><td>nan</td><td>True</td><td>True</td><td>True</td><td>True</td><td>True</td><td>True</td><td>True</td><td>True</td><td>True</td><td>True</td><td>True</td><td>True</td><td>True</td><td>True</td><td>True</td><td>True</td><td>True</td><td>True</td><td>True</td><td>True</td><td>True</td><td>True</td><td>True</td><td>True</td><td>True</td><td>True</td><td>True</td><td>True</td><td>False</td><td>False</td><td>False</td><td>False</td><td>False</td><td>False</td><td>False</td><td>False</td><td>False</td><td>False</td><td>False</td><td>False</td><td>False</td><td>False</td><td>False</td><td>False</td><td>False</td><td>False</td><td>False</td><td>False</td><td>False</td><td>False</td><td>False</td><td>False</td><td>False</td><td>False</td><td>False</td><td>False</td><td>False</td><td>False</td><td>False</td><td>False</td><td>False</td><td>False</td><td>False</td><td>False</td><td>False</td><td>False</td><td>False</td><td>False</td><td>False</td><td>False</td><td>False</td><td>False</td><td>False</td><td>False</td><td>False</td><td>False</td><td>False</td><td>False</td><td>False</td><td>False</td><td>False</td><td>False</td><td>False</td><td>False</td><td>False</td><td>False</td><td>False</td><td>False</td><td>False</td><td>False</td><td>False</td><td>False</td><td>False</td><td>False</td><td>False</td><td>False</td><td>False</td><td>False</td><td>0.0</td><td>0.0</td><td>1276.209704733626</td><td>1276.209704733626</td><td>0.0</td><td>1357.2090463738032</td><td>1357.2090463738032</td><td>3.641624385816002</td><td>2.5669337032744304</td><td>-0.25639924746955167</td><td>3.641624385816002</td><td>2.5669337032744304</td><td>-0.25639924746955167</td><td>4.254486548817629</td><td>3.1249877722564237</td><td>-0.5082430618473516</td><td>4.254486548817629</td><td>3.1249877722564237</td><td>-0.5082430618473516</td><td>True</td><td>True</td><td>True</td><td>58.60619062290829</td><td>-127.26970140532121</td><td>False</td><td>False</td><td>0.9622486245848166</td><td>False</td><td>4.526104455239182</td><td>3.489860467517639</td><td>-0.030631091150282615</td><td>1.5935957</td><td>0.98950464</td><td>1.2287447</td><td>687.0573436722884</td><td>6.431964307317695</td><td>1565.0015169177204</td><td>275.51063594597326</td><td>1.1407647912865158</td><td>1.1065467545734224</td><td>-0.11669676785522115</td><td>-219.5263</td><td>1.4856774</td><td>-169.26611</td><td>False</td><td>False</td><td>False</td><td>False</td><td>False</td><td>False</td><td>0.0019699008385726624</td><td>0.0019699008385726624</td><td>-0.004157126154711439</td><td>-0.004157126154711439</td><td>1.141815665752397</td><td>1.141815665752397</td><td>1.1073536241520898</td><td>1.1073536241520898</td><td>-0.11691784402844126</td><td>-0.11691784402844126</td><td>True</td><td>True</td><td>False</td><td>False</td><td>False</td><td>False</td><td>False</td><td>False</td><td>0.40733957290649414</td><td>-0.18726181983947754</td><td>0.3746483623981476</td><td>0.567060112953186</td><td>False</td><td>False</td><td>False</td><td>False</td><td>False</td><td>687.048918688773</td><td>687.048918688773</td><td>6.665277126611121</td><td>6.665277126611121</td><td>3.4143034170155593</td><td>3.4143034170155593</td><td>2.2875832898252484</td><td>2.2875832898252484</td><td>-0.44993698812646354</td><td>-0.44993698812646354</td><td>True</td><td>True</td><td>True</td><td>False</td><td>False</td><td>False</td><td>False</td><td>False</td><td>False</td><td>False</td><td>False</td><td>False</td><td>687.1446794159234</td><td>687.1446794159234</td><td>6.5972508668823755</td><td>6.5972508668823755</td><td>3.1168038062294636</td><td>3.1168038062294636</td><td>2.446821212889485</td><td>2.446821212889485</td><td>-0.17189334720676452</td><td>-0.17189334720676452</td><td>True</td><td>True</td><td>False</td><td>False</td><td>False</td><td>False</td><td>False</td><td>False</td><td>1314.9319</td><td>1314.9319</td><td>941.2969360351562</td><td>141.21173095703125</td><td>True</td><td>False</td><td>True</td><td>1546.9541015625</td><td>213.48785400390625</td><td>True</td><td>False</td><td>True</td><td>1669.43505859375</td><td>285.7324523925781</td><td>True</td><td>False</td><td>True</td><td>nan</td><td>nan</td><td>True</td><td>True</td><td>True</td><td>nan</td><td>nan</td><td>nan</td><td>nan</td><td>nan</td><td>nan</td><td>True</td><td>True</td><td>True</td><td>True</td><td>True</td><td>True</td><td>True</td><td>True</td><td>True</td><td>nan</td><td>nan</td><td>True</td><td>True</td><td>nan</td><td>nan</td><td>True</td><td>True</td><td>nan</td><td>nan</td><td>True</td><td>True</td><td>nan</td><td>nan</td><td>True</td><td>True</td><td>nan</td><td>nan</td><td>True</td><td>True</td><td>1480.2804221077383</td><td>1480.2804221077383</td><td>1480.2804221077383</td><td>186.73758976460257</td><td>186.73758976460257</td><td>186.73758976460257</td><td>False</td><td>False</td><td>False</td><td>3.1986555562237347</td><td>28.224935368118572</td><td>True</td><td>False</td><td>False</td><td>False</td><td>0.15099758602010033</td><td>0.0</td><td>False</td><td>-6.150887108585474e-09</td><td>-7.940231793673829e-07</td><td>-8.039797880116305e-07</td><td>-5.595322416554384e-09</td><td>False</td><td>False</td><td>True</td><td>False</td><td>False</td><td>False</td><td>False</td><td>False</td><td>False</td><td>False</td><td>False</td><td>False</td><td>880.748555562476</td><td>880.748555562476</td><td>118.25951740248938</td><td>118.25951740248938</td><td>18.924324</td><td>18.924324</td><td>True</td><td>True</td><td>False</td><td>False</td><td>True</td><td>True</td><td>False</td><td>740.372314453125</td><td>False</td><td>1762.9370307518143</td><td>285.18582997932606</td><td>2.2627778</td><td>6.339296</td><td>1.3248699</td><td>True</td><td>False</td><td>False</td><td>False</td><td>False</td><td>False</td><td>False</td><td>False</td><td>False</td><td>True</td><td>1.1505794269158678</td><td>1.1505794269158678</td><td>1.1505794269158678</td><td>0.0</td><td>0.0</td><td>0.0</td><td>False</td><td>False</td><td>False</td><td>0.9872390842703866</td><td>0.9872390842703866</td><td>0.0</td><td>0.0</td><td>False</td><td>False</td><td>1.059328037706824</td><td>0.0</td><td>False</td><td>nan</td><td>True</td><td>52</td><td>False</td><td>False</td><td>False</td></tr>\n",
       "<tr><td>33447624753283080</td><td>5.92744595824602</td><td>0.018809519620132824</td><td>0</td><td>False</td><td>False</td><td>False</td><td>False</td><td>0</td><td>False</td><td>nan</td><td>nan</td><td>nan</td><td>False</td><td>False</td><td>False</td><td>False</td><td>False</td><td>False</td><td>False</td><td>False</td><td>1920.8300118095285</td><td>7.898898526444962</td><td>False</td><td>False</td><td>False</td><td>False</td><td>1921.0</td><td>1921.0</td><td>8.0</td><td>8.0</td><td>nan</td><td>nan</td><td>nan</td><td>nan</td><td>True</td><td>True</td><td>True</td><td>True</td><td>True</td><td>True</td><td>True</td><td>True</td><td>True</td><td>True</td><td>True</td><td>True</td><td>True</td><td>True</td><td>True</td><td>True</td><td>True</td><td>True</td><td>True</td><td>True</td><td>True</td><td>True</td><td>True</td><td>True</td><td>True</td><td>True</td><td>True</td><td>True</td><td>False</td><td>False</td><td>False</td><td>False</td><td>False</td><td>False</td><td>False</td><td>False</td><td>False</td><td>False</td><td>False</td><td>False</td><td>False</td><td>False</td><td>False</td><td>False</td><td>False</td><td>False</td><td>False</td><td>False</td><td>False</td><td>False</td><td>False</td><td>False</td><td>False</td><td>False</td><td>False</td><td>False</td><td>False</td><td>False</td><td>False</td><td>False</td><td>False</td><td>False</td><td>False</td><td>False</td><td>False</td><td>False</td><td>False</td><td>False</td><td>False</td><td>False</td><td>False</td><td>False</td><td>False</td><td>False</td><td>False</td><td>False</td><td>False</td><td>False</td><td>False</td><td>False</td><td>False</td><td>False</td><td>False</td><td>False</td><td>False</td><td>False</td><td>False</td><td>False</td><td>False</td><td>False</td><td>False</td><td>False</td><td>False</td><td>False</td><td>False</td><td>False</td><td>False</td><td>False</td><td>0.0</td><td>0.0</td><td>1310.0438868997144</td><td>1310.0438868997144</td><td>0.0</td><td>1343.0181625753676</td><td>1343.0181625753676</td><td>1.3544639472115685</td><td>5.374746249748313</td><td>0.8387795064435932</td><td>1.3544639472115685</td><td>5.374746249748313</td><td>0.8387795064435932</td><td>1.627605385199951</td><td>6.492460018341486</td><td>1.0271340599019025</td><td>1.627605385199951</td><td>6.492460018341486</td><td>1.0271340599019025</td><td>True</td><td>True</td><td>True</td><td>77.11618627341782</td><td>-127.23712813226048</td><td>False</td><td>False</td><td>0.9573536406724986</td><td>False</td><td>1.4843607390085352</td><td>6.106080182005679</td><td>1.1823051521241665</td><td>0.4854475</td><td>0.74797</td><td>1.9969413</td><td>1920.8757968330026</td><td>7.828266497922622</td><td>1432.8768804536667</td><td>234.3050674108396</td><td>1.1281353609161746</td><td>1.1067130946977988</td><td>-0.11479705396595134</td><td>-56.871403</td><td>-45.298523</td><td>-233.94673</td><td>False</td><td>False</td><td>False</td><td>False</td><td>False</td><td>False</td><td>0.000238954383553636</td><td>0.000238954383553636</td><td>-0.0017404198588375703</td><td>-0.0017404198588375703</td><td>1.1291617067077186</td><td>1.1291617067077186</td><td>1.1075844732795526</td><td>1.1075844732795526</td><td>-0.11505668317526012</td><td>-0.11505668317526012</td><td>True</td><td>True</td><td>False</td><td>False</td><td>False</td><td>False</td><td>False</td><td>False</td><td>-0.8805087208747864</td><td>0.303005576133728</td><td>0.38812896609306335</td><td>0.624972403049469</td><td>False</td><td>False</td><td>False</td><td>False</td><td>False</td><td>1920.6875206205636</td><td>1920.6875206205636</td><td>7.578494536476683</td><td>7.578494536476683</td><td>1.2267615233773521</td><td>1.2267615233773521</td><td>4.948046926791715</td><td>4.948046926791715</td><td>0.556845113442366</td><td>0.556845113442366</td><td>True</td><td>True</td><td>True</td><td>False</td><td>False</td><td>False</td><td>False</td><td>False</td><td>False</td><td>False</td><td>False</td><td>False</td><td>1920.5707526918623</td><td>1920.5707526918623</td><td>7.560012089820571</td><td>7.560012089820571</td><td>1.346236608788127</td><td>1.346236608788127</td><td>2.8113394048250653</td><td>2.8113394048250653</td><td>0.16482086469666574</td><td>0.16482086469666574</td><td>True</td><td>True</td><td>False</td><td>False</td><td>False</td><td>False</td><td>False</td><td>False</td><td>1119.6119</td><td>1119.6119</td><td>1076.2608642578125</td><td>142.65106201171875</td><td>True</td><td>False</td><td>False</td><td>1359.2535400390625</td><td>215.45254516601562</td><td>True</td><td>False</td><td>True</td><td>1358.77392578125</td><td>288.4217224121094</td><td>True</td><td>False</td><td>True</td><td>nan</td><td>nan</td><td>True</td><td>True</td><td>True</td><td>nan</td><td>nan</td><td>nan</td><td>nan</td><td>nan</td><td>nan</td><td>True</td><td>True</td><td>True</td><td>True</td><td>True</td><td>True</td><td>True</td><td>True</td><td>True</td><td>nan</td><td>nan</td><td>True</td><td>True</td><td>nan</td><td>nan</td><td>True</td><td>True</td><td>nan</td><td>nan</td><td>True</td><td>True</td><td>nan</td><td>nan</td><td>True</td><td>True</td><td>nan</td><td>nan</td><td>True</td><td>True</td><td>1500.3419675651992</td><td>1500.3419675651992</td><td>1500.3419675651992</td><td>174.89935914400496</td><td>174.89935914400496</td><td>174.89935914400496</td><td>False</td><td>False</td><td>False</td><td>4.234023800272691</td><td>27.912663440451407</td><td>True</td><td>False</td><td>False</td><td>False</td><td>0.15099758602010033</td><td>0.0</td><td>False</td><td>-8.066840951778917e-09</td><td>-7.929585081109902e-07</td><td>-8.00997233637076e-07</td><td>-7.48715407504516e-09</td><td>False</td><td>False</td><td>True</td><td>False</td><td>False</td><td>False</td><td>False</td><td>False</td><td>False</td><td>False</td><td>False</td><td>False</td><td>879.5969832827573</td><td>879.5969832827573</td><td>118.03919229790817</td><td>118.03919229790817</td><td>18.414398</td><td>18.414398</td><td>True</td><td>True</td><td>False</td><td>False</td><td>True</td><td>True</td><td>False</td><td>756.2032470703125</td><td>False</td><td>1514.302080306369</td><td>269.49842733086723</td><td>2.1494377</td><td>6.339296</td><td>1.3213176</td><td>True</td><td>False</td><td>False</td><td>False</td><td>False</td><td>False</td><td>False</td><td>False</td><td>False</td><td>True</td><td>1.1338485769787212</td><td>1.1338485769787212</td><td>1.1338485769787212</td><td>0.0</td><td>0.0</td><td>0.0</td><td>False</td><td>False</td><td>False</td><td>0.9913739894485047</td><td>0.9913739894485047</td><td>0.0</td><td>0.0</td><td>False</td><td>False</td><td>1.044782086569633</td><td>0.0</td><td>False</td><td>nan</td><td>True</td><td>57</td><td>False</td><td>False</td><td>False</td></tr>\n",
       "<tr><td>33447624753283081</td><td>5.927453545475243</td><td>0.020045931103143476</td><td>0</td><td>False</td><td>False</td><td>False</td><td>False</td><td>0</td><td>False</td><td>nan</td><td>nan</td><td>nan</td><td>False</td><td>False</td><td>False</td><td>False</td><td>False</td><td>False</td><td>False</td><td>False</td><td>387.9341784645507</td><td>11.855465880100361</td><td>False</td><td>False</td><td>False</td><td>False</td><td>388.0</td><td>388.0</td><td>12.0</td><td>12.0</td><td>nan</td><td>nan</td><td>nan</td><td>nan</td><td>True</td><td>True</td><td>True</td><td>True</td><td>True</td><td>True</td><td>True</td><td>True</td><td>True</td><td>True</td><td>True</td><td>True</td><td>True</td><td>True</td><td>True</td><td>True</td><td>True</td><td>True</td><td>True</td><td>True</td><td>True</td><td>True</td><td>True</td><td>True</td><td>True</td><td>True</td><td>True</td><td>True</td><td>False</td><td>False</td><td>False</td><td>False</td><td>False</td><td>False</td><td>False</td><td>False</td><td>False</td><td>False</td><td>False</td><td>False</td><td>False</td><td>False</td><td>False</td><td>False</td><td>False</td><td>False</td><td>False</td><td>False</td><td>False</td><td>False</td><td>False</td><td>False</td><td>False</td><td>False</td><td>False</td><td>False</td><td>False</td><td>False</td><td>False</td><td>False</td><td>False</td><td>False</td><td>False</td><td>False</td><td>False</td><td>False</td><td>False</td><td>False</td><td>False</td><td>False</td><td>False</td><td>False</td><td>False</td><td>False</td><td>False</td><td>False</td><td>False</td><td>False</td><td>False</td><td>False</td><td>False</td><td>False</td><td>False</td><td>False</td><td>False</td><td>False</td><td>False</td><td>False</td><td>False</td><td>False</td><td>False</td><td>False</td><td>False</td><td>False</td><td>False</td><td>False</td><td>False</td><td>False</td><td>0.0</td><td>0.0</td><td>1310.9797010491736</td><td>1310.9797010491736</td><td>0.0</td><td>1377.3962592738424</td><td>1377.3962592738424</td><td>2.3879416382226264</td><td>4.638765813376979</td><td>-1.929697104299555</td><td>2.3879416382226264</td><td>4.638765813376979</td><td>-1.929697104299555</td><td>2.864500957320169</td><td>5.311062345857247</td><td>-2.174083781553761</td><td>2.864500957320169</td><td>5.311062345857247</td><td>-2.174083781553761</td><td>True</td><td>True</td><td>True</td><td>54.121178154384594</td><td>-127.18032491407733</td><td>False</td><td>False</td><td>0.9632752507452951</td><td>False</td><td>2.5164751609993345</td><td>5.94808161616108</td><td>-2.4914722885176825</td><td>0.8414401</td><td>1.0880122</td><td>1.9888749</td><td>388.02160778029094</td><td>11.652379688511083</td><td>1419.3930260860354</td><td>237.3030113464985</td><td>1.1444448427883476</td><td>1.1107061216307188</td><td>-0.11252348491465776</td><td>-99.838135</td><td>98.846176</td><td>-235.983</td><td>False</td><td>False</td><td>False</td><td>False</td><td>False</td><td>False</td><td>0.0020537825541672426</td><td>0.0020537825541672426</td><td>-0.004307451812594063</td><td>-0.004307451812594063</td><td>1.1455023224020715</td><td>1.1455023224020715</td><td>1.1116025458238228</td><td>1.1116025458238228</td><td>-0.11273451770404312</td><td>-0.11273451770404312</td><td>True</td><td>True</td><td>False</td><td>False</td><td>False</td><td>False</td><td>False</td><td>False</td><td>-0.39702141284942627</td><td>-0.7020429372787476</td><td>0.4178841710090637</td><td>0.648935079574585</td><td>False</td><td>False</td><td>False</td><td>False</td><td>False</td><td>388.01274237778307</td><td>388.01274237778307</td><td>11.41872855529019</td><td>11.41872855529019</td><td>2.3494728789418167</td><td>2.3494728789418167</td><td>4.280412790849827</td><td>4.280412790849827</td><td>-1.8294828649408135</td><td>-1.8294828649408135</td><td>True</td><td>True</td><td>True</td><td>False</td><td>False</td><td>False</td><td>False</td><td>False</td><td>False</td><td>False</td><td>False</td><td>False</td><td>388.00832369984386</td><td>388.00832369984386</td><td>11.556411953825952</td><td>11.556411953825952</td><td>2.4949471054419115</td><td>2.4949471054419115</td><td>2.81279536540272</td><td>2.81279536540272</td><td>-0.8630317848701715</td><td>-0.8630317848701715</td><td>True</td><td>True</td><td>False</td><td>False</td><td>False</td><td>False</td><td>False</td><td>False</td><td>1249.8475</td><td>1249.8475</td><td>1037.4735107421875</td><td>141.10687255859375</td><td>True</td><td>False</td><td>False</td><td>1094.3350830078125</td><td>213.1709442138672</td><td>True</td><td>False</td><td>True</td><td>1425.93017578125</td><td>285.56195068359375</td><td>True</td><td>False</td><td>True</td><td>1996.1455078125</td><td>430.1772766113281</td><td>True</td><td>False</td><td>True</td><td>2123.128173828125</td><td>2123.128173828125</td><td>2123.128173828125</td><td>574.7221069335938</td><td>574.7221069335938</td><td>574.7221069335938</td><td>True</td><td>True</td><td>True</td><td>False</td><td>False</td><td>False</td><td>True</td><td>True</td><td>True</td><td>nan</td><td>nan</td><td>True</td><td>True</td><td>nan</td><td>nan</td><td>True</td><td>True</td><td>nan</td><td>nan</td><td>True</td><td>True</td><td>nan</td><td>nan</td><td>True</td><td>True</td><td>nan</td><td>nan</td><td>True</td><td>True</td><td>1513.472064825424</td><td>1513.472064825424</td><td>1513.472064825424</td><td>179.66993753728119</td><td>179.66993753728119</td><td>179.66993753728119</td><td>False</td><td>False</td><td>False</td><td>0.5874036800443126</td><td>28.344643369651543</td><td>True</td><td>False</td><td>False</td><td>False</td><td>0.15099758602010033</td><td>0.0</td><td>False</td><td>-5.684144199846309e-09</td><td>-7.942662070219566e-07</td><td>-8.045846116015635e-07</td><td>-5.137964510034224e-09</td><td>False</td><td>False</td><td>True</td><td>False</td><td>False</td><td>False</td><td>False</td><td>False</td><td>False</td><td>False</td><td>False</td><td>False</td><td>863.2212940792273</td><td>863.2212940792273</td><td>117.62693150615688</td><td>117.62693150615688</td><td>18.81491</td><td>18.81491</td><td>True</td><td>True</td><td>False</td><td>False</td><td>True</td><td>True</td><td>False</td><td>741.6653442382812</td><td>False</td><td>1900.816563482432</td><td>363.68434346293236</td><td>2.8899949</td><td>6.339296</td><td>1.3274622</td><td>True</td><td>False</td><td>False</td><td>False</td><td>False</td><td>False</td><td>False</td><td>False</td><td>False</td><td>True</td><td>1.144581728997808</td><td>1.144581728997808</td><td>1.144581728997808</td><td>0.0</td><td>0.0</td><td>0.0</td><td>False</td><td>False</td><td>False</td><td>0.9874524083541718</td><td>0.9874524083541718</td><td>0.0</td><td>0.0</td><td>False</td><td>False</td><td>1.0552702923095694</td><td>0.0</td><td>False</td><td>nan</td><td>True</td><td>64</td><td>False</td><td>False</td><td>False</td></tr>\n",
       "<tr><td>33447624753283082</td><td>5.9274530332865085</td><td>0.01997320920749881</td><td>0</td><td>False</td><td>False</td><td>False</td><td>False</td><td>0</td><td>False</td><td>nan</td><td>nan</td><td>nan</td><td>False</td><td>False</td><td>False</td><td>False</td><td>False</td><td>False</td><td>False</td><td>False</td><td>478.0095608005718</td><td>11.9292835299067</td><td>False</td><td>False</td><td>False</td><td>False</td><td>478.0</td><td>478.0</td><td>12.0</td><td>12.0</td><td>nan</td><td>nan</td><td>nan</td><td>nan</td><td>True</td><td>True</td><td>True</td><td>True</td><td>True</td><td>True</td><td>True</td><td>True</td><td>True</td><td>True</td><td>True</td><td>True</td><td>True</td><td>True</td><td>True</td><td>True</td><td>True</td><td>True</td><td>True</td><td>True</td><td>True</td><td>True</td><td>True</td><td>True</td><td>True</td><td>True</td><td>True</td><td>True</td><td>False</td><td>False</td><td>False</td><td>False</td><td>False</td><td>False</td><td>False</td><td>False</td><td>False</td><td>False</td><td>False</td><td>False</td><td>False</td><td>False</td><td>False</td><td>False</td><td>False</td><td>False</td><td>False</td><td>False</td><td>False</td><td>False</td><td>False</td><td>False</td><td>False</td><td>False</td><td>False</td><td>False</td><td>False</td><td>False</td><td>False</td><td>False</td><td>False</td><td>False</td><td>False</td><td>False</td><td>False</td><td>False</td><td>False</td><td>False</td><td>False</td><td>False</td><td>False</td><td>False</td><td>False</td><td>False</td><td>False</td><td>False</td><td>False</td><td>False</td><td>False</td><td>False</td><td>False</td><td>False</td><td>False</td><td>False</td><td>False</td><td>False</td><td>False</td><td>False</td><td>False</td><td>False</td><td>False</td><td>False</td><td>False</td><td>False</td><td>False</td><td>False</td><td>False</td><td>False</td><td>0.0</td><td>0.0</td><td>4048.4465155286744</td><td>4048.4465155286744</td><td>0.0</td><td>4066.7207340149553</td><td>4066.7207340149553</td><td>7.829047695698419</td><td>2.565741670260503</td><td>-1.33431983184838</td><td>7.829047695698419</td><td>2.565741670260503</td><td>-1.33431983184838</td><td>8.080268371470712</td><td>2.6331891232404345</td><td>-1.262040367301579</td><td>8.080268371470712</td><td>2.6331891232404345</td><td>-1.262040367301579</td><td>True</td><td>True</td><td>True</td><td>55.47117814133904</td><td>-127.18013723611821</td><td>False</td><td>False</td><td>0.9629880434390748</td><td>False</td><td>8.078357602541239</td><td>2.853540016607038</td><td>-1.4743223559950285</td><td>1.1264371</td><td>0.49520963</td><td>0.39789438</td><td>478.1429030278801</td><td>11.814277172924633</td><td>4297.939518109429</td><td>299.6498896657256</td><td>1.1432960223331645</td><td>1.1093187439987293</td><td>-0.11392992346265964</td><td>-168.76836</td><td>30.800684</td><td>-59.614502</td><td>False</td><td>False</td><td>False</td><td>False</td><td>False</td><td>False</td><td>0.002040737752742961</td><td>0.002040737752742961</td><td>-0.00427730764704143</td><td>-0.00427730764704143</td><td>1.144352354781215</td><td>1.144352354781215</td><td>1.1101866644037908</td><td>1.1101866644037908</td><td>-0.11414012840380099</td><td>-0.11414012840380099</td><td>True</td><td>True</td><td>False</td><td>False</td><td>False</td><td>False</td><td>False</td><td>False</td><td>0.7170742750167847</td><td>-0.29273751378059387</td><td>0.11153203248977661</td><td>0.7595985531806946</td><td>False</td><td>False</td><td>False</td><td>False</td><td>False</td><td>478.3179275477871</td><td>478.3179275477871</td><td>11.618960290269746</td><td>11.618960290269746</td><td>7.668537200832224</td><td>7.668537200832224</td><td>2.4511178476153193</td><td>2.4511178476153193</td><td>-1.2405031221518055</td><td>-1.2405031221518055</td><td>True</td><td>True</td><td>True</td><td>False</td><td>False</td><td>False</td><td>False</td><td>False</td><td>False</td><td>False</td><td>False</td><td>False</td><td>478.40840838512565</td><td>478.40840838512565</td><td>11.671569062325133</td><td>11.671569062325133</td><td>5.483198913399634</td><td>5.483198913399634</td><td>3.046855038638194</td><td>3.046855038638194</td><td>-0.6622829599246761</td><td>-0.6622829599246761</td><td>True</td><td>True</td><td>False</td><td>False</td><td>False</td><td>False</td><td>False</td><td>False</td><td>3879.1719</td><td>3879.1719</td><td>2546.362548828125</td><td>142.3407440185547</td><td>True</td><td>False</td><td>False</td><td>3479.788818359375</td><td>214.38433837890625</td><td>True</td><td>False</td><td>True</td><td>4285.47802734375</td><td>286.6700134277344</td><td>True</td><td>False</td><td>True</td><td>4827.17822265625</td><td>430.74993896484375</td><td>True</td><td>False</td><td>True</td><td>5168.41796875</td><td>5168.41796875</td><td>5168.41796875</td><td>575.0326538085938</td><td>575.0326538085938</td><td>575.0326538085938</td><td>True</td><td>True</td><td>True</td><td>False</td><td>False</td><td>False</td><td>True</td><td>True</td><td>True</td><td>nan</td><td>nan</td><td>True</td><td>True</td><td>nan</td><td>nan</td><td>True</td><td>True</td><td>nan</td><td>nan</td><td>True</td><td>True</td><td>nan</td><td>nan</td><td>True</td><td>True</td><td>nan</td><td>nan</td><td>True</td><td>True</td><td>4693.800670150731</td><td>4693.800670150731</td><td>4693.800670150731</td><td>231.69805921372148</td><td>231.69805921372148</td><td>231.69805921372148</td><td>False</td><td>False</td><td>False</td><td>0.7462916704123496</td><td>28.362753712216573</td><td>True</td><td>False</td><td>False</td><td>False</td><td>0.15099758602010033</td><td>0.0</td><td>False</td><td>-5.823166016033574e-09</td><td>-7.942032115846686e-07</td><td>-8.044104528398141e-07</td><td>-5.274177373727962e-09</td><td>False</td><td>False</td><td>True</td><td>False</td><td>False</td><td>False</td><td>False</td><td>False</td><td>False</td><td>False</td><td>False</td><td>False</td><td>2003.561698410857</td><td>2003.561698410857</td><td>119.17136877536369</td><td>119.17136877536369</td><td>18.869968</td><td>18.869968</td><td>True</td><td>True</td><td>False</td><td>False</td><td>True</td><td>True</td><td>False</td><td>740.8790283203125</td><td>False</td><td>5168.72387244873</td><td>369.7729978374684</td><td>2.9268572</td><td>6.339296</td><td>1.326623</td><td>True</td><td>False</td><td>False</td><td>False</td><td>False</td><td>False</td><td>False</td><td>False</td><td>False</td><td>True</td><td>1.146836878097898</td><td>1.146836878097898</td><td>1.146836878097898</td><td>0.0</td><td>0.0</td><td>0.0</td><td>False</td><td>False</td><td>False</td><td>0.98735516511787</td><td>0.98735516511787</td><td>0.0</td><td>0.0</td><td>False</td><td>False</td><td>1.056842880663689</td><td>0.0</td><td>False</td><td>nan</td><td>True</td><td>121</td><td>False</td><td>False</td><td>False</td></tr>\n",
       "<tr><td>33447624753283083</td><td>5.9274500609221885</td><td>0.019496835128874516</td><td>0</td><td>False</td><td>False</td><td>False</td><td>False</td><td>0</td><td>False</td><td>nan</td><td>nan</td><td>nan</td><td>False</td><td>False</td><td>False</td><td>False</td><td>False</td><td>False</td><td>False</td><td>False</td><td>1068.183887708301</td><td>11.104704022801153</td><td>False</td><td>False</td><td>False</td><td>False</td><td>1068.0</td><td>1068.0</td><td>11.0</td><td>11.0</td><td>nan</td><td>nan</td><td>nan</td><td>nan</td><td>True</td><td>True</td><td>True</td><td>True</td><td>True</td><td>True</td><td>True</td><td>True</td><td>True</td><td>True</td><td>True</td><td>True</td><td>True</td><td>True</td><td>True</td><td>True</td><td>True</td><td>True</td><td>True</td><td>True</td><td>True</td><td>True</td><td>True</td><td>True</td><td>True</td><td>True</td><td>True</td><td>True</td><td>False</td><td>False</td><td>False</td><td>False</td><td>False</td><td>False</td><td>False</td><td>False</td><td>False</td><td>False</td><td>False</td><td>False</td><td>False</td><td>False</td><td>False</td><td>False</td><td>False</td><td>False</td><td>False</td><td>False</td><td>False</td><td>False</td><td>False</td><td>False</td><td>False</td><td>False</td><td>False</td><td>False</td><td>False</td><td>False</td><td>False</td><td>False</td><td>False</td><td>False</td><td>False</td><td>False</td><td>False</td><td>False</td><td>False</td><td>False</td><td>False</td><td>False</td><td>False</td><td>False</td><td>False</td><td>False</td><td>False</td><td>False</td><td>False</td><td>False</td><td>False</td><td>False</td><td>False</td><td>False</td><td>False</td><td>False</td><td>False</td><td>False</td><td>False</td><td>False</td><td>False</td><td>False</td><td>False</td><td>False</td><td>False</td><td>False</td><td>False</td><td>False</td><td>False</td><td>False</td><td>0.0</td><td>0.0</td><td>1626.7476488949283</td><td>1626.7476488949283</td><td>0.0</td><td>1750.6855823100377</td><td>1750.6855823100377</td><td>3.976595253556589</td><td>2.6006607640476322</td><td>-0.45577897055339933</td><td>3.976595253556589</td><td>2.6006607640476322</td><td>-0.45577897055339933</td><td>4.584806128292957</td><td>3.3388369788042347</td><td>-0.4206973967347958</td><td>4.584806128292957</td><td>3.3388369788042347</td><td>-0.4206973967347958</td><td>True</td><td>True</td><td>True</td><td>64.32118014112879</td><td>-127.19390690268568</td><td>False</td><td>False</td><td>0.9609180226928542</td><td>False</td><td>4.144960727238788</td><td>2.7270382426265307</td><td>-0.3744262615001816</td><td>1.2462234</td><td>0.7191889</td><td>0.819911</td><td>1068.1471058851223</td><td>11.233999038458043</td><td>1696.8677506796082</td><td>255.09002105388126</td><td>1.1363014802002658</td><td>1.1038127873026564</td><td>-0.1191908483682491</td><td>-158.94958</td><td>14.358375</td><td>-104.575554</td><td>False</td><td>False</td><td>False</td><td>False</td><td>False</td><td>False</td><td>0.0016629232007968346</td><td>0.0016629232007968346</td><td>-0.003700355403446086</td><td>-0.003700355403446086</td><td>1.1373402909472121</td><td>1.1373402909472121</td><td>1.1045929212812444</td><td>1.1045929212812444</td><td>-0.11941019537712988</td><td>-0.11941019537712988</td><td>True</td><td>True</td><td>False</td><td>False</td><td>False</td><td>False</td><td>False</td><td>False</td><td>0.424623966217041</td><td>-0.18649396300315857</td><td>0.27084240317344666</td><td>0.6119967699050903</td><td>False</td><td>False</td><td>False</td><td>False</td><td>False</td><td>1068.2397371234401</td><td>1068.2397371234401</td><td>11.44846523977073</td><td>11.44846523977073</td><td>3.969943561236268</td><td>3.969943561236268</td><td>2.5847360180448713</td><td>2.5847360180448713</td><td>-0.5139957897661334</td><td>-0.5139957897661334</td><td>True</td><td>True</td><td>True</td><td>False</td><td>False</td><td>False</td><td>False</td><td>False</td><td>False</td><td>False</td><td>False</td><td>False</td><td>1068.2410134586078</td><td>1068.2410134586078</td><td>11.442828722220026</td><td>11.442828722220026</td><td>3.3040137713848696</td><td>3.3040137713848696</td><td>2.6662334710589595</td><td>2.6662334710589595</td><td>-0.1842053509900466</td><td>-0.1842053509900466</td><td>True</td><td>True</td><td>False</td><td>False</td><td>False</td><td>False</td><td>False</td><td>False</td><td>1625.5149</td><td>1625.5149</td><td>1148.9224853515625</td><td>141.74681091308594</td><td>True</td><td>False</td><td>False</td><td>1645.0020751953125</td><td>214.193115234375</td><td>True</td><td>False</td><td>True</td><td>1833.8802490234375</td><td>286.5942687988281</td><td>True</td><td>False</td><td>True</td><td>2636.908447265625</td><td>431.59429931640625</td><td>True</td><td>False</td><td>True</td><td>nan</td><td>nan</td><td>nan</td><td>nan</td><td>nan</td><td>nan</td><td>True</td><td>True</td><td>True</td><td>True</td><td>True</td><td>True</td><td>True</td><td>True</td><td>True</td><td>nan</td><td>nan</td><td>True</td><td>True</td><td>nan</td><td>nan</td><td>True</td><td>True</td><td>nan</td><td>nan</td><td>True</td><td>True</td><td>nan</td><td>nan</td><td>True</td><td>True</td><td>nan</td><td>nan</td><td>True</td><td>True</td><td>1901.829369754042</td><td>1901.829369754042</td><td>1901.829369754042</td><td>202.26325601840065</td><td>202.26325601840065</td><td>202.26325601840065</td><td>False</td><td>False</td><td>False</td><td>5.346760886907574</td><td>30.70084815138181</td><td>True</td><td>False</td><td>False</td><td>False</td><td>0.15099758602010033</td><td>0.0</td><td>False</td><td>-6.737317407401797e-09</td><td>-7.937466885044095e-07</td><td>-8.031568872223187e-07</td><td>-6.1720215080353e-09</td><td>False</td><td>False</td><td>True</td><td>False</td><td>False</td><td>False</td><td>False</td><td>False</td><td>False</td><td>False</td><td>False</td><td>False</td><td>1063.9390702282717</td><td>1063.9390702282717</td><td>118.9892334348896</td><td>118.9892334348896</td><td>18.968815</td><td>18.968815</td><td>True</td><td>True</td><td>False</td><td>False</td><td>True</td><td>True</td><td>False</td><td>746.18505859375</td><td>False</td><td>2035.814247683889</td><td>331.1861684078835</td><td>2.613804</td><td>6.339296</td><td>1.322575</td><td>True</td><td>False</td><td>False</td><td>False</td><td>False</td><td>False</td><td>False</td><td>False</td><td>False</td><td>True</td><td>1.1527052278811791</td><td>1.1527052278811791</td><td>1.1527052278811791</td><td>0.0</td><td>0.0</td><td>0.0</td><td>False</td><td>False</td><td>False</td><td>0.9877260500612772</td><td>0.9877260500612772</td><td>0.0</td><td>0.0</td><td>False</td><td>False</td><td>1.0603886867196957</td><td>0.0</td><td>False</td><td>nan</td><td>True</td><td>66</td><td>False</td><td>False</td><td>False</td></tr>\n",
       "<tr><td>33447624753283084</td><td>5.927441240410337</td><td>0.018737882091115165</td><td>0</td><td>False</td><td>False</td><td>False</td><td>False</td><td>0</td><td>False</td><td>nan</td><td>nan</td><td>nan</td><td>False</td><td>False</td><td>False</td><td>False</td><td>False</td><td>False</td><td>False</td><td>False</td><td>2010.1039597078698</td><td>12.860319782522032</td><td>False</td><td>False</td><td>False</td><td>False</td><td>2010.0</td><td>2010.0</td><td>13.0</td><td>13.0</td><td>nan</td><td>nan</td><td>nan</td><td>nan</td><td>True</td><td>True</td><td>True</td><td>True</td><td>True</td><td>True</td><td>True</td><td>True</td><td>True</td><td>True</td><td>True</td><td>True</td><td>True</td><td>True</td><td>True</td><td>True</td><td>True</td><td>True</td><td>True</td><td>True</td><td>True</td><td>True</td><td>True</td><td>True</td><td>True</td><td>True</td><td>True</td><td>True</td><td>False</td><td>False</td><td>False</td><td>False</td><td>False</td><td>False</td><td>False</td><td>False</td><td>False</td><td>False</td><td>False</td><td>False</td><td>False</td><td>False</td><td>False</td><td>False</td><td>False</td><td>False</td><td>False</td><td>False</td><td>False</td><td>False</td><td>False</td><td>False</td><td>False</td><td>False</td><td>False</td><td>False</td><td>False</td><td>False</td><td>False</td><td>False</td><td>False</td><td>False</td><td>False</td><td>False</td><td>False</td><td>False</td><td>False</td><td>False</td><td>False</td><td>False</td><td>False</td><td>False</td><td>False</td><td>False</td><td>False</td><td>False</td><td>False</td><td>False</td><td>False</td><td>False</td><td>False</td><td>False</td><td>False</td><td>False</td><td>False</td><td>False</td><td>False</td><td>False</td><td>False</td><td>False</td><td>False</td><td>False</td><td>False</td><td>False</td><td>False</td><td>False</td><td>False</td><td>False</td><td>0.0</td><td>0.0</td><td>1868.9301496751814</td><td>1868.9301496751814</td><td>0.0</td><td>1920.013720086561</td><td>1920.013720086561</td><td>3.461162141255371</td><td>2.6317398092686908</td><td>1.4402057417842205</td><td>3.461162141255371</td><td>2.6317398092686908</td><td>1.4402057417842205</td><td>3.8282370135318184</td><td>2.8158033072915316</td><td>1.4843806015731638</td><td>3.8282370135318184</td><td>2.8158033072915316</td><td>1.4843806015731638</td><td>True</td><td>True</td><td>True</td><td>78.45117583396393</td><td>-127.16194254033677</td><td>False</td><td>False</td><td>0.9569828190325759</td><td>False</td><td>3.6823764630021283</td><td>2.8918283907973876</td><td>1.7037178352097062</td><td>0.8863708</td><td>0.6265637</td><td>0.696081</td><td>2010.053085054693</td><td>12.955391088791934</td><td>1944.0674958652817</td><td>233.9745521533978</td><td>1.1274557096270146</td><td>1.1077717908536466</td><td>-0.11345977850335136</td><td>-103.694115</td><td>-47.975956</td><td>-81.43262</td><td>False</td><td>False</td><td>False</td><td>False</td><td>False</td><td>False</td><td>3.255721528105005e-05</td><td>3.255721528105005e-05</td><td>-0.0014604927216903948</td><td>-0.0014604927216903948</td><td>1.1284871978179178</td><td>1.1284871978179178</td><td>1.1086625312578078</td><td>1.1086625312578078</td><td>-0.11373113690170257</td><td>-0.11373113690170257</td><td>True</td><td>True</td><td>False</td><td>False</td><td>False</td><td>False</td><td>False</td><td>False</td><td>0.259225994348526</td><td>0.8998711705207825</td><td>0.24947673082351685</td><td>0.5983330011367798</td><td>False</td><td>False</td><td>False</td><td>False</td><td>False</td><td>2010.0720491467944</td><td>2010.0720491467944</td><td>12.862561405038571</td><td>12.862561405038571</td><td>3.4051970445966018</td><td>3.4051970445966018</td><td>2.6293051030670496</td><td>2.6293051030670496</td><td>1.3920342123085987</td><td>1.3920342123085987</td><td>True</td><td>True</td><td>True</td><td>False</td><td>False</td><td>False</td><td>False</td><td>False</td><td>False</td><td>False</td><td>False</td><td>False</td><td>2010.1561785839792</td><td>2010.1561785839792</td><td>12.731156633574509</td><td>12.731156633574509</td><td>3.0607753041248262</td><td>3.0607753041248262</td><td>2.633745419243624</td><td>2.633745419243624</td><td>0.4582855771180323</td><td>0.4582855771180323</td><td>True</td><td>True</td><td>False</td><td>False</td><td>False</td><td>False</td><td>False</td><td>False</td><td>1908.9346</td><td>1908.9346</td><td>1450.9970703125</td><td>142.82867431640625</td><td>True</td><td>False</td><td>False</td><td>1890.46728515625</td><td>215.66824340820312</td><td>True</td><td>False</td><td>True</td><td>1887.0234375</td><td>288.551025390625</td><td>True</td><td>False</td><td>True</td><td>2159.2080078125</td><td>434.3982849121094</td><td>True</td><td>False</td><td>True</td><td>2030.349365234375</td><td>2030.349365234375</td><td>2030.349365234375</td><td>580.224853515625</td><td>580.224853515625</td><td>580.224853515625</td><td>True</td><td>True</td><td>True</td><td>False</td><td>False</td><td>False</td><td>True</td><td>True</td><td>True</td><td>nan</td><td>nan</td><td>True</td><td>True</td><td>nan</td><td>nan</td><td>True</td><td>True</td><td>nan</td><td>nan</td><td>True</td><td>True</td><td>nan</td><td>nan</td><td>True</td><td>True</td><td>nan</td><td>nan</td><td>True</td><td>True</td><td>2141.7770390677956</td><td>2141.7770390677956</td><td>2141.7770390677956</td><td>182.4047036473991</td><td>182.4047036473991</td><td>182.4047036473991</td><td>False</td><td>False</td><td>False</td><td>0.2417254121023855</td><td>28.53998720786741</td><td>True</td><td>False</td><td>False</td><td>False</td><td>0.15099758602010033</td><td>0.0</td><td>False</td><td>-8.200610993159925e-09</td><td>-7.928926361824527e-07</td><td>-8.007561766671623e-07</td><td>-7.620525098157521e-09</td><td>False</td><td>False</td><td>False</td><td>False</td><td>False</td><td>False</td><td>False</td><td>False</td><td>False</td><td>False</td><td>False</td><td>False</td><td>1260.1974417609126</td><td>1260.1974417609126</td><td>118.15355604394598</td><td>118.15355604394598</td><td>18.31355</td><td>18.31355</td><td>True</td><td>True</td><td>False</td><td>False</td><td>True</td><td>True</td><td>False</td><td>754.9017333984375</td><td>False</td><td>1878.8738008744854</td><td>278.6204491944605</td><td>2.2265792</td><td>6.339296</td><td>1.3215164</td><td>True</td><td>False</td><td>False</td><td>False</td><td>False</td><td>False</td><td>False</td><td>False</td><td>False</td><td>True</td><td>1.1301563641325223</td><td>1.1301563641325223</td><td>1.1301563641325223</td><td>0.0</td><td>0.0</td><td>0.0</td><td>False</td><td>False</td><td>False</td><td>0.9919957603791338</td><td>0.9919957603791338</td><td>0.0</td><td>0.0</td><td>False</td><td>False</td><td>1.0418771289916378</td><td>0.0</td><td>False</td><td>nan</td><td>True</td><td>83</td><td>False</td><td>False</td><td>False</td></tr>\n",
       "<tr><td>33447624753283085</td><td>5.927446273205644</td><td>0.02003295719935593</td><td>0</td><td>False</td><td>False</td><td>False</td><td>False</td><td>0</td><td>False</td><td>nan</td><td>nan</td><td>nan</td><td>False</td><td>False</td><td>False</td><td>False</td><td>False</td><td>False</td><td>False</td><td>False</td><td>403.9020951470609</td><td>21.081644823949716</td><td>False</td><td>False</td><td>False</td><td>False</td><td>404.0</td><td>404.0</td><td>21.0</td><td>21.0</td><td>nan</td><td>nan</td><td>nan</td><td>nan</td><td>True</td><td>True</td><td>True</td><td>True</td><td>True</td><td>True</td><td>True</td><td>True</td><td>True</td><td>True</td><td>True</td><td>True</td><td>True</td><td>True</td><td>True</td><td>True</td><td>True</td><td>True</td><td>True</td><td>True</td><td>True</td><td>True</td><td>True</td><td>True</td><td>True</td><td>True</td><td>True</td><td>True</td><td>False</td><td>False</td><td>False</td><td>False</td><td>False</td><td>False</td><td>False</td><td>False</td><td>False</td><td>False</td><td>False</td><td>False</td><td>False</td><td>False</td><td>False</td><td>False</td><td>False</td><td>False</td><td>False</td><td>False</td><td>False</td><td>False</td><td>False</td><td>False</td><td>False</td><td>False</td><td>False</td><td>False</td><td>False</td><td>False</td><td>False</td><td>False</td><td>False</td><td>False</td><td>False</td><td>False</td><td>False</td><td>False</td><td>False</td><td>False</td><td>False</td><td>False</td><td>False</td><td>False</td><td>False</td><td>False</td><td>False</td><td>False</td><td>False</td><td>False</td><td>False</td><td>False</td><td>False</td><td>False</td><td>False</td><td>False</td><td>False</td><td>False</td><td>False</td><td>False</td><td>False</td><td>False</td><td>False</td><td>False</td><td>False</td><td>False</td><td>False</td><td>False</td><td>False</td><td>False</td><td>0.0</td><td>0.0</td><td>9215.855551539156</td><td>9215.855551539156</td><td>0.0</td><td>9357.288484833942</td><td>9357.288484833942</td><td>5.011100738314233</td><td>26.87401087680391</td><td>-6.754877955725114</td><td>5.011100738314233</td><td>26.87401087680391</td><td>-6.754877955725114</td><td>5.318293036867489</td><td>29.527180415202803</td><td>-7.39485337677635</td><td>5.318293036867489</td><td>29.527180415202803</td><td>-7.39485337677635</td><td>True</td><td>True</td><td>True</td><td>54.36115938426947</td><td>-127.04529155041138</td><td>False</td><td>False</td><td>0.9632913715376293</td><td>False</td><td>5.171339227470788</td><td>26.83861133469571</td><td>-6.971760107198811</td><td>0.4732336</td><td>0.88580656</td><td>2.4560242</td><td>403.8479406946049</td><td>21.187191874076596</td><td>9405.68823209172</td><td>430.3612549806511</td><td>1.144116920074225</td><td>1.1106733576280963</td><td>-0.11255477238163528</td><td>-101.8307</td><td>137.28343</td><td>-528.4888</td><td>False</td><td>False</td><td>False</td><td>False</td><td>False</td><td>False</td><td>0.0020441941473123685</td><td>0.0020441941473123685</td><td>-0.004287301389200637</td><td>-0.004287301389200637</td><td>1.1451786337374545</td><td>1.1451786337374545</td><td>1.1115503996490959</td><td>1.1115503996490959</td><td>-0.11278075716934176</td><td>-0.11278075716934176</td><td>True</td><td>True</td><td>False</td><td>False</td><td>False</td><td>False</td><td>False</td><td>False</td><td>-0.7621490359306335</td><td>-0.4446564018726349</td><td>0.06534229964017868</td><td>0.9253561496734619</td><td>False</td><td>False</td><td>False</td><td>False</td><td>False</td><td>403.68407867574683</td><td>403.68407867574683</td><td>21.388464041983465</td><td>21.388464041983465</td><td>4.856857948115622</td><td>4.856857948115622</td><td>26.42311745189388</td><td>26.42311745189388</td><td>-6.444044563468458</td><td>-6.444044563468458</td><td>True</td><td>True</td><td>True</td><td>False</td><td>False</td><td>False</td><td>False</td><td>False</td><td>False</td><td>False</td><td>False</td><td>False</td><td>403.6853668436414</td><td>403.6853668436414</td><td>21.014699773236284</td><td>21.014699773236284</td><td>6.8485941672801145</td><td>6.8485941672801145</td><td>16.13414745373013</td><td>16.13414745373013</td><td>-2.7153115099170426</td><td>-2.7153115099170426</td><td>True</td><td>True</td><td>False</td><td>False</td><td>False</td><td>False</td><td>False</td><td>False</td><td>8513.204</td><td>8513.204</td><td>3215.572265625</td><td>142.78826904296875</td><td>True</td><td>False</td><td>False</td><td>5037.783203125</td><td>215.1746368408203</td><td>True</td><td>False</td><td>False</td><td>6816.29443359375</td><td>287.65032958984375</td><td>True</td><td>False</td><td>False</td><td>9116.87109375</td><td>432.1778259277344</td><td>True</td><td>False</td><td>True</td><td>9961.5673828125</td><td>9961.5673828125</td><td>9961.5673828125</td><td>576.4656372070312</td><td>576.4656372070312</td><td>576.4656372070312</td><td>True</td><td>True</td><td>True</td><td>False</td><td>False</td><td>False</td><td>True</td><td>True</td><td>True</td><td>10533.908992826939</td><td>818.3095692257459</td><td>True</td><td>False</td><td>nan</td><td>nan</td><td>True</td><td>True</td><td>nan</td><td>nan</td><td>True</td><td>True</td><td>nan</td><td>nan</td><td>True</td><td>True</td><td>nan</td><td>nan</td><td>True</td><td>True</td><td>10665.412318672654</td><td>10665.412318672654</td><td>10665.412318672654</td><td>345.173838940374</td><td>345.173838940374</td><td>345.173838940374</td><td>False</td><td>False</td><td>False</td><td>3.0839536331995117</td><td>29.4368730548757</td><td>True</td><td>False</td><td>False</td><td>False</td><td>0.15099758602010033</td><td>0.0</td><td>False</td><td>-5.702492755634092e-09</td><td>-7.942965472912238e-07</td><td>-8.045675838210439e-07</td><td>-5.156336082953125e-09</td><td>False</td><td>False</td><td>False</td><td>False</td><td>False</td><td>False</td><td>False</td><td>False</td><td>False</td><td>False</td><td>False</td><td>False</td><td>2332.5631501029534</td><td>2332.5631501029534</td><td>119.1532613454105</td><td>119.1532613454105</td><td>18.816452</td><td>18.816452</td><td>True</td><td>True</td><td>False</td><td>False</td><td>False</td><td>False</td><td>False</td><td>740.5765991210938</td><td>False</td><td>9375.261995136596</td><td>436.3328581518775</td><td>3.4434767</td><td>6.339296</td><td>1.3273503</td><td>True</td><td>False</td><td>False</td><td>False</td><td>False</td><td>False</td><td>False</td><td>False</td><td>False</td><td>True</td><td>1.145157351551805</td><td>1.145157351551805</td><td>1.145157351551805</td><td>0.0</td><td>0.0</td><td>0.0</td><td>False</td><td>False</td><td>False</td><td>0.9875097956246701</td><td>0.9875097956246701</td><td>0.0</td><td>0.0</td><td>False</td><td>False</td><td>1.0557329240818238</td><td>0.0</td><td>False</td><td>nan</td><td>True</td><td>228</td><td>False</td><td>False</td><td>False</td></tr>\n",
       "<tr><td>33447624753283086</td><td>5.927450789027109</td><td>0.01999420131300125</td><td>0</td><td>False</td><td>False</td><td>False</td><td>False</td><td>0</td><td>False</td><td>nan</td><td>nan</td><td>nan</td><td>False</td><td>False</td><td>False</td><td>False</td><td>False</td><td>False</td><td>False</td><td>False</td><td>451.943898706273</td><td>15.037085182621613</td><td>False</td><td>False</td><td>False</td><td>False</td><td>452.0</td><td>452.0</td><td>15.0</td><td>15.0</td><td>nan</td><td>nan</td><td>nan</td><td>nan</td><td>True</td><td>True</td><td>True</td><td>True</td><td>True</td><td>True</td><td>True</td><td>True</td><td>True</td><td>True</td><td>True</td><td>True</td><td>True</td><td>True</td><td>True</td><td>True</td><td>True</td><td>True</td><td>True</td><td>True</td><td>True</td><td>True</td><td>True</td><td>True</td><td>True</td><td>True</td><td>True</td><td>True</td><td>False</td><td>False</td><td>False</td><td>False</td><td>False</td><td>False</td><td>False</td><td>False</td><td>False</td><td>False</td><td>False</td><td>False</td><td>False</td><td>False</td><td>False</td><td>False</td><td>False</td><td>False</td><td>False</td><td>False</td><td>False</td><td>False</td><td>False</td><td>False</td><td>False</td><td>False</td><td>False</td><td>False</td><td>False</td><td>False</td><td>False</td><td>False</td><td>False</td><td>False</td><td>False</td><td>False</td><td>False</td><td>False</td><td>False</td><td>False</td><td>False</td><td>False</td><td>False</td><td>False</td><td>False</td><td>False</td><td>False</td><td>False</td><td>False</td><td>False</td><td>False</td><td>False</td><td>False</td><td>False</td><td>False</td><td>False</td><td>False</td><td>False</td><td>False</td><td>False</td><td>False</td><td>False</td><td>False</td><td>False</td><td>False</td><td>False</td><td>False</td><td>False</td><td>False</td><td>False</td><td>0.0</td><td>0.0</td><td>2484.070739020232</td><td>2484.070739020232</td><td>0.0</td><td>2530.9608281092865</td><td>2530.9608281092865</td><td>8.721419703409692</td><td>3.2267612472144593</td><td>-3.0461621680362314</td><td>8.721419703409692</td><td>3.2267612472144593</td><td>-3.0461621680362314</td><td>9.495642583626921</td><td>3.4573418905171667</td><td>-3.1082742511310455</td><td>9.495642583626921</td><td>3.4573418905171667</td><td>-3.1082742511310455</td><td>True</td><td>True</td><td>True</td><td>55.08117188917578</td><td>-127.13519145463015</td><td>False</td><td>False</td><td>0.9630939898581949</td><td>False</td><td>10.325574020378497</td><td>3.6533300454692488</td><td>-3.869434241952656</td><td>2.3235283</td><td>1.15506</td><td>0.8220963</td><td>451.6508531121642</td><td>15.165695495528306</td><td>2690.673773198843</td><td>302.7364947150602</td><td>1.143588988280744</td><td>1.109789091341346</td><td>-0.11345295503644572</td><td>-351.7085</td><td>131.80028</td><td>-124.43931</td><td>False</td><td>False</td><td>False</td><td>False</td><td>False</td><td>False</td><td>0.0020430415115758405</td><td>0.0020430415115758405</td><td>-0.004282422928331625</td><td>-0.004282422928331625</td><td>1.1446449765136824</td><td>1.1446449765136824</td><td>1.1106489080775783</td><td>1.1106489080775783</td><td>-0.11367966641664373</td><td>-0.11367966641664373</td><td>True</td><td>True</td><td>False</td><td>False</td><td>False</td><td>False</td><td>False</td><td>False</td><td>0.6144999861717224</td><td>-0.5865334272384644</td><td>0.18692389130592346</td><td>0.785841703414917</td><td>False</td><td>False</td><td>False</td><td>False</td><td>False</td><td>451.35464881247026</td><td>451.35464881247026</td><td>15.352326434026692</td><td>15.352326434026692</td><td>8.119661922231337</td><td>8.119661922231337</td><td>2.9781954013514653</td><td>2.9781954013514653</td><td>-2.5825301633056297</td><td>-2.5825301633056297</td><td>True</td><td>True</td><td>True</td><td>False</td><td>False</td><td>False</td><td>False</td><td>False</td><td>False</td><td>False</td><td>False</td><td>False</td><td>451.78090663139994</td><td>451.78090663139994</td><td>15.474601727807121</td><td>15.474601727807121</td><td>6.434724028173143</td><td>6.434724028173143</td><td>4.178388287798018</td><td>4.178388287798018</td><td>-0.9778645358108915</td><td>-0.9778645358108915</td><td>True</td><td>True</td><td>False</td><td>False</td><td>False</td><td>False</td><td>False</td><td>False</td><td>2629.8682</td><td>2629.8682</td><td>1407.569091796875</td><td>141.35890197753906</td><td>True</td><td>False</td><td>False</td><td>2293.21142578125</td><td>213.65760803222656</td><td>True</td><td>False</td><td>False</td><td>2462.189453125</td><td>285.8000183105469</td><td>True</td><td>False</td><td>False</td><td>2710.0634765625</td><td>430.0534973144531</td><td>True</td><td>False</td><td>True</td><td>2866.225830078125</td><td>2866.225830078125</td><td>2866.225830078125</td><td>574.5050659179688</td><td>574.5050659179688</td><td>574.5050659179688</td><td>True</td><td>True</td><td>True</td><td>False</td><td>False</td><td>False</td><td>True</td><td>True</td><td>True</td><td>nan</td><td>nan</td><td>True</td><td>True</td><td>nan</td><td>nan</td><td>True</td><td>True</td><td>nan</td><td>nan</td><td>True</td><td>True</td><td>nan</td><td>nan</td><td>True</td><td>True</td><td>nan</td><td>nan</td><td>True</td><td>True</td><td>2876.9300241086617</td><td>2876.9300241086617</td><td>2876.9300241086617</td><td>229.84137875969716</td><td>229.84137875969716</td><td>229.84137875969716</td><td>False</td><td>False</td><td>False</td><td>-0.48727864504249563</td><td>28.114795691090475</td><td>True</td><td>False</td><td>False</td><td>False</td><td>0.15099758602010033</td><td>0.0</td><td>False</td><td>-5.780850305180836e-09</td><td>-7.942353826246733e-07</td><td>-8.044657603483736e-07</td><td>-5.232838658312613e-09</td><td>False</td><td>False</td><td>False</td><td>False</td><td>False</td><td>False</td><td>False</td><td>False</td><td>False</td><td>False</td><td>False</td><td>False</td><td>1191.9280431809646</td><td>1191.9280431809646</td><td>118.22273585650909</td><td>118.22273585650909</td><td>18.85448</td><td>18.85448</td><td>True</td><td>True</td><td>False</td><td>False</td><td>True</td><td>True</td><td>False</td><td>739.6697387695312</td><td>False</td><td>2659.205914657091</td><td>321.03306195538994</td><td>2.5511744</td><td>6.339296</td><td>1.3268733</td><td>True</td><td>False</td><td>False</td><td>False</td><td>False</td><td>False</td><td>False</td><td>False</td><td>False</td><td>True</td><td>1.1462726599502782</td><td>1.1462726599502782</td><td>1.1462726599502782</td><td>0.0</td><td>0.0</td><td>0.0</td><td>False</td><td>False</td><td>False</td><td>0.9874046765539364</td><td>0.9874046765539364</td><td>0.0</td><td>0.0</td><td>False</td><td>False</td><td>1.0564716374242409</td><td>0.0</td><td>False</td><td>nan</td><td>True</td><td>93</td><td>False</td><td>False</td><td>False</td></tr>\n",
       "<tr><td>33447624753283087</td><td>5.927448486325576</td><td>0.020007114409623317</td><td>0</td><td>False</td><td>False</td><td>False</td><td>False</td><td>0</td><td>False</td><td>nan</td><td>nan</td><td>nan</td><td>False</td><td>False</td><td>False</td><td>False</td><td>False</td><td>False</td><td>False</td><td>False</td><td>435.7221499630639</td><td>17.816800451833085</td><td>False</td><td>False</td><td>False</td><td>False</td><td>436.0</td><td>436.0</td><td>18.0</td><td>18.0</td><td>nan</td><td>nan</td><td>nan</td><td>nan</td><td>True</td><td>True</td><td>True</td><td>True</td><td>True</td><td>True</td><td>True</td><td>True</td><td>True</td><td>True</td><td>True</td><td>True</td><td>True</td><td>True</td><td>True</td><td>True</td><td>True</td><td>True</td><td>True</td><td>True</td><td>True</td><td>True</td><td>True</td><td>True</td><td>True</td><td>True</td><td>True</td><td>True</td><td>False</td><td>False</td><td>False</td><td>False</td><td>False</td><td>False</td><td>False</td><td>False</td><td>False</td><td>False</td><td>False</td><td>False</td><td>False</td><td>False</td><td>False</td><td>False</td><td>False</td><td>False</td><td>False</td><td>False</td><td>False</td><td>False</td><td>False</td><td>False</td><td>False</td><td>False</td><td>False</td><td>False</td><td>False</td><td>False</td><td>False</td><td>False</td><td>False</td><td>False</td><td>False</td><td>False</td><td>False</td><td>False</td><td>False</td><td>False</td><td>False</td><td>False</td><td>False</td><td>False</td><td>False</td><td>False</td><td>False</td><td>False</td><td>False</td><td>False</td><td>False</td><td>False</td><td>False</td><td>False</td><td>False</td><td>False</td><td>False</td><td>False</td><td>False</td><td>False</td><td>False</td><td>False</td><td>False</td><td>False</td><td>False</td><td>False</td><td>False</td><td>False</td><td>False</td><td>False</td><td>0.0</td><td>0.0</td><td>952.5572737766109</td><td>952.5572737766109</td><td>0.0</td><td>1067.421367864248</td><td>1067.421367864248</td><td>1.657718346243721</td><td>4.128150625357354</td><td>-0.4898893314443582</td><td>1.657718346243721</td><td>4.128150625357354</td><td>-0.4898893314443582</td><td>1.9190561295419235</td><td>4.653318149647535</td><td>-0.5191959154679738</td><td>1.9190561295419235</td><td>4.653318149647535</td><td>-0.5191959154679738</td><td>True</td><td>True</td><td>True</td><td>54.84116563556302</td><td>-127.0902248200355</td><td>False</td><td>False</td><td>0.9631674242731851</td><td>False</td><td>3.321339284732281</td><td>7.598547074636047</td><td>0.29998447141915946</td><td>1.2932541</td><td>1.3856401</td><td>2.9587018</td><td>436.1343124223121</td><td>18.20040120245496</td><td>1581.2777775764405</td><td>307.85686581154704</td><td>1.1437467465340252</td><td>1.1100957646642857</td><td>-0.11314121747630686</td><td>-199.06859</td><td>-17.979942</td><td>-455.42834</td><td>False</td><td>False</td><td>False</td><td>False</td><td>False</td><td>False</td><td>0.002042862189533705</td><td>0.002042862189533705</td><td>-0.004282830850146173</td><td>-0.004282830850146173</td><td>1.1448101286136139</td><td>1.1448101286136139</td><td>1.110967136314289</td><td>1.110967136314289</td><td>-0.11336180205109964</td><td>-0.11336180205109964</td><td>True</td><td>True</td><td>False</td><td>False</td><td>False</td><td>False</td><td>False</td><td>False</td><td>-0.9378045201301575</td><td>-0.46731460094451904</td><td>0.5498545169830322</td><td>0.4712844789028168</td><td>False</td><td>False</td><td>False</td><td>False</td><td>False</td><td>435.99181118262464</td><td>435.99181118262464</td><td>17.73949172077987</td><td>17.73949172077987</td><td>1.6093074384321333</td><td>1.6093074384321333</td><td>3.026326546532553</td><td>3.026326546532553</td><td>-0.45708110997686774</td><td>-0.45708110997686774</td><td>True</td><td>True</td><td>True</td><td>False</td><td>False</td><td>False</td><td>False</td><td>False</td><td>False</td><td>False</td><td>False</td><td>False</td><td>436.02232551918</td><td>436.02232551918</td><td>17.61284197266207</td><td>17.61284197266207</td><td>2.253853287171039</td><td>2.253853287171039</td><td>2.9861672610146033</td><td>2.9861672610146033</td><td>-0.0986231349959091</td><td>-0.0986231349959091</td><td>True</td><td>True</td><td>False</td><td>False</td><td>False</td><td>False</td><td>False</td><td>False</td><td>983.98474</td><td>983.98474</td><td>835.2799072265625</td><td>140.9938201904297</td><td>True</td><td>False</td><td>False</td><td>1380.942138671875</td><td>213.1783905029297</td><td>True</td><td>False</td><td>False</td><td>1700.6451416015625</td><td>285.6448974609375</td><td>True</td><td>False</td><td>False</td><td>1687.200927734375</td><td>429.9834899902344</td><td>True</td><td>False</td><td>True</td><td>1679.1842041015625</td><td>1679.1842041015625</td><td>1679.1842041015625</td><td>574.5066528320312</td><td>574.5066528320312</td><td>574.5066528320312</td><td>True</td><td>True</td><td>True</td><td>False</td><td>False</td><td>False</td><td>True</td><td>True</td><td>True</td><td>544.8889864683151</td><td>816.6772751764008</td><td>True</td><td>False</td><td>nan</td><td>nan</td><td>True</td><td>True</td><td>nan</td><td>nan</td><td>True</td><td>True</td><td>nan</td><td>nan</td><td>True</td><td>True</td><td>nan</td><td>nan</td><td>True</td><td>True</td><td>1107.5606667562984</td><td>1107.5606667562984</td><td>1107.5606667562984</td><td>163.68047425049375</td><td>163.68047425049375</td><td>163.68047425049375</td><td>False</td><td>False</td><td>False</td><td>-1.7447828234118516</td><td>28.425541500570795</td><td>True</td><td>False</td><td>False</td><td>False</td><td>0.15099758602010033</td><td>0.0</td><td>False</td><td>-5.753998191027104e-09</td><td>-7.942604330458856e-07</td><td>-8.045013539665324e-07</td><td>-5.206665625686751e-09</td><td>False</td><td>False</td><td>False</td><td>False</td><td>False</td><td>False</td><td>False</td><td>False</td><td>False</td><td>False</td><td>False</td><td>False</td><td>705.373245516231</td><td>705.373245516231</td><td>117.49049646566041</td><td>117.49049646566041</td><td>18.840496</td><td>18.840496</td><td>True</td><td>True</td><td>False</td><td>False</td><td>True</td><td>True</td><td>False</td><td>740.6572265625</td><td>False</td><td>1738.9019649654908</td><td>373.03341680183865</td><td>2.9622593</td><td>6.339296</td><td>1.3270351</td><td>True</td><td>False</td><td>False</td><td>False</td><td>False</td><td>False</td><td>False</td><td>False</td><td>False</td><td>True</td><td>1.1459293029387556</td><td>1.1459293029387556</td><td>1.1459293029387556</td><td>0.0</td><td>0.0</td><td>0.0</td><td>False</td><td>False</td><td>False</td><td>0.9874468644049179</td><td>0.9874468644049179</td><td>0.0</td><td>0.0</td><td>False</td><td>False</td><td>1.0562525773667815</td><td>0.0</td><td>False</td><td>nan</td><td>True</td><td>36</td><td>False</td><td>False</td><td>False</td></tr>\n",
       "<tr><td>33447624753283088</td><td>5.927437701735024</td><td>0.01878128316621022</td><td>0</td><td>False</td><td>False</td><td>False</td><td>False</td><td>2</td><td>False</td><td>nan</td><td>nan</td><td>nan</td><td>True</td><td>False</td><td>False</td><td>False</td><td>False</td><td>False</td><td>False</td><td>False</td><td>1956.0803655730983</td><td>18.098015229834232</td><td>False</td><td>False</td><td>False</td><td>False</td><td>1956.0</td><td>1956.0</td><td>18.0</td><td>18.0</td><td>nan</td><td>nan</td><td>nan</td><td>nan</td><td>True</td><td>True</td><td>True</td><td>True</td><td>True</td><td>True</td><td>True</td><td>True</td><td>True</td><td>True</td><td>True</td><td>True</td><td>True</td><td>True</td><td>True</td><td>True</td><td>True</td><td>True</td><td>True</td><td>True</td><td>True</td><td>True</td><td>True</td><td>True</td><td>True</td><td>True</td><td>True</td><td>True</td><td>False</td><td>False</td><td>False</td><td>False</td><td>False</td><td>False</td><td>False</td><td>False</td><td>False</td><td>False</td><td>False</td><td>False</td><td>False</td><td>False</td><td>False</td><td>False</td><td>False</td><td>False</td><td>False</td><td>False</td><td>False</td><td>False</td><td>False</td><td>False</td><td>False</td><td>False</td><td>False</td><td>False</td><td>False</td><td>False</td><td>False</td><td>False</td><td>False</td><td>False</td><td>False</td><td>False</td><td>False</td><td>False</td><td>False</td><td>False</td><td>False</td><td>False</td><td>False</td><td>False</td><td>False</td><td>False</td><td>False</td><td>False</td><td>False</td><td>False</td><td>False</td><td>False</td><td>False</td><td>False</td><td>False</td><td>False</td><td>False</td><td>False</td><td>False</td><td>False</td><td>False</td><td>False</td><td>False</td><td>False</td><td>False</td><td>False</td><td>False</td><td>False</td><td>False</td><td>False</td><td>0.0</td><td>0.0</td><td>1868.5604953003992</td><td>1868.5604953003992</td><td>0.0</td><td>1970.6137240271755</td><td>1970.6137240271755</td><td>3.915653878923993</td><td>4.379171746142583</td><td>-2.0992914873159347</td><td>3.915653878923993</td><td>4.379171746142583</td><td>-2.0992914873159347</td><td>4.582769680230835</td><td>5.370289475479523</td><td>-2.742861168058843</td><td>4.582769680230835</td><td>5.370289475479523</td><td>-2.742861168058843</td><td>True</td><td>True</td><td>True</td><td>77.64116541523798</td><td>-127.08705514783699</td><td>False</td><td>False</td><td>0.9572688942148723</td><td>False</td><td>4.370720569850838</td><td>7.1933994598750886</td><td>-2.9834203512913247</td><td>1.169895</td><td>1.2021343</td><td>1.9254316</td><td>1955.9076309567736</td><td>18.501679232969664</td><td>2276.705331932521</td><td>304.69878342644165</td><td>1.1279050115308136</td><td>1.1071831834116612</td><td>-0.11417085334470198</td><td>-178.23279</td><td>121.66035</td><td>-293.33835</td><td>False</td><td>False</td><td>False</td><td>False</td><td>False</td><td>False</td><td>0.00015520087777209086</td><td>0.00015520087777209086</td><td>-0.0016267463379803046</td><td>-0.0016267463379803046</td><td>1.1289312318490812</td><td>1.1289312318490812</td><td>1.1080580658803016</td><td>1.1080580658803016</td><td>-0.11444313138209747</td><td>-0.11444313138209747</td><td>True</td><td>True</td><td>False</td><td>False</td><td>False</td><td>False</td><td>False</td><td>False</td><td>nan</td><td>nan</td><td>nan</td><td>nan</td><td>True</td><td>False</td><td>False</td><td>True</td><td>False</td><td>1955.8604819228367</td><td>1955.8604819228367</td><td>18.831385582795896</td><td>18.831385582795896</td><td>3.9938129469865133</td><td>3.9938129469865133</td><td>3.9580278984560744</td><td>3.9580278984560744</td><td>-2.05895117301667</td><td>-2.05895117301667</td><td>True</td><td>True</td><td>True</td><td>False</td><td>False</td><td>False</td><td>False</td><td>False</td><td>False</td><td>False</td><td>False</td><td>False</td><td>1955.8981515245152</td><td>1955.8981515245152</td><td>18.792869796877675</td><td>18.792869796877675</td><td>4.300928319474509</td><td>4.300928319474509</td><td>4.291906334575233</td><td>4.291906334575233</td><td>-1.0319546183243022</td><td>-1.0319546183243022</td><td>True</td><td>True</td><td>False</td><td>False</td><td>False</td><td>False</td><td>False</td><td>False</td><td>2127.875</td><td>2127.875</td><td>1298.5733642578125</td><td>142.72525024414062</td><td>True</td><td>False</td><td>False</td><td>1959.2843017578125</td><td>215.58041381835938</td><td>True</td><td>False</td><td>False</td><td>2022.681640625</td><td>288.39794921875</td><td>True</td><td>False</td><td>False</td><td>3206.2216796875</td><td>434.5702819824219</td><td>True</td><td>False</td><td>True</td><td>3964.8134765625</td><td>3964.8134765625</td><td>3964.8134765625</td><td>580.8406372070312</td><td>580.8406372070312</td><td>580.8406372070312</td><td>True</td><td>True</td><td>True</td><td>False</td><td>False</td><td>False</td><td>True</td><td>True</td><td>True</td><td>5352.907772541046</td><td>826.1551547510187</td><td>True</td><td>False</td><td>nan</td><td>nan</td><td>True</td><td>True</td><td>nan</td><td>nan</td><td>True</td><td>True</td><td>nan</td><td>nan</td><td>True</td><td>True</td><td>nan</td><td>nan</td><td>True</td><td>True</td><td>2153.346357462617</td><td>2153.346357462617</td><td>2153.346357462617</td><td>206.55194572900382</td><td>206.55194572900382</td><td>206.55194572900382</td><td>False</td><td>False</td><td>False</td><td>2.9914330680124595</td><td>28.320120487914036</td><td>True</td><td>False</td><td>False</td><td>False</td><td>0.15099758602010033</td><td>0.0</td><td>False</td><td>-8.111330079228755e-09</td><td>-7.929701523188486e-07</td><td>-8.009154269290367e-07</td><td>-7.531926639557612e-09</td><td>False</td><td>False</td><td>False</td><td>False</td><td>False</td><td>False</td><td>False</td><td>False</td><td>False</td><td>False</td><td>False</td><td>False</td><td>1057.8712415298642</td><td>1057.8712415298642</td><td>117.93514148664333</td><td>117.93514148664333</td><td>18.321445</td><td>18.321445</td><td>True</td><td>True</td><td>False</td><td>False</td><td>True</td><td>True</td><td>False</td><td>756.0243530273438</td><td>False</td><td>2262.9635275686687</td><td>329.6138634893832</td><td>2.6253874</td><td>6.339296</td><td>1.3214264</td><td>True</td><td>False</td><td>False</td><td>False</td><td>False</td><td>False</td><td>False</td><td>False</td><td>False</td><td>True</td><td>1.1326404103526069</td><td>1.1326404103526069</td><td>1.1326404103526069</td><td>0.0</td><td>0.0</td><td>0.0</td><td>False</td><td>False</td><td>False</td><td>0.9916575298938048</td><td>0.9916575298938048</td><td>0.0</td><td>0.0</td><td>False</td><td>False</td><td>1.0438708975427533</td><td>0.0</td><td>False</td><td>nan</td><td>True</td><td>127</td><td>False</td><td>False</td><td>False</td></tr>\n",
       "<tr><td>33447624753283089</td><td>5.927459558625124</td><td>0.01988358439140777</td><td>0</td><td>False</td><td>False</td><td>False</td><td>False</td><td>2</td><td>False</td><td>nan</td><td>nan</td><td>nan</td><td>True</td><td>False</td><td>False</td><td>False</td><td>False</td><td>False</td><td>False</td><td>False</td><td>588.8778280155805</td><td>2.908213690012813</td><td>False</td><td>False</td><td>False</td><td>False</td><td>589.0</td><td>589.0</td><td>3.0</td><td>3.0</td><td>nan</td><td>nan</td><td>nan</td><td>nan</td><td>True</td><td>True</td><td>True</td><td>True</td><td>True</td><td>True</td><td>True</td><td>True</td><td>True</td><td>True</td><td>True</td><td>True</td><td>True</td><td>True</td><td>True</td><td>True</td><td>True</td><td>True</td><td>True</td><td>True</td><td>True</td><td>True</td><td>True</td><td>True</td><td>True</td><td>True</td><td>True</td><td>True</td><td>False</td><td>False</td><td>False</td><td>False</td><td>False</td><td>False</td><td>False</td><td>False</td><td>False</td><td>False</td><td>False</td><td>False</td><td>False</td><td>False</td><td>False</td><td>False</td><td>False</td><td>False</td><td>False</td><td>False</td><td>False</td><td>False</td><td>False</td><td>False</td><td>False</td><td>False</td><td>False</td><td>False</td><td>False</td><td>False</td><td>False</td><td>False</td><td>False</td><td>False</td><td>False</td><td>False</td><td>False</td><td>False</td><td>False</td><td>False</td><td>False</td><td>False</td><td>False</td><td>False</td><td>False</td><td>False</td><td>False</td><td>False</td><td>False</td><td>False</td><td>False</td><td>False</td><td>False</td><td>False</td><td>False</td><td>False</td><td>False</td><td>False</td><td>False</td><td>False</td><td>False</td><td>False</td><td>False</td><td>False</td><td>False</td><td>False</td><td>False</td><td>False</td><td>False</td><td>False</td><td>0.0</td><td>0.0</td><td>42677.906959469066</td><td>42677.906959469066</td><td>0.0</td><td>42677.88542366979</td><td>42677.88542366979</td><td>4.326369613450166</td><td>3.5946419848345856</td><td>-0.08701061165573401</td><td>4.326369613450166</td><td>3.5946419848345856</td><td>-0.08701061165573401</td><td>4.3263392430441465</td><td>3.5946406946075076</td><td>-0.0870067359123914</td><td>4.3263392430441465</td><td>3.5946406946075076</td><td>-0.0870067359123914</td><td>True</td><td>True</td><td>True</td><td>57.13619689304542</td><td>-127.31490576533074</td><td>False</td><td>False</td><td>0.9625570632697894</td><td>False</td><td>4.703811817857328</td><td>3.7595196224741496</td><td>0.030955509729452838</td><td>0.07312774</td><td>0.046229597</td><td>0.058447313</td><td>588.7308991109269</td><td>2.882084327286675</td><td>46291.74984997418</td><td>359.83697425421116</td><td>1.1420130661231713</td><td>1.1076194731354658</td><td>-0.11564287464419748</td><td>-13.157032</td><td>-0.08658564</td><td>-10.515752</td><td>False</td><td>False</td><td>False</td><td>False</td><td>False</td><td>False</td><td>0.002016057139393548</td><td>0.002016057139393548</td><td>-0.004233589192815721</td><td>-0.004233589192815721</td><td>1.1430586468061101</td><td>1.1430586468061101</td><td>1.1084523747717476</td><td>1.1084523747717476</td><td>-0.11585742634214094</td><td>-0.11585742634214094</td><td>True</td><td>True</td><td>False</td><td>False</td><td>False</td><td>False</td><td>False</td><td>False</td><td>nan</td><td>nan</td><td>nan</td><td>nan</td><td>True</td><td>False</td><td>False</td><td>True</td><td>False</td><td>588.4850676174059</td><td>588.4850676174059</td><td>2.7644748204729797</td><td>2.7644748204729797</td><td>4.2009591588366275</td><td>4.2009591588366275</td><td>3.5129227520580657</td><td>3.5129227520580657</td><td>-0.17564157569155353</td><td>-0.17564157569155353</td><td>True</td><td>True</td><td>True</td><td>False</td><td>False</td><td>False</td><td>False</td><td>False</td><td>False</td><td>False</td><td>False</td><td>False</td><td>588.4883216364551</td><td>588.4883216364551</td><td>2.7728429656928593</td><td>2.7728429656928593</td><td>3.947751886491066</td><td>3.947751886491066</td><td>3.6492128350319457</td><td>3.6492128350319457</td><td>-0.07375913305049832</td><td>-0.07375913305049832</td><td>True</td><td>True</td><td>False</td><td>False</td><td>False</td><td>False</td><td>False</td><td>False</td><td>44781.73</td><td>44781.73</td><td>29548.259765625</td><td>162.36448669433594</td><td>True</td><td>False</td><td>True</td><td>nan</td><td>nan</td><td>True</td><td>True</td><td>True</td><td>nan</td><td>nan</td><td>True</td><td>True</td><td>True</td><td>nan</td><td>nan</td><td>True</td><td>True</td><td>True</td><td>nan</td><td>nan</td><td>nan</td><td>nan</td><td>nan</td><td>nan</td><td>True</td><td>True</td><td>True</td><td>True</td><td>True</td><td>True</td><td>True</td><td>True</td><td>True</td><td>nan</td><td>nan</td><td>True</td><td>True</td><td>nan</td><td>nan</td><td>True</td><td>True</td><td>nan</td><td>nan</td><td>True</td><td>True</td><td>nan</td><td>nan</td><td>True</td><td>True</td><td>nan</td><td>nan</td><td>True</td><td>True</td><td>50750.279765377534</td><td>50750.279765377534</td><td>50750.279765377534</td><td>279.27687359214093</td><td>279.27687359214093</td><td>279.27687359214093</td><td>False</td><td>False</td><td>False</td><td>27.190625722767543</td><td>30.70859053915577</td><td>True</td><td>False</td><td>False</td><td>False</td><td>0.15099758602010033</td><td>0.0</td><td>False</td><td>-6.001421512586687e-09</td><td>-7.94081825692642e-07</td><td>-8.041758942950832e-07</td><td>-5.448540044577622e-09</td><td>False</td><td>False</td><td>True</td><td>False</td><td>False</td><td>False</td><td>False</td><td>False</td><td>False</td><td>False</td><td>False</td><td>False</td><td>23919.651481796842</td><td>23919.651481796842</td><td>144.49865196097022</td><td>144.49865196097022</td><td>18.64924</td><td>18.64924</td><td>True</td><td>True</td><td>False</td><td>False</td><td>True</td><td>True</td><td>False</td><td>743.9052124023438</td><td>False</td><td>nan</td><td>nan</td><td>nan</td><td>nan</td><td>nan</td><td>True</td><td>True</td><td>False</td><td>False</td><td>False</td><td>False</td><td>False</td><td>False</td><td>False</td><td>True</td><td>1.1489650248118795</td><td>1.1489650248118795</td><td>1.1489650248118795</td><td>0.0</td><td>0.0</td><td>0.0</td><td>False</td><td>False</td><td>False</td><td>0.9872171393898561</td><td>0.9872171393898561</td><td>0.0</td><td>0.0</td><td>False</td><td>False</td><td>1.0582363243578277</td><td>0.0</td><td>False</td><td>nan</td><td>True</td><td>362</td><td>False</td><td>False</td><td>False</td></tr>\n",
       "<tr><td>33447624753283090</td><td>5.927436634647459</td><td>0.018992947319788615</td><td>0</td><td>False</td><td>False</td><td>False</td><td>False</td><td>0</td><td>False</td><td>nan</td><td>nan</td><td>nan</td><td>False</td><td>False</td><td>False</td><td>False</td><td>False</td><td>False</td><td>False</td><td>False</td><td>1693.1339978790347</td><td>22.334110830011948</td><td>False</td><td>False</td><td>False</td><td>False</td><td>1693.0</td><td>1693.0</td><td>22.0</td><td>22.0</td><td>nan</td><td>nan</td><td>nan</td><td>nan</td><td>True</td><td>True</td><td>True</td><td>True</td><td>True</td><td>True</td><td>True</td><td>True</td><td>True</td><td>True</td><td>True</td><td>True</td><td>True</td><td>True</td><td>True</td><td>True</td><td>True</td><td>True</td><td>True</td><td>True</td><td>True</td><td>True</td><td>True</td><td>True</td><td>True</td><td>True</td><td>True</td><td>True</td><td>False</td><td>False</td><td>False</td><td>False</td><td>False</td><td>False</td><td>False</td><td>False</td><td>False</td><td>False</td><td>False</td><td>False</td><td>False</td><td>False</td><td>False</td><td>False</td><td>False</td><td>False</td><td>False</td><td>False</td><td>False</td><td>False</td><td>False</td><td>False</td><td>False</td><td>False</td><td>False</td><td>False</td><td>False</td><td>False</td><td>False</td><td>False</td><td>False</td><td>False</td><td>False</td><td>False</td><td>False</td><td>False</td><td>False</td><td>False</td><td>False</td><td>False</td><td>False</td><td>False</td><td>False</td><td>False</td><td>False</td><td>False</td><td>False</td><td>False</td><td>False</td><td>False</td><td>False</td><td>False</td><td>False</td><td>False</td><td>False</td><td>False</td><td>False</td><td>False</td><td>False</td><td>False</td><td>False</td><td>False</td><td>False</td><td>False</td><td>False</td><td>False</td><td>False</td><td>False</td><td>0.0</td><td>0.0</td><td>726.7415555628239</td><td>726.7415555628239</td><td>0.0</td><td>751.7536871063301</td><td>751.7536871063301</td><td>2.284797905044206</td><td>2.4450095802686627</td><td>-1.4677260638376557</td><td>2.284797905044206</td><td>2.4450095802686627</td><td>-1.4677260638376557</td><td>2.4636238452553747</td><td>2.996603274915087</td><td>-1.6015144254243936</td><td>2.4636238452553747</td><td>2.996603274915087</td><td>-1.6015144254243936</td><td>True</td><td>True</td><td>True</td><td>73.69615711211739</td><td>-127.02760358511956</td><td>False</td><td>False</td><td>0.95847070381322</td><td>False</td><td>2.7834726231318463</td><td>2.8447453170415247</td><td>-1.3143191090262112</td><td>1.3300921</td><td>1.0494138</td><td>1.3593715</td><td>1693.20333186951</td><td>22.10882892988209</td><td>914.7729710229326</td><td>218.56371676269248</td><td>1.1301012161551265</td><td>1.1048609529445546</td><td>-0.11713708748476158</td><td>-145.35493</td><td>68.63469</td><td>-148.55464</td><td>False</td><td>False</td><td>False</td><td>False</td><td>False</td><td>False</td><td>0.0007091328343030176</td><td>0.0007091328343030176</td><td>-0.002378449891161651</td><td>-0.002378449891161651</td><td>1.1311225445007802</td><td>1.1311225445007802</td><td>1.1056768252578406</td><td>1.1056768252578406</td><td>-0.11738619157656185</td><td>-0.11738619157656185</td><td>True</td><td>True</td><td>False</td><td>False</td><td>False</td><td>False</td><td>False</td><td>False</td><td>-0.08544371277093887</td><td>-1.1516956090927124</td><td>0.7661486268043518</td><td>0.44503170251846313</td><td>False</td><td>False</td><td>False</td><td>False</td><td>False</td><td>1693.288663235074</td><td>1693.288663235074</td><td>22.00284908741261</td><td>22.00284908741261</td><td>2.0547480319194826</td><td>2.0547480319194826</td><td>2.1684935147171838</td><td>2.1684935147171838</td><td>-1.3046632704648642</td><td>-1.3046632704648642</td><td>True</td><td>True</td><td>True</td><td>False</td><td>False</td><td>False</td><td>False</td><td>False</td><td>False</td><td>False</td><td>False</td><td>False</td><td>1693.2836408531703</td><td>1693.2836408531703</td><td>22.197400748672816</td><td>22.197400748672816</td><td>1.453656660148646</td><td>1.453656660148646</td><td>1.5137817112759042</td><td>1.5137817112759042</td><td>-0.08721592604212917</td><td>-0.08721592604212917</td><td>True</td><td>True</td><td>False</td><td>False</td><td>False</td><td>False</td><td>False</td><td>False</td><td>678.7092</td><td>678.7092</td><td>719.009765625</td><td>141.9167022705078</td><td>True</td><td>False</td><td>False</td><td>887.9796142578125</td><td>214.75262451171875</td><td>True</td><td>False</td><td>False</td><td>991.4586791992188</td><td>287.7528076171875</td><td>True</td><td>False</td><td>False</td><td>996.4826049804688</td><td>433.4218444824219</td><td>True</td><td>False</td><td>True</td><td>463.39849853515625</td><td>463.39849853515625</td><td>463.39849853515625</td><td>579.0621337890625</td><td>579.0621337890625</td><td>579.0621337890625</td><td>True</td><td>True</td><td>True</td><td>False</td><td>False</td><td>False</td><td>True</td><td>True</td><td>True</td><td>1347.205460369587</td><td>823.5577520560897</td><td>True</td><td>False</td><td>nan</td><td>nan</td><td>True</td><td>True</td><td>nan</td><td>nan</td><td>True</td><td>True</td><td>nan</td><td>nan</td><td>True</td><td>True</td><td>nan</td><td>nan</td><td>True</td><td>True</td><td>841.1845721781364</td><td>841.1845721781364</td><td>841.1845721781364</td><td>144.17965595487652</td><td>144.17965595487652</td><td>144.17965595487652</td><td>False</td><td>False</td><td>False</td><td>0.800570745051387</td><td>30.205408202745406</td><td>True</td><td>False</td><td>False</td><td>False</td><td>0.15099758602010033</td><td>0.0</td><td>False</td><td>-7.698002966487517e-09</td><td>-7.932445792935593e-07</td><td>-8.016354498646466e-07</td><td>-7.121637922930471e-09</td><td>False</td><td>False</td><td>False</td><td>False</td><td>False</td><td>False</td><td>False</td><td>False</td><td>False</td><td>False</td><td>False</td><td>False</td><td>662.7322001271452</td><td>662.7322001271452</td><td>117.96354228633483</td><td>117.96354228633483</td><td>18.624973</td><td>18.624973</td><td>True</td><td>True</td><td>False</td><td>False</td><td>False</td><td>False</td><td>False</td><td>753.70361328125</td><td>False</td><td>1040.022680624078</td><td>281.942990593585</td><td>2.2386243</td><td>6.339296</td><td>1.3211932</td><td>True</td><td>False</td><td>False</td><td>False</td><td>False</td><td>False</td><td>False</td><td>False</td><td>False</td><td>True</td><td>1.14236409349147</td><td>1.14236409349147</td><td>1.14236409349147</td><td>0.0</td><td>0.0</td><td>0.0</td><td>False</td><td>False</td><td>False</td><td>0.9901158500408167</td><td>0.9901158500408167</td><td>0.0</td><td>0.0</td><td>False</td><td>False</td><td>1.0516637069239194</td><td>0.0</td><td>False</td><td>nan</td><td>True</td><td>29</td><td>False</td><td>False</td><td>False</td></tr>\n",
       "<tr><td>33447624753283091</td><td>5.927429008128375</td><td>0.018791631183447524</td><td>0</td><td>False</td><td>False</td><td>False</td><td>False</td><td>2</td><td>False</td><td>nan</td><td>nan</td><td>nan</td><td>True</td><td>False</td><td>False</td><td>False</td><td>False</td><td>False</td><td>False</td><td>False</td><td>1943.059488704176</td><td>29.027182406716328</td><td>False</td><td>False</td><td>False</td><td>False</td><td>1943.0331303511218</td><td>1943.0331303511218</td><td>29.04206802770489</td><td>29.04206802770489</td><td>0.078944564</td><td>0.078944564</td><td>0.0848007</td><td>0.0848007</td><td>False</td><td>False</td><td>False</td><td>False</td><td>False</td><td>False</td><td>False</td><td>False</td><td>False</td><td>False</td><td>False</td><td>False</td><td>False</td><td>False</td><td>False</td><td>False</td><td>False</td><td>False</td><td>False</td><td>False</td><td>False</td><td>False</td><td>False</td><td>False</td><td>False</td><td>False</td><td>False</td><td>False</td><td>False</td><td>False</td><td>False</td><td>False</td><td>False</td><td>False</td><td>False</td><td>False</td><td>False</td><td>False</td><td>False</td><td>False</td><td>False</td><td>False</td><td>False</td><td>False</td><td>False</td><td>False</td><td>False</td><td>False</td><td>False</td><td>False</td><td>False</td><td>False</td><td>False</td><td>False</td><td>False</td><td>False</td><td>False</td><td>False</td><td>False</td><td>False</td><td>False</td><td>False</td><td>False</td><td>False</td><td>False</td><td>False</td><td>False</td><td>False</td><td>False</td><td>False</td><td>False</td><td>False</td><td>False</td><td>False</td><td>False</td><td>False</td><td>False</td><td>False</td><td>False</td><td>False</td><td>False</td><td>False</td><td>False</td><td>False</td><td>False</td><td>False</td><td>False</td><td>False</td><td>False</td><td>False</td><td>False</td><td>False</td><td>False</td><td>False</td><td>False</td><td>False</td><td>False</td><td>False</td><td>0.0</td><td>0.0</td><td>4614.490875006402</td><td>4614.490875006402</td><td>0.0</td><td>4611.791248265229</td><td>4611.791248265229</td><td>2.577760937471292</td><td>2.755205775127238</td><td>-0.5617320390732533</td><td>2.577760937471292</td><td>2.755205775127238</td><td>-0.5617320390732533</td><td>2.594777800943109</td><td>2.7384395690834347</td><td>-0.5584307852184167</td><td>2.594777800943109</td><td>2.7384395690834347</td><td>-0.5584307852184167</td><td>False</td><td>False</td><td>False</td><td>77.44663934624224</td><td>-126.92145116897343</td><td>False</td><td>False</td><td>0.9574108168639038</td><td>False</td><td>2.5890836006526294</td><td>2.7801858724232535</td><td>-0.5602000415843661</td><td>0.26193133</td><td>0.19606629</td><td>0.28126466</td><td>1943.0093581432502</td><td>29.065832772854954</td><td>4658.487170412904</td><td>235.64393205866287</td><td>1.1280554919957284</td><td>1.1071248195314998</td><td>-0.1142054097403406</td><td>-30.861265</td><td>6.677452</td><td>-33.139156</td><td>False</td><td>False</td><td>False</td><td>False</td><td>False</td><td>False</td><td>0.00017955233016965665</td><td>0.00017955233016965665</td><td>-0.001659669529311149</td><td>-0.001659669529311149</td><td>1.1290853172857291</td><td>1.1290853172857291</td><td>1.1079997667524117</td><td>1.1079997667524117</td><td>-0.11447118302891023</td><td>-0.11447118302891023</td><td>False</td><td>False</td><td>False</td><td>False</td><td>False</td><td>False</td><td>False</td><td>False</td><td>nan</td><td>nan</td><td>nan</td><td>nan</td><td>True</td><td>False</td><td>False</td><td>True</td><td>False</td><td>1942.984816175603</td><td>1942.984816175603</td><td>29.090757358224764</td><td>29.090757358224764</td><td>2.6120065413905365</td><td>2.6120065413905365</td><td>2.817612443514704</td><td>2.817612443514704</td><td>-0.5710545721689475</td><td>-0.5710545721689475</td><td>False</td><td>False</td><td>False</td><td>False</td><td>False</td><td>False</td><td>False</td><td>False</td><td>False</td><td>False</td><td>False</td><td>False</td><td>1942.9880117763794</td><td>1942.9880117763794</td><td>29.07897072459969</td><td>29.07897072459969</td><td>2.5885389182925715</td><td>2.5885389182925715</td><td>2.6701236077859574</td><td>2.6701236077859574</td><td>-0.19483829229058278</td><td>-0.19483829229058278</td><td>False</td><td>False</td><td>False</td><td>False</td><td>False</td><td>False</td><td>False</td><td>False</td><td>4639.7183</td><td>4639.7183</td><td>3647.829833984375</td><td>145.13473510742188</td><td>False</td><td>False</td><td>False</td><td>4788.28955078125</td><td>217.41415405273438</td><td>False</td><td>False</td><td>False</td><td>5699.57958984375</td><td>290.3968505859375</td><td>False</td><td>False</td><td>False</td><td>6759.20556640625</td><td>436.0478515625</td><td>False</td><td>False</td><td>True</td><td>8180.62109375</td><td>8180.62109375</td><td>8180.62109375</td><td>581.9479370117188</td><td>581.9479370117188</td><td>581.9479370117188</td><td>False</td><td>False</td><td>False</td><td>False</td><td>False</td><td>False</td><td>True</td><td>True</td><td>True</td><td>10206.756401836872</td><td>826.1395738735795</td><td>False</td><td>False</td><td>13755.217533916235</td><td>1216.2338599142654</td><td>False</td><td>False</td><td>nan</td><td>nan</td><td>True</td><td>True</td><td>nan</td><td>nan</td><td>True</td><td>True</td><td>nan</td><td>nan</td><td>True</td><td>True</td><td>5308.72023172137</td><td>5308.72023172137</td><td>5308.72023172137</td><td>189.87898074948384</td><td>189.87898074948384</td><td>189.87898074948384</td><td>False</td><td>False</td><td>False</td><td>5.344755044991264</td><td>29.306855924737118</td><td>False</td><td>False</td><td>False</td><td>False</td><td>0.15099758602010033</td><td>0.0</td><td>False</td><td>-8.07998910750176e-09</td><td>-7.930344258548247e-07</td><td>-8.009686826603711e-07</td><td>-7.501319881841418e-09</td><td>False</td><td>False</td><td>False</td><td>False</td><td>False</td><td>False</td><td>False</td><td>False</td><td>False</td><td>False</td><td>False</td><td>False</td><td>3353.6343504455795</td><td>3353.6343504455795</td><td>121.44700182607464</td><td>121.44700182607464</td><td>18.340698</td><td>18.340698</td><td>False</td><td>False</td><td>False</td><td>False</td><td>False</td><td>False</td><td>False</td><td>757.7264404296875</td><td>False</td><td>7026.233891480549</td><td>435.91550995517144</td><td>3.4461467</td><td>9.771122</td><td>1.3214532</td><td>False</td><td>False</td><td>False</td><td>False</td><td>False</td><td>False</td><td>False</td><td>False</td><td>False</td><td>False</td><td>1.1334635576941645</td><td>1.1334635576941645</td><td>1.1334635576941645</td><td>0.0</td><td>0.0</td><td>0.0</td><td>False</td><td>False</td><td>False</td><td>0.9916318715172134</td><td>0.9916318715172134</td><td>0.0</td><td>0.0</td><td>False</td><td>False</td><td>1.0445780514055514</td><td>0.0</td><td>False</td><td>1.0</td><td>False</td><td>214</td><td>False</td><td>False</td><td>False</td></tr>\n",
       "<tr><td>...</td><td>...</td><td>...</td><td>...</td><td>...</td><td>...</td><td>...</td><td>...</td><td>...</td><td>...</td><td>...</td><td>...</td><td>...</td><td>...</td><td>...</td><td>...</td><td>...</td><td>...</td><td>...</td><td>...</td><td>...</td><td>...</td><td>...</td><td>...</td><td>...</td><td>...</td><td>...</td><td>...</td><td>...</td><td>...</td><td>...</td><td>...</td><td>...</td><td>...</td><td>...</td><td>...</td><td>...</td><td>...</td><td>...</td><td>...</td><td>...</td><td>...</td><td>...</td><td>...</td><td>...</td><td>...</td><td>...</td><td>...</td><td>...</td><td>...</td><td>...</td><td>...</td><td>...</td><td>...</td><td>...</td><td>...</td><td>...</td><td>...</td><td>...</td><td>...</td><td>...</td><td>...</td><td>...</td><td>...</td><td>...</td><td>...</td><td>...</td><td>...</td><td>...</td><td>...</td><td>...</td><td>...</td><td>...</td><td>...</td><td>...</td><td>...</td><td>...</td><td>...</td><td>...</td><td>...</td><td>...</td><td>...</td><td>...</td><td>...</td><td>...</td><td>...</td><td>...</td><td>...</td><td>...</td><td>...</td><td>...</td><td>...</td><td>...</td><td>...</td><td>...</td><td>...</td><td>...</td><td>...</td><td>...</td><td>...</td><td>...</td><td>...</td><td>...</td><td>...</td><td>...</td><td>...</td><td>...</td><td>...</td><td>...</td><td>...</td><td>...</td><td>...</td><td>...</td><td>...</td><td>...</td><td>...</td><td>...</td><td>...</td><td>...</td><td>...</td><td>...</td><td>...</td><td>...</td><td>...</td><td>...</td><td>...</td><td>...</td><td>...</td><td>...</td><td>...</td><td>...</td><td>...</td><td>...</td><td>...</td><td>...</td><td>...</td><td>...</td><td>...</td><td>...</td><td>...</td><td>...</td><td>...</td><td>...</td><td>...</td><td>...</td><td>...</td><td>...</td><td>...</td><td>...</td><td>...</td><td>...</td><td>...</td><td>...</td><td>...</td><td>...</td><td>...</td><td>...</td><td>...</td><td>...</td><td>...</td><td>...</td><td>...</td><td>...</td><td>...</td><td>...</td><td>...</td><td>...</td><td>...</td><td>...</td><td>...</td><td>...</td><td>...</td><td>...</td><td>...</td><td>...</td><td>...</td><td>...</td><td>...</td><td>...</td><td>...</td><td>...</td><td>...</td><td>...</td><td>...</td><td>...</td><td>...</td><td>...</td><td>...</td><td>...</td><td>...</td><td>...</td><td>...</td><td>...</td><td>...</td><td>...</td><td>...</td><td>...</td><td>...</td><td>...</td><td>...</td><td>...</td><td>...</td><td>...</td><td>...</td><td>...</td><td>...</td><td>...</td><td>...</td><td>...</td><td>...</td><td>...</td><td>...</td><td>...</td><td>...</td><td>...</td><td>...</td><td>...</td><td>...</td><td>...</td><td>...</td><td>...</td><td>...</td><td>...</td><td>...</td><td>...</td><td>...</td><td>...</td><td>...</td><td>...</td><td>...</td><td>...</td><td>...</td><td>...</td><td>...</td><td>...</td><td>...</td><td>...</td><td>...</td><td>...</td><td>...</td><td>...</td><td>...</td><td>...</td><td>...</td><td>...</td><td>...</td><td>...</td><td>...</td><td>...</td><td>...</td><td>...</td><td>...</td><td>...</td><td>...</td><td>...</td><td>...</td><td>...</td><td>...</td><td>...</td><td>...</td><td>...</td><td>...</td><td>...</td><td>...</td><td>...</td><td>...</td><td>...</td><td>...</td><td>...</td><td>...</td><td>...</td><td>...</td><td>...</td><td>...</td><td>...</td><td>...</td><td>...</td><td>...</td><td>...</td><td>...</td><td>...</td><td>...</td><td>...</td><td>...</td><td>...</td><td>...</td><td>...</td><td>...</td><td>...</td><td>...</td><td>...</td><td>...</td><td>...</td><td>...</td><td>...</td><td>...</td><td>...</td><td>...</td><td>...</td><td>...</td><td>...</td><td>...</td><td>...</td><td>...</td><td>...</td><td>...</td><td>...</td><td>...</td><td>...</td><td>...</td><td>...</td><td>...</td><td>...</td><td>...</td><td>...</td><td>...</td><td>...</td><td>...</td><td>...</td><td>...</td><td>...</td><td>...</td><td>...</td><td>...</td><td>...</td><td>...</td><td>...</td><td>...</td><td>...</td><td>...</td><td>...</td><td>...</td><td>...</td><td>...</td><td>...</td><td>...</td><td>...</td><td>...</td><td>...</td><td>...</td><td>...</td><td>...</td><td>...</td><td>...</td><td>...</td><td>...</td><td>...</td><td>...</td><td>...</td><td>...</td><td>...</td><td>...</td><td>...</td><td>...</td><td>...</td><td>...</td><td>...</td><td>...</td><td>...</td><td>...</td><td>...</td><td>...</td><td>...</td><td>...</td><td>...</td><td>...</td><td>...</td><td>...</td><td>...</td><td>...</td><td>...</td><td>...</td><td>...</td><td>...</td><td>...</td><td>...</td><td>...</td><td>...</td><td>...</td><td>...</td><td>...</td><td>...</td><td>...</td><td>...</td><td>...</td><td>...</td><td>...</td><td>...</td><td>...</td><td>...</td><td>...</td><td>...</td><td>...</td><td>...</td><td>...</td></tr>\n",
       "<tr><td>33447624753286194</td><td>5.924126308895389</td><td>0.020194880465098913</td><td>33447624753285130</td><td>False</td><td>False</td><td>False</td><td>False</td><td>0</td><td>True</td><td>186.0</td><td>4142.0</td><td>721.4215720331155</td><td>False</td><td>False</td><td>False</td><td>False</td><td>False</td><td>False</td><td>False</td><td>False</td><td>185.25009209254372</td><td>4141.335230177001</td><td>False</td><td>False</td><td>False</td><td>False</td><td>185.79679619800726</td><td>185.79679619800726</td><td>4141.624184684946</td><td>4141.624184684946</td><td>0.2112592</td><td>0.2112592</td><td>0.22768858</td><td>0.22768858</td><td>False</td><td>False</td><td>False</td><td>False</td><td>False</td><td>False</td><td>False</td><td>False</td><td>False</td><td>False</td><td>False</td><td>False</td><td>False</td><td>False</td><td>False</td><td>False</td><td>False</td><td>False</td><td>False</td><td>False</td><td>False</td><td>False</td><td>False</td><td>False</td><td>False</td><td>False</td><td>False</td><td>False</td><td>False</td><td>False</td><td>False</td><td>False</td><td>False</td><td>False</td><td>False</td><td>False</td><td>False</td><td>False</td><td>False</td><td>False</td><td>False</td><td>False</td><td>False</td><td>False</td><td>False</td><td>False</td><td>False</td><td>False</td><td>False</td><td>False</td><td>False</td><td>False</td><td>False</td><td>False</td><td>False</td><td>False</td><td>False</td><td>False</td><td>False</td><td>False</td><td>False</td><td>False</td><td>False</td><td>False</td><td>False</td><td>False</td><td>False</td><td>False</td><td>False</td><td>False</td><td>False</td><td>False</td><td>False</td><td>False</td><td>False</td><td>False</td><td>False</td><td>False</td><td>False</td><td>False</td><td>False</td><td>False</td><td>False</td><td>False</td><td>False</td><td>False</td><td>False</td><td>False</td><td>False</td><td>False</td><td>False</td><td>False</td><td>False</td><td>False</td><td>False</td><td>False</td><td>False</td><td>False</td><td>0.10834770417413513</td><td>nan</td><td>nan</td><td>nan</td><td>nan</td><td>nan</td><td>nan</td><td>nan</td><td>nan</td><td>nan</td><td>nan</td><td>nan</td><td>nan</td><td>nan</td><td>nan</td><td>nan</td><td>nan</td><td>nan</td><td>nan</td><td>True</td><td>False</td><td>True</td><td>51.0795185773428</td><td>-65.23638439889075</td><td>False</td><td>False</td><td>0.9867112013083957</td><td>False</td><td>4.2220287465953374</td><td>7.8023084631229835</td><td>-1.0461835390820522</td><td>0.87631595</td><td>0.8562375</td><td>1.6194317</td><td>185.64367979708177</td><td>4142.023565566567</td><td>3037.884666446248</td><td>315.2686793745918</td><td>1.0729040111975807</td><td>1.1352987023397896</td><td>-0.05213052343996539</td><td>-138.13748</td><td>34.229317</td><td>-255.27805</td><td>False</td><td>False</td><td>False</td><td>False</td><td>False</td><td>False</td><td>-0.0007626581001335551</td><td>-0.0007626581001335551</td><td>0.00044728490285487864</td><td>0.00044728490285487864</td><td>1.0735908670436562</td><td>1.0735908670436562</td><td>1.1362487973850486</td><td>1.1362487973850486</td><td>-0.05227038851109535</td><td>-0.05227038851109535</td><td>False</td><td>False</td><td>False</td><td>False</td><td>False</td><td>False</td><td>False</td><td>False</td><td>nan</td><td>nan</td><td>nan</td><td>nan</td><td>True</td><td>False</td><td>False</td><td>False</td><td>True</td><td>nan</td><td>nan</td><td>nan</td><td>nan</td><td>nan</td><td>nan</td><td>nan</td><td>nan</td><td>nan</td><td>nan</td><td>True</td><td>True</td><td>True</td><td>False</td><td>False</td><td>False</td><td>False</td><td>False</td><td>False</td><td>False</td><td>False</td><td>False</td><td>nan</td><td>nan</td><td>nan</td><td>nan</td><td>nan</td><td>nan</td><td>nan</td><td>nan</td><td>nan</td><td>nan</td><td>True</td><td>True</td><td>False</td><td>False</td><td>False</td><td>False</td><td>False</td><td>False</td><td>nan</td><td>nan</td><td>1612.684326171875</td><td>136.17237854003906</td><td>False</td><td>False</td><td>False</td><td>2350.547119140625</td><td>203.72738647460938</td><td>False</td><td>False</td><td>False</td><td>3005.6826171875</td><td>272.9057922363281</td><td>False</td><td>False</td><td>False</td><td>3507.8369140625</td><td>411.0301513671875</td><td>False</td><td>False</td><td>False</td><td>4539.6591796875</td><td>4539.6591796875</td><td>4539.6591796875</td><td>549.0938720703125</td><td>549.0938720703125</td><td>549.0938720703125</td><td>False</td><td>False</td><td>False</td><td>False</td><td>False</td><td>False</td><td>False</td><td>False</td><td>False</td><td>2842.2234289180487</td><td>879.8986159096883</td><td>False</td><td>False</td><td>-10947.609756927937</td><td>1506.255081277088</td><td>False</td><td>False</td><td>nan</td><td>nan</td><td>True</td><td>True</td><td>nan</td><td>nan</td><td>True</td><td>True</td><td>nan</td><td>nan</td><td>True</td><td>True</td><td>nan</td><td>nan</td><td>nan</td><td>nan</td><td>nan</td><td>nan</td><td>True</td><td>True</td><td>True</td><td>1.4997684684845</td><td>26.223053226853406</td><td>False</td><td>False</td><td>False</td><td>False</td><td>0.15099758602010033</td><td>0.0</td><td>False</td><td>-2.7617458011999068e-09</td><td>-8.084887597164053e-07</td><td>-8.096338880035357e-07</td><td>-2.425779663837272e-09</td><td>False</td><td>False</td><td>False</td><td>True</td><td>True</td><td>False</td><td>False</td><td>True</td><td>True</td><td>True</td><td>False</td><td>False</td><td>1364.247021288848</td><td>1364.247021288848</td><td>109.69065299444715</td><td>109.69065299444715</td><td>17.722824</td><td>17.722824</td><td>False</td><td>False</td><td>False</td><td>False</td><td>False</td><td>False</td><td>True</td><td>nan</td><td>True</td><td>3477.1306935272255</td><td>357.69099139563457</td><td>3.0106604</td><td>6.339296</td><td>1.3159398</td><td>True</td><td>False</td><td>False</td><td>False</td><td>False</td><td>False</td><td>False</td><td>False</td><td>False</td><td>True</td><td>1.1210320256750848</td><td>1.1210320256750848</td><td>1.1210320256750848</td><td>0.0</td><td>0.0</td><td>0.0</td><td>False</td><td>False</td><td>False</td><td>0.9883381973983127</td><td>0.9883381973983127</td><td>0.0</td><td>0.0</td><td>False</td><td>False</td><td>1.0422679880538954</td><td>0.0</td><td>False</td><td>nan</td><td>True</td><td>375</td><td>False</td><td>False</td><td>False</td></tr>\n",
       "<tr><td>33447624753286195</td><td>5.924154591501439</td><td>0.020201129058987497</td><td>33447624753285130</td><td>False</td><td>False</td><td>False</td><td>False</td><td>0</td><td>True</td><td>178.0</td><td>4107.0</td><td>747.8181496269605</td><td>False</td><td>False</td><td>False</td><td>False</td><td>False</td><td>False</td><td>False</td><td>False</td><td>177.97934798677346</td><td>4106.384087637005</td><td>False</td><td>False</td><td>False</td><td>False</td><td>178.21910783969392</td><td>178.21910783969392</td><td>4106.8397440749295</td><td>4106.8397440749295</td><td>0.2986288</td><td>0.2986288</td><td>0.23624428</td><td>0.23624428</td><td>False</td><td>False</td><td>False</td><td>False</td><td>False</td><td>False</td><td>False</td><td>False</td><td>False</td><td>False</td><td>False</td><td>False</td><td>False</td><td>False</td><td>False</td><td>False</td><td>False</td><td>False</td><td>False</td><td>False</td><td>False</td><td>False</td><td>False</td><td>False</td><td>False</td><td>False</td><td>False</td><td>False</td><td>False</td><td>False</td><td>False</td><td>False</td><td>False</td><td>False</td><td>False</td><td>False</td><td>False</td><td>False</td><td>False</td><td>False</td><td>False</td><td>False</td><td>False</td><td>False</td><td>False</td><td>False</td><td>False</td><td>False</td><td>False</td><td>False</td><td>False</td><td>False</td><td>False</td><td>False</td><td>False</td><td>False</td><td>False</td><td>False</td><td>False</td><td>False</td><td>False</td><td>False</td><td>False</td><td>False</td><td>False</td><td>False</td><td>False</td><td>False</td><td>False</td><td>False</td><td>False</td><td>False</td><td>False</td><td>False</td><td>False</td><td>False</td><td>False</td><td>False</td><td>False</td><td>False</td><td>False</td><td>False</td><td>False</td><td>False</td><td>False</td><td>False</td><td>False</td><td>False</td><td>False</td><td>False</td><td>False</td><td>False</td><td>False</td><td>False</td><td>False</td><td>False</td><td>False</td><td>False</td><td>0.5604661754716095</td><td>nan</td><td>nan</td><td>nan</td><td>nan</td><td>nan</td><td>nan</td><td>nan</td><td>nan</td><td>nan</td><td>nan</td><td>nan</td><td>nan</td><td>nan</td><td>nan</td><td>nan</td><td>nan</td><td>nan</td><td>nan</td><td>True</td><td>False</td><td>True</td><td>50.96592578943119</td><td>-65.75816680483325</td><td>False</td><td>False</td><td>0.9866035493376389</td><td>False</td><td>5.241035418542269</td><td>2.7636482588127236</td><td>-0.5780417520847556</td><td>1.5087764</td><td>0.78360116</td><td>0.7955923</td><td>178.4869573721201</td><td>4106.81578035688</td><td>1786.7653008630148</td><td>257.1848169666119</td><td>1.0734123688846384</td><td>1.1362459954390591</td><td>-0.051898990240313185</td><td>-194.01721</td><td>21.398449</td><td>-102.30714</td><td>False</td><td>False</td><td>False</td><td>False</td><td>False</td><td>False</td><td>-0.0007527903290084698</td><td>-0.0007527903290084698</td><td>0.0004542560918928979</td><td>0.0004542560918928979</td><td>1.0740835417973162</td><td>1.0740835417973162</td><td>1.1372231288240184</td><td>1.1372231288240184</td><td>-0.05201921334569401</td><td>-0.05201921334569401</td><td>False</td><td>False</td><td>False</td><td>False</td><td>False</td><td>False</td><td>False</td><td>False</td><td>nan</td><td>nan</td><td>nan</td><td>nan</td><td>True</td><td>False</td><td>False</td><td>False</td><td>True</td><td>nan</td><td>nan</td><td>nan</td><td>nan</td><td>nan</td><td>nan</td><td>nan</td><td>nan</td><td>nan</td><td>nan</td><td>True</td><td>True</td><td>True</td><td>False</td><td>False</td><td>False</td><td>False</td><td>False</td><td>False</td><td>False</td><td>False</td><td>False</td><td>176.52131008877757</td><td>176.52131008877757</td><td>4106.959886054653</td><td>4106.959886054653</td><td>1.199122086344277</td><td>1.199122086344277</td><td>1.573748776749723</td><td>1.573748776749723</td><td>-0.18017232779225817</td><td>-0.18017232779225817</td><td>False</td><td>False</td><td>False</td><td>False</td><td>False</td><td>False</td><td>False</td><td>False</td><td>445.4139</td><td>445.4139</td><td>1171.3038330078125</td><td>136.14756774902344</td><td>False</td><td>False</td><td>False</td><td>1722.7677001953125</td><td>204.122802734375</td><td>False</td><td>False</td><td>False</td><td>1765.081787109375</td><td>273.0628662109375</td><td>False</td><td>False</td><td>False</td><td>2163.734619140625</td><td>411.3408203125</td><td>False</td><td>False</td><td>False</td><td>2865.711669921875</td><td>2865.711669921875</td><td>2865.711669921875</td><td>549.5728149414062</td><td>549.5728149414062</td><td>549.5728149414062</td><td>False</td><td>False</td><td>False</td><td>False</td><td>False</td><td>False</td><td>False</td><td>False</td><td>False</td><td>5537.852591861418</td><td>784.0857502500075</td><td>False</td><td>False</td><td>4219.463197667996</td><td>1152.3278578882964</td><td>False</td><td>False</td><td>712.461132247845</td><td>1611.5920320815228</td><td>False</td><td>False</td><td>-17166.359420697292</td><td>2326.4697617173233</td><td>False</td><td>False</td><td>nan</td><td>nan</td><td>True</td><td>True</td><td>nan</td><td>nan</td><td>nan</td><td>nan</td><td>nan</td><td>nan</td><td>True</td><td>True</td><td>True</td><td>0.8881520168022192</td><td>23.137216719280556</td><td>False</td><td>False</td><td>False</td><td>False</td><td>0.15099758602010033</td><td>0.0</td><td>False</td><td>-2.777095430035284e-09</td><td>-8.084139378969627e-07</td><td>-8.096205700208536e-07</td><td>-2.44011999055943e-09</td><td>False</td><td>False</td><td>False</td><td>True</td><td>True</td><td>False</td><td>False</td><td>True</td><td>True</td><td>True</td><td>False</td><td>False</td><td>989.7361150887967</td><td>989.7361150887967</td><td>109.5792641310804</td><td>109.5792641310804</td><td>17.733</td><td>17.733</td><td>False</td><td>False</td><td>False</td><td>False</td><td>False</td><td>False</td><td>True</td><td>nan</td><td>True</td><td>1836.5056391951887</td><td>294.3039106414237</td><td>2.4803834</td><td>6.339296</td><td>1.3163775</td><td>True</td><td>False</td><td>False</td><td>False</td><td>False</td><td>False</td><td>False</td><td>False</td><td>False</td><td>True</td><td>1.1214005178004414</td><td>1.1214005178004414</td><td>1.1214005178004414</td><td>0.0</td><td>0.0</td><td>0.0</td><td>False</td><td>False</td><td>False</td><td>0.9887255956838978</td><td>0.9887255956838978</td><td>0.0</td><td>0.0</td><td>False</td><td>False</td><td>1.0426734718149413</td><td>0.0</td><td>False</td><td>nan</td><td>True</td><td>424</td><td>False</td><td>False</td><td>False</td></tr>\n",
       "<tr><td>33447624753286196</td><td>5.924147867205433</td><td>0.020201055880493615</td><td>33447624753285130</td><td>False</td><td>False</td><td>False</td><td>False</td><td>0</td><td>True</td><td>178.0</td><td>4115.0</td><td>907.9611131558165</td><td>False</td><td>False</td><td>False</td><td>False</td><td>False</td><td>False</td><td>False</td><td>False</td><td>178.03132960323927</td><td>4115.040401106148</td><td>False</td><td>False</td><td>False</td><td>False</td><td>178.28442426467416</td><td>178.28442426467416</td><td>4115.115879779904</td><td>4115.115879779904</td><td>0.24455537</td><td>0.24455537</td><td>0.17421928</td><td>0.17421928</td><td>False</td><td>False</td><td>False</td><td>False</td><td>False</td><td>False</td><td>False</td><td>False</td><td>False</td><td>False</td><td>False</td><td>False</td><td>False</td><td>False</td><td>False</td><td>False</td><td>False</td><td>False</td><td>False</td><td>False</td><td>False</td><td>False</td><td>False</td><td>False</td><td>False</td><td>False</td><td>False</td><td>False</td><td>False</td><td>False</td><td>False</td><td>False</td><td>False</td><td>False</td><td>False</td><td>False</td><td>False</td><td>False</td><td>False</td><td>False</td><td>False</td><td>False</td><td>False</td><td>False</td><td>False</td><td>False</td><td>False</td><td>False</td><td>False</td><td>False</td><td>False</td><td>False</td><td>False</td><td>False</td><td>False</td><td>False</td><td>False</td><td>False</td><td>False</td><td>False</td><td>False</td><td>False</td><td>False</td><td>False</td><td>False</td><td>False</td><td>False</td><td>False</td><td>False</td><td>False</td><td>False</td><td>False</td><td>False</td><td>False</td><td>False</td><td>False</td><td>False</td><td>False</td><td>False</td><td>False</td><td>False</td><td>False</td><td>False</td><td>False</td><td>False</td><td>False</td><td>False</td><td>False</td><td>False</td><td>False</td><td>False</td><td>False</td><td>False</td><td>False</td><td>False</td><td>False</td><td>False</td><td>False</td><td>0.4143811635858517</td><td>nan</td><td>nan</td><td>nan</td><td>nan</td><td>nan</td><td>nan</td><td>nan</td><td>nan</td><td>nan</td><td>nan</td><td>nan</td><td>nan</td><td>nan</td><td>nan</td><td>nan</td><td>nan</td><td>nan</td><td>nan</td><td>True</td><td>False</td><td>True</td><td>50.96688827748245</td><td>-65.63402463425322</td><td>False</td><td>False</td><td>0.986634276618889</td><td>False</td><td>1.6024059865115825</td><td>0.3849083725645748</td><td>0.08091800967177391</td><td>0.033657454</td><td>0.011726051</td><td>0.0080847405</td><td>178.28149907773766</td><td>4115.083688566907</td><td>11229.506220653659</td><td>117.93410306082603</td><td>1.0732402570084323</td><td>1.136138173162735</td><td>-0.05186988099213113</td><td>-1.9846809</td><td>-0.10022205</td><td>-0.4767333</td><td>False</td><td>False</td><td>False</td><td>False</td><td>False</td><td>False</td><td>-0.0007568624607415664</td><td>-0.0007568624607415664</td><td>0.00045752972086299655</td><td>0.00045752972086299655</td><td>1.073917641998856</td><td>1.073917641998856</td><td>1.1370979211102048</td><td>1.1370979211102048</td><td>-0.05200187586988773</td><td>-0.05200187586988773</td><td>False</td><td>False</td><td>False</td><td>False</td><td>False</td><td>False</td><td>False</td><td>False</td><td>nan</td><td>nan</td><td>nan</td><td>nan</td><td>True</td><td>False</td><td>False</td><td>False</td><td>True</td><td>nan</td><td>nan</td><td>nan</td><td>nan</td><td>nan</td><td>nan</td><td>nan</td><td>nan</td><td>nan</td><td>nan</td><td>True</td><td>True</td><td>True</td><td>False</td><td>False</td><td>False</td><td>False</td><td>False</td><td>False</td><td>False</td><td>False</td><td>False</td><td>176.0476466914729</td><td>176.0476466914729</td><td>4114.4998788825815</td><td>4114.4998788825815</td><td>2.52020127281936</td><td>2.52020127281936</td><td>3.7021097055756806</td><td>3.7021097055756806</td><td>0.6620499818590914</td><td>0.6620499818590914</td><td>False</td><td>False</td><td>False</td><td>False</td><td>False</td><td>False</td><td>False</td><td>False</td><td>562.64374</td><td>562.64374</td><td>976.427490234375</td><td>135.7665557861328</td><td>False</td><td>False</td><td>False</td><td>1415.2711181640625</td><td>203.6113739013672</td><td>False</td><td>False</td><td>False</td><td>1534.684326171875</td><td>272.88262939453125</td><td>False</td><td>False</td><td>False</td><td>2149.631591796875</td><td>411.58306884765625</td><td>False</td><td>False</td><td>False</td><td>2509.054931640625</td><td>2509.054931640625</td><td>2509.054931640625</td><td>549.704833984375</td><td>549.704833984375</td><td>549.704833984375</td><td>False</td><td>False</td><td>False</td><td>False</td><td>False</td><td>False</td><td>False</td><td>False</td><td>False</td><td>2526.7090237678494</td><td>783.9427818127099</td><td>False</td><td>False</td><td>2271.953441462014</td><td>1151.3056737172349</td><td>False</td><td>False</td><td>-2457.1030950336717</td><td>1611.254477388895</td><td>False</td><td>False</td><td>-38874.190144517925</td><td>2539.4553638372686</td><td>False</td><td>False</td><td>nan</td><td>nan</td><td>True</td><td>True</td><td>nan</td><td>nan</td><td>nan</td><td>nan</td><td>nan</td><td>nan</td><td>True</td><td>True</td><td>True</td><td>-0.785857471009775</td><td>20.7434040220548</td><td>False</td><td>False</td><td>False</td><td>False</td><td>0.15099758602010033</td><td>0.0</td><td>False</td><td>-2.7720844194578084e-09</td><td>-8.084328376977473e-07</td><td>-8.096268239966026e-07</td><td>-2.435383207157038e-09</td><td>False</td><td>False</td><td>False</td><td>True</td><td>True</td><td>False</td><td>False</td><td>True</td><td>True</td><td>True</td><td>False</td><td>False</td><td>982.6348780051936</td><td>982.6348780051936</td><td>109.60482847994592</td><td>109.60482847994592</td><td>17.733812</td><td>17.733812</td><td>False</td><td>False</td><td>False</td><td>False</td><td>False</td><td>False</td><td>True</td><td>nan</td><td>True</td><td>1602.9455456872377</td><td>283.4218358516364</td><td>2.3910365</td><td>6.339296</td><td>1.3162913</td><td>True</td><td>False</td><td>False</td><td>False</td><td>False</td><td>False</td><td>False</td><td>False</td><td>False</td><td>True</td><td>1.1212108403776395</td><td>1.1212108403776395</td><td>1.1212108403776395</td><td>0.0</td><td>0.0</td><td>0.0</td><td>False</td><td>False</td><td>False</td><td>0.9886528627332403</td><td>0.9886528627332403</td><td>0.0</td><td>0.0</td><td>False</td><td>False</td><td>1.0425018964602628</td><td>0.0</td><td>False</td><td>nan</td><td>True</td><td>538</td><td>False</td><td>False</td><td>False</td></tr>\n",
       "<tr><td>33447624753286197</td><td>5.924149682664188</td><td>0.020195038394853673</td><td>33447624753285130</td><td>False</td><td>False</td><td>False</td><td>False</td><td>0</td><td>True</td><td>186.0</td><td>4113.0</td><td>884.5750965418672</td><td>False</td><td>False</td><td>False</td><td>False</td><td>False</td><td>False</td><td>False</td><td>False</td><td>185.15495174339227</td><td>4112.566576079581</td><td>False</td><td>False</td><td>False</td><td>False</td><td>185.68816450799787</td><td>185.68816450799787</td><td>4112.857118200411</td><td>4112.857118200411</td><td>0.22743313</td><td>0.22743313</td><td>0.16834566</td><td>0.16834566</td><td>False</td><td>False</td><td>False</td><td>False</td><td>False</td><td>False</td><td>False</td><td>False</td><td>False</td><td>False</td><td>False</td><td>False</td><td>False</td><td>False</td><td>False</td><td>False</td><td>False</td><td>False</td><td>False</td><td>False</td><td>False</td><td>False</td><td>False</td><td>False</td><td>False</td><td>False</td><td>False</td><td>False</td><td>False</td><td>False</td><td>False</td><td>False</td><td>False</td><td>False</td><td>False</td><td>False</td><td>False</td><td>False</td><td>False</td><td>False</td><td>False</td><td>False</td><td>False</td><td>False</td><td>False</td><td>False</td><td>False</td><td>False</td><td>False</td><td>False</td><td>False</td><td>False</td><td>False</td><td>False</td><td>False</td><td>False</td><td>False</td><td>False</td><td>False</td><td>False</td><td>False</td><td>False</td><td>False</td><td>False</td><td>False</td><td>False</td><td>False</td><td>False</td><td>False</td><td>False</td><td>False</td><td>False</td><td>False</td><td>False</td><td>False</td><td>False</td><td>False</td><td>False</td><td>False</td><td>False</td><td>False</td><td>False</td><td>False</td><td>False</td><td>False</td><td>False</td><td>False</td><td>False</td><td>False</td><td>False</td><td>False</td><td>False</td><td>False</td><td>False</td><td>False</td><td>False</td><td>False</td><td>False</td><td>0.50059115531125</td><td>nan</td><td>nan</td><td>nan</td><td>nan</td><td>nan</td><td>nan</td><td>nan</td><td>nan</td><td>nan</td><td>nan</td><td>nan</td><td>nan</td><td>nan</td><td>nan</td><td>nan</td><td>nan</td><td>nan</td><td>nan</td><td>True</td><td>False</td><td>True</td><td>51.077949090278715</td><td>-65.6678906185198</td><td>False</td><td>False</td><td>0.9866044539609372</td><td>False</td><td>2.205839007200795</td><td>0.8141187949556489</td><td>0.12544959644631554</td><td>0.6434392</td><td>0.2776158</td><td>0.23747697</td><td>185.6236499857223</td><td>4112.830342998932</td><td>1054.9791809618475</td><td>153.8677504100491</td><td>1.0734897197287712</td><td>1.135730561978669</td><td>-0.052197027490871226</td><td>-49.50227</td><td>-2.8152733</td><td>-18.270023</td><td>False</td><td>False</td><td>False</td><td>False</td><td>False</td><td>False</td><td>-0.0007484197443282784</td><td>-0.0007484197443282784</td><td>0.00043568545445205796</td><td>0.00043568545445205796</td><td>1.074169765195505</td><td>1.074169765195505</td><td>1.1366844984396434</td><td>1.1366844984396434</td><td>-0.05233237208164561</td><td>-0.05233237208164561</td><td>False</td><td>False</td><td>False</td><td>False</td><td>False</td><td>False</td><td>False</td><td>False</td><td>nan</td><td>nan</td><td>nan</td><td>nan</td><td>True</td><td>False</td><td>False</td><td>False</td><td>True</td><td>nan</td><td>nan</td><td>nan</td><td>nan</td><td>nan</td><td>nan</td><td>nan</td><td>nan</td><td>nan</td><td>nan</td><td>True</td><td>True</td><td>True</td><td>False</td><td>False</td><td>False</td><td>False</td><td>False</td><td>False</td><td>False</td><td>False</td><td>False</td><td>189.07873427511132</td><td>189.07873427511132</td><td>4115.224614597436</td><td>4115.224614597436</td><td>6.60159161276194</td><td>6.60159161276194</td><td>23.93965758699837</td><td>23.93965758699837</td><td>3.0241331877361124</td><td>3.0241331877361124</td><td>False</td><td>False</td><td>False</td><td>False</td><td>False</td><td>False</td><td>False</td><td>False</td><td>1108.0815</td><td>1108.0815</td><td>1020.6989135742188</td><td>135.90298461914062</td><td>False</td><td>False</td><td>False</td><td>1422.5162353515625</td><td>203.891357421875</td><td>False</td><td>False</td><td>False</td><td>1747.5491943359375</td><td>273.16741943359375</td><td>False</td><td>False</td><td>False</td><td>2497.89794921875</td><td>411.50469970703125</td><td>False</td><td>False</td><td>False</td><td>2942.963623046875</td><td>2942.963623046875</td><td>2942.963623046875</td><td>549.6900024414062</td><td>549.6900024414062</td><td>549.6900024414062</td><td>False</td><td>False</td><td>False</td><td>False</td><td>False</td><td>False</td><td>False</td><td>False</td><td>False</td><td>4398.489022331778</td><td>784.3554604139949</td><td>False</td><td>False</td><td>5145.119992155562</td><td>1151.5077817043546</td><td>False</td><td>False</td><td>365.55396028233554</td><td>1611.2469846994672</td><td>False</td><td>False</td><td>-28959.496555726997</td><td>2468.870147442275</td><td>False</td><td>False</td><td>nan</td><td>nan</td><td>True</td><td>True</td><td>nan</td><td>nan</td><td>nan</td><td>nan</td><td>nan</td><td>nan</td><td>True</td><td>True</td><td>True</td><td>1.386194409637816</td><td>21.643889305480023</td><td>False</td><td>False</td><td>False</td><td>False</td><td>0.15099758602010033</td><td>0.0</td><td>False</td><td>-2.7792916372754305e-09</td><td>-8.08423243091484e-07</td><td>-8.096120104453611e-07</td><td>-2.4423882776039577e-09</td><td>False</td><td>False</td><td>False</td><td>True</td><td>True</td><td>False</td><td>False</td><td>True</td><td>True</td><td>True</td><td>False</td><td>False</td><td>1056.3921598499544</td><td>1056.3921598499544</td><td>109.76602570151523</td><td>109.76602570151523</td><td>17.742727</td><td>17.742727</td><td>False</td><td>False</td><td>False</td><td>False</td><td>False</td><td>False</td><td>True</td><td>nan</td><td>True</td><td>1987.7400131290217</td><td>328.4136251033441</td><td>2.7619834</td><td>6.339296</td><td>1.3162398</td><td>True</td><td>False</td><td>False</td><td>False</td><td>False</td><td>False</td><td>False</td><td>False</td><td>False</td><td>True</td><td>1.121701579747566</td><td>1.121701579747566</td><td>1.121701579747566</td><td>0.0</td><td>0.0</td><td>0.0</td><td>False</td><td>False</td><td>False</td><td>0.9885922037177524</td><td>0.9885922037177524</td><td>0.0</td><td>0.0</td><td>False</td><td>False</td><td>1.042873007714798</td><td>0.0</td><td>False</td><td>nan</td><td>True</td><td>508</td><td>False</td><td>False</td><td>False</td></tr>\n",
       "<tr><td>33447624753286198</td><td>5.924146558109591</td><td>0.020194905382121705</td><td>33447624753285130</td><td>False</td><td>False</td><td>False</td><td>False</td><td>0</td><td>True</td><td>186.0</td><td>4116.0</td><td>560.5045152672532</td><td>False</td><td>False</td><td>False</td><td>False</td><td>False</td><td>False</td><td>False</td><td>False</td><td>185.25031932444278</td><td>4116.145668549958</td><td>False</td><td>False</td><td>False</td><td>False</td><td>185.84021054302764</td><td>185.84021054302764</td><td>4116.7023385673365</td><td>4116.7023385673365</td><td>0.3201667</td><td>0.3201667</td><td>0.39300993</td><td>0.39300993</td><td>False</td><td>False</td><td>False</td><td>False</td><td>False</td><td>False</td><td>False</td><td>False</td><td>False</td><td>False</td><td>False</td><td>False</td><td>False</td><td>False</td><td>False</td><td>False</td><td>False</td><td>False</td><td>False</td><td>False</td><td>False</td><td>False</td><td>False</td><td>False</td><td>False</td><td>False</td><td>False</td><td>False</td><td>False</td><td>False</td><td>False</td><td>False</td><td>False</td><td>False</td><td>False</td><td>False</td><td>False</td><td>False</td><td>False</td><td>False</td><td>False</td><td>False</td><td>False</td><td>False</td><td>False</td><td>False</td><td>False</td><td>False</td><td>False</td><td>False</td><td>False</td><td>False</td><td>False</td><td>False</td><td>False</td><td>False</td><td>False</td><td>False</td><td>False</td><td>False</td><td>False</td><td>False</td><td>False</td><td>False</td><td>False</td><td>False</td><td>False</td><td>False</td><td>False</td><td>False</td><td>False</td><td>False</td><td>False</td><td>False</td><td>False</td><td>False</td><td>False</td><td>False</td><td>False</td><td>False</td><td>False</td><td>False</td><td>False</td><td>False</td><td>False</td><td>False</td><td>False</td><td>False</td><td>False</td><td>False</td><td>False</td><td>False</td><td>False</td><td>False</td><td>False</td><td>False</td><td>False</td><td>False</td><td>0.43658561111297733</td><td>0.6862815905887275</td><td>2465.9216372005862</td><td>7860.302625619461</td><td>0.7830924622334794</td><td>1720.9129946597777</td><td>7933.85519184755</td><td>4.699819632496007</td><td>71.15931122560472</td><td>-0.9549302997172325</td><td>4.448984431271038</td><td>147.7097571083879</td><td>-3.754344531926955</td><td>4.354318062156321</td><td>56.392303672019125</td><td>-0.3697068463918886</td><td>4.412364518792537</td><td>154.50488949170554</td><td>-3.8522513391045714</td><td>False</td><td>False</td><td>False</td><td>51.08022176230311</td><td>-65.61021199651006</td><td>False</td><td>False</td><td>0.9866183657518938</td><td>False</td><td>7.8446795629253545</td><td>11.550499820984134</td><td>-2.154721531237274</td><td>nan</td><td>nan</td><td>nan</td><td>185.79076299450614</td><td>4116.74616472224</td><td>nan</td><td>nan</td><td>1.073415698630438</td><td>1.1356631947208167</td><td>-0.05219506123190194</td><td>nan</td><td>nan</td><td>nan</td><td>True</td><td>False</td><td>True</td><td>False</td><td>True</td><td>False</td><td>-0.0007501768003901281</td><td>-0.0007501768003901281</td><td>0.0004368639429605617</td><td>0.0004368639429605617</td><td>1.0740962457242333</td><td>1.0740962457242333</td><td>1.1366184426595856</td><td>1.1366184426595856</td><td>-0.05232991238808385</td><td>-0.05232991238808385</td><td>False</td><td>False</td><td>False</td><td>False</td><td>False</td><td>False</td><td>False</td><td>False</td><td>-0.9549423456192017</td><td>-0.05199100077152252</td><td>0.455637127161026</td><td>0.9756100177764893</td><td>False</td><td>False</td><td>False</td><td>False</td><td>False</td><td>188.74675007553327</td><td>188.74675007553327</td><td>4122.117161613317</td><td>4122.117161613317</td><td>3.0210654314409036</td><td>3.0210654314409036</td><td>88.83207357028567</td><td>88.83207357028567</td><td>-2.276921963905535</td><td>-2.276921963905535</td><td>False</td><td>False</td><td>False</td><td>False</td><td>False</td><td>False</td><td>False</td><td>False</td><td>False</td><td>False</td><td>False</td><td>False</td><td>188.85118279668538</td><td>188.85118279668538</td><td>4117.829789781074</td><td>4117.829789781074</td><td>4.901092397699111</td><td>4.901092397699111</td><td>7.848963110563682</td><td>7.848963110563682</td><td>-0.3748071548319061</td><td>-0.3748071548319061</td><td>False</td><td>False</td><td>False</td><td>False</td><td>False</td><td>False</td><td>False</td><td>False</td><td>988.3456</td><td>988.3456</td><td>951.4157104492188</td><td>135.8060760498047</td><td>False</td><td>False</td><td>False</td><td>1298.9842529296875</td><td>203.58639526367188</td><td>False</td><td>False</td><td>False</td><td>1965.4033203125</td><td>272.8145751953125</td><td>False</td><td>False</td><td>False</td><td>2367.465576171875</td><td>411.2371826171875</td><td>False</td><td>False</td><td>False</td><td>2327.927978515625</td><td>2327.927978515625</td><td>2327.927978515625</td><td>549.4714965820312</td><td>549.4714965820312</td><td>549.4714965820312</td><td>False</td><td>False</td><td>False</td><td>False</td><td>False</td><td>False</td><td>False</td><td>False</td><td>False</td><td>2896.604647962842</td><td>783.941771816709</td><td>False</td><td>False</td><td>2721.076147721331</td><td>1152.1588186354236</td><td>False</td><td>False</td><td>-1157.3743739265992</td><td>1610.909892218422</td><td>False</td><td>False</td><td>-40602.93393684812</td><td>2590.3567818003457</td><td>False</td><td>False</td><td>nan</td><td>nan</td><td>True</td><td>True</td><td>2812.9614189086437</td><td>2812.9614189086437</td><td>2812.9614189086437</td><td>419.94003378064934</td><td>419.94003378064934</td><td>419.94003378064934</td><td>False</td><td>False</td><td>False</td><td>0.8326259127346878</td><td>21.62279681900166</td><td>False</td><td>False</td><td>False</td><td>False</td><td>0.15099758602010033</td><td>0.0</td><td>False</td><td>-2.7770547691671437e-09</td><td>-8.084319405802015e-07</td><td>-8.096146968949191e-07</td><td>-2.440273526542065e-09</td><td>False</td><td>False</td><td>False</td><td>True</td><td>True</td><td>False</td><td>False</td><td>True</td><td>True</td><td>True</td><td>False</td><td>False</td><td>872.8547235019571</td><td>872.8547235019571</td><td>109.09938404994604</td><td>109.09938404994604</td><td>17.732021</td><td>17.732021</td><td>False</td><td>False</td><td>False</td><td>False</td><td>False</td><td>False</td><td>False</td><td>675.3612670898438</td><td>False</td><td>5534.583169210888</td><td>645.6865059578734</td><td>5.425927</td><td>24.16661</td><td>1.3161986</td><td>False</td><td>False</td><td>False</td><td>False</td><td>False</td><td>False</td><td>False</td><td>False</td><td>False</td><td>False</td><td>1.1216206451135615</td><td>1.1216206451135615</td><td>1.1216206451135615</td><td>0.0</td><td>0.0</td><td>0.0</td><td>False</td><td>False</td><td>False</td><td>0.9885569695064726</td><td>0.9885569695064726</td><td>0.0</td><td>0.0</td><td>False</td><td>False</td><td>1.0427985748302837</td><td>0.0</td><td>False</td><td>1.0</td><td>False</td><td>553</td><td>False</td><td>False</td><td>False</td></tr>\n",
       "<tr><td>33447624753286199</td><td>5.924130086880467</td><td>0.020201234446604367</td><td>33447624753285130</td><td>False</td><td>False</td><td>False</td><td>False</td><td>0</td><td>True</td><td>178.0</td><td>4137.0</td><td>381.0234812388565</td><td>False</td><td>False</td><td>False</td><td>False</td><td>False</td><td>False</td><td>False</td><td>False</td><td>177.88203892074168</td><td>4136.895653636247</td><td>False</td><td>False</td><td>False</td><td>False</td><td>178.0</td><td>178.0</td><td>4137.0</td><td>4137.0</td><td>nan</td><td>nan</td><td>nan</td><td>nan</td><td>True</td><td>True</td><td>True</td><td>True</td><td>True</td><td>True</td><td>True</td><td>True</td><td>True</td><td>True</td><td>True</td><td>True</td><td>True</td><td>True</td><td>True</td><td>True</td><td>True</td><td>True</td><td>True</td><td>True</td><td>True</td><td>True</td><td>True</td><td>True</td><td>True</td><td>True</td><td>True</td><td>True</td><td>False</td><td>False</td><td>False</td><td>False</td><td>False</td><td>False</td><td>False</td><td>False</td><td>False</td><td>False</td><td>False</td><td>False</td><td>False</td><td>False</td><td>False</td><td>False</td><td>False</td><td>False</td><td>False</td><td>False</td><td>False</td><td>False</td><td>False</td><td>False</td><td>False</td><td>False</td><td>False</td><td>False</td><td>False</td><td>False</td><td>False</td><td>False</td><td>False</td><td>False</td><td>False</td><td>False</td><td>False</td><td>False</td><td>False</td><td>False</td><td>False</td><td>False</td><td>False</td><td>False</td><td>False</td><td>False</td><td>False</td><td>False</td><td>False</td><td>False</td><td>False</td><td>False</td><td>False</td><td>False</td><td>False</td><td>False</td><td>False</td><td>False</td><td>False</td><td>False</td><td>False</td><td>False</td><td>False</td><td>False</td><td>False</td><td>False</td><td>False</td><td>False</td><td>False</td><td>False</td><td>0.4109982687473256</td><td>0.24397487848849653</td><td>581.9266040403631</td><td>769.7186078644196</td><td>0.2579604601560499</td><td>569.6774325598926</td><td>767.7184327397096</td><td>1.3063481295371357</td><td>2.145752044569906</td><td>-0.11103687660729113</td><td>1.3059329850720176</td><td>2.5652144432250084</td><td>-0.1993742960310087</td><td>1.2946756478179884</td><td>2.14101145985794</td><td>-0.11898621292123315</td><td>1.3035793245677463</td><td>2.622690908956073</td><td>-0.2181239649755674</td><td>True</td><td>True</td><td>True</td><td>50.962576278364445</td><td>-65.30576342723685</td><td>False</td><td>False</td><td>0.9867165672348635</td><td>False</td><td>4.954120590815753</td><td>2.4786161923661814</td><td>0.3356785139831979</td><td>1.7941477</td><td>0.90146345</td><td>0.89763737</td><td>178.04054055396537</td><td>4137.225991105625</td><td>1352.7624756756559</td><td>244.953255461707</td><td>1.0727875285285475</td><td>1.135827630496959</td><td>-0.051807253398286714</td><td>-219.74117</td><td>-14.889098</td><td>-109.9396</td><td>False</td><td>False</td><td>False</td><td>False</td><td>False</td><td>False</td><td>-0.0007680744960884431</td><td>-0.0007680744960884431</td><td>0.0004674135689785764</td><td>0.0004674135689785764</td><td>1.0734653429994683</td><td>1.0734653429994683</td><td>1.1367905594178647</td><td>1.1367905594178647</td><td>-0.051937681338046715</td><td>-0.051937681338046715</td><td>True</td><td>True</td><td>False</td><td>False</td><td>False</td><td>False</td><td>False</td><td>False</td><td>-1.1179072856903076</td><td>-0.34266287088394165</td><td>5.451266288757324</td><td>0.0816146582365036</td><td>False</td><td>False</td><td>False</td><td>False</td><td>False</td><td>176.49923922610762</td><td>176.49923922610762</td><td>4137.113387221791</td><td>4137.113387221791</td><td>0.7386860370591015</td><td>0.7386860370591015</td><td>1.6772158281204674</td><td>1.6772158281204674</td><td>-0.1597430821431424</td><td>-0.1597430821431424</td><td>True</td><td>True</td><td>True</td><td>False</td><td>False</td><td>False</td><td>False</td><td>False</td><td>False</td><td>False</td><td>False</td><td>False</td><td>176.36922341642574</td><td>176.36922341642574</td><td>4137.182451813707</td><td>4137.182451813707</td><td>1.0176477036964997</td><td>1.0176477036964997</td><td>1.3217244505107397</td><td>1.3217244505107397</td><td>-0.1425676774798059</td><td>-0.1425676774798059</td><td>True</td><td>True</td><td>False</td><td>False</td><td>False</td><td>False</td><td>False</td><td>False</td><td>498.29318</td><td>498.29318</td><td>986.7520751953125</td><td>134.63113403320312</td><td>True</td><td>False</td><td>False</td><td>1245.700439453125</td><td>203.48138427734375</td><td>True</td><td>False</td><td>False</td><td>1301.2779541015625</td><td>272.5242919921875</td><td>True</td><td>False</td><td>False</td><td>1788.920166015625</td><td>410.9770812988281</td><td>True</td><td>False</td><td>False</td><td>1775.4578857421875</td><td>1775.4578857421875</td><td>1775.4578857421875</td><td>548.967041015625</td><td>548.967041015625</td><td>548.967041015625</td><td>True</td><td>True</td><td>True</td><td>False</td><td>False</td><td>False</td><td>False</td><td>False</td><td>False</td><td>3232.8528766925447</td><td>780.0127538567554</td><td>True</td><td>False</td><td>-7166.568186577715</td><td>1339.734885655656</td><td>True</td><td>False</td><td>-36635.35000729219</td><td>2130.485907091944</td><td>True</td><td>False</td><td>nan</td><td>nan</td><td>True</td><td>True</td><td>nan</td><td>nan</td><td>True</td><td>True</td><td>664.444075637261</td><td>664.444075637261</td><td>664.444075637261</td><td>109.08348895105831</td><td>109.08348895105831</td><td>109.08348895105831</td><td>False</td><td>False</td><td>False</td><td>0.7221153665490632</td><td>23.508258615467142</td><td>True</td><td>False</td><td>False</td><td>False</td><td>0.15099758602010033</td><td>0.0</td><td>False</td><td>-2.758480830526819e-09</td><td>-8.084829041219348e-07</td><td>-8.0964411926242e-07</td><td>-2.4225006590249223e-09</td><td>False</td><td>False</td><td>False</td><td>True</td><td>True</td><td>False</td><td>False</td><td>True</td><td>True</td><td>True</td><td>False</td><td>False</td><td>706.0882618699981</td><td>706.0882618699981</td><td>108.97154189207703</td><td>108.97154189207703</td><td>17.725855</td><td>17.725855</td><td>True</td><td>True</td><td>False</td><td>False</td><td>False</td><td>False</td><td>False</td><td>673.3512573242188</td><td>False</td><td>1343.4740748372312</td><td>277.19895815086744</td><td>2.3434973</td><td>6.339296</td><td>1.3160671</td><td>True</td><td>False</td><td>False</td><td>False</td><td>False</td><td>False</td><td>False</td><td>False</td><td>False</td><td>True</td><td>1.1206790300118579</td><td>1.1206790300118579</td><td>1.1206790300118579</td><td>0.0</td><td>0.0</td><td>0.0</td><td>False</td><td>False</td><td>False</td><td>0.9884640860860987</td><td>0.9884640860860987</td><td>0.0</td><td>0.0</td><td>False</td><td>False</td><td>1.0420250740556505</td><td>0.0</td><td>False</td><td>nan</td><td>True</td><td>441</td><td>False</td><td>False</td><td>False</td></tr>\n",
       "<tr><td>33447624753286200</td><td>5.924153017259423</td><td>0.020194068672920392</td><td>33447624753285130</td><td>False</td><td>False</td><td>False</td><td>False</td><td>0</td><td>True</td><td>187.0</td><td>4109.0</td><td>339.6811187214136</td><td>False</td><td>False</td><td>False</td><td>False</td><td>False</td><td>False</td><td>False</td><td>False</td><td>186.02814577231103</td><td>4108.2203714877705</td><td>False</td><td>False</td><td>False</td><td>False</td><td>186.89246988347958</td><td>186.89246988347958</td><td>4108.748862076773</td><td>4108.748862076773</td><td>0.7126408</td><td>0.7126408</td><td>0.41628432</td><td>0.41628432</td><td>False</td><td>False</td><td>False</td><td>False</td><td>False</td><td>False</td><td>False</td><td>False</td><td>False</td><td>False</td><td>False</td><td>False</td><td>False</td><td>False</td><td>False</td><td>False</td><td>False</td><td>False</td><td>False</td><td>False</td><td>False</td><td>False</td><td>False</td><td>False</td><td>False</td><td>False</td><td>False</td><td>False</td><td>False</td><td>False</td><td>False</td><td>False</td><td>False</td><td>False</td><td>False</td><td>False</td><td>False</td><td>False</td><td>False</td><td>False</td><td>False</td><td>False</td><td>False</td><td>False</td><td>False</td><td>False</td><td>False</td><td>False</td><td>False</td><td>False</td><td>False</td><td>False</td><td>False</td><td>False</td><td>False</td><td>False</td><td>False</td><td>False</td><td>False</td><td>False</td><td>False</td><td>False</td><td>False</td><td>False</td><td>False</td><td>False</td><td>False</td><td>False</td><td>False</td><td>False</td><td>False</td><td>False</td><td>False</td><td>False</td><td>False</td><td>False</td><td>False</td><td>False</td><td>False</td><td>False</td><td>False</td><td>False</td><td>False</td><td>False</td><td>False</td><td>False</td><td>False</td><td>False</td><td>False</td><td>False</td><td>False</td><td>False</td><td>False</td><td>False</td><td>False</td><td>False</td><td>False</td><td>False</td><td>0.45391591837941</td><td>0.17005863260964194</td><td>950.8961249223825</td><td>1145.7389187772997</td><td>0.20128793465199435</td><td>915.8235658031516</td><td>1146.6254305349944</td><td>2.3361615642231914</td><td>2.7845413885793318</td><td>0.5237424268369278</td><td>2.5349659171403083</td><td>4.389669195416725</td><td>0.5525367162860596</td><td>2.2964045814499077</td><td>2.477603454843191</td><td>0.5273459738141439</td><td>2.513605551956386</td><td>4.445596492601556</td><td>0.4912101094562237</td><td>False</td><td>False</td><td>False</td><td>51.09602223772665</td><td>-65.72951194842804</td><td>False</td><td>False</td><td>0.9865856215195721</td><td>False</td><td>5.705435422392442</td><td>3.3137081334647904</td><td>1.2209133759934367</td><td>1.9201881</td><td>1.0747828</td><td>1.1152422</td><td>186.87498256052663</td><td>4108.614171194757</td><td>1595.6080396577415</td><td>268.50425196939085</td><td>1.0736088249836846</td><td>1.1357171481433472</td><td>-0.05226186521270352</td><td>-257.7893</td><td>-55.16466</td><td>-149.72365</td><td>False</td><td>False</td><td>False</td><td>False</td><td>False</td><td>False</td><td>-0.0007451920686797551</td><td>-0.0007451920686797551</td><td>0.00043063169582170543</td><td>0.00043063169582170543</td><td>1.0742865055550699</td><td>1.0742865055550699</td><td>1.1366726053787697</td><td>1.1366726053787697</td><td>-0.052395058323503704</td><td>-0.052395058323503704</td><td>False</td><td>False</td><td>False</td><td>False</td><td>False</td><td>False</td><td>False</td><td>False</td><td>-0.8449297547340393</td><td>0.33672112226486206</td><td>0.6693990230560303</td><td>0.40573564171791077</td><td>False</td><td>False</td><td>False</td><td>False</td><td>False</td><td>188.0504672001414</td><td>188.0504672001414</td><td>4108.841571341785</td><td>4108.841571341785</td><td>1.391324157870454</td><td>1.391324157870454</td><td>2.7763684139850695</td><td>2.7763684139850695</td><td>0.19416562560285003</td><td>0.19416562560285003</td><td>False</td><td>False</td><td>False</td><td>False</td><td>False</td><td>False</td><td>False</td><td>False</td><td>False</td><td>False</td><td>False</td><td>False</td><td>188.0738113636122</td><td>188.0738113636122</td><td>4108.943680903946</td><td>4108.943680903946</td><td>1.4375912838795217</td><td>1.4375912838795217</td><td>1.7194873545648945</td><td>1.7194873545648945</td><td>0.0006674978762255041</td><td>0.0006674978762255041</td><td>False</td><td>False</td><td>False</td><td>False</td><td>False</td><td>False</td><td>False</td><td>False</td><td>725.382</td><td>725.382</td><td>1016.2936401367188</td><td>135.7444305419922</td><td>False</td><td>False</td><td>False</td><td>1419.0174560546875</td><td>203.78639221191406</td><td>False</td><td>False</td><td>False</td><td>1677.947265625</td><td>273.0833740234375</td><td>False</td><td>False</td><td>False</td><td>1967.21875</td><td>411.38946533203125</td><td>False</td><td>False</td><td>False</td><td>2614.161865234375</td><td>2614.161865234375</td><td>2614.161865234375</td><td>549.562744140625</td><td>549.562744140625</td><td>549.562744140625</td><td>False</td><td>False</td><td>False</td><td>False</td><td>False</td><td>False</td><td>False</td><td>False</td><td>False</td><td>4228.793567235814</td><td>784.2121405955913</td><td>False</td><td>False</td><td>5363.83950250057</td><td>1151.4840524606882</td><td>False</td><td>False</td><td>-66.78889776560027</td><td>1611.9791198211153</td><td>False</td><td>False</td><td>-19810.444745374643</td><td>2365.854414574556</td><td>False</td><td>False</td><td>nan</td><td>nan</td><td>True</td><td>True</td><td>1079.4702900889552</td><td>1079.4702900889552</td><td>1079.4702900889552</td><td>145.08184766752424</td><td>145.08184766752424</td><td>145.08184766752424</td><td>False</td><td>False</td><td>False</td><td>1.483768441860516</td><td>23.393183786046315</td><td>False</td><td>False</td><td>False</td><td>False</td><td>0.15099758602010033</td><td>0.0</td><td>False</td><td>-2.7827599326870965e-09</td><td>-8.084131117971243e-07</td><td>-8.096067213056616e-07</td><td>-2.4457017797980877e-09</td><td>False</td><td>False</td><td>False</td><td>True</td><td>True</td><td>False</td><td>False</td><td>True</td><td>True</td><td>True</td><td>False</td><td>False</td><td>760.9459165153454</td><td>760.9459165153454</td><td>108.93550271345956</td><td>108.93550271345956</td><td>17.740755</td><td>17.740755</td><td>False</td><td>False</td><td>False</td><td>False</td><td>False</td><td>False</td><td>False</td><td>674.2486572265625</td><td>False</td><td>2334.1019326049172</td><td>445.43927970524</td><td>3.7377264</td><td>8.390982</td><td>1.3162701</td><td>False</td><td>False</td><td>False</td><td>False</td><td>False</td><td>False</td><td>False</td><td>False</td><td>False</td><td>False</td><td>1.1218684440346578</td><td>1.1218684440346578</td><td>1.1218684440346578</td><td>0.0</td><td>0.0</td><td>0.0</td><td>False</td><td>False</td><td>False</td><td>0.9886149834056264</td><td>0.9886149834056264</td><td>0.0</td><td>0.0</td><td>False</td><td>False</td><td>1.0430118741302707</td><td>0.0</td><td>False</td><td>1.0</td><td>False</td><td>452</td><td>False</td><td>False</td><td>False</td></tr>\n",
       "<tr><td>33447624753286201</td><td>5.924136349951281</td><td>0.020203028906295658</td><td>33447624753285130</td><td>False</td><td>False</td><td>False</td><td>False</td><td>0</td><td>True</td><td>176.0</td><td>4129.0</td><td>618.1321379665702</td><td>False</td><td>False</td><td>False</td><td>False</td><td>False</td><td>False</td><td>False</td><td>False</td><td>175.28159141119815</td><td>4129.002928792902</td><td>False</td><td>False</td><td>False</td><td>False</td><td>175.8170142355776</td><td>175.8170142355776</td><td>4129.298993667755</td><td>4129.298993667755</td><td>0.31007537</td><td>0.31007537</td><td>0.36503735</td><td>0.36503735</td><td>False</td><td>False</td><td>False</td><td>False</td><td>False</td><td>False</td><td>False</td><td>False</td><td>False</td><td>False</td><td>False</td><td>False</td><td>False</td><td>False</td><td>False</td><td>False</td><td>False</td><td>False</td><td>False</td><td>False</td><td>False</td><td>False</td><td>False</td><td>False</td><td>False</td><td>False</td><td>False</td><td>False</td><td>False</td><td>False</td><td>False</td><td>False</td><td>False</td><td>False</td><td>False</td><td>False</td><td>False</td><td>False</td><td>False</td><td>False</td><td>False</td><td>False</td><td>False</td><td>False</td><td>False</td><td>False</td><td>False</td><td>False</td><td>False</td><td>False</td><td>False</td><td>False</td><td>False</td><td>False</td><td>False</td><td>False</td><td>False</td><td>False</td><td>False</td><td>False</td><td>False</td><td>False</td><td>False</td><td>False</td><td>False</td><td>False</td><td>False</td><td>False</td><td>False</td><td>False</td><td>False</td><td>False</td><td>False</td><td>False</td><td>False</td><td>False</td><td>False</td><td>False</td><td>False</td><td>False</td><td>False</td><td>False</td><td>False</td><td>False</td><td>False</td><td>False</td><td>False</td><td>False</td><td>False</td><td>False</td><td>False</td><td>False</td><td>False</td><td>False</td><td>False</td><td>False</td><td>False</td><td>False</td><td>0.4487448192768507</td><td>0.1329837997423936</td><td>729.7865705295833</td><td>841.7219543449711</td><td>0.1485776065948995</td><td>728.2266607460564</td><td>855.3059754907944</td><td>1.1574041081170696</td><td>1.8820686364165304</td><td>-0.1047562407627114</td><td>1.408037007971139</td><td>2.245314535308613</td><td>-0.22412973969761035</td><td>1.2195295825571417</td><td>1.952318365017181</td><td>-0.23014987207828252</td><td>1.4866154570985495</td><td>2.4778565181939425</td><td>-0.35478503624879215</td><td>False</td><td>False</td><td>False</td><td>50.92984755120511</td><td>-65.42128307330775</td><td>False</td><td>False</td><td>0.9866942434246699</td><td>False</td><td>1.4250918043462701</td><td>1.7838156201147644</td><td>-0.057644055479880524</td><td>0.5984758</td><td>0.47377136</td><td>0.749124</td><td>175.83159811970293</td><td>4129.272082486198</td><td>793.4525282508691</td><td>166.60756094502602</td><td>1.072886381050477</td><td>1.1360780107062993</td><td>-0.051728487278517477</td><td>-49.855297</td><td>2.0166152</td><td>-62.40486</td><td>False</td><td>False</td><td>False</td><td>False</td><td>False</td><td>False</td><td>-0.0007663829247887566</td><td>-0.0007663829247887566</td><td>0.0004704724782485618</td><td>0.0004704724782485618</td><td>1.073560495354312</td><td>1.073560495354312</td><td>1.1370375114396785</td><td>1.1370375114396785</td><td>-0.05185934210868575</td><td>-0.05185934210868575</td><td>False</td><td>False</td><td>False</td><td>False</td><td>False</td><td>False</td><td>False</td><td>False</td><td>-0.7770211100578308</td><td>-0.06322253495454788</td><td>1.430143117904663</td><td>0.21345385909080505</td><td>False</td><td>False</td><td>False</td><td>False</td><td>False</td><td>175.81770925038128</td><td>175.81770925038128</td><td>4129.308487476347</td><td>4129.308487476347</td><td>1.0488455557380028</td><td>1.0488455557380028</td><td>1.8341524513046286</td><td>1.8341524513046286</td><td>-0.07039716385612682</td><td>-0.07039716385612682</td><td>False</td><td>False</td><td>False</td><td>False</td><td>False</td><td>False</td><td>False</td><td>False</td><td>False</td><td>False</td><td>False</td><td>False</td><td>175.7266282326633</td><td>175.7266282326633</td><td>4129.281900664627</td><td>4129.281900664627</td><td>1.3408802896718997</td><td>1.3408802896718997</td><td>1.5736715862002923</td><td>1.5736715862002923</td><td>0.0419624780253784</td><td>0.0419624780253784</td><td>False</td><td>False</td><td>False</td><td>False</td><td>False</td><td>False</td><td>False</td><td>False</td><td>742.27057</td><td>742.27057</td><td>810.2545166015625</td><td>135.6545867919922</td><td>False</td><td>False</td><td>False</td><td>692.7293701171875</td><td>202.8981475830078</td><td>False</td><td>False</td><td>False</td><td>792.4080200195312</td><td>272.0071716308594</td><td>False</td><td>False</td><td>False</td><td>920.9884033203125</td><td>410.3070373535156</td><td>False</td><td>False</td><td>False</td><td>894.4736938476562</td><td>894.4736938476562</td><td>894.4736938476562</td><td>548.3546752929688</td><td>548.3546752929688</td><td>548.3546752929688</td><td>False</td><td>False</td><td>False</td><td>False</td><td>False</td><td>False</td><td>False</td><td>False</td><td>False</td><td>968.7858832337661</td><td>783.6800067025274</td><td>False</td><td>False</td><td>-1257.874923993062</td><td>1151.1602225720912</td><td>False</td><td>False</td><td>-21945.38936578126</td><td>1853.6289850575831</td><td>False</td><td>False</td><td>nan</td><td>nan</td><td>True</td><td>True</td><td>nan</td><td>nan</td><td>True</td><td>True</td><td>826.1675226353822</td><td>826.1675226353822</td><td>826.1675226353822</td><td>122.26575469810334</td><td>122.26575469810334</td><td>122.26575469810334</td><td>False</td><td>False</td><td>False</td><td>-1.3941563170751032</td><td>25.705456720426234</td><td>False</td><td>False</td><td>False</td><td>False</td><td>0.15099758602010033</td><td>0.0</td><td>False</td><td>-2.76147839087314e-09</td><td>-8.084666785913395e-07</td><td>-8.096420666201064e-07</td><td>-2.425279082534322e-09</td><td>False</td><td>False</td><td>False</td><td>True</td><td>True</td><td>False</td><td>False</td><td>True</td><td>False</td><td>False</td><td>False</td><td>False</td><td>723.3123192129832</td><td>723.3123192129832</td><td>108.91057603235966</td><td>108.91057603235966</td><td>17.701958</td><td>17.701958</td><td>False</td><td>False</td><td>False</td><td>False</td><td>False</td><td>False</td><td>False</td><td>671.491455078125</td><td>False</td><td>899.9233326811346</td><td>274.4007816790228</td><td>2.3249052</td><td>7.0616784</td><td>1.3161691</td><td>False</td><td>False</td><td>False</td><td>False</td><td>False</td><td>False</td><td>False</td><td>False</td><td>False</td><td>False</td><td>1.1207309589364483</td><td>1.1207309589364483</td><td>1.1207309589364483</td><td>0.0</td><td>0.0</td><td>0.0</td><td>False</td><td>False</td><td>False</td><td>0.9885556628118286</td><td>0.9885556628118286</td><td>0.0</td><td>0.0</td><td>False</td><td>False</td><td>1.0420930968489088</td><td>0.0</td><td>False</td><td>1.0</td><td>False</td><td>572</td><td>False</td><td>False</td><td>False</td></tr>\n",
       "<tr><td>33447624753286202</td><td>5.924138271712381</td><td>0.02019520319954766</td><td>33447624753285130</td><td>False</td><td>False</td><td>False</td><td>False</td><td>0</td><td>True</td><td>185.0</td><td>4127.0</td><td>347.51040956949043</td><td>False</td><td>False</td><td>False</td><td>False</td><td>False</td><td>False</td><td>False</td><td>False</td><td>185.2476092949683</td><td>4126.347735650785</td><td>False</td><td>False</td><td>False</td><td>False</td><td>185.44376349938008</td><td>185.44376349938008</td><td>4126.902354072455</td><td>4126.902354072455</td><td>0.66406596</td><td>0.66406596</td><td>0.56772333</td><td>0.56772333</td><td>False</td><td>False</td><td>False</td><td>False</td><td>False</td><td>False</td><td>False</td><td>False</td><td>False</td><td>False</td><td>False</td><td>False</td><td>False</td><td>False</td><td>False</td><td>False</td><td>False</td><td>False</td><td>False</td><td>False</td><td>False</td><td>False</td><td>False</td><td>False</td><td>False</td><td>False</td><td>False</td><td>False</td><td>False</td><td>False</td><td>False</td><td>False</td><td>False</td><td>False</td><td>False</td><td>False</td><td>False</td><td>False</td><td>False</td><td>False</td><td>False</td><td>False</td><td>False</td><td>False</td><td>False</td><td>False</td><td>False</td><td>False</td><td>False</td><td>False</td><td>False</td><td>False</td><td>False</td><td>False</td><td>False</td><td>False</td><td>False</td><td>False</td><td>False</td><td>False</td><td>False</td><td>False</td><td>False</td><td>False</td><td>False</td><td>False</td><td>False</td><td>False</td><td>False</td><td>False</td><td>False</td><td>False</td><td>False</td><td>False</td><td>False</td><td>False</td><td>False</td><td>False</td><td>False</td><td>False</td><td>False</td><td>False</td><td>False</td><td>False</td><td>False</td><td>False</td><td>False</td><td>False</td><td>False</td><td>False</td><td>False</td><td>False</td><td>False</td><td>False</td><td>False</td><td>False</td><td>False</td><td>False</td><td>0.3224523153508022</td><td>0.2292322061176939</td><td>1136.256663364303</td><td>1474.1880400075538</td><td>0.25658315301556256</td><td>1202.849220853332</td><td>1618.0010255787388</td><td>2.3606974876397078</td><td>12.021273004830288</td><td>3.23798072830337</td><td>2.714531043674242</td><td>29.498535741923064</td><td>5.863359678689742</td><td>1.9757848408916763</td><td>9.260483116929844</td><td>2.505957395064397</td><td>2.4794732792491305</td><td>28.690563571013158</td><td>5.599099017977415</td><td>False</td><td>False</td><td>False</td><td>51.07425378650483</td><td>-65.45721259212704</td><td>False</td><td>False</td><td>0.9866575221176687</td><td>False</td><td>8.358725920527881</td><td>15.999669356201881</td><td>8.027048396806062</td><td>2.6095982</td><td>3.1076915</td><td>4.995105</td><td>185.44197855520696</td><td>4126.500112836828</td><td>2432.501335042667</td><td>379.714042880339</td><td>1.0732101165221906</td><td>1.1355409081252028</td><td>-0.05215697299522708</td><td>-495.45056</td><td>-475.79092</td><td>-948.3558</td><td>False</td><td>False</td><td>False</td><td>False</td><td>False</td><td>False</td><td>-0.0007556929459991695</td><td>-0.0007556929459991695</td><td>0.00044225192334938394</td><td>0.00044225192334938394</td><td>1.0738789238938258</td><td>1.0738789238938258</td><td>1.1364907721588364</td><td>1.1364907721588364</td><td>-0.05228852902107082</td><td>-0.05228852902107082</td><td>False</td><td>False</td><td>False</td><td>False</td><td>False</td><td>False</td><td>False</td><td>False</td><td>nan</td><td>nan</td><td>nan</td><td>nan</td><td>True</td><td>False</td><td>False</td><td>False</td><td>True</td><td>187.98880566786102</td><td>187.98880566786102</td><td>4128.816496549941</td><td>4128.816496549941</td><td>1.5629969128438712</td><td>1.5629969128438712</td><td>18.339049106111027</td><td>18.339049106111027</td><td>3.8060790983209</td><td>3.8060790983209</td><td>False</td><td>False</td><td>False</td><td>False</td><td>False</td><td>False</td><td>False</td><td>False</td><td>False</td><td>False</td><td>False</td><td>False</td><td>188.23230130141388</td><td>188.23230130141388</td><td>4129.953256060045</td><td>4129.953256060045</td><td>1.113764861154495</td><td>1.113764861154495</td><td>5.853361106795977</td><td>5.853361106795977</td><td>0.5554334909323788</td><td>0.5554334909323788</td><td>False</td><td>False</td><td>False</td><td>False</td><td>False</td><td>False</td><td>False</td><td>False</td><td>634.10315</td><td>634.10315</td><td>929.498291015625</td><td>135.44406127929688</td><td>False</td><td>False</td><td>False</td><td>1426.993896484375</td><td>203.11456298828125</td><td>False</td><td>False</td><td>False</td><td>2098.0693359375</td><td>272.315673828125</td><td>False</td><td>False</td><td>False</td><td>2531.707763671875</td><td>410.59674072265625</td><td>False</td><td>False</td><td>False</td><td>2778.45947265625</td><td>2778.45947265625</td><td>2778.45947265625</td><td>549.0132446289062</td><td>549.0132446289062</td><td>549.0132446289062</td><td>False</td><td>False</td><td>False</td><td>False</td><td>False</td><td>False</td><td>False</td><td>False</td><td>False</td><td>1776.1821020189673</td><td>784.2128651527554</td><td>False</td><td>False</td><td>361.85598563410167</td><td>1150.8169845521024</td><td>False</td><td>False</td><td>-12727.850135393368</td><td>1774.1793568288845</td><td>False</td><td>False</td><td>nan</td><td>nan</td><td>True</td><td>True</td><td>nan</td><td>nan</td><td>True</td><td>True</td><td>1291.5175907147027</td><td>1291.5175907147027</td><td>1291.5175907147027</td><td>200.83791396740938</td><td>200.83791396740938</td><td>200.83791396740938</td><td>False</td><td>False</td><td>False</td><td>-0.148505615178506</td><td>20.49683237994358</td><td>False</td><td>False</td><td>False</td><td>False</td><td>0.15099758602010033</td><td>0.0</td><td>False</td><td>-2.770489024809713e-09</td><td>-8.084554602755544e-07</td><td>-8.096232345426695e-07</td><td>-2.434050266036715e-09</td><td>False</td><td>False</td><td>False</td><td>True</td><td>True</td><td>False</td><td>False</td><td>True</td><td>True</td><td>True</td><td>False</td><td>True</td><td>787.6330745709006</td><td>787.6330745709006</td><td>108.98600965806335</td><td>108.98600965806335</td><td>17.765741</td><td>17.765741</td><td>False</td><td>False</td><td>False</td><td>False</td><td>False</td><td>False</td><td>False</td><td>676.62060546875</td><td>False</td><td>2847.810694481899</td><td>616.6547709950167</td><td>5.1642513</td><td>11.64266</td><td>1.3160967</td><td>False</td><td>False</td><td>False</td><td>False</td><td>False</td><td>False</td><td>False</td><td>False</td><td>False</td><td>False</td><td>1.1213580812642099</td><td>1.1213580812642099</td><td>1.1213580812642099</td><td>0.0</td><td>0.0</td><td>0.0</td><td>False</td><td>False</td><td>False</td><td>0.988471869772855</td><td>0.988471869772855</td><td>0.0</td><td>0.0</td><td>False</td><td>False</td><td>1.0425655987560911</td><td>0.0</td><td>False</td><td>1.0</td><td>False</td><td>609</td><td>False</td><td>False</td><td>False</td></tr>\n",
       "<tr><td>33447624753286203</td><td>5.924130880875893</td><td>0.02019554223138236</td><td>33447624753285130</td><td>False</td><td>False</td><td>False</td><td>False</td><td>0</td><td>True</td><td>185.0</td><td>4136.0</td><td>220.40043473653654</td><td>False</td><td>False</td><td>False</td><td>False</td><td>False</td><td>False</td><td>False</td><td>False</td><td>185.0749860696188</td><td>4135.92020090301</td><td>False</td><td>False</td><td>False</td><td>False</td><td>185.0</td><td>185.0</td><td>4136.0</td><td>4136.0</td><td>nan</td><td>nan</td><td>nan</td><td>nan</td><td>True</td><td>True</td><td>True</td><td>True</td><td>True</td><td>True</td><td>True</td><td>True</td><td>True</td><td>True</td><td>True</td><td>True</td><td>True</td><td>True</td><td>True</td><td>True</td><td>True</td><td>True</td><td>True</td><td>True</td><td>True</td><td>True</td><td>True</td><td>True</td><td>True</td><td>True</td><td>True</td><td>True</td><td>False</td><td>False</td><td>False</td><td>False</td><td>False</td><td>False</td><td>False</td><td>False</td><td>False</td><td>False</td><td>False</td><td>False</td><td>False</td><td>False</td><td>False</td><td>False</td><td>False</td><td>False</td><td>False</td><td>False</td><td>False</td><td>False</td><td>False</td><td>False</td><td>False</td><td>False</td><td>False</td><td>False</td><td>False</td><td>False</td><td>False</td><td>False</td><td>False</td><td>False</td><td>False</td><td>False</td><td>False</td><td>False</td><td>False</td><td>False</td><td>False</td><td>False</td><td>False</td><td>False</td><td>False</td><td>False</td><td>False</td><td>False</td><td>False</td><td>False</td><td>False</td><td>False</td><td>False</td><td>False</td><td>False</td><td>False</td><td>False</td><td>False</td><td>False</td><td>False</td><td>False</td><td>False</td><td>False</td><td>False</td><td>False</td><td>False</td><td>False</td><td>False</td><td>False</td><td>False</td><td>0.3477231163323348</td><td>0.30660565753289704</td><td>600.0979315184026</td><td>865.449708434668</td><td>0.359267533414223</td><td>585.7803889251861</td><td>914.2355342887339</td><td>0.7693908691047845</td><td>3.6127102834761584</td><td>-0.9287665994464763</td><td>1.3528524086783194</td><td>16.73306919690212</td><td>-3.715969691632923</td><td>0.6808479919757819</td><td>3.2681247096069352</td><td>-0.7698555425896296</td><td>1.4121292542400536</td><td>19.8563486803588</td><td>-4.262475631163143</td><td>True</td><td>True</td><td>True</td><td>51.06757836266045</td><td>-65.3207488299173</td><td>False</td><td>False</td><td>0.9866926306960169</td><td>False</td><td>5.932319170191242</td><td>6.328190486791359</td><td>-2.5090262829525525</td><td>1.970803</td><td>1.555319</td><td>2.102317</td><td>185.1297593362857</td><td>4135.856378589993</td><td>1870.1964663275971</td><td>310.6532748554138</td><td>1.073013488001078</td><td>1.1354210567870755</td><td>-0.05212184854854081</td><td>-306.11823</td><td>129.47021</td><td>-326.54587</td><td>False</td><td>False</td><td>False</td><td>False</td><td>False</td><td>False</td><td>-0.0007606158604289215</td><td>-0.0007606158604289215</td><td>0.0004472539210189137</td><td>0.0004472539210189137</td><td>1.073682182583811</td><td>1.073682182583811</td><td>1.1363815898256011</td><td>1.1363815898256011</td><td>-0.052248059062380246</td><td>-0.052248059062380246</td><td>True</td><td>True</td><td>False</td><td>False</td><td>False</td><td>False</td><td>False</td><td>False</td><td>nan</td><td>nan</td><td>nan</td><td>nan</td><td>True</td><td>False</td><td>False</td><td>False</td><td>True</td><td>187.88377337078464</td><td>187.88377337078464</td><td>4131.90018210486</td><td>4131.90018210486</td><td>0.8911722920986261</td><td>0.8911722920986261</td><td>12.155535411378343</td><td>12.155535411378343</td><td>-2.7458189455880357</td><td>-2.7458189455880357</td><td>True</td><td>True</td><td>True</td><td>False</td><td>False</td><td>False</td><td>False</td><td>False</td><td>False</td><td>False</td><td>False</td><td>False</td><td>188.16487774870848</td><td>188.16487774870848</td><td>4130.7698824481895</td><td>4130.7698824481895</td><td>0.3299260437378253</td><td>0.3299260437378253</td><td>0.8312145453072091</td><td>0.8312145453072091</td><td>-0.0030425954037581605</td><td>-0.0030425954037581605</td><td>True</td><td>True</td><td>False</td><td>False</td><td>False</td><td>False</td><td>False</td><td>False</td><td>283.39624</td><td>283.39624</td><td>1041.4193115234375</td><td>134.56346130371094</td><td>True</td><td>False</td><td>False</td><td>1479.5841064453125</td><td>203.6498260498047</td><td>True</td><td>False</td><td>False</td><td>1732.8206787109375</td><td>272.9903869628906</td><td>True</td><td>False</td><td>False</td><td>1841.596923828125</td><td>411.3306884765625</td><td>True</td><td>False</td><td>False</td><td>2013.0908203125</td><td>2013.0908203125</td><td>2013.0908203125</td><td>549.5653686523438</td><td>549.5653686523438</td><td>549.5653686523438</td><td>True</td><td>True</td><td>True</td><td>False</td><td>False</td><td>False</td><td>False</td><td>False</td><td>False</td><td>3542.4282770290156</td><td>780.496174443099</td><td>True</td><td>False</td><td>-4146.101870114653</td><td>1306.2811999348467</td><td>True</td><td>False</td><td>-32584.901899154036</td><td>2093.6346439187514</td><td>True</td><td>False</td><td>nan</td><td>nan</td><td>True</td><td>True</td><td>nan</td><td>nan</td><td>True</td><td>True</td><td>683.7955005930509</td><td>683.7955005930509</td><td>683.7955005930509</td><td>140.31943917826274</td><td>140.31943917826274</td><td>140.31943917826274</td><td>False</td><td>False</td><td>False</td><td>1.5716888562110838</td><td>24.622420301427795</td><td>True</td><td>False</td><td>False</td><td>False</td><td>0.15099758602010033</td><td>0.0</td><td>False</td><td>-2.7645674724118446e-09</td><td>-8.084764491800068e-07</td><td>-8.096309949178703e-07</td><td>-2.428434031777087e-09</td><td>False</td><td>False</td><td>False</td><td>True</td><td>True</td><td>False</td><td>False</td><td>True</td><td>True</td><td>True</td><td>False</td><td>True</td><td>745.5171343836</td><td>745.5171343836</td><td>108.84987572983484</td><td>108.84987572983484</td><td>17.73968</td><td>17.73968</td><td>True</td><td>True</td><td>False</td><td>False</td><td>False</td><td>False</td><td>False</td><td>676.9913330078125</td><td>False</td><td>1985.6926621638106</td><td>352.52901736278415</td><td>2.9659557</td><td>6.339296</td><td>1.3160065</td><td>True</td><td>False</td><td>False</td><td>False</td><td>False</td><td>False</td><td>False</td><td>False</td><td>False</td><td>True</td><td>1.1211176904801952</td><td>1.1211176904801952</td><td>1.1211176904801952</td><td>0.0</td><td>0.0</td><td>0.0</td><td>False</td><td>False</td><td>False</td><td>0.9883965817792619</td><td>0.9883965817792619</td><td>0.0</td><td>0.0</td><td>False</td><td>False</td><td>1.0423530094148048</td><td>0.0</td><td>False</td><td>nan</td><td>True</td><td>459</td><td>False</td><td>False</td><td>False</td></tr>\n",
       "<tr><td>33447624753286204</td><td>5.924124191803622</td><td>0.020201172680391306</td><td>33447624753285130</td><td>False</td><td>False</td><td>False</td><td>False</td><td>0</td><td>False</td><td>nan</td><td>nan</td><td>nan</td><td>False</td><td>False</td><td>False</td><td>False</td><td>False</td><td>False</td><td>False</td><td>False</td><td>177.9965764937842</td><td>4144.183862269078</td><td>False</td><td>False</td><td>False</td><td>False</td><td>178.05447227317939</td><td>178.05447227317939</td><td>4144.254868961413</td><td>4144.254868961413</td><td>0.6349009</td><td>0.6349009</td><td>0.40091047</td><td>0.40091047</td><td>False</td><td>False</td><td>False</td><td>False</td><td>False</td><td>False</td><td>False</td><td>False</td><td>False</td><td>False</td><td>False</td><td>False</td><td>False</td><td>False</td><td>False</td><td>False</td><td>False</td><td>False</td><td>False</td><td>False</td><td>False</td><td>False</td><td>False</td><td>False</td><td>False</td><td>False</td><td>False</td><td>False</td><td>False</td><td>False</td><td>False</td><td>False</td><td>False</td><td>False</td><td>False</td><td>False</td><td>False</td><td>False</td><td>False</td><td>False</td><td>False</td><td>False</td><td>False</td><td>False</td><td>False</td><td>False</td><td>False</td><td>False</td><td>False</td><td>False</td><td>False</td><td>False</td><td>False</td><td>False</td><td>False</td><td>False</td><td>False</td><td>False</td><td>False</td><td>False</td><td>False</td><td>False</td><td>False</td><td>False</td><td>False</td><td>False</td><td>False</td><td>False</td><td>False</td><td>False</td><td>False</td><td>False</td><td>False</td><td>False</td><td>False</td><td>False</td><td>False</td><td>False</td><td>False</td><td>False</td><td>False</td><td>False</td><td>False</td><td>False</td><td>False</td><td>False</td><td>False</td><td>False</td><td>False</td><td>False</td><td>False</td><td>False</td><td>False</td><td>False</td><td>False</td><td>False</td><td>False</td><td>False</td><td>0.01680837868511444</td><td>0.02166506570062887</td><td>373.6343168334963</td><td>381.90838713233967</td><td>0.013332106117472486</td><td>369.2700646024481</td><td>374.2597351063835</td><td>0.6140013014867203</td><td>2.3468304851376685</td><td>0.886076401895579</td><td>0.6883385923542307</td><td>2.4859527374400847</td><td>0.9906684968517726</td><td>0.6803318048990649</td><td>2.5549250698125867</td><td>0.9869414920282975</td><td>0.6906704187833044</td><td>2.6104401705989515</td><td>1.0106730626950375</td><td>False</td><td>False</td><td>False</td><td>50.96337823379868</td><td>-65.19694028027565</td><td>False</td><td>False</td><td>0.9867433260989117</td><td>False</td><td>4.643546248139811</td><td>1.8934155435980975</td><td>1.2622821422961457</td><td>1.7119457</td><td>0.8401161</td><td>0.69804937</td><td>178.0279441717757</td><td>4144.191464829954</td><td>1170.02611330105</td><td>215.67794991348828</td><td>1.0726469396387055</td><td>1.1357253260246738</td><td>-0.05179084177853314</td><td>-184.61446</td><td>-50.184822</td><td>-75.276924</td><td>False</td><td>False</td><td>False</td><td>False</td><td>False</td><td>False</td><td>-0.0007716499315701473</td><td>-0.0007716499315701473</td><td>0.0004703305661750739</td><td>0.0004703305661750739</td><td>1.0733194217337316</td><td>1.0733194217337316</td><td>1.1366785569718048</td><td>1.1366785569718048</td><td>-0.051923494663150126</td><td>-0.051923494663150126</td><td>False</td><td>False</td><td>False</td><td>False</td><td>False</td><td>False</td><td>False</td><td>False</td><td>-1.4265618324279785</td><td>1.6517196893692017</td><td>1.2560182809829712</td><td>0.3628142774105072</td><td>False</td><td>False</td><td>False</td><td>False</td><td>False</td><td>176.36899612590855</td><td>176.36899612590855</td><td>4143.0874459405595</td><td>4143.0874459405595</td><td>0.6723487293289586</td><td>0.6723487293289586</td><td>2.84691842958519</td><td>2.84691842958519</td><td>1.1854839773337558</td><td>1.1854839773337558</td><td>False</td><td>False</td><td>False</td><td>False</td><td>False</td><td>False</td><td>False</td><td>False</td><td>False</td><td>False</td><td>False</td><td>False</td><td>176.20999204435313</td><td>176.20999204435313</td><td>4143.048152715843</td><td>4143.048152715843</td><td>1.0728500773512044</td><td>1.0728500773512044</td><td>2.5575816939812976</td><td>2.5575816939812976</td><td>0.30176266406779634</td><td>0.30176266406779634</td><td>False</td><td>False</td><td>False</td><td>False</td><td>False</td><td>False</td><td>False</td><td>False</td><td>511.00922</td><td>511.00922</td><td>920.3787231445312</td><td>135.1457061767578</td><td>False</td><td>False</td><td>False</td><td>1159.9119873046875</td><td>202.96315002441406</td><td>False</td><td>False</td><td>False</td><td>1327.7032470703125</td><td>272.1128845214844</td><td>False</td><td>False</td><td>False</td><td>2195.381103515625</td><td>410.6264343261719</td><td>False</td><td>False</td><td>False</td><td>2440.7822265625</td><td>2440.7822265625</td><td>2440.7822265625</td><td>579.3438110351562</td><td>579.3438110351562</td><td>579.3438110351562</td><td>False</td><td>False</td><td>False</td><td>False</td><td>False</td><td>False</td><td>False</td><td>False</td><td>False</td><td>-2100.5274314284325</td><td>972.2222834918291</td><td>False</td><td>False</td><td>-18690.296160787344</td><td>1603.7330859320343</td><td>False</td><td>False</td><td>nan</td><td>nan</td><td>True</td><td>True</td><td>nan</td><td>nan</td><td>True</td><td>True</td><td>nan</td><td>nan</td><td>True</td><td>True</td><td>426.1313836743646</td><td>426.1313836743646</td><td>426.1313836743646</td><td>88.10846468927592</td><td>88.10846468927592</td><td>88.10846468927592</td><td>False</td><td>False</td><td>False</td><td>-0.2429060013411372</td><td>29.245042768490777</td><td>False</td><td>False</td><td>False</td><td>False</td><td>0.15099758602010033</td><td>0.0</td><td>False</td><td>-2.754086142372046e-09</td><td>-8.084993758618012e-07</td><td>-8.096495711907316e-07</td><td>-2.418337072549555e-09</td><td>False</td><td>False</td><td>False</td><td>True</td><td>True</td><td>False</td><td>False</td><td>True</td><td>True</td><td>True</td><td>False</td><td>False</td><td>752.4164164728172</td><td>752.4164164728172</td><td>108.86079450651503</td><td>108.86079450651503</td><td>17.706326</td><td>17.706326</td><td>False</td><td>False</td><td>False</td><td>False</td><td>False</td><td>False</td><td>False</td><td>678.1763916015625</td><td>False</td><td>1396.3680197418892</td><td>399.703806126736</td><td>2.92689</td><td>5.067308</td><td>1.3159907</td><td>False</td><td>False</td><td>False</td><td>False</td><td>False</td><td>False</td><td>False</td><td>False</td><td>False</td><td>False</td><td>1.1205105651532699</td><td>1.1205105651532699</td><td>1.1205105651532699</td><td>0.0</td><td>0.0</td><td>0.0</td><td>False</td><td>False</td><td>False</td><td>0.988399423366424</td><td>0.988399423366424</td><td>0.0</td><td>0.0</td><td>False</td><td>False</td><td>1.0418725410215077</td><td>0.0</td><td>False</td><td>0.0</td><td>False</td><td>29</td><td>False</td><td>False</td><td>False</td></tr>\n",
       "<tr><td>33447624753286205</td><td>5.924143591601224</td><td>0.020201225009171025</td><td>33447624753285130</td><td>False</td><td>False</td><td>False</td><td>False</td><td>0</td><td>False</td><td>nan</td><td>nan</td><td>nan</td><td>False</td><td>False</td><td>False</td><td>False</td><td>False</td><td>False</td><td>False</td><td>False</td><td>177.98955373347616</td><td>4120.019807720498</td><td>False</td><td>False</td><td>False</td><td>False</td><td>178.0608806184855</td><td>178.0608806184855</td><td>4120.378964676959</td><td>4120.378964676959</td><td>0.34342936</td><td>0.34342936</td><td>0.45513982</td><td>0.45513982</td><td>False</td><td>False</td><td>False</td><td>False</td><td>False</td><td>False</td><td>False</td><td>False</td><td>False</td><td>False</td><td>False</td><td>False</td><td>False</td><td>False</td><td>False</td><td>False</td><td>False</td><td>False</td><td>False</td><td>False</td><td>False</td><td>False</td><td>False</td><td>False</td><td>False</td><td>False</td><td>False</td><td>False</td><td>False</td><td>False</td><td>False</td><td>False</td><td>False</td><td>False</td><td>False</td><td>False</td><td>False</td><td>False</td><td>False</td><td>False</td><td>False</td><td>False</td><td>False</td><td>False</td><td>False</td><td>False</td><td>False</td><td>False</td><td>False</td><td>False</td><td>False</td><td>False</td><td>False</td><td>False</td><td>False</td><td>False</td><td>False</td><td>False</td><td>False</td><td>False</td><td>False</td><td>False</td><td>False</td><td>False</td><td>False</td><td>False</td><td>False</td><td>False</td><td>False</td><td>False</td><td>False</td><td>False</td><td>False</td><td>False</td><td>False</td><td>False</td><td>False</td><td>False</td><td>False</td><td>False</td><td>False</td><td>False</td><td>False</td><td>False</td><td>False</td><td>False</td><td>False</td><td>False</td><td>False</td><td>False</td><td>False</td><td>False</td><td>False</td><td>False</td><td>False</td><td>False</td><td>False</td><td>False</td><td>0.4626682696019356</td><td>nan</td><td>nan</td><td>nan</td><td>nan</td><td>nan</td><td>nan</td><td>nan</td><td>nan</td><td>nan</td><td>nan</td><td>nan</td><td>nan</td><td>nan</td><td>nan</td><td>nan</td><td>nan</td><td>nan</td><td>nan</td><td>True</td><td>False</td><td>True</td><td>50.963524147654994</td><td>-65.55507882771823</td><td>False</td><td>False</td><td>0.986654553314948</td><td>False</td><td>3.4752466597499367</td><td>133.7697981030751</td><td>1.6751730888511525</td><td>0.81255174</td><td>3.5754364</td><td>31.27688</td><td>178.132112639396</td><td>4118.990876613836</td><td>5218.470086973445</td><td>610.0684803077672</td><td>1.07315729748702</td><td>1.1360901053503845</td><td>-0.051853967671009346</td><td>-247.8561</td><td>-119.47407</td><td>-9540.52</td><td>True</td><td>False</td><td>False</td><td>True</td><td>False</td><td>False</td><td>-0.0007597265173874413</td><td>-0.0007597265173874413</td><td>0.00046038443036685727</td><td>0.00046038443036685727</td><td>1.0738045352415508</td><td>1.0738045352415508</td><td>1.1370337352496303</td><td>1.1370337352496303</td><td>-0.051979376794594814</td><td>-0.051979376794594814</td><td>False</td><td>False</td><td>False</td><td>False</td><td>False</td><td>False</td><td>False</td><td>False</td><td>nan</td><td>nan</td><td>nan</td><td>nan</td><td>True</td><td>False</td><td>False</td><td>False</td><td>True</td><td>nan</td><td>nan</td><td>nan</td><td>nan</td><td>nan</td><td>nan</td><td>nan</td><td>nan</td><td>nan</td><td>nan</td><td>True</td><td>True</td><td>True</td><td>False</td><td>False</td><td>False</td><td>False</td><td>False</td><td>False</td><td>False</td><td>False</td><td>False</td><td>176.32836697571963</td><td>176.32836697571963</td><td>4122.050663877952</td><td>4122.050663877952</td><td>1.179090200958161</td><td>1.179090200958161</td><td>2.948323744610448</td><td>2.948323744610448</td><td>-0.07002236927130143</td><td>-0.07002236927130143</td><td>False</td><td>False</td><td>False</td><td>False</td><td>False</td><td>False</td><td>False</td><td>False</td><td>539.4524</td><td>539.4524</td><td>985.9028930664062</td><td>135.3697052001953</td><td>False</td><td>False</td><td>False</td><td>1451.8790283203125</td><td>203.34352111816406</td><td>False</td><td>False</td><td>False</td><td>1843.2933349609375</td><td>272.5091552734375</td><td>False</td><td>False</td><td>False</td><td>2663.311279296875</td><td>410.9226379394531</td><td>False</td><td>False</td><td>False</td><td>3246.207275390625</td><td>3246.207275390625</td><td>3246.207275390625</td><td>549.410400390625</td><td>549.410400390625</td><td>549.410400390625</td><td>False</td><td>False</td><td>False</td><td>False</td><td>False</td><td>False</td><td>False</td><td>False</td><td>False</td><td>3866.6463316977024</td><td>784.2877112707383</td><td>False</td><td>False</td><td>1663.4061453044415</td><td>1151.5912623877928</td><td>False</td><td>False</td><td>-3176.396858483553</td><td>1618.6892674380229</td><td>False</td><td>False</td><td>-53747.26849755645</td><td>2714.2196140252136</td><td>False</td><td>False</td><td>nan</td><td>nan</td><td>True</td><td>True</td><td>nan</td><td>nan</td><td>nan</td><td>nan</td><td>nan</td><td>nan</td><td>True</td><td>True</td><td>True</td><td>0.771747110342537</td><td>28.662416437002268</td><td>False</td><td>False</td><td>False</td><td>False</td><td>0.15099758602010033</td><td>0.0</td><td>False</td><td>-2.7686918920854193e-09</td><td>-8.084449986364071e-07</td><td>-8.096312610442391e-07</td><td>-2.432164974735862e-09</td><td>False</td><td>False</td><td>False</td><td>True</td><td>True</td><td>False</td><td>False</td><td>True</td><td>True</td><td>True</td><td>False</td><td>False</td><td>738.6103000501892</td><td>738.6103000501892</td><td>108.98151500530123</td><td>108.98151500530123</td><td>17.737846</td><td>17.737846</td><td>False</td><td>False</td><td>False</td><td>False</td><td>False</td><td>False</td><td>True</td><td>nan</td><td>True</td><td>2271.157223160228</td><td>351.08256790300857</td><td>2.9578583</td><td>6.339296</td><td>1.3162391</td><td>True</td><td>False</td><td>False</td><td>False</td><td>False</td><td>False</td><td>False</td><td>False</td><td>False</td><td>True</td><td>1.121074152465899</td><td>1.121074152465899</td><td>1.121074152465899</td><td>0.0</td><td>0.0</td><td>0.0</td><td>False</td><td>False</td><td>False</td><td>0.9886093391347299</td><td>0.9886093391347299</td><td>0.0</td><td>0.0</td><td>False</td><td>False</td><td>1.0423808326313424</td><td>0.0</td><td>False</td><td>nan</td><td>True</td><td>211</td><td>False</td><td>False</td><td>False</td></tr>\n",
       "<tr><td>33447624753286206</td><td>5.924159788232614</td><td>0.02019427233344127</td><td>33447624753285130</td><td>False</td><td>False</td><td>False</td><td>False</td><td>0</td><td>True</td><td>187.0</td><td>4100.0</td><td>683.979506161586</td><td>False</td><td>False</td><td>False</td><td>False</td><td>False</td><td>False</td><td>False</td><td>False</td><td>186.32128737828683</td><td>4099.969193329534</td><td>False</td><td>False</td><td>False</td><td>False</td><td>186.66701855589588</td><td>186.66701855589588</td><td>4100.4155719494</td><td>4100.4155719494</td><td>0.2707396</td><td>0.2707396</td><td>0.31801298</td><td>0.31801298</td><td>False</td><td>False</td><td>False</td><td>False</td><td>False</td><td>False</td><td>False</td><td>False</td><td>False</td><td>False</td><td>False</td><td>False</td><td>False</td><td>False</td><td>False</td><td>False</td><td>False</td><td>False</td><td>False</td><td>False</td><td>False</td><td>False</td><td>False</td><td>False</td><td>False</td><td>False</td><td>False</td><td>False</td><td>False</td><td>False</td><td>False</td><td>False</td><td>False</td><td>False</td><td>False</td><td>False</td><td>False</td><td>False</td><td>False</td><td>False</td><td>False</td><td>False</td><td>False</td><td>False</td><td>False</td><td>False</td><td>False</td><td>False</td><td>False</td><td>False</td><td>False</td><td>False</td><td>False</td><td>False</td><td>False</td><td>False</td><td>False</td><td>False</td><td>False</td><td>False</td><td>False</td><td>False</td><td>False</td><td>False</td><td>False</td><td>False</td><td>False</td><td>False</td><td>False</td><td>False</td><td>False</td><td>False</td><td>False</td><td>False</td><td>False</td><td>False</td><td>False</td><td>False</td><td>False</td><td>False</td><td>False</td><td>False</td><td>False</td><td>False</td><td>False</td><td>False</td><td>False</td><td>False</td><td>False</td><td>False</td><td>False</td><td>False</td><td>False</td><td>False</td><td>False</td><td>False</td><td>False</td><td>False</td><td>0.20175893798624261</td><td>nan</td><td>nan</td><td>nan</td><td>nan</td><td>nan</td><td>nan</td><td>nan</td><td>nan</td><td>nan</td><td>nan</td><td>nan</td><td>nan</td><td>nan</td><td>nan</td><td>nan</td><td>nan</td><td>nan</td><td>nan</td><td>True</td><td>False</td><td>True</td><td>51.092657845344284</td><td>-65.85451176926676</td><td>False</td><td>False</td><td>0.9865550962056622</td><td>False</td><td>nan</td><td>nan</td><td>nan</td><td>nan</td><td>nan</td><td>nan</td><td>185.3820345909249</td><td>4095.3986447179436</td><td>nan</td><td>nan</td><td>1.073832451753926</td><td>1.1359985049638808</td><td>-0.05222888013497237</td><td>nan</td><td>nan</td><td>nan</td><td>True</td><td>True</td><td>False</td><td>True</td><td>True</td><td>False</td><td>-0.0007412753439331394</td><td>-0.0007412753439331394</td><td>0.0004277218819166699</td><td>0.0004277218819166699</td><td>1.0744484316143752</td><td>1.0744484316143752</td><td>1.1368085697815862</td><td>1.1368085697815862</td><td>-0.05240547450940771</td><td>-0.05240547450940771</td><td>False</td><td>False</td><td>False</td><td>False</td><td>False</td><td>False</td><td>False</td><td>False</td><td>nan</td><td>nan</td><td>nan</td><td>nan</td><td>True</td><td>False</td><td>False</td><td>False</td><td>True</td><td>nan</td><td>nan</td><td>nan</td><td>nan</td><td>nan</td><td>nan</td><td>nan</td><td>nan</td><td>nan</td><td>nan</td><td>True</td><td>True</td><td>True</td><td>False</td><td>False</td><td>False</td><td>False</td><td>False</td><td>False</td><td>False</td><td>False</td><td>False</td><td>188.0376738368866</td><td>188.0376738368866</td><td>4102.467415076053</td><td>4102.467415076053</td><td>2.7690558605976596</td><td>2.7690558605976596</td><td>4.330455463296091</td><td>4.330455463296091</td><td>-0.23196636269604115</td><td>-0.23196636269604115</td><td>False</td><td>False</td><td>False</td><td>False</td><td>False</td><td>False</td><td>False</td><td>False</td><td>477.18692</td><td>477.18692</td><td>759.0540161132812</td><td>135.433837890625</td><td>False</td><td>False</td><td>False</td><td>1425.1075439453125</td><td>202.8999481201172</td><td>False</td><td>False</td><td>False</td><td>2149.87841796875</td><td>272.1321105957031</td><td>False</td><td>False</td><td>False</td><td>3075.123291015625</td><td>410.5340881347656</td><td>False</td><td>False</td><td>False</td><td>4382.69580078125</td><td>4382.69580078125</td><td>4382.69580078125</td><td>548.9010009765625</td><td>548.9010009765625</td><td>548.9010009765625</td><td>False</td><td>False</td><td>False</td><td>False</td><td>False</td><td>False</td><td>False</td><td>False</td><td>False</td><td>6345.314521073829</td><td>785.1993429561126</td><td>False</td><td>False</td><td>7302.109884810103</td><td>1153.469889670707</td><td>False</td><td>False</td><td>965.402289640559</td><td>1613.316252022686</td><td>False</td><td>False</td><td>-10129.773859668123</td><td>2303.0965012520837</td><td>False</td><td>False</td><td>-61667.74578298961</td><td>3588.501762288716</td><td>False</td><td>False</td><td>nan</td><td>nan</td><td>nan</td><td>nan</td><td>nan</td><td>nan</td><td>True</td><td>True</td><td>True</td><td>1.2607811137798135</td><td>22.305513991521252</td><td>False</td><td>False</td><td>False</td><td>False</td><td>0.15099758602010033</td><td>0.0</td><td>False</td><td>-2.7876920817644007e-09</td><td>-8.083941475155369e-07</td><td>-8.096006990413079e-07</td><td>-2.4503614249126293e-09</td><td>False</td><td>False</td><td>False</td><td>True</td><td>True</td><td>False</td><td>False</td><td>True</td><td>True</td><td>True</td><td>False</td><td>False</td><td>751.4337558746356</td><td>751.4337558746356</td><td>108.51855155730291</td><td>108.51855155730291</td><td>17.773876</td><td>17.773876</td><td>False</td><td>False</td><td>False</td><td>False</td><td>False</td><td>False</td><td>True</td><td>nan</td><td>True</td><td>3134.7886217284017</td><td>427.8972352917092</td><td>3.5967922</td><td>6.339296</td><td>1.3163584</td><td>True</td><td>False</td><td>False</td><td>False</td><td>False</td><td>False</td><td>False</td><td>False</td><td>False</td><td>True</td><td>1.1220491559323396</td><td>1.1220491559323396</td><td>1.1220491559323396</td><td>0.0</td><td>0.0</td><td>0.0</td><td>False</td><td>False</td><td>False</td><td>0.9886898568199403</td><td>0.9886898568199403</td><td>0.0</td><td>0.0</td><td>False</td><td>False</td><td>1.0431769048989172</td><td>0.0</td><td>False</td><td>nan</td><td>True</td><td>342</td><td>False</td><td>False</td><td>False</td></tr>\n",
       "<tr><td>33447624753286207</td><td>5.924136515976112</td><td>0.02019797426583331</td><td>33447624753285130</td><td>False</td><td>False</td><td>False</td><td>False</td><td>0</td><td>True</td><td>182.0</td><td>4129.0</td><td>173.01008138796615</td><td>False</td><td>False</td><td>False</td><td>False</td><td>False</td><td>False</td><td>False</td><td>False</td><td>181.97232747904397</td><td>4128.998524801783</td><td>False</td><td>False</td><td>False</td><td>False</td><td>182.030997676561</td><td>182.030997676561</td><td>4129.074392173995</td><td>4129.074392173995</td><td>0.62607497</td><td>0.62607497</td><td>1.1022718</td><td>1.1022718</td><td>False</td><td>False</td><td>False</td><td>False</td><td>False</td><td>False</td><td>False</td><td>False</td><td>False</td><td>False</td><td>False</td><td>False</td><td>False</td><td>False</td><td>False</td><td>False</td><td>False</td><td>False</td><td>False</td><td>False</td><td>False</td><td>False</td><td>False</td><td>False</td><td>False</td><td>False</td><td>False</td><td>False</td><td>False</td><td>False</td><td>False</td><td>False</td><td>False</td><td>False</td><td>False</td><td>False</td><td>False</td><td>False</td><td>False</td><td>False</td><td>False</td><td>False</td><td>False</td><td>False</td><td>False</td><td>False</td><td>False</td><td>False</td><td>False</td><td>False</td><td>False</td><td>False</td><td>False</td><td>False</td><td>False</td><td>False</td><td>False</td><td>False</td><td>False</td><td>False</td><td>False</td><td>False</td><td>False</td><td>False</td><td>False</td><td>False</td><td>False</td><td>False</td><td>False</td><td>False</td><td>False</td><td>False</td><td>False</td><td>False</td><td>False</td><td>False</td><td>False</td><td>False</td><td>False</td><td>False</td><td>False</td><td>False</td><td>False</td><td>False</td><td>False</td><td>False</td><td>False</td><td>False</td><td>False</td><td>False</td><td>False</td><td>False</td><td>False</td><td>False</td><td>False</td><td>False</td><td>False</td><td>False</td><td>0.6845075148023824</td><td>nan</td><td>nan</td><td>nan</td><td>nan</td><td>nan</td><td>nan</td><td>nan</td><td>nan</td><td>nan</td><td>nan</td><td>nan</td><td>nan</td><td>nan</td><td>nan</td><td>nan</td><td>nan</td><td>nan</td><td>nan</td><td>True</td><td>False</td><td>True</td><td>51.023057770283025</td><td>-65.4246391375957</td><td>False</td><td>False</td><td>0.9866754703043045</td><td>False</td><td>1.6283621907958936</td><td>19.91688022285731</td><td>0.24787319049690576</td><td>0.8108837</td><td>2.0071957</td><td>9.918109</td><td>182.05492450066282</td><td>4128.177349300687</td><td>1254.4669235907704</td><td>312.3465889333055</td><td>1.0730817751409059</td><td>1.1357194212243387</td><td>-0.05200457525995074</td><td>-126.63838</td><td>-19.277197</td><td>-1548.9437</td><td>False</td><td>False</td><td>False</td><td>False</td><td>False</td><td>False</td><td>-0.0007601375941554668</td><td>-0.0007601375941554668</td><td>0.000452730927155649</td><td>0.000452730927155649</td><td>1.0737392251853672</td><td>1.0737392251853672</td><td>1.136664745534679</td><td>1.136664745534679</td><td>-0.052133532690201025</td><td>-0.052133532690201025</td><td>False</td><td>False</td><td>False</td><td>False</td><td>False</td><td>False</td><td>False</td><td>False</td><td>nan</td><td>nan</td><td>nan</td><td>nan</td><td>True</td><td>False</td><td>False</td><td>False</td><td>True</td><td>nan</td><td>nan</td><td>nan</td><td>nan</td><td>nan</td><td>nan</td><td>nan</td><td>nan</td><td>nan</td><td>nan</td><td>True</td><td>True</td><td>True</td><td>False</td><td>False</td><td>False</td><td>False</td><td>False</td><td>False</td><td>False</td><td>False</td><td>False</td><td>188.1922449527774</td><td>188.1922449527774</td><td>4130.782193690492</td><td>4130.782193690492</td><td>0.38343232138816424</td><td>0.38343232138816424</td><td>0.860772092388805</td><td>0.860772092388805</td><td>0.006291062915581124</td><td>0.006291062915581124</td><td>False</td><td>False</td><td>False</td><td>False</td><td>False</td><td>False</td><td>False</td><td>False</td><td>297.37683</td><td>297.37683</td><td>638.3963623046875</td><td>134.93084716796875</td><td>False</td><td>False</td><td>False</td><td>733.0829467773438</td><td>203.40194702148438</td><td>False</td><td>False</td><td>False</td><td>946.365478515625</td><td>272.6491394042969</td><td>False</td><td>False</td><td>False</td><td>1899.823974609375</td><td>411.1993408203125</td><td>False</td><td>False</td><td>False</td><td>2187.058837890625</td><td>2187.058837890625</td><td>2187.058837890625</td><td>549.303466796875</td><td>549.303466796875</td><td>549.303466796875</td><td>False</td><td>False</td><td>False</td><td>False</td><td>False</td><td>False</td><td>False</td><td>False</td><td>False</td><td>2021.7381343154702</td><td>779.8722357159071</td><td>False</td><td>False</td><td>-127.03947705325027</td><td>1149.8643051099618</td><td>False</td><td>False</td><td>-18344.68969300684</td><td>1847.0067492631777</td><td>False</td><td>False</td><td>nan</td><td>nan</td><td>True</td><td>True</td><td>nan</td><td>nan</td><td>True</td><td>True</td><td>nan</td><td>nan</td><td>nan</td><td>nan</td><td>nan</td><td>nan</td><td>True</td><td>True</td><td>True</td><td>0.3357134289726466</td><td>23.79361797170536</td><td>False</td><td>False</td><td>False</td><td>False</td><td>0.15099758602010033</td><td>0.0</td><td>False</td><td>-2.7664867965845223e-09</td><td>-8.084624459233597e-07</td><td>-8.096309334664796e-07</td><td>-2.4301760328797212e-09</td><td>False</td><td>False</td><td>False</td><td>True</td><td>True</td><td>False</td><td>False</td><td>True</td><td>True</td><td>True</td><td>False</td><td>True</td><td>528.3648484738184</td><td>528.3648484738184</td><td>108.65474062037786</td><td>108.65474062037786</td><td>17.73592</td><td>17.73592</td><td>False</td><td>False</td><td>False</td><td>False</td><td>False</td><td>False</td><td>True</td><td>nan</td><td>True</td><td>1772.5379070349577</td><td>389.8439892740161</td><td>3.2778134</td><td>6.339296</td><td>1.3161086</td><td>True</td><td>False</td><td>False</td><td>False</td><td>False</td><td>False</td><td>False</td><td>False</td><td>False</td><td>True</td><td>1.1211051508311785</td><td>1.1211051508311785</td><td>1.1211051508311785</td><td>0.0</td><td>0.0</td><td>0.0</td><td>False</td><td>False</td><td>False</td><td>0.9884898944839124</td><td>0.9884898944839124</td><td>0.0</td><td>0.0</td><td>False</td><td>False</td><td>1.0423704120953343</td><td>0.0</td><td>False</td><td>nan</td><td>True</td><td>580</td><td>False</td><td>False</td><td>False</td></tr>\n",
       "<tr><td>33447624753286208</td><td>5.9241567593019155</td><td>0.020140307931197244</td><td>33447624753285131</td><td>False</td><td>False</td><td>False</td><td>False</td><td>0</td><td>True</td><td>253.0</td><td>4104.0</td><td>763.7888058178341</td><td>False</td><td>False</td><td>False</td><td>False</td><td>False</td><td>False</td><td>False</td><td>False</td><td>252.20205853164242</td><td>4103.694104863769</td><td>False</td><td>False</td><td>False</td><td>False</td><td>252.99805495514434</td><td>252.99805495514434</td><td>4103.921329717886</td><td>4103.921329717886</td><td>0.54166013</td><td>0.54166013</td><td>0.30648318</td><td>0.30648318</td><td>False</td><td>False</td><td>False</td><td>False</td><td>False</td><td>False</td><td>False</td><td>False</td><td>False</td><td>False</td><td>False</td><td>False</td><td>False</td><td>False</td><td>False</td><td>False</td><td>False</td><td>False</td><td>False</td><td>False</td><td>False</td><td>False</td><td>False</td><td>False</td><td>False</td><td>False</td><td>False</td><td>False</td><td>False</td><td>False</td><td>False</td><td>False</td><td>False</td><td>False</td><td>False</td><td>False</td><td>False</td><td>False</td><td>False</td><td>False</td><td>False</td><td>False</td><td>False</td><td>False</td><td>False</td><td>False</td><td>False</td><td>False</td><td>False</td><td>False</td><td>False</td><td>False</td><td>False</td><td>False</td><td>False</td><td>False</td><td>False</td><td>False</td><td>False</td><td>False</td><td>False</td><td>False</td><td>False</td><td>False</td><td>False</td><td>False</td><td>False</td><td>False</td><td>False</td><td>False</td><td>False</td><td>False</td><td>False</td><td>False</td><td>False</td><td>False</td><td>False</td><td>False</td><td>False</td><td>False</td><td>False</td><td>False</td><td>False</td><td>False</td><td>False</td><td>False</td><td>False</td><td>False</td><td>False</td><td>False</td><td>False</td><td>False</td><td>False</td><td>False</td><td>False</td><td>False</td><td>False</td><td>False</td><td>0.059295621746483756</td><td>0.019521711419433707</td><td>889.2280356978995</td><td>906.9329184078422</td><td>0.02391689292531829</td><td>899.4821293180447</td><td>921.5220740924306</td><td>2.9754791792219875</td><td>0.678957430812981</td><td>-0.5033456101641244</td><td>3.186199184490999</td><td>0.7090054171970879</td><td>-0.5808833834432617</td><td>3.1194098261869074</td><td>0.723217176286488</td><td>-0.5622716898956074</td><td>3.4090863994682334</td><td>0.7600166904054694</td><td>-0.6562616823510085</td><td>False</td><td>False</td><td>False</td><td>52.087616071124245</td><td>-65.80178708243056</td><td>False</td><td>False</td><td>0.9863744068241296</td><td>False</td><td>2.894175243659145</td><td>0.7028625510067821</td><td>-0.4623916226947097</td><td>0.97417027</td><td>0.35685724</td><td>0.23658133</td><td>252.9877124775406</td><td>4103.839190840496</td><td>912.5520593899416</td><td>153.58108667055907</td><td>1.075556314067644</td><td>1.131873976207515</td><td>-0.05512443949950266</td><td>-74.80707</td><td>11.951648</td><td>-18.167208</td><td>False</td><td>False</td><td>False</td><td>False</td><td>False</td><td>False</td><td>-0.0006817920723446463</td><td>-0.0006817920723446463</td><td>0.00024755115749847313</td><td>0.00024755115749847313</td><td>1.0762423460513713</td><td>1.0762423460513713</td><td>1.132808184464361</td><td>1.132808184464361</td><td>-0.055262658406150106</td><td>-0.055262658406150106</td><td>False</td><td>False</td><td>False</td><td>False</td><td>False</td><td>False</td><td>False</td><td>False</td><td>1.2925169467926025</td><td>-0.5587201118469238</td><td>0.6585226655006409</td><td>0.3842571973800659</td><td>False</td><td>False</td><td>False</td><td>False</td><td>False</td><td>252.98099493370398</td><td>252.98099493370398</td><td>4103.752955097624</td><td>4103.752955097624</td><td>2.9806366281646106</td><td>2.9806366281646106</td><td>0.680020423204266</td><td>0.680020423204266</td><td>-0.5515440227415557</td><td>-0.5515440227415557</td><td>False</td><td>False</td><td>False</td><td>False</td><td>False</td><td>False</td><td>False</td><td>False</td><td>False</td><td>False</td><td>False</td><td>False</td><td>253.09007456734736</td><td>253.09007456734736</td><td>4103.846394186258</td><td>4103.846394186258</td><td>2.2582734190786664</td><td>2.2582734190786664</td><td>1.015696677147331</td><td>1.015696677147331</td><td>-0.3295900164089688</td><td>-0.3295900164089688</td><td>False</td><td>False</td><td>False</td><td>False</td><td>False</td><td>False</td><td>False</td><td>False</td><td>884.42645</td><td>884.42645</td><td>935.7329711914062</td><td>135.18157958984375</td><td>False</td><td>False</td><td>False</td><td>1087.4229736328125</td><td>203.6641845703125</td><td>False</td><td>False</td><td>False</td><td>890.3469848632812</td><td>272.8407287597656</td><td>False</td><td>False</td><td>False</td><td>1050.67578125</td><td>411.0948486328125</td><td>False</td><td>False</td><td>False</td><td>885.25927734375</td><td>885.25927734375</td><td>885.25927734375</td><td>549.0663452148438</td><td>549.0663452148438</td><td>549.0663452148438</td><td>False</td><td>False</td><td>False</td><td>False</td><td>False</td><td>False</td><td>False</td><td>False</td><td>False</td><td>421.04838899709284</td><td>779.5197169249197</td><td>False</td><td>False</td><td>-3527.3506081905216</td><td>1149.0679653109335</td><td>False</td><td>False</td><td>-10714.763378879055</td><td>1610.7507512921065</td><td>False</td><td>False</td><td>-24008.758905312046</td><td>2303.9402139509716</td><td>False</td><td>False</td><td>-78472.9021115806</td><td>3702.787494657345</td><td>False</td><td>False</td><td>1012.1696607290683</td><td>1012.1696607290683</td><td>1012.1696607290683</td><td>119.79182767467543</td><td>119.79182767467543</td><td>119.79182767467543</td><td>False</td><td>False</td><td>False</td><td>-0.5133826603382031</td><td>26.641118992878432</td><td>False</td><td>False</td><td>False</td><td>False</td><td>0.15099758602010033</td><td>0.0</td><td>False</td><td>-2.8378246819144626e-09</td><td>-8.083619881115497e-07</td><td>-8.094849532407616e-07</td><td>-2.4994833024928303e-09</td><td>False</td><td>False</td><td>False</td><td>False</td><td>False</td><td>False</td><td>False</td><td>False</td><td>False</td><td>False</td><td>False</td><td>False</td><td>857.6459659647592</td><td>857.6459659647592</td><td>109.80518677066301</td><td>109.80518677066301</td><td>17.883013</td><td>17.883013</td><td>False</td><td>False</td><td>False</td><td>False</td><td>False</td><td>False</td><td>False</td><td>677.42578125</td><td>False</td><td>1532.7644435628613</td><td>343.4306343703372</td><td>2.8864357</td><td>6.8739004</td><td>1.3156673</td><td>False</td><td>False</td><td>False</td><td>False</td><td>False</td><td>False</td><td>False</td><td>False</td><td>False</td><td>False</td><td>1.125775752624107</td><td>1.125775752624107</td><td>1.125775752624107</td><td>0.0</td><td>0.0</td><td>0.0</td><td>False</td><td>False</td><td>False</td><td>0.9879535334445773</td><td>0.9879535334445773</td><td>0.0</td><td>0.0</td><td>False</td><td>False</td><td>1.0459142254531066</td><td>0.0</td><td>False</td><td>1.0</td><td>False</td><td>92</td><td>False</td><td>False</td><td>False</td></tr>\n",
       "<tr><td>33447624753286209</td><td>5.924160130769674</td><td>0.020136397511824576</td><td>33447624753285131</td><td>False</td><td>False</td><td>False</td><td>False</td><td>0</td><td>True</td><td>258.0</td><td>4100.0</td><td>637.5612858872653</td><td>False</td><td>False</td><td>False</td><td>False</td><td>False</td><td>False</td><td>False</td><td>False</td><td>257.2312826193421</td><td>4099.239189765852</td><td>False</td><td>False</td><td>False</td><td>False</td><td>257.81841178908957</td><td>257.81841178908957</td><td>4099.754821279271</td><td>4099.754821279271</td><td>0.2737138</td><td>0.2737138</td><td>0.26604038</td><td>0.26604038</td><td>False</td><td>False</td><td>False</td><td>False</td><td>False</td><td>False</td><td>False</td><td>False</td><td>False</td><td>False</td><td>False</td><td>False</td><td>False</td><td>False</td><td>False</td><td>False</td><td>False</td><td>False</td><td>False</td><td>False</td><td>False</td><td>False</td><td>False</td><td>False</td><td>False</td><td>False</td><td>False</td><td>False</td><td>False</td><td>False</td><td>False</td><td>False</td><td>False</td><td>False</td><td>False</td><td>False</td><td>False</td><td>False</td><td>False</td><td>False</td><td>False</td><td>False</td><td>False</td><td>False</td><td>False</td><td>False</td><td>False</td><td>False</td><td>False</td><td>False</td><td>False</td><td>False</td><td>False</td><td>False</td><td>False</td><td>False</td><td>False</td><td>False</td><td>False</td><td>False</td><td>False</td><td>False</td><td>False</td><td>False</td><td>False</td><td>False</td><td>False</td><td>False</td><td>False</td><td>False</td><td>False</td><td>False</td><td>False</td><td>False</td><td>False</td><td>False</td><td>False</td><td>False</td><td>False</td><td>False</td><td>False</td><td>False</td><td>False</td><td>False</td><td>False</td><td>False</td><td>False</td><td>False</td><td>False</td><td>False</td><td>False</td><td>False</td><td>False</td><td>False</td><td>False</td><td>False</td><td>False</td><td>False</td><td>0.059722660537541834</td><td>0.027291598311587006</td><td>1132.3572651198606</td><td>1164.1281838980021</td><td>0.03189576709397335</td><td>1185.838171148087</td><td>1224.9075366486861</td><td>3.1378093562357208</td><td>1.6833329990526518</td><td>-0.07612345892893842</td><td>3.411899585136796</td><td>1.7951186551116654</td><td>-0.21802749657093778</td><td>3.2899347427667402</td><td>1.9694736279697762</td><td>0.03856371617514844</td><td>3.641387290666058</td><td>2.0876626815411266</td><td>-0.1073287477927313</td><td>False</td><td>False</td><td>False</td><td>52.15993011139916</td><td>-65.86427465646437</td><td>False</td><td>False</td><td>0.986344575737377</td><td>False</td><td>3.3087599781097436</td><td>1.7212573339540511</td><td>-0.08733316766499644</td><td>1.1566831</td><td>0.5903102</td><td>0.6017207</td><td>257.77774062539595</td><td>4099.719016976672</td><td>1173.5370907236575</td><td>205.12375639743468</td><td>1.0757720147190497</td><td>1.1316563654644711</td><td>-0.055336648033710155</td><td>-118.63159</td><td>3.1312253</td><td>-61.7136</td><td>False</td><td>False</td><td>False</td><td>False</td><td>False</td><td>False</td><td>-0.0006755511408453414</td><td>-0.0006755511408453414</td><td>0.0002330397648531207</td><td>0.0002330397648531207</td><td>1.0764608047086521</td><td>1.0764608047086521</td><td>1.1325885186480167</td><td>1.1325885186480167</td><td>-0.05547677235332637</td><td>-0.05547677235332637</td><td>False</td><td>False</td><td>False</td><td>False</td><td>False</td><td>False</td><td>False</td><td>False</td><td>0.8362374901771545</td><td>0.009827288798987865</td><td>0.42202332615852356</td><td>0.4943596124649048</td><td>False</td><td>False</td><td>False</td><td>False</td><td>False</td><td>257.71828380336154</td><td>257.71828380336154</td><td>4099.686898311865</td><td>4099.686898311865</td><td>3.0811129312820995</td><td>3.0811129312820995</td><td>1.6676982908884348</td><td>1.6676982908884348</td><td>-0.06673257248136896</td><td>-0.06673257248136896</td><td>False</td><td>False</td><td>False</td><td>False</td><td>False</td><td>False</td><td>False</td><td>False</td><td>False</td><td>False</td><td>False</td><td>False</td><td>257.6962114082094</td><td>257.6962114082094</td><td>4099.706354765858</td><td>4099.706354765858</td><td>2.5412287654087318</td><td>2.5412287654087318</td><td>2.06818058676988</td><td>2.06818058676988</td><td>0.02281890503913965</td><td>0.02281890503913965</td><td>False</td><td>False</td><td>False</td><td>False</td><td>False</td><td>False</td><td>False</td><td>False</td><td>1140.1208</td><td>1140.1208</td><td>966.1232299804688</td><td>135.9618682861328</td><td>False</td><td>False</td><td>False</td><td>1259.48828125</td><td>203.54327392578125</td><td>False</td><td>False</td><td>False</td><td>1408.134521484375</td><td>272.5679931640625</td><td>False</td><td>False</td><td>False</td><td>1509.0802001953125</td><td>410.8204345703125</td><td>False</td><td>False</td><td>False</td><td>1202.370849609375</td><td>1202.370849609375</td><td>1202.370849609375</td><td>548.7937622070312</td><td>548.7937622070312</td><td>548.7937622070312</td><td>False</td><td>False</td><td>False</td><td>False</td><td>False</td><td>False</td><td>False</td><td>False</td><td>False</td><td>1129.3208487387747</td><td>783.3770028699389</td><td>False</td><td>False</td><td>-2615.6819814089686</td><td>1151.0814808789858</td><td>False</td><td>False</td><td>-8173.401365602389</td><td>1617.5979729863266</td><td>False</td><td>False</td><td>-22125.688753867522</td><td>2306.5894606809666</td><td>False</td><td>False</td><td>-67207.80576562323</td><td>3568.6783263654224</td><td>False</td><td>False</td><td>1287.8417752842636</td><td>1287.8417752842636</td><td>1287.8417752842636</td><td>157.13111083250521</td><td>157.13111083250521</td><td>157.13111083250521</td><td>False</td><td>False</td><td>False</td><td>-0.45063040282146405</td><td>27.08777440731354</td><td>False</td><td>False</td><td>False</td><td>False</td><td>0.15099758602010033</td><td>0.0</td><td>False</td><td>-2.8442326946616276e-09</td><td>-8.083494886793597e-07</td><td>-8.094730447271563e-07</td><td>-2.5056649440853283e-09</td><td>False</td><td>False</td><td>False</td><td>False</td><td>False</td><td>False</td><td>False</td><td>False</td><td>False</td><td>False</td><td>False</td><td>False</td><td>873.6684194633658</td><td>873.6684194633658</td><td>109.77508239033504</td><td>109.77508239033504</td><td>17.872688</td><td>17.872688</td><td>False</td><td>False</td><td>False</td><td>False</td><td>False</td><td>False</td><td>False</td><td>676.430419921875</td><td>False</td><td>1371.1838157667505</td><td>273.5150430984868</td><td>2.3047209</td><td>9.031572</td><td>1.3156637</td><td>False</td><td>False</td><td>False</td><td>False</td><td>False</td><td>False</td><td>False</td><td>False</td><td>False</td><td>False</td><td>1.1261401153902606</td><td>1.1261401153902606</td><td>1.1261401153902606</td><td>0.0</td><td>0.0</td><td>0.0</td><td>False</td><td>False</td><td>False</td><td>0.9879398847067316</td><td>0.9879398847067316</td><td>0.0</td><td>0.0</td><td>False</td><td>False</td><td>1.046198750619833</td><td>0.0</td><td>False</td><td>1.0</td><td>False</td><td>92</td><td>False</td><td>False</td><td>False</td></tr>\n",
       "<tr><td>33447624753286210</td><td>5.924125834394846</td><td>0.020056237987689404</td><td>33447624753285141</td><td>True</td><td>True</td><td>True</td><td>False</td><td>0</td><td>False</td><td>nan</td><td>nan</td><td>nan</td><td>False</td><td>False</td><td>False</td><td>False</td><td>False</td><td>False</td><td>False</td><td>False</td><td>356.14263403970256</td><td>4141.312632335436</td><td>False</td><td>False</td><td>False</td><td>False</td><td>356.25085498371016</td><td>356.25085498371016</td><td>4141.62808307683</td><td>4141.62808307683</td><td>0.0051133255</td><td>0.0051133255</td><td>0.0052671945</td><td>0.0052671945</td><td>False</td><td>False</td><td>False</td><td>False</td><td>False</td><td>False</td><td>False</td><td>False</td><td>False</td><td>False</td><td>False</td><td>False</td><td>False</td><td>False</td><td>False</td><td>False</td><td>False</td><td>False</td><td>False</td><td>False</td><td>False</td><td>False</td><td>False</td><td>False</td><td>False</td><td>False</td><td>False</td><td>False</td><td>False</td><td>False</td><td>False</td><td>False</td><td>False</td><td>False</td><td>False</td><td>False</td><td>False</td><td>False</td><td>False</td><td>False</td><td>False</td><td>False</td><td>False</td><td>False</td><td>False</td><td>False</td><td>False</td><td>False</td><td>False</td><td>False</td><td>False</td><td>False</td><td>False</td><td>False</td><td>False</td><td>False</td><td>False</td><td>False</td><td>False</td><td>False</td><td>False</td><td>False</td><td>False</td><td>False</td><td>False</td><td>False</td><td>False</td><td>False</td><td>False</td><td>False</td><td>False</td><td>False</td><td>False</td><td>False</td><td>False</td><td>False</td><td>False</td><td>False</td><td>False</td><td>False</td><td>False</td><td>False</td><td>False</td><td>False</td><td>False</td><td>False</td><td>False</td><td>False</td><td>False</td><td>False</td><td>False</td><td>False</td><td>False</td><td>False</td><td>False</td><td>False</td><td>False</td><td>False</td><td>0.000298181052778282</td><td>8.051051287127908e-05</td><td>48721.15411634112</td><td>48725.07699727986</td><td>8.051051287127908e-05</td><td>48721.15411634112</td><td>48725.07699727986</td><td>1.0783051834143087</td><td>1.127780028760345</td><td>-0.05894593769580746</td><td>1.0783087364714867</td><td>1.1288013742219247</td><td>-0.05925821266855336</td><td>1.0783051834143087</td><td>1.127780028760345</td><td>-0.05894593769580746</td><td>1.0783087364714867</td><td>1.1288013742219247</td><td>-0.05925821266855336</td><td>False</td><td>False</td><td>False</td><td>53.63632942629155</td><td>-65.23597047334775</td><td>False</td><td>False</td><td>0.9862056739309131</td><td>False</td><td>1.083244439930317</td><td>1.1322905884718604</td><td>-0.05935966227171318</td><td>0.010452732</td><td>0.007567518</td><td>0.010926002</td><td>356.2509034646191</td><td>4141.628383969531</td><td>49289.43809103964</td><td>237.80843560301622</td><td>1.0778184809908666</td><td>1.1253046327277312</td><td>-0.05937069161199428</td><td>-1.2428739</td><td>0.068107046</td><td>-1.2991477</td><td>False</td><td>False</td><td>False</td><td>False</td><td>False</td><td>False</td><td>-0.0006190673646149006</td><td>-0.0006190673646149006</td><td>-3.167461625675598e-06</td><td>-3.167461625675598e-06</td><td>1.0785105885425947</td><td>1.0785105885425947</td><td>1.1262022778792722</td><td>1.1262022778792722</td><td>-0.05951548764158358</td><td>-0.05951548764158358</td><td>False</td><td>False</td><td>False</td><td>False</td><td>False</td><td>False</td><td>False</td><td>False</td><td>-0.021627889946103096</td><td>-0.09011510759592056</td><td>0.6391503810882568</td><td>0.005850639659911394</td><td>False</td><td>False</td><td>False</td><td>False</td><td>False</td><td>356.25094372260327</td><td>356.25094372260327</td><td>4141.628871967217</td><td>4141.628871967217</td><td>1.083799205147197</td><td>1.083799205147197</td><td>1.1327216981150567</td><td>1.1327216981150567</td><td>-0.05952541884984766</td><td>-0.05952541884984766</td><td>False</td><td>False</td><td>False</td><td>False</td><td>False</td><td>False</td><td>False</td><td>False</td><td>False</td><td>False</td><td>False</td><td>False</td><td>356.2517218922256</td><td>356.2517218922256</td><td>4141.628573812295</td><td>4141.628573812295</td><td>1.0953962645519766</td><td>1.0953962645519766</td><td>1.1198591986703326</td><td>1.1198591986703326</td><td>-0.027827604238106464</td><td>-0.027827604238106464</td><td>False</td><td>False</td><td>False</td><td>False</td><td>False</td><td>False</td><td>False</td><td>False</td><td>49299.527</td><td>49299.527</td><td>49839.66796875</td><td>168.54603576660156</td><td>False</td><td>False</td><td>False</td><td>53407.80078125</td><td>227.9386444091797</td><td>False</td><td>False</td><td>False</td><td>54746.75390625</td><td>291.7234191894531</td><td>False</td><td>False</td><td>False</td><td>55241.3046875</td><td>424.2232666015625</td><td>False</td><td>False</td><td>False</td><td>54878.6875</td><td>54878.6875</td><td>54878.6875</td><td>558.974365234375</td><td>558.974365234375</td><td>558.974365234375</td><td>False</td><td>False</td><td>False</td><td>False</td><td>False</td><td>False</td><td>False</td><td>False</td><td>False</td><td>52155.19711923599</td><td>887.0198068224364</td><td>False</td><td>False</td><td>36923.88070526719</td><td>1509.8503803425383</td><td>False</td><td>False</td><td>nan</td><td>nan</td><td>True</td><td>True</td><td>nan</td><td>nan</td><td>True</td><td>True</td><td>nan</td><td>nan</td><td>True</td><td>True</td><td>55732.32508941994</td><td>55732.32508941994</td><td>55732.32508941994</td><td>181.70411092821823</td><td>181.70411092821823</td><td>181.70411092821823</td><td>False</td><td>False</td><td>False</td><td>-1.0843378024882306</td><td>28.77057010975776</td><td>False</td><td>False</td><td>False</td><td>False</td><td>0.15099758602010033</td><td>0.0</td><td>False</td><td>-2.8949526454164064e-09</td><td>-8.083839457426607e-07</td><td>-8.093249220117923e-07</td><td>-2.5561162903402445e-09</td><td>False</td><td>False</td><td>False</td><td>False</td><td>False</td><td>False</td><td>False</td><td>False</td><td>False</td><td>False</td><td>False</td><td>False</td><td>55547.36589416656</td><td>55547.36589416656</td><td>170.12517005609143</td><td>170.12517005609143</td><td>18.04427</td><td>18.04427</td><td>False</td><td>False</td><td>False</td><td>False</td><td>False</td><td>False</td><td>True</td><td>nan</td><td>True</td><td>55421.74784893124</td><td>219.7669904061636</td><td>1.619065</td><td>6.3111057</td><td>1.3143102</td><td>False</td><td>False</td><td>False</td><td>False</td><td>False</td><td>False</td><td>False</td><td>False</td><td>False</td><td>False</td><td>1.1304669108371077</td><td>1.1304669108371077</td><td>1.1304669108371077</td><td>0.0</td><td>0.0</td><td>0.0</td><td>False</td><td>False</td><td>False</td><td>0.9865550652760791</td><td>0.9865550652760791</td><td>0.0</td><td>0.0</td><td>False</td><td>False</td><td>1.0492255213916186</td><td>0.0</td><td>False</td><td>0.0</td><td>False</td><td>125</td><td>False</td><td>False</td><td>False</td></tr>\n",
       "<tr><td>33447624753286211</td><td>5.924131961886472</td><td>0.02005433948621347</td><td>33447624753285141</td><td>False</td><td>False</td><td>False</td><td>False</td><td>0</td><td>False</td><td>nan</td><td>nan</td><td>nan</td><td>False</td><td>False</td><td>False</td><td>False</td><td>False</td><td>False</td><td>False</td><td>False</td><td>358.1660312533377</td><td>4133.998202299111</td><td>False</td><td>False</td><td>False</td><td>False</td><td>358.60885194147687</td><td>358.60885194147687</td><td>4134.077368041519</td><td>4134.077368041519</td><td>0.11613895</td><td>0.11613895</td><td>0.10006565</td><td>0.10006565</td><td>False</td><td>False</td><td>False</td><td>False</td><td>False</td><td>False</td><td>False</td><td>False</td><td>False</td><td>False</td><td>False</td><td>False</td><td>False</td><td>False</td><td>False</td><td>False</td><td>False</td><td>False</td><td>False</td><td>False</td><td>False</td><td>False</td><td>False</td><td>False</td><td>False</td><td>False</td><td>False</td><td>False</td><td>False</td><td>False</td><td>False</td><td>False</td><td>False</td><td>False</td><td>False</td><td>False</td><td>False</td><td>False</td><td>False</td><td>False</td><td>False</td><td>False</td><td>False</td><td>False</td><td>False</td><td>False</td><td>False</td><td>False</td><td>False</td><td>False</td><td>False</td><td>False</td><td>False</td><td>False</td><td>False</td><td>False</td><td>False</td><td>False</td><td>False</td><td>False</td><td>False</td><td>False</td><td>False</td><td>False</td><td>False</td><td>False</td><td>False</td><td>False</td><td>False</td><td>False</td><td>False</td><td>False</td><td>False</td><td>False</td><td>False</td><td>False</td><td>False</td><td>False</td><td>False</td><td>False</td><td>False</td><td>False</td><td>False</td><td>False</td><td>False</td><td>False</td><td>False</td><td>False</td><td>False</td><td>False</td><td>False</td><td>False</td><td>False</td><td>False</td><td>False</td><td>False</td><td>False</td><td>False</td><td>0.07422947173524584</td><td>0.04946704325091944</td><td>5209.917617567909</td><td>5481.048900593996</td><td>0.0508356628619725</td><td>5202.696615609877</td><td>5481.344391106532</td><td>3.831153416998768</td><td>3.0214887458659616</td><td>-0.29083483600193866</td><td>3.9867178691949796</td><td>3.547908186832842</td><td>-0.5676761244115301</td><td>3.8265734733738443</td><td>2.9926145517704392</td><td>-0.27739042023812815</td><td>3.988290057492458</td><td>3.5599221130028575</td><td>-0.5641853358925318</td><td>False</td><td>False</td><td>False</td><td>53.67171512590279</td><td>-65.34922628062677</td><td>False</td><td>False</td><td>0.9861704682197805</td><td>False</td><td>3.883522849137474</td><td>3.049185981736496</td><td>-0.3228168597967311</td><td>0.36898357</td><td>0.23220614</td><td>0.28971106</td><td>358.64174058793424</td><td>4134.081625180613</td><td>5299.883316752735</td><td>251.7778262675501</td><td>1.078028813437485</td><td>1.1252937397434934</td><td>-0.05947914291189008</td><td>-46.45094</td><td>3.8612225</td><td>-36.47141</td><td>False</td><td>False</td><td>False</td><td>False</td><td>False</td><td>False</td><td>-0.0006137230546834946</td><td>-0.0006137230546834946</td><td>-1.1656124146994825e-05</td><td>-1.1656124146994825e-05</td><td>1.0787216009374356</td><td>1.0787216009374356</td><td>1.1261933847023622</td><td>1.1261933847023622</td><td>-0.05962287066813798</td><td>-0.05962287066813798</td><td>False</td><td>False</td><td>False</td><td>False</td><td>False</td><td>False</td><td>False</td><td>False</td><td>0.22531506419181824</td><td>-0.11684828251600266</td><td>0.08823028206825256</td><td>0.6442692279815674</td><td>False</td><td>False</td><td>False</td><td>False</td><td>False</td><td>358.6642403434438</td><td>358.6642403434438</td><td>4134.084549646343</td><td>4134.084549646343</td><td>3.813604053951703</td><td>3.813604053951703</td><td>3.016662246040523</td><td>3.016662246040523</td><td>-0.29399789191772296</td><td>-0.29399789191772296</td><td>False</td><td>False</td><td>False</td><td>False</td><td>False</td><td>False</td><td>False</td><td>False</td><td>False</td><td>False</td><td>False</td><td>False</td><td>358.66760920126313</td><td>358.66760920126313</td><td>4134.0952511119895</td><td>4134.0952511119895</td><td>3.5793626046641465</td><td>3.5793626046641465</td><td>3.2133543486717295</td><td>3.2133543486717295</td><td>-0.12571037113809838</td><td>-0.12571037113809838</td><td>False</td><td>False</td><td>False</td><td>False</td><td>False</td><td>False</td><td>False</td><td>False</td><td>5255.696</td><td>5255.696</td><td>3783.338623046875</td><td>137.82879638671875</td><td>False</td><td>False</td><td>False</td><td>5104.599609375</td><td>205.51548767089844</td><td>False</td><td>False</td><td>False</td><td>5565.18408203125</td><td>274.8885803222656</td><td>False</td><td>False</td><td>False</td><td>5391.037109375</td><td>421.67388916015625</td><td>False</td><td>False</td><td>False</td><td>4761.892578125</td><td>4761.892578125</td><td>4761.892578125</td><td>559.0762329101562</td><td>559.0762329101562</td><td>559.0762329101562</td><td>False</td><td>False</td><td>False</td><td>False</td><td>False</td><td>False</td><td>False</td><td>False</td><td>False</td><td>2350.0541522800922</td><td>790.6887581211954</td><td>False</td><td>False</td><td>-5990.457057863474</td><td>1251.6741171651088</td><td>False</td><td>False</td><td>-26845.150118499994</td><td>2022.6726883354568</td><td>False</td><td>False</td><td>nan</td><td>nan</td><td>True</td><td>True</td><td>nan</td><td>nan</td><td>True</td><td>True</td><td>5951.477152908453</td><td>5951.477152908453</td><td>5951.477152908453</td><td>199.34843369578698</td><td>199.34843369578698</td><td>199.34843369578698</td><td>False</td><td>False</td><td>False</td><td>-3.6137838858249403</td><td>28.510554163606667</td><td>False</td><td>False</td><td>False</td><td>False</td><td>0.15099758602010033</td><td>0.0</td><td>False</td><td>-2.9016558323280456e-09</td><td>-8.083652832654814e-07</td><td>-8.093147646636475e-07</td><td>-2.5625340852071117e-09</td><td>False</td><td>False</td><td>False</td><td>False</td><td>False</td><td>False</td><td>False</td><td>False</td><td>False</td><td>False</td><td>False</td><td>False</td><td>3075.297438090775</td><td>3075.297438090775</td><td>112.77578484792244</td><td>112.77578484792244</td><td>18.052464</td><td>18.052464</td><td>False</td><td>False</td><td>False</td><td>False</td><td>False</td><td>False</td><td>False</td><td>674.5659790039062</td><td>False</td><td>-9639.16175428601</td><td>1475.5450642432727</td><td>11.029302</td><td>11.029302</td><td>1.314368</td><td>False</td><td>False</td><td>False</td><td>False</td><td>False</td><td>False</td><td>False</td><td>False</td><td>False</td><td>False</td><td>1.130759273549891</td><td>1.130759273549891</td><td>1.130759273549891</td><td>0.0</td><td>0.0</td><td>0.0</td><td>False</td><td>False</td><td>False</td><td>0.9866008454586521</td><td>0.9866008454586521</td><td>0.0</td><td>0.0</td><td>False</td><td>False</td><td>1.0494700605611802</td><td>0.0</td><td>False</td><td>1.0</td><td>False</td><td>102</td><td>False</td><td>False</td><td>False</td></tr>\n",
       "<tr><td>33447624753286212</td><td>5.924120591017206</td><td>0.020114543713720543</td><td>33447624753285145</td><td>False</td><td>False</td><td>False</td><td>False</td><td>0</td><td>True</td><td>284.0</td><td>4148.0</td><td>573.971984491117</td><td>False</td><td>False</td><td>False</td><td>False</td><td>False</td><td>False</td><td>False</td><td>False</td><td>284.15642998325757</td><td>4148.056881575658</td><td>False</td><td>False</td><td>False</td><td>False</td><td>284.5390236582205</td><td>284.5390236582205</td><td>4148.3314051870175</td><td>4148.3314051870175</td><td>0.2729379</td><td>0.2729379</td><td>0.34012955</td><td>0.34012955</td><td>False</td><td>False</td><td>False</td><td>False</td><td>False</td><td>False</td><td>False</td><td>False</td><td>False</td><td>False</td><td>False</td><td>False</td><td>False</td><td>False</td><td>False</td><td>False</td><td>False</td><td>False</td><td>False</td><td>False</td><td>False</td><td>False</td><td>False</td><td>False</td><td>False</td><td>False</td><td>False</td><td>False</td><td>False</td><td>False</td><td>False</td><td>False</td><td>False</td><td>False</td><td>False</td><td>False</td><td>False</td><td>False</td><td>False</td><td>False</td><td>False</td><td>False</td><td>False</td><td>False</td><td>False</td><td>False</td><td>False</td><td>False</td><td>False</td><td>False</td><td>False</td><td>False</td><td>False</td><td>False</td><td>False</td><td>False</td><td>False</td><td>False</td><td>False</td><td>False</td><td>False</td><td>False</td><td>False</td><td>False</td><td>False</td><td>False</td><td>False</td><td>False</td><td>False</td><td>False</td><td>False</td><td>False</td><td>False</td><td>False</td><td>False</td><td>False</td><td>False</td><td>False</td><td>False</td><td>False</td><td>False</td><td>False</td><td>False</td><td>False</td><td>False</td><td>False</td><td>False</td><td>False</td><td>False</td><td>False</td><td>False</td><td>False</td><td>False</td><td>False</td><td>False</td><td>False</td><td>False</td><td>False</td><td>0.1337323925533889</td><td>0.1593715440218545</td><td>1156.125631562529</td><td>1375.3110822512838</td><td>0.1843216300900049</td><td>1118.2227721444262</td><td>1370.9113952204164</td><td>2.9622253491017445</td><td>2.990536338731853</td><td>1.3856493024941374</td><td>3.362350613581929</td><td>4.350573470923114</td><td>2.1549471629839987</td><td>2.9229238925775656</td><td>2.8929136271961124</td><td>1.2537979250495552</td><td>3.5206747695798177</td><td>4.502266026274344</td><td>2.137679323249223</td><td>False</td><td>False</td><td>False</td><td>52.56063798829486</td><td>-65.13557018411268</td><td>False</td><td>False</td><td>0.9864462533326737</td><td>False</td><td>3.184249751123607</td><td>3.1846848155129903</td><td>1.6501445142780826</td><td>1.1474731</td><td>0.9139137</td><td>1.14763</td><td>284.87417696305255</td><td>4148.626601395867</td><td>1199.843628044102</td><td>216.18726347546564</td><td>1.0756025232745263</td><td>1.1293112213065526</td><td>-0.05639078682732137</td><td>-124.034546</td><td>-64.27728</td><td>-124.05148</td><td>False</td><td>False</td><td>False</td><td>False</td><td>False</td><td>False</td><td>-0.0006770163125997978</td><td>-0.0006770163125997978</td><td>0.0001813546308997625</td><td>0.0001813546308997625</td><td>1.076282499633579</td><td>1.076282499633579</td><td>1.1302551734917028</td><td>1.1302551734917028</td><td>-0.05651698375118616</td><td>-0.05651698375118616</td><td>False</td><td>False</td><td>False</td><td>False</td><td>False</td><td>False</td><td>False</td><td>False</td><td>-0.024249883368611336</td><td>0.6820419430732727</td><td>0.4644666314125061</td><td>0.6058961153030396</td><td>False</td><td>False</td><td>False</td><td>False</td><td>False</td><td>285.1001810045008</td><td>285.1001810045008</td><td>4148.850190712344</td><td>4148.850190712344</td><td>2.857430566616908</td><td>2.857430566616908</td><td>2.9846718348035273</td><td>2.9846718348035273</td><td>1.3545466237676043</td><td>1.3545466237676043</td><td>False</td><td>False</td><td>False</td><td>False</td><td>False</td><td>False</td><td>False</td><td>False</td><td>False</td><td>False</td><td>False</td><td>False</td><td>284.9900392186928</td><td>284.9900392186928</td><td>4148.791594149775</td><td>4148.791594149775</td><td>2.7643236645039533</td><td>2.7643236645039533</td><td>2.7808084439687204</td><td>2.7808084439687204</td><td>0.7956838223716782</td><td>0.7956838223716782</td><td>False</td><td>False</td><td>False</td><td>False</td><td>False</td><td>False</td><td>False</td><td>False</td><td>1181.731</td><td>1181.731</td><td>930.0856323242188</td><td>135.89865112304688</td><td>False</td><td>False</td><td>False</td><td>1061.66455078125</td><td>203.0688934326172</td><td>False</td><td>False</td><td>False</td><td>752.8651123046875</td><td>271.77764892578125</td><td>False</td><td>False</td><td>False</td><td>-545.477294921875</td><td>478.358642578125</td><td>False</td><td>False</td><td>True</td><td>-3185.41845703125</td><td>-3185.41845703125</td><td>-3185.41845703125</td><td>715.039794921875</td><td>715.039794921875</td><td>715.039794921875</td><td>False</td><td>False</td><td>False</td><td>False</td><td>False</td><td>False</td><td>True</td><td>True</td><td>True</td><td>-11015.920485065319</td><td>1120.4419033202125</td><td>False</td><td>False</td><td>-28869.33014844451</td><td>1753.245315334448</td><td>False</td><td>False</td><td>nan</td><td>nan</td><td>True</td><td>True</td><td>nan</td><td>nan</td><td>True</td><td>True</td><td>nan</td><td>nan</td><td>True</td><td>True</td><td>1316.5972513318645</td><td>1316.5972513318645</td><td>1316.5972513318645</td><td>169.05834616716382</td><td>169.05834616716382</td><td>169.05834616716382</td><td>False</td><td>False</td><td>False</td><td>-7.3041276767674574</td><td>26.808898390766768</td><td>False</td><td>False</td><td>False</td><td>False</td><td>0.15099758602010033</td><td>0.0</td><td>False</td><td>-2.8346820830732743e-09</td><td>-8.08443908096521e-07</td><td>-8.09461897441907e-07</td><td>-2.4972708999786383e-09</td><td>False</td><td>False</td><td>False</td><td>False</td><td>False</td><td>False</td><td>False</td><td>False</td><td>False</td><td>False</td><td>False</td><td>False</td><td>776.1525127892263</td><td>776.1525127892263</td><td>109.49719253695832</td><td>109.49719253695832</td><td>17.929369</td><td>17.929369</td><td>False</td><td>False</td><td>False</td><td>False</td><td>False</td><td>False</td><td>False</td><td>672.265625</td><td>False</td><td>1093.0750876486304</td><td>154.05712756428025</td><td>1.3149031</td><td>nan</td><td>1.3149031</td><td>False</td><td>False</td><td>False</td><td>False</td><td>False</td><td>True</td><td>False</td><td>True</td><td>True</td><td>False</td><td>1.1264995809775744</td><td>1.1264995809775744</td><td>1.1264995809775744</td><td>0.0</td><td>0.0</td><td>0.0</td><td>False</td><td>False</td><td>False</td><td>0.9872265042115949</td><td>0.9872265042115949</td><td>0.0</td><td>0.0</td><td>False</td><td>False</td><td>1.0462770513666004</td><td>0.0</td><td>False</td><td>1.0</td><td>False</td><td>73</td><td>False</td><td>False</td><td>False</td></tr>\n",
       "<tr><td>33447624753286213</td><td>5.924123430285396</td><td>0.020115837732284047</td><td>33447624753285145</td><td>False</td><td>False</td><td>False</td><td>False</td><td>0</td><td>True</td><td>283.0</td><td>4145.0</td><td>579.0854729708486</td><td>False</td><td>False</td><td>False</td><td>False</td><td>False</td><td>False</td><td>False</td><td>False</td><td>282.62681355834223</td><td>4144.182346355354</td><td>False</td><td>False</td><td>False</td><td>False</td><td>282.9586620386107</td><td>282.9586620386107</td><td>4144.842275462485</td><td>4144.842275462485</td><td>0.30498978</td><td>0.30498978</td><td>0.35118565</td><td>0.35118565</td><td>False</td><td>False</td><td>False</td><td>False</td><td>False</td><td>False</td><td>False</td><td>False</td><td>False</td><td>False</td><td>False</td><td>False</td><td>False</td><td>False</td><td>False</td><td>False</td><td>False</td><td>False</td><td>False</td><td>False</td><td>False</td><td>False</td><td>False</td><td>False</td><td>False</td><td>False</td><td>False</td><td>False</td><td>False</td><td>False</td><td>False</td><td>False</td><td>False</td><td>False</td><td>False</td><td>False</td><td>False</td><td>False</td><td>False</td><td>False</td><td>False</td><td>False</td><td>False</td><td>False</td><td>False</td><td>False</td><td>False</td><td>False</td><td>False</td><td>False</td><td>False</td><td>False</td><td>False</td><td>False</td><td>False</td><td>False</td><td>False</td><td>False</td><td>False</td><td>False</td><td>False</td><td>False</td><td>False</td><td>False</td><td>False</td><td>False</td><td>False</td><td>False</td><td>False</td><td>False</td><td>False</td><td>False</td><td>False</td><td>False</td><td>False</td><td>False</td><td>False</td><td>False</td><td>False</td><td>False</td><td>False</td><td>False</td><td>False</td><td>False</td><td>False</td><td>False</td><td>False</td><td>False</td><td>False</td><td>False</td><td>False</td><td>False</td><td>False</td><td>False</td><td>False</td><td>False</td><td>False</td><td>False</td><td>0.2141483539887373</td><td>nan</td><td>nan</td><td>nan</td><td>nan</td><td>nan</td><td>nan</td><td>nan</td><td>nan</td><td>nan</td><td>nan</td><td>nan</td><td>nan</td><td>nan</td><td>nan</td><td>nan</td><td>nan</td><td>nan</td><td>nan</td><td>True</td><td>False</td><td>True</td><td>52.53693984014918</td><td>-65.18791042501985</td><td>False</td><td>False</td><td>0.9864380305199226</td><td>False</td><td>0.7623438521803468</td><td>2.3108628249358523</td><td>0.1932962644200683</td><td>0.38345674</td><td>0.47705707</td><td>1.1623572</td><td>282.9497383004918</td><td>4144.724807416155</td><td>603.2013937217415</td><td>151.7042680420052</td><td>1.0756219543371468</td><td>1.129485478388414</td><td>-0.05631625821259975</td><td>-29.08601</td><td>-7.37491</td><td>-88.167274</td><td>False</td><td>False</td><td>False</td><td>False</td><td>False</td><td>False</td><td>-0.0006766438192840719</td><td>-0.0006766438192840719</td><td>0.00018420351380976817</td><td>0.00018420351380976817</td><td>1.0763040051070898</td><td>1.0763040051070898</td><td>1.1304039353311135</td><td>1.1304039353311135</td><td>-0.056456155302450614</td><td>-0.056456155302450614</td><td>False</td><td>False</td><td>False</td><td>False</td><td>False</td><td>False</td><td>False</td><td>False</td><td>nan</td><td>nan</td><td>nan</td><td>nan</td><td>True</td><td>False</td><td>False</td><td>False</td><td>True</td><td>nan</td><td>nan</td><td>nan</td><td>nan</td><td>nan</td><td>nan</td><td>nan</td><td>nan</td><td>nan</td><td>nan</td><td>True</td><td>True</td><td>True</td><td>False</td><td>False</td><td>False</td><td>False</td><td>False</td><td>False</td><td>False</td><td>False</td><td>False</td><td>282.9593222215169</td><td>282.9593222215169</td><td>4144.863033841009</td><td>4144.863033841009</td><td>1.1234352128630651</td><td>1.1234352128630651</td><td>1.5118104834565929</td><td>1.5118104834565929</td><td>0.027859551058444804</td><td>0.027859551058444804</td><td>False</td><td>False</td><td>False</td><td>False</td><td>False</td><td>False</td><td>False</td><td>False</td><td>588.19775</td><td>588.19775</td><td>615.4830932617188</td><td>135.14825439453125</td><td>False</td><td>False</td><td>False</td><td>672.8887329101562</td><td>203.3288116455078</td><td>False</td><td>False</td><td>False</td><td>563.3842163085938</td><td>272.3328857421875</td><td>False</td><td>False</td><td>False</td><td>-206.72344970703125</td><td>410.1671447753906</td><td>False</td><td>False</td><td>True</td><td>-2393.9462890625</td><td>-2393.9462890625</td><td>-2393.9462890625</td><td>595.1448364257812</td><td>595.1448364257812</td><td>595.1448364257812</td><td>False</td><td>False</td><td>False</td><td>False</td><td>False</td><td>False</td><td>True</td><td>True</td><td>True</td><td>-8629.135171927512</td><td>985.9557697210314</td><td>False</td><td>False</td><td>-25096.171855427325</td><td>1623.1301467620015</td><td>False</td><td>False</td><td>nan</td><td>nan</td><td>True</td><td>True</td><td>nan</td><td>nan</td><td>True</td><td>True</td><td>nan</td><td>nan</td><td>True</td><td>True</td><td>nan</td><td>nan</td><td>nan</td><td>nan</td><td>nan</td><td>nan</td><td>True</td><td>True</td><td>True</td><td>-6.706181286397328</td><td>27.537675096822912</td><td>False</td><td>False</td><td>False</td><td>False</td><td>0.15099758602010033</td><td>0.0</td><td>False</td><td>-2.835646242083209e-09</td><td>-8.084369544261232e-07</td><td>-8.094620939866216e-07</td><td>-2.498150468513159e-09</td><td>False</td><td>False</td><td>False</td><td>False</td><td>False</td><td>False</td><td>False</td><td>False</td><td>False</td><td>False</td><td>False</td><td>False</td><td>605.8122264949822</td><td>605.8122264949822</td><td>109.39392220078511</td><td>109.39392220078511</td><td>17.89823</td><td>17.89823</td><td>False</td><td>False</td><td>False</td><td>False</td><td>False</td><td>False</td><td>True</td><td>nan</td><td>True</td><td>-7191.510639060755</td><td>941.1467458385066</td><td>6.339296</td><td>6.339296</td><td>1.3149546</td><td>True</td><td>False</td><td>False</td><td>False</td><td>False</td><td>False</td><td>False</td><td>False</td><td>False</td><td>True</td><td>1.1264936631043927</td><td>1.1264936631043927</td><td>1.1264936631043927</td><td>0.0</td><td>0.0</td><td>0.0</td><td>False</td><td>False</td><td>False</td><td>0.9872746179522192</td><td>0.9872746179522192</td><td>0.0</td><td>0.0</td><td>False</td><td>False</td><td>1.0462862908451458</td><td>0.0</td><td>False</td><td>nan</td><td>True</td><td>73</td><td>False</td><td>False</td><td>False</td></tr>\n",
       "</table>"
      ],
      "text/plain": [
       "<Table length=3141>\n",
       "        id             coord_ra           coord_dec             parent      calib_detected ... base_FootprintArea_value calib_astrometry_used calib_photometry_used calib_photometry_reserved\n",
       "                         rad                 rad                                           ...           pix                                                                                 \n",
       "      int64            float64             float64              int64            bool      ...          int32                    bool                  bool                    bool          \n",
       "----------------- ------------------ -------------------- ----------------- -------------- ... ------------------------ --------------------- --------------------- -------------------------\n",
       "33447624753283073  5.927461717310882 0.020324030581759404                 0          False ...                       36                 False                 False                     False\n",
       "33447624753283074  5.927462375717455  0.02030058798905319                 0          False ...                       36                 False                 False                     False\n",
       "33447624753283075  5.927458484334328 0.019743869579209136                 0          False ...                      114                 False                 False                     False\n",
       "33447624753283076   5.92745599304601 0.019445252114775526                 0          False ...                       36                 False                 False                     False\n",
       "33447624753283077  5.927453557019366  0.01917756293098281                 0          False ...                       92                 False                 False                     False\n",
       "33447624753283078  5.927446143844187  0.01890689249301204                 0           True ...                      388                 False                 False                     False\n",
       "33447624753283079  5.927456564011491 0.019804416573890177                 0          False ...                       52                 False                 False                     False\n",
       "33447624753283080   5.92744595824602 0.018809519620132824                 0          False ...                       57                 False                 False                     False\n",
       "33447624753283081  5.927453545475243 0.020045931103143476                 0          False ...                       64                 False                 False                     False\n",
       "33447624753283082 5.9274530332865085  0.01997320920749881                 0          False ...                      121                 False                 False                     False\n",
       "33447624753283083 5.9274500609221885 0.019496835128874516                 0          False ...                       66                 False                 False                     False\n",
       "33447624753283084  5.927441240410337 0.018737882091115165                 0          False ...                       83                 False                 False                     False\n",
       "33447624753283085  5.927446273205644  0.02003295719935593                 0          False ...                      228                 False                 False                     False\n",
       "33447624753283086  5.927450789027109  0.01999420131300125                 0          False ...                       93                 False                 False                     False\n",
       "33447624753283087  5.927448486325576 0.020007114409623317                 0          False ...                       36                 False                 False                     False\n",
       "33447624753283088  5.927437701735024  0.01878128316621022                 0          False ...                      127                 False                 False                     False\n",
       "33447624753283089  5.927459558625124  0.01988358439140777                 0          False ...                      362                 False                 False                     False\n",
       "33447624753283090  5.927436634647459 0.018992947319788615                 0          False ...                       29                 False                 False                     False\n",
       "33447624753283091  5.927429008128375 0.018791631183447524                 0          False ...                      214                 False                 False                     False\n",
       "              ...                ...                  ...               ...            ... ...                      ...                   ...                   ...                       ...\n",
       "33447624753286194  5.924126308895389 0.020194880465098913 33447624753285130          False ...                      375                 False                 False                     False\n",
       "33447624753286195  5.924154591501439 0.020201129058987497 33447624753285130          False ...                      424                 False                 False                     False\n",
       "33447624753286196  5.924147867205433 0.020201055880493615 33447624753285130          False ...                      538                 False                 False                     False\n",
       "33447624753286197  5.924149682664188 0.020195038394853673 33447624753285130          False ...                      508                 False                 False                     False\n",
       "33447624753286198  5.924146558109591 0.020194905382121705 33447624753285130          False ...                      553                 False                 False                     False\n",
       "33447624753286199  5.924130086880467 0.020201234446604367 33447624753285130          False ...                      441                 False                 False                     False\n",
       "33447624753286200  5.924153017259423 0.020194068672920392 33447624753285130          False ...                      452                 False                 False                     False\n",
       "33447624753286201  5.924136349951281 0.020203028906295658 33447624753285130          False ...                      572                 False                 False                     False\n",
       "33447624753286202  5.924138271712381  0.02019520319954766 33447624753285130          False ...                      609                 False                 False                     False\n",
       "33447624753286203  5.924130880875893  0.02019554223138236 33447624753285130          False ...                      459                 False                 False                     False\n",
       "33447624753286204  5.924124191803622 0.020201172680391306 33447624753285130          False ...                       29                 False                 False                     False\n",
       "33447624753286205  5.924143591601224 0.020201225009171025 33447624753285130          False ...                      211                 False                 False                     False\n",
       "33447624753286206  5.924159788232614  0.02019427233344127 33447624753285130          False ...                      342                 False                 False                     False\n",
       "33447624753286207  5.924136515976112  0.02019797426583331 33447624753285130          False ...                      580                 False                 False                     False\n",
       "33447624753286208 5.9241567593019155 0.020140307931197244 33447624753285131          False ...                       92                 False                 False                     False\n",
       "33447624753286209  5.924160130769674 0.020136397511824576 33447624753285131          False ...                       92                 False                 False                     False\n",
       "33447624753286210  5.924125834394846 0.020056237987689404 33447624753285141           True ...                      125                 False                 False                     False\n",
       "33447624753286211  5.924131961886472  0.02005433948621347 33447624753285141          False ...                      102                 False                 False                     False\n",
       "33447624753286212  5.924120591017206 0.020114543713720543 33447624753285145          False ...                       73                 False                 False                     False\n",
       "33447624753286213  5.924123430285396 0.020115837732284047 33447624753285145          False ...                       73                 False                 False                     False"
      ]
     },
     "execution_count": 32,
     "metadata": {},
     "output_type": "execute_result"
    }
   ],
   "source": [
    "source_cat.asAstropy()"
   ]
  },
  {
   "cell_type": "markdown",
   "metadata": {},
   "source": [
    "In this vein, you may find it more convenient to grab columns from the table and work with them as numpy arrays. As we mentioned above, the defacto unit choice of DM is radians. If you would prefer degrees, you can do something like this"
   ]
  },
  {
   "cell_type": "code",
   "execution_count": 33,
   "metadata": {},
   "outputs": [],
   "source": [
    "ra_deg = np.rad2deg(source_cat['coord_ra'])"
   ]
  },
  {
   "cell_type": "markdown",
   "metadata": {},
   "source": [
    "Now we will set aside the schema for this table, and look at the table itself so we can examine its methods.\n",
    "\n",
    "### afw source catalogs\n",
    "\n",
    "Source catalogs support a lot of fast operations for common use cases which we will now discuss. "
   ]
  },
  {
   "cell_type": "code",
   "execution_count": 34,
   "metadata": {},
   "outputs": [
    {
     "data": {
      "text/plain": [
       "True"
      ]
     },
     "execution_count": 34,
     "metadata": {},
     "output_type": "execute_result"
    }
   ],
   "source": [
    "# Sorting is supported. by default catalogs are sorted by id\n",
    "source_cat.isSorted(id_key)"
   ]
  },
  {
   "cell_type": "code",
   "execution_count": 35,
   "metadata": {},
   "outputs": [
    {
     "data": {
      "text/plain": [
       "['slot_ApFlux_instFlux',\n",
       " 'slot_ApFlux_instFluxErr',\n",
       " 'slot_ApFlux_flag',\n",
       " 'slot_ApFlux_flag_apertureTruncated',\n",
       " 'slot_ApFlux_flag_sincCoeffsTruncated']"
      ]
     },
     "execution_count": 35,
     "metadata": {},
     "output_type": "execute_result"
    }
   ],
   "source": [
    "# Find aperture flux columns\n",
    "[k for k in source_cat.getSchema().extract('*ApFlux*').keys()]"
   ]
  },
  {
   "cell_type": "code",
   "execution_count": 36,
   "metadata": {},
   "outputs": [
    {
     "data": {
      "text/plain": [
       "True"
      ]
     },
     "execution_count": 36,
     "metadata": {},
     "output_type": "execute_result"
    }
   ],
   "source": [
    "# You can cut on the catalog.\n",
    "# e.g. Make a boolean array to only keep sources with positive psf flux:\n",
    "psf_mask = source_cat['slot_PsfFlux_instFlux'] > 0\n",
    "psf_mask &= np.isfinite(source_cat['slot_ApFlux_instFlux'])\n",
    "psf_mask &= np.isfinite(source_cat['slot_ApFlux_instFluxErr'])\n",
    "psf_mask &= np.isfinite(source_cat['base_ClassificationExtendedness_value'])\n",
    "pos_flux = source_cat.subset(psf_mask)\n",
    "\n",
    "# You can sort on other keys too:\n",
    "flux_key = pos_flux.getPsfFluxSlot().getMeasKey()\n",
    "pos_flux.sort(flux_key)\n",
    "pos_flux.isSorted(flux_key)"
   ]
  },
  {
   "cell_type": "code",
   "execution_count": 37,
   "metadata": {},
   "outputs": [
    {
     "data": {
      "text/plain": [
       "<class 'lsst.afw.table.SourceCatalog'>\n",
       "        id             coord_ra          coord_dec             parent      calib_detected ... base_FootprintArea_value calib_astrometry_used calib_photometry_used calib_photometry_reserved\n",
       "                         rad                rad                                           ...           pix                                                                                 \n",
       "----------------- ----------------- -------------------- ----------------- -------------- ... ------------------------ --------------------- --------------------- -------------------------\n",
       "33447624753286194 5.924126308895389 0.020194880465098913 33447624753285130          False ...                      375                 False                 False                     False\n",
       "33447624753286195 5.924154591501439 0.020201129058987497 33447624753285130          False ...                      424                 False                 False                     False\n",
       "33447624753286196 5.924147867205433 0.020201055880493615 33447624753285130          False ...                      538                 False                 False                     False\n",
       "33447624753286197 5.924149682664188 0.020195038394853673 33447624753285130          False ...                      508                 False                 False                     False\n",
       "33447624753286198 5.924146558109591 0.020194905382121705 33447624753285130          False ...                      553                 False                 False                     False\n",
       "33447624753286199 5.924130086880467 0.020201234446604367 33447624753285130          False ...                      441                 False                 False                     False\n",
       "33447624753286200 5.924153017259423 0.020194068672920392 33447624753285130          False ...                      452                 False                 False                     False\n",
       "33447624753286201 5.924136349951281 0.020203028906295658 33447624753285130          False ...                      572                 False                 False                     False\n",
       "33447624753286202 5.924138271712381  0.02019520319954766 33447624753285130          False ...                      609                 False                 False                     False\n",
       "33447624753286203 5.924130880875893  0.02019554223138236 33447624753285130          False ...                      459                 False                 False                     False\n",
       "33447624753286204 5.924124191803622 0.020201172680391306 33447624753285130          False ...                       29                 False                 False                     False\n",
       "33447624753286205 5.924143591601224 0.020201225009171025 33447624753285130          False ...                      211                 False                 False                     False\n",
       "33447624753286206 5.924159788232614  0.02019427233344127 33447624753285130          False ...                      342                 False                 False                     False\n",
       "33447624753286207 5.924136515976112  0.02019797426583331 33447624753285130          False ...                      580                 False                 False                     False"
      ]
     },
     "execution_count": 37,
     "metadata": {},
     "output_type": "execute_result"
    }
   ],
   "source": [
    "# You can get the children of particular objects.\n",
    "# This is useful if you want to understand how one object was deblended, for example:\n",
    "source_cat.getChildren(33447624753285130) #the argument is the id of the parent object\n",
    "\n",
    "# Note that this will only work if the source catalog is sorted on id or parent"
   ]
  },
  {
   "cell_type": "markdown",
   "metadata": {},
   "source": [
    "You can check if catalogs are contiguous in memory."
   ]
  },
  {
   "cell_type": "code",
   "execution_count": 38,
   "metadata": {},
   "outputs": [
    {
     "data": {
      "text/plain": [
       "True"
      ]
     },
     "execution_count": 38,
     "metadata": {},
     "output_type": "execute_result"
    }
   ],
   "source": [
    "source_cat.isContiguous()"
   ]
  },
  {
   "cell_type": "code",
   "execution_count": 39,
   "metadata": {},
   "outputs": [
    {
     "data": {
      "text/plain": [
       "False"
      ]
     },
     "execution_count": 39,
     "metadata": {},
     "output_type": "execute_result"
    }
   ],
   "source": [
    "pos_flux.isContiguous()"
   ]
  },
  {
   "cell_type": "markdown",
   "metadata": {},
   "source": [
    "Some operations are quicker if catalogs are contiguous in memory, like using numpy-like syntax to create masks. Eli Rykoff performed some benchmark tests showing this is the case for a catalog with about half a million enteries. You can find the full details in a Slack thread [here](https://lsstc.slack.com/archives/C2JPL2DGD/p1525799998000344). Additionally, certain operations will not work on non-contiguous tables."
   ]
  },
  {
   "cell_type": "code",
   "execution_count": 40,
   "metadata": {},
   "outputs": [],
   "source": [
    "# uncomment the last line if you are curious and want to prove it wont work\n",
    "# this will not work and give you an error message complaining pos_flux is not contiguous\n",
    "# pos_flux.asAstropy()"
   ]
  },
  {
   "cell_type": "markdown",
   "metadata": {},
   "source": [
    "You can always force a table to be contiguous by making a deep copy of it. "
   ]
  },
  {
   "cell_type": "code",
   "execution_count": 41,
   "metadata": {},
   "outputs": [
    {
     "data": {
      "text/plain": [
       "True"
      ]
     },
     "execution_count": 41,
     "metadata": {},
     "output_type": "execute_result"
    }
   ],
   "source": [
    "pos_flux = pos_flux.copy(deep=True)\n",
    "pos_flux.isContiguous()"
   ]
  },
  {
   "cell_type": "markdown",
   "metadata": {},
   "source": [
    "In the next few cells, we show a few methods that can be used to search through tables"
   ]
  },
  {
   "cell_type": "code",
   "execution_count": 42,
   "metadata": {},
   "outputs": [
    {
     "data": {
      "text/plain": [
       "slice(2034, 2312, 1)"
      ]
     },
     "execution_count": 42,
     "metadata": {},
     "output_type": "execute_result"
    }
   ],
   "source": [
    "# Use the between method to get the indices of values within a range:\n",
    "pos_flux.between(1e4,1e5,psf_flux_key)"
   ]
  },
  {
   "cell_type": "code",
   "execution_count": 43,
   "metadata": {},
   "outputs": [
    {
     "data": {
      "text/plain": [
       "9948.867354290986"
      ]
     },
     "execution_count": 43,
     "metadata": {},
     "output_type": "execute_result"
    }
   ],
   "source": [
    "# The slice object tells you the (start, stop, stride) for values that fit our query.\n",
    "# You can check to see that the first record outside the slice is above the flux threshold\n",
    "pos_flux[2033].get(psf_flux_key)"
   ]
  },
  {
   "cell_type": "code",
   "execution_count": 44,
   "metadata": {},
   "outputs": [
    {
     "data": {
      "text/plain": [
       "99696.53468723795"
      ]
     },
     "execution_count": 44,
     "metadata": {},
     "output_type": "execute_result"
    }
   ],
   "source": [
    "# and that the last element in the slice is inside the threshold\n",
    "pos_flux[2311].get(psf_flux_key)"
   ]
  },
  {
   "cell_type": "code",
   "execution_count": 45,
   "metadata": {},
   "outputs": [],
   "source": [
    "# your turn. confirm the lower limits of the between query\n",
    "# pos_flux[...].getPsfFlux\n"
   ]
  },
  {
   "cell_type": "code",
   "execution_count": 46,
   "metadata": {},
   "outputs": [
    {
     "data": {
      "text/plain": [
       "2034"
      ]
     },
     "execution_count": 46,
     "metadata": {},
     "output_type": "execute_result"
    }
   ],
   "source": [
    "#the upper and lower bound methods work similarly\n",
    "pos_flux.upper_bound(1e4, psf_flux_key)"
   ]
  },
  {
   "cell_type": "code",
   "execution_count": 47,
   "metadata": {},
   "outputs": [
    {
     "data": {
      "text/plain": [
       "2312"
      ]
     },
     "execution_count": 47,
     "metadata": {},
     "output_type": "execute_result"
    }
   ],
   "source": [
    "pos_flux.lower_bound(1e5, psf_flux_key)"
   ]
  },
  {
   "cell_type": "markdown",
   "metadata": {},
   "source": [
    "## Example: Star-Galaxy Separation\n",
    "\n",
    "Now that we have introduced the functionality of the source catalog and its schema, we will do a toy example of star-galaxy separation. This small demo will also flags and fields that users are use, and ultimately make a plot."
   ]
  },
  {
   "cell_type": "code",
   "execution_count": 48,
   "metadata": {},
   "outputs": [],
   "source": [
    "# let's select sources that were not deblended\n",
    "select_mask = source_cat['deblend_nChild'] == 0\n",
    "select_mask &= source_cat['parent'] == 0\n",
    "\n",
    "# use the extendedness column for a mock star/galaxy seperation\n",
    "# we only want to use columns where this algorithm worked\n",
    "# the flag is set true if there was a failure, so we invert the flag values here\n",
    "select_mask &= ~source_cat['base_ClassificationExtendedness_flag']\n",
    "\n",
    "# we will also use the sloan shapes to measure size\n",
    "select_mask &= ~source_cat['base_SdssShape_flag']\n",
    "\n",
    "# and a simple aperture flux for the brightness\n",
    "select_mask &= ~source_cat['base_CircularApertureFlux_12_0_flag']\n",
    "\n",
    "# only consider sources with positive flux\n",
    "select_mask &= source_cat['base_CircularApertureFlux_12_0_instFlux'] > 0\n",
    "\n",
    "size_bright_cat = source_cat.subset(select_mask)"
   ]
  },
  {
   "cell_type": "markdown",
   "metadata": {},
   "source": [
    "Now we make a crude size magnitude diagram, color coding the data by their 'extendedness value'. The extendedness will be 1 for extended sources-like galaxies-and 0 for point sources-like stars. One hopes the stars will all live on the stellar locus..."
   ]
  },
  {
   "cell_type": "code",
   "execution_count": 49,
   "metadata": {},
   "outputs": [
    {
     "data": {
      "text/plain": [
       "(5.0, 15.0)"
      ]
     },
     "execution_count": 49,
     "metadata": {},
     "output_type": "execute_result"
    },
    {
     "data": {
      "image/png": "[encoded data removed]",
      "text/plain": [
       "<Figure size 748.8x514.8 with 1 Axes>"
      ]
     },
     "metadata": {
      "needs_background": "light"
     },
     "output_type": "display_data"
    }
   ],
   "source": [
    "plt.scatter(np.log(size_bright_cat['base_CircularApertureFlux_12_0_instFlux']), \n",
    "           size_bright_cat['base_SdssShape_xx'] + size_bright_cat['base_SdssShape_yy'],\n",
    "           c=size_bright_cat['base_ClassificationExtendedness_value'],\n",
    "            cmap='bwr',\n",
    "           s=4)\n",
    "plt.xlabel('log flux')\n",
    "plt.ylabel('size px^2')\n",
    "plt.ylim([0,20]) #zoom in to make the stellar locus clearer\n",
    "plt.xlim([5,15])"
   ]
  },
  {
   "cell_type": "markdown",
   "metadata": {},
   "source": [
    "Our plot shows some star galaxy separation, but also has other interesting features. Some detected sources appear to be smaller than the PSF, some of the point sources have a (crudely) calculated size that occupy the same parameter space as extended sources, and there are a few extremely faint detected point sources. We will leave it to you to delve into this mystery further as a homework assignment since we are primarily focused on understanding tables in this tutorial. By making this plot we exercised some of the methods of the catalog and its schema, to do a minimal analysis example."
   ]
  },
  {
   "cell_type": "markdown",
   "metadata": {},
   "source": [
    "### Operations with multiple tables/catalogs\n",
    "\n",
    "In the next section we will show operations which involve two or more catalogs.\n",
    "\n",
    "#### Table concatenation"
   ]
  },
  {
   "cell_type": "code",
   "execution_count": 50,
   "metadata": {},
   "outputs": [],
   "source": [
    "# Grab a second catalog using the butler:\n",
    "dataId2 = {'filter': 'HSC-Z', 'ccd': 31, 'visit': 38938}\n",
    "source_cat2 = butler.get('src', dataId2)\n",
    "\n",
    "# Put our catalogs in a list:\n",
    "catalogList = [source_cat, source_cat2]\n",
    "\n",
    "# The following concatenation function is courtesy of Jim Bosch:\n",
    "def concatenate(catalogList):\n",
    "    from functools import reduce\n",
    "    \"\"\"Concatenate multiple catalogs (FITS tables from lsst.afw.table)\"\"\"\n",
    "    schema = catalogList[0].schema\n",
    "    for i, c in enumerate(catalogList[1:]):\n",
    "        #check that the schema in the tables are the same\n",
    "        #we can only cat them if this is true\n",
    "        if c.schema != schema:\n",
    "            raise RuntimeError(\"Schema for catalog %d not consistent\" % (i+1))\n",
    "\n",
    "    # prepare the master catalog\n",
    "    out = afwTable.BaseCatalog(schema)\n",
    "    num = reduce(lambda n, c: n + len(c), catalogList, 0)\n",
    "    # set aside enough space for all the records and their pointers\n",
    "    out.reserve(num)\n",
    "\n",
    "    # stick in all the records from all catalogs into the master catalog\n",
    "    for catalog in catalogList:\n",
    "        for record in catalog:\n",
    "            out.append(out.table.copyRecord(record))\n",
    "\n",
    "    return out\n",
    "\n",
    "cat_source = concatenate(catalogList)"
   ]
  },
  {
   "cell_type": "markdown",
   "metadata": {},
   "source": [
    "#### Catalog matching\n",
    "\n",
    "Quick positional matching is supported by the stack, and offers some useful functionality. In the next example, we will match two overlapping HSC observations from different filters together. Getting this data will require us to use a new data repository, so we will have to set up a new butler, then ask for our two tables"
   ]
  },
  {
   "cell_type": "code",
   "execution_count": 51,
   "metadata": {},
   "outputs": [],
   "source": [
    "depth = 'WIDE' # WIDE, DEEP, UDEEP\n",
    "field = 'SSP_WIDE' # SSP_WIDE, SSP_DEEP, SSP_UDEEP\n",
    "butler = dafPersist.Butler('/datasets/hsc/repo/rerun/DM-13666/%s/'%(depth))"
   ]
  },
  {
   "cell_type": "markdown",
   "metadata": {},
   "source": [
    "Let's grab some forced photometry for the HSC-I band and the HSC-R band. They will have the same tract and patch, which ensures they will overlap"
   ]
  },
  {
   "cell_type": "code",
   "execution_count": 52,
   "metadata": {},
   "outputs": [],
   "source": [
    "objects = []\n",
    "for filter in (\"HSC-I\", \"HSC-R\"):\n",
    "    objects.append(butler.get(\"deepCoadd_forced_src\", dataId={'filter':filter, 'field':field, 'tract':15830, 'patch':'0,3'}))\n",
    "iSources, rSources = objects"
   ]
  },
  {
   "cell_type": "markdown",
   "metadata": {},
   "source": [
    "We will need these calib objects for our two bands so that we can calculate magnitudes a little later"
   ]
  },
  {
   "cell_type": "code",
   "execution_count": 53,
   "metadata": {},
   "outputs": [],
   "source": [
    "calibs = []\n",
    "for filter in (\"HSC-I\", \"HSC-R\"):\n",
    "    calibs.append(butler.get(\"deepCoadd_calexp_photoCalib\", dataId={'filter':filter, 'field':field, 'tract':15830, 'patch':'0,3'}))\n",
    "iCalib, rCalib = calibs"
   ]
  },
  {
   "cell_type": "markdown",
   "metadata": {},
   "source": [
    "Some quality control flags to prune down the data to give us stars with a signal to noise ratio of 10 or higher. We will use this to index into our catalogs when we do the matching. Note that because these are forced photometry catalogs, the records in each catalog line up so that they should be refering to the same astrophysical sources. That is why we will be able to use our mask on both iSources and rSources. This is not true in general of afwTables."
   ]
  },
  {
   "cell_type": "code",
   "execution_count": 54,
   "metadata": {},
   "outputs": [
    {
     "name": "stderr",
     "output_type": "stream",
     "text": [
      "/opt/lsst/software/stack/conda/miniconda3-py37_4.8.2/envs/lsst-scipipe-1a1d771/lib/python3.7/site-packages/ipykernel/__main__.py:4: RuntimeWarning: invalid value encountered in greater\n"
     ]
    }
   ],
   "source": [
    "noChildren = iSources['deblend_nChild'] == 0\n",
    "isGoodFlux = ~iSources['modelfit_CModel_flag']\n",
    "isStellar = iSources['base_ClassificationExtendedness_value'] < 1.\n",
    "snr = iSources['modelfit_CModel_instFlux']/iSources['modelfit_CModel_instFluxErr'] > 10\n",
    "\n",
    "star_flag = noChildren & isGoodFlux & isStellar & snr"
   ]
  },
  {
   "cell_type": "markdown",
   "metadata": {},
   "source": [
    "In order to match catalogs, we must provide a `MatchControl` instance. The `MatchControl` provides configurations for catalog matching. It has three 'switches' in the form of class attributes. They are defined as follows:\n",
    "\n",
    "1. `findOnlyClosest`: True by default. If False, all other sources within a search radius are also matched \n",
    "2. `includeMismatches`: False by default. If False, sources with no match are not reported in the match catalog. If True, sources with no match are included in the match catalog with Null as their match\n",
    "3. `symmetricMatch`: False by default. If False, the match between source a from catalog a with source b from catalog b is reported alone. If True, the symmetric match between source b and a is also reported."
   ]
  },
  {
   "cell_type": "code",
   "execution_count": 55,
   "metadata": {},
   "outputs": [],
   "source": [
    "# get a match control, we will keep the default configuration\n",
    "mc = afwTable.MatchControl()\n",
    "\n",
    "# match our two catalogs, setting the match threshold to be one arcsecond\n",
    "matches = afwTable.matchRaDec(iSources[star_flag], rSources[star_flag],\n",
    "                              lsst.geom.Angle(1,lsst.geom.arcseconds), mc)"
   ]
  },
  {
   "cell_type": "markdown",
   "metadata": {},
   "source": [
    "`afwTable.matchRaDec` returns a list, where each element is an instance of a `Match` class. The `Match` class has three attributes, which gives us information about the matched sources. Let us unpack this a bit before moving on to some analysis"
   ]
  },
  {
   "cell_type": "code",
   "execution_count": 56,
   "metadata": {},
   "outputs": [
    {
     "data": {
      "text/plain": [
       "696"
      ]
     },
     "execution_count": 56,
     "metadata": {},
     "output_type": "execute_result"
    }
   ],
   "source": [
    "# how many sources were actually matched?\n",
    "len(matches)"
   ]
  },
  {
   "cell_type": "code",
   "execution_count": 57,
   "metadata": {},
   "outputs": [
    {
     "data": {
      "text/plain": [
       "<class 'lsst.afw.table.SourceRecord'>\n",
       "id: 69621089155700649\n",
       "coord_ra: 4.25365 rad\n",
       "coord_dec: 0.734943 rad\n",
       "parent: 69621089155678244\n",
       "deblend_nChild: 0\n",
       "base_SdssCentroid_x: 1079.88\n",
       "base_SdssCentroid_y: 11941.8\n",
       "base_SdssCentroid_xSigma: 0.156168\n",
       "base_SdssCentroid_ySigma: 0.174856\n",
       "base_SdssCentroid_flag: 0\n",
       "base_SdssCentroid_flag_edge: 0\n",
       "base_SdssCentroid_flag_noSecondDerivative: 0\n",
       "base_SdssCentroid_flag_almostNoSecondDerivative: 0\n",
       "base_SdssCentroid_flag_notAtMaximum: 0\n",
       "base_SdssCentroid_flag_resetToPeak: 0\n",
       "base_TransformedCentroid_x: 1079.88\n",
       "base_TransformedCentroid_y: 11941.8\n",
       "base_TransformedCentroid_flag: 0\n",
       "base_InputCount_flag: 0\n",
       "base_InputCount_value: 3\n",
       "base_InputCount_flag_noInputs: 0\n",
       "base_SdssShape_xx: 1.01038\n",
       "base_SdssShape_yy: 1.15645\n",
       "base_SdssShape_xy: 0.179421\n",
       "base_SdssShape_xxSigma: 0.256862\n",
       "base_SdssShape_yySigma: 0.196973\n",
       "base_SdssShape_xySigma: 0.293995\n",
       "base_SdssShape_x: 1079.89\n",
       "base_SdssShape_y: 11941.8\n",
       "base_SdssShape_flux: 4.63007\n",
       "base_SdssShape_fluxSigma: 0.588534\n",
       "base_SdssShape_psf_xx: 1.23481\n",
       "base_SdssShape_psf_yy: 1.13158\n",
       "base_SdssShape_psf_xy: 0.0432899\n",
       "base_SdssShape_flux_xx_Cov: -0.0755861\n",
       "base_SdssShape_flux_yy_Cov: -0.0134224\n",
       "base_SdssShape_flux_xy_Cov: -0.0865132\n",
       "base_SdssShape_flag: 0\n",
       "base_SdssShape_flag_unweightedBad: 0\n",
       "base_SdssShape_flag_unweighted: 0\n",
       "base_SdssShape_flag_shift: 0\n",
       "base_SdssShape_flag_maxIter: 0\n",
       "base_SdssShape_flag_psf: 0\n",
       "base_TransformedShape_xx: 1.00834\n",
       "base_TransformedShape_yy: 1.15658\n",
       "base_TransformedShape_xy: 0.179574\n",
       "base_TransformedShape_flag: 0\n",
       "modelfit_DoubleShapeletPsfApprox_0_xx: 1.01888\n",
       "modelfit_DoubleShapeletPsfApprox_0_yy: 1.08134\n",
       "modelfit_DoubleShapeletPsfApprox_0_xy: 0.0391869\n",
       "modelfit_DoubleShapeletPsfApprox_0_x: -0.0646676\n",
       "modelfit_DoubleShapeletPsfApprox_0_y: 0.166082\n",
       "modelfit_DoubleShapeletPsfApprox_0_0: 0.200804\n",
       "modelfit_DoubleShapeletPsfApprox_0_1: -0.0256868\n",
       "modelfit_DoubleShapeletPsfApprox_0_2: 0.0103172\n",
       "modelfit_DoubleShapeletPsfApprox_0_3: -0.00415585\n",
       "modelfit_DoubleShapeletPsfApprox_0_4: -0.00157672\n",
       "modelfit_DoubleShapeletPsfApprox_0_5: 0.00419119\n",
       "modelfit_DoubleShapeletPsfApprox_1_xx: 8.30651\n",
       "modelfit_DoubleShapeletPsfApprox_1_yy: 8.81574\n",
       "modelfit_DoubleShapeletPsfApprox_1_xy: 0.319474\n",
       "modelfit_DoubleShapeletPsfApprox_1_x: -0.0646676\n",
       "modelfit_DoubleShapeletPsfApprox_1_y: 0.166082\n",
       "modelfit_DoubleShapeletPsfApprox_1_0: 0.0817797\n",
       "modelfit_DoubleShapeletPsfApprox_1_1: 0.00587357\n",
       "modelfit_DoubleShapeletPsfApprox_1_2: -0.00321632\n",
       "modelfit_DoubleShapeletPsfApprox_flag: 0\n",
       "modelfit_DoubleShapeletPsfApprox_flag_invalidPointForPsf: 0\n",
       "modelfit_DoubleShapeletPsfApprox_flag_invalidMoments: 0\n",
       "modelfit_DoubleShapeletPsfApprox_flag_maxIterations: 0\n",
       "base_CircularApertureFlux_3_0_flux: 4.49711\n",
       "base_CircularApertureFlux_3_0_fluxSigma: 0.545873\n",
       "base_CircularApertureFlux_3_0_flag: 0\n",
       "base_CircularApertureFlux_3_0_flag_apertureTruncated: 0\n",
       "base_CircularApertureFlux_3_0_flag_sincCoeffsTruncated: 0\n",
       "base_CircularApertureFlux_4_5_flux: 4.81956\n",
       "base_CircularApertureFlux_4_5_fluxSigma: 0.802507\n",
       "base_CircularApertureFlux_4_5_flag: 0\n",
       "base_CircularApertureFlux_4_5_flag_apertureTruncated: 0\n",
       "base_CircularApertureFlux_4_5_flag_sincCoeffsTruncated: 0\n",
       "base_CircularApertureFlux_6_0_flux: 6.10522\n",
       "base_CircularApertureFlux_6_0_fluxSigma: 1.06565\n",
       "base_CircularApertureFlux_6_0_flag: 0\n",
       "base_CircularApertureFlux_6_0_flag_apertureTruncated: 0\n",
       "base_CircularApertureFlux_6_0_flag_sincCoeffsTruncated: 0\n",
       "base_CircularApertureFlux_9_0_flux: 4.49291\n",
       "base_CircularApertureFlux_9_0_fluxSigma: 1.58138\n",
       "base_CircularApertureFlux_9_0_flag: 0\n",
       "base_CircularApertureFlux_9_0_flag_apertureTruncated: 0\n",
       "base_CircularApertureFlux_9_0_flag_sincCoeffsTruncated: 0\n",
       "base_CircularApertureFlux_12_0_flux: 4.12794\n",
       "base_CircularApertureFlux_12_0_fluxSigma: 2.10031\n",
       "base_CircularApertureFlux_12_0_flag: 0\n",
       "base_CircularApertureFlux_12_0_flag_apertureTruncated: 0\n",
       "base_CircularApertureFlux_12_0_flag_sincCoeffsTruncated: 0\n",
       "base_CircularApertureFlux_17_0_flux: 1.60649\n",
       "base_CircularApertureFlux_17_0_fluxSigma: 3.00501\n",
       "base_CircularApertureFlux_17_0_flag: 0\n",
       "base_CircularApertureFlux_17_0_flag_apertureTruncated: 0\n",
       "base_CircularApertureFlux_25_0_flux: 4.57868\n",
       "base_CircularApertureFlux_25_0_fluxSigma: 4.32478\n",
       "base_CircularApertureFlux_25_0_flag: 0\n",
       "base_CircularApertureFlux_25_0_flag_apertureTruncated: 0\n",
       "base_CircularApertureFlux_35_0_flux: 4.9785\n",
       "base_CircularApertureFlux_35_0_fluxSigma: 5.92596\n",
       "base_CircularApertureFlux_35_0_flag: 0\n",
       "base_CircularApertureFlux_35_0_flag_apertureTruncated: 0\n",
       "base_CircularApertureFlux_50_0_flux: nan\n",
       "base_CircularApertureFlux_50_0_fluxSigma: nan\n",
       "base_CircularApertureFlux_50_0_flag: 1\n",
       "base_CircularApertureFlux_50_0_flag_apertureTruncated: 1\n",
       "base_CircularApertureFlux_70_0_flux: nan\n",
       "base_CircularApertureFlux_70_0_fluxSigma: nan\n",
       "base_CircularApertureFlux_70_0_flag: 1\n",
       "base_CircularApertureFlux_70_0_flag_apertureTruncated: 1\n",
       "base_GaussianFlux_flux: 5.3645\n",
       "base_GaussianFlux_fluxSigma: 0.482497\n",
       "base_GaussianFlux_flag: 0\n",
       "base_LocalBackground_flux: -6.67989e-05\n",
       "base_LocalBackground_fluxSigma: 0.0393157\n",
       "base_LocalBackground_flag: 0\n",
       "base_LocalBackground_flag_noGoodPixels: 0\n",
       "base_LocalBackground_flag_noPsf: 0\n",
       "base_PixelFlags_flag: 0\n",
       "base_PixelFlags_flag_offimage: 0\n",
       "base_PixelFlags_flag_edge: 0\n",
       "base_PixelFlags_flag_interpolated: 0\n",
       "base_PixelFlags_flag_saturated: 0\n",
       "base_PixelFlags_flag_cr: 0\n",
       "base_PixelFlags_flag_bad: 0\n",
       "base_PixelFlags_flag_suspect: 0\n",
       "base_PixelFlags_flag_interpolatedCenter: 0\n",
       "base_PixelFlags_flag_saturatedCenter: 0\n",
       "base_PixelFlags_flag_crCenter: 0\n",
       "base_PixelFlags_flag_suspectCenter: 0\n",
       "base_PixelFlags_flag_clippedCenter: 0\n",
       "base_PixelFlags_flag_sensor_edgeCenter: 0\n",
       "base_PixelFlags_flag_rejectedCenter: 1\n",
       "base_PixelFlags_flag_inexact_psfCenter: 1\n",
       "base_PixelFlags_flag_bright_objectCenter: 0\n",
       "base_PixelFlags_flag_clipped: 1\n",
       "base_PixelFlags_flag_sensor_edge: 0\n",
       "base_PixelFlags_flag_rejected: 1\n",
       "base_PixelFlags_flag_inexact_psf: 1\n",
       "base_PixelFlags_flag_bright_object: 0\n",
       "base_PsfFlux_flux: 5.6625\n",
       "base_PsfFlux_fluxSigma: 0.506249\n",
       "base_PsfFlux_area: 21.3183\n",
       "base_PsfFlux_flag: 0\n",
       "base_PsfFlux_flag_noGoodPixels: 0\n",
       "base_PsfFlux_flag_edge: 0\n",
       "base_Variance_flag: 0\n",
       "base_Variance_value: 0.00843113\n",
       "base_Variance_flag_emptyFootprint: 0\n",
       "ext_photometryKron_KronFlux_flux: 6.25872\n",
       "ext_photometryKron_KronFlux_fluxSigma: 1.09609\n",
       "ext_photometryKron_KronFlux_radius: 2.32129\n",
       "ext_photometryKron_KronFlux_radius_for_radius: nan\n",
       "ext_photometryKron_KronFlux_psf_radius: 1.36218\n",
       "ext_photometryKron_KronFlux_flag: 0\n",
       "ext_photometryKron_KronFlux_flag_edge: 0\n",
       "ext_photometryKron_KronFlux_flag_bad_shape_no_psf: 0\n",
       "ext_photometryKron_KronFlux_flag_no_minimum_radius: 0\n",
       "ext_photometryKron_KronFlux_flag_no_fallback_radius: 0\n",
       "ext_photometryKron_KronFlux_flag_bad_radius: 0\n",
       "ext_photometryKron_KronFlux_flag_used_minimum_radius: 0\n",
       "ext_photometryKron_KronFlux_flag_used_psf_radius: 0\n",
       "ext_photometryKron_KronFlux_flag_small_radius: 0\n",
       "ext_photometryKron_KronFlux_flag_bad_shape: 0\n",
       "ext_convolved_ConvolvedFlux_seeing: 1.08686\n",
       "ext_convolved_ConvolvedFlux_0_deconv: 0\n",
       "ext_convolved_ConvolvedFlux_0_3_3_flux: 5.29829\n",
       "ext_convolved_ConvolvedFlux_0_3_3_fluxSigma: 0.204166\n",
       "ext_convolved_ConvolvedFlux_0_3_3_flag: 0\n",
       "ext_convolved_ConvolvedFlux_0_3_3_flag_apertureTruncated: 0\n",
       "ext_convolved_ConvolvedFlux_0_3_3_flag_sincCoeffsTruncated: 0\n",
       "ext_convolved_ConvolvedFlux_0_4_5_flux: 5.39212\n",
       "ext_convolved_ConvolvedFlux_0_4_5_fluxSigma: 0.242869\n",
       "ext_convolved_ConvolvedFlux_0_4_5_flag: 0\n",
       "ext_convolved_ConvolvedFlux_0_4_5_flag_apertureTruncated: 0\n",
       "ext_convolved_ConvolvedFlux_0_4_5_flag_sincCoeffsTruncated: 0\n",
       "ext_convolved_ConvolvedFlux_0_6_0_flux: 5.71001\n",
       "ext_convolved_ConvolvedFlux_0_6_0_fluxSigma: 0.306953\n",
       "ext_convolved_ConvolvedFlux_0_6_0_flag: 0\n",
       "ext_convolved_ConvolvedFlux_0_6_0_flag_apertureTruncated: 0\n",
       "ext_convolved_ConvolvedFlux_0_6_0_flag_sincCoeffsTruncated: 0\n",
       "ext_convolved_ConvolvedFlux_0_kron_flux: 5.88756\n",
       "ext_convolved_ConvolvedFlux_0_kron_fluxSigma: 0.310762\n",
       "ext_convolved_ConvolvedFlux_0_kron_flag: 0\n",
       "ext_convolved_ConvolvedFlux_1_deconv: 0\n",
       "ext_convolved_ConvolvedFlux_1_3_3_flux: 5.39759\n",
       "ext_convolved_ConvolvedFlux_1_3_3_fluxSigma: 0.143874\n",
       "ext_convolved_ConvolvedFlux_1_3_3_flag: 0\n",
       "ext_convolved_ConvolvedFlux_1_3_3_flag_apertureTruncated: 0\n",
       "ext_convolved_ConvolvedFlux_1_3_3_flag_sincCoeffsTruncated: 0\n",
       "ext_convolved_ConvolvedFlux_1_4_5_flux: 5.45022\n",
       "ext_convolved_ConvolvedFlux_1_4_5_fluxSigma: 0.150021\n",
       "ext_convolved_ConvolvedFlux_1_4_5_flag: 0\n",
       "ext_convolved_ConvolvedFlux_1_4_5_flag_apertureTruncated: 0\n",
       "ext_convolved_ConvolvedFlux_1_4_5_flag_sincCoeffsTruncated: 0\n",
       "ext_convolved_ConvolvedFlux_1_6_0_flux: 5.4092\n",
       "ext_convolved_ConvolvedFlux_1_6_0_fluxSigma: 0.175493\n",
       "ext_convolved_ConvolvedFlux_1_6_0_flag: 0\n",
       "ext_convolved_ConvolvedFlux_1_6_0_flag_apertureTruncated: 0\n",
       "ext_convolved_ConvolvedFlux_1_6_0_flag_sincCoeffsTruncated: 0\n",
       "ext_convolved_ConvolvedFlux_1_kron_flux: 6.07104\n",
       "ext_convolved_ConvolvedFlux_1_kron_fluxSigma: 0.192106\n",
       "ext_convolved_ConvolvedFlux_1_kron_flag: 0\n",
       "ext_convolved_ConvolvedFlux_2_deconv: 0\n",
       "ext_convolved_ConvolvedFlux_2_3_3_flux: 5.3804\n",
       "ext_convolved_ConvolvedFlux_2_3_3_fluxSigma: 0.137859\n",
       "ext_convolved_ConvolvedFlux_2_3_3_flag: 0\n",
       "ext_convolved_ConvolvedFlux_2_3_3_flag_apertureTruncated: 0\n",
       "ext_convolved_ConvolvedFlux_2_3_3_flag_sincCoeffsTruncated: 0\n",
       "ext_convolved_ConvolvedFlux_2_4_5_flux: 5.39207\n",
       "ext_convolved_ConvolvedFlux_2_4_5_fluxSigma: 0.130084\n",
       "ext_convolved_ConvolvedFlux_2_4_5_flag: 0\n",
       "ext_convolved_ConvolvedFlux_2_4_5_flag_apertureTruncated: 0\n",
       "ext_convolved_ConvolvedFlux_2_4_5_flag_sincCoeffsTruncated: 0\n",
       "ext_convolved_ConvolvedFlux_2_6_0_flux: 5.2735\n",
       "ext_convolved_ConvolvedFlux_2_6_0_fluxSigma: 0.137173\n",
       "ext_convolved_ConvolvedFlux_2_6_0_flag: 0\n",
       "ext_convolved_ConvolvedFlux_2_6_0_flag_apertureTruncated: 0\n",
       "ext_convolved_ConvolvedFlux_2_6_0_flag_sincCoeffsTruncated: 0\n",
       "ext_convolved_ConvolvedFlux_2_kron_flux: 6.49885\n",
       "ext_convolved_ConvolvedFlux_2_kron_fluxSigma: 0.166301\n",
       "ext_convolved_ConvolvedFlux_2_kron_flag: 0\n",
       "ext_convolved_ConvolvedFlux_3_deconv: 0\n",
       "ext_convolved_ConvolvedFlux_3_3_3_flux: 5.30365\n",
       "ext_convolved_ConvolvedFlux_3_3_3_fluxSigma: 0.143785\n",
       "ext_convolved_ConvolvedFlux_3_3_3_flag: 0\n",
       "ext_convolved_ConvolvedFlux_3_3_3_flag_apertureTruncated: 0\n",
       "ext_convolved_ConvolvedFlux_3_3_3_flag_sincCoeffsTruncated: 0\n",
       "ext_convolved_ConvolvedFlux_3_4_5_flux: 5.29281\n",
       "ext_convolved_ConvolvedFlux_3_4_5_fluxSigma: 0.127459\n",
       "ext_convolved_ConvolvedFlux_3_4_5_flag: 0\n",
       "ext_convolved_ConvolvedFlux_3_4_5_flag_apertureTruncated: 0\n",
       "ext_convolved_ConvolvedFlux_3_4_5_flag_sincCoeffsTruncated: 0\n",
       "ext_convolved_ConvolvedFlux_3_6_0_flux: 5.15493\n",
       "ext_convolved_ConvolvedFlux_3_6_0_fluxSigma: 0.123616\n",
       "ext_convolved_ConvolvedFlux_3_6_0_flag: 0\n",
       "ext_convolved_ConvolvedFlux_3_6_0_flag_apertureTruncated: 0\n",
       "ext_convolved_ConvolvedFlux_3_6_0_flag_sincCoeffsTruncated: 0\n",
       "ext_convolved_ConvolvedFlux_3_kron_flux: 6.82524\n",
       "ext_convolved_ConvolvedFlux_3_kron_fluxSigma: 0.162588\n",
       "ext_convolved_ConvolvedFlux_3_kron_flag: 0\n",
       "ext_convolved_ConvolvedFlux_flag: 0\n",
       "modelfit_CModel_initial_flux: 5.6471\n",
       "modelfit_CModel_initial_fluxSigma: 0.507515\n",
       "modelfit_CModel_initial_flag: 0\n",
       "modelfit_CModel_initial_flux_inner: 5.00473\n",
       "modelfit_CModel_initial_flag_badReference: 0\n",
       "modelfit_CModel_initial_flag_numericError: 0\n",
       "modelfit_CModel_exp_flux: 5.63397\n",
       "modelfit_CModel_exp_fluxSigma: 0.506329\n",
       "modelfit_CModel_exp_flag: 0\n",
       "modelfit_CModel_exp_flux_inner: 5.00238\n",
       "modelfit_CModel_exp_flag_badReference: 0\n",
       "modelfit_CModel_exp_flag_numericError: 0\n",
       "modelfit_CModel_dev_flux: 5.61997\n",
       "modelfit_CModel_dev_fluxSigma: 0.50507\n",
       "modelfit_CModel_dev_flag: 0\n",
       "modelfit_CModel_dev_flux_inner: 5.00298\n",
       "modelfit_CModel_dev_flag_badReference: 0\n",
       "modelfit_CModel_dev_flag_numericError: 0\n",
       "modelfit_CModel_flux: 5.61798\n",
       "modelfit_CModel_fluxSigma: 0.504891\n",
       "modelfit_CModel_flag: 0\n",
       "modelfit_CModel_flux_inner: 5.00238\n",
       "modelfit_CModel_fracDev: 0\n",
       "modelfit_CModel_objective: 0.0448302\n",
       "modelfit_CModel_flag_region_maxArea: 0\n",
       "modelfit_CModel_flag_region_maxBadPixelFraction: 0\n",
       "modelfit_CModel_flag_badReference: 0\n",
       "modelfit_CModel_flag_noShapeletPsf: 0\n",
       "modelfit_CModel_flag_badCentroid: 0\n",
       "undeblended_base_CircularApertureFlux_3_0_flux: 8.15332\n",
       "undeblended_base_CircularApertureFlux_3_0_fluxSigma: 0.545873\n",
       "undeblended_base_CircularApertureFlux_3_0_flag: 0\n",
       "undeblended_base_CircularApertureFlux_3_0_flag_apertureTruncated: 0\n",
       "undeblended_base_CircularApertureFlux_3_0_flag_sincCoeffsTruncated: 0\n",
       "undeblended_base_CircularApertureFlux_4_5_flux: 11.6257\n",
       "undeblended_base_CircularApertureFlux_4_5_fluxSigma: 0.802507\n",
       "undeblended_base_CircularApertureFlux_4_5_flag: 0\n",
       "undeblended_base_CircularApertureFlux_4_5_flag_apertureTruncated: 0\n",
       "undeblended_base_CircularApertureFlux_4_5_flag_sincCoeffsTruncated: 0\n",
       "undeblended_base_CircularApertureFlux_6_0_flux: 20.1609\n",
       "undeblended_base_CircularApertureFlux_6_0_fluxSigma: 1.06565\n",
       "undeblended_base_CircularApertureFlux_6_0_flag: 0\n",
       "undeblended_base_CircularApertureFlux_6_0_flag_apertureTruncated: 0\n",
       "undeblended_base_CircularApertureFlux_6_0_flag_sincCoeffsTruncated: 0\n",
       "undeblended_base_CircularApertureFlux_9_0_flux: 32.4257\n",
       "undeblended_base_CircularApertureFlux_9_0_fluxSigma: 1.58138\n",
       "undeblended_base_CircularApertureFlux_9_0_flag: 0\n",
       "undeblended_base_CircularApertureFlux_9_0_flag_apertureTruncated: 0\n",
       "undeblended_base_CircularApertureFlux_9_0_flag_sincCoeffsTruncated: 0\n",
       "undeblended_base_CircularApertureFlux_12_0_flux: 46.6068\n",
       "undeblended_base_CircularApertureFlux_12_0_fluxSigma: 2.10031\n",
       "undeblended_base_CircularApertureFlux_12_0_flag: 0\n",
       "undeblended_base_CircularApertureFlux_12_0_flag_apertureTruncated: 0\n",
       "undeblended_base_CircularApertureFlux_12_0_flag_sincCoeffsTruncated: 0\n",
       "undeblended_base_CircularApertureFlux_17_0_flux: 65.6432\n",
       "undeblended_base_CircularApertureFlux_17_0_fluxSigma: 3.00501\n",
       "undeblended_base_CircularApertureFlux_17_0_flag: 0\n",
       "undeblended_base_CircularApertureFlux_17_0_flag_apertureTruncated: 0\n",
       "undeblended_base_CircularApertureFlux_25_0_flux: 78.0534\n",
       "undeblended_base_CircularApertureFlux_25_0_fluxSigma: 4.32478\n",
       "undeblended_base_CircularApertureFlux_25_0_flag: 0\n",
       "undeblended_base_CircularApertureFlux_25_0_flag_apertureTruncated: 0\n",
       "undeblended_base_CircularApertureFlux_35_0_flux: 92.6132\n",
       "undeblended_base_CircularApertureFlux_35_0_fluxSigma: 5.92596\n",
       "undeblended_base_CircularApertureFlux_35_0_flag: 0\n",
       "undeblended_base_CircularApertureFlux_35_0_flag_apertureTruncated: 0\n",
       "undeblended_base_CircularApertureFlux_50_0_flux: nan\n",
       "undeblended_base_CircularApertureFlux_50_0_fluxSigma: nan\n",
       "undeblended_base_CircularApertureFlux_50_0_flag: 1\n",
       "undeblended_base_CircularApertureFlux_50_0_flag_apertureTruncated: 1\n",
       "undeblended_base_CircularApertureFlux_70_0_flux: nan\n",
       "undeblended_base_CircularApertureFlux_70_0_fluxSigma: nan\n",
       "undeblended_base_CircularApertureFlux_70_0_flag: 1\n",
       "undeblended_base_CircularApertureFlux_70_0_flag_apertureTruncated: 1\n",
       "undeblended_base_PsfFlux_flux: 9.18378\n",
       "undeblended_base_PsfFlux_fluxSigma: 0.519286\n",
       "undeblended_base_PsfFlux_area: 21.3183\n",
       "undeblended_base_PsfFlux_flag: 0\n",
       "undeblended_base_PsfFlux_flag_noGoodPixels: 0\n",
       "undeblended_base_PsfFlux_flag_edge: 0\n",
       "undeblended_ext_photometryKron_KronFlux_flux: 19.2316\n",
       "undeblended_ext_photometryKron_KronFlux_fluxSigma: 1.02837\n",
       "undeblended_ext_photometryKron_KronFlux_radius: 2.32129\n",
       "undeblended_ext_photometryKron_KronFlux_radius_for_radius: nan\n",
       "undeblended_ext_photometryKron_KronFlux_psf_radius: 1.36218\n",
       "undeblended_ext_photometryKron_KronFlux_flag: 0\n",
       "undeblended_ext_photometryKron_KronFlux_flag_edge: 0\n",
       "undeblended_ext_photometryKron_KronFlux_flag_bad_shape_no_psf: 0\n",
       "undeblended_ext_photometryKron_KronFlux_flag_no_minimum_radius: 0\n",
       "undeblended_ext_photometryKron_KronFlux_flag_no_fallback_radius: 0\n",
       "undeblended_ext_photometryKron_KronFlux_flag_bad_radius: 0\n",
       "undeblended_ext_photometryKron_KronFlux_flag_used_minimum_radius: 0\n",
       "undeblended_ext_photometryKron_KronFlux_flag_used_psf_radius: 0\n",
       "undeblended_ext_photometryKron_KronFlux_flag_small_radius: 0\n",
       "undeblended_ext_photometryKron_KronFlux_flag_bad_shape: 0\n",
       "ext_convolved_ConvolvedFlux_0_6_0_apCorr: 1.03595\n",
       "ext_convolved_ConvolvedFlux_0_6_0_apCorrSigma: 0\n",
       "ext_convolved_ConvolvedFlux_0_6_0_flag_apCorr: 0\n",
       "ext_convolved_ConvolvedFlux_3_kron_apCorr: 1.80967\n",
       "ext_convolved_ConvolvedFlux_3_kron_apCorrSigma: 0\n",
       "ext_convolved_ConvolvedFlux_3_kron_flag_apCorr: 0\n",
       "modelfit_CModel_exp_apCorr: 0.971676\n",
       "modelfit_CModel_exp_apCorrSigma: 0\n",
       "modelfit_CModel_exp_flag_apCorr: 0\n",
       "ext_convolved_ConvolvedFlux_1_4_5_apCorr: 1.2102\n",
       "ext_convolved_ConvolvedFlux_1_4_5_apCorrSigma: 0\n",
       "ext_convolved_ConvolvedFlux_1_4_5_flag_apCorr: 0\n",
       "ext_convolved_ConvolvedFlux_1_6_0_apCorr: 1.06686\n",
       "ext_convolved_ConvolvedFlux_1_6_0_apCorrSigma: 0\n",
       "ext_convolved_ConvolvedFlux_1_6_0_flag_apCorr: 0\n",
       "ext_convolved_ConvolvedFlux_2_kron_apCorr: 1.45732\n",
       "ext_convolved_ConvolvedFlux_2_kron_apCorrSigma: 0\n",
       "ext_convolved_ConvolvedFlux_2_kron_flag_apCorr: 0\n",
       "ext_convolved_ConvolvedFlux_1_3_3_apCorr: 1.55158\n",
       "ext_convolved_ConvolvedFlux_1_3_3_apCorrSigma: 0\n",
       "ext_convolved_ConvolvedFlux_1_3_3_flag_apCorr: 0\n",
       "ext_convolved_ConvolvedFlux_2_6_0_apCorr: 1.16157\n",
       "ext_convolved_ConvolvedFlux_2_6_0_apCorrSigma: 0\n",
       "ext_convolved_ConvolvedFlux_2_6_0_flag_apCorr: 0\n",
       "ext_photometryKron_KronFlux_apCorr: 1.06585\n",
       "ext_photometryKron_KronFlux_apCorrSigma: 0\n",
       "ext_photometryKron_KronFlux_flag_apCorr: 0\n",
       "base_PsfFlux_apCorr: 0.974894\n",
       "base_PsfFlux_apCorrSigma: 0\n",
       "base_PsfFlux_flag_apCorr: 0\n",
       "ext_convolved_ConvolvedFlux_0_4_5_apCorr: 1.08812\n",
       "ext_convolved_ConvolvedFlux_0_4_5_apCorrSigma: 0\n",
       "ext_convolved_ConvolvedFlux_0_4_5_flag_apCorr: 0\n",
       "ext_convolved_ConvolvedFlux_0_kron_apCorr: 1.08612\n",
       "ext_convolved_ConvolvedFlux_0_kron_apCorrSigma: 0\n",
       "ext_convolved_ConvolvedFlux_0_kron_flag_apCorr: 0\n",
       "ext_convolved_ConvolvedFlux_3_3_3_apCorr: 2.76983\n",
       "ext_convolved_ConvolvedFlux_3_3_3_apCorrSigma: 0\n",
       "ext_convolved_ConvolvedFlux_3_3_3_flag_apCorr: 0\n",
       "ext_convolved_ConvolvedFlux_0_3_3_apCorr: 1.21941\n",
       "ext_convolved_ConvolvedFlux_0_3_3_apCorrSigma: 0\n",
       "ext_convolved_ConvolvedFlux_0_3_3_flag_apCorr: 0\n",
       "ext_convolved_ConvolvedFlux_3_4_5_apCorr: 1.82466\n",
       "ext_convolved_ConvolvedFlux_3_4_5_apCorrSigma: 0\n",
       "ext_convolved_ConvolvedFlux_3_4_5_flag_apCorr: 0\n",
       "base_GaussianFlux_apCorr: 1.15921\n",
       "base_GaussianFlux_apCorrSigma: 0\n",
       "base_GaussianFlux_flag_apCorr: 0\n",
       "modelfit_CModel_dev_apCorr: 0.969019\n",
       "modelfit_CModel_dev_apCorrSigma: 0\n",
       "modelfit_CModel_dev_flag_apCorr: 0\n",
       "ext_convolved_ConvolvedFlux_3_6_0_apCorr: 1.33018\n",
       "ext_convolved_ConvolvedFlux_3_6_0_apCorrSigma: 0\n",
       "ext_convolved_ConvolvedFlux_3_6_0_flag_apCorr: 0\n",
       "modelfit_CModel_initial_apCorr: 0.973301\n",
       "modelfit_CModel_initial_apCorrSigma: 0\n",
       "modelfit_CModel_initial_flag_apCorr: 0\n",
       "ext_convolved_ConvolvedFlux_2_4_5_apCorr: 1.46302\n",
       "ext_convolved_ConvolvedFlux_2_4_5_apCorrSigma: 0\n",
       "ext_convolved_ConvolvedFlux_2_4_5_flag_apCorr: 0\n",
       "modelfit_CModel_apCorr: 0.968917\n",
       "modelfit_CModel_apCorrSigma: 0\n",
       "modelfit_CModel_flag_apCorr: 0\n",
       "ext_convolved_ConvolvedFlux_2_3_3_apCorr: 2.08059\n",
       "ext_convolved_ConvolvedFlux_2_3_3_apCorrSigma: 0\n",
       "ext_convolved_ConvolvedFlux_2_3_3_flag_apCorr: 0\n",
       "ext_convolved_ConvolvedFlux_1_kron_apCorr: 1.20902\n",
       "ext_convolved_ConvolvedFlux_1_kron_apCorrSigma: 0\n",
       "ext_convolved_ConvolvedFlux_1_kron_flag_apCorr: 0\n",
       "base_ClassificationExtendedness_value: 0\n",
       "base_ClassificationExtendedness_flag: 0"
      ]
     },
     "execution_count": 57,
     "metadata": {},
     "output_type": "execute_result"
    }
   ],
   "source": [
    "# lets examine the first element in the matches list\n",
    "# we can grab the record corresponding to this source in the i band catalog\n",
    "# using the first attribute\n",
    "matches[0].first"
   ]
  },
  {
   "cell_type": "code",
   "execution_count": 58,
   "metadata": {},
   "outputs": [
    {
     "data": {
      "text/plain": [
       "<class 'lsst.afw.table.SourceRecord'>\n",
       "id: 69621089155700649\n",
       "coord_ra: 4.25365 rad\n",
       "coord_dec: 0.734943 rad\n",
       "parent: 69621089155678244\n",
       "deblend_nChild: 0\n",
       "base_SdssCentroid_x: 1080.12\n",
       "base_SdssCentroid_y: 11941.7\n",
       "base_SdssCentroid_xSigma: 0.538286\n",
       "base_SdssCentroid_ySigma: 1.67512\n",
       "base_SdssCentroid_flag: 0\n",
       "base_SdssCentroid_flag_edge: 0\n",
       "base_SdssCentroid_flag_noSecondDerivative: 0\n",
       "base_SdssCentroid_flag_almostNoSecondDerivative: 0\n",
       "base_SdssCentroid_flag_notAtMaximum: 0\n",
       "base_SdssCentroid_flag_resetToPeak: 0\n",
       "base_TransformedCentroid_x: 1079.88\n",
       "base_TransformedCentroid_y: 11941.8\n",
       "base_TransformedCentroid_flag: 0\n",
       "base_InputCount_flag: 0\n",
       "base_InputCount_value: 4\n",
       "base_InputCount_flag_noInputs: 0\n",
       "base_SdssShape_xx: 3.55838\n",
       "base_SdssShape_yy: 2.91767\n",
       "base_SdssShape_xy: 0.129322\n",
       "base_SdssShape_xxSigma: 1.61242\n",
       "base_SdssShape_yySigma: 1.03325\n",
       "base_SdssShape_xySigma: 1.3221\n",
       "base_SdssShape_x: 1080\n",
       "base_SdssShape_y: 11941.8\n",
       "base_SdssShape_flux: 2.35406\n",
       "base_SdssShape_fluxSigma: 0.533353\n",
       "base_SdssShape_psf_xx: 2.73503\n",
       "base_SdssShape_psf_yy: 2.77374\n",
       "base_SdssShape_psf_xy: -0.021536\n",
       "base_SdssShape_flux_xx_Cov: -0.429995\n",
       "base_SdssShape_flux_yy_Cov: -0.0156273\n",
       "base_SdssShape_flux_xy_Cov: -0.352572\n",
       "base_SdssShape_flag: 0\n",
       "base_SdssShape_flag_unweightedBad: 0\n",
       "base_SdssShape_flag_unweighted: 0\n",
       "base_SdssShape_flag_shift: 0\n",
       "base_SdssShape_flag_maxIter: 0\n",
       "base_SdssShape_flag_psf: 0\n",
       "base_TransformedShape_xx: 1.00834\n",
       "base_TransformedShape_yy: 1.15658\n",
       "base_TransformedShape_xy: 0.179574\n",
       "base_TransformedShape_flag: 0\n",
       "modelfit_DoubleShapeletPsfApprox_0_xx: 2.01183\n",
       "modelfit_DoubleShapeletPsfApprox_0_yy: 2.03891\n",
       "modelfit_DoubleShapeletPsfApprox_0_xy: -0.0222127\n",
       "modelfit_DoubleShapeletPsfApprox_0_x: -0.114817\n",
       "modelfit_DoubleShapeletPsfApprox_0_y: 0.098881\n",
       "modelfit_DoubleShapeletPsfApprox_0_0: 0.157469\n",
       "modelfit_DoubleShapeletPsfApprox_0_1: -0.00849321\n",
       "modelfit_DoubleShapeletPsfApprox_0_2: 0.0126209\n",
       "modelfit_DoubleShapeletPsfApprox_0_3: -0.000147113\n",
       "modelfit_DoubleShapeletPsfApprox_0_4: -0.000329425\n",
       "modelfit_DoubleShapeletPsfApprox_0_5: 0.000255725\n",
       "modelfit_DoubleShapeletPsfApprox_1_xx: 8.08566\n",
       "modelfit_DoubleShapeletPsfApprox_1_yy: 8.19452\n",
       "modelfit_DoubleShapeletPsfApprox_1_xy: -0.0892741\n",
       "modelfit_DoubleShapeletPsfApprox_1_x: -0.114817\n",
       "modelfit_DoubleShapeletPsfApprox_1_y: 0.098881\n",
       "modelfit_DoubleShapeletPsfApprox_1_0: 0.113793\n",
       "modelfit_DoubleShapeletPsfApprox_1_1: -0.000164181\n",
       "modelfit_DoubleShapeletPsfApprox_1_2: -0.00543612\n",
       "modelfit_DoubleShapeletPsfApprox_flag: 0\n",
       "modelfit_DoubleShapeletPsfApprox_flag_invalidPointForPsf: 0\n",
       "modelfit_DoubleShapeletPsfApprox_flag_invalidMoments: 0\n",
       "modelfit_DoubleShapeletPsfApprox_flag_maxIterations: 0\n",
       "base_CircularApertureFlux_3_0_flux: 1.80657\n",
       "base_CircularApertureFlux_3_0_fluxSigma: 0.33883\n",
       "base_CircularApertureFlux_3_0_flag: 0\n",
       "base_CircularApertureFlux_3_0_flag_apertureTruncated: 0\n",
       "base_CircularApertureFlux_3_0_flag_sincCoeffsTruncated: 0\n",
       "base_CircularApertureFlux_4_5_flux: 2.14845\n",
       "base_CircularApertureFlux_4_5_fluxSigma: 0.508682\n",
       "base_CircularApertureFlux_4_5_flag: 0\n",
       "base_CircularApertureFlux_4_5_flag_apertureTruncated: 0\n",
       "base_CircularApertureFlux_4_5_flag_sincCoeffsTruncated: 0\n",
       "base_CircularApertureFlux_6_0_flux: 2.48403\n",
       "base_CircularApertureFlux_6_0_fluxSigma: 0.682029\n",
       "base_CircularApertureFlux_6_0_flag: 0\n",
       "base_CircularApertureFlux_6_0_flag_apertureTruncated: 0\n",
       "base_CircularApertureFlux_6_0_flag_sincCoeffsTruncated: 0\n",
       "base_CircularApertureFlux_9_0_flux: 2.50447\n",
       "base_CircularApertureFlux_9_0_fluxSigma: 1.02411\n",
       "base_CircularApertureFlux_9_0_flag: 0\n",
       "base_CircularApertureFlux_9_0_flag_apertureTruncated: 0\n",
       "base_CircularApertureFlux_9_0_flag_sincCoeffsTruncated: 0\n",
       "base_CircularApertureFlux_12_0_flux: 1.81171\n",
       "base_CircularApertureFlux_12_0_fluxSigma: 1.34918\n",
       "base_CircularApertureFlux_12_0_flag: 0\n",
       "base_CircularApertureFlux_12_0_flag_apertureTruncated: 0\n",
       "base_CircularApertureFlux_12_0_flag_sincCoeffsTruncated: 0\n",
       "base_CircularApertureFlux_17_0_flux: 2.66643\n",
       "base_CircularApertureFlux_17_0_fluxSigma: 1.90042\n",
       "base_CircularApertureFlux_17_0_flag: 0\n",
       "base_CircularApertureFlux_17_0_flag_apertureTruncated: 0\n",
       "base_CircularApertureFlux_25_0_flux: 6.95241\n",
       "base_CircularApertureFlux_25_0_fluxSigma: 2.74261\n",
       "base_CircularApertureFlux_25_0_flag: 0\n",
       "base_CircularApertureFlux_25_0_flag_apertureTruncated: 0\n",
       "base_CircularApertureFlux_35_0_flux: 13.8254\n",
       "base_CircularApertureFlux_35_0_fluxSigma: 3.79355\n",
       "base_CircularApertureFlux_35_0_flag: 0\n",
       "base_CircularApertureFlux_35_0_flag_apertureTruncated: 0\n",
       "base_CircularApertureFlux_50_0_flux: nan\n",
       "base_CircularApertureFlux_50_0_fluxSigma: nan\n",
       "base_CircularApertureFlux_50_0_flag: 1\n",
       "base_CircularApertureFlux_50_0_flag_apertureTruncated: 1\n",
       "base_CircularApertureFlux_70_0_flux: nan\n",
       "base_CircularApertureFlux_70_0_fluxSigma: nan\n",
       "base_CircularApertureFlux_70_0_flag: 1\n",
       "base_CircularApertureFlux_70_0_flag_apertureTruncated: 1\n",
       "base_GaussianFlux_flux: 1.36419\n",
       "base_GaussianFlux_fluxSigma: 0.300857\n",
       "base_GaussianFlux_flag: 0\n",
       "base_LocalBackground_flux: 0.00200032\n",
       "base_LocalBackground_fluxSigma: 0.0477909\n",
       "base_LocalBackground_flag: 0\n",
       "base_LocalBackground_flag_noGoodPixels: 0\n",
       "base_LocalBackground_flag_noPsf: 0\n",
       "base_PixelFlags_flag: 0\n",
       "base_PixelFlags_flag_offimage: 0\n",
       "base_PixelFlags_flag_edge: 0\n",
       "base_PixelFlags_flag_interpolated: 0\n",
       "base_PixelFlags_flag_saturated: 0\n",
       "base_PixelFlags_flag_cr: 0\n",
       "base_PixelFlags_flag_bad: 0\n",
       "base_PixelFlags_flag_suspect: 0\n",
       "base_PixelFlags_flag_interpolatedCenter: 0\n",
       "base_PixelFlags_flag_saturatedCenter: 0\n",
       "base_PixelFlags_flag_crCenter: 0\n",
       "base_PixelFlags_flag_suspectCenter: 0\n",
       "base_PixelFlags_flag_clippedCenter: 1\n",
       "base_PixelFlags_flag_sensor_edgeCenter: 0\n",
       "base_PixelFlags_flag_rejectedCenter: 0\n",
       "base_PixelFlags_flag_inexact_psfCenter: 1\n",
       "base_PixelFlags_flag_bright_objectCenter: 0\n",
       "base_PixelFlags_flag_clipped: 1\n",
       "base_PixelFlags_flag_sensor_edge: 0\n",
       "base_PixelFlags_flag_rejected: 0\n",
       "base_PixelFlags_flag_inexact_psf: 1\n",
       "base_PixelFlags_flag_bright_object: 0\n",
       "base_PsfFlux_flux: 2.47834\n",
       "base_PsfFlux_fluxSigma: 0.436906\n",
       "base_PsfFlux_area: 47.5945\n",
       "base_PsfFlux_flag: 0\n",
       "base_PsfFlux_flag_noGoodPixels: 0\n",
       "base_PsfFlux_flag_edge: 0\n",
       "base_Variance_flag: 1\n",
       "base_Variance_value: nan\n",
       "base_Variance_flag_emptyFootprint: 1\n",
       "ext_photometryKron_KronFlux_flux: 2.53797\n",
       "ext_photometryKron_KronFlux_fluxSigma: 0.691747\n",
       "ext_photometryKron_KronFlux_radius: 2.32129\n",
       "ext_photometryKron_KronFlux_radius_for_radius: nan\n",
       "ext_photometryKron_KronFlux_psf_radius: 2.07998\n",
       "ext_photometryKron_KronFlux_flag: 0\n",
       "ext_photometryKron_KronFlux_flag_edge: 0\n",
       "ext_photometryKron_KronFlux_flag_bad_shape_no_psf: 0\n",
       "ext_photometryKron_KronFlux_flag_no_minimum_radius: 0\n",
       "ext_photometryKron_KronFlux_flag_no_fallback_radius: 0\n",
       "ext_photometryKron_KronFlux_flag_bad_radius: 0\n",
       "ext_photometryKron_KronFlux_flag_used_minimum_radius: 0\n",
       "ext_photometryKron_KronFlux_flag_used_psf_radius: 0\n",
       "ext_photometryKron_KronFlux_flag_small_radius: 0\n",
       "ext_photometryKron_KronFlux_flag_bad_shape: 0\n",
       "ext_convolved_ConvolvedFlux_seeing: 1.65959\n",
       "ext_convolved_ConvolvedFlux_0_deconv: 1\n",
       "ext_convolved_ConvolvedFlux_0_3_3_flux: 2.73201\n",
       "ext_convolved_ConvolvedFlux_0_3_3_fluxSigma: 0.519504\n",
       "ext_convolved_ConvolvedFlux_0_3_3_flag: 0\n",
       "ext_convolved_ConvolvedFlux_0_3_3_flag_apertureTruncated: 0\n",
       "ext_convolved_ConvolvedFlux_0_3_3_flag_sincCoeffsTruncated: 0\n",
       "ext_convolved_ConvolvedFlux_0_4_5_flux: 2.52401\n",
       "ext_convolved_ConvolvedFlux_0_4_5_fluxSigma: 0.597604\n",
       "ext_convolved_ConvolvedFlux_0_4_5_flag: 0\n",
       "ext_convolved_ConvolvedFlux_0_4_5_flag_apertureTruncated: 0\n",
       "ext_convolved_ConvolvedFlux_0_4_5_flag_sincCoeffsTruncated: 0\n",
       "ext_convolved_ConvolvedFlux_0_6_0_flux: 2.66293\n",
       "ext_convolved_ConvolvedFlux_0_6_0_fluxSigma: 0.73115\n",
       "ext_convolved_ConvolvedFlux_0_6_0_flag: 0\n",
       "ext_convolved_ConvolvedFlux_0_6_0_flag_apertureTruncated: 0\n",
       "ext_convolved_ConvolvedFlux_0_6_0_flag_sincCoeffsTruncated: 0\n",
       "ext_convolved_ConvolvedFlux_0_kron_flux: 2.53797\n",
       "ext_convolved_ConvolvedFlux_0_kron_fluxSigma: 0.691747\n",
       "ext_convolved_ConvolvedFlux_0_kron_flag: 0\n",
       "ext_convolved_ConvolvedFlux_1_deconv: 0\n",
       "ext_convolved_ConvolvedFlux_1_3_3_flux: 2.52052\n",
       "ext_convolved_ConvolvedFlux_1_3_3_fluxSigma: 0.127444\n",
       "ext_convolved_ConvolvedFlux_1_3_3_flag: 0\n",
       "ext_convolved_ConvolvedFlux_1_3_3_flag_apertureTruncated: 0\n",
       "ext_convolved_ConvolvedFlux_1_3_3_flag_sincCoeffsTruncated: 0\n",
       "ext_convolved_ConvolvedFlux_1_4_5_flux: 2.5611\n",
       "ext_convolved_ConvolvedFlux_1_4_5_fluxSigma: 0.135654\n",
       "ext_convolved_ConvolvedFlux_1_4_5_flag: 0\n",
       "ext_convolved_ConvolvedFlux_1_4_5_flag_apertureTruncated: 0\n",
       "ext_convolved_ConvolvedFlux_1_4_5_flag_sincCoeffsTruncated: 0\n",
       "ext_convolved_ConvolvedFlux_1_6_0_flux: 2.57464\n",
       "ext_convolved_ConvolvedFlux_1_6_0_fluxSigma: 0.159041\n",
       "ext_convolved_ConvolvedFlux_1_6_0_flag: 0\n",
       "ext_convolved_ConvolvedFlux_1_6_0_flag_apertureTruncated: 0\n",
       "ext_convolved_ConvolvedFlux_1_6_0_flag_sincCoeffsTruncated: 0\n",
       "ext_convolved_ConvolvedFlux_1_kron_flux: 2.48361\n",
       "ext_convolved_ConvolvedFlux_1_kron_fluxSigma: 0.149612\n",
       "ext_convolved_ConvolvedFlux_1_kron_flag: 0\n",
       "ext_convolved_ConvolvedFlux_2_deconv: 0\n",
       "ext_convolved_ConvolvedFlux_2_3_3_flux: 2.52532\n",
       "ext_convolved_ConvolvedFlux_2_3_3_fluxSigma: 0.102554\n",
       "ext_convolved_ConvolvedFlux_2_3_3_flag: 0\n",
       "ext_convolved_ConvolvedFlux_2_3_3_flag_apertureTruncated: 0\n",
       "ext_convolved_ConvolvedFlux_2_3_3_flag_sincCoeffsTruncated: 0\n",
       "ext_convolved_ConvolvedFlux_2_4_5_flux: 2.54338\n",
       "ext_convolved_ConvolvedFlux_2_4_5_fluxSigma: 0.0975407\n",
       "ext_convolved_ConvolvedFlux_2_4_5_flag: 0\n",
       "ext_convolved_ConvolvedFlux_2_4_5_flag_apertureTruncated: 0\n",
       "ext_convolved_ConvolvedFlux_2_4_5_flag_sincCoeffsTruncated: 0\n",
       "ext_convolved_ConvolvedFlux_2_6_0_flux: 2.53811\n",
       "ext_convolved_ConvolvedFlux_2_6_0_fluxSigma: 0.103559\n",
       "ext_convolved_ConvolvedFlux_2_6_0_flag: 0\n",
       "ext_convolved_ConvolvedFlux_2_6_0_flag_apertureTruncated: 0\n",
       "ext_convolved_ConvolvedFlux_2_6_0_flag_sincCoeffsTruncated: 0\n",
       "ext_convolved_ConvolvedFlux_2_kron_flux: 2.36687\n",
       "ext_convolved_ConvolvedFlux_2_kron_fluxSigma: 0.0949392\n",
       "ext_convolved_ConvolvedFlux_2_kron_flag: 0\n",
       "ext_convolved_ConvolvedFlux_3_deconv: 0\n",
       "ext_convolved_ConvolvedFlux_3_3_3_flux: 2.52101\n",
       "ext_convolved_ConvolvedFlux_3_3_3_fluxSigma: 0.101546\n",
       "ext_convolved_ConvolvedFlux_3_3_3_flag: 0\n",
       "ext_convolved_ConvolvedFlux_3_3_3_flag_apertureTruncated: 0\n",
       "ext_convolved_ConvolvedFlux_3_3_3_flag_sincCoeffsTruncated: 0\n",
       "ext_convolved_ConvolvedFlux_3_4_5_flux: 2.52085\n",
       "ext_convolved_ConvolvedFlux_3_4_5_fluxSigma: 0.090223\n",
       "ext_convolved_ConvolvedFlux_3_4_5_flag: 0\n",
       "ext_convolved_ConvolvedFlux_3_4_5_flag_apertureTruncated: 0\n",
       "ext_convolved_ConvolvedFlux_3_4_5_flag_sincCoeffsTruncated: 0\n",
       "ext_convolved_ConvolvedFlux_3_6_0_flux: 2.48816\n",
       "ext_convolved_ConvolvedFlux_3_6_0_fluxSigma: 0.0878914\n",
       "ext_convolved_ConvolvedFlux_3_6_0_flag: 0\n",
       "ext_convolved_ConvolvedFlux_3_6_0_flag_apertureTruncated: 0\n",
       "ext_convolved_ConvolvedFlux_3_6_0_flag_sincCoeffsTruncated: 0\n",
       "ext_convolved_ConvolvedFlux_3_kron_flux: 2.22246\n",
       "ext_convolved_ConvolvedFlux_3_kron_fluxSigma: 0.0778736\n",
       "ext_convolved_ConvolvedFlux_3_kron_flag: 0\n",
       "ext_convolved_ConvolvedFlux_flag: 0\n",
       "modelfit_CModel_initial_flux: 2.50761\n",
       "modelfit_CModel_initial_fluxSigma: 0.44623\n",
       "modelfit_CModel_initial_flag: 0\n",
       "modelfit_CModel_initial_flux_inner: 1.95138\n",
       "modelfit_CModel_initial_flag_badReference: 0\n",
       "modelfit_CModel_initial_flag_numericError: 0\n",
       "modelfit_CModel_exp_flux: 2.50587\n",
       "modelfit_CModel_exp_fluxSigma: 0.445916\n",
       "modelfit_CModel_exp_flag: 0\n",
       "modelfit_CModel_exp_flux_inner: 1.95106\n",
       "modelfit_CModel_exp_flag_badReference: 0\n",
       "modelfit_CModel_exp_flag_numericError: 0\n",
       "modelfit_CModel_dev_flux: 2.50263\n",
       "modelfit_CModel_dev_fluxSigma: 0.445374\n",
       "modelfit_CModel_dev_flag: 0\n",
       "modelfit_CModel_dev_flux_inner: 1.95114\n",
       "modelfit_CModel_dev_flag_badReference: 0\n",
       "modelfit_CModel_dev_flag_numericError: 0\n",
       "modelfit_CModel_flux: 2.50456\n",
       "modelfit_CModel_fluxSigma: 0.445717\n",
       "modelfit_CModel_flag: 0\n",
       "modelfit_CModel_flux_inner: 1.95114\n",
       "modelfit_CModel_fracDev: 1\n",
       "modelfit_CModel_objective: 0.0107587\n",
       "modelfit_CModel_flag_region_maxArea: 0\n",
       "modelfit_CModel_flag_region_maxBadPixelFraction: 0\n",
       "modelfit_CModel_flag_badReference: 0\n",
       "modelfit_CModel_flag_noShapeletPsf: 0\n",
       "modelfit_CModel_flag_badCentroid: 0\n",
       "undeblended_base_CircularApertureFlux_3_0_flux: 4.5748\n",
       "undeblended_base_CircularApertureFlux_3_0_fluxSigma: 0.33883\n",
       "undeblended_base_CircularApertureFlux_3_0_flag: 0\n",
       "undeblended_base_CircularApertureFlux_3_0_flag_apertureTruncated: 0\n",
       "undeblended_base_CircularApertureFlux_3_0_flag_sincCoeffsTruncated: 0\n",
       "undeblended_base_CircularApertureFlux_4_5_flux: 8.13501\n",
       "undeblended_base_CircularApertureFlux_4_5_fluxSigma: 0.508682\n",
       "undeblended_base_CircularApertureFlux_4_5_flag: 0\n",
       "undeblended_base_CircularApertureFlux_4_5_flag_apertureTruncated: 0\n",
       "undeblended_base_CircularApertureFlux_4_5_flag_sincCoeffsTruncated: 0\n",
       "undeblended_base_CircularApertureFlux_6_0_flux: 13.6647\n",
       "undeblended_base_CircularApertureFlux_6_0_fluxSigma: 0.682029\n",
       "undeblended_base_CircularApertureFlux_6_0_flag: 0\n",
       "undeblended_base_CircularApertureFlux_6_0_flag_apertureTruncated: 0\n",
       "undeblended_base_CircularApertureFlux_6_0_flag_sincCoeffsTruncated: 0\n",
       "undeblended_base_CircularApertureFlux_9_0_flux: 25.1358\n",
       "undeblended_base_CircularApertureFlux_9_0_fluxSigma: 1.02411\n",
       "undeblended_base_CircularApertureFlux_9_0_flag: 0\n",
       "undeblended_base_CircularApertureFlux_9_0_flag_apertureTruncated: 0\n",
       "undeblended_base_CircularApertureFlux_9_0_flag_sincCoeffsTruncated: 0\n",
       "undeblended_base_CircularApertureFlux_12_0_flux: 36.3011\n",
       "undeblended_base_CircularApertureFlux_12_0_fluxSigma: 1.34918\n",
       "undeblended_base_CircularApertureFlux_12_0_flag: 0\n",
       "undeblended_base_CircularApertureFlux_12_0_flag_apertureTruncated: 0\n",
       "undeblended_base_CircularApertureFlux_12_0_flag_sincCoeffsTruncated: 0\n",
       "undeblended_base_CircularApertureFlux_17_0_flux: 53.1066\n",
       "undeblended_base_CircularApertureFlux_17_0_fluxSigma: 1.90042\n",
       "undeblended_base_CircularApertureFlux_17_0_flag: 0\n",
       "undeblended_base_CircularApertureFlux_17_0_flag_apertureTruncated: 0\n",
       "undeblended_base_CircularApertureFlux_25_0_flux: 68.22\n",
       "undeblended_base_CircularApertureFlux_25_0_fluxSigma: 2.74261\n",
       "undeblended_base_CircularApertureFlux_25_0_flag: 0\n",
       "undeblended_base_CircularApertureFlux_25_0_flag_apertureTruncated: 0\n",
       "undeblended_base_CircularApertureFlux_35_0_flux: 91.1366\n",
       "undeblended_base_CircularApertureFlux_35_0_fluxSigma: 3.79355\n",
       "undeblended_base_CircularApertureFlux_35_0_flag: 0\n",
       "undeblended_base_CircularApertureFlux_35_0_flag_apertureTruncated: 0\n",
       "undeblended_base_CircularApertureFlux_50_0_flux: nan\n",
       "undeblended_base_CircularApertureFlux_50_0_fluxSigma: nan\n",
       "undeblended_base_CircularApertureFlux_50_0_flag: 1\n",
       "undeblended_base_CircularApertureFlux_50_0_flag_apertureTruncated: 1\n",
       "undeblended_base_CircularApertureFlux_70_0_flux: nan\n",
       "undeblended_base_CircularApertureFlux_70_0_fluxSigma: nan\n",
       "undeblended_base_CircularApertureFlux_70_0_flag: 1\n",
       "undeblended_base_CircularApertureFlux_70_0_flag_apertureTruncated: 1\n",
       "undeblended_base_PsfFlux_flux: 7.11719\n",
       "undeblended_base_PsfFlux_fluxSigma: 0.450591\n",
       "undeblended_base_PsfFlux_area: 47.5945\n",
       "undeblended_base_PsfFlux_flag: 0\n",
       "undeblended_base_PsfFlux_flag_noGoodPixels: 0\n",
       "undeblended_base_PsfFlux_flag_edge: 0\n",
       "undeblended_ext_photometryKron_KronFlux_flux: 12.6278\n",
       "undeblended_ext_photometryKron_KronFlux_fluxSigma: 0.659556\n",
       "undeblended_ext_photometryKron_KronFlux_radius: 2.32129\n",
       "undeblended_ext_photometryKron_KronFlux_radius_for_radius: nan\n",
       "undeblended_ext_photometryKron_KronFlux_psf_radius: 2.07998\n",
       "undeblended_ext_photometryKron_KronFlux_flag: 0\n",
       "undeblended_ext_photometryKron_KronFlux_flag_edge: 0\n",
       "undeblended_ext_photometryKron_KronFlux_flag_bad_shape_no_psf: 0\n",
       "undeblended_ext_photometryKron_KronFlux_flag_no_minimum_radius: 0\n",
       "undeblended_ext_photometryKron_KronFlux_flag_no_fallback_radius: 0\n",
       "undeblended_ext_photometryKron_KronFlux_flag_bad_radius: 0\n",
       "undeblended_ext_photometryKron_KronFlux_flag_used_minimum_radius: 0\n",
       "undeblended_ext_photometryKron_KronFlux_flag_used_psf_radius: 0\n",
       "undeblended_ext_photometryKron_KronFlux_flag_small_radius: 0\n",
       "undeblended_ext_photometryKron_KronFlux_flag_bad_shape: 0\n",
       "ext_convolved_ConvolvedFlux_0_6_0_apCorr: 1.07202\n",
       "ext_convolved_ConvolvedFlux_0_6_0_apCorrSigma: 0\n",
       "ext_convolved_ConvolvedFlux_0_6_0_flag_apCorr: 0\n",
       "ext_convolved_ConvolvedFlux_3_kron_apCorr: 1.24198\n",
       "ext_convolved_ConvolvedFlux_3_kron_apCorrSigma: 0\n",
       "ext_convolved_ConvolvedFlux_3_kron_flag_apCorr: 0\n",
       "modelfit_CModel_exp_apCorr: 0.968409\n",
       "modelfit_CModel_exp_apCorrSigma: 0\n",
       "modelfit_CModel_exp_flag_apCorr: 0\n",
       "ext_convolved_ConvolvedFlux_1_4_5_apCorr: 1.25199\n",
       "ext_convolved_ConvolvedFlux_1_4_5_apCorrSigma: 0\n",
       "ext_convolved_ConvolvedFlux_1_4_5_flag_apCorr: 0\n",
       "ext_convolved_ConvolvedFlux_1_6_0_apCorr: 1.09529\n",
       "ext_convolved_ConvolvedFlux_1_6_0_apCorrSigma: 0\n",
       "ext_convolved_ConvolvedFlux_1_6_0_flag_apCorr: 0\n",
       "ext_convolved_ConvolvedFlux_2_kron_apCorr: 1.12571\n",
       "ext_convolved_ConvolvedFlux_2_kron_apCorrSigma: 0\n",
       "ext_convolved_ConvolvedFlux_2_kron_flag_apCorr: 0\n",
       "ext_convolved_ConvolvedFlux_1_3_3_apCorr: 1.59333\n",
       "ext_convolved_ConvolvedFlux_1_3_3_apCorrSigma: 0\n",
       "ext_convolved_ConvolvedFlux_1_3_3_flag_apCorr: 0\n",
       "ext_convolved_ConvolvedFlux_2_6_0_apCorr: 1.18843\n",
       "ext_convolved_ConvolvedFlux_2_6_0_apCorrSigma: 0\n",
       "ext_convolved_ConvolvedFlux_2_6_0_flag_apCorr: 0\n",
       "ext_photometryKron_KronFlux_apCorr: 1.04881\n",
       "ext_photometryKron_KronFlux_apCorrSigma: 0\n",
       "ext_photometryKron_KronFlux_flag_apCorr: 0\n",
       "base_PsfFlux_apCorr: 0.96963\n",
       "base_PsfFlux_apCorrSigma: 0\n",
       "base_PsfFlux_flag_apCorr: 0\n",
       "ext_convolved_ConvolvedFlux_0_4_5_apCorr: 1.17481\n",
       "ext_convolved_ConvolvedFlux_0_4_5_apCorrSigma: 0\n",
       "ext_convolved_ConvolvedFlux_0_4_5_flag_apCorr: 0\n",
       "ext_convolved_ConvolvedFlux_0_kron_apCorr: 1.04881\n",
       "ext_convolved_ConvolvedFlux_0_kron_apCorrSigma: 0\n",
       "ext_convolved_ConvolvedFlux_0_kron_flag_apCorr: 0\n",
       "ext_convolved_ConvolvedFlux_3_3_3_apCorr: 2.8435\n",
       "ext_convolved_ConvolvedFlux_3_3_3_apCorrSigma: 0\n",
       "ext_convolved_ConvolvedFlux_3_3_3_flag_apCorr: 0\n",
       "ext_convolved_ConvolvedFlux_0_3_3_apCorr: 1.38446\n",
       "ext_convolved_ConvolvedFlux_0_3_3_apCorrSigma: 0\n",
       "ext_convolved_ConvolvedFlux_0_3_3_flag_apCorr: 0\n",
       "ext_convolved_ConvolvedFlux_3_4_5_apCorr: 1.86492\n",
       "ext_convolved_ConvolvedFlux_3_4_5_apCorrSigma: 0\n",
       "ext_convolved_ConvolvedFlux_3_4_5_flag_apCorr: 0\n",
       "base_GaussianFlux_apCorr: 1.13224\n",
       "base_GaussianFlux_apCorrSigma: 0\n",
       "base_GaussianFlux_flag_apCorr: 0\n",
       "modelfit_CModel_dev_apCorr: 0.967\n",
       "modelfit_CModel_dev_apCorrSigma: 0\n",
       "modelfit_CModel_dev_flag_apCorr: 0\n",
       "ext_convolved_ConvolvedFlux_3_6_0_apCorr: 1.357\n",
       "ext_convolved_ConvolvedFlux_3_6_0_apCorrSigma: 0\n",
       "ext_convolved_ConvolvedFlux_3_6_0_flag_apCorr: 0\n",
       "modelfit_CModel_initial_apCorr: 0.968741\n",
       "modelfit_CModel_initial_apCorrSigma: 0\n",
       "modelfit_CModel_initial_flag_apCorr: 0\n",
       "ext_convolved_ConvolvedFlux_2_4_5_apCorr: 1.49931\n",
       "ext_convolved_ConvolvedFlux_2_4_5_apCorrSigma: 0\n",
       "ext_convolved_ConvolvedFlux_2_4_5_flag_apCorr: 0\n",
       "modelfit_CModel_apCorr: 0.967744\n",
       "modelfit_CModel_apCorrSigma: 0\n",
       "modelfit_CModel_flag_apCorr: 0\n",
       "ext_convolved_ConvolvedFlux_2_3_3_apCorr: 2.13604\n",
       "ext_convolved_ConvolvedFlux_2_3_3_apCorrSigma: 0\n",
       "ext_convolved_ConvolvedFlux_2_3_3_flag_apCorr: 0\n",
       "ext_convolved_ConvolvedFlux_1_kron_apCorr: 1.06482\n",
       "ext_convolved_ConvolvedFlux_1_kron_apCorrSigma: 0\n",
       "ext_convolved_ConvolvedFlux_1_kron_flag_apCorr: 0\n",
       "base_ClassificationExtendedness_value: 0\n",
       "base_ClassificationExtendedness_flag: 0"
      ]
     },
     "execution_count": 58,
     "metadata": {},
     "output_type": "execute_result"
    }
   ],
   "source": [
    "# likewise the second attribute gives us the record from the r band catalog\n",
    "matches[0].second"
   ]
  },
  {
   "cell_type": "code",
   "execution_count": 59,
   "metadata": {},
   "outputs": [
    {
     "data": {
      "text/plain": [
       "0.0"
      ]
     },
     "execution_count": 59,
     "metadata": {},
     "output_type": "execute_result"
    }
   ],
   "source": [
    "#finally the angular seperation is given in radians in the distance attribute\n",
    "matches[0].distance"
   ]
  },
  {
   "cell_type": "markdown",
   "metadata": {},
   "source": [
    "Now that we have matched stars in two bands, lets make a color magnitude diagram, displaying how to use matches in a little more depth\n",
    "first we start out simple and demonstrate how to get the magnitude and magnitude error for one record in our matches object"
   ]
  },
  {
   "cell_type": "code",
   "execution_count": 60,
   "metadata": {},
   "outputs": [
    {
     "data": {
      "text/plain": [
       "Measurement(value=25.12605024911535878, error=0.0975758478808133739)"
      ]
     },
     "execution_count": 60,
     "metadata": {},
     "output_type": "execute_result"
    }
   ],
   "source": [
    "# use the calib object to get magnitudes\n",
    "# pass in a record and the name of the flux field you are interested in\n",
    "iCalib.instFluxToMagnitude(matches[0].first, 'modelfit_CModel')"
   ]
  },
  {
   "cell_type": "code",
   "execution_count": 61,
   "metadata": {},
   "outputs": [
    {
     "data": {
      "text/plain": [
       "Text(0, 0.5, '$i$')"
      ]
     },
     "execution_count": 61,
     "metadata": {},
     "output_type": "execute_result"
    },
    {
     "data": {
      "image/png": "[encoded data removed]",
      "text/plain": [
       "<Figure size 748.8x514.8 with 1 Axes>"
      ]
     },
     "metadata": {
      "needs_background": "light"
     },
     "output_type": "display_data"
    }
   ],
   "source": [
    "# now we make some loops to grab all the magnitudes in the iband and rband\n",
    "# remember that the i band catalog is accessed with the first attribute\n",
    "# and the r band catalog is accessed with the second attribute\n",
    "iMag = [iCalib.instFluxToMagnitude(m.first, 'modelfit_CModel').value for m in matches]\n",
    "rMag = [rCalib.instFluxToMagnitude(m.second, 'modelfit_CModel').value for m in matches]\n",
    "\n",
    "plt.scatter(np.array(rMag) - (iMag), iMag)\n",
    "plt.ylim([26,18])\n",
    "plt.xlim([-0.5,3])\n",
    "plt.xlabel('$r-i$')\n",
    "plt.ylabel('$i$')"
   ]
  },
  {
   "cell_type": "markdown",
   "metadata": {},
   "source": [
    "If you are only interested in the ids and the angular separation, you can pack the matches into a table."
   ]
  },
  {
   "cell_type": "code",
   "execution_count": 62,
   "metadata": {},
   "outputs": [
    {
     "data": {
      "text/plain": [
       "<class 'lsst.afw.table.BaseCatalog'>\n",
       "      first             second      distance\n",
       "----------------- ----------------- --------\n",
       "69621089155700649 69621089155700649      0.0\n",
       "69621089155678312 69621089155678312      0.0\n",
       "69621089155700954 69621089155700954      0.0\n",
       "69621089155700960 69621089155700960      0.0\n",
       "69621089155678310 69621089155678310      0.0\n",
       "69621089155700840 69621089155700840      0.0\n",
       "69621089155700920 69621089155700920      0.0\n",
       "69621089155700961 69621089155700961      0.0\n",
       "69621089155700988 69621089155700988      0.0\n",
       "69621089155701062 69621089155701062      0.0\n",
       "69621089155700979 69621089155700979      0.0\n",
       "69621089155701065 69621089155701065      0.0\n",
       "69621089155701014 69621089155701014      0.0\n",
       "69621089155701058 69621089155701058      0.0\n",
       "69621089155701090 69621089155701090      0.0\n",
       "69621089155701061 69621089155701061      0.0\n",
       "69621089155678456 69621089155678456      0.0\n",
       "69621089155701008 69621089155701008      0.0\n",
       "69621089155701056 69621089155701056      0.0\n",
       "69621089155701127 69621089155701127      0.0\n",
       "              ...               ...      ...\n",
       "69621089155711364 69621089155711364      0.0\n",
       "69621089155711589 69621089155711589      0.0\n",
       "69621089155711595 69621089155711595      0.0\n",
       "69621089155688130 69621089155688130      0.0\n",
       "69621089155711654 69621089155711654      0.0\n",
       "69621089155711437 69621089155711437      0.0\n",
       "69621089155711684 69621089155711684      0.0\n",
       "69621089155711825 69621089155711825      0.0\n",
       "69621089155688179 69621089155688179      0.0\n",
       "69621089155711801 69621089155711801      0.0\n",
       "69621089155688225 69621089155688225      0.0\n",
       "69621089155711824 69621089155711824      0.0\n",
       "69621089155711819 69621089155711819      0.0\n",
       "69621089155711798 69621089155711798      0.0\n",
       "69621089155711575 69621089155711575      0.0\n",
       "69621089155711870 69621089155711870      0.0\n",
       "69621089155711857 69621089155711857      0.0\n",
       "69621089155711874 69621089155711874      0.0\n",
       "69621089155711871 69621089155711871      0.0\n",
       "69621089155711895 69621089155711895      0.0\n",
       "69621089155711703 69621089155711703      0.0\n",
       "Length = 696 rows"
      ]
     },
     "execution_count": 62,
     "metadata": {},
     "output_type": "execute_result"
    }
   ],
   "source": [
    "matches_table = afwTable.packMatches(matches)\n",
    "matches_table"
   ]
  },
  {
   "cell_type": "markdown",
   "metadata": {},
   "source": [
    "You can unpack the matches too:"
   ]
  },
  {
   "cell_type": "code",
   "execution_count": 63,
   "metadata": {},
   "outputs": [],
   "source": [
    "unpack_matches = afwTable.unpackMatches(matches_table, iSources, rSources)"
   ]
  },
  {
   "cell_type": "markdown",
   "metadata": {},
   "source": [
    "Hopefully this gives you some idea of the power of `afwTable`s in matching catalogs together"
   ]
  },
  {
   "cell_type": "markdown",
   "metadata": {},
   "source": [
    "## Summary\n",
    "\n",
    "In this tutorial we introduced afw tables. We introduced schemas, how to navigate them, add to them, and how to create tables based off of them. We covered data access to catalogs produced by DM using the data butler. We went over a some typical use cases for source catalogs, like catalog matching, and understanding bread and butter measurement algorithms."
   ]
  }
 ],
 "metadata": {
  "celltoolbar": "Slideshow",
  "kernelspec": {
   "display_name": "LSST",
   "language": "python",
   "name": "lsst"
  },
  "language_info": {
   "codemirror_mode": {
    "name": "ipython",
    "version": 3
   },
   "file_extension": ".py",
   "mimetype": "text/x-python",
   "name": "python",
   "nbconvert_exporter": "python",
   "pygments_lexer": "ipython3",
   "version": "3.7.6"
  },
  "livereveal": {
   "scroll": true,
   "start_slideshow_at": "selected"
  }
 },
 "nbformat": 4,
 "nbformat_minor": 4
}
