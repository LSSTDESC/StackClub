{
 "cells": [
  {
   "cell_type": "markdown",
   "metadata": {},
   "source": [
    "# Source Detection\n",
    "\n",
    "This notebook is an attempt to split out the source detection and measurement algorithms from `processCCD` and apply them to the search for low surface brightness galaxies. This builds off Robert Lupton's [Greco LSB.ipynb](https://github.com/RobertLuptonTheGood/notebooks/blob/master/Demos/Greco%20LSB.ipynb) with some source detection and measurement details from [Tune Detection.ipynb](https://github.com/RobertLuptonTheGood/notebooks/blob/master/Demos/Tune%20Detection.ipynb) and [Kron.ipynb](https://github.com/RobertLuptonTheGood/notebooks/blob/master/Demos/Kron.ipynb)."
   ]
  },
  {
   "cell_type": "code",
   "execution_count": null,
   "metadata": {},
   "outputs": [],
   "source": [
    "%matplotlib inline\n",
    "import os\n",
    "import numpy as np\n",
    "import matplotlib.pyplot as plt\n",
    "from IPython.display import IFrame, display, Markdown"
   ]
  },
  {
   "cell_type": "code",
   "execution_count": null,
   "metadata": {},
   "outputs": [],
   "source": [
    "from astropy.visualization import ZScaleInterval\n",
    "zscale = ZScaleInterval()\n",
    "\n",
    "from matplotlib.patches import Rectangle"
   ]
  },
  {
   "cell_type": "code",
   "execution_count": null,
   "metadata": {},
   "outputs": [],
   "source": [
    "import lsst.daf.persistence as dafPersist\n",
    "import lsst.daf.base as dafBase\n",
    "\n",
    "import lsst.afw.detection as afwDetect\n",
    "import lsst.afw.image as afwImage\n",
    "import lsst.afw.math as afwMath\n",
    "import lsst.afw.geom as afwGeom\n",
    "\n",
    "import lsst.daf.persistence        as dafPersist\n",
    "import lsst.afw.display            as afwDisplay\n",
    "import lsst.afw.table              as afwTable"
   ]
  },
  {
   "cell_type": "code",
   "execution_count": null,
   "metadata": {},
   "outputs": [],
   "source": [
    "datadir = \"/project/shared/data/Twinkles_subset/output_data_v2\"\n",
    "butler = dafPersist.Butler(datadir)"
   ]
  },
  {
   "cell_type": "code",
   "execution_count": null,
   "metadata": {},
   "outputs": [],
   "source": [
    "def smooth_gauss (masked_image, sigma, nsigma=1.0):\n",
    "    width = (int(sigma*nsigma + 0.5) // 2)*2 + 1\n",
    "    gauss_func = afwMath.GaussianFunction1D(sigma)\n",
    "    gauss_kern = afwMath.SeparableKernel(width, width, gauss_func, gauss_func)\n",
    "    convolved_image = masked_image.Factory(masked_image.getBBox())\n",
    "    afwMath.convolve(convolved_image, masked_image, gauss_kern, \n",
    "                     afwMath.ConvolutionControl())\n",
    "    return convolved_image\n",
    "\n",
    "def display_image(image, figsize=(15,5)):\n",
    "    fig, ax = plt.subplots(figsize=figsize)\n",
    "    vmin, vmax = zscale.get_limits(image)\n",
    "    ax.imshow(image, vmin=vmin, vmax=vmax, cmap='gray_r', \n",
    "              aspect='equal', origin='lower')\n",
    "    ax.axis('off')\n",
    "    return ax"
   ]
  },
  {
   "cell_type": "code",
   "execution_count": null,
   "metadata": {},
   "outputs": [],
   "source": [
    "print(butler.queryMetadata('calexp', ['visit','raft','sensor']))\n",
    "dataId = {'filter': 'r', 'raft': '2,2', 'sensor': '1,1', 'visit': 235}\n",
    "calexp = butler.get('calexp', **dataId)"
   ]
  },
  {
   "cell_type": "code",
   "execution_count": null,
   "metadata": {},
   "outputs": [],
   "source": [
    "display_image(calexp.getMaskedImage().getImage().getArray(), figsize=(8,8));\n",
    "xmin,ymin = 3600,2150\n",
    "width,height=300,300\n",
    "rect = Rectangle((xmin,ymin),width,height,facecolor='none',edgecolor='r',lw=2)\n",
    "plt.gca().add_artist(rect)"
   ]
  },
  {
   "cell_type": "code",
   "execution_count": null,
   "metadata": {},
   "outputs": [],
   "source": [
    "# Zoom to a small region of the image\n",
    "bbox = afwGeom.Box2I()\n",
    "bbox.include(afwGeom.Point2I(xmin, ymin))\n",
    "bbox.include(afwGeom.Point2I(xmin+width, ymin+height))\n",
    "exp_cutout = calexp.Factory(calexp, bbox, afwImage.LOCAL)\n",
    "\n",
    "mi = exp_cutout.getMaskedImage()\n",
    "#mask = mi.getMask()\n",
    "## Careful, this is clearing the mask plane of the parent calexp\n",
    "#mask.removeAndClearMaskPlane('CR', True)\n",
    "\n",
    "display_image(mi.getImage().getArray());"
   ]
  },
  {
   "cell_type": "code",
   "execution_count": null,
   "metadata": {},
   "outputs": [],
   "source": [
    "mi = calexp.getMaskedImage()\n",
    "mask = mi.getMask()\n",
    "mask.getMaskPlaneDict()"
   ]
  },
  {
   "cell_type": "markdown",
   "metadata": {},
   "source": [
    "# Source Detection and Measurement\n",
    "\n",
    "We now want to run the LSST source detection and measurement tasks."
   ]
  },
  {
   "cell_type": "code",
   "execution_count": null,
   "metadata": {},
   "outputs": [],
   "source": [
    "# Importing the tasks\n",
    "from lsst.pipe.tasks.characterizeImage import CharacterizeImageTask\n",
    "from lsst.pipe.tasks.calibrate         import CalibrateTask\n",
    "from lsst.meas.algorithms.detection    import SourceDetectionTask\n",
    "from lsst.meas.deblender               import SourceDeblendTask\n",
    "from lsst.meas.base                    import SingleFrameMeasurementTask"
   ]
  },
  {
   "cell_type": "code",
   "execution_count": null,
   "metadata": {},
   "outputs": [],
   "source": [
    "# Create the Tasks\n",
    "schema = afwTable.SourceTable.makeMinimalSchema()\n",
    "algMetadata = dafBase.PropertyList()\n",
    "\n",
    "config = CharacterizeImageTask.ConfigClass()\n",
    "config.psfIterations = 1\n",
    "charImageTask = CharacterizeImageTask(None, config=config)\n",
    "\n",
    "config = SourceDetectionTask.ConfigClass()\n",
    "\n",
    "# SourceDetectionTask.thresholdType: \n",
    "#print(SourceDetectionTask.ConfigClass.thresholdType.__doc__)\n",
    "if True:\n",
    "    config.thresholdValue = 30       # detection threshold in units of thresholdType\n",
    "    config.thresholdType = \"stdev\"   # units for thresholdValue\n",
    "if False:                    \n",
    "    config.doTempLocalBackground = True  # Use local-background during detection step\n",
    "\n",
    "sourceDetectionTask =   SourceDetectionTask(schema=schema, config=config)\n",
    "sourceDeblendTask   =   SourceDeblendTask(schema=schema)\n",
    "\n",
    "config = SingleFrameMeasurementTask.ConfigClass()\n",
    "sourceMeasurementTask = SingleFrameMeasurementTask(schema=schema, config=config,\n",
    "                                                   algMetadata=algMetadata)"
   ]
  },
  {
   "cell_type": "code",
   "execution_count": null,
   "metadata": {},
   "outputs": [],
   "source": [
    "help(sourceMeasurementTask.run)"
   ]
  },
  {
   "cell_type": "code",
   "execution_count": null,
   "metadata": {},
   "outputs": [],
   "source": [
    "tab = afwTable.SourceTable.make(schema)\n",
    "\n",
    "# Image characterization\n",
    "result = charImageTask.characterize(calexp)\n",
    "\n",
    "# Source detection\n",
    "result = sourceDetectionTask.run(tab, calexp)\n",
    "sources = result.sources\n",
    "# Source deblending\n",
    "sourceDeblendTask.run(calexp, sources)\n",
    "# Source measurement\n",
    "sourceMeasurementTask.run(measCat=sources, exposure=calexp)\n",
    "\n",
    "if False:\n",
    "    sources.writeFits(\"outputTable.fits\")\n",
    "    exposure.writeFits(\"example1-out.fits\")\n",
    "    \n",
    "    "
   ]
  },
  {
   "cell_type": "code",
   "execution_count": null,
   "metadata": {},
   "outputs": [],
   "source": [
    "# ADW: Why am I copying the sources?\n",
    "sources = sources.copy(True)\n",
    "\n",
    "good = np.logical_and.reduce([sources.get('base_PixelFlags_flag_saturatedCenter') == 0,\n",
    "                              sources.get(\"deblend_nChild\") == 0,\n",
    "                              ])"
   ]
  },
  {
   "cell_type": "code",
   "execution_count": null,
   "metadata": {},
   "outputs": [],
   "source": [
    "# Investigate the output source catalog\n",
    "sources.asAstropy()"
   ]
  },
  {
   "cell_type": "code",
   "execution_count": null,
   "metadata": {},
   "outputs": [],
   "source": [
    "# Setup the Firefly display\n",
    "my_channel = '{}_test_channel'.format(os.environ['USER'])\n",
    "server = 'https://lsst-lspdev.ncsa.illinois.edu'\n",
    "\n",
    "# Note that the IFrame needs to be the last thing in the cell\n",
    "ff='{}/firefly/slate.html?__wsch={}'.format(server, my_channel)\n",
    "IFrame(ff,800,600)"
   ]
  },
  {
   "cell_type": "code",
   "execution_count": null,
   "metadata": {},
   "outputs": [],
   "source": [
    "afwDisplay.setDefaultBackend('firefly')\n",
    "afw_display = afwDisplay.getDisplay(frame=1, \n",
    "                                    name=my_channel)"
   ]
  },
  {
   "cell_type": "code",
   "execution_count": null,
   "metadata": {},
   "outputs": [],
   "source": [
    "#Display the cutout with afw display\n",
    "afw_display.mtv(exp_cutout)\n",
    "\n",
    "with afw_display.Buffering():\n",
    "    for s in sources:\n",
    "        afw_display.dot('+', *s.getCentroid(), ctype=afwDisplay.RED)\n",
    "        afw_display.dot('o', s.getX(), s.getY(), size=20, ctype='orange')   "
   ]
  }
 ],
 "metadata": {
  "kernelspec": {
   "display_name": "LSST",
   "language": "python",
   "name": "lsst"
  },
  "language_info": {
   "codemirror_mode": {
    "name": "ipython",
    "version": 3
   },
   "file_extension": ".py",
   "mimetype": "text/x-python",
   "name": "python",
   "nbconvert_exporter": "python",
   "pygments_lexer": "ipython3",
   "version": "3.6.2"
  }
 },
 "nbformat": 4,
 "nbformat_minor": 2
}
