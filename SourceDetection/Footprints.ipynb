{
 "cells": [
  {
   "cell_type": "markdown",
   "metadata": {
    "slideshow": {
     "slide_type": "slide"
    }
   },
   "source": [
    "# Introduction to Footprints\n",
    "<br>Owner(s): **Imran Hasan** ([@ih64](https://github.com/LSSTScienceCollaborations/StackClub/issues/new?body=@ih64)), **Second Owner** ([@username2](https://github.com/LSSTScienceCollaborations/StackClub/issues/new?body=@username2))\n",
    "<br>Last Verified to Run: **2018-11-30**\n",
    "<br>Verified Stack Release: **16.0**\n",
    "\n",
    "### Learning Objectives:\n",
    "\n",
    "After working through this tutorial you should be able to: \n",
    "1. Understand Footprints, and their relationship to detection, and measurement\n",
    "2. Use methods and attributes from the footprint class to get information like centroids, size, shape, of the footprint\n",
    "3. Perform operations on footprints, like dilation an errosion\n",
    "4. Use footprints to access pixel level data in their parent exposures\n",
    "\n",
    "### Logistics\n",
    "This notebook is intended to be runnable on `lsst-lspdev.ncsa.illinois.edu` from a local git clone of https://github.com/LSSTScienceCollaborations/StackClub.\n",
    "\n",
    "## Set-up"
   ]
  },
  {
   "cell_type": "markdown",
   "metadata": {},
   "source": [
    "The next few cells give you some options for your \"Set-up\" section - you may not need them all."
   ]
  },
  {
   "cell_type": "markdown",
   "metadata": {},
   "source": [
    "We'll need the `stackclub` package to be installed. If you are not developing this package, you can install it using `pip`, like this:\n",
    "```\n",
    "pip install git+git://github.com/LSSTScienceCollaborations/StackClub.git#egg=stackclub\n",
    "```\n",
    "If you are developing the `stackclub` package (eg by adding modules to it to support the Stack Club tutorial that you are writing, you'll need to make a local, editable installation. In the top level folder of the `StackClub` repo, do:"
   ]
  },
  {
   "cell_type": "code",
   "execution_count": 1,
   "metadata": {},
   "outputs": [
    {
     "name": "stdout",
     "output_type": "stream",
     "text": [
      "/home/ishasan/lsst/StackClub/SourceDetection\n"
     ]
    }
   ],
   "source": [
    "! cd .. && python setup.py -q develop --user && cd -"
   ]
  },
  {
   "cell_type": "markdown",
   "metadata": {},
   "source": [
    "When editing the `stackclub` package files, we want the latest version to be imported when we re-run the import command. To enable this, we need the %autoreload magic command."
   ]
  },
  {
   "cell_type": "code",
   "execution_count": 2,
   "metadata": {},
   "outputs": [],
   "source": [
    "%load_ext autoreload\n",
    "%autoreload 2"
   ]
  },
  {
   "cell_type": "markdown",
   "metadata": {
    "slideshow": {
     "slide_type": "slide"
    }
   },
   "source": [
    "You can find the Stack version that this notebook is running by using eups list -s on the terminal command line:"
   ]
  },
  {
   "cell_type": "code",
   "execution_count": 3,
   "metadata": {},
   "outputs": [
    {
     "name": "stdout",
     "output_type": "stream",
     "text": [
      "jld-lab-ishasan-r160\n",
      "lsst_distrib          16.0+1     \tcurrent v16_0 setup\n"
     ]
    }
   ],
   "source": [
    "# What version of the Stack am I using?\n",
    "! echo $HOSTNAME\n",
    "! eups list -s | grep lsst_distrib"
   ]
  },
  {
   "cell_type": "markdown",
   "metadata": {
    "slideshow": {
     "slide_type": "subslide"
    }
   },
   "source": [
    "For this tutorial we'll need the following modules:"
   ]
  },
  {
   "cell_type": "code",
   "execution_count": 4,
   "metadata": {},
   "outputs": [],
   "source": [
    "%matplotlib inline\n",
    "#%matplotlib ipympl\n",
    "\n",
    "import os\n",
    "import numpy as np\n",
    "import matplotlib as mpl\n",
    "import matplotlib.pyplot as plt\n",
    "from IPython.display import IFrame, display, Markdown"
   ]
  },
  {
   "cell_type": "code",
   "execution_count": 5,
   "metadata": {},
   "outputs": [
    {
     "name": "stderr",
     "output_type": "stream",
     "text": [
      "/opt/lsst/software/stack/stack/miniconda3-4.3.21-10a4fa6/Linux64/meas_mosaic/16.0+1/python/lsst/meas/mosaic/utils.py:30: UserWarning: matplotlib.pyplot as already been imported, this call will have no effect.\n",
      "  matplotlib.use(\"Agg\")\n"
     ]
    }
   ],
   "source": [
    "import lsst.daf.persistence as dafPersist\n",
    "import lsst.daf.base as dafBase\n",
    "\n",
    "import lsst.afw.math as afwMath\n",
    "import lsst.afw.geom as afwGeom\n",
    "\n",
    "import lsst.afw.detection as afwDetect\n",
    "import lsst.afw.image as afwImage\n",
    "import lsst.afw.table as afwTable\n",
    "from lsst.meas.algorithms import SourceDetectionTask\n",
    "import lsst.afw.detection as afwDetection\n",
    "\n",
    "import lsst.afw.display as afwDisplay"
   ]
  },
  {
   "cell_type": "markdown",
   "metadata": {
    "slideshow": {
     "slide_type": "slide"
    }
   },
   "source": [
    "## Footprints in the DM ecosystem\n",
    "\n",
    "At a high level, we may think of a Footprint as an object that identifies a collection of pixels which are above threshold. As you might expect, this means Footprints come up often in bread and butter ccdProcessing tasks-like detection, measurement, and deblending-which directly impact science results. Because footprints are so closely related to these very important processes, we will explore them in this notebook.\n",
    "\n",
    "### The basics\n",
    "\n",
    "If you are familiar with segmentation maps in `Source Extractor`, you may initially approach Footprints as being somewhat analagous (although we will see Footpritns are much more powerful), as Footprints identify pixels and pixel values on ccds after source detection. This is the perspective we will take in the beginning of our notebook as we introduce the first few attributes and methods of the footprint class. "
   ]
  },
  {
   "cell_type": "code",
   "execution_count": 6,
   "metadata": {},
   "outputs": [],
   "source": [
    "# grab some data\n",
    "# The dafPersist was trying to set the matplotlib backend, catch warning\n",
    "datadir = \"/project/shared/data/Twinkles_subset/output_data_v2\"\n",
    "butler = dafPersist.Butler(datadir)\n",
    "dataId = {'filter': 'r', 'raft': '2,2', 'sensor': '1,1', 'visit': 235}\n",
    "calexp = butler.get('calexp', **dataId)\n",
    "calexp.mask.removeAndClearMaskPlane('DETECTED')"
   ]
  },
  {
   "cell_type": "code",
   "execution_count": 7,
   "metadata": {
    "slideshow": {
     "slide_type": "-"
    }
   },
   "outputs": [],
   "source": [
    "# set up minimal detection task\n",
    "schema = afwTable.SourceTable.makeMinimalSchema()\n",
    "config = SourceDetectionTask.ConfigClass()\n",
    "config.thresholdValue = 10       # detection threshold in units of thresholdType\n",
    "config.thresholdType = \"stdev\"   # units for thresholdValue\n",
    "\n",
    "sourceDetectionTask =   SourceDetectionTask(config=config)"
   ]
  },
  {
   "cell_type": "markdown",
   "metadata": {},
   "source": [
    "Because we are just interested in interacting with footprints, we will use the `detectFootprints` method in sourceDetectionTask instead of the run method. `detectFootprints` will return a struct to us that deals with footPrints. If we used the run method, we would recieve a struct that included footprints along with a source table, which we do not need for our discussion here. "
   ]
  },
  {
   "cell_type": "code",
   "execution_count": 8,
   "metadata": {},
   "outputs": [],
   "source": [
    "# run detection on our frame\n",
    "detect_res = sourceDetectionTask.detectFootprints(calexp)"
   ]
  },
  {
   "cell_type": "markdown",
   "metadata": {},
   "source": [
    "`detect_res` is a struct. Struct objects are simmilar to python dictionaries, in that they have key value pairs. However, here you access the values by using the keys as an attribute. If you are and IDL user, these will remind you of Structures in IDL"
   ]
  },
  {
   "cell_type": "code",
   "execution_count": 9,
   "metadata": {},
   "outputs": [
    {
     "data": {
      "text/plain": [
       "Struct(positive=<lsst.afw.detection._footprintSet.FootprintSet object at 0x7fe31de275e0>; negative=None; factor=1.0; background=<lsst.afw.math.backgroundList.BackgroundList object at 0x7fe4847ce358>; numPos=1060; numPosPeaks=1158; numNeg=1; numNegPeaks=1)"
      ]
     },
     "execution_count": 9,
     "metadata": {},
     "output_type": "execute_result"
    }
   ],
   "source": [
    "detect_res"
   ]
  },
  {
   "cell_type": "markdown",
   "metadata": {},
   "source": [
    "Looking at `detect_res`, we can see that there are attributes associated with sources detected positive-that is above threshold, and detected negative. Let us concentrate on the positive detections for now. The positive attribute holds a `FootprintSet`, an object that contains all the positively detected footprints. The `numPos` attribute tells us we have 1060 footprints that were detected positive. The `numPosPeaks` attribute tells us 1158 peaks were detected positive. This is because more than one peak can belong to a footprint."
   ]
  },
  {
   "cell_type": "code",
   "execution_count": 10,
   "metadata": {},
   "outputs": [],
   "source": [
    "# lets grab the above threshold footprints that were detected and assign them to a varriable\n",
    "fpset = detect_res.positive"
   ]
  },
  {
   "cell_type": "markdown",
   "metadata": {},
   "source": [
    "the variable fpset is a FootprintSet object. While it contains many footprints itself, it does not offer an super easy way to interact with the individual footprints. However, we can ask the FootprintSet to give us a list of footprints, which we can iterate over"
   ]
  },
  {
   "cell_type": "code",
   "execution_count": 11,
   "metadata": {},
   "outputs": [],
   "source": [
    "fps = fpset.getFootprints()"
   ]
  },
  {
   "cell_type": "markdown",
   "metadata": {},
   "source": [
    "Now we have drilled our way down to getting our hands on footprints. Lets discuss some of their methods and attributes. First lets meet the basics. You may recognize a few of these as methods on records in `SourceCatalogs` if you did the [afw table guided tour notebook](https://github.com/LSSTScienceCollaborations/StackClub/blob/master/Basics/afw_table_guided_tour.ipynb)"
   ]
  },
  {
   "cell_type": "code",
   "execution_count": 12,
   "metadata": {},
   "outputs": [
    {
     "data": {
      "text/plain": [
       "Box2I(minimum=Point2I(0, 0), dimensions=Extent2I(4000, 4072))"
      ]
     },
     "execution_count": 12,
     "metadata": {},
     "output_type": "execute_result"
    }
   ],
   "source": [
    "# get the region-the pixel coordinates that describes the chip this footprint belongs too\n",
    "fps[0].getRegion()"
   ]
  },
  {
   "cell_type": "code",
   "execution_count": 13,
   "metadata": {},
   "outputs": [
    {
     "data": {
      "text/plain": [
       "Point2D(1979.951515, 8.206060606)"
      ]
     },
     "execution_count": 13,
     "metadata": {},
     "output_type": "execute_result"
    }
   ],
   "source": [
    "# the center of the footprint, in detector coordinates\n",
    "fps[0].getCentroid()"
   ]
  },
  {
   "cell_type": "code",
   "execution_count": 14,
   "metadata": {},
   "outputs": [
    {
     "data": {
      "text/plain": [
       "Box2I(minimum=Point2I(1972, 2), dimensions=Extent2I(17, 14))"
      ]
     },
     "execution_count": 14,
     "metadata": {},
     "output_type": "execute_result"
    }
   ],
   "source": [
    "# the bounding box of the footprint.\n",
    "# Not all of the pixels in the bounding box are pixels in the footprint\n",
    "fps[0].getBBox()"
   ]
  },
  {
   "cell_type": "code",
   "execution_count": 15,
   "metadata": {},
   "outputs": [
    {
     "data": {
      "text/plain": [
       "165"
      ]
     },
     "execution_count": 15,
     "metadata": {},
     "output_type": "execute_result"
    }
   ],
   "source": [
    "# area of the footprint. NOTE this is not the area of the bounding box.\n",
    "# It is the number of pixels associated with the footprint\n",
    "fps[0].getArea()"
   ]
  },
  {
   "cell_type": "markdown",
   "metadata": {},
   "source": [
    "The footprint's span tells you which pixels in the bounding box belong to the footprint. If an element is zero, this means the pixel is inside the footprint's bounding box but does ot belong to the footprint. If an element is one, the pixel is both in the bounding box and associated with the footprint."
   ]
  },
  {
   "cell_type": "code",
   "execution_count": 16,
   "metadata": {},
   "outputs": [
    {
     "data": {
      "text/plain": [
       "[0, 0, 0, 0, 0, 1, 1, 1, 1, 1, 1, 1, 0, 0, 0, 0, 0]\n",
       "[0, 0, 0, 0, 1, 1, 1, 1, 1, 1, 1, 1, 1, 0, 0, 0, 0]\n",
       "[0, 0, 0, 1, 1, 1, 1, 1, 1, 1, 1, 1, 1, 1, 0, 0, 0]\n",
       "[0, 0, 1, 1, 1, 1, 1, 1, 1, 1, 1, 1, 1, 1, 1, 0, 0]\n",
       "[0, 1, 1, 1, 1, 1, 1, 1, 1, 1, 1, 1, 1, 1, 1, 1, 0]\n",
       "[1, 1, 1, 1, 1, 1, 1, 1, 1, 1, 1, 1, 1, 1, 1, 1, 1]\n",
       "[1, 1, 1, 1, 1, 1, 1, 1, 1, 1, 1, 1, 1, 1, 1, 1, 1]\n",
       "[1, 1, 1, 1, 1, 1, 1, 1, 1, 1, 1, 1, 1, 1, 1, 1, 0]\n",
       "[0, 1, 1, 1, 1, 1, 1, 1, 1, 1, 1, 1, 1, 1, 1, 1, 0]\n",
       "[0, 0, 1, 1, 1, 1, 1, 1, 1, 1, 1, 1, 1, 1, 1, 0, 0]\n",
       "[0, 0, 0, 1, 1, 1, 1, 1, 1, 1, 1, 1, 1, 1, 0, 0, 0]\n",
       "[0, 0, 0, 0, 1, 1, 1, 1, 1, 1, 1, 1, 1, 0, 0, 0, 0]\n",
       "[0, 0, 0, 0, 0, 1, 1, 1, 1, 1, 1, 1, 0, 0, 0, 0, 0]\n",
       "[0, 0, 0, 0, 0, 0, 1, 1, 1, 1, 1, 0, 0, 0, 0, 0, 0]"
      ]
     },
     "execution_count": 16,
     "metadata": {},
     "output_type": "execute_result"
    }
   ],
   "source": [
    "fps[0].getSpans()"
   ]
  },
  {
   "cell_type": "markdown",
   "metadata": {},
   "source": [
    "### Operations on Footprints\n",
    "\n",
    "In this next section, we will showcase other properties footprints have that make them more powerful than segmentation maps. We will meet some operations we can perform on footprints, and see how we can use our knowlege of pixel values to calculate properties of footprints.\n",
    "\n",
    "The quadurpole $Q_{i,j}$ is a matrix containing the second moments, defined in the following way  \n",
    "\n",
    "$$Q_{i,j} = \\int I(x_i, x_j) x_i x_j \\mathrm{d}x^i \\mathrm{d}x^j$$\n",
    "\n",
    "Where $I(x_i,x_j)$ is the 2D surface brightness distribution. \n",
    "The elements for a footprint can be computed with the getShape() method. Note that the matix is symmetric."
   ]
  },
  {
   "cell_type": "code",
   "execution_count": 17,
   "metadata": {},
   "outputs": [
    {
     "data": {
      "text/plain": [
       "Quadrupole(ixx=15.088558310376527, iyy=11.70299357208448, ixy=-0.03849403122130394)"
      ]
     },
     "execution_count": 17,
     "metadata": {},
     "output_type": "execute_result"
    }
   ],
   "source": [
    "fps[0].getShape()"
   ]
  },
  {
   "cell_type": "markdown",
   "metadata": {},
   "source": [
    "We can grow or shrink the PSF using the dilate() and erode() methods. You may imagine doing this if you want to ensure you are getting all the flux associated with the detected source. Using these methods requires that we provide a scale by which to grow or shrink the PSF. Typically, this scale is the $\\sigma$ of the gaussian PSF module some factor. Let us demonstrate this below"
   ]
  },
  {
   "cell_type": "code",
   "execution_count": 18,
   "metadata": {},
   "outputs": [
    {
     "name": "stdout",
     "output_type": "stream",
     "text": [
      "before dilating the footprint has an area of 165\n",
      "after dilating the footprint has an area of 378\n"
     ]
    }
   ],
   "source": [
    "# first get the gaussian fwhm of the PSF \n",
    "psf = calexp.getPsf()\n",
    "sigma = psf.computeShape().getDeterminantRadius()\n",
    "\n",
    "# print how many pixels belong to the footprint before we dilate it\n",
    "print('before dilating the footprint has an area of {}'.format(fps[0].getArea()))\n",
    "\n",
    "# now we will grow the footprint by 2 x sigma. We need pass an int\n",
    "fps[0].dilate(int(2*sigma))\n",
    "\n",
    "# print how many pixels belong to the footprint ater dilation\n",
    "print('after dilating the footprint has an area of {}'.format(fps[0].getArea()))"
   ]
  },
  {
   "cell_type": "code",
   "execution_count": 20,
   "metadata": {},
   "outputs": [
    {
     "name": "stdout",
     "output_type": "stream",
     "text": [
      "after eroding the footprint has an area of 165\n"
     ]
    }
   ],
   "source": [
    "# lets chip away at the footprint by using the erode method now\n",
    "fps[0].erode(int(2*sigma))\n",
    "\n",
    "# print how many pixels belong to the footprint ater dilation\n",
    "print('after eroding the footprint has an area of {}'.format(fps[0].getArea()))"
   ]
  },
  {
   "cell_type": "markdown",
   "metadata": {},
   "source": [
    "Now we will turn our footprint into a `HeavyFootprint`. This means the footprints now 'know' about the pixel values for each pixel they are associated with. "
   ]
  },
  {
   "cell_type": "code",
   "execution_count": 23,
   "metadata": {},
   "outputs": [
    {
     "data": {
      "text/plain": [
       "False"
      ]
     },
     "execution_count": 23,
     "metadata": {},
     "output_type": "execute_result"
    }
   ],
   "source": [
    "# first we domonstrate the footprint is not heavy\n",
    "fps[0].isHeavy()"
   ]
  },
  {
   "cell_type": "code",
   "execution_count": 27,
   "metadata": {},
   "outputs": [],
   "source": [
    "# we will make all the footprins heavy at the same time by operating on the footprint set\n",
    "fpset.makeHeavy(calexp.getMaskedImage())\n",
    "# we have to redefine fps\n",
    "fps = fpset.getFootprints()"
   ]
  },
  {
   "cell_type": "code",
   "execution_count": 28,
   "metadata": {},
   "outputs": [
    {
     "data": {
      "text/plain": [
       "True"
      ]
     },
     "execution_count": 28,
     "metadata": {},
     "output_type": "execute_result"
    }
   ],
   "source": [
    "# prove the footprints are now indeed heavy\n",
    "fps[0].isHeavy()"
   ]
  },
  {
   "cell_type": "markdown",
   "metadata": {},
   "source": [
    "The Heavy Footprints know about the maskedImage from the parent calexp, ansd subsequently know about the variance, mask, and image planes from the parent calexp"
   ]
  },
  {
   "cell_type": "code",
   "execution_count": 30,
   "metadata": {},
   "outputs": [
    {
     "data": {
      "text/plain": [
       "array([-9.84372520e+00,  8.15535069e+00,  1.51543646e+01, -2.48465633e+01,\n",
       "       -2.38474941e+01,  1.81515770e+01, -1.84929299e+00,  4.71567116e+01,\n",
       "        7.01557922e+01,  1.91548634e+01,  4.21539383e+01, -1.18469896e+01,\n",
       "        3.21520805e+01,  3.21511536e+01,  3.21502190e+01,  3.51492882e+01,\n",
       "       -1.48427954e+01,  4.15628195e+00, -1.98447018e+01, -1.58456259e+01,\n",
       "        6.21534500e+01,  4.11525192e+01,  4.41515923e+01,  7.11506653e+01,\n",
       "       -3.85026836e+00,  9.14879990e+00, -3.08520737e+01, -3.08423080e+01,\n",
       "        3.41567078e+01, -3.18442116e+01,  3.01548653e+01,  5.71539459e+01,\n",
       "        6.11529541e+01,  7.11520309e+01,  1.07151100e+02,  7.21501694e+01,\n",
       "       -1.18506994e+01,  5.61483650e+01,  2.01474323e+01, -4.38534393e+01,\n",
       "        4.15811348e+00,  2.31571960e+01,  1.01562738e+01,  2.01552944e+01,\n",
       "        3.21543694e+01,  7.01534424e+01,  1.66152512e+02,  1.03151596e+02,\n",
       "        7.41506653e+01,  1.33149734e+02,  3.41488037e+01,  1.21478720e+01,\n",
       "        3.81470032e+01,  4.01460648e+01,  1.71451302e+01, -7.84140825e+00,\n",
       "        1.57674879e-01,  2.11566963e+01,  1.31557751e+01,  1.54854357e-01,\n",
       "        8.71539230e+01,  8.71529541e+01,  1.65152023e+02,  2.11151093e+02,\n",
       "        1.97150162e+02,  8.81492462e+01,  9.91483612e+01, -1.98525658e+01,\n",
       "        1.01465015e+01,  3.21456261e+01, -4.18553123e+01, -4.85618591e+00,\n",
       "        7.15815020e+00,  3.91571732e+01,  4.51562538e+01,  3.01553345e+01,\n",
       "        3.31543503e+01,  6.61534348e+01,  1.36152512e+02,  1.74151596e+02,\n",
       "        1.78150650e+02,  1.75149719e+02,  1.21148804e+02,  5.81478653e+01,\n",
       "        3.41469345e+01,  1.71460629e+01, -1.18548727e+01, -3.28557472e+01,\n",
       "       -2.18566856e+01,  5.15764475e+00, -8.43272805e-01, -6.84419060e+00,\n",
       "        5.31548309e+01,  3.91539078e+01,  6.21529846e+01,  6.31520653e+01,\n",
       "        1.41151062e+02,  1.63150131e+02,  1.80149277e+02,  8.31483536e+01,\n",
       "        2.81474228e+01,  7.14649057e+00,  3.31455574e+01,  2.21446838e+01,\n",
       "       -7.18562546e+01, -8.43720555e-01, -1.08446989e+01,  2.91543789e+01,\n",
       "       -2.18465385e+01,  1.52476728e-01,  7.11515503e+01,  9.71506348e+01,\n",
       "        9.31497040e+01,  8.51487732e+01,  2.61478462e+01,  1.14697540e+00,\n",
       "       -8.53956342e-01,  3.14511061e+00,  3.31442375e+01,  3.31432991e+01,\n",
       "       -4.88451500e+01,  2.51538696e+01,  2.71529484e+01,  2.21520271e+01,\n",
       "        6.91511002e+01,  1.61501789e+01,  4.91492538e+01,  1.51483250e+01,\n",
       "        7.21473923e+01,  1.14646482e+00,  4.91455917e+01, -1.88553391e+01,\n",
       "        1.31437263e+01,  1.15341556e+00, -3.38475037e+01,  3.01515732e+01,\n",
       "        1.11506500e+01,  2.81497231e+01, -2.85120130e+00,  8.81478729e+01,\n",
       "        2.71469440e+01,  1.46012127e-01,  8.14508057e+00, -1.98557911e+01,\n",
       "        2.81520405e+01,  2.81511154e+01, -1.84986770e+00,  9.14920902e+00,\n",
       "       -2.08517189e+01,  8.14735413e+00,  1.14146484e+02, -3.28544388e+01,\n",
       "       -2.48553753e+01, -1.18494043e+01,  5.01496696e+01, -5.85125160e+00,\n",
       "       -4.85217762e+00, -3.78531036e+01,  2.61460285e+01,  6.01450996e+01,\n",
       "        2.51492119e+01, -4.38517151e+01,  1.81473618e+01, -2.88535671e+01,\n",
       "       -1.58544950e+01], dtype=float32)"
      ]
     },
     "execution_count": 30,
     "metadata": {},
     "output_type": "execute_result"
    }
   ],
   "source": [
    "# all of the arrays here will be flattend 1D arrays of pixels from the footprint\n",
    "fps[0].getImageArray()"
   ]
  },
  {
   "cell_type": "code",
   "execution_count": 32,
   "metadata": {},
   "outputs": [
    {
     "data": {
      "text/plain": [
       "array([48, 48, 48, 48, 48, 48, 48, 48, 48, 48, 48, 48, 48, 48, 48, 48, 48,\n",
       "       48, 48, 48, 48, 48, 48, 48, 48, 48, 48, 48, 48, 48, 48, 48, 48, 48,\n",
       "       48, 48, 48, 48, 48, 48, 48, 48, 48, 48, 48, 48, 48, 48, 48, 48, 48,\n",
       "       48, 48, 48, 48, 48, 48, 48, 48, 48, 48, 48, 48, 48, 48, 48, 48, 48,\n",
       "       48, 48, 48, 48, 32, 32, 32, 32, 32, 32, 32, 32, 32, 32, 32, 32, 32,\n",
       "       32, 32, 32, 32, 32, 32, 32, 32, 32, 32, 32, 32, 32, 32, 32, 32, 32,\n",
       "       32, 32, 32, 32, 32, 32, 32, 32, 32, 32, 32, 32, 32, 32, 32, 32, 32,\n",
       "       32, 32, 32, 32, 32, 32, 32, 32, 32, 32, 32, 32, 32, 32, 32, 32, 32,\n",
       "       32, 32, 32, 32, 32, 32, 32, 32, 32, 32, 32, 32, 32, 32, 32, 32, 32,\n",
       "       32, 32, 32, 32, 32, 32, 32, 32, 32, 32, 32, 32], dtype=int32)"
      ]
     },
     "execution_count": 32,
     "metadata": {},
     "output_type": "execute_result"
    }
   ],
   "source": [
    "fps[0].getMaskArray()"
   ]
  },
  {
   "cell_type": "code",
   "execution_count": 35,
   "metadata": {},
   "outputs": [
    {
     "data": {
      "text/plain": [
       "{'BAD': 0,\n",
       " 'CR': 3,\n",
       " 'DETECTED': 5,\n",
       " 'DETECTED_NEGATIVE': 6,\n",
       " 'EDGE': 4,\n",
       " 'INTRP': 2,\n",
       " 'NO_DATA': 8,\n",
       " 'SAT': 1,\n",
       " 'SUSPECT': 7}"
      ]
     },
     "execution_count": 35,
     "metadata": {},
     "output_type": "execute_result"
    }
   ],
   "source": [
    "calexp.getMask().getMaskPlaneDict()"
   ]
  },
  {
   "cell_type": "code",
   "execution_count": 40,
   "metadata": {},
   "outputs": [
    {
     "data": {
      "text/plain": [
       "array([ 811.,  829.,  836.,  796.,  797.,  839.,  819.,  868.,  891.,\n",
       "        840.,  863.,  809.,  853.,  853.,  853.,  856.,  806.,  825.,\n",
       "        801.,  805.,  883.,  862.,  865.,  892.,  817.,  830.,  790.,\n",
       "        790.,  855.,  789.,  851.,  878.,  882.,  892.,  928.,  893.,\n",
       "        809.,  877.,  841.,  777.,  825.,  844.,  831.,  841.,  853.,\n",
       "        891.,  987.,  924.,  895.,  954.,  855.,  833.,  859.,  861.,\n",
       "        838.,  813.,  821.,  842.,  834.,  821.,  908.,  908.,  986.,\n",
       "       1032., 1018.,  909.,  920.,  801.,  831.,  853.,  779.,  816.,\n",
       "        828.,  860.,  866.,  851.,  854.,  887.,  957.,  995.,  999.,\n",
       "        996.,  942.,  879.,  855.,  838.,  809.,  788.,  799.,  826.,\n",
       "        820.,  814.,  874.,  860.,  883.,  884.,  962.,  984., 1001.,\n",
       "        904.,  849.,  828.,  854.,  843.,  749.,  820.,  810.,  850.,\n",
       "        799.,  821.,  892.,  918.,  914.,  906.,  847.,  822.,  820.,\n",
       "        824.,  854.,  854.,  772.,  846.,  848.,  843.,  890.,  837.,\n",
       "        870.,  836.,  893.,  822.,  870.,  802.,  834.,  822.,  787.,\n",
       "        851.,  832.,  849.,  818.,  909.,  848.,  821.,  829.,  801.,\n",
       "        849.,  849.,  819.,  830.,  800.,  829.,  935.,  788.,  796.,\n",
       "        809.,  871.,  815.,  816.,  783.,  847.,  881.,  846.,  777.,\n",
       "        839.,  792.,  805.], dtype=float32)"
      ]
     },
     "execution_count": 40,
     "metadata": {},
     "output_type": "execute_result"
    }
   ],
   "source": [
    "fps[0].getVarianceArray()"
   ]
  },
  {
   "cell_type": "markdown",
   "metadata": {},
   "source": [
    "### TO DO\n",
    "\n",
    "Section on using the noiseReplacer to swap footprints in the calexp out with noise, and insert footprints back into the calexp. Use visualizations here, maybe afwDisplay?"
   ]
  },
  {
   "cell_type": "markdown",
   "metadata": {},
   "source": [
    "### TO DO\n",
    "\n",
    "what happens to footprints after deblending"
   ]
  },
  {
   "cell_type": "markdown",
   "metadata": {},
   "source": [
    "### TO DO \n",
    "\n",
    "Say something about Peaks, and deblending"
   ]
  },
  {
   "cell_type": "markdown",
   "metadata": {},
   "source": [
    "### TO DO\n",
    "\n",
    "single vist vs coadds"
   ]
  },
  {
   "cell_type": "markdown",
   "metadata": {},
   "source": [
    "## Summary\n",
    "\n",
    "Remind the user what they have done, and what they should now be able to do."
   ]
  },
  {
   "cell_type": "code",
   "execution_count": 38,
   "metadata": {},
   "outputs": [
    {
     "data": {
      "text/plain": [
       "32"
      ]
     },
     "execution_count": 38,
     "metadata": {},
     "output_type": "execute_result"
    }
   ],
   "source": [
    "2**5"
   ]
  },
  {
   "cell_type": "markdown",
   "metadata": {},
   "source": [
    "You could also point them to a related tutorial or reference source, to help them go further."
   ]
  }
 ],
 "metadata": {
  "celltoolbar": "Slideshow",
  "kernelspec": {
   "display_name": "LSST",
   "language": "python",
   "name": "lsst"
  },
  "language_info": {
   "codemirror_mode": {
    "name": "ipython",
    "version": 3
   },
   "file_extension": ".py",
   "mimetype": "text/x-python",
   "name": "python",
   "nbconvert_exporter": "python",
   "pygments_lexer": "ipython3",
   "version": "3.6.2"
  },
  "livereveal": {
   "scroll": true,
   "start_slideshow_at": "selected"
  }
 },
 "nbformat": 4,
 "nbformat_minor": 2
}
