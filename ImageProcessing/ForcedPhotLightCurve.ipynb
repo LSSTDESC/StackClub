{
 "cells": [
  {
   "cell_type": "markdown",
   "metadata": {},
   "source": [
    "# Forced Photometry Light Curve\n",
    "\n",
    "<br>Owner: **Justin Myles** ([@jtmyles](https://github.com/LSSTScienceCollaborations/StackClub/issues/new?body=@jtmyles))\n",
    "<br>Last Verified to Run: **N/A -- in development**\n",
    "\n",
    "This project addresses issue [#63: HSC Re-run](https://github.com/LSSTScienceCollaborations/StackClub/issues/63)\n",
    "\n",
    "This notebook demonstrates the [LSST Science Piplines data processing tutorial](https://pipelines.lsst.io/) with emphasis on how a given [obs package](https://github.com/lsst/obs_base) works under the hood of the command line tasks. It makes use of the [obs_subaru](https://github.com/lsst/obs_subaru) package to measure a forced photometry light curve for a small patch in the HSC sky in the [ci_hsc](https://github.com/lsst/ci_hsc/) repository. \n",
    "\n",
    "### Learning Objectives:\n",
    "After working through and studying this notebook you should be able to understand how to use the DRP pipeline from image visualization through to a forced photometry light curve. Specific learning objectives include: \n",
    "   1. [configure command-line tasks](https://pipelines.lsst.io/v/w-2018-12/modules/lsst.pipe.base/command-line-task-config-howto.html) for your science case\n",
    "   2. TODO\n",
    "   \n",
    "Other techniques that are demonstrated, but not empasized, in this notebook are\n",
    "   1. Use the `butler` to fetch data\n",
    "   2. Visualize data with the LSST Stack\n",
    "   3. TODO\n",
    "\n",
    "### Logistics\n",
    "This notebook is intended to be runnable on `lsst-lspdev.ncsa.illinois.edu` from a local git clone of https://github.com/LSSTScienceCollaborations/StackClub.\n",
    "\n",
    "\n",
    "## Set Up"
   ]
  },
  {
   "cell_type": "code",
   "execution_count": 28,
   "metadata": {},
   "outputs": [],
   "source": [
    "# TODO imports"
   ]
  },
  {
   "cell_type": "markdown",
   "metadata": {},
   "source": [
    "## Part I: Interacting with data. Introduction to the Butler\n",
    "https://pipelines.lsst.io/getting-started/data-setup.html"
   ]
  },
  {
   "cell_type": "code",
   "execution_count": null,
   "metadata": {},
   "outputs": [],
   "source": [
    "!eups list lsst_distrib"
   ]
  },
  {
   "cell_type": "code",
   "execution_count": null,
   "metadata": {},
   "outputs": [],
   "source": [
    "!mkdir -p DATA"
   ]
  },
  {
   "cell_type": "code",
   "execution_count": null,
   "metadata": {},
   "outputs": [],
   "source": [
    "!pwd"
   ]
  },
  {
   "cell_type": "code",
   "execution_count": null,
   "metadata": {},
   "outputs": [],
   "source": [
    "!setup -j -r /global/u2/j/jmyles/repos/ci_hsc"
   ]
  },
  {
   "cell_type": "code",
   "execution_count": null,
   "metadata": {},
   "outputs": [],
   "source": [
    "!echo \"$CI_HSC_DIR\""
   ]
  },
  {
   "cell_type": "code",
   "execution_count": null,
   "metadata": {},
   "outputs": [],
   "source": [
    "# ingest raw data into Butler repo\n",
    "!ingestImages.py DATA /global/u2/j/jmyles/repos/ci_hsc/raw/*.fits --mode=link"
   ]
  },
  {
   "cell_type": "code",
   "execution_count": null,
   "metadata": {},
   "outputs": [],
   "source": [
    "!installTransmissionCurves.py DATA"
   ]
  },
  {
   "cell_type": "code",
   "execution_count": null,
   "metadata": {},
   "outputs": [],
   "source": [
    "# injest calibration images into Butler repo\n",
    "!ln -s /global/u2/j/jmyles/repos/ci_hsc/CALIB/ DATA/CALIB"
   ]
  },
  {
   "cell_type": "code",
   "execution_count": null,
   "metadata": {},
   "outputs": [],
   "source": [
    "!mkdir -p DATA/ref_cats"
   ]
  },
  {
   "cell_type": "code",
   "execution_count": null,
   "metadata": {},
   "outputs": [],
   "source": [
    "# injest reference catalog into Butler repo\n",
    "!ln -s /global/u2/j/jmyles/repos/ci_hsc/ps1_pv3_3pi_20170110 DATA/ref_cats/ps1_pv3_3pi_20170110"
   ]
  },
  {
   "cell_type": "markdown",
   "metadata": {},
   "source": [
    "# Part 2: Calibrating single frames\n",
    "https://pipelines.lsst.io/getting-started/processccd.html"
   ]
  },
  {
   "cell_type": "code",
   "execution_count": null,
   "metadata": {},
   "outputs": [],
   "source": [
    "# review what data will be processed\n",
    "!processCcd.py DATA --rerun processCcdOutputs --id --show data\n",
    "# id allows you to select data by data ID\n",
    "# unspecified id selects all raw data\n",
    "# example IDs: raw, filter, visit, ccd, field\n",
    "# show data turns on dry-run mode"
   ]
  },
  {
   "cell_type": "code",
   "execution_count": null,
   "metadata": {},
   "outputs": [],
   "source": [
    "!which processCcd.py"
   ]
  },
  {
   "cell_type": "code",
   "execution_count": null,
   "metadata": {},
   "outputs": [],
   "source": [
    "!processCcd.py DATA --rerun processCcdOutputs --id\n",
    "# all cl tasks write output datasets to a Butler repo\n",
    "# --rerun configured to write to processCcdOutputs\n",
    "# other option is --output"
   ]
  },
  {
   "cell_type": "markdown",
   "metadata": {},
   "source": [
    "# Part 3: Displaying exposures and source tables output by processCcd.py\n",
    "https://pipelines.lsst.io/getting-started/display.html\n",
    "\n",
    "This part of the tutorial is omitted for now."
   ]
  },
  {
   "cell_type": "markdown",
   "metadata": {},
   "source": [
    "# Part 4: Coadding images\n",
    "https://pipelines.lsst.io/getting-started/coaddition.html"
   ]
  },
  {
   "cell_type": "markdown",
   "metadata": {},
   "source": [
    "* A sky map is a tiling of the celestial sphere. It is composed of one or more tracts.\n",
    "* A tract is composed of one or more overlapping patches. Each tract has a WCS."
   ]
  },
  {
   "cell_type": "code",
   "execution_count": null,
   "metadata": {},
   "outputs": [],
   "source": [
    "# make a discrete sky map that covers the exposures that have already been processed\n",
    "!makeDiscreteSkyMap.py DATA --id --rerun processCcdOutputs:coadd --config skyMap.projection=\"TAN\"\n",
    "\n",
    "# the configuration field specifies the WCS Projection\n",
    "# one of the FITS WCS projection codes, such as:\n",
    "#           - STG: stereographic projection\n",
    "#           - MOL: Molleweide's projection\n",
    "#           - TAN: tangent-plane projection"
   ]
  }
 ],
 "metadata": {
  "kernelspec": {
   "display_name": "desc-stack",
   "language": "python",
   "name": "desc-stack"
  },
  "language_info": {
   "codemirror_mode": {
    "name": "ipython",
    "version": 3
   },
   "file_extension": ".py",
   "mimetype": "text/x-python",
   "name": "python",
   "nbconvert_exporter": "python",
   "pygments_lexer": "ipython3",
   "version": "3.6.2"
  }
 },
 "nbformat": 4,
 "nbformat_minor": 2
}
