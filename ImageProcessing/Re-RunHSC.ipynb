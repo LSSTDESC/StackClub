{
 "cells": [
  {
   "cell_type": "markdown",
   "metadata": {},
   "source": [
    "# HSC Re-Run: Making Forced Photometry Light Curves from Scratch\n",
    "\n",
    "<br>Owners: **Justin Myles** ([@jtmyles](https://github.com/LSSTScienceCollaborations/StackClub/issues/new?body=@jtmyles)), **Phil Marshall** ([@drphilmarshall](https://github.com/LSSTScienceCollaborations/StackClub/issues/new?body=@drphilmarshall))\n",
    "<br>Last Verified to Run: **2018-08-10**\n",
    "<br>Verified Stack Release: **16.0**\n",
    "\n",
    "This project addresses issue [#63: HSC Re-run](https://github.com/LSSTScienceCollaborations/StackClub/issues/63)\n",
    "\n",
    "This notebook demonstrates the pipeline described in the [LSST Science Piplines data processing tutorial](https://pipelines.lsst.io/), from ingesting images (using the [obs_subaru](https://github.com/lsst/obs_subaru) package) through image processing, coaddition, source detection and object measurement all the way through to measuring forced photometry light curves in a small patch of the HSC sky (in the [ci_hsc](https://github.com/lsst/ci_hsc/) repository). It does this by calling a `bash` script, having first identified a minimal data set for demonstration purposes.  \n",
    "\n",
    "### Learning Objectives:\n",
    "After working through and studying this notebook you should be able to understand how to use the DRP pipeline from image visualization through to a forced photometry light curve. Specific learning objectives include: \n",
    "   1. [Configuring](https://pipelines.lsst.io/v/w-2018-12/modules/lsst.pipe.base/command-line-task-config-howto.html) and executing pipeline command line tasks.\n",
    "   2. The sequence of steps involved in the DRP pipeline.\n",
    "   \n",
    "Other techniques that are demonstrated, but not emphasized, in this notebook are\n",
    "   1. Using the `butler` to fetch data\n",
    "   2. Visualizing data with the LSST Stack\n",
    "\n",
    "### Logistics\n",
    "This notebook is intended to be runnable on `lsst-lspdev.ncsa.illinois.edu` from a local git clone of https://github.com/LSSTScienceCollaborations/StackClub.\n",
    "\n",
    "\n",
    "## Set Up"
   ]
  },
  {
   "cell_type": "code",
   "execution_count": null,
   "metadata": {},
   "outputs": [],
   "source": [
    "import os\n",
    "# os.system(\"eups list lsst_distrib\") #todo\n",
    "import sys\n",
    "import matplotlib.pyplot as plt\n",
    "%matplotlib inline\n",
    "# import eups.setupcmd"
   ]
  },
  {
   "cell_type": "markdown",
   "metadata": {},
   "source": [
    "## A Minimal Test Dataset\n",
    "We'll use the `ci_hsc` test dataset, and reprocess just enough of it to make a 5-point i-band light curve. This means choosing a single sky patch, and finding just the visits that lie within it. Jim Bosch shows how to do this in [this community.lsst.org post](https://community.lsst.org/t/visualizing-source-images-in-a-coadd/441/2), given a coadd image. Our problem is that the `ci_hsc` repo doesn't contain any coadds, until we make them...  So perhaps we need to work from the HSC dataset instead? or run the script, then interrogate the coadds it makes, then go back and \n"
   ]
  },
  {
   "cell_type": "markdown",
   "metadata": {},
   "source": [
    "## Pipeline Preview\n",
    "\n",
    "The pipeline described in the [LSST Science Piplines data processing tutorial](https://pipelines.lsst.io/) contains a complete set of command line tasks that can be assembled into an end-to-end data reduction pipeline script. Let's see what this script looks like."
   ]
  },
  {
   "cell_type": "code",
   "execution_count": null,
   "metadata": {},
   "outputs": [],
   "source": [
    "! cat Re-RunHSC.sh"
   ]
  },
  {
   "cell_type": "markdown",
   "metadata": {},
   "source": [
    "We'll come back to each step in turn throughout the rest of this notebook."
   ]
  },
  {
   "cell_type": "markdown",
   "metadata": {},
   "source": [
    "## Part I: Interacting with data. Introduction to the Butler\n",
    "https://pipelines.lsst.io/getting-started/data-setup.html\n",
    "\n",
    "Part I runs the following command-line tasks\n",
    "```\n",
    "eups list lsst_distrib\n",
    "setup -j -r /home/jmyles/repositories/ci_hsc\n",
    "echo \"lsst.obs.hsc.HscMapper\" > /home/jmyles/DATA/_mapper\n",
    "ingestImages.py /home/jmyles/DATA /home/jmyles/repositories/ci_hsc/raw/*.fits --mode=link\n",
    "ln -s /home/jmyles/repositories/ci_hsc/CALIB/ /home/jmyles/DATA/CALIB\n",
    "installTransmissionCurves.py /home/jmyles/DATA\n",
    "mkdir -p /home/jmyles/DATA/ref_cats\n",
    "ln -s /home/jmyles/repositories/ci_hsc/ps1_pv3_3pi_20170110 /home/jmyles/DATA/ref_cats/ps1_pv3_3pi_20170110\n",
    "```"
   ]
  },
  {
   "cell_type": "code",
   "execution_count": null,
   "metadata": {},
   "outputs": [],
   "source": [
    "HOME = os.environ['HOME']\n",
    "DATAREPO = \"{}/repositories/ci_hsc/\".format(HOME)\n",
    "DATADIR = \"{}/DATA/\".format(HOME)\n",
    "os.system(\"mkdir -p {}\".format(DATADIR));"
   ]
  },
  {
   "cell_type": "code",
   "execution_count": null,
   "metadata": {},
   "outputs": [],
   "source": [
    "#!setup -j -r /home/jmyles/repositories/ci_hsc\n",
    "\n",
    "setup = eups.setupcmd.EupsSetup([\"-j\",\"-r\", DATAREPO])\n",
    "status = setup.run()\n",
    "print('setup exited with status {}'.format(status))"
   ]
  },
  {
   "cell_type": "markdown",
   "metadata": {},
   "source": [
    "A Butler needs a *mapper* file \"to find and organize data in a format specific to each camera.\" We write this file to the data repository so that any instantiated Butler object knows which mapper to use."
   ]
  },
  {
   "cell_type": "code",
   "execution_count": null,
   "metadata": {},
   "outputs": [],
   "source": [
    "with open(DATADIR + \"_mapper\", \"w\") as f:\n",
    "    f.write(\"lsst.obs.hsc.HscMapper\")"
   ]
  },
  {
   "cell_type": "code",
   "execution_count": null,
   "metadata": {},
   "outputs": [],
   "source": [
    "# ingest script\n",
    "!ingestImages.py DATADIR /home/jmyles/repositories/ci_hsc/raw/*.fits --mode=link"
   ]
  },
  {
   "cell_type": "code",
   "execution_count": null,
   "metadata": {},
   "outputs": [],
   "source": [
    "#!installTransmissionCurves.py /home/jmyles/DATA\n",
    "\n",
    "from lsst.obs.hsc import makeTransmissionCurves, HscMapper\n",
    "from lsst.daf.persistence import Butler\n",
    "\n",
    "butler = Butler(outputs={'root': datadir, 'mode': 'rw', 'mapper': HscMapper})\n",
    "\n",
    "for start, nested in makeTransmissionCurves.getFilterTransmission().items():\n",
    "    for name, curve in nested.items():\n",
    "        if curve is not None:\n",
    "            butler.put(curve, \"transmission_filter\", filter=name)\n",
    "for start, nested in makeTransmissionCurves.getSensorTransmission().items():\n",
    "    for ccd, curve in nested.items():\n",
    "        if curve is not None:\n",
    "            butler.put(curve, \"transmission_sensor\", ccd=ccd)\n",
    "for start, curve in makeTransmissionCurves.getOpticsTransmission().items():\n",
    "    if curve is not None:\n",
    "        butler.put(curve, \"transmission_optics\")\n",
    "for start, curve in makeTransmissionCurves.getAtmosphereTransmission().items():\n",
    "    if curve is not None:\n",
    "        butler.put(curve, \"transmission_atmosphere\")"
   ]
  },
  {
   "cell_type": "code",
   "execution_count": null,
   "metadata": {},
   "outputs": [],
   "source": [
    "# ingest calibration images into Butler repo\n",
    "os.system(\"ln -s {} {}\".format(datarepo + \"CALIB/\", datadir + \"CALIB\"))\n",
    "\n",
    "# ingest reference catalog into Butler repo\n",
    "os.system(\"mkdir -p {}\".format(DATADIR + \"ref_cats\"))\n",
    "os.system(\"ln -s {}ps1_pv3_3pi_20170110 {}ref_cats/ps1_pv3_3pi_20170110\".format(DATAREPO, DATADIR))"
   ]
  },
  {
   "cell_type": "markdown",
   "metadata": {},
   "source": [
    "## Part 2: Calibrating single frames\n",
    "https://pipelines.lsst.io/getting-started/processccd.html"
   ]
  },
  {
   "cell_type": "code",
   "execution_count": null,
   "metadata": {},
   "outputs": [],
   "source": [
    "\"\"\"\n",
    "!processCcd.py DATA --rerun processCcdOutputs --id\n",
    "# all cl tasks write output datasets to a Butler repo\n",
    "# --rerun configured to write to processCcdOutputs\n",
    "# other option is --output\n",
    "\"\"\""
   ]
  },
  {
   "cell_type": "code",
   "execution_count": null,
   "metadata": {},
   "outputs": [],
   "source": [
    "!which processCcd.py\n",
    "\"\"\"\n",
    "processCcd.py\n",
    "from lsst.pipe.tasks.processCcd import ProcessCcdTask\n",
    "\n",
    "ProcessCcdTask.parseAndRun()\n",
    "\"\"\""
   ]
  },
  {
   "cell_type": "code",
   "execution_count": null,
   "metadata": {},
   "outputs": [],
   "source": [
    "# show source of lsst.pipe.tasks.processCcd\n",
    "# emacs /opt/lsst/software/stack/stack/miniconda3-4.3.21-10a4fa6/Linux64/pipe_tasks/16.0+1/python/lsst/pipe/tasks/processCcd.py\n"
   ]
  },
  {
   "cell_type": "code",
   "execution_count": null,
   "metadata": {},
   "outputs": [],
   "source": [
    "from lsst.pipe.tasks.processCcd import ProcessCcdTask, ProcessCcdConfig\n",
    "processCcdTaskInstance = ProcessCcdTask(butler=butler)"
   ]
  },
  {
   "cell_type": "code",
   "execution_count": null,
   "metadata": {},
   "outputs": [],
   "source": [
    "from stackclub import where_is\n",
    "where_is(processCcdTaskInstance, in_the=\"source\")"
   ]
  },
  {
   "cell_type": "code",
   "execution_count": null,
   "metadata": {},
   "outputs": [],
   "source": [
    "processCcdConfig = ProcessCcdConfig()"
   ]
  },
  {
   "cell_type": "code",
   "execution_count": null,
   "metadata": {},
   "outputs": [],
   "source": [
    "\"\"\"\n",
    "# review what data will be processed\n",
    "!processCcd.py DATA --rerun processCcdOutputs --id --show data\n",
    "# id allows you to select data by data ID\n",
    "# unspecified id selects all raw data\n",
    "# example IDs: raw, filter, visit, ccd, field\n",
    "# show data turns on dry-run mode\n",
    "\"\"\""
   ]
  },
  {
   "cell_type": "code",
   "execution_count": null,
   "metadata": {},
   "outputs": [],
   "source": [
    "#!which processCcd.py"
   ]
  },
  {
   "cell_type": "markdown",
   "metadata": {},
   "source": [
    "# Part 3: Displaying exposures and source tables output by processCcd.py\n",
    "https://pipelines.lsst.io/getting-started/display.html\n",
    "\n",
    "This part of the tutorial is omitted for now."
   ]
  },
  {
   "cell_type": "markdown",
   "metadata": {},
   "source": [
    "# Part 4: Coadding images\n",
    "https://pipelines.lsst.io/getting-started/coaddition.html"
   ]
  },
  {
   "cell_type": "markdown",
   "metadata": {},
   "source": [
    "* A sky map is a tiling of the celestial sphere. It is composed of one or more tracts.\n",
    "* A tract is composed of one or more overlapping patches. Each tract has a WCS."
   ]
  },
  {
   "cell_type": "code",
   "execution_count": null,
   "metadata": {},
   "outputs": [],
   "source": [
    "\"\"\"# make a discrete sky map that covers the exposures that have already been processed\n",
    "!makeDiscreteSkyMap.py DATA --id --rerun processCcdOutputs:coadd --config skyMap.projection=\"TAN\"\n",
    "\n",
    "# the configuration field specifies the WCS Projection\n",
    "# one of the FITS WCS projection codes, such as:\n",
    "#           - STG: stereographic projection\n",
    "#           - MOL: Molleweide's projection\n",
    "#           - TAN: tangent-plane projection\n",
    "\"\"\""
   ]
  },
  {
   "cell_type": "markdown",
   "metadata": {},
   "source": [
    "# Part 6: Multi-band catalog analysis\n",
    "https://pipelines.lsst.io/getting-started/multiband-analysis.html"
   ]
  },
  {
   "cell_type": "code",
   "execution_count": null,
   "metadata": {},
   "outputs": [],
   "source": [
    "import os\n",
    "import lsst.daf.persistence as dafPersist\n",
    "butler = dafPersist.Butler(inputs=DATADIR + 'rerun/coaddForcedPhot/')"
   ]
  },
  {
   "cell_type": "markdown",
   "metadata": {},
   "source": [
    "Access the sources identified from the coadd images"
   ]
  },
  {
   "cell_type": "code",
   "execution_count": null,
   "metadata": {},
   "outputs": [],
   "source": [
    "rSources = butler.get('deepCoadd_forced_src', {'filter': 'HSC-R', 'tract': 0, 'patch': '1,1'})\n",
    "iSources = butler.get('deepCoadd_forced_src', {'filter': 'HSC-I', 'tract': 0, 'patch': '1,1'})"
   ]
  },
  {
   "cell_type": "markdown",
   "metadata": {},
   "source": [
    "Throw out negative fluxes, and convert fluxes to magnitudes."
   ]
  },
  {
   "cell_type": "code",
   "execution_count": null,
   "metadata": {},
   "outputs": [],
   "source": [
    "rCoaddCalib = butler.get('deepCoadd_calexp_calib',  {'filter': 'HSC-R', 'tract': 0, 'patch': '1,1'})\n",
    "iCoaddCalib = butler.get('deepCoadd_calexp_calib',  {'filter': 'HSC-I', 'tract': 0, 'patch': '1,1'})\n",
    "\n",
    "rCoaddCalib.setThrowOnNegativeFlux(False)\n",
    "iCoaddCalib.setThrowOnNegativeFlux(False)\n",
    "\n",
    "rMags = rCoaddCalib.getMagnitude(rSources['base_PsfFlux_flux'])\n",
    "iMags = iCoaddCalib.getMagnitude(iSources['base_PsfFlux_flux'])"
   ]
  },
  {
   "cell_type": "markdown",
   "metadata": {},
   "source": [
    "Select stars from catalog"
   ]
  },
  {
   "cell_type": "code",
   "execution_count": null,
   "metadata": {},
   "outputs": [],
   "source": [
    "deblended = rSources['deblend_nChild'] == 0\n",
    "\n",
    "refTable = butler.get('deepCoadd_ref', {'filter': 'HSC-R^HSC-I', 'tract': 0, 'patch': '1,1'})\n",
    "inInnerRegions = refTable['detect_isPatchInner'] & refTable['detect_isTractInner'] # define inner regions\n",
    "isSkyObject = refTable['merge_peak_sky'] # reject sky objects\n",
    "isPrimary = refTable['detect_isPrimary']\n",
    "\n",
    "isStellar = iSources['base_ClassificationExtendedness_value'] < 1.\n",
    "isGoodFlux = ~iSources['base_PsfFlux_flag']\n",
    "selected = isPrimary & isStellar & isGoodFlux"
   ]
  },
  {
   "cell_type": "markdown",
   "metadata": {},
   "source": [
    "Make color-magnitude diagram."
   ]
  },
  {
   "cell_type": "code",
   "execution_count": null,
   "metadata": {},
   "outputs": [],
   "source": [
    "plt.style.use('seaborn-notebook')\n",
    "plt.figure(1, figsize=(4, 4), dpi=140)\n",
    "plt.scatter(rMags[selected] - iMags[selected],\n",
    "                        iMags[selected],\n",
    "                        edgecolors='None', s=2, c='k')\n",
    "plt.xlim(-0.5, 3)\n",
    "plt.ylim(25, 14)\n",
    "plt.xlabel('$r-i$')\n",
    "plt.ylabel('$i$')\n",
    "plt.subplots_adjust(left=0.125, bottom=0.1)\n",
    "plt.show()"
   ]
  }
 ],
 "metadata": {
  "kernelspec": {
   "display_name": "LSST",
   "language": "python",
   "name": "lsst"
  },
  "language_info": {
   "codemirror_mode": {
    "name": "ipython",
    "version": 3
   },
   "file_extension": ".py",
   "mimetype": "text/x-python",
   "name": "python",
   "nbconvert_exporter": "python",
   "pygments_lexer": "ipython3",
   "version": "3.6.2"
  }
 },
 "nbformat": 4,
 "nbformat_minor": 2
}
