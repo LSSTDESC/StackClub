{
 "cells": [
  {
   "cell_type": "markdown",
   "metadata": {
    "slideshow": {
     "slide_type": "slide"
    }
   },
   "source": [
    "# Hello World\n",
    "\n",
    "<br>Owner(s): **Phil Marshall** ([@drphilmarshall](https://github.com/LSSTScienceCollaborations/StackClub/issues/new?body=@drphilmarshall)), **Greg Madejski** ([@Madejski](https://github.com/LSSTScienceCollaborations/StackClub/issues/new?body=@Madejski))\n",
    "<br>Last Verified to Run: **2018-08-05**\n",
    "<br>Verified Stack Release: **16.0**\n",
    "\n",
    "### Learning Objectives:\n",
    "\n",
    "After working through this tutorial you should be able to: \n",
    "1. Edit a notebook in the `jupyterlab` environment \n",
    "2. Commit and push those changes back to a development branch, learning the Stack Club `git`/GitHub workflow.\n",
    "\n",
    "### Logistics\n",
    "This notebook is intended to be runnable on `lsst-lspdev.ncsa.illinois.edu` from a local git clone of https://github.com/LSSTScienceCollaborations/StackClub.\n",
    "\n",
    "## Set-up"
   ]
  },
  {
   "cell_type": "markdown",
   "metadata": {
    "slideshow": {
     "slide_type": "subslide"
    }
   },
   "source": [
    "If you have not yet started an instance of JupyterLab on the LSST Science Platform and cloned the StackClub repo into the `notebooks` folder, please follow the \"Getting Started\" instructions [here](https://github.com/LSSTScienceCollaborations/StackClub/blob/master/GettingStarted.md).\n",
    "\n",
    "When logging into JupyterLab, you'll be asked which \"image\" (i.e. stack version) you want to run, and what \"size\" server you want. You should choose the most recent \"Release\" rather than a weekly or daily (unless you have a good reason), and a \"medium\" size server. \n",
    "\n",
    "Once in JupyterLab, start a terminal via the Launcher (go to the menu on top, \"File\" > \"New Launcher\"), and `cd notebooks/StackClub`. Then, before running or editing any of the notebooks, make sure you are in a development branch.  You can make a new one with, for example,\n",
    "\n",
    "```bash \n",
    "git checkout -b issue#11-hello-world-gmm\n",
    "```\n",
    "The argument of this `git checkout -b` command will be different for you, depending on what you are going to work on - you can name your local branch whatever you like. For this tutorial, you should replace \"gmm\" with your initials, or your GitHub username, to show that its the branch you've been working on.\n",
    "\n",
    "> You might need to make sure to check for the existence of a development branch.  If you issue the command and the branch exists, you will get a message like \"fatal: A branch named`issue#11_hello-world-gmm` already exists.\" Use `git branch` to see your available local branches, and `git pull` to track all remote branches.\n",
    "\n",
    "> Also please make sure that you are using the correct version of python (\"LSST\");  this might be obvious to some, but editing / running the same notebook with different versions of python can cause problems.  "
   ]
  },
  {
   "cell_type": "markdown",
   "metadata": {
    "slideshow": {
     "slide_type": "slide"
    }
   },
   "source": [
    "## Editing this Notebook\n",
    "\n",
    "Here is an example task for _real_ newbies:  add a single code or markdown cell below, with a suitable message for the ages, including some sort of signature. This will make you famous.\n",
    "\n",
    "You edit a notebook \"entry by entry\" or more correctly \"cell by cell.\"  To start editing an entry, step to it - a blue bar will appear on the left of the entry.  Cells can be \"Markdown\" (like this one), \"Raw\", or \"Code\" (executable python).  "
   ]
  },
  {
   "cell_type": "code",
   "execution_count": null,
   "metadata": {
    "slideshow": {
     "slide_type": "-"
    }
   },
   "outputs": [],
   "source": [
    "# PJM: I like to write python code:\n",
    "print(\"Hello World\")"
   ]
  },
  {
   "cell_type": "markdown",
   "metadata": {
    "slideshow": {
     "slide_type": "slide"
    }
   },
   "source": [
    "## Contributing Your Work\n",
    "Now that you have improved this Notebook, you need to ask for your work to be included into the Stack Club library of community tutorials. Here's the recommended workflow:\n",
    "\n",
    "1. Check that this notebook runs without errors and clean out the outputs. \n",
    "2. Commit your changes to a development branch\n",
    "3. Push your commits to a branch of the same name to the origin repo at GitHub.com\n",
    "4. On the GitHub web interface, submit a Pull Request to the `master` branch"
   ]
  },
  {
   "cell_type": "markdown",
   "metadata": {
    "slideshow": {
     "slide_type": "slide"
    }
   },
   "source": [
    "### 1. Checking the Notebook\n",
    "\n",
    "From the menu bar, do:\n",
    "```\n",
    "Kernel -> Restart and Run All Cells\n",
    "```\n",
    "Then, if that worked OK, clean up the Notebook with\n",
    "```\n",
    "Kernel -> Restart and Clear All Outputs\n",
    "```\n",
    "The Notebook is now ready to commit.  Hit \"save\" in the notebook editor to make sure your edits are captured.  \n",
    "\n",
    "> Clearing outputs before committing is quite important: we do it in order to a) avoid checking in large files (the notebooks can get quite big when they include figures etc), and b) make it easier for multiple people to work on them (the output cells are often large and contain very long strings, making it hard for `git` to merge the files cleanly)."
   ]
  },
  {
   "cell_type": "markdown",
   "metadata": {
    "slideshow": {
     "slide_type": "slide"
    }
   },
   "source": [
    "### 2. Committing Your Changes\n",
    "\n",
    "Just in case, make sure you are on a development branch with a `git status` in the terminal tab. \n",
    "If not, make one with something like this:\n",
    "```bash\n",
    "git checkout -b issue#11_Hello_World_gmm\n",
    "```\n",
    "\n",
    "You may not be responding to an issue, so might want to name your branch differently. Here's an example history:\n",
    "```bash\n",
    "[drphilmarshall@jld-lab-drphilmarshall-r150 StackClub]$ git checkout -b issue#11_Hello_World_gmm\n",
    "M       notebooks/Hello_World.ipynb\n",
    "Switched to a new branch 'issue#11_Hello_World_gmm'\n",
    "[drphilmarshall@jld-lab-drphilmarshall-r150 StackClub]$ git status\n",
    "On branch issue#11_Hello_World_gmm\n",
    "Changes not staged for commit:\n",
    "  (use \"git add <file>...\" to update what will be committed)\n",
    "  (use \"git checkout -- <file>...\" to discard changes in working directory)\n",
    "\n",
    "        modified:   notebooks/Hello_World.ipynb\n",
    "\n",
    "no changes added to commit (use \"git add\" and/or \"git commit -a\")\n",
    "```\n",
    "Now you are ready to commit, like this:\n",
    "```bash\n",
    "[drphilmarshall@jld-lab-drphilmarshall-r150 StackClub]$ git commit -am \"Notes on how to edit the Notebook\"\n",
    "[issue/11/hello-world-pjm 140240c] Notes on how to edit the Notebook\n",
    " 1 file changed, 193 insertions(+), 250 deletions(-)\n",
    " rewrite notebooks/Hello_World.ipynb (63%)\n",
    "```"
   ]
  },
  {
   "cell_type": "markdown",
   "metadata": {
    "slideshow": {
     "slide_type": "slide"
    }
   },
   "source": [
    "### 3. Pushing Your Commits\n",
    "Push to a corresponding branch on GitHub. Stack Club members have Write access to the base repo, so can push there. Others, you'll need to first _fork_ the StackClub repo (using the GitHub web interface), and then push to your fork. Here's an example history for an earlier version of a \"Hello-world\" notebook:\n",
    "```bash\n",
    "[drphilmarshall@jld-lab-drphilmarshall-r150 StackClub]$ git push origin issue/11/hello-world-pjm\n",
    "Counting objects: 4, done.\n",
    "Delta compression using up to 2 threads.\n",
    "Compressing objects: 100% (3/3), done.\n",
    "Writing objects: 100% (4/4), 2.03 KiB | 0 bytes/s, done.\n",
    "Total 4 (delta 1), reused 0 (delta 0)\n",
    "remote: Resolving deltas: 100% (1/1), completed with 1 local object.\n",
    "To github.com:LSSTScienceCollaborations/StackClub.git\n",
    " * [new branch]      issue/11/hello-world-pjm -> issue/11/hello-world-pjm\n",
    "```"
   ]
  },
  {
   "cell_type": "markdown",
   "metadata": {
    "slideshow": {
     "slide_type": "slide"
    }
   },
   "source": [
    "### 4. Submitting a Pull Request\n",
    "Use the `GitHub` web interface to submit a pull request. If you have never done this before, you can have Phil talk you through it slowly on YouTube [here](https://www.youtube.com/watch?v=2g9lsbJBPEs&t=1499s). The `master` branch is protected, to a) make sure we review our code and b) enable continuous integration and testing - you all changes have to come in via pull requests, which need to be approved by a reviewer (someone else in the Stack Club) before they are merged.\n",
    "\n",
    "> Don't forget, when you click the big green \"Submit Pull Request\" button, it will send an email to everyone watching the repo (as well as anyone else you mention). It's your chance to ask for club code review, so make sure the PR title (email subject line) and comment (email body) are well-formed."
   ]
  },
  {
   "cell_type": "markdown",
   "metadata": {},
   "source": [
    "## Further Edits to this Notebook\n",
    "\n",
    "Here's where you should make your mark. Have fun!"
   ]
  },
  {
   "cell_type": "code",
   "execution_count": null,
   "metadata": {},
   "outputs": [],
   "source": [
    "! echo \"Phil was here!\""
   ]
  },
  {
   "cell_type": "code",
   "execution_count": null,
   "metadata": {},
   "outputs": [],
   "source": [
    "! echo \"Alex was here\""
   ]
  },
  {
   "cell_type": "code",
   "execution_count": null,
   "metadata": {},
   "outputs": [],
   "source": [
    "print (\"Greg was here and edited some more and inserted some questions\")"
   ]
  },
  {
   "cell_type": "code",
   "execution_count": null,
   "metadata": {},
   "outputs": [],
   "source": [
    "print(\"Brant was here, thanks Phil, Alex, and Greg.\")"
   ]
  }
 ],
 "metadata": {
  "celltoolbar": "Slideshow",
  "kernelspec": {
   "display_name": "LSST",
   "language": "python",
   "name": "lsst"
  },
  "language_info": {
   "codemirror_mode": {
    "name": "ipython",
    "version": 3
   },
   "file_extension": ".py",
   "mimetype": "text/x-python",
   "name": "python",
   "nbconvert_exporter": "python",
   "pygments_lexer": "ipython3",
   "version": "3.6.2"
  },
  "livereveal": {
   "scroll": true,
   "start_slideshow_at": "selected"
  }
 },
 "nbformat": 4,
 "nbformat_minor": 2
}
