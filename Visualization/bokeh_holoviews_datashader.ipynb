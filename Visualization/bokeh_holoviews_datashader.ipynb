{
 "cells": [
  {
   "cell_type": "markdown",
   "metadata": {},
   "source": [
    "# Interactive Visualization with Bokeh, HoloViews, and Datashader\n",
    "\n",
    "<br>Owner: **Keith Bechtol** ([@bechtol](https://github.com/LSSTScienceCollaborations/StackClub/issues/new?body=@bechtol))\n",
    "<br>Last Verified to Run: **2018-08-10**\n",
    "<br>Verified Stack Release: **v16.0, w201831**\n",
    "\n",
    "This notebook demonstrates a few of the interactive features of the Bokeh, HoloViews, and Datashader plotting packages in the notebook environment. These packages are part of the [PyViz](http://pyviz.org/) set of python tools intended for visualization use cases in a web browser, and can be used to create quite sophisticated dashboard-like interactive displays and widgets. The goal of this notebook is to provide an introduction and starting point from which to create more advanced, custom interactive visualizations. As a source of inspiration, check out this beautiful [example notebook](https://github.com/timothydmorton/qa_explorer) using HSC data created with the [qa_explorer](https://github.com/timothydmorton/qa_explorer) tools.\n",
    "\n",
    "### Learning Objectives\n",
    "After working through and studying this notebook you should be able to\n",
    "   1. Use `bokeh` to create interactive figures with brushing and linking between multiple plots\n",
    "   2. Use `holoviews` and `datashader` to create two-dimensional histograms with dynamic binning to efficiently explore large datasets   \n",
    "\n",
    "Other techniques that are demonstrated, but not empasized, in this notebook are\n",
    "   1. Use `parquet` to efficiently access large amounts of data\n",
    "\n",
    "### Logistics\n",
    "This notebook is intended to be runnable on `lsst-lspdev.ncsa.illinois.edu` from a local git clone of https://github.com/LSSTScienceCollaborations/StackClub."
   ]
  },
  {
   "cell_type": "markdown",
   "metadata": {},
   "source": [
    "## Setup\n",
    "You can find the Stack version by using `eups list -s` on the terminal command line."
   ]
  },
  {
   "cell_type": "code",
   "execution_count": null,
   "metadata": {},
   "outputs": [],
   "source": [
    "# What version of the Stack am I using?\n",
    "! echo $HOSTNAME\n",
    "! eups list -s | grep lsst_distrib"
   ]
  },
  {
   "cell_type": "code",
   "execution_count": null,
   "metadata": {},
   "outputs": [],
   "source": [
    "import numpy as np\n",
    "import astropy.io.fits as pyfits\n",
    "\n",
    "import bokeh\n",
    "from bokeh.io import output_file, output_notebook, show\n",
    "from bokeh.layouts import gridplot\n",
    "from bokeh.models import ColumnDataSource, Range1d, HoverTool, Selection\n",
    "from bokeh.plotting import figure, output_file\n",
    "\n",
    "import holoviews as hv\n",
    "from holoviews import streams\n",
    "from holoviews.operation.datashader import datashade, dynspread, rasterize\n",
    "hv.extension('bokeh')"
   ]
  },
  {
   "cell_type": "code",
   "execution_count": null,
   "metadata": {},
   "outputs": [],
   "source": [
    "output_notebook()"
   ]
  },
  {
   "cell_type": "markdown",
   "metadata": {},
   "source": [
    "## Prelude: Data Sample\n",
    "\n",
    "The data in the following example comes from the Dark Energy Survey Data Release 1 (DES DR1). The input data for this example obtained with the M2 database query in Appendix C of the [DES DR1 paper](https://arxiv.org/abs/1801.03181) from the [DES Data Release page](https://des.ncsa.illinois.edu/releases/dr1/dr1-access)."
   ]
  },
  {
   "cell_type": "code",
   "execution_count": null,
   "metadata": {},
   "outputs": [],
   "source": [
    "infile = '/project/kbechtol/des/dr1/dr1_m2_dered_test.fits'\n",
    "reader = pyfits.open(infile)\n",
    "data = reader[1].data\n",
    "reader.close()\n",
    "\n",
    "data = data[data['MAG_AUTO_G_DERED'] < 26.]\n",
    "print(len(data))"
   ]
  },
  {
   "cell_type": "markdown",
   "metadata": {},
   "source": [
    "## Part 1: Brushing and linking between scatter plots with Bokeh\n",
    "\n",
    "Based on http://bokeh.pydata.org/en/latest/docs/user_guide/interaction/linking.html#linked-brushing "
   ]
  },
  {
   "cell_type": "code",
   "execution_count": null,
   "metadata": {},
   "outputs": [],
   "source": [
    "ra_target, dec_target = 323.36, -0.82\n",
    "\n",
    "mag = data['MAG_AUTO_G_DERED']\n",
    "color = data['MAG_AUTO_G_DERED'] - data['MAG_AUTO_R_DERED']\n",
    "\n",
    "# create a column data source for the plots to share\n",
    "source = ColumnDataSource(data=dict(x0=data['RA'] - ra_target,\n",
    "                                    y0=data['DEC'] - dec_target,\n",
    "                                    x1=color,\n",
    "                                    y1=mag,\n",
    "                                    ra=data['RA'],\n",
    "                                    dec=data['DEC'],\n",
    "                                    coadd_object_id=data['COADD_OBJECT_ID']))"
   ]
  },
  {
   "cell_type": "code",
   "execution_count": null,
   "metadata": {},
   "outputs": [],
   "source": [
    "# There is a little bit of trickery here to a create custom hover tool on both panels\n",
    "hover_left = HoverTool(tooltips=[(\"(RA,DEC)\", \"(@ra, @dec)\"),\n",
    "                                 (\"(g-r,g)\", \"(@x1, @y1)\"),\n",
    "                                 (\"coadd_object_id\", \"@coadd_object_id\")])\n",
    "hover_right = HoverTool(tooltips=[(\"(RA,DEC)\", \"(@ra, @dec)\"),\n",
    "                                  (\"(g-r,g)\", \"(@x1, @y1)\"),\n",
    "                                  (\"coadd_object_id\", \"@coadd_object_id\")])\n",
    "TOOLS = \"box_zoom,box_select,lasso_select,reset,help\"\n",
    "TOOLS_LEFT = [hover_left, TOOLS]\n",
    "TOOLS_RIGHT = [hover_right, TOOLS]"
   ]
  },
  {
   "cell_type": "code",
   "execution_count": null,
   "metadata": {},
   "outputs": [],
   "source": [
    "width = 300\n",
    "\n",
    "# create a new plot and add a renderer\n",
    "left = figure(tools=TOOLS_LEFT, plot_width=width, plot_height=width, output_backend=\"webgl\",\n",
    "              title='Spatial: Centered on (RA, Dec) = (%.2f, %.2f)'%(ra_target, dec_target))\n",
    "left.circle('x0', 'y0', hover_color='firebrick', source=source,\n",
    "            selection_fill_color='steelblue', selection_line_color='steelblue',\n",
    "            nonselection_fill_color='silver', nonselection_line_color='silver')\n",
    "left.x_range = Range1d(0.3, -0.3)\n",
    "left.y_range = Range1d(-0.3, 0.3)\n",
    "left.xaxis.axis_label = 'Delta RA'\n",
    "left.yaxis.axis_label = 'Delta DEC'\n",
    "\n",
    "# create another new plot and add a renderer\n",
    "right = figure(tools=TOOLS_RIGHT, plot_width=width, plot_height=width, output_backend=\"webgl\",\n",
    "               title='CMD')\n",
    "right.circle('x1', 'y1', hover_color='firebrick', source=source,\n",
    "             selection_fill_color='steelblue', selection_line_color='steelblue',\n",
    "             nonselection_fill_color='silver', nonselection_line_color='silver')\n",
    "right.x_range = Range1d(-0.5, 2.5)\n",
    "right.y_range = Range1d(26., 16.)\n",
    "right.xaxis.axis_label = 'g - r'\n",
    "right.yaxis.axis_label = 'g'\n",
    "\n",
    "p = gridplot([[left, right]])\n",
    "\n",
    "#output_file(\"bokeh_m2_example.html\", title=\"M2 Example\")\n",
    "\n",
    "#selection = streams.Selection1D(source=left)\n",
    "#selection = source.selected\n",
    "#print(selection.indices)\n",
    "#selection = Selection(source=source)\n",
    "\n",
    "# Declare points as source of selection stream\n",
    "selection = streams.Selection1D(source=source)\n",
    "\n",
    "show(p)"
   ]
  },
  {
   "cell_type": "markdown",
   "metadata": {},
   "source": [
    "Use the hover tool to see information about individual datapoints (e.g., the `coadd_object_id`). Notice the data points highlighted in one panel with the hover tool are also highlighted in the other panel. Next, use the selection box and selection lasso to make various selections in either panel. The selected data points will be displayed in the other panel. \n",
    "\n",
    "> Note that the default tool is \"Box Zoom\", not \"Box Select\"! And see the \"Reset\" button - that's useful.\n",
    "\n",
    "**Open Issue:** Bonus for someone can suggest how to access the indices of the selected points!"
   ]
  },
  {
   "cell_type": "code",
   "execution_count": null,
   "metadata": {},
   "outputs": [],
   "source": [
    "selection.index\n",
    "#selection.indices\n",
    "#type(selection)"
   ]
  },
  {
   "cell_type": "code",
   "execution_count": null,
   "metadata": {},
   "outputs": [],
   "source": [
    "s = Selection()\n",
    "s.indices"
   ]
  },
  {
   "cell_type": "markdown",
   "metadata": {},
   "source": [
    "### Experimental Section: Creating the same plot with HoloViews"
   ]
  },
  {
   "cell_type": "code",
   "execution_count": null,
   "metadata": {},
   "outputs": [],
   "source": [
    "%%output size=150\n",
    "%%opts Points [tools=['box_select']]\n",
    "points = hv.Points((data['RA'] - ra_target, data['DEC'] - dec_target))\n",
    "#points = hv.Points(np.random.multivariate_normal((0, 0), [[1, 0.1], [0.1, 1]], (1000,)))\n",
    "\n",
    "# Declare points selection:\n",
    "sel = streams.Selection1D(source=points)\n",
    "\n",
    "#boundsxy = (0, 0, 0, 0)\n",
    "#box = streams.BoundsXY(source=points, bounds=boundsxy)\n",
    "\n",
    "#dynspread(datashade(points, cmap=bokeh.palettes.Viridis256))\n",
    "#datashade(points, cmap=bokeh.palettes.Viridis256)\n",
    "points + points"
   ]
  },
  {
   "cell_type": "code",
   "execution_count": null,
   "metadata": {},
   "outputs": [],
   "source": [
    "len(sel.index)"
   ]
  },
  {
   "cell_type": "code",
   "execution_count": null,
   "metadata": {},
   "outputs": [],
   "source": [
    "# help(hv.Points)"
   ]
  },
  {
   "cell_type": "code",
   "execution_count": null,
   "metadata": {},
   "outputs": [],
   "source": [
    "# Here I had a re-sized hv Points with custom colors for the selection\n",
    "# hv.Points()"
   ]
  },
  {
   "cell_type": "code",
   "execution_count": null,
   "metadata": {},
   "outputs": [],
   "source": [
    "# help(sel)"
   ]
  },
  {
   "cell_type": "code",
   "execution_count": null,
   "metadata": {},
   "outputs": [],
   "source": [
    "# print(sel.index)"
   ]
  },
  {
   "cell_type": "code",
   "execution_count": null,
   "metadata": {},
   "outputs": [],
   "source": [
    "import pandas as pd\n",
    "df = pd.DataFrame.from_records(data)\n",
    "df['x'] = data.RA - ra_target\n",
    "df['y'] = data.DEC - dec_target\n",
    "\n",
    "ds = hv.Dataset(df)#, kdims)"
   ]
  },
  {
   "cell_type": "code",
   "execution_count": null,
   "metadata": {},
   "outputs": [],
   "source": [
    "points_xy = hv.Points((ds.data['x'], ds.data['y']))\n",
    "points_xy"
   ]
  },
  {
   "cell_type": "code",
   "execution_count": null,
   "metadata": {},
   "outputs": [],
   "source": [
    "%%output size=150\n",
    "#%%opts Points [tools=['box_select']]\n",
    "points = hv.Points((data['RA'] - ra_target, data['DEC'] - dec_target))\n",
    "#points = hv.Points(np.random.multivariate_normal((0, 0), [[1, 0.1], [0.1, 1]], (1000,)))\n",
    "\n",
    "# Declare points selection selection\n",
    "sel = streams.Selection1D(source=points)\n",
    "\n",
    "boundsxy = (0, 0, 0, 0)\n",
    "box = streams.BoundsXY(source=points, bounds=boundsxy)\n",
    "bounds = hv.DynamicMap(lambda bounds: hv.Bounds(bounds), streams=[box]) \n",
    "\n",
    "#dynspread(datashade(points, cmap=bokeh.palettes.Viridis256))\n",
    "datashade(points, cmap=bokeh.palettes.Viridis256) * bounds"
   ]
  },
  {
   "cell_type": "code",
   "execution_count": null,
   "metadata": {},
   "outputs": [],
   "source": [
    "box"
   ]
  },
  {
   "cell_type": "code",
   "execution_count": null,
   "metadata": {},
   "outputs": [],
   "source": [
    "selection = (points.data.x > box.bounds[0]) \\\n",
    "    & (points.data.y > box.bounds[1]) \\\n",
    "    & (points.data.x < box.bounds[2]) \\\n",
    "    & (points.data.y < box.bounds[3])\n",
    "np.sum(selection)"
   ]
  },
  {
   "cell_type": "code",
   "execution_count": null,
   "metadata": {},
   "outputs": [],
   "source": [
    "selected_points = points[selection.values]"
   ]
  },
  {
   "cell_type": "code",
   "execution_count": null,
   "metadata": {},
   "outputs": [],
   "source": [
    "len(selected_points)"
   ]
  },
  {
   "cell_type": "code",
   "execution_count": null,
   "metadata": {},
   "outputs": [],
   "source": [
    "selected_points"
   ]
  },
  {
   "cell_type": "markdown",
   "metadata": {},
   "source": [
    "> For more help on selecting points in HoloViews, see the [user guide](http://build.holoviews.org/User_Guide/Indexing_and_Selecting_Data.html)."
   ]
  },
  {
   "cell_type": "markdown",
   "metadata": {},
   "source": [
    "## Intermission: Rapid Data Access with Parquet\n",
    "\n",
    "For the next example, we want to use a much larger dataset. Let's use Gaia Data Release 2 (Gaia DR2). "
   ]
  },
  {
   "cell_type": "code",
   "execution_count": null,
   "metadata": {},
   "outputs": [],
   "source": [
    "import glob\n",
    "import pandas as pd\n",
    "import pyarrow.parquet as pq"
   ]
  },
  {
   "cell_type": "code",
   "execution_count": null,
   "metadata": {},
   "outputs": [],
   "source": [
    "infiles = sorted(glob.glob('/project/shared/data/gaia_dr2_1am/*.parquet'))\n",
    "print(len(infiles))"
   ]
  },
  {
   "cell_type": "code",
   "execution_count": null,
   "metadata": {},
   "outputs": [],
   "source": [
    "%%time\n",
    "df_array = []\n",
    "for ii in range(0, 10):\n",
    "    print(infiles[ii])\n",
    "    columns = ['ra', 'dec', 'phot_g_mean_mag'] # 'phot_g_mean_mag', 'phot_bp_mean_mag', 'phot_rp_mean_mag']\n",
    "    df_array.append(pq.read_table(infiles[ii], columns=columns).to_pandas())\n",
    "df = pd.concat(df_array)"
   ]
  },
  {
   "cell_type": "code",
   "execution_count": null,
   "metadata": {},
   "outputs": [],
   "source": [
    "print('Dataframe contains %.2f M rows'%(len(df) / 1.e6))\n",
    "print(df.columns.values)"
   ]
  },
  {
   "cell_type": "markdown",
   "metadata": {},
   "source": [
    "## Part 2: Visualizing Larger Datasets with Datashader\n",
    "\n",
    "In the examples below, notice that as one zooms in on the datashaded two-dimensional histograms, the bin sizes are dynamically adjusted to show finer or coarer granularity in the distribution. This allows one to interactively explore large datasets without having to manually adjust the bin sizes while panning and zooming. "
   ]
  },
  {
   "cell_type": "code",
   "execution_count": null,
   "metadata": {},
   "outputs": [],
   "source": [
    "%%output size=150\n",
    "#%%opts Points [tools=['box_select']]\n",
    "points = hv.Points((df.ra, df.dec))\n",
    "#points = hv.Points(np.random.multivariate_normal((0, 0), [[1, 0.1], [0.1, 1]], (1000,)))\n",
    "\n",
    "# Declare points selection selection\n",
    "#sel = streams.Selection1D(source=points)\n",
    "\n",
    "boundsxy = (0, 0, 0, 0)\n",
    "box = streams.BoundsXY(source=points, bounds=boundsxy)\n",
    "bounds = hv.DynamicMap(lambda bounds: hv.Bounds(bounds), streams=[box]) \n",
    "\n",
    "#dynspread(datashade(points, cmap=bokeh.palettes.Viridis256))\n",
    "datashade(points, cmap=bokeh.palettes.Viridis256) * bounds"
   ]
  },
  {
   "cell_type": "markdown",
   "metadata": {},
   "source": [
    "Here is a callback example in which we retrieve the indices of the selected points from the plot above. First, use the selection tool to create a selection box for the two-dimensional histogram above. Then run the cell below to count the number of datapoints within the selection region."
   ]
  },
  {
   "cell_type": "code",
   "execution_count": null,
   "metadata": {},
   "outputs": [],
   "source": [
    "selection = (points.data.x > box.bounds[0]) \\\n",
    "    & (points.data.y > box.bounds[1]) \\\n",
    "    & (points.data.x < box.bounds[2]) \\\n",
    "    & (points.data.y < box.bounds[3])\n",
    "print('The selection box contains %i datapoints'%(np.sum(selection)))"
   ]
  },
  {
   "cell_type": "markdown",
   "metadata": {},
   "source": [
    "Now we make a linked plot"
   ]
  },
  {
   "cell_type": "code",
   "execution_count": null,
   "metadata": {},
   "outputs": [],
   "source": [
    "# First, create a holoviews dataset instance\n",
    "kdims = [('ra', 'RA(deg)'), ('dec', 'Dec(deg)')]\n",
    "vdims = [('phot_g_mean_mag', 'G(mag)')]\n",
    "ds = hv.Dataset(df, kdims, vdims)\n",
    "ds"
   ]
  },
  {
   "cell_type": "code",
   "execution_count": null,
   "metadata": {},
   "outputs": [],
   "source": [
    "points = hv.Points(ds)\n",
    "\n",
    "#boundsxy = (0, 0, 0, 0)\n",
    "boundsxy = (np.min(ds.data['ra']), np.min(ds.data['dec']), np.max(ds.data['ra']), np.max(ds.data['dec']))\n",
    "box = streams.BoundsXY(source=points, bounds=boundsxy)\n",
    "box_plot = hv.DynamicMap(lambda bounds: hv.Bounds(bounds), streams=[box])"
   ]
  },
  {
   "cell_type": "code",
   "execution_count": null,
   "metadata": {},
   "outputs": [],
   "source": [
    "def update_histogram(bounds=bounds):\n",
    "    \n",
    "    selection = (ds.data['ra'] > bounds[0]) & \\\n",
    "                (ds.data['dec'] > bounds[1]) & \\\n",
    "                (ds.data['ra'] < bounds[2]) & \\\n",
    "                (ds.data['dec'] < bounds[3])\n",
    "    \n",
    "    selected_mag = ds.data.loc[selection]['phot_g_mean_mag']\n",
    "    \n",
    "    frequencies, edges = np.histogram(selected_mag)\n",
    "    \n",
    "    hist = hv.Histogram((np.log(frequencies), edges))\n",
    "    return hist"
   ]
  },
  {
   "cell_type": "code",
   "execution_count": null,
   "metadata": {},
   "outputs": [],
   "source": [
    "%%output size=150\n",
    "dmap = hv.DynamicMap(update_histogram, streams=[box])\n",
    "datashade(points, cmap=bokeh.palettes.Viridis256) * box_plot + dmap"
   ]
  },
  {
   "cell_type": "markdown",
   "metadata": {},
   "source": [
    "## Part 3: Images"
   ]
  },
  {
   "cell_type": "code",
   "execution_count": null,
   "metadata": {},
   "outputs": [],
   "source": [
    "%%opts Image  [height=600 width=650]\n",
    "#%%output size=200\n",
    "# Adjust size, make viridis colormap\n",
    "               \n",
    "zz = np.random.poisson(100, size=(4000, 4000))\n",
    "xx, yy = np.meshgrid(np.arange(4000), np.arange(4000))\n",
    "zz += xx\n",
    "\n",
    "bounds=(0, 0, 4000, 4000)   # Coordinate system: (left, bottom, top, right)\n",
    "img = hv.Image(zz, bounds=bounds).options(colorbar=True, cmap=bokeh.palettes.Viridis256, logz=True)\n",
    "\n",
    "boundsxy = (0, 0, 0, 0)\n",
    "box = streams.BoundsXY(source=img, bounds=boundsxy)\n",
    "bounds = hv.DynamicMap(lambda bounds: hv.Bounds(bounds), streams=[box])\n",
    "\n",
    "rasterize(img) * bounds\n"
   ]
  },
  {
   "cell_type": "code",
   "execution_count": null,
   "metadata": {},
   "outputs": [],
   "source": [
    "box"
   ]
  },
  {
   "cell_type": "code",
   "execution_count": null,
   "metadata": {},
   "outputs": [],
   "source": [
    "%%opts Points (color='black' marker='x' size=20)\n",
    "closest = img.closest((0.1,0.1))\n",
    "print('The value at position %s is %s' % (closest, img[1000, 1000]))\n",
    "rasterize(img) * hv.Points([img.closest((1000,1000))])"
   ]
  },
  {
   "cell_type": "code",
   "execution_count": null,
   "metadata": {},
   "outputs": [],
   "source": [
    "img.sample(x=0) + img.reduce(x=np.mean)"
   ]
  },
  {
   "cell_type": "code",
   "execution_count": null,
   "metadata": {},
   "outputs": [],
   "source": [
    "#hv.help(hv.Image)"
   ]
  },
  {
   "cell_type": "code",
   "execution_count": null,
   "metadata": {},
   "outputs": [],
   "source": [
    "%output?"
   ]
  },
  {
   "cell_type": "code",
   "execution_count": null,
   "metadata": {},
   "outputs": [],
   "source": []
  }
 ],
 "metadata": {
  "kernelspec": {
   "display_name": "LSST",
   "language": "python",
   "name": "lsst"
  },
  "language_info": {
   "codemirror_mode": {
    "name": "ipython",
    "version": 3
   },
   "file_extension": ".py",
   "mimetype": "text/x-python",
   "name": "python",
   "nbconvert_exporter": "python",
   "pygments_lexer": "ipython3",
   "version": "3.6.2"
  }
 },
 "nbformat": 4,
 "nbformat_minor": 2
}
